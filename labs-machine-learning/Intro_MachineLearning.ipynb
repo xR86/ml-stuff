{
 "cells": [
  {
   "cell_type": "markdown",
   "metadata": {
    "slideshow": {
     "slide_type": "slide"
    }
   },
   "source": [
    "# Data Science Training `#01`"
   ]
  },
  {
   "cell_type": "markdown",
   "metadata": {
    "slideshow": {
     "slide_type": "slide"
    }
   },
   "source": [
    "# Roadmap\n",
    "\n",
    "## 01. What is data science ?\n",
    "## 10. How data science fits into the big picture\n",
    "## 11. Practical data science workflows"
   ]
  },
  {
   "cell_type": "markdown",
   "metadata": {
    "slideshow": {
     "slide_type": "slide"
    }
   },
   "source": [
    "## 01. What is data science ? \n",
    "![](assets/ds_orientation.jpg)"
   ]
  },
  {
   "cell_type": "markdown",
   "metadata": {
    "slideshow": {
     "slide_type": "slide"
    }
   },
   "source": [
    "<center>![](assets/map_data_science_2010.png)</center>"
   ]
  },
  {
   "cell_type": "markdown",
   "metadata": {
    "slideshow": {
     "slide_type": "slide"
    }
   },
   "source": []
  },
  {
   "cell_type": "markdown",
   "metadata": {
    "slideshow": {
     "slide_type": "slide"
    }
   },
   "source": [
    "## 10. How data science fits into the big picture"
   ]
  },
  {
   "cell_type": "markdown",
   "metadata": {
    "slideshow": {
     "slide_type": "slide"
    }
   },
   "source": [
    "DS / ML / ANN / MCDA / MODA"
   ]
  },
  {
   "cell_type": "code",
   "execution_count": null,
   "metadata": {
    "slideshow": {
     "slide_type": "slide"
    }
   },
   "outputs": [],
   "source": []
  },
  {
   "cell_type": "markdown",
   "metadata": {
    "slideshow": {
     "slide_type": "slide"
    }
   },
   "source": [
    "Machine learning types:\n",
    "![title](assets/machine-learning-types.png)\n"
   ]
  },
  {
   "cell_type": "markdown",
   "metadata": {
    "slideshow": {
     "slide_type": "slide"
    }
   },
   "source": [
    "<center><img src=\"assets/map_sklearn.png\" width=\"900\" height=\"600\" /></center>"
   ]
  },
  {
   "cell_type": "markdown",
   "metadata": {
    "slideshow": {
     "slide_type": "slide"
    }
   },
   "source": []
  },
  {
   "cell_type": "markdown",
   "metadata": {
    "slideshow": {
     "slide_type": "slide"
    }
   },
   "source": [
    "## 11. Practical data science workflows"
   ]
  },
  {
   "cell_type": "code",
   "execution_count": 7,
   "metadata": {
    "slideshow": {
     "slide_type": "slide"
    }
   },
   "outputs": [
    {
     "data": {
      "text/html": [
       "<script>\n",
       "    var code_show=true; //true -> hide code at first\n",
       "\n",
       "    function code_toggle() {\n",
       "        $('div.prompt').hide(); // always hide prompt\n",
       "\n",
       "        if (code_show){\n",
       "            $('div.input').hide();\n",
       "        } else {\n",
       "            $('div.input').show();\n",
       "        }\n",
       "        code_show = !code_show\n",
       "    }\n",
       "    //$( document ).ready(code_toggle);\n",
       "</script>\n",
       "\n",
       "<a href=\"javascript:code_toggle()\">[Toggle Code]</a>"
      ],
      "text/plain": [
       "<IPython.core.display.HTML object>"
      ]
     },
     "metadata": {},
     "output_type": "display_data"
    }
   ],
   "source": [
    "%%HTML\n",
    "<script>\n",
    "    var code_show=true; //true -> hide code at first\n",
    "\n",
    "    function code_toggle() {\n",
    "        $('div.prompt').hide(); // always hide prompt\n",
    "\n",
    "        if (code_show){\n",
    "            $('div.input').hide();\n",
    "        } else {\n",
    "            $('div.input').show();\n",
    "        }\n",
    "        code_show = !code_show\n",
    "    }\n",
    "    //$( document ).ready(code_toggle);\n",
    "</script>\n",
    "\n",
    "<a href=\"javascript:code_toggle()\">[Toggle Code]</a>"
   ]
  },
  {
   "cell_type": "code",
   "execution_count": 6,
   "metadata": {
    "slideshow": {
     "slide_type": "slide"
    }
   },
   "outputs": [
    {
     "data": {
      "image/svg+xml": [
       "<svg height=\"80\" width=\"720\">\n",
       "    <g>\n",
       "        <g>\n",
       "            <rect fill=\"#FFF\" height=\"70\" stroke=\"#000\" width=\"150\" x=\"0\" y=\"0\"/>\n",
       "            <text fill=\"#444\" font-family=\"Verdana\" font-size=\"20\" x=\"10\" y=\"30\">Analysis</text>\n",
       "        </g>\n",
       "\n",
       "        <g transform=\"translate(170,0)\">\n",
       "         <polyline fill=\"none\" points=\"             0.375,0.375 45.63,38.087 0.375,75.8 \" stroke=\"#AAA\" stroke-linecap=\"round\" stroke-linejoin=\"round\" stroke-width=\"1\"/>\n",
       "        </g>\n",
       "\n",
       "        <g transform=\"translate(230,0)\">\n",
       "            <rect fill=\"#FFF\" height=\"70\" stroke=\"#000\" width=\"400\" x=\"0\" y=\"0\"/>\n",
       "            <text fill=\"#444\" font-family=\"Verdana\" font-size=\"20\" x=\"10\" y=\"30\">Modelling</text>\n",
       "        </g>\n",
       "    </g>\n",
       "</svg>"
      ],
      "text/plain": [
       "<IPython.core.display.SVG object>"
      ]
     },
     "metadata": {},
     "output_type": "display_data"
    }
   ],
   "source": [
    "%%svg\n",
    "<svg width=\"720\" height=\"80\">\n",
    "    <g>\n",
    "        <g>\n",
    "            <rect x=\"0\" y=\"0\" width=\"150\" height=\"70\" fill=\"#FFF\" stroke=\"#000\"></rect>\n",
    "            <text x=\"10\" y=\"30\" font-family=\"Verdana\" font-size=\"20\" fill=\"#444\">Analysis</text>\n",
    "        </g>\n",
    "\n",
    "        <g transform=\"translate(170,0)\">\n",
    "         <polyline fill=\"none\" stroke=\"#AAA\" stroke-width=\"1\" stroke-linecap=\"round\" stroke-linejoin=\"round\" points=\"\n",
    "            0.375,0.375 45.63,38.087 0.375,75.8 \"/>\n",
    "        </g>\n",
    "\n",
    "        <g transform=\"translate(230,0)\">\n",
    "            <rect x=\"0\" y=\"0\" width=\"400\" height=\"70\" fill=\"#FFF\" stroke=\"#000\"></rect>\n",
    "            <text x=\"10\" y=\"30\" font-family=\"Verdana\" font-size=\"20\" fill=\"#444\">Modelling</text>\n",
    "        </g>\n",
    "    </g>\n",
    "</svg>"
   ]
  },
  {
   "cell_type": "markdown",
   "metadata": {
    "slideshow": {
     "slide_type": "slide"
    }
   },
   "source": [
    "### Machine learning steps\n",
    "\n",
    "> Asking the right question => Preparing Data => Selecting the algorithm => Training the model\n",
    "  \n",
    "The process may require to return to a previous point, such as:\n",
    "- changing the question\n",
    "- sanitizing, extending the data\n",
    "- changing the algorithm\n",
    "- (supervised) extending the test data\n"
   ]
  },
  {
   "cell_type": "markdown",
   "metadata": {
    "slideshow": {
     "slide_type": "slide"
    }
   },
   "source": [
    "# Links:\n",
    "- [unsupervised vs supervised ML](https://stats.stackexchange.com/questions/110395/what-are-basic-differences-between-kernel-approaches-to-unsupervised-and-supervi)\n",
    "+ history of DS\n",
    "  - http://www.kdnuggets.com/2016/10/battle-data-science-venn-diagrams.html\n",
    "  - https://www.slideshare.net/AltonAlexander/a-successful-data-science-proof-of-concept-in-7-pragmatic-steps\n",
    "+ https://www.amazon.com/Think-Like-Scientist-step-step/dp/1633430278\n",
    "+ https://jixta.files.wordpress.com/2015/11/machinelearningalgorithms.png\n",
    "+ http://images.slideplayer.com/32/9836672/slides/slide_3.jpg\n"
   ]
  },
  {
   "cell_type": "markdown",
   "metadata": {
    "slideshow": {
     "slide_type": "skip"
    }
   },
   "source": [
    "---"
   ]
  }
 ],
 "metadata": {
  "kernelspec": {
   "display_name": "Python 2",
   "language": "python",
   "name": "python2"
  },
  "language_info": {
   "codemirror_mode": {
    "name": "ipython",
    "version": 2
   },
   "file_extension": ".py",
   "mimetype": "text/x-python",
   "name": "python",
   "nbconvert_exporter": "python",
   "pygments_lexer": "ipython2",
   "version": "2.7.12"
  }
 },
 "nbformat": 4,
 "nbformat_minor": 1
}
