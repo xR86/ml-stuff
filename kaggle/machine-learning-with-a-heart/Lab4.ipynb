{
 "cells": [
  {
   "cell_type": "markdown",
   "metadata": {},
   "source": [
    "# Tema 4.1 <a class=\"tocSkip\">"
   ]
  },
  {
   "cell_type": "markdown",
   "metadata": {},
   "source": [
    "# Imports"
   ]
  },
  {
   "cell_type": "code",
   "execution_count": 1,
   "metadata": {},
   "outputs": [],
   "source": [
    "import math\n",
    "\n",
    "import numpy as np\n",
    "import pandas as pd\n",
    "import matplotlib.pyplot as plt\n",
    "import graphviz\n",
    "\n",
    "import sklearn.tree\n",
    "import sklearn.neighbors\n",
    "import sklearn.naive_bayes\n",
    "import sklearn.svm\n",
    "import sklearn.metrics\n",
    "import sklearn.preprocessing\n",
    "import sklearn.model_selection"
   ]
  },
  {
   "cell_type": "markdown",
   "metadata": {},
   "source": [
    "# Data\n",
    "https://www.drivendata.org/competitions/54/machine-learning-with-a-heart/page/109/\n",
    "- Numeric\n",
    "    - slope\\_of\\_peak\\_exercise\\_st\\_segment (int, semi-categorical, 1-3)\n",
    "    - resting\\_blood\\_pressure (int)\n",
    "    - chest\\_pain\\_type (int, semi-categorical, 1-4)\n",
    "    - num\\_major\\_vessels (int, semi-categorical, 0-3)\n",
    "    - resting\\_ekg\\_results (int, semi-categorical, 0-2)\n",
    "    - serum\\_cholesterol\\_mg\\_per\\_dl (int)\n",
    "    - oldpeak\\_eq\\_st\\_depression (float)\n",
    "    - age (int)\n",
    "    - max\\_heart\\_rate\\_achieved (int)\n",
    "- Categorical\n",
    "    - thal\n",
    "        - normal\n",
    "        - fixed\\_defect\n",
    "        - reversible\\_defect\n",
    "    - fasting\\_blood\\_sugar\\_gt\\_120\\_mg\\_per\\_dl (blood sugar > 120)\n",
    "        - 0\n",
    "        - 1\n",
    "    - sex\n",
    "        - 0 (f)\n",
    "        - 1 (m)\n",
    "    - exercise\\_induced\\_angina \n",
    "        - 0\n",
    "        - 1\n"
   ]
  },
  {
   "cell_type": "code",
   "execution_count": 2,
   "metadata": {},
   "outputs": [],
   "source": [
    "features = pd.read_csv('train_values.csv')\n",
    "labels = pd.read_csv('train_labels.csv')"
   ]
  },
  {
   "cell_type": "code",
   "execution_count": 3,
   "metadata": {},
   "outputs": [
    {
     "data": {
      "text/html": [
       "<div>\n",
       "<style scoped>\n",
       "    .dataframe tbody tr th:only-of-type {\n",
       "        vertical-align: middle;\n",
       "    }\n",
       "\n",
       "    .dataframe tbody tr th {\n",
       "        vertical-align: top;\n",
       "    }\n",
       "\n",
       "    .dataframe thead th {\n",
       "        text-align: right;\n",
       "    }\n",
       "</style>\n",
       "<table border=\"1\" class=\"dataframe\">\n",
       "  <thead>\n",
       "    <tr style=\"text-align: right;\">\n",
       "      <th></th>\n",
       "      <th>patient_id</th>\n",
       "      <th>slope_of_peak_exercise_st_segment</th>\n",
       "      <th>thal</th>\n",
       "      <th>resting_blood_pressure</th>\n",
       "      <th>chest_pain_type</th>\n",
       "      <th>num_major_vessels</th>\n",
       "      <th>fasting_blood_sugar_gt_120_mg_per_dl</th>\n",
       "      <th>resting_ekg_results</th>\n",
       "      <th>serum_cholesterol_mg_per_dl</th>\n",
       "      <th>oldpeak_eq_st_depression</th>\n",
       "      <th>sex</th>\n",
       "      <th>age</th>\n",
       "      <th>max_heart_rate_achieved</th>\n",
       "      <th>exercise_induced_angina</th>\n",
       "    </tr>\n",
       "  </thead>\n",
       "  <tbody>\n",
       "    <tr>\n",
       "      <th>0</th>\n",
       "      <td>0z64un</td>\n",
       "      <td>1</td>\n",
       "      <td>normal</td>\n",
       "      <td>128</td>\n",
       "      <td>2</td>\n",
       "      <td>0</td>\n",
       "      <td>0</td>\n",
       "      <td>2</td>\n",
       "      <td>308</td>\n",
       "      <td>0.0</td>\n",
       "      <td>1</td>\n",
       "      <td>45</td>\n",
       "      <td>170</td>\n",
       "      <td>0</td>\n",
       "    </tr>\n",
       "    <tr>\n",
       "      <th>1</th>\n",
       "      <td>ryoo3j</td>\n",
       "      <td>2</td>\n",
       "      <td>normal</td>\n",
       "      <td>110</td>\n",
       "      <td>3</td>\n",
       "      <td>0</td>\n",
       "      <td>0</td>\n",
       "      <td>0</td>\n",
       "      <td>214</td>\n",
       "      <td>1.6</td>\n",
       "      <td>0</td>\n",
       "      <td>54</td>\n",
       "      <td>158</td>\n",
       "      <td>0</td>\n",
       "    </tr>\n",
       "    <tr>\n",
       "      <th>2</th>\n",
       "      <td>yt1s1x</td>\n",
       "      <td>1</td>\n",
       "      <td>normal</td>\n",
       "      <td>125</td>\n",
       "      <td>4</td>\n",
       "      <td>3</td>\n",
       "      <td>0</td>\n",
       "      <td>2</td>\n",
       "      <td>304</td>\n",
       "      <td>0.0</td>\n",
       "      <td>1</td>\n",
       "      <td>77</td>\n",
       "      <td>162</td>\n",
       "      <td>1</td>\n",
       "    </tr>\n",
       "    <tr>\n",
       "      <th>3</th>\n",
       "      <td>l2xjde</td>\n",
       "      <td>1</td>\n",
       "      <td>reversible_defect</td>\n",
       "      <td>152</td>\n",
       "      <td>4</td>\n",
       "      <td>0</td>\n",
       "      <td>0</td>\n",
       "      <td>0</td>\n",
       "      <td>223</td>\n",
       "      <td>0.0</td>\n",
       "      <td>1</td>\n",
       "      <td>40</td>\n",
       "      <td>181</td>\n",
       "      <td>0</td>\n",
       "    </tr>\n",
       "    <tr>\n",
       "      <th>4</th>\n",
       "      <td>oyt4ek</td>\n",
       "      <td>3</td>\n",
       "      <td>reversible_defect</td>\n",
       "      <td>178</td>\n",
       "      <td>1</td>\n",
       "      <td>0</td>\n",
       "      <td>0</td>\n",
       "      <td>2</td>\n",
       "      <td>270</td>\n",
       "      <td>4.2</td>\n",
       "      <td>1</td>\n",
       "      <td>59</td>\n",
       "      <td>145</td>\n",
       "      <td>0</td>\n",
       "    </tr>\n",
       "  </tbody>\n",
       "</table>\n",
       "</div>"
      ],
      "text/plain": [
       "  patient_id  slope_of_peak_exercise_st_segment               thal  \\\n",
       "0     0z64un                                  1             normal   \n",
       "1     ryoo3j                                  2             normal   \n",
       "2     yt1s1x                                  1             normal   \n",
       "3     l2xjde                                  1  reversible_defect   \n",
       "4     oyt4ek                                  3  reversible_defect   \n",
       "\n",
       "   resting_blood_pressure  chest_pain_type  num_major_vessels  \\\n",
       "0                     128                2                  0   \n",
       "1                     110                3                  0   \n",
       "2                     125                4                  3   \n",
       "3                     152                4                  0   \n",
       "4                     178                1                  0   \n",
       "\n",
       "   fasting_blood_sugar_gt_120_mg_per_dl  resting_ekg_results  \\\n",
       "0                                     0                    2   \n",
       "1                                     0                    0   \n",
       "2                                     0                    2   \n",
       "3                                     0                    0   \n",
       "4                                     0                    2   \n",
       "\n",
       "   serum_cholesterol_mg_per_dl  oldpeak_eq_st_depression  sex  age  \\\n",
       "0                          308                       0.0    1   45   \n",
       "1                          214                       1.6    0   54   \n",
       "2                          304                       0.0    1   77   \n",
       "3                          223                       0.0    1   40   \n",
       "4                          270                       4.2    1   59   \n",
       "\n",
       "   max_heart_rate_achieved  exercise_induced_angina  \n",
       "0                      170                        0  \n",
       "1                      158                        0  \n",
       "2                      162                        1  \n",
       "3                      181                        0  \n",
       "4                      145                        0  "
      ]
     },
     "execution_count": 3,
     "metadata": {},
     "output_type": "execute_result"
    }
   ],
   "source": [
    "features.head()"
   ]
  },
  {
   "cell_type": "code",
   "execution_count": 4,
   "metadata": {},
   "outputs": [
    {
     "data": {
      "text/html": [
       "<div>\n",
       "<style scoped>\n",
       "    .dataframe tbody tr th:only-of-type {\n",
       "        vertical-align: middle;\n",
       "    }\n",
       "\n",
       "    .dataframe tbody tr th {\n",
       "        vertical-align: top;\n",
       "    }\n",
       "\n",
       "    .dataframe thead th {\n",
       "        text-align: right;\n",
       "    }\n",
       "</style>\n",
       "<table border=\"1\" class=\"dataframe\">\n",
       "  <thead>\n",
       "    <tr style=\"text-align: right;\">\n",
       "      <th></th>\n",
       "      <th>patient_id</th>\n",
       "      <th>heart_disease_present</th>\n",
       "    </tr>\n",
       "  </thead>\n",
       "  <tbody>\n",
       "    <tr>\n",
       "      <th>0</th>\n",
       "      <td>0z64un</td>\n",
       "      <td>0</td>\n",
       "    </tr>\n",
       "    <tr>\n",
       "      <th>1</th>\n",
       "      <td>ryoo3j</td>\n",
       "      <td>0</td>\n",
       "    </tr>\n",
       "    <tr>\n",
       "      <th>2</th>\n",
       "      <td>yt1s1x</td>\n",
       "      <td>1</td>\n",
       "    </tr>\n",
       "    <tr>\n",
       "      <th>3</th>\n",
       "      <td>l2xjde</td>\n",
       "      <td>1</td>\n",
       "    </tr>\n",
       "    <tr>\n",
       "      <th>4</th>\n",
       "      <td>oyt4ek</td>\n",
       "      <td>0</td>\n",
       "    </tr>\n",
       "  </tbody>\n",
       "</table>\n",
       "</div>"
      ],
      "text/plain": [
       "  patient_id  heart_disease_present\n",
       "0     0z64un                      0\n",
       "1     ryoo3j                      0\n",
       "2     yt1s1x                      1\n",
       "3     l2xjde                      1\n",
       "4     oyt4ek                      0"
      ]
     },
     "execution_count": 4,
     "metadata": {},
     "output_type": "execute_result"
    }
   ],
   "source": [
    "labels.head()"
   ]
  },
  {
   "cell_type": "code",
   "execution_count": 5,
   "metadata": {},
   "outputs": [],
   "source": [
    "FEATURES =  ['slope_of_peak_exercise_st_segment', \n",
    "             'thal',\n",
    "             'resting_blood_pressure', \n",
    "             'chest_pain_type', \n",
    "             'num_major_vessels', \n",
    "             'fasting_blood_sugar_gt_120_mg_per_dl',\n",
    "             'resting_ekg_results', \n",
    "             'serum_cholesterol_mg_per_dl', \n",
    "             'oldpeak_eq_st_depression', \n",
    "             'sex',\n",
    "             'age', \n",
    "             'max_heart_rate_achieved', \n",
    "             'exercise_induced_angina']\n",
    "\n",
    "LABEL = 'heart_disease_present'\n",
    "\n",
    "EXPLANATIONS = {'slope_of_peak_exercise_st_segment'    : 'Quality of Blood Flow to the Heart',\n",
    "                'thal'                                 : 'Thallium Stress Test Measuring Blood Flow to the Heart',\n",
    "                'resting_blood_pressure'               : 'Resting Blood Pressure', \n",
    "                'chest_pain_type'                      : 'Chest Pain Type (1-4)',\n",
    "                'num_major_vessels'                    : 'Major Vessels (0-3) Colored by Flourosopy',\n",
    "                'fasting_blood_sugar_gt_120_mg_per_dl' : 'Fasting Blood Sugar > 120 mg/dl',\n",
    "                'resting_ekg_results'                  : 'Resting Electrocardiographic Results (0-2)',\n",
    "                'serum_cholesterol_mg_per_dl'          : 'Serum Cholesterol in mg/dl',\n",
    "                'oldpeak_eq_st_depression'             : 'Exercise vs. Rest\\nA Measure of Abnormality in Electrocardiograms',\n",
    "                'age'                                  : 'Age (years)',\n",
    "                'sex'                                  : 'Sex (m/f)',\n",
    "                'max_heart_rate_achieved'              : 'Maximum Heart Rate Achieved (bpm)',\n",
    "                'exercise_induced_angina'              : 'Exercise-Induced Chest Pain (yes/no)'}\n",
    "\n",
    "NUMERICAL_FEATURES = ['slope_of_peak_exercise_st_segment', \n",
    "                      'resting_blood_pressure', \n",
    "                      'chest_pain_type', \n",
    "                      'num_major_vessels', \n",
    "                      'resting_ekg_results', \n",
    "                      'serum_cholesterol_mg_per_dl', \n",
    "                      'oldpeak_eq_st_depression', \n",
    "                      'age', \n",
    "                      'max_heart_rate_achieved']\n",
    "\n",
    "CATEGORICAL_FEATURES = ['thal', \n",
    "                        'fasting_blood_sugar_gt_120_mg_per_dl', \n",
    "                        'sex', \n",
    "                        'exercise_induced_angina']\n",
    "\n",
    "CATEGORICAL_FEATURE_VALUES = {'thal'                                 : [[0, 1, 2], ['Normal', \n",
    "                                                                                    'Fixed Defect', \n",
    "                                                                                    'Reversible Defect']], \n",
    "                              'fasting_blood_sugar_gt_120_mg_per_dl' : [[0, 1], ['No', 'Yes']],\n",
    "                              'sex'                                  : [[0, 1], ['F', 'M']], \n",
    "                              'exercise_induced_angina'              : [[0, 1], ['No', 'Yes']]}\n",
    "\n",
    "SEMI_CATEGORICAL_FEATURES = ['slope_of_peak_exercise_st_segment',\n",
    "                             'chest_pain_type',\n",
    "                             'num_major_vessels',\n",
    "                             'resting_ekg_results']\n",
    "\n",
    "SEMI_CATEGORICAL_FEATURE_LIMITS = {'slope_of_peak_exercise_st_segment' : [1, 3],\n",
    "                                   'chest_pain_type'                   : [1, 4],\n",
    "                                   'num_major_vessels'                 : [0, 3],\n",
    "                                   'resting_ekg_results'               : [0, 2]}\n",
    "\n",
    "LABEL_VALUES = [[0, 1], ['No', 'Yes']]\n"
   ]
  },
  {
   "cell_type": "code",
   "execution_count": 6,
   "metadata": {},
   "outputs": [],
   "source": [
    "for feature in CATEGORICAL_FEATURES:\n",
    "    if len(CATEGORICAL_FEATURE_VALUES[feature][0]) > 2:\n",
    "        \n",
    "        onehot_feature = pd.get_dummies(features[feature])\n",
    "        \n",
    "        feature_index = features.columns.get_loc(feature)\n",
    "        features.drop(feature, axis=1, inplace=True)\n",
    "        \n",
    "        onehot_feature.columns = [f'{feature}={feature_value}' for feature_value in onehot_feature.columns]\n",
    "        for colname in onehot_feature.columns[::-1]:\n",
    "            features.insert(feature_index, colname, onehot_feature[colname])"
   ]
  },
  {
   "cell_type": "code",
   "execution_count": 7,
   "metadata": {
    "scrolled": true
   },
   "outputs": [
    {
     "data": {
      "text/html": [
       "<div>\n",
       "<style scoped>\n",
       "    .dataframe tbody tr th:only-of-type {\n",
       "        vertical-align: middle;\n",
       "    }\n",
       "\n",
       "    .dataframe tbody tr th {\n",
       "        vertical-align: top;\n",
       "    }\n",
       "\n",
       "    .dataframe thead th {\n",
       "        text-align: right;\n",
       "    }\n",
       "</style>\n",
       "<table border=\"1\" class=\"dataframe\">\n",
       "  <thead>\n",
       "    <tr style=\"text-align: right;\">\n",
       "      <th></th>\n",
       "      <th>patient_id</th>\n",
       "      <th>slope_of_peak_exercise_st_segment</th>\n",
       "      <th>thal=fixed_defect</th>\n",
       "      <th>thal=normal</th>\n",
       "      <th>thal=reversible_defect</th>\n",
       "      <th>resting_blood_pressure</th>\n",
       "      <th>chest_pain_type</th>\n",
       "      <th>num_major_vessels</th>\n",
       "      <th>fasting_blood_sugar_gt_120_mg_per_dl</th>\n",
       "      <th>resting_ekg_results</th>\n",
       "      <th>serum_cholesterol_mg_per_dl</th>\n",
       "      <th>oldpeak_eq_st_depression</th>\n",
       "      <th>sex</th>\n",
       "      <th>age</th>\n",
       "      <th>max_heart_rate_achieved</th>\n",
       "      <th>exercise_induced_angina</th>\n",
       "    </tr>\n",
       "  </thead>\n",
       "  <tbody>\n",
       "    <tr>\n",
       "      <th>0</th>\n",
       "      <td>0z64un</td>\n",
       "      <td>1</td>\n",
       "      <td>0</td>\n",
       "      <td>1</td>\n",
       "      <td>0</td>\n",
       "      <td>128</td>\n",
       "      <td>2</td>\n",
       "      <td>0</td>\n",
       "      <td>0</td>\n",
       "      <td>2</td>\n",
       "      <td>308</td>\n",
       "      <td>0.0</td>\n",
       "      <td>1</td>\n",
       "      <td>45</td>\n",
       "      <td>170</td>\n",
       "      <td>0</td>\n",
       "    </tr>\n",
       "    <tr>\n",
       "      <th>1</th>\n",
       "      <td>ryoo3j</td>\n",
       "      <td>2</td>\n",
       "      <td>0</td>\n",
       "      <td>1</td>\n",
       "      <td>0</td>\n",
       "      <td>110</td>\n",
       "      <td>3</td>\n",
       "      <td>0</td>\n",
       "      <td>0</td>\n",
       "      <td>0</td>\n",
       "      <td>214</td>\n",
       "      <td>1.6</td>\n",
       "      <td>0</td>\n",
       "      <td>54</td>\n",
       "      <td>158</td>\n",
       "      <td>0</td>\n",
       "    </tr>\n",
       "    <tr>\n",
       "      <th>2</th>\n",
       "      <td>yt1s1x</td>\n",
       "      <td>1</td>\n",
       "      <td>0</td>\n",
       "      <td>1</td>\n",
       "      <td>0</td>\n",
       "      <td>125</td>\n",
       "      <td>4</td>\n",
       "      <td>3</td>\n",
       "      <td>0</td>\n",
       "      <td>2</td>\n",
       "      <td>304</td>\n",
       "      <td>0.0</td>\n",
       "      <td>1</td>\n",
       "      <td>77</td>\n",
       "      <td>162</td>\n",
       "      <td>1</td>\n",
       "    </tr>\n",
       "    <tr>\n",
       "      <th>3</th>\n",
       "      <td>l2xjde</td>\n",
       "      <td>1</td>\n",
       "      <td>0</td>\n",
       "      <td>0</td>\n",
       "      <td>1</td>\n",
       "      <td>152</td>\n",
       "      <td>4</td>\n",
       "      <td>0</td>\n",
       "      <td>0</td>\n",
       "      <td>0</td>\n",
       "      <td>223</td>\n",
       "      <td>0.0</td>\n",
       "      <td>1</td>\n",
       "      <td>40</td>\n",
       "      <td>181</td>\n",
       "      <td>0</td>\n",
       "    </tr>\n",
       "    <tr>\n",
       "      <th>4</th>\n",
       "      <td>oyt4ek</td>\n",
       "      <td>3</td>\n",
       "      <td>0</td>\n",
       "      <td>0</td>\n",
       "      <td>1</td>\n",
       "      <td>178</td>\n",
       "      <td>1</td>\n",
       "      <td>0</td>\n",
       "      <td>0</td>\n",
       "      <td>2</td>\n",
       "      <td>270</td>\n",
       "      <td>4.2</td>\n",
       "      <td>1</td>\n",
       "      <td>59</td>\n",
       "      <td>145</td>\n",
       "      <td>0</td>\n",
       "    </tr>\n",
       "  </tbody>\n",
       "</table>\n",
       "</div>"
      ],
      "text/plain": [
       "  patient_id  slope_of_peak_exercise_st_segment  thal=fixed_defect  \\\n",
       "0     0z64un                                  1                  0   \n",
       "1     ryoo3j                                  2                  0   \n",
       "2     yt1s1x                                  1                  0   \n",
       "3     l2xjde                                  1                  0   \n",
       "4     oyt4ek                                  3                  0   \n",
       "\n",
       "   thal=normal  thal=reversible_defect  resting_blood_pressure  \\\n",
       "0            1                       0                     128   \n",
       "1            1                       0                     110   \n",
       "2            1                       0                     125   \n",
       "3            0                       1                     152   \n",
       "4            0                       1                     178   \n",
       "\n",
       "   chest_pain_type  num_major_vessels  fasting_blood_sugar_gt_120_mg_per_dl  \\\n",
       "0                2                  0                                     0   \n",
       "1                3                  0                                     0   \n",
       "2                4                  3                                     0   \n",
       "3                4                  0                                     0   \n",
       "4                1                  0                                     0   \n",
       "\n",
       "   resting_ekg_results  serum_cholesterol_mg_per_dl  oldpeak_eq_st_depression  \\\n",
       "0                    2                          308                       0.0   \n",
       "1                    0                          214                       1.6   \n",
       "2                    2                          304                       0.0   \n",
       "3                    0                          223                       0.0   \n",
       "4                    2                          270                       4.2   \n",
       "\n",
       "   sex  age  max_heart_rate_achieved  exercise_induced_angina  \n",
       "0    1   45                      170                        0  \n",
       "1    0   54                      158                        0  \n",
       "2    1   77                      162                        1  \n",
       "3    1   40                      181                        0  \n",
       "4    1   59                      145                        0  "
      ]
     },
     "execution_count": 7,
     "metadata": {},
     "output_type": "execute_result"
    }
   ],
   "source": [
    "features.head()"
   ]
  },
  {
   "cell_type": "code",
   "execution_count": 8,
   "metadata": {},
   "outputs": [
    {
     "name": "stdout",
     "output_type": "stream",
     "text": [
      "x =\n",
      " [[  1   0   1 ...  45 170   0]\n",
      " [  2   0   1 ...  54 158   0]\n",
      " [  1   0   1 ...  77 162   1]\n",
      " ...\n",
      " [  2   0   0 ...  64 131   1]\n",
      " [  1   0   1 ...  48 175   0]\n",
      " [  1   0   1 ...  54 163   0]]\n",
      "y =\n",
      " [0 0 1 1 0 0 1 1 1 0 0 0 1 0 1 1 0 1 0 1 0 0 0 0 0 0 0 0 1 0 0 1 1 0 1 0 0\n",
      " 0 0 1 0 0 0 0 0 1 0 0 1 0 1 0 1 1 1 0 1 1 0 1 0 1 1 0 0 1 1 0 0 1 0 0 0 0\n",
      " 1 1 0 1 1 1 0 1 1 1 0 1 0 1 0 0 0 1 0 1 0 0 1 0 0 0 0 0 1 0 0 0 0 1 0 1 0\n",
      " 0 1 1 0 0 0 1 1 1 1 0 0 0 1 0 0 0 1 1 0 0 0 1 1 0 1 1 0 0 1 0 0 1 1 0 0 1\n",
      " 1 1 0 0 1 1 1 1 0 0 0 1 0 1 1 1 0 0 0 1 0 0 1 1 1 1 0 1 1 1 0 0]\n"
     ]
    }
   ],
   "source": [
    "x = features.values[:,1:].astype(int)\n",
    "y = labels.values[:,-1].astype(int)\n",
    "\n",
    "print('x =\\n', x)\n",
    "print('y =\\n', y)"
   ]
  },
  {
   "cell_type": "code",
   "execution_count": 9,
   "metadata": {},
   "outputs": [
    {
     "data": {
      "text/plain": [
       "StratifiedKFold(n_splits=5, random_state=None, shuffle=True)"
      ]
     },
     "execution_count": 9,
     "metadata": {},
     "output_type": "execute_result"
    }
   ],
   "source": [
    "stratified_kflod_validator = sklearn.model_selection.StratifiedKFold(n_splits=5, shuffle=True)\n",
    "\n",
    "stratified_kflod_validator"
   ]
  },
  {
   "cell_type": "markdown",
   "metadata": {},
   "source": [
    "# Decision Trees"
   ]
  },
  {
   "cell_type": "code",
   "execution_count": 10,
   "metadata": {},
   "outputs": [
    {
     "data": {
      "text/html": [
       "<div>\n",
       "<style scoped>\n",
       "    .dataframe tbody tr th:only-of-type {\n",
       "        vertical-align: middle;\n",
       "    }\n",
       "\n",
       "    .dataframe tbody tr th {\n",
       "        vertical-align: top;\n",
       "    }\n",
       "\n",
       "    .dataframe thead th {\n",
       "        text-align: right;\n",
       "    }\n",
       "</style>\n",
       "<table border=\"1\" class=\"dataframe\">\n",
       "  <thead>\n",
       "    <tr style=\"text-align: right;\">\n",
       "      <th></th>\n",
       "      <th>Fold</th>\n",
       "      <th>Accuracy</th>\n",
       "      <th>Precision</th>\n",
       "      <th>Recall</th>\n",
       "    </tr>\n",
       "  </thead>\n",
       "  <tbody>\n",
       "    <tr>\n",
       "      <th>1</th>\n",
       "      <td>1</td>\n",
       "      <td>66.67 %</td>\n",
       "      <td>61.11 %</td>\n",
       "      <td>68.75 %</td>\n",
       "    </tr>\n",
       "    <tr>\n",
       "      <th>2</th>\n",
       "      <td>2</td>\n",
       "      <td>77.78 %</td>\n",
       "      <td>72.22 %</td>\n",
       "      <td>81.25 %</td>\n",
       "    </tr>\n",
       "    <tr>\n",
       "      <th>3</th>\n",
       "      <td>3</td>\n",
       "      <td>55.56 %</td>\n",
       "      <td>50.00 %</td>\n",
       "      <td>62.50 %</td>\n",
       "    </tr>\n",
       "    <tr>\n",
       "      <th>4</th>\n",
       "      <td>4</td>\n",
       "      <td>77.78 %</td>\n",
       "      <td>72.22 %</td>\n",
       "      <td>81.25 %</td>\n",
       "    </tr>\n",
       "    <tr>\n",
       "      <th>5</th>\n",
       "      <td>5</td>\n",
       "      <td>91.67 %</td>\n",
       "      <td>93.33 %</td>\n",
       "      <td>87.50 %</td>\n",
       "    </tr>\n",
       "    <tr>\n",
       "      <th>6</th>\n",
       "      <td>Avg</td>\n",
       "      <td>73.89 %</td>\n",
       "      <td>69.78 %</td>\n",
       "      <td>76.25 %</td>\n",
       "    </tr>\n",
       "  </tbody>\n",
       "</table>\n",
       "</div>"
      ],
      "text/plain": [
       "  Fold Accuracy Precision   Recall\n",
       "1    1  66.67 %   61.11 %  68.75 %\n",
       "2    2  77.78 %   72.22 %  81.25 %\n",
       "3    3  55.56 %   50.00 %  62.50 %\n",
       "4    4  77.78 %   72.22 %  81.25 %\n",
       "5    5  91.67 %   93.33 %  87.50 %\n",
       "6  Avg  73.89 %   69.78 %  76.25 %"
      ]
     },
     "execution_count": 10,
     "metadata": {},
     "output_type": "execute_result"
    }
   ],
   "source": [
    "tree_mean_acc = 0\n",
    "tree_score_df = pd.DataFrame(columns = ['Fold', 'Accuracy', 'Precision', 'Recall'])\n",
    "\n",
    "for fold_ind, (train_indices, test_indices) in enumerate(stratified_kflod_validator.split(x, y), 1):\n",
    "    \n",
    "    x_train, x_test = x[train_indices], x[test_indices]\n",
    "    y_train, y_test = y[train_indices], y[test_indices]\n",
    "    \n",
    "    dec_tree = sklearn.tree.DecisionTreeClassifier(min_samples_split = 5)\n",
    "    dec_tree.fit(x_train, y_train)\n",
    "    \n",
    "    acc = dec_tree.score(x_test, y_test)\n",
    "    tree_mean_acc += acc\n",
    "    \n",
    "    y_pred = dec_tree.predict(x_test)\n",
    "    precision = sklearn.metrics.precision_score(y_test, y_pred)\n",
    "    recall = sklearn.metrics.recall_score(y_test, y_pred)\n",
    "    \n",
    "    tree_score_df.loc[fold_ind] = [f'{fold_ind}', \n",
    "                                   f'{acc*100:.2f} %', \n",
    "                                   f'{precision*100:.2f} %', \n",
    "                                   f'{recall*100:.2f} %']\n",
    "    \n",
    "    tree_plot_data = sklearn.tree.export_graphviz(dec_tree, out_file = None,\n",
    "                                                  feature_names = features.columns[1:], \n",
    "                                                  class_names = [f'{labels.columns[1]}={label_value}' \n",
    "                                                                 for label_value \n",
    "                                                                 in LABEL_VALUES[1]],\n",
    "                                                  filled = True, \n",
    "                                                  rounded = True, \n",
    "                                                  special_characters = True) \n",
    "    graph = graphviz.Source(tree_plot_data) \n",
    "    graph.render(f'Fold {fold_ind}')\n",
    "    \n",
    "next_ind = len(tree_score_df) + 1\n",
    "\n",
    "mean_acc  = tree_score_df['Accuracy'].apply(lambda n: float(n[:-2])).mean()\n",
    "mean_prec = tree_score_df['Precision'].apply(lambda n: float(n[:-2])).mean()\n",
    "mean_rec  = tree_score_df['Recall'].apply(lambda n: float(n[:-2])).mean()\n",
    "\n",
    "tree_score_df.loc[next_ind] = ['Avg', f'{mean_acc:.2f} %', f'{mean_prec:.2f} %', f'{mean_rec:.2f} %']\n",
    "tree_score_df"
   ]
  },
  {
   "cell_type": "markdown",
   "metadata": {},
   "source": [
    "# KNN"
   ]
  },
  {
   "cell_type": "code",
   "execution_count": 11,
   "metadata": {},
   "outputs": [
    {
     "name": "stdout",
     "output_type": "stream",
     "text": [
      "Best avg. accuracy is 62.78 % for k = 90 .\n"
     ]
    },
    {
     "data": {
      "text/html": [
       "<div>\n",
       "<style scoped>\n",
       "    .dataframe tbody tr th:only-of-type {\n",
       "        vertical-align: middle;\n",
       "    }\n",
       "\n",
       "    .dataframe tbody tr th {\n",
       "        vertical-align: top;\n",
       "    }\n",
       "\n",
       "    .dataframe thead th {\n",
       "        text-align: right;\n",
       "    }\n",
       "</style>\n",
       "<table border=\"1\" class=\"dataframe\">\n",
       "  <thead>\n",
       "    <tr style=\"text-align: right;\">\n",
       "      <th></th>\n",
       "      <th>k</th>\n",
       "      <th>Avg. Accuracy</th>\n",
       "      <th>Avg. Precision</th>\n",
       "      <th>Avg. Recall</th>\n",
       "    </tr>\n",
       "  </thead>\n",
       "  <tbody>\n",
       "    <tr>\n",
       "      <th>4</th>\n",
       "      <td>4</td>\n",
       "      <td>53.89 %</td>\n",
       "      <td>44.75 %</td>\n",
       "      <td>28.75 %</td>\n",
       "    </tr>\n",
       "    <tr>\n",
       "      <th>5</th>\n",
       "      <td>5</td>\n",
       "      <td>55.00 %</td>\n",
       "      <td>49.40 %</td>\n",
       "      <td>47.50 %</td>\n",
       "    </tr>\n",
       "    <tr>\n",
       "      <th>7</th>\n",
       "      <td>7</td>\n",
       "      <td>55.56 %</td>\n",
       "      <td>50.45 %</td>\n",
       "      <td>45.00 %</td>\n",
       "    </tr>\n",
       "    <tr>\n",
       "      <th>1</th>\n",
       "      <td>1</td>\n",
       "      <td>56.67 %</td>\n",
       "      <td>50.45 %</td>\n",
       "      <td>55.00 %</td>\n",
       "    </tr>\n",
       "    <tr>\n",
       "      <th>6</th>\n",
       "      <td>6</td>\n",
       "      <td>56.67 %</td>\n",
       "      <td>50.72 %</td>\n",
       "      <td>32.50 %</td>\n",
       "    </tr>\n",
       "    <tr>\n",
       "      <th>9</th>\n",
       "      <td>9</td>\n",
       "      <td>56.67 %</td>\n",
       "      <td>51.97 %</td>\n",
       "      <td>47.50 %</td>\n",
       "    </tr>\n",
       "    <tr>\n",
       "      <th>3</th>\n",
       "      <td>3</td>\n",
       "      <td>57.78 %</td>\n",
       "      <td>52.35 %</td>\n",
       "      <td>47.50 %</td>\n",
       "    </tr>\n",
       "    <tr>\n",
       "      <th>2</th>\n",
       "      <td>2</td>\n",
       "      <td>58.89 %</td>\n",
       "      <td>56.95 %</td>\n",
       "      <td>30.00 %</td>\n",
       "    </tr>\n",
       "    <tr>\n",
       "      <th>8</th>\n",
       "      <td>8</td>\n",
       "      <td>58.89 %</td>\n",
       "      <td>56.52 %</td>\n",
       "      <td>37.50 %</td>\n",
       "    </tr>\n",
       "    <tr>\n",
       "      <th>18</th>\n",
       "      <td>18</td>\n",
       "      <td>58.89 %</td>\n",
       "      <td>58.50 %</td>\n",
       "      <td>41.25 %</td>\n",
       "    </tr>\n",
       "    <tr>\n",
       "      <th>36</th>\n",
       "      <td>36</td>\n",
       "      <td>60.00 %</td>\n",
       "      <td>56.88 %</td>\n",
       "      <td>42.50 %</td>\n",
       "    </tr>\n",
       "    <tr>\n",
       "      <th>54</th>\n",
       "      <td>54</td>\n",
       "      <td>61.11 %</td>\n",
       "      <td>60.67 %</td>\n",
       "      <td>38.75 %</td>\n",
       "    </tr>\n",
       "    <tr>\n",
       "      <th>72</th>\n",
       "      <td>72</td>\n",
       "      <td>62.78 %</td>\n",
       "      <td>64.17 %</td>\n",
       "      <td>37.50 %</td>\n",
       "    </tr>\n",
       "    <tr>\n",
       "      <th>90</th>\n",
       "      <td>90</td>\n",
       "      <td>62.78 %</td>\n",
       "      <td>65.40 %</td>\n",
       "      <td>35.00 %</td>\n",
       "    </tr>\n",
       "  </tbody>\n",
       "</table>\n",
       "</div>"
      ],
      "text/plain": [
       "     k Avg. Accuracy Avg. Precision Avg. Recall\n",
       "4    4       53.89 %        44.75 %     28.75 %\n",
       "5    5       55.00 %        49.40 %     47.50 %\n",
       "7    7       55.56 %        50.45 %     45.00 %\n",
       "1    1       56.67 %        50.45 %     55.00 %\n",
       "6    6       56.67 %        50.72 %     32.50 %\n",
       "9    9       56.67 %        51.97 %     47.50 %\n",
       "3    3       57.78 %        52.35 %     47.50 %\n",
       "2    2       58.89 %        56.95 %     30.00 %\n",
       "8    8       58.89 %        56.52 %     37.50 %\n",
       "18  18       58.89 %        58.50 %     41.25 %\n",
       "36  36       60.00 %        56.88 %     42.50 %\n",
       "54  54       61.11 %        60.67 %     38.75 %\n",
       "72  72       62.78 %        64.17 %     37.50 %\n",
       "90  90       62.78 %        65.40 %     35.00 %"
      ]
     },
     "execution_count": 11,
     "metadata": {},
     "output_type": "execute_result"
    }
   ],
   "source": [
    "# TODO Normalize\n",
    "\n",
    "knn_mean_score_df = pd.DataFrame(columns = ['k', 'Avg. Accuracy', 'Avg. Precision', 'Avg. Recall'])\n",
    "\n",
    "normalized_x = sklearn.preprocessing.normalize(x) # No improvement over un-normalized data.\n",
    "\n",
    "mean_accs = []\n",
    "for k in list(range(1, 10)) + [math.ceil(len(features) * step) for step in [0.1, 0.2, 0.3, 0.4, 0.5]]:\n",
    "    \n",
    "    knn_score_df = pd.DataFrame(columns = ['Fold', 'Accuracy', 'Precision', 'Recall'])\n",
    "\n",
    "    mean_acc = 0\n",
    "    for fold_ind, (train_indices, test_indices) in enumerate(stratified_kflod_validator.split(x, y), 1):\n",
    "\n",
    "        x_train, x_test = normalized_x[train_indices], normalized_x[test_indices]\n",
    "        y_train, y_test = y[train_indices], y[test_indices]\n",
    "\n",
    "        knn = sklearn.neighbors.KNeighborsClassifier(n_neighbors = k)\n",
    "        knn.fit(x_train, y_train)\n",
    "\n",
    "        acc = knn.score(x_test, y_test)\n",
    "        mean_acc += acc\n",
    "        \n",
    "        y_pred = knn.predict(x_test)\n",
    "        precision = sklearn.metrics.precision_score(y_test, y_pred)\n",
    "        recall = sklearn.metrics.recall_score(y_test, y_pred)\n",
    "\n",
    "        knn_score_df.loc[fold_ind] = [f'{fold_ind}', \n",
    "                                      f'{acc*100:.2f} %',\n",
    "                                      f'{precision*100:.2f} %', \n",
    "                                      f'{recall*100:.2f} %']\n",
    "\n",
    "    next_ind = len(knn_score_df) + 1\n",
    "    \n",
    "    mean_acc  = knn_score_df['Accuracy'].apply(lambda n: float(n[:-2])).mean()\n",
    "    mean_prec = knn_score_df['Precision'].apply(lambda n: float(n[:-2])).mean()\n",
    "    mean_rec  = knn_score_df['Recall'].apply(lambda n: float(n[:-2])).mean()\n",
    "    \n",
    "    knn_score_df.loc[next_ind] = ['Avg', \n",
    "                                  f'{acc*100:.2f} %',\n",
    "                                  f'{precision*100:.2f} %', \n",
    "                                  f'{recall*100:.2f} %']\n",
    "    \n",
    "    knn_mean_score_df.loc[k] = [k, \n",
    "                                f'{mean_acc:.2f} %', \n",
    "                                f'{mean_prec:.2f} %', \n",
    "                                f'{mean_rec:.2f} %']\n",
    "\n",
    "#     print(f'k = {k}')\n",
    "#     print(knn_score_df)\n",
    "#     print()\n",
    "    \n",
    "best_accuracy = knn_mean_score_df.sort_values(by = ['Avg. Accuracy']).iloc[-1]\n",
    "print('Best avg. accuracy is', best_accuracy['Avg. Accuracy'], 'for k =', best_accuracy['k'], '.')\n",
    "knn_mean_score_df.sort_values(by = ['Avg. Accuracy'])"
   ]
  },
  {
   "cell_type": "markdown",
   "metadata": {},
   "source": [
    "# Naive Bayes"
   ]
  },
  {
   "cell_type": "code",
   "execution_count": 12,
   "metadata": {},
   "outputs": [
    {
     "name": "stdout",
     "output_type": "stream",
     "text": [
      "GaussianNB\n",
      "\n",
      "  Fold Accuracy Precision   Recall\n",
      "1    1  86.11 %   82.35 %  87.50 %\n",
      "2    2  77.78 %   72.22 %  81.25 %\n",
      "3    3  88.89 %   87.50 %  87.50 %\n",
      "4    4  77.78 %   72.22 %  81.25 %\n",
      "5    5  83.33 %   81.25 %  81.25 %\n",
      "6  Avg  82.78 %   79.11 %  83.75 %\n",
      "\n",
      "MultinomialNB\n",
      "\n",
      "  Fold Accuracy Precision   Recall\n",
      "1    1  83.33 %   91.67 %  68.75 %\n",
      "2    2  80.56 %   73.68 %  87.50 %\n",
      "3    3  77.78 %   78.57 %  68.75 %\n",
      "4    4  72.22 %   68.75 %  68.75 %\n",
      "5    5  75.00 %   68.42 %  81.25 %\n",
      "6  Avg  77.78 %   76.22 %  75.00 %\n",
      "\n",
      "ComplementNB\n",
      "\n",
      "  Fold Accuracy Precision   Recall\n",
      "1    1  91.67 %   88.24 %  93.75 %\n",
      "2    2  75.00 %   68.42 %  81.25 %\n",
      "3    3  69.44 %   69.23 %  56.25 %\n",
      "4    4  77.78 %   70.00 %  87.50 %\n",
      "5    5  80.56 %   76.47 %  81.25 %\n",
      "6  Avg  78.89 %   74.47 %  80.00 %\n",
      "\n",
      "BernoulliNB\n",
      "\n",
      "  Fold Accuracy Precision   Recall\n",
      "1    1  69.44 %   69.23 %  56.25 %\n",
      "2    2  86.11 %   86.67 %  81.25 %\n",
      "3    3  80.56 %   80.00 %  75.00 %\n",
      "4    4  80.56 %   71.43 %  93.75 %\n",
      "5    5  77.78 %   72.22 %  81.25 %\n",
      "6  Avg  78.89 %   75.91 %  77.50 %\n",
      "\n"
     ]
    },
    {
     "data": {
      "text/html": [
       "<div>\n",
       "<style scoped>\n",
       "    .dataframe tbody tr th:only-of-type {\n",
       "        vertical-align: middle;\n",
       "    }\n",
       "\n",
       "    .dataframe tbody tr th {\n",
       "        vertical-align: top;\n",
       "    }\n",
       "\n",
       "    .dataframe thead th {\n",
       "        text-align: right;\n",
       "    }\n",
       "</style>\n",
       "<table border=\"1\" class=\"dataframe\">\n",
       "  <thead>\n",
       "    <tr style=\"text-align: right;\">\n",
       "      <th></th>\n",
       "      <th>Type</th>\n",
       "      <th>Avg. Accuracy</th>\n",
       "      <th>Avg. Precision</th>\n",
       "      <th>Avg. Recall</th>\n",
       "    </tr>\n",
       "  </thead>\n",
       "  <tbody>\n",
       "    <tr>\n",
       "      <th>2</th>\n",
       "      <td>MultinomialNB</td>\n",
       "      <td>77.78 %</td>\n",
       "      <td>76.22 %</td>\n",
       "      <td>75.00 %</td>\n",
       "    </tr>\n",
       "    <tr>\n",
       "      <th>3</th>\n",
       "      <td>ComplementNB</td>\n",
       "      <td>78.89 %</td>\n",
       "      <td>74.47 %</td>\n",
       "      <td>80.00 %</td>\n",
       "    </tr>\n",
       "    <tr>\n",
       "      <th>4</th>\n",
       "      <td>BernoulliNB</td>\n",
       "      <td>78.89 %</td>\n",
       "      <td>75.91 %</td>\n",
       "      <td>77.50 %</td>\n",
       "    </tr>\n",
       "    <tr>\n",
       "      <th>1</th>\n",
       "      <td>GaussianNB</td>\n",
       "      <td>82.78 %</td>\n",
       "      <td>79.11 %</td>\n",
       "      <td>83.75 %</td>\n",
       "    </tr>\n",
       "  </tbody>\n",
       "</table>\n",
       "</div>"
      ],
      "text/plain": [
       "            Type Avg. Accuracy Avg. Precision Avg. Recall\n",
       "2  MultinomialNB       77.78 %        76.22 %     75.00 %\n",
       "3   ComplementNB       78.89 %        74.47 %     80.00 %\n",
       "4    BernoulliNB       78.89 %        75.91 %     77.50 %\n",
       "1     GaussianNB       82.78 %        79.11 %     83.75 %"
      ]
     },
     "execution_count": 12,
     "metadata": {},
     "output_type": "execute_result"
    }
   ],
   "source": [
    "nb_classifier_types = [sklearn.naive_bayes.GaussianNB,\n",
    "                       sklearn.naive_bayes.MultinomialNB,\n",
    "                       sklearn.naive_bayes.ComplementNB,\n",
    "                       sklearn.naive_bayes.BernoulliNB]\n",
    "\n",
    "nb_mean_score_df = pd.DataFrame(columns = ['Type', 'Avg. Accuracy', 'Avg. Precision', 'Avg. Recall'])\n",
    "\n",
    "for nb_classifier_type in nb_classifier_types:\n",
    "    \n",
    "    nb_score_df = pd.DataFrame(columns = ['Fold', 'Accuracy', 'Precision', 'Recall'])\n",
    "\n",
    "    mean_acc = 0\n",
    "    for fold_ind, (train_indices, test_indices) in enumerate(stratified_kflod_validator.split(x, y), 1):\n",
    "\n",
    "        x_train, x_test = x[train_indices], x[test_indices]\n",
    "        y_train, y_test = y[train_indices], y[test_indices]\n",
    "\n",
    "        nb = nb_classifier_type()\n",
    "        nb.fit(x_train, y_train)\n",
    "\n",
    "        acc = nb.score(x_test, y_test)\n",
    "        mean_acc += acc\n",
    "        \n",
    "        y_pred = nb.predict(x_test)\n",
    "        precision = sklearn.metrics.precision_score(y_test, y_pred)\n",
    "        recall = sklearn.metrics.recall_score(y_test, y_pred)\n",
    "\n",
    "        nb_score_df.loc[fold_ind] = [f'{fold_ind}', \n",
    "                                     f'{acc*100:.2f} %', \n",
    "                                     f'{precision*100:.2f} %', \n",
    "                                     f'{recall*100:.2f} %']\n",
    "\n",
    "    next_ind = len(nb_score_df) + 1\n",
    "    \n",
    "    mean_acc  = nb_score_df['Accuracy'].apply(lambda n: float(n[:-2])).mean()\n",
    "    mean_prec = nb_score_df['Precision'].apply(lambda n: float(n[:-2])).mean()\n",
    "    mean_rec  = nb_score_df['Recall'].apply(lambda n: float(n[:-2])).mean()\n",
    "    \n",
    "    nb_score_df.loc[next_ind] = ['Avg', \n",
    "                                 f'{mean_acc:.2f} %', \n",
    "                                 f'{mean_prec:.2f} %', \n",
    "                                 f'{mean_rec:.2f} %']\n",
    "    \n",
    "    nb_mean_score_df.loc[len(nb_mean_score_df) + 1] = [nb_classifier_type.__name__, \n",
    "                                                       f'{mean_acc:.2f} %', \n",
    "                                                       f'{mean_prec:.2f} %', \n",
    "                                                       f'{mean_rec:.2f} %']\n",
    "\n",
    "    print(nb_classifier_type.__name__)\n",
    "    print()\n",
    "    print(nb_score_df)\n",
    "    print()\n",
    "    \n",
    "nb_mean_score_df.sort_values(by = ['Avg. Accuracy'])"
   ]
  },
  {
   "cell_type": "markdown",
   "metadata": {},
   "source": [
    "# SVM"
   ]
  },
  {
   "cell_type": "code",
   "execution_count": 158,
   "metadata": {},
   "outputs": [
    {
     "name": "stdout",
     "output_type": "stream",
     "text": [
      "  Type Accuracy Precision   Recall\n",
      "1    1  75.00 %   81.82 %  56.25 %\n",
      "2    2  91.67 %   88.24 %  93.75 %\n",
      "3    3  86.11 %   82.35 %  87.50 %\n",
      "4    4  77.78 %   75.00 %  75.00 %\n",
      "5    5  80.56 %   80.00 %  75.00 %\n",
      "6  Avg  82.22 %   81.48 %  77.50 %\n"
     ]
    }
   ],
   "source": [
    "svm_classifier_type = sklearn.svm.SVC\n",
    "\n",
    "#                                                      Avg.\n",
    "# Args                                  ->  acc    /   prec  /  rec\n",
    "#\n",
    "# kernel: linear                        -> 78.89 %   78.31 %   73.75 %\n",
    "# kernel: linear, C: 0.1                -> 84.44 %   88.54 %   75.00 %\n",
    "#\n",
    "#  * No improvement for larger C.\n",
    "#\n",
    "# kernel: poly, max_iter: 1             -> 46.67 %   34.67 %   21.25 %\n",
    "# kernel: poly, max_iter: 10            -> 57.22 %   51.27 %   66.25 %\n",
    "# kernel: poly, max_iter: 100           -> 61.67 %   60.18 %   40.00 %\n",
    "# kernel: poly, max_iter: 100, coef0: 1 -> 62.22 %   62.19 %   41.25 %\n",
    "#\n",
    "#  * No improvement for more iters.\n",
    "#  * No improvement for larger C.\n",
    "#  * No improvement for higher degree.\n",
    "#  * No improvement for different coef0.\n",
    "#\n",
    "# kernel: rbf, max_iter: 10             -> 48.89 %   46.07 %  72.50 %\n",
    "# kernel: rbf, max_iter: 100            -> 60.00 %   74.00 %  17.50 %\n",
    "# kernel: rbf, max_iter: 1000           -> 60.56 %   78.33 %  15.00 %\n",
    "\n",
    "\n",
    "args = {'kernel': 'linear', 'C': 0.1}\n",
    "\n",
    "svm_score_df = pd.DataFrame(columns = ['Type', 'Accuracy', 'Precision', 'Recall'])\n",
    "\n",
    "# normalized_x = sklearn.preprocessing.normalize(x)\n",
    "\n",
    "mean_acc = 0\n",
    "for fold_ind, (train_indices, test_indices) in enumerate(stratified_kflod_validator.split(x, y), 1):\n",
    "\n",
    "    x_train, x_test = x[train_indices], x[test_indices]\n",
    "    y_train, y_test = y[train_indices], y[test_indices]\n",
    "\n",
    "    svm = svm_classifier_type(**args, gamma = 'scale', cache_size = 256)\n",
    "    svm.fit(x_train, y_train)\n",
    "\n",
    "    acc = svm.score(x_test, y_test)\n",
    "    mean_acc += acc\n",
    "\n",
    "    y_pred = svm.predict(x_test)\n",
    "    precision = sklearn.metrics.precision_score(y_test, y_pred)\n",
    "    recall = sklearn.metrics.recall_score(y_test, y_pred)\n",
    "\n",
    "    svm_score_df.loc[fold_ind] = [f'{fold_ind}', \n",
    "                                  f'{acc*100:.2f} %', \n",
    "                                  f'{precision*100:.2f} %', \n",
    "                                  f'{recall*100:.2f} %']\n",
    "\n",
    "next_ind = len(svm_score_df) + 1\n",
    "\n",
    "mean_acc  = svm_score_df['Accuracy'].apply(lambda n: float(n[:-2])).mean()\n",
    "mean_prec = svm_score_df['Precision'].apply(lambda n: float(n[:-2])).mean()\n",
    "mean_rec  = svm_score_df['Recall'].apply(lambda n: float(n[:-2])).mean()\n",
    "\n",
    "svm_score_df.loc[next_ind] = ['Avg', \n",
    "                              f'{mean_acc:.2f} %', \n",
    "                              f'{mean_prec:.2f} %', \n",
    "                              f'{mean_rec:.2f} %']\n",
    "\n",
    "print(svm_score_df)"
   ]
  },
  {
   "cell_type": "code",
   "execution_count": null,
   "metadata": {},
   "outputs": [],
   "source": []
  },
  {
   "cell_type": "markdown",
   "metadata": {},
   "source": [
    "# Shallow Neural Nets"
   ]
  },
  {
   "cell_type": "markdown",
   "metadata": {},
   "source": [
    "## Import deps"
   ]
  },
  {
   "cell_type": "code",
   "execution_count": 1,
   "metadata": {},
   "outputs": [
    {
     "name": "stderr",
     "output_type": "stream",
     "text": [
      "Using TensorFlow backend.\n"
     ]
    }
   ],
   "source": [
    "import pandas as pd\n",
    "\n",
    "from sklearn.model_selection import train_test_split\n",
    "\n",
    "import keras\n",
    "from keras.models import Sequential\n",
    "from keras.layers import Dense, Dropout, Activation, Flatten\n",
    "from keras.layers import Conv2D, MaxPooling2D\n",
    "\n",
    "\n",
    "from keras.layers import Input, Dense, Conv2D, MaxPooling2D, Dropout, Flatten, BatchNormalization, LeakyReLU"
   ]
  },
  {
   "cell_type": "markdown",
   "metadata": {},
   "source": [
    "## Import data"
   ]
  },
  {
   "cell_type": "code",
   "execution_count": 2,
   "metadata": {},
   "outputs": [
    {
     "name": "stdout",
     "output_type": "stream",
     "text": [
      "  patient_id  heart_disease_present\n",
      "0     0z64un                      0\n",
      "1     ryoo3j                      0\n",
      "2     yt1s1x                      1\n",
      "3     l2xjde                      1\n",
      "4     oyt4ek                      0\n"
     ]
    },
    {
     "data": {
      "text/html": [
       "<div>\n",
       "<style scoped>\n",
       "    .dataframe tbody tr th:only-of-type {\n",
       "        vertical-align: middle;\n",
       "    }\n",
       "\n",
       "    .dataframe tbody tr th {\n",
       "        vertical-align: top;\n",
       "    }\n",
       "\n",
       "    .dataframe thead th {\n",
       "        text-align: right;\n",
       "    }\n",
       "</style>\n",
       "<table border=\"1\" class=\"dataframe\">\n",
       "  <thead>\n",
       "    <tr style=\"text-align: right;\">\n",
       "      <th></th>\n",
       "      <th>patient_id</th>\n",
       "      <th>slope_of_peak_exercise_st_segment</th>\n",
       "      <th>thal</th>\n",
       "      <th>resting_blood_pressure</th>\n",
       "      <th>chest_pain_type</th>\n",
       "      <th>num_major_vessels</th>\n",
       "      <th>fasting_blood_sugar_gt_120_mg_per_dl</th>\n",
       "      <th>resting_ekg_results</th>\n",
       "      <th>serum_cholesterol_mg_per_dl</th>\n",
       "      <th>oldpeak_eq_st_depression</th>\n",
       "      <th>sex</th>\n",
       "      <th>age</th>\n",
       "      <th>max_heart_rate_achieved</th>\n",
       "      <th>exercise_induced_angina</th>\n",
       "    </tr>\n",
       "  </thead>\n",
       "  <tbody>\n",
       "    <tr>\n",
       "      <th>0</th>\n",
       "      <td>0z64un</td>\n",
       "      <td>1</td>\n",
       "      <td>normal</td>\n",
       "      <td>128</td>\n",
       "      <td>2</td>\n",
       "      <td>0</td>\n",
       "      <td>0</td>\n",
       "      <td>2</td>\n",
       "      <td>308</td>\n",
       "      <td>0.0</td>\n",
       "      <td>1</td>\n",
       "      <td>45</td>\n",
       "      <td>170</td>\n",
       "      <td>0</td>\n",
       "    </tr>\n",
       "    <tr>\n",
       "      <th>1</th>\n",
       "      <td>ryoo3j</td>\n",
       "      <td>2</td>\n",
       "      <td>normal</td>\n",
       "      <td>110</td>\n",
       "      <td>3</td>\n",
       "      <td>0</td>\n",
       "      <td>0</td>\n",
       "      <td>0</td>\n",
       "      <td>214</td>\n",
       "      <td>1.6</td>\n",
       "      <td>0</td>\n",
       "      <td>54</td>\n",
       "      <td>158</td>\n",
       "      <td>0</td>\n",
       "    </tr>\n",
       "    <tr>\n",
       "      <th>2</th>\n",
       "      <td>yt1s1x</td>\n",
       "      <td>1</td>\n",
       "      <td>normal</td>\n",
       "      <td>125</td>\n",
       "      <td>4</td>\n",
       "      <td>3</td>\n",
       "      <td>0</td>\n",
       "      <td>2</td>\n",
       "      <td>304</td>\n",
       "      <td>0.0</td>\n",
       "      <td>1</td>\n",
       "      <td>77</td>\n",
       "      <td>162</td>\n",
       "      <td>1</td>\n",
       "    </tr>\n",
       "    <tr>\n",
       "      <th>3</th>\n",
       "      <td>l2xjde</td>\n",
       "      <td>1</td>\n",
       "      <td>reversible_defect</td>\n",
       "      <td>152</td>\n",
       "      <td>4</td>\n",
       "      <td>0</td>\n",
       "      <td>0</td>\n",
       "      <td>0</td>\n",
       "      <td>223</td>\n",
       "      <td>0.0</td>\n",
       "      <td>1</td>\n",
       "      <td>40</td>\n",
       "      <td>181</td>\n",
       "      <td>0</td>\n",
       "    </tr>\n",
       "    <tr>\n",
       "      <th>4</th>\n",
       "      <td>oyt4ek</td>\n",
       "      <td>3</td>\n",
       "      <td>reversible_defect</td>\n",
       "      <td>178</td>\n",
       "      <td>1</td>\n",
       "      <td>0</td>\n",
       "      <td>0</td>\n",
       "      <td>2</td>\n",
       "      <td>270</td>\n",
       "      <td>4.2</td>\n",
       "      <td>1</td>\n",
       "      <td>59</td>\n",
       "      <td>145</td>\n",
       "      <td>0</td>\n",
       "    </tr>\n",
       "  </tbody>\n",
       "</table>\n",
       "</div>"
      ],
      "text/plain": [
       "  patient_id  slope_of_peak_exercise_st_segment               thal  \\\n",
       "0     0z64un                                  1             normal   \n",
       "1     ryoo3j                                  2             normal   \n",
       "2     yt1s1x                                  1             normal   \n",
       "3     l2xjde                                  1  reversible_defect   \n",
       "4     oyt4ek                                  3  reversible_defect   \n",
       "\n",
       "   resting_blood_pressure  chest_pain_type  num_major_vessels  \\\n",
       "0                     128                2                  0   \n",
       "1                     110                3                  0   \n",
       "2                     125                4                  3   \n",
       "3                     152                4                  0   \n",
       "4                     178                1                  0   \n",
       "\n",
       "   fasting_blood_sugar_gt_120_mg_per_dl  resting_ekg_results  \\\n",
       "0                                     0                    2   \n",
       "1                                     0                    0   \n",
       "2                                     0                    2   \n",
       "3                                     0                    0   \n",
       "4                                     0                    2   \n",
       "\n",
       "   serum_cholesterol_mg_per_dl  oldpeak_eq_st_depression  sex  age  \\\n",
       "0                          308                       0.0    1   45   \n",
       "1                          214                       1.6    0   54   \n",
       "2                          304                       0.0    1   77   \n",
       "3                          223                       0.0    1   40   \n",
       "4                          270                       4.2    1   59   \n",
       "\n",
       "   max_heart_rate_achieved  exercise_induced_angina  \n",
       "0                      170                        0  \n",
       "1                      158                        0  \n",
       "2                      162                        1  \n",
       "3                      181                        0  \n",
       "4                      145                        0  "
      ]
     },
     "execution_count": 2,
     "metadata": {},
     "output_type": "execute_result"
    }
   ],
   "source": [
    "features = pd.read_csv('train_values.csv')\n",
    "labels = pd.read_csv('train_labels.csv')\n",
    "\n",
    "print(labels.head())\n",
    "features.head()"
   ]
  },
  {
   "cell_type": "code",
   "execution_count": 3,
   "metadata": {},
   "outputs": [],
   "source": [
    "FEATURES =  ['slope_of_peak_exercise_st_segment', \n",
    "             'thal',\n",
    "             'resting_blood_pressure', \n",
    "             'chest_pain_type', \n",
    "             'num_major_vessels', \n",
    "             'fasting_blood_sugar_gt_120_mg_per_dl',\n",
    "             'resting_ekg_results', \n",
    "             'serum_cholesterol_mg_per_dl', \n",
    "             'oldpeak_eq_st_depression', \n",
    "             'sex',\n",
    "             'age', \n",
    "             'max_heart_rate_achieved', \n",
    "             'exercise_induced_angina']\n",
    "\n",
    "LABEL = 'heart_disease_present'\n",
    "\n",
    "EXPLANATIONS = {'slope_of_peak_exercise_st_segment'    : 'Quality of Blood Flow to the Heart',\n",
    "                'thal'                                 : 'Thallium Stress Test Measuring Blood Flow to the Heart',\n",
    "                'resting_blood_pressure'               : 'Resting Blood Pressure', \n",
    "                'chest_pain_type'                      : 'Chest Pain Type (1-4)',\n",
    "                'num_major_vessels'                    : 'Major Vessels (0-3) Colored by Flourosopy',\n",
    "                'fasting_blood_sugar_gt_120_mg_per_dl' : 'Fasting Blood Sugar > 120 mg/dl',\n",
    "                'resting_ekg_results'                  : 'Resting Electrocardiographic Results (0-2)',\n",
    "                'serum_cholesterol_mg_per_dl'          : 'Serum Cholesterol in mg/dl',\n",
    "                'oldpeak_eq_st_depression'             : 'Exercise vs. Rest\\nA Measure of Abnormality in Electrocardiograms',\n",
    "                'age'                                  : 'Age (years)',\n",
    "                'sex'                                  : 'Sex (m/f)',\n",
    "                'max_heart_rate_achieved'              : 'Maximum Heart Rate Achieved (bpm)',\n",
    "                'exercise_induced_angina'              : 'Exercise-Induced Chest Pain (yes/no)'}\n",
    "\n",
    "NUMERICAL_FEATURES = ['slope_of_peak_exercise_st_segment', \n",
    "                      'resting_blood_pressure', \n",
    "                      'chest_pain_type', \n",
    "                      'num_major_vessels', \n",
    "                      'resting_ekg_results', \n",
    "                      'serum_cholesterol_mg_per_dl', \n",
    "                      'oldpeak_eq_st_depression', \n",
    "                      'age', \n",
    "                      'max_heart_rate_achieved']\n",
    "\n",
    "CATEGORICAL_FEATURES = ['thal', \n",
    "                        'fasting_blood_sugar_gt_120_mg_per_dl', \n",
    "                        'sex', \n",
    "                        'exercise_induced_angina']\n",
    "\n",
    "CATEGORICAL_FEATURE_VALUES = {'thal'                                 : [[0, 1, 2], ['Normal', \n",
    "                                                                                    'Fixed Defect', \n",
    "                                                                                    'Reversible Defect']], \n",
    "                              'fasting_blood_sugar_gt_120_mg_per_dl' : [[0, 1], ['No', 'Yes']],\n",
    "                              'sex'                                  : [[0, 1], ['F', 'M']], \n",
    "                              'exercise_induced_angina'              : [[0, 1], ['No', 'Yes']]}\n",
    "\n",
    "SEMI_CATEGORICAL_FEATURES = ['slope_of_peak_exercise_st_segment',\n",
    "                             'chest_pain_type',\n",
    "                             'num_major_vessels',\n",
    "                             'resting_ekg_results']\n",
    "\n",
    "SEMI_CATEGORICAL_FEATURE_LIMITS = {'slope_of_peak_exercise_st_segment' : [1, 3],\n",
    "                                   'chest_pain_type'                   : [1, 4],\n",
    "                                   'num_major_vessels'                 : [0, 3],\n",
    "                                   'resting_ekg_results'               : [0, 2]}\n",
    "\n",
    "LABEL_VALUES = [[0, 1], ['No', 'Yes']]\n"
   ]
  },
  {
   "cell_type": "code",
   "execution_count": 4,
   "metadata": {},
   "outputs": [],
   "source": [
    "for feature in CATEGORICAL_FEATURES:\n",
    "    if len(CATEGORICAL_FEATURE_VALUES[feature][0]) > 2:\n",
    "        \n",
    "        onehot_feature = pd.get_dummies(features[feature])\n",
    "        \n",
    "        feature_index = features.columns.get_loc(feature)\n",
    "        features.drop(feature, axis=1, inplace=True)\n",
    "        \n",
    "        onehot_feature.columns = ['%s=%s' % (feature, feature_value) for feature_value in onehot_feature.columns]\n",
    "        for colname in onehot_feature.columns[::-1]:\n",
    "            features.insert(feature_index, colname, onehot_feature[colname])"
   ]
  },
  {
   "cell_type": "code",
   "execution_count": 5,
   "metadata": {},
   "outputs": [
    {
     "name": "stdout",
     "output_type": "stream",
     "text": [
      "x =\n",
      " [[  1   0   1 ...  45 170   0]\n",
      " [  2   0   1 ...  54 158   0]\n",
      " [  1   0   1 ...  77 162   1]\n",
      " ...\n",
      " [  2   0   0 ...  64 131   1]\n",
      " [  1   0   1 ...  48 175   0]\n",
      " [  1   0   1 ...  54 163   0]]\n",
      "y =\n",
      " [0 0 1 1 0 0 1 1 1 0 0 0 1 0 1 1 0 1 0 1 0 0 0 0 0 0 0 0 1 0 0 1 1 0 1 0 0\n",
      " 0 0 1 0 0 0 0 0 1 0 0 1 0 1 0 1 1 1 0 1 1 0 1 0 1 1 0 0 1 1 0 0 1 0 0 0 0\n",
      " 1 1 0 1 1 1 0 1 1 1 0 1 0 1 0 0 0 1 0 1 0 0 1 0 0 0 0 0 1 0 0 0 0 1 0 1 0\n",
      " 0 1 1 0 0 0 1 1 1 1 0 0 0 1 0 0 0 1 1 0 0 0 1 1 0 1 1 0 0 1 0 0 1 1 0 0 1\n",
      " 1 1 0 0 1 1 1 1 0 0 0 1 0 1 1 1 0 0 0 1 0 0 1 1 1 1 0 1 1 1 0 0]\n"
     ]
    }
   ],
   "source": [
    "x = features.values[:,1:].astype(int)\n",
    "y = labels.values[:,-1].astype(int)\n",
    "\n",
    "print('x =\\n', x)\n",
    "print('y =\\n', y)"
   ]
  },
  {
   "cell_type": "code",
   "execution_count": 6,
   "metadata": {},
   "outputs": [],
   "source": [
    "# for fold_ind, (train_indices, test_indices) in enumerate(stratified_kflod_validator.split(x, y), 1):\n",
    "\n",
    "#     x_train, x_test = x[train_indices], x[test_indices]\n",
    "#     y_train, y_test = y[train_indices], y[test_indices]"
   ]
  },
  {
   "cell_type": "code",
   "execution_count": 7,
   "metadata": {},
   "outputs": [
    {
     "name": "stdout",
     "output_type": "stream",
     "text": [
      "(144, 15) (36, 15)\n",
      "(144,) (36,)\n"
     ]
    }
   ],
   "source": [
    "x_train, x_test, y_train, y_test = \\\n",
    "    train_test_split(x, y, test_size=0.2, random_state=42)\n",
    "\n",
    "print(x_train.shape, x_test.shape)\n",
    "print(y_train.shape, y_test.shape)"
   ]
  },
  {
   "cell_type": "markdown",
   "metadata": {},
   "source": [
    "## Define model"
   ]
  },
  {
   "cell_type": "code",
   "execution_count": 8,
   "metadata": {},
   "outputs": [
    {
     "name": "stdout",
     "output_type": "stream",
     "text": [
      "(180, 15)\n",
      "(180,)\n",
      "[[  1   0   1   0 128   2   0   0   2 308   0   1  45 170   0]]\n",
      "[0]\n"
     ]
    }
   ],
   "source": [
    "input_shape = (1,15)\n",
    "num_classes = 2\n",
    "\n",
    "print(x.shape)\n",
    "print(y.shape)\n",
    "\n",
    "print(x[:1])\n",
    "print(y[:1])"
   ]
  },
  {
   "cell_type": "markdown",
   "metadata": {},
   "source": [
    "### Architecture 0 - Inflating Dense 120-225, 0.5 Dropout, Batch Norm, Sigmoid Classification"
   ]
  },
  {
   "cell_type": "code",
   "execution_count": 32,
   "metadata": {},
   "outputs": [
    {
     "name": "stdout",
     "output_type": "stream",
     "text": [
      "_________________________________________________________________\n",
      "Layer (type)                 Output Shape              Param #   \n",
      "=================================================================\n",
      "dense_19 (Dense)             (None, 120)               1920      \n",
      "_________________________________________________________________\n",
      "dropout_7 (Dropout)          (None, 120)               0         \n",
      "_________________________________________________________________\n",
      "dense_20 (Dense)             (None, 225)               27225     \n",
      "_________________________________________________________________\n",
      "batch_normalization_7 (Batch (None, 225)               900       \n",
      "_________________________________________________________________\n",
      "dense_21 (Dense)             (None, 1)                 226       \n",
      "=================================================================\n",
      "Total params: 30,271\n",
      "Trainable params: 29,821\n",
      "Non-trainable params: 450\n",
      "_________________________________________________________________\n"
     ]
    }
   ],
   "source": [
    "arch_cnt = 'arch-0-3'\n",
    "\n",
    "model = Sequential()\n",
    "model.add(\n",
    "    Dense(120, input_dim=15, kernel_initializer='normal',\n",
    "          # kernel_regularizer=keras.regularizers.l2(0.001), # pierd 0.2 acc\n",
    "          activation='relu'))\n",
    "model.add(Dropout(0.5))\n",
    "model.add(Dense(225, input_dim=15, kernel_initializer='normal', activation='relu'))\n",
    "# model.add(LeakyReLU(alpha=0.1))\n",
    "model.add(BatchNormalization(axis = 1))\n",
    "model.add(Dense(1, kernel_initializer='normal', activation='sigmoid'))\n",
    "\n",
    "\n",
    "model.compile(loss='binary_crossentropy', optimizer='adam', metrics=['accuracy'])\n",
    "\n",
    "model.summary()"
   ]
  },
  {
   "cell_type": "code",
   "execution_count": 33,
   "metadata": {
    "scrolled": true
   },
   "outputs": [
    {
     "name": "stdout",
     "output_type": "stream",
     "text": [
      "Train on 144 samples, validate on 36 samples\n",
      "Epoch 1/50\n",
      "144/144 [==============================] - 0s 2ms/step - loss: 0.6969 - acc: 0.5417 - val_loss: 0.6813 - val_acc: 0.5556\n",
      "Epoch 2/50\n",
      "144/144 [==============================] - 0s 71us/step - loss: 0.7291 - acc: 0.5417 - val_loss: 0.6876 - val_acc: 0.5556\n",
      "Epoch 3/50\n",
      "144/144 [==============================] - 0s 81us/step - loss: 0.7537 - acc: 0.5000 - val_loss: 0.7145 - val_acc: 0.4444\n",
      "Epoch 4/50\n",
      "144/144 [==============================] - 0s 138us/step - loss: 0.6780 - acc: 0.5556 - val_loss: 0.7250 - val_acc: 0.4444\n",
      "Epoch 5/50\n",
      "144/144 [==============================] - 0s 80us/step - loss: 0.7757 - acc: 0.4444 - val_loss: 0.7068 - val_acc: 0.4444\n",
      "Epoch 6/50\n",
      "144/144 [==============================] - 0s 106us/step - loss: 0.6985 - acc: 0.5556 - val_loss: 0.6883 - val_acc: 0.4167\n",
      "\n",
      "Epoch 00006: ReduceLROnPlateau reducing learning rate to 0.001.\n",
      "Epoch 7/50\n",
      "144/144 [==============================] - 0s 84us/step - loss: 0.7108 - acc: 0.5556 - val_loss: 0.6835 - val_acc: 0.5278\n",
      "Epoch 8/50\n",
      "144/144 [==============================] - 0s 115us/step - loss: 0.6764 - acc: 0.5903 - val_loss: 0.6797 - val_acc: 0.5556\n",
      "Epoch 00008: early stopping\n",
      "CPU times: user 2.04 s, sys: 47.7 ms, total: 2.09 s\n",
      "Wall time: 2.04 s\n"
     ]
    }
   ],
   "source": [
    "%%time\n",
    "\n",
    "# earlystop_cb = keras.callbacks.EarlyStopping(\n",
    "#     monitor='val_loss',\n",
    "#     patience=5, restore_best_weights=True,\n",
    "#     verbose=1)\n",
    "reduce_lr_cb = keras.callbacks.ReduceLROnPlateau(\n",
    "    monitor='val_loss', factor=0.05,\n",
    "    patience=5, min_lr=0.001,\n",
    "    verbose=1)\n",
    "\n",
    "# es_cb = keras.callbacks.EarlyStopping(\n",
    "#     monitor='val_loss',\n",
    "#     min_delta=0.1,\n",
    "#     patience=7,\n",
    "#     verbose=1,\n",
    "#     mode='auto'\n",
    "# )\n",
    "# 'restore_best_weights' in dir(keras.callbacks.EarlyStopping()) # FALSE = library is not up-to-date\n",
    "\n",
    "tb_cb = keras.callbacks.TensorBoard(log_dir='./tensorboard/%s' % arch_cnt, histogram_freq=0,  \n",
    "          write_graph=True, write_images=True)\n",
    "\n",
    "\n",
    "epochs = 50\n",
    "batch_size = 32\n",
    "\n",
    "model.fit(\n",
    "    x_train, y_train,\n",
    "    batch_size=batch_size,\n",
    "    epochs=epochs,\n",
    "    verbose=1,\n",
    "    \n",
    "    shuffle=False,\n",
    "    validation_data=(x_test, y_test),\n",
    "    callbacks=[reduce_lr_cb, es_cb, tb_cb]\n",
    ")"
   ]
  },
  {
   "cell_type": "code",
   "execution_count": 34,
   "metadata": {},
   "outputs": [
    {
     "name": "stdout",
     "output_type": "stream",
     "text": [
      "Test loss: 0.6797179447280036\n",
      "Test accuracy: 0.5555555555555556\n"
     ]
    }
   ],
   "source": [
    "score = model.evaluate(x_test, y_test, verbose=0)\n",
    "print('Test loss:', score[0])\n",
    "print('Test accuracy:', score[1])"
   ]
  },
  {
   "cell_type": "markdown",
   "metadata": {},
   "source": [
    "### Architecture 1 - **`Deflating Dense 225-112`**, 0.5 Dropout, Batch Norm, Sigmoid Classification"
   ]
  },
  {
   "cell_type": "code",
   "execution_count": 14,
   "metadata": {},
   "outputs": [
    {
     "name": "stdout",
     "output_type": "stream",
     "text": [
      "_________________________________________________________________\n",
      "Layer (type)                 Output Shape              Param #   \n",
      "=================================================================\n",
      "dense_4 (Dense)              (None, 225)               3600      \n",
      "_________________________________________________________________\n",
      "dropout_2 (Dropout)          (None, 225)               0         \n",
      "_________________________________________________________________\n",
      "dense_5 (Dense)              (None, 112)               25312     \n",
      "_________________________________________________________________\n",
      "batch_normalization_2 (Batch (None, 112)               448       \n",
      "_________________________________________________________________\n",
      "dense_6 (Dense)              (None, 1)                 113       \n",
      "=================================================================\n",
      "Total params: 29,473\n",
      "Trainable params: 29,249\n",
      "Non-trainable params: 224\n",
      "_________________________________________________________________\n"
     ]
    }
   ],
   "source": [
    "arch_cnt = 'arch-1'\n",
    "\n",
    "model = Sequential()\n",
    "model.add(\n",
    "    Dense(225, input_dim=15, kernel_initializer='normal',\n",
    "          # kernel_regularizer=keras.regularizers.l2(0.001), # pierd 0.2 acc\n",
    "          activation='relu'))\n",
    "model.add(Dropout(0.5))\n",
    "model.add(Dense(112, input_dim=15, kernel_initializer='normal', activation='relu'))\n",
    "# model.add(LeakyReLU(alpha=0.1))\n",
    "model.add(BatchNormalization(axis = 1))\n",
    "model.add(Dense(1, kernel_initializer='normal', activation='sigmoid'))\n",
    "\n",
    "\n",
    "model.compile(loss='binary_crossentropy', optimizer='adam', metrics=['accuracy'])\n",
    "\n",
    "model.summary()"
   ]
  },
  {
   "cell_type": "code",
   "execution_count": 15,
   "metadata": {
    "scrolled": true
   },
   "outputs": [
    {
     "name": "stdout",
     "output_type": "stream",
     "text": [
      "Train on 144 samples, validate on 36 samples\n",
      "Epoch 1/50\n",
      "144/144 [==============================] - 0s 2ms/step - loss: 0.7093 - acc: 0.5069 - val_loss: 0.6825 - val_acc: 0.5833\n",
      "Epoch 2/50\n",
      "144/144 [==============================] - 0s 73us/step - loss: 0.6929 - acc: 0.5694 - val_loss: 0.6799 - val_acc: 0.7500\n",
      "Epoch 3/50\n",
      "144/144 [==============================] - 0s 80us/step - loss: 0.6967 - acc: 0.5069 - val_loss: 0.6785 - val_acc: 0.6111\n",
      "Epoch 4/50\n",
      "144/144 [==============================] - 0s 81us/step - loss: 0.6565 - acc: 0.6042 - val_loss: 0.6805 - val_acc: 0.5278\n",
      "Epoch 5/50\n",
      "144/144 [==============================] - 0s 75us/step - loss: 0.7139 - acc: 0.4861 - val_loss: 0.6793 - val_acc: 0.5000\n",
      "Epoch 6/50\n",
      "144/144 [==============================] - 0s 71us/step - loss: 0.6951 - acc: 0.5833 - val_loss: 0.6761 - val_acc: 0.5278\n",
      "Epoch 7/50\n",
      "144/144 [==============================] - 0s 88us/step - loss: 0.6469 - acc: 0.6181 - val_loss: 0.6785 - val_acc: 0.4722\n",
      "Epoch 8/50\n",
      "144/144 [==============================] - 0s 99us/step - loss: 0.6730 - acc: 0.6042 - val_loss: 0.6817 - val_acc: 0.4444\n",
      "Epoch 9/50\n",
      "144/144 [==============================] - 0s 97us/step - loss: 0.6321 - acc: 0.6389 - val_loss: 0.6897 - val_acc: 0.5000\n",
      "Epoch 10/50\n",
      "144/144 [==============================] - 0s 77us/step - loss: 0.6615 - acc: 0.5694 - val_loss: 0.6838 - val_acc: 0.4722\n",
      "Epoch 11/50\n",
      "144/144 [==============================] - 0s 115us/step - loss: 0.6357 - acc: 0.6458 - val_loss: 0.6758 - val_acc: 0.4444\n",
      "Epoch 12/50\n",
      "144/144 [==============================] - 0s 70us/step - loss: 0.6651 - acc: 0.5556 - val_loss: 0.6755 - val_acc: 0.4722\n",
      "Epoch 13/50\n",
      "144/144 [==============================] - 0s 83us/step - loss: 0.6498 - acc: 0.6111 - val_loss: 0.6762 - val_acc: 0.4167\n",
      "Epoch 14/50\n",
      "144/144 [==============================] - 0s 77us/step - loss: 0.6679 - acc: 0.5903 - val_loss: 0.6807 - val_acc: 0.5000\n",
      "Epoch 15/50\n",
      "144/144 [==============================] - 0s 75us/step - loss: 0.6756 - acc: 0.5972 - val_loss: 0.6921 - val_acc: 0.4722\n",
      "Epoch 16/50\n",
      "144/144 [==============================] - 0s 64us/step - loss: 0.6558 - acc: 0.6458 - val_loss: 0.7126 - val_acc: 0.5000\n",
      "Epoch 17/50\n",
      "144/144 [==============================] - 0s 85us/step - loss: 0.6583 - acc: 0.5764 - val_loss: 0.7052 - val_acc: 0.5000\n",
      "Epoch 18/50\n",
      "144/144 [==============================] - 0s 97us/step - loss: 0.6644 - acc: 0.5972 - val_loss: 0.7022 - val_acc: 0.5000\n",
      "Epoch 19/50\n",
      "144/144 [==============================] - 0s 67us/step - loss: 0.6542 - acc: 0.6181 - val_loss: 0.6827 - val_acc: 0.5000\n",
      "\n",
      "Epoch 00019: ReduceLROnPlateau reducing learning rate to 0.001.\n",
      "Epoch 20/50\n",
      "144/144 [==============================] - 0s 60us/step - loss: 0.6295 - acc: 0.6528 - val_loss: 0.6693 - val_acc: 0.4722\n",
      "Epoch 21/50\n",
      "144/144 [==============================] - 0s 88us/step - loss: 0.6372 - acc: 0.6458 - val_loss: 0.6694 - val_acc: 0.5278\n",
      "Epoch 22/50\n",
      "144/144 [==============================] - 0s 86us/step - loss: 0.6372 - acc: 0.6528 - val_loss: 0.6713 - val_acc: 0.5278\n",
      "Epoch 23/50\n",
      "144/144 [==============================] - 0s 126us/step - loss: 0.6302 - acc: 0.6667 - val_loss: 0.6722 - val_acc: 0.5278\n",
      "Epoch 24/50\n",
      "144/144 [==============================] - 0s 95us/step - loss: 0.6399 - acc: 0.6389 - val_loss: 0.6669 - val_acc: 0.5278\n",
      "Epoch 25/50\n",
      "144/144 [==============================] - 0s 72us/step - loss: 0.6367 - acc: 0.6875 - val_loss: 0.6621 - val_acc: 0.5833\n",
      "Epoch 26/50\n",
      "144/144 [==============================] - 0s 104us/step - loss: 0.6440 - acc: 0.6111 - val_loss: 0.6633 - val_acc: 0.5833\n",
      "Epoch 27/50\n",
      "144/144 [==============================] - 0s 81us/step - loss: 0.6119 - acc: 0.6875 - val_loss: 0.6646 - val_acc: 0.6111\n",
      "Epoch 28/50\n",
      "144/144 [==============================] - 0s 103us/step - loss: 0.6463 - acc: 0.6458 - val_loss: 0.6685 - val_acc: 0.6111\n",
      "Epoch 29/50\n",
      "144/144 [==============================] - 0s 80us/step - loss: 0.6254 - acc: 0.6528 - val_loss: 0.6906 - val_acc: 0.5278\n",
      "Epoch 30/50\n",
      "144/144 [==============================] - 0s 89us/step - loss: 0.6357 - acc: 0.6667 - val_loss: 0.6953 - val_acc: 0.5000\n",
      "Epoch 31/50\n",
      "144/144 [==============================] - 0s 130us/step - loss: 0.6132 - acc: 0.7014 - val_loss: 0.6744 - val_acc: 0.5556\n",
      "Epoch 32/50\n",
      "144/144 [==============================] - 0s 98us/step - loss: 0.5881 - acc: 0.6806 - val_loss: 0.6497 - val_acc: 0.6389\n",
      "Epoch 33/50\n",
      "144/144 [==============================] - 0s 75us/step - loss: 0.6306 - acc: 0.6597 - val_loss: 0.6354 - val_acc: 0.6111\n",
      "Epoch 34/50\n",
      "144/144 [==============================] - 0s 76us/step - loss: 0.5916 - acc: 0.6458 - val_loss: 0.6416 - val_acc: 0.6389\n",
      "Epoch 35/50\n",
      "144/144 [==============================] - 0s 82us/step - loss: 0.6336 - acc: 0.6389 - val_loss: 0.6559 - val_acc: 0.5833\n",
      "Epoch 36/50\n",
      "144/144 [==============================] - 0s 79us/step - loss: 0.6226 - acc: 0.6667 - val_loss: 0.6697 - val_acc: 0.6111\n",
      "Epoch 37/50\n",
      "144/144 [==============================] - 0s 83us/step - loss: 0.6108 - acc: 0.6875 - val_loss: 0.6779 - val_acc: 0.5278\n",
      "Epoch 38/50\n",
      "144/144 [==============================] - 0s 100us/step - loss: 0.6044 - acc: 0.6667 - val_loss: 0.6830 - val_acc: 0.5278\n",
      "Epoch 39/50\n",
      "144/144 [==============================] - 0s 92us/step - loss: 0.5959 - acc: 0.6806 - val_loss: 0.6889 - val_acc: 0.5556\n",
      "Epoch 40/50\n",
      "144/144 [==============================] - 0s 80us/step - loss: 0.6000 - acc: 0.7153 - val_loss: 0.7006 - val_acc: 0.5278\n",
      "\n",
      "Epoch 00040: ReduceLROnPlateau reducing learning rate to 0.001.\n",
      "Epoch 41/50\n",
      "144/144 [==============================] - 0s 96us/step - loss: 0.5673 - acc: 0.7014 - val_loss: 0.7056 - val_acc: 0.5278\n",
      "Epoch 42/50\n",
      "144/144 [==============================] - 0s 73us/step - loss: 0.6208 - acc: 0.6111 - val_loss: 0.6841 - val_acc: 0.5556\n",
      "Epoch 43/50\n",
      "144/144 [==============================] - 0s 90us/step - loss: 0.5972 - acc: 0.7083 - val_loss: 0.6565 - val_acc: 0.6944\n",
      "Epoch 44/50\n",
      "144/144 [==============================] - 0s 89us/step - loss: 0.6086 - acc: 0.7014 - val_loss: 0.6394 - val_acc: 0.6667\n",
      "Epoch 45/50\n",
      "144/144 [==============================] - 0s 88us/step - loss: 0.5894 - acc: 0.6806 - val_loss: 0.6096 - val_acc: 0.6389\n",
      "Epoch 46/50\n",
      "144/144 [==============================] - 0s 87us/step - loss: 0.5571 - acc: 0.7569 - val_loss: 0.6087 - val_acc: 0.6389\n",
      "Epoch 47/50\n",
      "144/144 [==============================] - 0s 144us/step - loss: 0.5807 - acc: 0.6875 - val_loss: 0.6171 - val_acc: 0.6389\n",
      "Epoch 48/50\n",
      "144/144 [==============================] - 0s 110us/step - loss: 0.5782 - acc: 0.6736 - val_loss: 0.6319 - val_acc: 0.6944\n",
      "Epoch 49/50\n",
      "144/144 [==============================] - 0s 99us/step - loss: 0.6167 - acc: 0.6458 - val_loss: 0.6380 - val_acc: 0.6944\n",
      "Epoch 50/50\n",
      "144/144 [==============================] - 0s 120us/step - loss: 0.5846 - acc: 0.6806 - val_loss: 0.6483 - val_acc: 0.6944\n",
      "CPU times: user 2.14 s, sys: 50.7 ms, total: 2.19 s\n",
      "Wall time: 2.05 s\n"
     ]
    }
   ],
   "source": [
    "%%time\n",
    "\n",
    "# earlystop_cb = keras.callbacks.EarlyStopping(\n",
    "#     monitor='val_loss',\n",
    "#     patience=5, restore_best_weights=True,\n",
    "#     verbose=1)\n",
    "reduce_lr_cb = keras.callbacks.ReduceLROnPlateau(\n",
    "    monitor='val_loss', factor=0.05,\n",
    "    patience=7, min_lr=0.001,\n",
    "    verbose=1)\n",
    "\n",
    "tb_cb = keras.callbacks.TensorBoard(log_dir='./tensorboard/%s' % arch_cnt, histogram_freq=0,  \n",
    "          write_graph=True, write_images=True)\n",
    "\n",
    "\n",
    "epochs = 50\n",
    "batch_size = 32\n",
    "\n",
    "model.fit(\n",
    "    x_train, y_train,\n",
    "    batch_size=batch_size,\n",
    "    epochs=epochs,\n",
    "    verbose=1,\n",
    "    \n",
    "    shuffle=False,\n",
    "    validation_data=(x_test, y_test),\n",
    "    callbacks=[reduce_lr_cb, tb_cb]\n",
    "    # callbacks=[earlystop_cb, reduce_lr_cb]\n",
    ")"
   ]
  },
  {
   "cell_type": "code",
   "execution_count": 16,
   "metadata": {},
   "outputs": [
    {
     "name": "stdout",
     "output_type": "stream",
     "text": [
      "Test loss: 0.6483488314681582\n",
      "Test accuracy: 0.6944444444444444\n"
     ]
    }
   ],
   "source": [
    "score = model.evaluate(x_test, y_test, verbose=0)\n",
    "print('Test loss:', score[0])\n",
    "print('Test accuracy:', score[1])"
   ]
  },
  {
   "cell_type": "markdown",
   "metadata": {},
   "source": [
    "### Architecture 2 - Deflating Dense 225-112, 0.5 Dropout, Batch Norm, Sigmoid Classification, **`HE Initialization`**"
   ]
  },
  {
   "cell_type": "code",
   "execution_count": 17,
   "metadata": {},
   "outputs": [
    {
     "name": "stdout",
     "output_type": "stream",
     "text": [
      "_________________________________________________________________\n",
      "Layer (type)                 Output Shape              Param #   \n",
      "=================================================================\n",
      "dense_7 (Dense)              (None, 225)               3600      \n",
      "_________________________________________________________________\n",
      "dropout_3 (Dropout)          (None, 225)               0         \n",
      "_________________________________________________________________\n",
      "dense_8 (Dense)              (None, 112)               25312     \n",
      "_________________________________________________________________\n",
      "batch_normalization_3 (Batch (None, 112)               448       \n",
      "_________________________________________________________________\n",
      "dense_9 (Dense)              (None, 1)                 113       \n",
      "=================================================================\n",
      "Total params: 29,473\n",
      "Trainable params: 29,249\n",
      "Non-trainable params: 224\n",
      "_________________________________________________________________\n"
     ]
    }
   ],
   "source": [
    "arch_cnt = 'arch-2'\n",
    "\n",
    "model = Sequential()\n",
    "model.add(\n",
    "    Dense(225, input_dim=15, kernel_initializer='he_uniform',\n",
    "          kernel_regularizer=keras.regularizers.l2(0.001), # pierd 0.2 acc\n",
    "          activation='relu'))\n",
    "model.add(Dropout(0.5))\n",
    "model.add(Dense(112, input_dim=15, kernel_initializer='he_uniform', activation='relu'))\n",
    "# model.add(LeakyReLU(alpha=0.1))\n",
    "model.add(BatchNormalization(axis = 1))\n",
    "model.add(Dense(1, kernel_initializer='normal', activation='sigmoid'))\n",
    "\n",
    "\n",
    "model.compile(loss='binary_crossentropy', optimizer='adam', metrics=['accuracy'])\n",
    "\n",
    "model.summary()"
   ]
  },
  {
   "cell_type": "code",
   "execution_count": 18,
   "metadata": {
    "scrolled": true
   },
   "outputs": [
    {
     "name": "stdout",
     "output_type": "stream",
     "text": [
      "Train on 144 samples, validate on 36 samples\n",
      "Epoch 1/50\n",
      "144/144 [==============================] - 0s 2ms/step - loss: 1.1839 - acc: 0.4792 - val_loss: 1.1616 - val_acc: 0.4167\n",
      "Epoch 2/50\n",
      "144/144 [==============================] - 0s 105us/step - loss: 1.1813 - acc: 0.4583 - val_loss: 1.1539 - val_acc: 0.4167\n",
      "Epoch 3/50\n",
      "144/144 [==============================] - 0s 79us/step - loss: 1.1809 - acc: 0.3958 - val_loss: 1.1394 - val_acc: 0.4444\n",
      "Epoch 4/50\n",
      "144/144 [==============================] - 0s 104us/step - loss: 1.1154 - acc: 0.5347 - val_loss: 1.1291 - val_acc: 0.4444\n",
      "Epoch 5/50\n",
      "144/144 [==============================] - 0s 80us/step - loss: 1.1076 - acc: 0.5417 - val_loss: 1.1173 - val_acc: 0.4444\n",
      "Epoch 6/50\n",
      "144/144 [==============================] - 0s 112us/step - loss: 1.0832 - acc: 0.5764 - val_loss: 1.1076 - val_acc: 0.4444\n",
      "Epoch 7/50\n",
      "144/144 [==============================] - 0s 81us/step - loss: 1.0518 - acc: 0.6458 - val_loss: 1.0964 - val_acc: 0.4444\n",
      "Epoch 8/50\n",
      "144/144 [==============================] - 0s 80us/step - loss: 1.0829 - acc: 0.5417 - val_loss: 1.0868 - val_acc: 0.4444\n",
      "Epoch 9/50\n",
      "144/144 [==============================] - 0s 91us/step - loss: 1.0699 - acc: 0.5278 - val_loss: 1.0821 - val_acc: 0.4444\n",
      "Epoch 10/50\n",
      "144/144 [==============================] - 0s 116us/step - loss: 1.0633 - acc: 0.5833 - val_loss: 1.0795 - val_acc: 0.4444\n",
      "Epoch 11/50\n",
      "144/144 [==============================] - 0s 136us/step - loss: 1.0887 - acc: 0.5139 - val_loss: 1.0843 - val_acc: 0.4722\n",
      "Epoch 12/50\n",
      "144/144 [==============================] - 0s 96us/step - loss: 1.0217 - acc: 0.6111 - val_loss: 1.0854 - val_acc: 0.4444\n",
      "Epoch 13/50\n",
      "144/144 [==============================] - 0s 113us/step - loss: 1.0282 - acc: 0.6042 - val_loss: 1.0917 - val_acc: 0.4167\n",
      "Epoch 14/50\n",
      "144/144 [==============================] - 0s 92us/step - loss: 1.0108 - acc: 0.5694 - val_loss: 1.0987 - val_acc: 0.4167\n",
      "Epoch 15/50\n",
      "144/144 [==============================] - 0s 113us/step - loss: 0.9797 - acc: 0.6597 - val_loss: 1.1029 - val_acc: 0.4444\n",
      "Epoch 16/50\n",
      "144/144 [==============================] - 0s 82us/step - loss: 1.0015 - acc: 0.5764 - val_loss: 1.1065 - val_acc: 0.4444\n",
      "Epoch 17/50\n",
      "144/144 [==============================] - 0s 97us/step - loss: 0.9799 - acc: 0.6181 - val_loss: 1.1098 - val_acc: 0.4444\n",
      "\n",
      "Epoch 00017: ReduceLROnPlateau reducing learning rate to 0.001.\n",
      "Epoch 18/50\n",
      "144/144 [==============================] - 0s 83us/step - loss: 0.9983 - acc: 0.5764 - val_loss: 1.1117 - val_acc: 0.4444\n",
      "Epoch 19/50\n",
      "144/144 [==============================] - 0s 85us/step - loss: 0.9640 - acc: 0.6458 - val_loss: 1.1135 - val_acc: 0.4444\n",
      "Epoch 20/50\n",
      "144/144 [==============================] - 0s 124us/step - loss: 0.9538 - acc: 0.6181 - val_loss: 1.1163 - val_acc: 0.4444\n",
      "Epoch 21/50\n",
      "144/144 [==============================] - 0s 117us/step - loss: 0.9511 - acc: 0.6528 - val_loss: 1.1067 - val_acc: 0.4444\n",
      "Epoch 22/50\n",
      "144/144 [==============================] - 0s 70us/step - loss: 0.9432 - acc: 0.6319 - val_loss: 1.1034 - val_acc: 0.4444\n",
      "Epoch 23/50\n",
      "144/144 [==============================] - 0s 77us/step - loss: 0.9707 - acc: 0.5556 - val_loss: 1.0927 - val_acc: 0.4444\n",
      "Epoch 24/50\n",
      "144/144 [==============================] - 0s 108us/step - loss: 0.9418 - acc: 0.5903 - val_loss: 1.0725 - val_acc: 0.4722\n",
      "Epoch 25/50\n",
      "144/144 [==============================] - 0s 93us/step - loss: 0.9269 - acc: 0.6528 - val_loss: 1.0518 - val_acc: 0.4444\n",
      "Epoch 26/50\n",
      "144/144 [==============================] - 0s 97us/step - loss: 0.9566 - acc: 0.5903 - val_loss: 1.0330 - val_acc: 0.4444\n",
      "Epoch 27/50\n",
      "144/144 [==============================] - 0s 83us/step - loss: 0.9245 - acc: 0.6250 - val_loss: 1.0146 - val_acc: 0.4722\n",
      "Epoch 28/50\n",
      "144/144 [==============================] - 0s 66us/step - loss: 0.8902 - acc: 0.6597 - val_loss: 1.0130 - val_acc: 0.4722\n",
      "Epoch 29/50\n",
      "144/144 [==============================] - 0s 84us/step - loss: 0.9109 - acc: 0.6181 - val_loss: 1.0215 - val_acc: 0.4444\n",
      "Epoch 30/50\n",
      "144/144 [==============================] - 0s 89us/step - loss: 0.8991 - acc: 0.6389 - val_loss: 1.0251 - val_acc: 0.4444\n",
      "Epoch 31/50\n",
      "144/144 [==============================] - 0s 94us/step - loss: 0.8714 - acc: 0.6528 - val_loss: 1.0364 - val_acc: 0.4722\n",
      "Epoch 32/50\n",
      "144/144 [==============================] - 0s 87us/step - loss: 0.8695 - acc: 0.6736 - val_loss: 1.0542 - val_acc: 0.4444\n",
      "Epoch 33/50\n",
      "144/144 [==============================] - 0s 118us/step - loss: 0.8849 - acc: 0.6667 - val_loss: 1.0607 - val_acc: 0.4444\n",
      "Epoch 34/50\n",
      "144/144 [==============================] - 0s 77us/step - loss: 0.8582 - acc: 0.6944 - val_loss: 1.0637 - val_acc: 0.4444\n",
      "Epoch 35/50\n",
      "144/144 [==============================] - 0s 69us/step - loss: 0.8696 - acc: 0.6736 - val_loss: 1.0548 - val_acc: 0.4444\n",
      "\n",
      "Epoch 00035: ReduceLROnPlateau reducing learning rate to 0.001.\n",
      "Epoch 36/50\n",
      "144/144 [==============================] - 0s 74us/step - loss: 0.8510 - acc: 0.6389 - val_loss: 1.0397 - val_acc: 0.4444\n",
      "Epoch 37/50\n",
      "144/144 [==============================] - 0s 91us/step - loss: 0.8735 - acc: 0.6319 - val_loss: 1.0156 - val_acc: 0.4722\n",
      "Epoch 38/50\n",
      "144/144 [==============================] - 0s 78us/step - loss: 0.8834 - acc: 0.6250 - val_loss: 0.9912 - val_acc: 0.4722\n",
      "Epoch 39/50\n",
      "144/144 [==============================] - 0s 81us/step - loss: 0.8446 - acc: 0.6736 - val_loss: 0.9728 - val_acc: 0.4444\n",
      "Epoch 40/50\n",
      "144/144 [==============================] - 0s 138us/step - loss: 0.8724 - acc: 0.6111 - val_loss: 0.9568 - val_acc: 0.4722\n",
      "Epoch 41/50\n",
      "144/144 [==============================] - 0s 66us/step - loss: 0.8606 - acc: 0.6389 - val_loss: 0.9440 - val_acc: 0.5000\n",
      "Epoch 42/50\n",
      "144/144 [==============================] - 0s 74us/step - loss: 0.8378 - acc: 0.6181 - val_loss: 0.9356 - val_acc: 0.5000\n",
      "Epoch 43/50\n",
      "144/144 [==============================] - 0s 68us/step - loss: 0.8190 - acc: 0.6597 - val_loss: 0.9292 - val_acc: 0.5000\n",
      "Epoch 44/50\n",
      "144/144 [==============================] - 0s 82us/step - loss: 0.8186 - acc: 0.6944 - val_loss: 0.9218 - val_acc: 0.5000\n",
      "Epoch 45/50\n",
      "144/144 [==============================] - 0s 77us/step - loss: 0.8526 - acc: 0.6389 - val_loss: 0.9180 - val_acc: 0.4722\n",
      "Epoch 46/50\n",
      "144/144 [==============================] - 0s 93us/step - loss: 0.8269 - acc: 0.6181 - val_loss: 0.9148 - val_acc: 0.4722\n",
      "Epoch 47/50\n",
      "144/144 [==============================] - 0s 81us/step - loss: 0.8286 - acc: 0.6111 - val_loss: 0.9087 - val_acc: 0.4444\n",
      "Epoch 48/50\n",
      "144/144 [==============================] - 0s 67us/step - loss: 0.8373 - acc: 0.6458 - val_loss: 0.9028 - val_acc: 0.4444\n",
      "Epoch 49/50\n",
      "144/144 [==============================] - 0s 72us/step - loss: 0.8445 - acc: 0.5833 - val_loss: 0.8974 - val_acc: 0.4444\n",
      "Epoch 50/50\n",
      "144/144 [==============================] - 0s 73us/step - loss: 0.8133 - acc: 0.6319 - val_loss: 0.8961 - val_acc: 0.4444\n",
      "CPU times: user 2.22 s, sys: 91.4 ms, total: 2.31 s\n",
      "Wall time: 2.16 s\n"
     ]
    }
   ],
   "source": [
    "%%time\n",
    "\n",
    "# earlystop_cb = keras.callbacks.EarlyStopping(\n",
    "#     monitor='val_loss',\n",
    "#     patience=5, restore_best_weights=True,\n",
    "#     verbose=1)\n",
    "reduce_lr_cb = keras.callbacks.ReduceLROnPlateau(\n",
    "    monitor='val_loss', factor=0.05,\n",
    "    patience=7, min_lr=0.001,\n",
    "    verbose=1)\n",
    "\n",
    "tb_cb = keras.callbacks.TensorBoard(log_dir='./tensorboard/%s' % arch_cnt, histogram_freq=0,  \n",
    "          write_graph=True, write_images=True)\n",
    "\n",
    "\n",
    "epochs = 50\n",
    "batch_size = 32\n",
    "\n",
    "model.fit(\n",
    "    x_train, y_train,\n",
    "    batch_size=batch_size,\n",
    "    epochs=epochs,\n",
    "    verbose=1,\n",
    "    \n",
    "    shuffle=False,\n",
    "    validation_data=(x_test, y_test),\n",
    "    callbacks=[reduce_lr_cb, tb_cb]\n",
    "    # callbacks=[earlystop_cb, reduce_lr_cb]\n",
    ")"
   ]
  },
  {
   "cell_type": "code",
   "execution_count": 19,
   "metadata": {},
   "outputs": [
    {
     "name": "stdout",
     "output_type": "stream",
     "text": [
      "Test loss: 0.8960549301571317\n",
      "Test accuracy: 0.4444444444444444\n"
     ]
    }
   ],
   "source": [
    "score = model.evaluate(x_test, y_test, verbose=0)\n",
    "print('Test loss:', score[0])\n",
    "print('Test accuracy:', score[1])"
   ]
  },
  {
   "cell_type": "code",
   "execution_count": null,
   "metadata": {},
   "outputs": [],
   "source": []
  },
  {
   "cell_type": "markdown",
   "metadata": {},
   "source": [
    "### Architecture 3 - Deflating Dense 225-112, 0.5 Dropout, Batch Norm, Sigmoid Classification, **`L2 = 1e^-4`**"
   ]
  },
  {
   "cell_type": "code",
   "execution_count": 44,
   "metadata": {},
   "outputs": [
    {
     "name": "stdout",
     "output_type": "stream",
     "text": [
      "_________________________________________________________________\n",
      "Layer (type)                 Output Shape              Param #   \n",
      "=================================================================\n",
      "dense_31 (Dense)             (None, 225)               3600      \n",
      "_________________________________________________________________\n",
      "dropout_11 (Dropout)         (None, 225)               0         \n",
      "_________________________________________________________________\n",
      "dense_32 (Dense)             (None, 112)               25312     \n",
      "_________________________________________________________________\n",
      "batch_normalization_11 (Batc (None, 112)               448       \n",
      "_________________________________________________________________\n",
      "dense_33 (Dense)             (None, 1)                 113       \n",
      "=================================================================\n",
      "Total params: 29,473\n",
      "Trainable params: 29,249\n",
      "Non-trainable params: 224\n",
      "_________________________________________________________________\n"
     ]
    }
   ],
   "source": [
    "arch_cnt = 'arch-3-4'\n",
    "\n",
    "model = Sequential()\n",
    "model.add(\n",
    "    Dense(225, input_dim=15, kernel_initializer='normal',\n",
    "          kernel_regularizer=keras.regularizers.l2(0.0001), # pierd 0.2 acc\n",
    "          activation='relu'))\n",
    "model.add(Dropout(0.5))\n",
    "model.add(\n",
    "    Dense(112, input_dim=15, kernel_initializer='normal',\n",
    "          kernel_regularizer=keras.regularizers.l2(0.0001), # pierd 0.2 acc\n",
    "          activation='relu'))\n",
    "# model.add(LeakyReLU(alpha=0.1))\n",
    "model.add(BatchNormalization(axis = 1))\n",
    "model.add(Dense(1, kernel_initializer='normal', activation='sigmoid'))\n",
    "\n",
    "\n",
    "model.compile(loss='binary_crossentropy', optimizer='adam', metrics=['accuracy'])\n",
    "\n",
    "model.summary()"
   ]
  },
  {
   "cell_type": "code",
   "execution_count": 45,
   "metadata": {
    "scrolled": true
   },
   "outputs": [
    {
     "name": "stdout",
     "output_type": "stream",
     "text": [
      "Train on 144 samples, validate on 36 samples\n",
      "Epoch 1/50\n",
      "144/144 [==============================] - 0s 2ms/step - loss: 0.6725 - acc: 0.6528 - val_loss: 0.7009 - val_acc: 0.5000\n",
      "Epoch 2/50\n",
      "144/144 [==============================] - 0s 90us/step - loss: 0.7097 - acc: 0.5417 - val_loss: 0.6948 - val_acc: 0.6111\n",
      "Epoch 3/50\n",
      "144/144 [==============================] - 0s 105us/step - loss: 0.7187 - acc: 0.5069 - val_loss: 0.6937 - val_acc: 0.6111\n",
      "Epoch 4/50\n",
      "144/144 [==============================] - 0s 88us/step - loss: 0.6837 - acc: 0.6042 - val_loss: 0.6939 - val_acc: 0.6111\n",
      "Epoch 5/50\n",
      "144/144 [==============================] - 0s 108us/step - loss: 0.6921 - acc: 0.5694 - val_loss: 0.7035 - val_acc: 0.4722\n",
      "Epoch 6/50\n",
      "144/144 [==============================] - 0s 115us/step - loss: 0.6707 - acc: 0.5972 - val_loss: 0.7112 - val_acc: 0.4444\n",
      "Epoch 7/50\n",
      "144/144 [==============================] - 0s 119us/step - loss: 0.6915 - acc: 0.5764 - val_loss: 0.7157 - val_acc: 0.4444\n",
      "Epoch 8/50\n",
      "144/144 [==============================] - 0s 133us/step - loss: 0.6749 - acc: 0.5903 - val_loss: 0.7153 - val_acc: 0.4444\n",
      "Epoch 9/50\n",
      "144/144 [==============================] - 0s 167us/step - loss: 0.6569 - acc: 0.6389 - val_loss: 0.7225 - val_acc: 0.4444\n",
      "Epoch 10/50\n",
      "144/144 [==============================] - 0s 110us/step - loss: 0.6670 - acc: 0.6319 - val_loss: 0.7271 - val_acc: 0.4444\n",
      "\n",
      "Epoch 00010: ReduceLROnPlateau reducing learning rate to 0.001.\n",
      "Epoch 11/50\n",
      "144/144 [==============================] - 0s 88us/step - loss: 0.6593 - acc: 0.6042 - val_loss: 0.7341 - val_acc: 0.4444\n",
      "Epoch 12/50\n",
      "144/144 [==============================] - 0s 97us/step - loss: 0.6468 - acc: 0.6181 - val_loss: 0.7384 - val_acc: 0.4444\n",
      "Epoch 13/50\n",
      "144/144 [==============================] - 0s 105us/step - loss: 0.6363 - acc: 0.6944 - val_loss: 0.7379 - val_acc: 0.4444\n",
      "Epoch 14/50\n",
      "144/144 [==============================] - 0s 96us/step - loss: 0.6457 - acc: 0.6250 - val_loss: 0.7422 - val_acc: 0.4444\n",
      "Epoch 15/50\n",
      "144/144 [==============================] - 0s 91us/step - loss: 0.6465 - acc: 0.6458 - val_loss: 0.7480 - val_acc: 0.4722\n",
      "Epoch 16/50\n",
      "144/144 [==============================] - 0s 98us/step - loss: 0.6247 - acc: 0.6458 - val_loss: 0.7744 - val_acc: 0.4722\n",
      "Epoch 17/50\n",
      "144/144 [==============================] - 0s 96us/step - loss: 0.6359 - acc: 0.6597 - val_loss: 0.8232 - val_acc: 0.4444\n",
      "\n",
      "Epoch 00017: ReduceLROnPlateau reducing learning rate to 0.001.\n",
      "Epoch 18/50\n",
      "144/144 [==============================] - 0s 81us/step - loss: 0.6326 - acc: 0.6806 - val_loss: 0.8864 - val_acc: 0.4722\n",
      "Epoch 19/50\n",
      "144/144 [==============================] - 0s 108us/step - loss: 0.6292 - acc: 0.6250 - val_loss: 0.9086 - val_acc: 0.4444\n",
      "Epoch 20/50\n",
      "144/144 [==============================] - 0s 117us/step - loss: 0.6426 - acc: 0.6458 - val_loss: 0.9152 - val_acc: 0.4722\n",
      "Epoch 21/50\n",
      "144/144 [==============================] - 0s 122us/step - loss: 0.6155 - acc: 0.6389 - val_loss: 0.9242 - val_acc: 0.4722\n",
      "Epoch 22/50\n",
      "144/144 [==============================] - 0s 116us/step - loss: 0.6173 - acc: 0.6667 - val_loss: 0.9376 - val_acc: 0.4444\n",
      "Epoch 23/50\n",
      "144/144 [==============================] - 0s 95us/step - loss: 0.6576 - acc: 0.6042 - val_loss: 0.9239 - val_acc: 0.4722\n",
      "Epoch 24/50\n",
      "144/144 [==============================] - 0s 95us/step - loss: 0.6005 - acc: 0.6944 - val_loss: 0.8889 - val_acc: 0.4722\n",
      "\n",
      "Epoch 00024: ReduceLROnPlateau reducing learning rate to 0.001.\n",
      "Epoch 25/50\n",
      "144/144 [==============================] - 0s 105us/step - loss: 0.6153 - acc: 0.6944 - val_loss: 0.8436 - val_acc: 0.4722\n",
      "Epoch 26/50\n",
      "144/144 [==============================] - 0s 90us/step - loss: 0.5863 - acc: 0.7153 - val_loss: 0.8369 - val_acc: 0.4722\n",
      "Epoch 27/50\n",
      "144/144 [==============================] - 0s 91us/step - loss: 0.6248 - acc: 0.6667 - val_loss: 0.8485 - val_acc: 0.4722\n",
      "Epoch 28/50\n",
      "144/144 [==============================] - 0s 115us/step - loss: 0.6113 - acc: 0.6667 - val_loss: 0.8225 - val_acc: 0.4722\n",
      "Epoch 29/50\n",
      "144/144 [==============================] - 0s 104us/step - loss: 0.5913 - acc: 0.7083 - val_loss: 0.8296 - val_acc: 0.4722\n",
      "Epoch 30/50\n",
      "144/144 [==============================] - 0s 98us/step - loss: 0.6350 - acc: 0.6528 - val_loss: 0.8113 - val_acc: 0.5000\n",
      "Epoch 31/50\n",
      "144/144 [==============================] - 0s 91us/step - loss: 0.6476 - acc: 0.6736 - val_loss: 0.7497 - val_acc: 0.5000\n",
      "\n",
      "Epoch 00031: ReduceLROnPlateau reducing learning rate to 0.001.\n",
      "Epoch 32/50\n",
      "144/144 [==============================] - 0s 144us/step - loss: 0.5939 - acc: 0.7083 - val_loss: 0.7081 - val_acc: 0.5000\n",
      "Epoch 33/50\n",
      "144/144 [==============================] - 0s 84us/step - loss: 0.6042 - acc: 0.6667 - val_loss: 0.6770 - val_acc: 0.5833\n",
      "Epoch 34/50\n",
      "144/144 [==============================] - 0s 135us/step - loss: 0.6072 - acc: 0.6667 - val_loss: 0.6625 - val_acc: 0.6111\n",
      "Epoch 35/50\n",
      "144/144 [==============================] - 0s 92us/step - loss: 0.5964 - acc: 0.7153 - val_loss: 0.6697 - val_acc: 0.6111\n",
      "Epoch 36/50\n",
      "144/144 [==============================] - 0s 105us/step - loss: 0.6051 - acc: 0.6806 - val_loss: 0.6875 - val_acc: 0.5833\n",
      "Epoch 37/50\n",
      "144/144 [==============================] - 0s 95us/step - loss: 0.5794 - acc: 0.7014 - val_loss: 0.7249 - val_acc: 0.5278\n",
      "Epoch 38/50\n",
      "144/144 [==============================] - 0s 101us/step - loss: 0.5880 - acc: 0.6944 - val_loss: 0.7636 - val_acc: 0.5000\n",
      "Epoch 39/50\n",
      "144/144 [==============================] - 0s 99us/step - loss: 0.6396 - acc: 0.6736 - val_loss: 0.7869 - val_acc: 0.5000\n",
      "Epoch 40/50\n",
      "144/144 [==============================] - 0s 114us/step - loss: 0.5761 - acc: 0.7083 - val_loss: 0.7492 - val_acc: 0.5278\n",
      "Epoch 41/50\n",
      "144/144 [==============================] - 0s 127us/step - loss: 0.5895 - acc: 0.6458 - val_loss: 0.7077 - val_acc: 0.6111\n",
      "\n",
      "Epoch 00041: ReduceLROnPlateau reducing learning rate to 0.001.\n",
      "Epoch 42/50\n",
      "144/144 [==============================] - 0s 109us/step - loss: 0.6104 - acc: 0.6667 - val_loss: 0.6913 - val_acc: 0.6111\n",
      "Epoch 43/50\n",
      "144/144 [==============================] - 0s 103us/step - loss: 0.5877 - acc: 0.6736 - val_loss: 0.6822 - val_acc: 0.6389\n",
      "Epoch 44/50\n",
      "144/144 [==============================] - 0s 102us/step - loss: 0.5405 - acc: 0.7361 - val_loss: 0.6942 - val_acc: 0.6111\n",
      "Epoch 45/50\n",
      "144/144 [==============================] - 0s 91us/step - loss: 0.6039 - acc: 0.7014 - val_loss: 0.6933 - val_acc: 0.6389\n",
      "Epoch 46/50\n",
      "144/144 [==============================] - 0s 129us/step - loss: 0.5611 - acc: 0.7153 - val_loss: 0.6480 - val_acc: 0.6667\n",
      "Epoch 47/50\n",
      "144/144 [==============================] - 0s 92us/step - loss: 0.5768 - acc: 0.7222 - val_loss: 0.6161 - val_acc: 0.6667\n",
      "Epoch 48/50\n",
      "144/144 [==============================] - 0s 122us/step - loss: 0.5598 - acc: 0.7361 - val_loss: 0.6042 - val_acc: 0.6667\n",
      "Epoch 49/50\n",
      "144/144 [==============================] - 0s 114us/step - loss: 0.5568 - acc: 0.7708 - val_loss: 0.5950 - val_acc: 0.6667\n",
      "Epoch 50/50\n",
      "144/144 [==============================] - 0s 98us/step - loss: 0.6006 - acc: 0.6944 - val_loss: 0.5939 - val_acc: 0.6667\n",
      "CPU times: user 3.43 s, sys: 101 ms, total: 3.54 s\n",
      "Wall time: 3.38 s\n"
     ]
    }
   ],
   "source": [
    "%%time\n",
    "\n",
    "# earlystop_cb = keras.callbacks.EarlyStopping(\n",
    "#     monitor='val_loss',\n",
    "#     patience=5, restore_best_weights=True,\n",
    "#     verbose=1)\n",
    "reduce_lr_cb = keras.callbacks.ReduceLROnPlateau(\n",
    "    monitor='val_loss', factor=0.05,\n",
    "    patience=7, min_lr=0.001,\n",
    "    verbose=1)\n",
    "\n",
    "tb_cb = keras.callbacks.TensorBoard(log_dir='./tensorboard/%s' % arch_cnt, histogram_freq=0,  \n",
    "          write_graph=True, write_images=True)\n",
    "\n",
    "\n",
    "epochs = 50\n",
    "batch_size = 32\n",
    "\n",
    "model.fit(\n",
    "    x_train, y_train,\n",
    "    batch_size=batch_size,\n",
    "    epochs=epochs,\n",
    "    verbose=1,\n",
    "    \n",
    "    shuffle=False,\n",
    "    validation_data=(x_test, y_test),\n",
    "    callbacks=[reduce_lr_cb, tb_cb]\n",
    "    # callbacks=[earlystop_cb, reduce_lr_cb]\n",
    ")"
   ]
  },
  {
   "cell_type": "code",
   "execution_count": 46,
   "metadata": {},
   "outputs": [
    {
     "name": "stdout",
     "output_type": "stream",
     "text": [
      "Test loss: 0.5939429865943061\n",
      "Test accuracy: 0.6666666666666666\n"
     ]
    }
   ],
   "source": [
    "score = model.evaluate(x_test, y_test, verbose=0)\n",
    "print('Test loss:', score[0])\n",
    "print('Test accuracy:', score[1])"
   ]
  },
  {
   "cell_type": "code",
   "execution_count": null,
   "metadata": {},
   "outputs": [],
   "source": []
  },
  {
   "cell_type": "markdown",
   "metadata": {},
   "source": [
    "### Architecture 3 - Deflating Dense 225-112, 0.5 Dropout, Batch Norm, Sigmoid Classification, **`L2 = 1e^-3`**"
   ]
  },
  {
   "cell_type": "code",
   "execution_count": 41,
   "metadata": {},
   "outputs": [
    {
     "name": "stdout",
     "output_type": "stream",
     "text": [
      "_________________________________________________________________\n",
      "Layer (type)                 Output Shape              Param #   \n",
      "=================================================================\n",
      "dense_28 (Dense)             (None, 225)               3600      \n",
      "_________________________________________________________________\n",
      "dropout_10 (Dropout)         (None, 225)               0         \n",
      "_________________________________________________________________\n",
      "dense_29 (Dense)             (None, 112)               25312     \n",
      "_________________________________________________________________\n",
      "batch_normalization_10 (Batc (None, 112)               448       \n",
      "_________________________________________________________________\n",
      "dense_30 (Dense)             (None, 1)                 113       \n",
      "=================================================================\n",
      "Total params: 29,473\n",
      "Trainable params: 29,249\n",
      "Non-trainable params: 224\n",
      "_________________________________________________________________\n"
     ]
    }
   ],
   "source": [
    "arch_cnt = 'arch-3-3'\n",
    "\n",
    "model = Sequential()\n",
    "model.add(\n",
    "    Dense(225, input_dim=15, kernel_initializer='normal',\n",
    "          kernel_regularizer=keras.regularizers.l2(0.001), # pierd 0.2 acc\n",
    "          activation='relu'))\n",
    "model.add(Dropout(0.5))\n",
    "model.add(\n",
    "    Dense(112, input_dim=15, kernel_initializer='normal',\n",
    "          kernel_regularizer=keras.regularizers.l2(0.001), # pierd 0.2 acc\n",
    "          activation='relu'))\n",
    "# model.add(LeakyReLU(alpha=0.1))\n",
    "model.add(BatchNormalization(axis = 1))\n",
    "model.add(Dense(1, kernel_initializer='normal', activation='sigmoid'))\n",
    "\n",
    "\n",
    "model.compile(loss='binary_crossentropy', optimizer='adam', metrics=['accuracy'])\n",
    "\n",
    "model.summary()"
   ]
  },
  {
   "cell_type": "code",
   "execution_count": 42,
   "metadata": {
    "scrolled": true
   },
   "outputs": [
    {
     "name": "stdout",
     "output_type": "stream",
     "text": [
      "Train on 144 samples, validate on 36 samples\n",
      "Epoch 1/50\n",
      "144/144 [==============================] - 0s 3ms/step - loss: 0.7692 - acc: 0.5417 - val_loss: 0.7977 - val_acc: 0.4167\n",
      "Epoch 2/50\n",
      "144/144 [==============================] - 0s 105us/step - loss: 0.7819 - acc: 0.4792 - val_loss: 0.7888 - val_acc: 0.4167\n",
      "Epoch 3/50\n",
      "144/144 [==============================] - 0s 98us/step - loss: 0.7486 - acc: 0.5972 - val_loss: 0.7901 - val_acc: 0.4167\n",
      "Epoch 4/50\n",
      "144/144 [==============================] - 0s 89us/step - loss: 0.8262 - acc: 0.4514 - val_loss: 0.8170 - val_acc: 0.4167\n",
      "Epoch 5/50\n",
      "144/144 [==============================] - 0s 89us/step - loss: 0.7510 - acc: 0.5139 - val_loss: 0.8423 - val_acc: 0.4167\n",
      "Epoch 6/50\n",
      "144/144 [==============================] - 0s 111us/step - loss: 0.7443 - acc: 0.5278 - val_loss: 0.8328 - val_acc: 0.4167\n",
      "Epoch 7/50\n",
      "144/144 [==============================] - 0s 112us/step - loss: 0.7216 - acc: 0.5833 - val_loss: 0.8259 - val_acc: 0.4167\n",
      "Epoch 8/50\n",
      "144/144 [==============================] - 0s 129us/step - loss: 0.6948 - acc: 0.6250 - val_loss: 0.8210 - val_acc: 0.4167\n",
      "Epoch 9/50\n",
      "144/144 [==============================] - 0s 93us/step - loss: 0.7271 - acc: 0.5694 - val_loss: 0.8228 - val_acc: 0.4167\n",
      "\n",
      "Epoch 00009: ReduceLROnPlateau reducing learning rate to 0.001.\n",
      "Epoch 10/50\n",
      "144/144 [==============================] - 0s 81us/step - loss: 0.6597 - acc: 0.6875 - val_loss: 0.8274 - val_acc: 0.4444\n",
      "Epoch 11/50\n",
      "144/144 [==============================] - 0s 93us/step - loss: 0.7129 - acc: 0.6042 - val_loss: 0.8302 - val_acc: 0.4444\n",
      "Epoch 12/50\n",
      "144/144 [==============================] - 0s 115us/step - loss: 0.7131 - acc: 0.5903 - val_loss: 0.8399 - val_acc: 0.4444\n",
      "Epoch 13/50\n",
      "144/144 [==============================] - 0s 119us/step - loss: 0.6937 - acc: 0.6389 - val_loss: 0.8475 - val_acc: 0.4444\n",
      "Epoch 14/50\n",
      "144/144 [==============================] - 0s 110us/step - loss: 0.7281 - acc: 0.6111 - val_loss: 0.8439 - val_acc: 0.4444\n",
      "Epoch 15/50\n",
      "144/144 [==============================] - 0s 89us/step - loss: 0.7205 - acc: 0.5625 - val_loss: 0.8283 - val_acc: 0.4444\n",
      "Epoch 16/50\n",
      "144/144 [==============================] - 0s 85us/step - loss: 0.6667 - acc: 0.6875 - val_loss: 0.8356 - val_acc: 0.4444\n",
      "\n",
      "Epoch 00016: ReduceLROnPlateau reducing learning rate to 0.001.\n",
      "Epoch 17/50\n",
      "144/144 [==============================] - 0s 83us/step - loss: 0.7025 - acc: 0.6389 - val_loss: 0.8482 - val_acc: 0.4444\n",
      "Epoch 18/50\n",
      "144/144 [==============================] - 0s 130us/step - loss: 0.6816 - acc: 0.6250 - val_loss: 0.8651 - val_acc: 0.4444\n",
      "Epoch 19/50\n",
      "144/144 [==============================] - 0s 114us/step - loss: 0.6924 - acc: 0.6181 - val_loss: 0.8572 - val_acc: 0.4444\n",
      "Epoch 20/50\n",
      "144/144 [==============================] - 0s 117us/step - loss: 0.7176 - acc: 0.5347 - val_loss: 0.8635 - val_acc: 0.4722\n",
      "Epoch 21/50\n",
      "144/144 [==============================] - 0s 92us/step - loss: 0.6687 - acc: 0.6458 - val_loss: 0.8664 - val_acc: 0.4722\n",
      "Epoch 22/50\n",
      "144/144 [==============================] - 0s 102us/step - loss: 0.6501 - acc: 0.6458 - val_loss: 0.8912 - val_acc: 0.4444\n",
      "Epoch 23/50\n",
      "144/144 [==============================] - 0s 126us/step - loss: 0.6612 - acc: 0.6597 - val_loss: 0.9411 - val_acc: 0.4444\n",
      "\n",
      "Epoch 00023: ReduceLROnPlateau reducing learning rate to 0.001.\n",
      "Epoch 24/50\n",
      "144/144 [==============================] - 0s 104us/step - loss: 0.6831 - acc: 0.6111 - val_loss: 0.9712 - val_acc: 0.4444\n",
      "Epoch 25/50\n",
      "144/144 [==============================] - 0s 106us/step - loss: 0.6770 - acc: 0.6597 - val_loss: 0.9774 - val_acc: 0.4444\n",
      "Epoch 26/50\n",
      "144/144 [==============================] - 0s 84us/step - loss: 0.6666 - acc: 0.6667 - val_loss: 0.9166 - val_acc: 0.4444\n",
      "Epoch 27/50\n",
      "144/144 [==============================] - 0s 117us/step - loss: 0.6062 - acc: 0.7431 - val_loss: 0.8773 - val_acc: 0.4722\n",
      "Epoch 28/50\n",
      "144/144 [==============================] - 0s 136us/step - loss: 0.6729 - acc: 0.6181 - val_loss: 0.8392 - val_acc: 0.4722\n",
      "Epoch 29/50\n",
      "144/144 [==============================] - 0s 83us/step - loss: 0.6451 - acc: 0.6458 - val_loss: 0.8356 - val_acc: 0.4722\n",
      "Epoch 30/50\n",
      "144/144 [==============================] - 0s 101us/step - loss: 0.6248 - acc: 0.6875 - val_loss: 0.8405 - val_acc: 0.4722\n",
      "\n",
      "Epoch 00030: ReduceLROnPlateau reducing learning rate to 0.001.\n",
      "Epoch 31/50\n",
      "144/144 [==============================] - 0s 117us/step - loss: 0.6316 - acc: 0.7014 - val_loss: 0.8406 - val_acc: 0.4722\n",
      "Epoch 32/50\n",
      "144/144 [==============================] - 0s 101us/step - loss: 0.6501 - acc: 0.6597 - val_loss: 0.8330 - val_acc: 0.4722\n",
      "Epoch 33/50\n",
      "144/144 [==============================] - 0s 100us/step - loss: 0.6490 - acc: 0.6528 - val_loss: 0.7997 - val_acc: 0.5000\n",
      "Epoch 34/50\n",
      "144/144 [==============================] - 0s 89us/step - loss: 0.6211 - acc: 0.7431 - val_loss: 0.7778 - val_acc: 0.5278\n",
      "Epoch 35/50\n",
      "144/144 [==============================] - 0s 81us/step - loss: 0.6794 - acc: 0.6181 - val_loss: 0.7906 - val_acc: 0.5278\n",
      "Epoch 36/50\n",
      "144/144 [==============================] - 0s 103us/step - loss: 0.6693 - acc: 0.6806 - val_loss: 0.7985 - val_acc: 0.5278\n",
      "Epoch 37/50\n",
      "144/144 [==============================] - 0s 89us/step - loss: 0.6580 - acc: 0.6528 - val_loss: 0.8106 - val_acc: 0.5000\n",
      "Epoch 38/50\n",
      "144/144 [==============================] - 0s 124us/step - loss: 0.6284 - acc: 0.6667 - val_loss: 0.8280 - val_acc: 0.5000\n",
      "Epoch 39/50\n",
      "144/144 [==============================] - 0s 80us/step - loss: 0.6384 - acc: 0.6597 - val_loss: 0.8437 - val_acc: 0.5000\n",
      "Epoch 40/50\n",
      "144/144 [==============================] - 0s 72us/step - loss: 0.6360 - acc: 0.6111 - val_loss: 0.8712 - val_acc: 0.4722\n",
      "Epoch 41/50\n",
      "144/144 [==============================] - 0s 127us/step - loss: 0.6752 - acc: 0.6111 - val_loss: 0.9283 - val_acc: 0.4722\n",
      "\n",
      "Epoch 00041: ReduceLROnPlateau reducing learning rate to 0.001.\n",
      "Epoch 42/50\n",
      "144/144 [==============================] - 0s 159us/step - loss: 0.6466 - acc: 0.6458 - val_loss: 0.9391 - val_acc: 0.4722\n",
      "Epoch 43/50\n",
      "144/144 [==============================] - 0s 115us/step - loss: 0.6189 - acc: 0.6667 - val_loss: 0.9385 - val_acc: 0.4722\n",
      "Epoch 44/50\n",
      "144/144 [==============================] - 0s 110us/step - loss: 0.6068 - acc: 0.6944 - val_loss: 0.9006 - val_acc: 0.4722\n",
      "Epoch 45/50\n",
      "144/144 [==============================] - 0s 79us/step - loss: 0.6409 - acc: 0.6875 - val_loss: 0.9075 - val_acc: 0.5000\n",
      "Epoch 46/50\n",
      "144/144 [==============================] - 0s 159us/step - loss: 0.6519 - acc: 0.6528 - val_loss: 0.8841 - val_acc: 0.5000\n",
      "Epoch 47/50\n",
      "144/144 [==============================] - 0s 118us/step - loss: 0.6561 - acc: 0.6806 - val_loss: 0.8750 - val_acc: 0.5000\n",
      "Epoch 48/50\n",
      "144/144 [==============================] - 0s 88us/step - loss: 0.6223 - acc: 0.7014 - val_loss: 0.8971 - val_acc: 0.5000\n",
      "\n",
      "Epoch 00048: ReduceLROnPlateau reducing learning rate to 0.001.\n",
      "Epoch 49/50\n",
      "144/144 [==============================] - 0s 93us/step - loss: 0.6592 - acc: 0.6319 - val_loss: 0.8518 - val_acc: 0.5000\n",
      "Epoch 50/50\n",
      "144/144 [==============================] - 0s 107us/step - loss: 0.5995 - acc: 0.6944 - val_loss: 0.8409 - val_acc: 0.5000\n",
      "CPU times: user 3.56 s, sys: 77.9 ms, total: 3.64 s\n",
      "Wall time: 3.49 s\n"
     ]
    }
   ],
   "source": [
    "%%time\n",
    "\n",
    "# earlystop_cb = keras.callbacks.EarlyStopping(\n",
    "#     monitor='val_loss',\n",
    "#     patience=5, restore_best_weights=True,\n",
    "#     verbose=1)\n",
    "reduce_lr_cb = keras.callbacks.ReduceLROnPlateau(\n",
    "    monitor='val_loss', factor=0.05,\n",
    "    patience=7, min_lr=0.001,\n",
    "    verbose=1)\n",
    "\n",
    "tb_cb = keras.callbacks.TensorBoard(log_dir='./tensorboard/%s' % arch_cnt, histogram_freq=0,  \n",
    "          write_graph=True, write_images=True)\n",
    "\n",
    "\n",
    "epochs = 50\n",
    "batch_size = 32\n",
    "\n",
    "model.fit(\n",
    "    x_train, y_train,\n",
    "    batch_size=batch_size,\n",
    "    epochs=epochs,\n",
    "    verbose=1,\n",
    "    \n",
    "    shuffle=False,\n",
    "    validation_data=(x_test, y_test),\n",
    "    callbacks=[reduce_lr_cb, tb_cb]\n",
    "    # callbacks=[earlystop_cb, reduce_lr_cb]\n",
    ")"
   ]
  },
  {
   "cell_type": "code",
   "execution_count": 43,
   "metadata": {},
   "outputs": [
    {
     "name": "stdout",
     "output_type": "stream",
     "text": [
      "Test loss: 0.8408659166759915\n",
      "Test accuracy: 0.5\n"
     ]
    }
   ],
   "source": [
    "score = model.evaluate(x_test, y_test, verbose=0)\n",
    "print('Test loss:', score[0])\n",
    "print('Test accuracy:', score[1])"
   ]
  },
  {
   "cell_type": "code",
   "execution_count": null,
   "metadata": {},
   "outputs": [],
   "source": []
  },
  {
   "cell_type": "markdown",
   "metadata": {},
   "source": [
    "### Architecture 3 - Deflating Dense 225-112, 0.5 Dropout, Batch Norm, Sigmoid Classification, **`L2 = 1e^-2`**"
   ]
  },
  {
   "cell_type": "code",
   "execution_count": 38,
   "metadata": {},
   "outputs": [
    {
     "name": "stdout",
     "output_type": "stream",
     "text": [
      "_________________________________________________________________\n",
      "Layer (type)                 Output Shape              Param #   \n",
      "=================================================================\n",
      "dense_25 (Dense)             (None, 225)               3600      \n",
      "_________________________________________________________________\n",
      "dropout_9 (Dropout)          (None, 225)               0         \n",
      "_________________________________________________________________\n",
      "dense_26 (Dense)             (None, 112)               25312     \n",
      "_________________________________________________________________\n",
      "batch_normalization_9 (Batch (None, 112)               448       \n",
      "_________________________________________________________________\n",
      "dense_27 (Dense)             (None, 1)                 113       \n",
      "=================================================================\n",
      "Total params: 29,473\n",
      "Trainable params: 29,249\n",
      "Non-trainable params: 224\n",
      "_________________________________________________________________\n"
     ]
    }
   ],
   "source": [
    "arch_cnt = 'arch-3-2'\n",
    "\n",
    "model = Sequential()\n",
    "model.add(\n",
    "    Dense(225, input_dim=15, kernel_initializer='normal',\n",
    "          kernel_regularizer=keras.regularizers.l2(0.01), # pierd 0.2 acc\n",
    "          activation='relu'))\n",
    "model.add(Dropout(0.5))\n",
    "model.add(\n",
    "    Dense(112, input_dim=15, kernel_initializer='normal',\n",
    "          kernel_regularizer=keras.regularizers.l2(0.01), # pierd 0.2 acc\n",
    "          activation='relu'))\n",
    "# model.add(LeakyReLU(alpha=0.1))\n",
    "model.add(BatchNormalization(axis = 1))\n",
    "model.add(Dense(1, kernel_initializer='normal', activation='sigmoid'))\n",
    "\n",
    "\n",
    "model.compile(loss='binary_crossentropy', optimizer='adam', metrics=['accuracy'])\n",
    "\n",
    "model.summary()"
   ]
  },
  {
   "cell_type": "code",
   "execution_count": 39,
   "metadata": {
    "scrolled": true
   },
   "outputs": [
    {
     "name": "stdout",
     "output_type": "stream",
     "text": [
      "Train on 144 samples, validate on 36 samples\n",
      "Epoch 1/50\n",
      "144/144 [==============================] - 0s 2ms/step - loss: 1.3970 - acc: 0.6111 - val_loss: 1.3253 - val_acc: 0.5833\n",
      "Epoch 2/50\n",
      "144/144 [==============================] - 0s 78us/step - loss: 1.3548 - acc: 0.5069 - val_loss: 1.2600 - val_acc: 0.6389\n",
      "Epoch 3/50\n",
      "144/144 [==============================] - 0s 134us/step - loss: 1.2752 - acc: 0.5417 - val_loss: 1.2089 - val_acc: 0.5278\n",
      "Epoch 4/50\n",
      "144/144 [==============================] - 0s 95us/step - loss: 1.1935 - acc: 0.5833 - val_loss: 1.1714 - val_acc: 0.5000\n",
      "Epoch 5/50\n",
      "144/144 [==============================] - 0s 103us/step - loss: 1.1574 - acc: 0.5347 - val_loss: 1.1544 - val_acc: 0.4444\n",
      "Epoch 6/50\n",
      "144/144 [==============================] - 0s 85us/step - loss: 1.1429 - acc: 0.5000 - val_loss: 1.1270 - val_acc: 0.4722\n",
      "Epoch 7/50\n",
      "144/144 [==============================] - 0s 93us/step - loss: 1.0410 - acc: 0.6458 - val_loss: 1.0989 - val_acc: 0.4444\n",
      "Epoch 8/50\n",
      "144/144 [==============================] - 0s 104us/step - loss: 1.0218 - acc: 0.6181 - val_loss: 1.0568 - val_acc: 0.5000\n",
      "Epoch 9/50\n",
      "144/144 [==============================] - 0s 96us/step - loss: 0.9996 - acc: 0.6458 - val_loss: 1.0285 - val_acc: 0.5000\n",
      "Epoch 10/50\n",
      "144/144 [==============================] - 0s 94us/step - loss: 0.9516 - acc: 0.6736 - val_loss: 1.0158 - val_acc: 0.5000\n",
      "Epoch 11/50\n",
      "144/144 [==============================] - 0s 85us/step - loss: 0.9309 - acc: 0.6528 - val_loss: 1.0130 - val_acc: 0.5000\n",
      "Epoch 12/50\n",
      "144/144 [==============================] - 0s 113us/step - loss: 0.9125 - acc: 0.6528 - val_loss: 1.0007 - val_acc: 0.5000\n",
      "Epoch 13/50\n",
      "144/144 [==============================] - 0s 83us/step - loss: 0.9088 - acc: 0.6111 - val_loss: 0.9850 - val_acc: 0.5000\n",
      "Epoch 14/50\n",
      "144/144 [==============================] - 0s 93us/step - loss: 0.9277 - acc: 0.6181 - val_loss: 0.9572 - val_acc: 0.4722\n",
      "Epoch 15/50\n",
      "144/144 [==============================] - 0s 93us/step - loss: 0.8736 - acc: 0.6458 - val_loss: 0.9331 - val_acc: 0.4444\n",
      "Epoch 16/50\n",
      "144/144 [==============================] - 0s 104us/step - loss: 0.9136 - acc: 0.5694 - val_loss: 0.9267 - val_acc: 0.4444\n",
      "Epoch 17/50\n",
      "144/144 [==============================] - 0s 124us/step - loss: 0.8606 - acc: 0.6042 - val_loss: 0.9140 - val_acc: 0.4444\n",
      "Epoch 18/50\n",
      "144/144 [==============================] - 0s 157us/step - loss: 0.8596 - acc: 0.6875 - val_loss: 0.9056 - val_acc: 0.4444\n",
      "Epoch 19/50\n",
      "144/144 [==============================] - 0s 111us/step - loss: 0.8568 - acc: 0.6389 - val_loss: 0.8979 - val_acc: 0.4444\n",
      "Epoch 20/50\n",
      "144/144 [==============================] - 0s 114us/step - loss: 0.8296 - acc: 0.6736 - val_loss: 0.8832 - val_acc: 0.4722\n",
      "Epoch 21/50\n",
      "144/144 [==============================] - 0s 99us/step - loss: 0.8324 - acc: 0.6458 - val_loss: 0.8805 - val_acc: 0.4444\n",
      "Epoch 22/50\n",
      "144/144 [==============================] - 0s 100us/step - loss: 0.8512 - acc: 0.6111 - val_loss: 0.8644 - val_acc: 0.5000\n",
      "Epoch 23/50\n",
      "144/144 [==============================] - 0s 87us/step - loss: 0.8416 - acc: 0.6319 - val_loss: 0.8458 - val_acc: 0.5000\n",
      "Epoch 24/50\n",
      "144/144 [==============================] - 0s 90us/step - loss: 0.8018 - acc: 0.6389 - val_loss: 0.8344 - val_acc: 0.5556\n",
      "Epoch 25/50\n",
      "144/144 [==============================] - 0s 88us/step - loss: 0.8188 - acc: 0.6736 - val_loss: 0.8333 - val_acc: 0.5278\n",
      "Epoch 26/50\n",
      "144/144 [==============================] - 0s 81us/step - loss: 0.7958 - acc: 0.6597 - val_loss: 0.8315 - val_acc: 0.5278\n",
      "Epoch 27/50\n",
      "144/144 [==============================] - 0s 86us/step - loss: 0.8079 - acc: 0.6597 - val_loss: 0.8293 - val_acc: 0.5000\n",
      "Epoch 28/50\n",
      "144/144 [==============================] - 0s 111us/step - loss: 0.8112 - acc: 0.6250 - val_loss: 0.8219 - val_acc: 0.5278\n",
      "Epoch 29/50\n",
      "144/144 [==============================] - 0s 86us/step - loss: 0.7719 - acc: 0.6667 - val_loss: 0.8144 - val_acc: 0.5556\n",
      "Epoch 30/50\n",
      "144/144 [==============================] - 0s 98us/step - loss: 0.7737 - acc: 0.6319 - val_loss: 0.8104 - val_acc: 0.5556\n",
      "Epoch 31/50\n",
      "144/144 [==============================] - 0s 85us/step - loss: 0.7806 - acc: 0.6458 - val_loss: 0.8084 - val_acc: 0.5556\n",
      "Epoch 32/50\n",
      "144/144 [==============================] - 0s 85us/step - loss: 0.7911 - acc: 0.6319 - val_loss: 0.8180 - val_acc: 0.5000\n",
      "Epoch 33/50\n",
      "144/144 [==============================] - 0s 90us/step - loss: 0.7738 - acc: 0.6458 - val_loss: 0.8365 - val_acc: 0.4444\n",
      "Epoch 34/50\n",
      "144/144 [==============================] - 0s 119us/step - loss: 0.7785 - acc: 0.6250 - val_loss: 0.8442 - val_acc: 0.4444\n",
      "Epoch 35/50\n",
      "144/144 [==============================] - 0s 107us/step - loss: 0.7921 - acc: 0.6250 - val_loss: 0.8281 - val_acc: 0.4444\n",
      "Epoch 36/50\n",
      "144/144 [==============================] - 0s 109us/step - loss: 0.7810 - acc: 0.6250 - val_loss: 0.8109 - val_acc: 0.5000\n",
      "Epoch 37/50\n",
      "144/144 [==============================] - 0s 98us/step - loss: 0.7913 - acc: 0.5903 - val_loss: 0.7972 - val_acc: 0.5278\n",
      "Epoch 38/50\n",
      "144/144 [==============================] - 0s 125us/step - loss: 0.7589 - acc: 0.6806 - val_loss: 0.7809 - val_acc: 0.6111\n",
      "Epoch 39/50\n",
      "144/144 [==============================] - 0s 112us/step - loss: 0.7842 - acc: 0.6458 - val_loss: 0.7754 - val_acc: 0.5833\n",
      "Epoch 40/50\n",
      "144/144 [==============================] - 0s 77us/step - loss: 0.7520 - acc: 0.6806 - val_loss: 0.7724 - val_acc: 0.5833\n",
      "Epoch 41/50\n",
      "144/144 [==============================] - 0s 97us/step - loss: 0.7662 - acc: 0.6597 - val_loss: 0.7766 - val_acc: 0.6111\n",
      "Epoch 42/50\n",
      "144/144 [==============================] - 0s 73us/step - loss: 0.7877 - acc: 0.6944 - val_loss: 0.7872 - val_acc: 0.5556\n",
      "Epoch 43/50\n",
      "144/144 [==============================] - 0s 100us/step - loss: 0.7609 - acc: 0.6597 - val_loss: 0.8043 - val_acc: 0.4722\n",
      "Epoch 44/50\n",
      "144/144 [==============================] - 0s 79us/step - loss: 0.7633 - acc: 0.6458 - val_loss: 0.8180 - val_acc: 0.4722\n",
      "Epoch 45/50\n",
      "144/144 [==============================] - 0s 75us/step - loss: 0.7369 - acc: 0.6875 - val_loss: 0.8321 - val_acc: 0.5000\n",
      "Epoch 46/50\n",
      "144/144 [==============================] - 0s 111us/step - loss: 0.7548 - acc: 0.6458 - val_loss: 0.8193 - val_acc: 0.4444\n",
      "Epoch 47/50\n",
      "144/144 [==============================] - 0s 136us/step - loss: 0.7429 - acc: 0.6319 - val_loss: 0.8042 - val_acc: 0.5278\n",
      "\n",
      "Epoch 00047: ReduceLROnPlateau reducing learning rate to 0.001.\n",
      "Epoch 48/50\n",
      "144/144 [==============================] - 0s 79us/step - loss: 0.7433 - acc: 0.6181 - val_loss: 0.7955 - val_acc: 0.5278\n",
      "Epoch 49/50\n",
      "144/144 [==============================] - 0s 84us/step - loss: 0.7543 - acc: 0.6389 - val_loss: 0.7788 - val_acc: 0.5556\n",
      "Epoch 50/50\n",
      "144/144 [==============================] - 0s 91us/step - loss: 0.7357 - acc: 0.6250 - val_loss: 0.7693 - val_acc: 0.5833\n",
      "CPU times: user 3.09 s, sys: 102 ms, total: 3.19 s\n",
      "Wall time: 3.01 s\n"
     ]
    }
   ],
   "source": [
    "%%time\n",
    "\n",
    "# earlystop_cb = keras.callbacks.EarlyStopping(\n",
    "#     monitor='val_loss',\n",
    "#     patience=5, restore_best_weights=True,\n",
    "#     verbose=1)\n",
    "reduce_lr_cb = keras.callbacks.ReduceLROnPlateau(\n",
    "    monitor='val_loss', factor=0.05,\n",
    "    patience=7, min_lr=0.001,\n",
    "    verbose=1)\n",
    "\n",
    "tb_cb = keras.callbacks.TensorBoard(log_dir='./tensorboard/%s' % arch_cnt, histogram_freq=0,  \n",
    "          write_graph=True, write_images=True)\n",
    "\n",
    "\n",
    "epochs = 50\n",
    "batch_size = 32\n",
    "\n",
    "model.fit(\n",
    "    x_train, y_train,\n",
    "    batch_size=batch_size,\n",
    "    epochs=epochs,\n",
    "    verbose=1,\n",
    "    \n",
    "    shuffle=False,\n",
    "    validation_data=(x_test, y_test),\n",
    "    callbacks=[reduce_lr_cb, tb_cb]\n",
    "    # callbacks=[earlystop_cb, reduce_lr_cb]\n",
    ")"
   ]
  },
  {
   "cell_type": "code",
   "execution_count": 40,
   "metadata": {},
   "outputs": [
    {
     "name": "stdout",
     "output_type": "stream",
     "text": [
      "Test loss: 0.7693172958162096\n",
      "Test accuracy: 0.5833333333333334\n"
     ]
    }
   ],
   "source": [
    "score = model.evaluate(x_test, y_test, verbose=0)\n",
    "print('Test loss:', score[0])\n",
    "print('Test accuracy:', score[1])"
   ]
  },
  {
   "cell_type": "markdown",
   "metadata": {},
   "source": [
    "### Architecture 3 - Deflating Dense 225-112, 0.5 Dropout, Batch Norm, Sigmoid Classification, **`L2 = 1e^-1`**"
   ]
  },
  {
   "cell_type": "code",
   "execution_count": 35,
   "metadata": {},
   "outputs": [
    {
     "name": "stdout",
     "output_type": "stream",
     "text": [
      "_________________________________________________________________\n",
      "Layer (type)                 Output Shape              Param #   \n",
      "=================================================================\n",
      "dense_22 (Dense)             (None, 225)               3600      \n",
      "_________________________________________________________________\n",
      "dropout_8 (Dropout)          (None, 225)               0         \n",
      "_________________________________________________________________\n",
      "dense_23 (Dense)             (None, 112)               25312     \n",
      "_________________________________________________________________\n",
      "batch_normalization_8 (Batch (None, 112)               448       \n",
      "_________________________________________________________________\n",
      "dense_24 (Dense)             (None, 1)                 113       \n",
      "=================================================================\n",
      "Total params: 29,473\n",
      "Trainable params: 29,249\n",
      "Non-trainable params: 224\n",
      "_________________________________________________________________\n"
     ]
    }
   ],
   "source": [
    "arch_cnt = 'arch-3-1'\n",
    "\n",
    "model = Sequential()\n",
    "model.add(\n",
    "    Dense(225, input_dim=15, kernel_initializer='normal',\n",
    "          kernel_regularizer=keras.regularizers.l2(0.1), # pierd 0.2 acc\n",
    "          activation='relu'))\n",
    "model.add(Dropout(0.5))\n",
    "model.add(\n",
    "    Dense(112, input_dim=15, kernel_initializer='normal',\n",
    "          kernel_regularizer=keras.regularizers.l2(0.1), # pierd 0.2 acc\n",
    "          activation='relu'))\n",
    "# model.add(LeakyReLU(alpha=0.1))\n",
    "model.add(BatchNormalization(axis = 1))\n",
    "model.add(Dense(1, kernel_initializer='normal', activation='sigmoid'))\n",
    "\n",
    "\n",
    "model.compile(loss='binary_crossentropy', optimizer='adam', metrics=['accuracy'])\n",
    "\n",
    "model.summary()"
   ]
  },
  {
   "cell_type": "code",
   "execution_count": 36,
   "metadata": {
    "scrolled": true
   },
   "outputs": [
    {
     "name": "stdout",
     "output_type": "stream",
     "text": [
      "Train on 144 samples, validate on 36 samples\n",
      "Epoch 1/50\n",
      "144/144 [==============================] - 0s 2ms/step - loss: 7.4829 - acc: 0.5486 - val_loss: 6.8780 - val_acc: 0.4444\n",
      "Epoch 2/50\n",
      "144/144 [==============================] - 0s 94us/step - loss: 6.5561 - acc: 0.5764 - val_loss: 6.0230 - val_acc: 0.4444\n",
      "Epoch 3/50\n",
      "144/144 [==============================] - 0s 90us/step - loss: 5.7389 - acc: 0.5208 - val_loss: 5.2785 - val_acc: 0.4444\n",
      "Epoch 4/50\n",
      "144/144 [==============================] - 0s 109us/step - loss: 5.0140 - acc: 0.5903 - val_loss: 4.6354 - val_acc: 0.4722\n",
      "Epoch 5/50\n",
      "144/144 [==============================] - 0s 107us/step - loss: 4.4265 - acc: 0.5556 - val_loss: 4.0890 - val_acc: 0.4444\n",
      "Epoch 6/50\n",
      "144/144 [==============================] - 0s 104us/step - loss: 3.9032 - acc: 0.5833 - val_loss: 3.6264 - val_acc: 0.4444\n",
      "Epoch 7/50\n",
      "144/144 [==============================] - 0s 98us/step - loss: 3.4811 - acc: 0.5208 - val_loss: 3.2298 - val_acc: 0.4444\n",
      "Epoch 8/50\n",
      "144/144 [==============================] - 0s 79us/step - loss: 3.0772 - acc: 0.6111 - val_loss: 2.8905 - val_acc: 0.4722\n",
      "Epoch 9/50\n",
      "144/144 [==============================] - 0s 123us/step - loss: 2.7821 - acc: 0.5486 - val_loss: 2.6020 - val_acc: 0.5278\n",
      "Epoch 10/50\n",
      "144/144 [==============================] - 0s 100us/step - loss: 2.5395 - acc: 0.5417 - val_loss: 2.3626 - val_acc: 0.4722\n",
      "Epoch 11/50\n",
      "144/144 [==============================] - 0s 100us/step - loss: 2.2919 - acc: 0.5625 - val_loss: 2.1634 - val_acc: 0.4444\n",
      "Epoch 12/50\n",
      "144/144 [==============================] - 0s 128us/step - loss: 2.0781 - acc: 0.5764 - val_loss: 1.9884 - val_acc: 0.4444\n",
      "Epoch 13/50\n",
      "144/144 [==============================] - 0s 88us/step - loss: 1.9107 - acc: 0.5903 - val_loss: 1.8417 - val_acc: 0.4444\n",
      "Epoch 14/50\n",
      "144/144 [==============================] - 0s 84us/step - loss: 1.7622 - acc: 0.5417 - val_loss: 1.7146 - val_acc: 0.4444\n",
      "Epoch 15/50\n",
      "144/144 [==============================] - 0s 95us/step - loss: 1.6451 - acc: 0.5972 - val_loss: 1.6169 - val_acc: 0.4444\n",
      "Epoch 16/50\n",
      "144/144 [==============================] - 0s 120us/step - loss: 1.5554 - acc: 0.5694 - val_loss: 1.5401 - val_acc: 0.4167\n",
      "Epoch 17/50\n",
      "144/144 [==============================] - 0s 116us/step - loss: 1.4397 - acc: 0.6111 - val_loss: 1.4735 - val_acc: 0.4444\n",
      "Epoch 18/50\n",
      "144/144 [==============================] - 0s 104us/step - loss: 1.4129 - acc: 0.5139 - val_loss: 1.4041 - val_acc: 0.4444\n",
      "Epoch 19/50\n",
      "144/144 [==============================] - 0s 90us/step - loss: 1.3058 - acc: 0.5903 - val_loss: 1.3251 - val_acc: 0.4444\n",
      "Epoch 20/50\n",
      "144/144 [==============================] - 0s 81us/step - loss: 1.2432 - acc: 0.6250 - val_loss: 1.2571 - val_acc: 0.4444\n",
      "Epoch 21/50\n",
      "144/144 [==============================] - 0s 97us/step - loss: 1.1539 - acc: 0.6597 - val_loss: 1.2116 - val_acc: 0.4722\n",
      "Epoch 22/50\n",
      "144/144 [==============================] - 0s 107us/step - loss: 1.1573 - acc: 0.6042 - val_loss: 1.1877 - val_acc: 0.4444\n",
      "Epoch 23/50\n",
      "144/144 [==============================] - 0s 93us/step - loss: 1.1166 - acc: 0.5833 - val_loss: 1.1431 - val_acc: 0.4722\n",
      "Epoch 24/50\n",
      "144/144 [==============================] - 0s 84us/step - loss: 1.0777 - acc: 0.6042 - val_loss: 1.1021 - val_acc: 0.4444\n",
      "Epoch 25/50\n",
      "144/144 [==============================] - 0s 90us/step - loss: 0.9982 - acc: 0.6250 - val_loss: 1.0659 - val_acc: 0.4722\n",
      "Epoch 26/50\n",
      "144/144 [==============================] - 0s 120us/step - loss: 1.0227 - acc: 0.6319 - val_loss: 1.0479 - val_acc: 0.4444\n",
      "Epoch 27/50\n",
      "144/144 [==============================] - 0s 103us/step - loss: 0.9950 - acc: 0.5833 - val_loss: 1.0425 - val_acc: 0.4722\n",
      "Epoch 28/50\n",
      "144/144 [==============================] - 0s 101us/step - loss: 0.9684 - acc: 0.6458 - val_loss: 1.0459 - val_acc: 0.4444\n",
      "Epoch 29/50\n",
      "144/144 [==============================] - 0s 94us/step - loss: 0.9391 - acc: 0.6042 - val_loss: 1.0335 - val_acc: 0.4444\n",
      "Epoch 30/50\n",
      "144/144 [==============================] - 0s 90us/step - loss: 0.9301 - acc: 0.6667 - val_loss: 0.9903 - val_acc: 0.4722\n",
      "Epoch 31/50\n",
      "144/144 [==============================] - 0s 109us/step - loss: 0.8917 - acc: 0.6319 - val_loss: 0.9629 - val_acc: 0.4444\n",
      "Epoch 32/50\n",
      "144/144 [==============================] - 0s 85us/step - loss: 0.8565 - acc: 0.6319 - val_loss: 0.9693 - val_acc: 0.4444\n",
      "Epoch 33/50\n",
      "144/144 [==============================] - 0s 122us/step - loss: 0.8659 - acc: 0.6736 - val_loss: 0.9631 - val_acc: 0.4444\n",
      "Epoch 34/50\n",
      "144/144 [==============================] - 0s 98us/step - loss: 0.8961 - acc: 0.5833 - val_loss: 0.9642 - val_acc: 0.4444\n",
      "Epoch 35/50\n",
      "144/144 [==============================] - 0s 114us/step - loss: 0.8323 - acc: 0.6528 - val_loss: 0.9652 - val_acc: 0.4444\n",
      "Epoch 36/50\n",
      "144/144 [==============================] - 0s 108us/step - loss: 0.8590 - acc: 0.5972 - val_loss: 0.9168 - val_acc: 0.4722\n",
      "Epoch 37/50\n",
      "144/144 [==============================] - 0s 87us/step - loss: 0.8576 - acc: 0.6458 - val_loss: 0.8841 - val_acc: 0.4722\n",
      "Epoch 38/50\n",
      "144/144 [==============================] - 0s 84us/step - loss: 0.8472 - acc: 0.5972 - val_loss: 0.8537 - val_acc: 0.4444\n",
      "Epoch 39/50\n",
      "144/144 [==============================] - 0s 111us/step - loss: 0.8216 - acc: 0.6458 - val_loss: 0.8376 - val_acc: 0.5556\n",
      "Epoch 40/50\n",
      "144/144 [==============================] - 0s 127us/step - loss: 0.8348 - acc: 0.5903 - val_loss: 0.8320 - val_acc: 0.6667\n",
      "Epoch 41/50\n",
      "144/144 [==============================] - 0s 97us/step - loss: 0.7779 - acc: 0.6528 - val_loss: 0.8274 - val_acc: 0.6111\n",
      "Epoch 42/50\n",
      "144/144 [==============================] - 0s 95us/step - loss: 0.8031 - acc: 0.6181 - val_loss: 0.8249 - val_acc: 0.5556\n",
      "Epoch 43/50\n",
      "144/144 [==============================] - 0s 93us/step - loss: 0.8192 - acc: 0.6042 - val_loss: 0.8221 - val_acc: 0.5278\n",
      "Epoch 44/50\n",
      "144/144 [==============================] - 0s 73us/step - loss: 0.8374 - acc: 0.5903 - val_loss: 0.8187 - val_acc: 0.5556\n",
      "Epoch 45/50\n",
      "144/144 [==============================] - 0s 77us/step - loss: 0.7896 - acc: 0.5903 - val_loss: 0.8259 - val_acc: 0.4722\n",
      "Epoch 46/50\n",
      "144/144 [==============================] - 0s 83us/step - loss: 0.8045 - acc: 0.5833 - val_loss: 0.8416 - val_acc: 0.4444\n",
      "Epoch 47/50\n",
      "144/144 [==============================] - 0s 97us/step - loss: 0.7633 - acc: 0.6806 - val_loss: 0.8655 - val_acc: 0.4444\n",
      "Epoch 48/50\n",
      "144/144 [==============================] - 0s 87us/step - loss: 0.8088 - acc: 0.6250 - val_loss: 0.8355 - val_acc: 0.4444\n",
      "Epoch 49/50\n",
      "144/144 [==============================] - 0s 119us/step - loss: 0.7518 - acc: 0.6597 - val_loss: 0.8255 - val_acc: 0.4722\n",
      "Epoch 50/50\n",
      "144/144 [==============================] - 0s 110us/step - loss: 0.7830 - acc: 0.6389 - val_loss: 0.8165 - val_acc: 0.4722\n",
      "CPU times: user 3.01 s, sys: 70.6 ms, total: 3.08 s\n",
      "Wall time: 2.89 s\n"
     ]
    }
   ],
   "source": [
    "%%time\n",
    "\n",
    "# earlystop_cb = keras.callbacks.EarlyStopping(\n",
    "#     monitor='val_loss',\n",
    "#     patience=5, restore_best_weights=True,\n",
    "#     verbose=1)\n",
    "reduce_lr_cb = keras.callbacks.ReduceLROnPlateau(\n",
    "    monitor='val_loss', factor=0.05,\n",
    "    patience=7, min_lr=0.001,\n",
    "    verbose=1)\n",
    "\n",
    "tb_cb = keras.callbacks.TensorBoard(log_dir='./tensorboard/%s' % arch_cnt, histogram_freq=0,  \n",
    "          write_graph=True, write_images=True)\n",
    "\n",
    "\n",
    "epochs = 50\n",
    "batch_size = 32\n",
    "\n",
    "model.fit(\n",
    "    x_train, y_train,\n",
    "    batch_size=batch_size,\n",
    "    epochs=epochs,\n",
    "    verbose=1,\n",
    "    \n",
    "    shuffle=False,\n",
    "    validation_data=(x_test, y_test),\n",
    "    callbacks=[reduce_lr_cb, tb_cb]\n",
    "    # callbacks=[earlystop_cb, reduce_lr_cb]\n",
    ")"
   ]
  },
  {
   "cell_type": "code",
   "execution_count": 37,
   "metadata": {},
   "outputs": [
    {
     "name": "stdout",
     "output_type": "stream",
     "text": [
      "Test loss: 0.8165454334682889\n",
      "Test accuracy: 0.4722222222222222\n"
     ]
    }
   ],
   "source": [
    "score = model.evaluate(x_test, y_test, verbose=0)\n",
    "print('Test loss:', score[0])\n",
    "print('Test accuracy:', score[1])"
   ]
  },
  {
   "cell_type": "code",
   "execution_count": null,
   "metadata": {},
   "outputs": [],
   "source": []
  },
  {
   "cell_type": "markdown",
   "metadata": {},
   "source": [
    "---"
   ]
  },
  {
   "cell_type": "code",
   "execution_count": null,
   "metadata": {},
   "outputs": [],
   "source": []
  },
  {
   "cell_type": "markdown",
   "metadata": {},
   "source": [
    "# Ensemble Methods"
   ]
  },
  {
   "cell_type": "code",
   "execution_count": null,
   "metadata": {},
   "outputs": [],
   "source": [
    "import matplotlib.pyplot as plt\n",
    "%matplotlib inline"
   ]
  },
  {
   "cell_type": "markdown",
   "metadata": {},
   "source": [
    "## Bagging Strategies"
   ]
  },
  {
   "cell_type": "markdown",
   "metadata": {},
   "source": [
    "### Random Forests"
   ]
  },
  {
   "cell_type": "code",
   "execution_count": 18,
   "metadata": {},
   "outputs": [],
   "source": [
    "from sklearn.ensemble import RandomForestClassifier"
   ]
  },
  {
   "cell_type": "code",
   "execution_count": 19,
   "metadata": {},
   "outputs": [],
   "source": [
    "# x_train, x_test, y_train, y_test"
   ]
  },
  {
   "cell_type": "code",
   "execution_count": 20,
   "metadata": {},
   "outputs": [],
   "source": [
    "\n",
    "clf = RandomForestClassifier(n_estimators=100, max_depth=2, random_state=0)"
   ]
  },
  {
   "cell_type": "code",
   "execution_count": 21,
   "metadata": {},
   "outputs": [
    {
     "data": {
      "text/plain": [
       "RandomForestClassifier(bootstrap=True, class_weight=None, criterion='gini',\n",
       "            max_depth=2, max_features='auto', max_leaf_nodes=None,\n",
       "            min_impurity_decrease=0.0, min_impurity_split=None,\n",
       "            min_samples_leaf=1, min_samples_split=2,\n",
       "            min_weight_fraction_leaf=0.0, n_estimators=100, n_jobs=1,\n",
       "            oob_score=False, random_state=0, verbose=0, warm_start=False)"
      ]
     },
     "execution_count": 21,
     "metadata": {},
     "output_type": "execute_result"
    }
   ],
   "source": [
    "clf.fit(x_train, y_train)"
   ]
  },
  {
   "cell_type": "code",
   "execution_count": null,
   "metadata": {},
   "outputs": [],
   "source": []
  },
  {
   "cell_type": "code",
   "execution_count": 22,
   "metadata": {},
   "outputs": [
    {
     "name": "stdout",
     "output_type": "stream",
     "text": [
      "[0.04117183 0.00496237 0.2124435  0.11033686 0.03552996 0.12413992\n",
      " 0.09559455 0.         0.00413384 0.03759457 0.05501764 0.02024867\n",
      " 0.03323923 0.07819483 0.14739222]\n"
     ]
    }
   ],
   "source": [
    "print(clf.feature_importances_)"
   ]
  },
  {
   "cell_type": "code",
   "execution_count": 26,
   "metadata": {},
   "outputs": [
    {
     "name": "stdout",
     "output_type": "stream",
     "text": [
      "[0 0 0 1 0 1 0 0 1 1 1 1 1 0 0 0 0 0 1 1 0 0 1 0 0 1 0 0 0 1 1 0 1 0 0 0]\n"
     ]
    }
   ],
   "source": [
    "print(clf.predict(x_test))"
   ]
  },
  {
   "cell_type": "code",
   "execution_count": 27,
   "metadata": {},
   "outputs": [],
   "source": [
    "# make predictions for test data\n",
    "y_pred = clf.predict(x_test)\n",
    "predictions = [round(value) for value in y_pred]"
   ]
  },
  {
   "cell_type": "code",
   "execution_count": 28,
   "metadata": {},
   "outputs": [
    {
     "name": "stdout",
     "output_type": "stream",
     "text": [
      "Accuracy: 83.33%\n"
     ]
    }
   ],
   "source": [
    "# evaluate predictions\n",
    "accuracy = accuracy_score(y_test, predictions)\n",
    "print(\"Accuracy: %.2f%%\" % (accuracy * 100.0))"
   ]
  },
  {
   "cell_type": "code",
   "execution_count": null,
   "metadata": {},
   "outputs": [],
   "source": []
  },
  {
   "cell_type": "code",
   "execution_count": null,
   "metadata": {},
   "outputs": [],
   "source": []
  },
  {
   "cell_type": "code",
   "execution_count": null,
   "metadata": {},
   "outputs": [],
   "source": []
  },
  {
   "cell_type": "markdown",
   "metadata": {},
   "source": [
    "### ExtraTrees"
   ]
  },
  {
   "cell_type": "code",
   "execution_count": 30,
   "metadata": {},
   "outputs": [],
   "source": [
    "from sklearn.ensemble import ExtraTreesClassifier"
   ]
  },
  {
   "cell_type": "code",
   "execution_count": 31,
   "metadata": {},
   "outputs": [],
   "source": [
    "# x_train, x_test, y_train, y_test"
   ]
  },
  {
   "cell_type": "code",
   "execution_count": 32,
   "metadata": {},
   "outputs": [],
   "source": [
    "\n",
    "clf = ExtraTreesClassifier(n_estimators=100, max_depth=2, random_state=0)"
   ]
  },
  {
   "cell_type": "code",
   "execution_count": 33,
   "metadata": {},
   "outputs": [
    {
     "data": {
      "text/plain": [
       "ExtraTreesClassifier(bootstrap=False, class_weight=None, criterion='gini',\n",
       "           max_depth=2, max_features='auto', max_leaf_nodes=None,\n",
       "           min_impurity_decrease=0.0, min_impurity_split=None,\n",
       "           min_samples_leaf=1, min_samples_split=2,\n",
       "           min_weight_fraction_leaf=0.0, n_estimators=100, n_jobs=1,\n",
       "           oob_score=False, random_state=0, verbose=0, warm_start=False)"
      ]
     },
     "execution_count": 33,
     "metadata": {},
     "output_type": "execute_result"
    }
   ],
   "source": [
    "clf.fit(x_train, y_train)"
   ]
  },
  {
   "cell_type": "code",
   "execution_count": null,
   "metadata": {},
   "outputs": [],
   "source": []
  },
  {
   "cell_type": "code",
   "execution_count": 34,
   "metadata": {},
   "outputs": [
    {
     "name": "stdout",
     "output_type": "stream",
     "text": [
      "[0.03595362 0.00066439 0.19711    0.21279172 0.00303455 0.06847946\n",
      " 0.10905054 0.00071238 0.00961193 0.00356046 0.03753535 0.04054296\n",
      " 0.01259753 0.06053845 0.20781666]\n"
     ]
    }
   ],
   "source": [
    "print(clf.feature_importances_)"
   ]
  },
  {
   "cell_type": "code",
   "execution_count": 35,
   "metadata": {},
   "outputs": [
    {
     "name": "stdout",
     "output_type": "stream",
     "text": [
      "[0 0 0 1 0 1 0 0 1 1 1 1 1 0 0 0 0 0 1 1 0 0 1 0 0 1 1 0 0 1 1 0 1 0 0 0]\n"
     ]
    }
   ],
   "source": [
    "print(clf.predict(x_test))"
   ]
  },
  {
   "cell_type": "code",
   "execution_count": 36,
   "metadata": {},
   "outputs": [],
   "source": [
    "# make predictions for test data\n",
    "y_pred = clf.predict(x_test)\n",
    "predictions = [round(value) for value in y_pred]"
   ]
  },
  {
   "cell_type": "code",
   "execution_count": 37,
   "metadata": {},
   "outputs": [
    {
     "name": "stdout",
     "output_type": "stream",
     "text": [
      "Accuracy: 80.56%\n"
     ]
    }
   ],
   "source": [
    "# evaluate predictions\n",
    "accuracy = accuracy_score(y_test, predictions)\n",
    "print(\"Accuracy: %.2f%%\" % (accuracy * 100.0))"
   ]
  },
  {
   "cell_type": "code",
   "execution_count": 51,
   "metadata": {},
   "outputs": [
    {
     "data": {
      "image/png": "[encoded data removed]",
      "text/plain": [
       "<matplotlib.figure.Figure at 0x7f4239ad4a20>"
      ]
     },
     "metadata": {},
     "output_type": "display_data"
    }
   ],
   "source": [
    "fig = plt.figure(figsize=(10,5))\n",
    "\n",
    "plot_learning_curves(x_train, y_train, x_test, y_test, clf)\n",
    "\n",
    "plt.show()"
   ]
  },
  {
   "cell_type": "code",
   "execution_count": null,
   "metadata": {},
   "outputs": [],
   "source": []
  },
  {
   "cell_type": "markdown",
   "metadata": {},
   "source": [
    "## Stacking Strategies"
   ]
  },
  {
   "cell_type": "markdown",
   "metadata": {},
   "source": [
    "### SuperLearner"
   ]
  },
  {
   "cell_type": "code",
   "execution_count": null,
   "metadata": {},
   "outputs": [],
   "source": []
  },
  {
   "cell_type": "code",
   "execution_count": null,
   "metadata": {},
   "outputs": [],
   "source": []
  },
  {
   "cell_type": "code",
   "execution_count": null,
   "metadata": {},
   "outputs": [],
   "source": []
  },
  {
   "cell_type": "code",
   "execution_count": null,
   "metadata": {},
   "outputs": [],
   "source": []
  },
  {
   "cell_type": "code",
   "execution_count": null,
   "metadata": {},
   "outputs": [],
   "source": []
  },
  {
   "cell_type": "markdown",
   "metadata": {},
   "source": [
    "## Boosting Strategies"
   ]
  },
  {
   "cell_type": "code",
   "execution_count": null,
   "metadata": {},
   "outputs": [],
   "source": []
  },
  {
   "cell_type": "code",
   "execution_count": null,
   "metadata": {},
   "outputs": [],
   "source": []
  },
  {
   "cell_type": "code",
   "execution_count": null,
   "metadata": {},
   "outputs": [],
   "source": []
  },
  {
   "cell_type": "code",
   "execution_count": null,
   "metadata": {},
   "outputs": [],
   "source": []
  },
  {
   "cell_type": "markdown",
   "metadata": {},
   "source": [
    "### xgboost"
   ]
  },
  {
   "cell_type": "markdown",
   "metadata": {},
   "source": []
  },
  {
   "cell_type": "code",
   "execution_count": 15,
   "metadata": {},
   "outputs": [],
   "source": [
    "# import xgboost as xgb\n",
    "from xgboost import XGBClassifier\n",
    "from sklearn.metrics import accuracy_score"
   ]
  },
  {
   "cell_type": "code",
   "execution_count": 9,
   "metadata": {},
   "outputs": [],
   "source": [
    "# x_train, x_test, y_train, y_test"
   ]
  },
  {
   "cell_type": "code",
   "execution_count": 10,
   "metadata": {},
   "outputs": [
    {
     "data": {
      "text/plain": [
       "XGBClassifier(base_score=0.5, booster='gbtree', colsample_bylevel=1,\n",
       "       colsample_bytree=1, gamma=0, learning_rate=0.1, max_delta_step=0,\n",
       "       max_depth=3, min_child_weight=1, missing=None, n_estimators=100,\n",
       "       n_jobs=1, nthread=None, objective='binary:logistic', random_state=0,\n",
       "       reg_alpha=0, reg_lambda=1, scale_pos_weight=1, seed=None,\n",
       "       silent=True, subsample=1)"
      ]
     },
     "execution_count": 10,
     "metadata": {},
     "output_type": "execute_result"
    }
   ],
   "source": [
    "model = XGBClassifier()\n",
    "model.fit(x_train, y_train)"
   ]
  },
  {
   "cell_type": "code",
   "execution_count": 11,
   "metadata": {},
   "outputs": [
    {
     "name": "stdout",
     "output_type": "stream",
     "text": [
      "XGBClassifier(base_score=0.5, booster='gbtree', colsample_bylevel=1,\n",
      "       colsample_bytree=1, gamma=0, learning_rate=0.1, max_delta_step=0,\n",
      "       max_depth=3, min_child_weight=1, missing=None, n_estimators=100,\n",
      "       n_jobs=1, nthread=None, objective='binary:logistic', random_state=0,\n",
      "       reg_alpha=0, reg_lambda=1, scale_pos_weight=1, seed=None,\n",
      "       silent=True, subsample=1)\n"
     ]
    }
   ],
   "source": [
    "print(model)"
   ]
  },
  {
   "cell_type": "code",
   "execution_count": 13,
   "metadata": {},
   "outputs": [
    {
     "name": "stderr",
     "output_type": "stream",
     "text": [
      "/usr/local/lib/python3.5/dist-packages/sklearn/preprocessing/label.py:151: DeprecationWarning: The truth value of an empty array is ambiguous. Returning False, but in future this will result in an error. Use `array.size > 0` to check that an array is not empty.\n",
      "  if diff:\n"
     ]
    }
   ],
   "source": [
    "# make predictions for test data\n",
    "y_pred = model.predict(x_test)\n",
    "predictions = [round(value) for value in y_pred]"
   ]
  },
  {
   "cell_type": "code",
   "execution_count": 16,
   "metadata": {},
   "outputs": [
    {
     "name": "stdout",
     "output_type": "stream",
     "text": [
      "Accuracy: 86.11%\n"
     ]
    }
   ],
   "source": [
    "# evaluate predictions\n",
    "accuracy = accuracy_score(y_test, predictions)\n",
    "print(\"Accuracy: %.2f%%\" % (accuracy * 100.0))"
   ]
  },
  {
   "cell_type": "code",
   "execution_count": null,
   "metadata": {},
   "outputs": [],
   "source": []
  },
  {
   "cell_type": "markdown",
   "metadata": {},
   "source": [
    "---"
   ]
  },
  {
   "cell_type": "markdown",
   "metadata": {},
   "source": [
    "# Bibliography"
   ]
  },
  {
   "cell_type": "markdown",
   "metadata": {},
   "source": [
    "+ https://medium.com/@datalesdatales/why-you-should-be-plotting-learning-curves-in-your-next-machine-learning-project-221bae60c53\n",
    "\n",
    "+ https://slideplayer.com/slide/4684120/15/images/6/Outline+Bias%2FVariance+Tradeoff+Ensemble+methods+that+minimize+variance.jpg\n",
    "  + https://slideplayer.com/slide/4684120/\n",
    "\n",
    "+ plot confusion matrix\n",
    "+ http://rasbt.github.io/mlxtend/user_guide/plotting/plot_learning_curves/\n",
    "+ https://machinelearningmastery.com/roc-curves-and-precision-recall-curves-for-classification-in-python/\n",
    "+ \n",
    "\n",
    "\n",
    "+ http://docs.h2o.ai/h2o-tutorials/latest-stable/tutorials/ensembles-stacking/index.html\n"
   ]
  },
  {
   "cell_type": "markdown",
   "metadata": {},
   "source": []
  },
  {
   "cell_type": "markdown",
   "metadata": {},
   "source": [
    "---"
   ]
  }
 ],
 "metadata": {
  "hide_input": false,
  "kernelspec": {
   "display_name": "Python 3",
   "language": "python",
   "name": "python3"
  },
  "language_info": {
   "codemirror_mode": {
    "name": "ipython",
    "version": 3
   },
   "file_extension": ".py",
   "mimetype": "text/x-python",
   "name": "python",
   "nbconvert_exporter": "python",
   "pygments_lexer": "ipython3",
   "version": "3.5.2"
  },
  "toc": {
   "base_numbering": 1,
   "nav_menu": {},
   "number_sections": true,
   "sideBar": true,
   "skip_h1_title": false,
   "title_cell": "Table of Contents",
   "title_sidebar": "Contents",
   "toc_cell": false,
   "toc_position": {
    "height": "calc(100% - 180px)",
    "left": "10px",
    "top": "150px",
    "width": "417px"
   },
   "toc_section_display": true,
   "toc_window_display": true
  },
  "varInspector": {
   "cols": {
    "lenName": 16,
    "lenType": 16,
    "lenVar": 40
   },
   "kernels_config": {
    "python": {
     "delete_cmd_postfix": "",
     "delete_cmd_prefix": "del ",
     "library": "var_list.py",
     "varRefreshCmd": "print(var_dic_list())"
    },
    "r": {
     "delete_cmd_postfix": ") ",
     "delete_cmd_prefix": "rm(",
     "library": "var_list.r",
     "varRefreshCmd": "cat(var_dic_list()) "
    }
   },
   "types_to_exclude": [
    "module",
    "function",
    "builtin_function_or_method",
    "instance",
    "_Feature"
   ],
   "window_display": false
  }
 },
 "nbformat": 4,
 "nbformat_minor": 2
}
