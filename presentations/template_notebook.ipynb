{
 "cells": [
  {
   "cell_type": "markdown",
   "metadata": {
    "slideshow": {
     "slide_type": "skip"
    }
   },
   "source": [
    "# Notebook Title <a class=\"tocSkip\">"
   ]
  },
  {
   "cell_type": "markdown",
   "metadata": {
    "slideshow": {
     "slide_type": "skip"
    }
   },
   "source": [
    "Make some notes here for the thought process, steps taken, TODOs.\n"
   ]
  },
  {
   "cell_type": "markdown",
   "metadata": {
    "slideshow": {
     "slide_type": "skip"
    }
   },
   "source": []
  },
  {
   "cell_type": "markdown",
   "metadata": {
    "slideshow": {
     "slide_type": "skip"
    }
   },
   "source": [
    "---"
   ]
  },
  {
   "cell_type": "markdown",
   "metadata": {
    "slideshow": {
     "slide_type": "skip"
    }
   },
   "source": [
    "# Imports"
   ]
  },
  {
   "cell_type": "markdown",
   "metadata": {
    "slideshow": {
     "slide_type": "skip"
    }
   },
   "source": [
    "## Import deps\n",
    "Map all dependencies under categories, for easier tracking / readability."
   ]
  },
  {
   "cell_type": "markdown",
   "metadata": {
    "slideshow": {
     "slide_type": "skip"
    }
   },
   "source": [
    "Also check: https://github.com/xR86/ml-stuff/tree/master/scripts"
   ]
  },
  {
   "cell_type": "code",
   "execution_count": 1,
   "metadata": {
    "slideshow": {
     "slide_type": "skip"
    }
   },
   "outputs": [],
   "source": [
    "# BASE ------------------------------------\n",
    "from datetime import datetime as dt\n",
    "nb_start = dt.now()\n",
    "\n",
    "# Be mindful when you have this activated.\n",
    "# import warnings\n",
    "# warnings.filterwarnings('ignore')\n",
    "\n",
    "import json\n",
    "from pathlib import Path\n",
    "\n",
    "from time import sleep\n",
    "\n",
    "# Display libs\n",
    "from IPython.display import display, HTML\n",
    "\n",
    "from tqdm import tqdm, tqdm_notebook\n",
    "tqdm.pandas()\n",
    "\n",
    "SEED = 24"
   ]
  },
  {
   "cell_type": "code",
   "execution_count": 2,
   "metadata": {
    "slideshow": {
     "slide_type": "skip"
    }
   },
   "outputs": [
    {
     "data": {
      "text/html": [
       "        <script type=\"text/javascript\">\n",
       "        window.PlotlyConfig = {MathJaxConfig: 'local'};\n",
       "        if (window.MathJax) {MathJax.Hub.Config({SVG: {font: \"STIX-Web\"}});}\n",
       "        if (typeof require !== 'undefined') {\n",
       "        require.undef(\"plotly\");\n",
       "        requirejs.config({\n",
       "            paths: {\n",
       "                'plotly': ['https://cdn.plot.ly/plotly-latest.min']\n",
       "            }\n",
       "        });\n",
       "        require(['plotly'], function(Plotly) {\n",
       "            window._Plotly = Plotly;\n",
       "        });\n",
       "        }\n",
       "        </script>\n",
       "        "
      ]
     },
     "metadata": {},
     "output_type": "display_data"
    },
    {
     "name": "stdout",
     "output_type": "stream",
     "text": [
      "CPU times: user 847 ms, sys: 75.8 ms, total: 923 ms\n",
      "Wall time: 928 ms\n"
     ]
    }
   ],
   "source": [
    "%%time\n",
    "\n",
    "# ETL ------------------------------------\n",
    "import numpy as np\n",
    "import pandas as pd\n",
    "\n",
    "# VIZ ------------------------------------\n",
    "import matplotlib.cm as cm\n",
    "import matplotlib.pyplot as plt\n",
    "%matplotlib inline\n",
    "import seaborn as sns\n",
    "\n",
    "import plotly.graph_objs as go\n",
    "import plotly.figure_factory as ff\n",
    "from plotly.offline import download_plotlyjs, init_notebook_mode, plot, iplot\n",
    "init_notebook_mode(connected=True)\n",
    "\n",
    "import plotly.express as px\n",
    "import plotly.io as pio\n",
    "from plotly.tools import mpl_to_plotly"
   ]
  },
  {
   "cell_type": "code",
   "execution_count": 3,
   "metadata": {
    "slideshow": {
     "slide_type": "skip"
    }
   },
   "outputs": [],
   "source": [
    "# NETWORK ANALYSIS ------------------------------------\n",
    "import networkx as nx\n",
    "import community as community_louvain"
   ]
  },
  {
   "cell_type": "markdown",
   "metadata": {
    "slideshow": {
     "slide_type": "skip"
    }
   },
   "source": [
    "## Inserts for Jupyter\n",
    "Any kind of IPython/Jupyter related stuff:\n",
    "- classes that leverage the <kbd>display</kbd> module,\n",
    "- javascript inserts,\n",
    "- HTML/CSS inserts to be reused in multiple displays for highlighting,\n",
    "- [table of contents](https://github.com/ipython-contrib/jupyter_contrib_nbextensions/tree/master/src/jupyter_contrib_nbextensions/nbextensions/toc2) marking, etc."
   ]
  },
  {
   "cell_type": "code",
   "execution_count": 4,
   "metadata": {
    "slideshow": {
     "slide_type": "skip"
    }
   },
   "outputs": [],
   "source": [
    "# https://stackoverflow.com/a/37124230\n",
    "import uuid\n",
    "from IPython.display import display_javascript, display_html, display\n",
    "import json\n",
    "\n",
    "class RenderJSON(object):\n",
    "    def __init__(self, json_data):\n",
    "        if isinstance(json_data, dict):\n",
    "            self.json_str = json.dumps(json_data)\n",
    "        else:\n",
    "            self.json_str = json_data\n",
    "        self.uuid = str(uuid.uuid4())\n",
    "\n",
    "    def _ipython_display_(self):\n",
    "        display_html('<div id=\"{}\" style=\"height: 100%; width:100%;\"></div>'.format(self.uuid), raw=True)\n",
    "        display_javascript(\"\"\"\n",
    "        require([\"https://rawgit.com/caldwell/renderjson/master/renderjson.js\"], function() {\n",
    "        document.getElementById('%s').appendChild(renderjson(%s))\n",
    "        });\n",
    "        \"\"\" % (self.uuid, self.json_str), raw=True)"
   ]
  },
  {
   "cell_type": "code",
   "execution_count": 5,
   "metadata": {
    "slideshow": {
     "slide_type": "skip"
    }
   },
   "outputs": [
    {
     "data": {
      "application/javascript": [
       "/*Increase timeout to load properly*/\n",
       "var rto = 120;\n",
       "console.log('[Custom]: Increase require() timeout to', rto, 'seconds.');\n",
       "window.requirejs.config({waitSeconds: rto});\n"
      ],
      "text/plain": [
       "<IPython.core.display.Javascript object>"
      ]
     },
     "metadata": {},
     "output_type": "display_data"
    }
   ],
   "source": [
    "%%javascript\n",
    "/*Increase timeout to load properly*/\n",
    "var rto = 120;\n",
    "console.log('[Custom]: Increase require() timeout to', rto, 'seconds.');\n",
    "window.requirejs.config({waitSeconds: rto});"
   ]
  },
  {
   "cell_type": "code",
   "execution_count": 6,
   "metadata": {
    "slideshow": {
     "slide_type": "skip"
    }
   },
   "outputs": [
    {
     "data": {
      "text/html": [
       "\n",
       "<style>\n",
       "    /* font for TODO */\n",
       "    @import url('https://fonts.googleapis.com/css?family=Oswald&display=swap');\n",
       "    \n",
       "    .hl {\n",
       "        padding: 0.25rem 0.3rem;\n",
       "        border-radius: 5px;\n",
       "    }\n",
       "    /* used: https://www.color-hex.com/color-palette/87453 */\n",
       "    .hl.hl-yellow  { background-color: rgba(204,246,43,0.5); /*#fdef41;*/ }\n",
       "    .hl.hl-orange  { background-color: rgba(255,150,42,0.5); }\n",
       "    .hl.hl-magenta { background-color: rgba(244,73,211,0.5); }\n",
       "    .hl.hl-blue    { background-color: rgba(80,127,255,0.5); }\n",
       "    .hl.hl-violet  { background-color: rgba(149,47,255,0.5); }\n",
       "    \n",
       "    .todo {\n",
       "        font-family: 'Oswald', sans-serif;\n",
       "        font-size: 2rem;\n",
       "    }\n",
       "    \n",
       "    input.checkmark {\n",
       "        height: 1.5rem;\n",
       "        margin-right: 0.5rem;\n",
       "    }\n",
       "                    \n",
       "    kbd.cr {\n",
       "        padding: 2px 3px;\n",
       "        background-color: red;\n",
       "        color: #FFF;\n",
       "        border-radius: 5px;\n",
       "    }\n",
       "\n",
       "    kbd.xmltag {\n",
       "        background-color: #ff8c8c;\n",
       "        color: #FFF;\n",
       "    }\n",
       "    kbd.xmltag.xmltag--subnode {\n",
       "        background-color: #9f8cff;\n",
       "        color: #FFF;\n",
       "    }\n",
       "    kbd.xmltag.xmltag--subsubnode {\n",
       "        background-color: #de8cff;\n",
       "        color: #FFF;\n",
       "    }\n",
       "</style>\n",
       "\n",
       "<!-- ========================================== -->\n",
       "<h3 style=\"margin-top:1rem; margin-bottom:2rem\"> Examples: </h3>\n",
       "    \n",
       "<div>Highlighted text in:\n",
       "    <span class=\"hl hl-yellow\">yellow</span>,\n",
       "    <span class=\"hl hl-orange\">orange</span>,\n",
       "    <span class=\"hl hl-magenta\">magenta</span>,\n",
       "    <span class=\"hl hl-blue\">blue</span>,\n",
       "    <span class=\"hl hl-violet\">violet</span>,\n",
       "</div>\n",
       "\n",
       "<br/>\n",
       "\n",
       "<div class=\"todo\">TODO</div>  \n",
       "<input class=\"checkmark\" type=\"checkbox\" checked=\"checked\" disabled>Finished TODO text.  \n",
       "<input class=\"checkmark\" type=\"checkbox\" disabled>TODO text.\n",
       "\n",
       "<br/><br/>\n",
       "\n",
       "Tags: <kbd class=\"cr\">CR</kbd> (CR for Camera-Ready, graphs/sections that are important)\n"
      ],
      "text/plain": [
       "<IPython.core.display.HTML object>"
      ]
     },
     "metadata": {},
     "output_type": "display_data"
    }
   ],
   "source": [
    "%%html\n",
    "\n",
    "<style>\n",
    "    /* font for TODO */\n",
    "    @import url('https://fonts.googleapis.com/css?family=Oswald&display=swap');\n",
    "    \n",
    "    .hl {\n",
    "        padding: 0.25rem 0.3rem;\n",
    "        border-radius: 5px;\n",
    "    }\n",
    "    /* used: https://www.color-hex.com/color-palette/87453 */\n",
    "    .hl.hl-yellow  { background-color: rgba(204,246,43,0.5); /*#fdef41;*/ }\n",
    "    .hl.hl-orange  { background-color: rgba(255,150,42,0.5); }\n",
    "    .hl.hl-magenta { background-color: rgba(244,73,211,0.5); }\n",
    "    .hl.hl-blue    { background-color: rgba(80,127,255,0.5); }\n",
    "    .hl.hl-violet  { background-color: rgba(149,47,255,0.5); }\n",
    "    \n",
    "    .todo {\n",
    "        font-family: 'Oswald', sans-serif;\n",
    "        font-size: 2rem;\n",
    "    }\n",
    "    \n",
    "    input.checkmark {\n",
    "        height: 1.5rem;\n",
    "        margin-right: 0.5rem;\n",
    "    }\n",
    "                    \n",
    "    kbd.cr {\n",
    "        padding: 2px 3px;\n",
    "        background-color: red;\n",
    "        color: #FFF;\n",
    "        border-radius: 5px;\n",
    "    }\n",
    "\n",
    "    kbd.xmltag {\n",
    "        background-color: #ff8c8c;\n",
    "        color: #FFF;\n",
    "    }\n",
    "    kbd.xmltag.xmltag--subnode {\n",
    "        background-color: #9f8cff;\n",
    "        color: #FFF;\n",
    "    }\n",
    "    kbd.xmltag.xmltag--subsubnode {\n",
    "        background-color: #de8cff;\n",
    "        color: #FFF;\n",
    "    }\n",
    "</style>\n",
    "\n",
    "<!-- ========================================== -->\n",
    "<h3 style=\"margin-top:1rem; margin-bottom:2rem\"> Examples: </h3>\n",
    "    \n",
    "<div>Highlighted text in:\n",
    "    <span class=\"hl hl-yellow\">yellow</span>,\n",
    "    <span class=\"hl hl-orange\">orange</span>,\n",
    "    <span class=\"hl hl-magenta\">magenta</span>,\n",
    "    <span class=\"hl hl-blue\">blue</span>,\n",
    "    <span class=\"hl hl-violet\">violet</span>,\n",
    "</div>\n",
    "\n",
    "<br/>\n",
    "\n",
    "<div class=\"todo\">TODO</div>  \n",
    "<input class=\"checkmark\" type=\"checkbox\" checked=\"checked\" disabled>Finished TODO text.  \n",
    "<input class=\"checkmark\" type=\"checkbox\" disabled>TODO text.\n",
    "\n",
    "<br/><br/>\n",
    "\n",
    "Tags: <kbd class=\"cr\">CR</kbd> (CR for Camera-Ready, graphs/sections that are important)"
   ]
  },
  {
   "cell_type": "markdown",
   "metadata": {
    "slideshow": {
     "slide_type": "skip"
    }
   },
   "source": [
    "## Import data\n",
    "Make sure to check if the data is present in the targeted scope, and that the size is readable with current RAM.  \n",
    "Feel free to have subheadings for multiple datasets, data descriptions etc."
   ]
  },
  {
   "cell_type": "code",
   "execution_count": 7,
   "metadata": {
    "slideshow": {
     "slide_type": "skip"
    }
   },
   "outputs": [
    {
     "name": "stdout",
     "output_type": "stream",
     "text": [
      "total 24\n",
      "-rwxrwxrwx 1 1000 1000  854 Mar 13  2018 README.md\n",
      "drwxrwxrwx 2 1000 1000 4096 Jul 14  2018 __pycache__\n",
      "-rwxrwxrwx 1 1000 1000 1416 Nov 23  2017 pytest_sample.py\n",
      "-rwxrwxrwx 1 1000 1000  283 Dec 26  2017 spec_project_config.md\n",
      "-rwxrwxrwx 1 1000 1000 1372 Mar 13  2018 test_git.py\n",
      "-rwxrwxrwx 1 1000 1000 2615 Mar 13  2018 test_github_community.py\n"
     ]
    }
   ],
   "source": [
    "%%bash\n",
    "ls -l tests/"
   ]
  },
  {
   "cell_type": "code",
   "execution_count": 8,
   "metadata": {
    "slideshow": {
     "slide_type": "skip"
    }
   },
   "outputs": [
    {
     "name": "stdout",
     "output_type": "stream",
     "text": [
      "CPU times: user 2 µs, sys: 0 ns, total: 2 µs\n",
      "Wall time: 5.72 µs\n"
     ]
    }
   ],
   "source": [
    "%%time\n",
    "# df = pd.read_csv()\n",
    "# df.info()"
   ]
  },
  {
   "cell_type": "code",
   "execution_count": 9,
   "metadata": {
    "slideshow": {
     "slide_type": "skip"
    }
   },
   "outputs": [],
   "source": [
    "# df.head()"
   ]
  },
  {
   "cell_type": "code",
   "execution_count": null,
   "metadata": {
    "slideshow": {
     "slide_type": "skip"
    }
   },
   "outputs": [],
   "source": []
  },
  {
   "cell_type": "code",
   "execution_count": null,
   "metadata": {
    "slideshow": {
     "slide_type": "skip"
    }
   },
   "outputs": [],
   "source": []
  },
  {
   "cell_type": "code",
   "execution_count": null,
   "metadata": {
    "slideshow": {
     "slide_type": "skip"
    }
   },
   "outputs": [],
   "source": []
  },
  {
   "cell_type": "markdown",
   "metadata": {
    "slideshow": {
     "slide_type": "skip"
    }
   },
   "source": [
    "---"
   ]
  },
  {
   "cell_type": "markdown",
   "metadata": {
    "slideshow": {
     "slide_type": "skip"
    }
   },
   "source": [
    "# Main\n",
    "Pick a more flat structure (h1 headings with #) or nested structure appropriately - not too nested, not too cluttered."
   ]
  },
  {
   "cell_type": "markdown",
   "metadata": {
    "slideshow": {
     "slide_type": "skip"
    }
   },
   "source": [
    "## Use the bash, Luke"
   ]
  },
  {
   "cell_type": "code",
   "execution_count": 10,
   "metadata": {
    "slideshow": {
     "slide_type": "skip"
    }
   },
   "outputs": [
    {
     "name": "stdout",
     "output_type": "stream",
     "text": [
      "total 24\n",
      "-rwxrwxrwx 1 1000 1000  854 Mar 13  2018 README.md\n",
      "drwxrwxrwx 2 1000 1000 4096 Jul 14  2018 __pycache__\n",
      "-rwxrwxrwx 1 1000 1000 1416 Nov 23  2017 pytest_sample.py\n",
      "-rwxrwxrwx 1 1000 1000  283 Dec 26  2017 spec_project_config.md\n",
      "-rwxrwxrwx 1 1000 1000 1372 Mar 13  2018 test_git.py\n",
      "-rwxrwxrwx 1 1000 1000 2615 Mar 13  2018 test_github_community.py\n"
     ]
    }
   ],
   "source": [
    "%%bash\n",
    "ls -l tests/"
   ]
  },
  {
   "cell_type": "code",
   "execution_count": 11,
   "metadata": {
    "slideshow": {
     "slide_type": "skip"
    }
   },
   "outputs": [
    {
     "name": "stdout",
     "output_type": "stream",
     "text": [
      "0 files, total of \n",
      "\t\n",
      "\t"
     ]
    },
    {
     "name": "stderr",
     "output_type": "stream",
     "text": [
      "ls: cannot access 'data/raw': No such file or directory\n",
      "du: cannot access 'data/raw': No such file or directory\n",
      "ls: cannot access 'data/raw/': No such file or directory\n",
      "ls: cannot access 'data/raw/': No such file or directory\n"
     ]
    }
   ],
   "source": [
    "%%bash\n",
    "ls data/raw | wc -l | xargs printf '%s files'\n",
    "du -h data/raw | cut -f1 | xargs printf ', total of %s'\n",
    "\n",
    "ls data/raw/ | head -n 4 | xargs printf '\\n\\t%s'\n",
    "ls data/raw/ | tail -n 4 | xargs printf '\\n\\t%s'"
   ]
  },
  {
   "cell_type": "markdown",
   "metadata": {
    "slideshow": {
     "slide_type": "skip"
    }
   },
   "source": [
    "## Make use of IPython stuff"
   ]
  },
  {
   "cell_type": "markdown",
   "metadata": {
    "slideshow": {
     "slide_type": "skip"
    }
   },
   "source": [
    "F-strings ([>= Python 3.6](https://www.python.org/dev/peps/pep-0498/)) can be combined with IPython's <kbd>display</kbd> module for fun and profit."
   ]
  },
  {
   "cell_type": "code",
   "execution_count": 12,
   "metadata": {
    "slideshow": {
     "slide_type": "skip"
    }
   },
   "outputs": [
    {
     "data": {
      "text/html": [
       "Started notebook <span class=\"hl hl-yellow\">3s</span> ago."
      ],
      "text/plain": [
       "<IPython.core.display.HTML object>"
      ]
     },
     "metadata": {},
     "output_type": "display_data"
    }
   ],
   "source": [
    "tm = (dt.now() - nb_start).total_seconds()\n",
    "\n",
    "display(HTML(f'Started notebook <span class=\"hl hl-yellow\">{tm:.0f}s</span> ago.'))\n",
    "# If you use type specifiers, don't put space after the specifier\n",
    "# display(HTML(f'{ tm:.0f}'))  # works\n",
    "# display(HTML(f'{ tm:.0f }')) # breaks"
   ]
  },
  {
   "cell_type": "markdown",
   "metadata": {
    "slideshow": {
     "slide_type": "skip"
    }
   },
   "source": [
    "For more nested json's or dictionaries, it's best to use something interactive like RenderJSON."
   ]
  },
  {
   "cell_type": "code",
   "execution_count": 13,
   "metadata": {
    "slideshow": {
     "slide_type": "skip"
    }
   },
   "outputs": [
    {
     "data": {
      "text/html": [
       "<div id=\"6ffa0eee-f3fa-476d-bd84-a37798505d3c\" style=\"height: 100%; width:100%;\"></div>"
      ]
     },
     "metadata": {},
     "output_type": "display_data"
    },
    {
     "data": {
      "application/javascript": [
       "\n",
       "        require([\"https://rawgit.com/caldwell/renderjson/master/renderjson.js\"], function() {\n",
       "        document.getElementById('6ffa0eee-f3fa-476d-bd84-a37798505d3c').appendChild(renderjson({\"a\": {\"c\": 0}, \"b\": 1}))\n",
       "        });\n",
       "        "
      ]
     },
     "metadata": {},
     "output_type": "display_data"
    }
   ],
   "source": [
    "RenderJSON({\n",
    "    'a': {\n",
    "        'c': 0\n",
    "    },\n",
    "    'b': 1\n",
    "})"
   ]
  },
  {
   "cell_type": "markdown",
   "metadata": {
    "slideshow": {
     "slide_type": "skip"
    }
   },
   "source": [
    "Use [slides](https://github.com/damianavila/RISE), and decouple declaration from run (if you're not using [\"Hide codecell inputs\"](https://github.com/ipython-contrib/jupyter_contrib_nbextensions/tree/master/src/jupyter_contrib_nbextensions/nbextensions/hide_input_all))."
   ]
  },
  {
   "cell_type": "code",
   "execution_count": 14,
   "metadata": {
    "slideshow": {
     "slide_type": "skip"
    }
   },
   "outputs": [],
   "source": [
    "slide_1 = HTML(\"\"\"\n",
    "<h3>Lex Fridman<br/><br/>\n",
    "Deep Learning Basics: Introduction and Overview<br/>&nbsp;</h3>\n",
    "<iframe width=\"560\" height=\"315\" src=\"https://www.youtube.com/embed/O5xeyoRL95U\" frameborder=\"0\" allow=\"accelerometer; autoplay; encrypted-media; gyroscope; picture-in-picture\" allowfullscreen></iframe>\n",
    "\"\"\")"
   ]
  },
  {
   "cell_type": "code",
   "execution_count": 15,
   "metadata": {
    "slideshow": {
     "slide_type": "skip"
    }
   },
   "outputs": [
    {
     "data": {
      "text/html": [
       "\n",
       "<h3>Lex Fridman<br/><br/>\n",
       "Deep Learning Basics: Introduction and Overview<br/>&nbsp;</h3>\n",
       "<iframe width=\"560\" height=\"315\" src=\"https://www.youtube.com/embed/O5xeyoRL95U\" frameborder=\"0\" allow=\"accelerometer; autoplay; encrypted-media; gyroscope; picture-in-picture\" allowfullscreen></iframe>\n"
      ],
      "text/plain": [
       "<IPython.core.display.HTML object>"
      ]
     },
     "execution_count": 15,
     "metadata": {},
     "output_type": "execute_result"
    }
   ],
   "source": [
    "slide_1"
   ]
  },
  {
   "cell_type": "markdown",
   "metadata": {
    "slideshow": {
     "slide_type": "skip"
    }
   },
   "source": [
    "Use [tqdm](https://github.com/tqdm/tqdm) for every run that takes more than a couple of seconds and can be tracked by some iterator."
   ]
  },
  {
   "cell_type": "code",
   "execution_count": 16,
   "metadata": {
    "slideshow": {
     "slide_type": "skip"
    }
   },
   "outputs": [
    {
     "name": "stderr",
     "output_type": "stream",
     "text": [
      "/usr/local/lib/python3.6/dist-packages/ipykernel_launcher.py:3: TqdmDeprecationWarning:\n",
      "\n",
      "This function will be removed in tqdm==5.0.0\n",
      "Please use `tqdm.notebook.tqdm` instead of `tqdm.tqdm_notebook`\n",
      "\n"
     ]
    },
    {
     "data": {
      "application/vnd.jupyter.widget-view+json": {
       "model_id": "f4b59a28ce2f4484817ca0789505e3f5",
       "version_major": 2,
       "version_minor": 0
      },
      "text/plain": [
       "HBox(children=(FloatProgress(value=0.0, max=10.0), HTML(value='')))"
      ]
     },
     "metadata": {},
     "output_type": "display_data"
    },
    {
     "name": "stdout",
     "output_type": "stream",
     "text": [
      "\n"
     ]
    }
   ],
   "source": [
    "# For most simple stuff, use tqdm\n",
    "files = list(range(10))\n",
    "for file in tqdm_notebook(files):\n",
    "    sleep(0.1)"
   ]
  },
  {
   "cell_type": "code",
   "execution_count": 17,
   "metadata": {
    "slideshow": {
     "slide_type": "skip"
    }
   },
   "outputs": [
    {
     "name": "stderr",
     "output_type": "stream",
     "text": [
      "/usr/local/lib/python3.6/dist-packages/ipykernel_launcher.py:3: TqdmDeprecationWarning:\n",
      "\n",
      "This function will be removed in tqdm==5.0.0\n",
      "Please use `tqdm.notebook.tqdm` instead of `tqdm.tqdm_notebook`\n",
      "\n"
     ]
    },
    {
     "data": {
      "application/vnd.jupyter.widget-view+json": {
       "model_id": "c193bd302cc344d4a15360788c7eb934",
       "version_major": 2,
       "version_minor": 0
      },
      "text/plain": [
       "HBox(children=(FloatProgress(value=0.0, max=10.0), HTML(value='')))"
      ]
     },
     "metadata": {},
     "output_type": "display_data"
    },
    {
     "name": "stdout",
     "output_type": "stream",
     "text": [
      "\n"
     ]
    }
   ],
   "source": [
    "# When you need more control over the progress bar, \n",
    "# use decoupled tqdm\n",
    "with tqdm_notebook(total=len(files)) as pbar:\n",
    "    for file in files:\n",
    "        sleep(0.1)\n",
    "        pbar.update(1)"
   ]
  },
  {
   "cell_type": "code",
   "execution_count": null,
   "metadata": {
    "slideshow": {
     "slide_type": "skip"
    }
   },
   "outputs": [],
   "source": []
  },
  {
   "cell_type": "code",
   "execution_count": null,
   "metadata": {
    "slideshow": {
     "slide_type": "skip"
    }
   },
   "outputs": [],
   "source": []
  },
  {
   "cell_type": "code",
   "execution_count": null,
   "metadata": {
    "slideshow": {
     "slide_type": "skip"
    }
   },
   "outputs": [],
   "source": []
  },
  {
   "cell_type": "code",
   "execution_count": 18,
   "metadata": {
    "slideshow": {
     "slide_type": "skip"
    }
   },
   "outputs": [
    {
     "name": "stdout",
     "output_type": "stream",
     "text": [
      "Time elapsed: 0:00:05.598512\n"
     ]
    }
   ],
   "source": [
    "nb_end = dt.now()\n",
    "print('Time elapsed: %s' % (nb_end - nb_start))"
   ]
  },
  {
   "cell_type": "code",
   "execution_count": 19,
   "metadata": {
    "slideshow": {
     "slide_type": "skip"
    }
   },
   "outputs": [
    {
     "data": {
      "text/plain": [
       "'Time elapsed: 0.09 minutes'"
      ]
     },
     "execution_count": 19,
     "metadata": {},
     "output_type": "execute_result"
    }
   ],
   "source": [
    "'Time elapsed: %.2f minutes' % (\n",
    "    (nb_end - nb_start).total_seconds() / 60\n",
    ")"
   ]
  },
  {
   "cell_type": "markdown",
   "metadata": {
    "slideshow": {
     "slide_type": "skip"
    }
   },
   "source": []
  },
  {
   "cell_type": "markdown",
   "metadata": {
    "slideshow": {
     "slide_type": "skip"
    }
   },
   "source": [
    "---"
   ]
  },
  {
   "cell_type": "markdown",
   "metadata": {
    "slideshow": {
     "slide_type": "skip"
    }
   },
   "source": [
    "# Bibliography\n",
    "Keep this section for code tricks, further reading, next steps.  \n",
    "Make sure you have 1 of each empty cell (markdown and code) - useful to copy-paste (<kbd>C</kbd>, <kbd>V</kbd>) empty cells with the \"Skip\" slide type (<kbd>View</kbd> -> <kbd>Cell Toolbar</kbd> -> <kbd>Slideshow</kbd>)"
   ]
  },
  {
   "cell_type": "markdown",
   "metadata": {
    "slideshow": {
     "slide_type": "skip"
    }
   },
   "source": [
    "Useful tricks:\n",
    "+ https://stackoverflow.com/questions/18873066/pretty-json-formatting-in-ipython-notebook/37124230#37124230\n",
    "\n",
    "\n",
    "Useful reading:\n",
    "+ https://www.semanticscholar.org/paper/Reproducible-Research-Environments-with-Repo2Docker-Forde-Head/7c015f96c0545e2b68866769c082a46362381774"
   ]
  },
  {
   "cell_type": "markdown",
   "metadata": {
    "slideshow": {
     "slide_type": "skip"
    }
   },
   "source": []
  },
  {
   "cell_type": "code",
   "execution_count": null,
   "metadata": {
    "slideshow": {
     "slide_type": "skip"
    }
   },
   "outputs": [],
   "source": []
  },
  {
   "cell_type": "markdown",
   "metadata": {
    "slideshow": {
     "slide_type": "skip"
    }
   },
   "source": [
    "---"
   ]
  }
 ],
 "metadata": {
  "hide_input": false,
  "kernelspec": {
   "display_name": "Python 3",
   "language": "python",
   "name": "python3"
  },
  "language_info": {
   "codemirror_mode": {
    "name": "ipython",
    "version": 3
   },
   "file_extension": ".py",
   "mimetype": "text/x-python",
   "name": "python",
   "nbconvert_exporter": "python",
   "pygments_lexer": "ipython3",
   "version": "3.6.9"
  },
  "toc": {
   "base_numbering": 1,
   "nav_menu": {},
   "number_sections": true,
   "sideBar": true,
   "skip_h1_title": false,
   "title_cell": "Table of Contents",
   "title_sidebar": "Contents",
   "toc_cell": false,
   "toc_position": {},
   "toc_section_display": true,
   "toc_window_display": true
  },
  "varInspector": {
   "cols": {
    "lenName": 16,
    "lenType": 16,
    "lenVar": 40
   },
   "kernels_config": {
    "python": {
     "delete_cmd_postfix": "",
     "delete_cmd_prefix": "del ",
     "library": "var_list.py",
     "varRefreshCmd": "print(var_dic_list())"
    },
    "r": {
     "delete_cmd_postfix": ") ",
     "delete_cmd_prefix": "rm(",
     "library": "var_list.r",
     "varRefreshCmd": "cat(var_dic_list()) "
    }
   },
   "types_to_exclude": [
    "module",
    "function",
    "builtin_function_or_method",
    "instance",
    "_Feature"
   ],
   "window_display": false
  }
 },
 "nbformat": 4,
 "nbformat_minor": 2
}
