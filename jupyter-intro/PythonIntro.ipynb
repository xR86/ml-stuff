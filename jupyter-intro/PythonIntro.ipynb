{
 "cells": [
  {
   "cell_type": "markdown",
   "metadata": {},
   "source": [
    "# Learning\n",
    "\n",
    "A **Python** and **Jupyter** primer.\n",
    "\n",
    "**Shortcuts**:\n",
    "- Shift+Enter - run cell, select new cell (if no cell after, inserts)\n",
    "- more [here](https://sowingseasons.com/blog/reference/2016/01/jupyter-keyboard-shortcuts/23298516)\n",
    "- also quick shortcuts [here](https://nbviewer.jupyter.org/github/jupyter/notebook/blob/master/docs/source/examples/Notebook/Notebook%20Basics.ipynb#Keyboard-Navigation):\n",
    "  - S - saving the notebook"
   ]
  },
  {
   "cell_type": "markdown",
   "metadata": {},
   "source": [
    "#### Example 1 : Hello World"
   ]
  },
  {
   "cell_type": "code",
   "execution_count": 2,
   "metadata": {
    "collapsed": false
   },
   "outputs": [
    {
     "name": "stdout",
     "output_type": "stream",
     "text": [
      "Type your name here: Dan\n",
      "Hello, Python ! Signed, Dan \n",
      "\n"
     ]
    }
   ],
   "source": [
    "language = \"Python\"\n",
    "name = input(\"Type your name here: \")\n",
    "if name:\n",
    "    helloStatement = \"Hello, \" + language + \" !\" + \" Signed, \" + name\n",
    "    print(helloStatement, \"\\n\")\n",
    "else:\n",
    "    print(\"No name was typed\")"
   ]
  },
  {
   "cell_type": "markdown",
   "metadata": {},
   "source": [
    "**Obs**: Since it's a Python 3 notebook, `input()` is `raw_input()` from Python 2.x (so it takes the raw data, it doesn't evaluate the content; so, you don't need to use double quotation on entering a value for the input). [source](https://stackoverflow.com/questions/954834/how-do-i-use-raw-input-in-python-3)"
   ]
  },
  {
   "cell_type": "markdown",
   "metadata": {},
   "source": [
    "- - -"
   ]
  },
  {
   "cell_type": "markdown",
   "metadata": {
    "collapsed": true
   },
   "source": [
    "# Python\n",
    "\n",
    "### Data types\n",
    "\n",
    "\n",
    "Reference:\n",
    " - [Python official reference](https://docs.python.org/2/library/datatypes.html)\n",
    "\n",
    "#### Example 2: Data types examples"
   ]
  },
  {
   "cell_type": "code",
   "execution_count": 13,
   "metadata": {
    "collapsed": false
   },
   "outputs": [
    {
     "name": "stdout",
     "output_type": "stream",
     "text": [
      "<class 'bool'>\n",
      "<class 'int'>\n",
      "<class 'float'>\n",
      "<class 'str'>\n",
      "<class 'list'>\n",
      "<class 'list'> , 9\n",
      "<class 'set'> , 6\n",
      "<class 'dict'>\n"
     ]
    }
   ],
   "source": [
    "#Data types\n",
    "truth = False\n",
    "number = 3\n",
    "floatnum = 3.14\n",
    "message = \"sth\"\n",
    "array = [2, 3, 4]\n",
    "\n",
    "print(type(truth))\n",
    "print(type(number))\n",
    "print(type(floatnum))\n",
    "print(type(message))\n",
    "print(type(array))\n",
    "\n",
    "\n",
    "\n",
    "my_long_sentence = \"This is a very very very very long sentence\"\n",
    "parts = my_long_sentence.split(' ')\n",
    "\n",
    "#print(parts)\n",
    "print(type(parts), ',', len(parts))\n",
    "\n",
    "set_parts = set(parts) #unique contraint\n",
    "#print(set_parts)\n",
    "print(type(set_parts), ',', len(set_parts))\n",
    "\n",
    "dictionary = {\n",
    "    \"word\": \"definition\"\n",
    "}\n",
    "print(type(dictionary)) #also called maps\n"
   ]
  },
  {
   "cell_type": "markdown",
   "metadata": {
    "collapsed": true
   },
   "source": [
    "#### Example 3 : Operators"
   ]
  },
  {
   "cell_type": "code",
   "execution_count": 26,
   "metadata": {
    "collapsed": false
   },
   "outputs": [
    {
     "name": "stdout",
     "output_type": "stream",
     "text": [
      "Consider a radius of 6\n",
      "  Circumference of circle 37.68\n",
      "  Area of circle 12.56\n"
     ]
    }
   ],
   "source": [
    "pi = 3.14\n",
    "\n",
    "radiusCircle = 2 + 2*2\n",
    "diameterCircle = 2 * radiusCircle\n",
    "message = \"Consider a radius of \" + str(radiusCircle) #str() - equivalent to JS toString()\n",
    "\n",
    "areaOfCircle = pi * (radiusCircle ^ 2)  #needs paranthesis\n",
    "circumferenceCircle = pi * diameterCircle\n",
    "\n",
    "print(message)\n",
    "print('  Circumference of circle', circumferenceCircle)\n",
    "print('  Area of circle', areaOfCircle)"
   ]
  },
  {
   "cell_type": "code",
   "execution_count": null,
   "metadata": {
    "collapsed": true
   },
   "outputs": [],
   "source": []
  }
 ],
 "metadata": {
  "kernelspec": {
   "display_name": "Python 3",
   "language": "python",
   "name": "python3"
  },
  "language_info": {
   "codemirror_mode": {
    "name": "ipython",
    "version": 3
   },
   "file_extension": ".py",
   "mimetype": "text/x-python",
   "name": "python",
   "nbconvert_exporter": "python",
   "pygments_lexer": "ipython3",
   "version": "3.5.2"
  }
 },
 "nbformat": 4,
 "nbformat_minor": 0
}
