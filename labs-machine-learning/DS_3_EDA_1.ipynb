{
 "cells": [
  {
   "cell_type": "markdown",
   "metadata": {
    "slideshow": {
     "slide_type": "slide"
    }
   },
   "source": [
    "# Data Science Training `#03`\n",
    "## Exploratory Data Analysis (EDA)\n",
    "### Part 1 - Overview"
   ]
  },
  {
   "cell_type": "markdown",
   "metadata": {
    "slideshow": {
     "slide_type": "slide"
    }
   },
   "source": [
    "# The pure python approach \n",
    "\n",
    "### [dataquest-us-births-1994-2003/Basics.ipynb](https://github.com/xR86/ml-stuff/blob/master/kaggle/dataquest-us-births-1994-2003/Basics.ipynb)\n"
   ]
  },
  {
   "cell_type": "markdown",
   "metadata": {
    "slideshow": {
     "slide_type": "slide"
    }
   },
   "source": [
    "# The pandas approach \n",
    "\n",
    "### [dataquest.io/m/219/guided-project-analyzing-thanksgiving-dinner/9/next-steps](https://www.dataquest.io/m/219/guided-project-analyzing-thanksgiving-dinner/9/next-steps)\n",
    "\n",
    "\n",
    "### [iris/Simple analysis of Iris dataset.ipynb](https://github.com/xR86/ml-stuff/blob/master/kaggle/iris/Simple%20analysis%20of%20Iris%20dataset.ipynb)\n",
    "\n",
    "### [dataquest.io/m/146/guided-project-visualizing-earnings-based-on-college-majors/6/next-steps](https://www.dataquest.io/m/146/guided-project-visualizing-earnings-based-on-college-majors/6/next-steps)\n"
   ]
  },
  {
   "cell_type": "markdown",
   "metadata": {
    "slideshow": {
     "slide_type": "slide"
    }
   },
   "source": [
    "# Working with NLP\n",
    "\n",
    "### [enron-email/Initial.ipynb](https://github.com/xR86/ml-stuff/blob/master/kaggle/enron-email/Initial.ipynb)"
   ]
  },
  {
   "cell_type": "markdown",
   "metadata": {
    "slideshow": {
     "slide_type": "slide"
    }
   },
   "source": [
    "# Working with geo data\n",
    "\n",
    "### [nyc-taxi-trip-duration/PrimerStatistics.ipynb](https://github.com/xR86/ml-stuff/blob/master/kaggle/nyc-taxi-trip-duration/PrimerStatistics.ipynb)"
   ]
  },
  {
   "cell_type": "markdown",
   "metadata": {
    "slideshow": {
     "slide_type": "slide"
    }
   },
   "source": [
    "# Methodology\n"
   ]
  },
  {
   "cell_type": "markdown",
   "metadata": {
    "slideshow": {
     "slide_type": "slide"
    }
   },
   "source": [
    "Part 2: more on EDA"
   ]
  },
  {
   "cell_type": "markdown",
   "metadata": {
    "slideshow": {
     "slide_type": "slide"
    }
   },
   "source": [
    "---"
   ]
  }
 ],
 "metadata": {
  "celltoolbar": "Slideshow",
  "kernelspec": {
   "display_name": "Python 3",
   "language": "python",
   "name": "python3"
  },
  "language_info": {
   "codemirror_mode": {
    "name": "ipython",
    "version": 3
   },
   "file_extension": ".py",
   "mimetype": "text/x-python",
   "name": "python",
   "nbconvert_exporter": "python",
   "pygments_lexer": "ipython3",
   "version": "3.5.2"
  }
 },
 "nbformat": 4,
 "nbformat_minor": 1
}
