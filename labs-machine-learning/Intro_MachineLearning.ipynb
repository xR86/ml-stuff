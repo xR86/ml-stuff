{
 "cells": [
  {
   "cell_type": "markdown",
   "metadata": {
    "slideshow": {
     "slide_type": "slide"
    }
   },
   "source": [
    "# Data Science Training `#01` (draft)"
   ]
  },
  {
   "cell_type": "markdown",
   "metadata": {
    "slideshow": {
     "slide_type": "slide"
    }
   },
   "source": [
    "# Roadmap\n",
    "\n",
    "## 01. What is data science ?\n",
    "## 10. How data science fits into the big picture\n",
    "## 11. Practical data science workflows (next)"
   ]
  },
  {
   "cell_type": "markdown",
   "metadata": {
    "slideshow": {
     "slide_type": "slide"
    }
   },
   "source": [
    "## 01. What is data science ? \n",
    "[![](assets/ds_orientation2.jpg)](https://hbr.org/2012/10/data-scientist-the-sexiest-job-of-the-21st-century)"
   ]
  },
  {
   "cell_type": "markdown",
   "metadata": {
    "slideshow": {
     "slide_type": "slide"
    }
   },
   "source": [
    "## 01.1. Definitions / Venn war"
   ]
  },
  {
   "cell_type": "markdown",
   "metadata": {
    "slideshow": {
     "slide_type": "subslide"
    }
   },
   "source": [
    "The term of **data science** itself **is still contested**, but a concise definition can be brought here:\n",
    "\n",
    "> To do data science, you have to be able to **find and process large datasets**. You’ll often need to understand and use **programming**, **math**, and **technical communication** skills. ***You’ll need to be a unicorn that can put together a lot of different skillsets***.\n",
    "> + Roger Huang, **Springboard** blog - [source](https://www.springboard.com/blog/data-science-definition/)\n",
    "\n"
   ]
  },
  {
   "cell_type": "markdown",
   "metadata": {
    "slideshow": {
     "slide_type": "subslide"
    }
   },
   "source": [
    "A longer definition might be the one offered by the now famous HBR article, **Data Scientist: The Sexiest Job of the 21st Century** (Oct 2012):\n",
    "\n",
    "> [...] what data scientists do is **make discoveries while swimming in data** [...] They identify rich data sources, **join them with other**, potentially incomplete data sources, and **clean the resulting set**. [...]\n",
    "\n",
    "> [...] Often they are **creative in displaying information visually** and making the **patterns** they find clear and compelling. **They advise** executives and product managers on the **implications of the data for products, processes, and decisions**.\n"
   ]
  },
  {
   "cell_type": "markdown",
   "metadata": {
    "slideshow": {
     "slide_type": "subslide"
    }
   },
   "source": [
    "\n",
    "> Given the nascent state of their trade, it often falls to data scientists to **fashion their own tools and even conduct academic-style research**. Yahoo, one of the firms that **employed a group of data scientists** early on, was **instrumental in developing Hadoop.** [...]\n",
    "\n",
    "> **What kind of person does all this?** What abilities make a data scientist successful? Think of him or her as a **hybrid of data hacker, analyst, communicator, and trusted adviser**. The combination is extremely powerful—and rare.\n",
    "\n",
    "Source: [hbr.org/2012/10/data-scientist-the-sexiest-job-of-the-21st-century](https://hbr.org/2012/10/data-scientist-the-sexiest-job-of-the-21st-century)\n"
   ]
  },
  {
   "cell_type": "markdown",
   "metadata": {
    "slideshow": {
     "slide_type": "subslide"
    }
   },
   "source": [
    "<center>\n",
    "**The most frequently pointed source point**:\n",
    "\n",
    "![](assets/map_data_science_2010.png)\n",
    "\n",
    "Source: [drewconway.com/zia/2013/3/26/the-data-science-venn-diagram](http://drewconway.com/zia/2013/3/26/the-data-science-venn-diagram)\n",
    "</center>"
   ]
  },
  {
   "cell_type": "markdown",
   "metadata": {
    "slideshow": {
     "slide_type": "subslide"
    }
   },
   "source": [
    "<center>\n",
    "**It gets crazier**:\n",
    "\n",
    "![](assets/map_ds_multi.png)\n",
    "\n",
    "</center>"
   ]
  },
  {
   "cell_type": "markdown",
   "metadata": {
    "slideshow": {
     "slide_type": "subslide"
    }
   },
   "source": [
    "<center>\n",
    "[![](assets/map_ds_nyu.png)](http://datascience.nyu.edu/what-is-data-science/)\n",
    "\n",
    "Source: [datascience.nyu.edu/what-is-data-science/](http://datascience.nyu.edu/what-is-data-science/)\n",
    "</center>"
   ]
  },
  {
   "cell_type": "markdown",
   "metadata": {
    "slideshow": {
     "slide_type": "subslide"
    }
   },
   "source": [
    "\n",
    "![](assets/DS_history.png)"
   ]
  },
  {
   "cell_type": "markdown",
   "metadata": {
    "slideshow": {
     "slide_type": "subslide"
    }
   },
   "source": [
    "<center>\n",
    "\n",
    "![](assets/map_venn.png)\n",
    "<!-- <img src=\"assets/map_venn.png\" width=\"800px\" height=\"auto\" /> -->\n",
    "\n",
    "Source: `Deep Learning` - **Ian Goodfellow** and **Yoshua Bengio** and Aaron Courville - [source](http://www.deeplearningbook.org/contents/intro.html) (pg. 9)\n",
    "\n",
    "</center>"
   ]
  },
  {
   "cell_type": "markdown",
   "metadata": {
    "slideshow": {
     "slide_type": "slide"
    }
   },
   "source": [
    "## 01.2. History of DS"
   ]
  },
  {
   "cell_type": "markdown",
   "metadata": {
    "slideshow": {
     "slide_type": "subslide"
    }
   },
   "source": [
    "<center>\n",
    "![](http://www.brandavnu.com/assets/img/clients/sigkdd_logo.png)\n",
    "\n",
    "**SIGKDD** is the ACM's **Special Interest Group** (SIG) on **Knowledge Discovery and Data Mining** (official ACM SIG since 1998, started in 1995).\n",
    "</center>"
   ]
  },
  {
   "cell_type": "markdown",
   "metadata": {
    "slideshow": {
     "slide_type": "subslide"
    }
   },
   "source": [
    "<center>\n",
    "**Data Science: an Action Plan for Expanding the Technical Areas of the Field of Statistics**  \n",
    "William S. Cleveland, Statistics Research, Bell Labs  \n",
    "First published: **April 2001**\n",
    "- [Wiley page](http://onlinelibrary.wiley.com/doi/10.1111/j.1751-5823.2001.tb00477.x/abstract), [fulltext](http://www.datascienceassn.org/sites/default/files/Data%20Science%20An%20Action%20Plan%20for%20Expanding%20the%20Technical%20Areas%20of%20the%20Field%20of%20Statistics.pdf)\n",
    "</center>\n",
    "\n",
    "> This document describes a **plan to enlarge the major areas of technical work of the field of statistics**. Because\n",
    "the plan is ambitious and **implies substantial change**, the **altered field will be called “data science.”** [...]\n",
    "\n",
    "> The six areas and their percentages are the following: \n",
    " + **(25%) Multidisciplinary Investigations**: data analysis collaborations in a collection of subject matter\n",
    "areas. \n",
    " + **(20%) Models and Methods for Data**: statistical models; methods of model building; methods of estimation\n",
    "and distribution based on probabilistic inference. \n",
    " + **(15%) Computing with Data**: hardware systems; software systems; computational algorithms. \n"
   ]
  },
  {
   "cell_type": "markdown",
   "metadata": {
    "slideshow": {
     "slide_type": "subslide"
    }
   },
   "source": [
    " + **(15%) Pedagogy**: curriculum planning and approaches to teaching for elementary school, secondary\n",
    "school, college, graduate school, continuing education, and corporate training. \n",
    " + **(5%) Tool Evaluation**: surveys of tools in use in practice, surveys of perceived needs for new tools, and\n",
    "studies of the processes for developing new tools.\n",
    " + **(20%) Theory**: foundations of data science; general approaches to models and methods, to computing\n",
    "with data, to teaching, and to tool evaluation; mathematical investigations of models and methods, of\n",
    "computing with data, of teaching, and of evaluation."
   ]
  },
  {
   "cell_type": "markdown",
   "metadata": {
    "slideshow": {
     "slide_type": "slide"
    }
   },
   "source": [
    "## 10. How data science fits into the big picture"
   ]
  },
  {
   "cell_type": "markdown",
   "metadata": {
    "slideshow": {
     "slide_type": "slide"
    }
   },
   "source": [
    "+ statistics: statistics \n",
    "\n",
    "+ learning and generalizing: ML / ANN\n",
    "\n",
    "+ bayesian generalization - one-shot learning, pymc ...\n",
    "\n",
    "+ optimization field: MCDA / MODA\n",
    "![](https://qph.ec.quoracdn.net/main-qimg-8f0453fe4c245d9c36724d92664f46ce)"
   ]
  },
  {
   "cell_type": "markdown",
   "metadata": {
    "slideshow": {
     "slide_type": "slide"
    }
   },
   "source": [
    "Machine learning types:\n",
    "![title](assets/machine-learning-types.png)\n"
   ]
  },
  {
   "cell_type": "markdown",
   "metadata": {
    "slideshow": {
     "slide_type": "slide"
    }
   },
   "source": [
    "<center><img src=\"assets/map_sklearn.png\" width=\"900\" height=\"600\" /></center>"
   ]
  },
  {
   "cell_type": "markdown",
   "metadata": {
    "slideshow": {
     "slide_type": "skip"
    }
   },
   "source": [
    "## 11. Practical data science workflows"
   ]
  },
  {
   "cell_type": "code",
   "execution_count": 1,
   "metadata": {
    "slideshow": {
     "slide_type": "skip"
    }
   },
   "outputs": [
    {
     "data": {
      "image/svg+xml": [
       "<svg height=\"80\" width=\"720\"><g>\n",
       "    <g><rect fill=\"#FFF\" height=\"70\" stroke=\"#000\" width=\"150\" x=\"0\" y=\"0\"/>\n",
       "       <text fill=\"#444\" font-family=\"Verdana\" font-size=\"20\" x=\"10\" y=\"30\">Analysis</text></g>\n",
       "    <g transform=\"translate(170,0)\">\n",
       "       <polyline fill=\"none\" points=\"         0.375,0.375 45.63,38.087 0.375,75.8 \" stroke=\"#AAA\" stroke-linecap=\"round\" stroke-linejoin=\"round\" stroke-width=\"1\"/>\n",
       "    </g>\n",
       "\n",
       "    <g transform=\"translate(230,0)\">\n",
       "      <rect fill=\"#FFF\" height=\"70\" stroke=\"#000\" width=\"400\" x=\"0\" y=\"0\"/>\n",
       "        <text fill=\"#444\" font-family=\"Verdana\" font-size=\"20\" x=\"10\" y=\"30\">Modelling</text></g>\n",
       "</g></svg>"
      ],
      "text/plain": [
       "<IPython.core.display.SVG object>"
      ]
     },
     "metadata": {},
     "output_type": "display_data"
    }
   ],
   "source": [
    "%%svg\n",
    "<svg width=\"720\" height=\"80\"><g>\n",
    "    <g><rect x=\"0\" y=\"0\" width=\"150\" height=\"70\" fill=\"#FFF\" stroke=\"#000\"></rect>\n",
    "       <text x=\"10\" y=\"30\" font-family=\"Verdana\" font-size=\"20\" fill=\"#444\">Analysis</text></g>\n",
    "    <g transform=\"translate(170,0)\">\n",
    "       <polyline fill=\"none\" stroke=\"#AAA\" stroke-width=\"1\" stroke-linecap=\"round\" stroke-linejoin=\"round\" points=\"\n",
    "        0.375,0.375 45.63,38.087 0.375,75.8 \"/>\n",
    "    </g>\n",
    "\n",
    "    <g transform=\"translate(230,0)\">\n",
    "      <rect x=\"0\" y=\"0\" width=\"400\" height=\"70\" fill=\"#FFF\" stroke=\"#000\"></rect>\n",
    "        <text x=\"10\" y=\"30\" font-family=\"Verdana\" font-size=\"20\" fill=\"#444\">Modelling</text></g>\n",
    "</g></svg>"
   ]
  },
  {
   "cell_type": "markdown",
   "metadata": {
    "slideshow": {
     "slide_type": "skip"
    }
   },
   "source": [
    "### Machine learning steps\n",
    "\n",
    "> Asking the right question => Preparing Data => Selecting the algorithm => Training the model\n",
    "  \n",
    "The process may require to return to a previous point, such as:\n",
    "- changing the question\n",
    "- sanitizing, extending the data\n",
    "- changing the algorithm\n",
    "- (supervised) extending the test data\n"
   ]
  },
  {
   "cell_type": "markdown",
   "metadata": {
    "slideshow": {
     "slide_type": "slide"
    }
   },
   "source": [
    "# Links\n",
    "+ **trainings** to be found here: https://github.com/xR86/ml-stuff/tree/master/labs-machine-learning\n"
   ]
  },
  {
   "cell_type": "markdown",
   "metadata": {
    "slideshow": {
     "slide_type": "slide"
    }
   },
   "source": [
    "\n",
    "+ **01. What is data science ?** sources:\n",
    "  + 01.1. Definitions / Venn war\n",
    "    - quora responses are resourceful - [What is data science? - Quora](https://www.quora.com/What-is-data-science) and [What is a data scientist? - Quora](https://www.quora.com/What-is-a-data-scientist-3)\n",
    "  + 01.2. History of DS\n",
    "    - [blogs.nvidia.com/blog/2016/07/29/whats-difference-artificial-intelligence-machine-learning-deep-learning-ai/](https://blogs.nvidia.com/blog/2016/07/29/whats-difference-artificial-intelligence-machine-learning-deep-learning-ai/)\n",
    "    - [kdnuggets.com/2016/10/battle-data-science-venn-diagrams.html](http://www.kdnuggets.com/2016/10/battle-data-science-venn-diagrams.html)\n",
    "    - [slideshare.net/AltonAlexander/a-successful-data-science-proof-of-concept-in-7-pragmatic-steps](https://www.slideshare.net/AltonAlexander/a-successful-data-science-proof-of-concept-in-7-pragmatic-steps)\n"
   ]
  },
  {
   "cell_type": "markdown",
   "metadata": {
    "slideshow": {
     "slide_type": "slide"
    }
   },
   "source": [
    "\n",
    "+ Extra resources\n",
    "  - when it comes to deep learning, pay attention to Canadian uni courses - [iro.umontreal.ca/~bengioy/talks/lisbon-mlss-19juillet2015.pdf](http://www.iro.umontreal.ca/~bengioy/talks/lisbon-mlss-19juillet2015.pdf)\n",
    "  - [unsupervised vs supervised ML](https://stats.stackexchange.com/questions/110395/what-are-basic-differences-between-kernel-approaches-to-unsupervised-and-supervi)\n",
    "  - [amazon.com/Think-Like-Scientist-step-step/dp/1633430278](https://www.amazon.com/Think-Like-Scientist-step-step/dp/1633430278)\n",
    "  - [jixta.files.wordpress.com/2015/11/machinelearningalgorithms.png](https://jixta.files.wordpress.com/2015/11/machinelearningalgorithms.png)\n",
    "  - [images.slideplayer.com/32/9836672/slides/slide_3.jpg](http://images.slideplayer.com/32/9836672/slides/slide_3.jpg)\n"
   ]
  },
  {
   "cell_type": "markdown",
   "metadata": {
    "slideshow": {
     "slide_type": "slide"
    }
   },
   "source": [
    "<center>\n",
    "    <h1>Thanks !</h1>\n",
    "</center>"
   ]
  },
  {
   "cell_type": "markdown",
   "metadata": {
    "slideshow": {
     "slide_type": "skip"
    }
   },
   "source": [
    "---"
   ]
  }
 ],
 "metadata": {
  "celltoolbar": "Slideshow",
  "kernelspec": {
   "display_name": "Python 3",
   "language": "python",
   "name": "python3"
  },
  "language_info": {
   "codemirror_mode": {
    "name": "ipython",
    "version": 3
   },
   "file_extension": ".py",
   "mimetype": "text/x-python",
   "name": "python",
   "nbconvert_exporter": "python",
   "pygments_lexer": "ipython3",
   "version": "3.5.2"
  }
 },
 "nbformat": 4,
 "nbformat_minor": 1
}
