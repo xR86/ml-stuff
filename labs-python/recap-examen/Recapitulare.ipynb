{
 "cells": [
  {
   "cell_type": "markdown",
   "metadata": {},
   "source": [
    "# Classes"
   ]
  },
  {
   "cell_type": "markdown",
   "metadata": {},
   "source": []
  },
  {
   "cell_type": "code",
   "execution_count": null,
   "metadata": {
    "collapsed": true
   },
   "outputs": [],
   "source": []
  },
  {
   "cell_type": "code",
   "execution_count": null,
   "metadata": {
    "collapsed": true
   },
   "outputs": [],
   "source": []
  },
  {
   "cell_type": "markdown",
   "metadata": {},
   "source": [
    "# Threading"
   ]
  },
  {
   "cell_type": "code",
   "execution_count": null,
   "metadata": {
    "collapsed": true
   },
   "outputs": [],
   "source": []
  },
  {
   "cell_type": "code",
   "execution_count": null,
   "metadata": {
    "collapsed": true
   },
   "outputs": [],
   "source": []
  },
  {
   "cell_type": "code",
   "execution_count": null,
   "metadata": {
    "collapsed": true
   },
   "outputs": [],
   "source": []
  },
  {
   "cell_type": "markdown",
   "metadata": {},
   "source": [
    "# C integation - part 1"
   ]
  },
  {
   "cell_type": "code",
   "execution_count": null,
   "metadata": {
    "collapsed": true
   },
   "outputs": [],
   "source": []
  },
  {
   "cell_type": "code",
   "execution_count": null,
   "metadata": {
    "collapsed": true
   },
   "outputs": [],
   "source": []
  },
  {
   "cell_type": "code",
   "execution_count": null,
   "metadata": {
    "collapsed": true
   },
   "outputs": [],
   "source": []
  },
  {
   "cell_type": "markdown",
   "metadata": {},
   "source": [
    "# C integration - part 2"
   ]
  },
  {
   "cell_type": "code",
   "execution_count": 1,
   "metadata": {
    "collapsed": false
   },
   "outputs": [
    {
     "name": "stdout",
     "output_type": "stream",
     "text": [
      "10\n",
      "100\n",
      "Python\n",
      "Python\n"
     ]
    }
   ],
   "source": [
    "import ctypes \n",
    "\n",
    "i = ctypes.c_int(10)\n",
    "print (i.value)\n",
    "\n",
    "i.value = 100\n",
    "print (i.value)\n",
    "\n",
    "i = ctypes.c_char_p(b\"Python\") #expects binary in Py3, because ...\n",
    "print (i.value)\n",
    "\n",
    "i = ctypes.c_wchar_p(\"Python\") #expects string in Py3\n",
    "print (i.value)"
   ]
  },
  {
   "cell_type": "code",
   "execution_count": 2,
   "metadata": {
    "collapsed": false
   },
   "outputs": [
    {
     "name": "stdout",
     "output_type": "stream",
     "text": [
      "10\n",
      "20\n",
      "30\n"
     ]
    }
   ],
   "source": [
    "#ctypes also includes a function called pointer that can create a pointer to another ctypes object.\n",
    "\n",
    "#In this example, ptr_i is a pointer to the variable i. Each pointer object has a property (contents)\n",
    "#that give access to the object the pointer points to (in our case, ptr_i.contents is i)\n",
    "\n",
    "import ctypes\n",
    "\n",
    "i = ctypes.c_int(10)\n",
    "ptr_i = ctypes.pointer(i)\n",
    "\n",
    "print(ptr_i.contents.value)\n",
    "ptr_i.contents.value = 20\n",
    "\n",
    "print(i.value)\n",
    "j = ctypes.c_int(30)\n",
    "\n",
    "ptr_i.contents = j\n",
    "print(ptr_i.contents.value)"
   ]
  },
  {
   "cell_type": "code",
   "execution_count": 4,
   "metadata": {
    "collapsed": false
   },
   "outputs": [
    {
     "name": "stdout",
     "output_type": "stream",
     "text": [
      "10\n",
      "20\n"
     ]
    }
   ],
   "source": [
    "#References can also be used. ctypes provides a function byref that can be used to obtain a reference to an ctypes object.\n",
    "\n",
    "#Building a reference is faster in Python that building a pointer. If speed is a concern byref should be used instead of pointer.\n",
    "\n",
    "import ctypes\n",
    "\n",
    "i = ctypes.c_int(10)\n",
    "\n",
    "ref_i = ctypes.byref(i)\n",
    "print(ref_i._obj.value)\n",
    "\n",
    "ref_i._obj.value = 20\n",
    "print(i.value)\n",
    "\n",
    "j = ctypes.c_int(30)\n",
    "\n",
    "# ref_i._obj = j  #read only, cannot be assigned anymore"
   ]
  },
  {
   "cell_type": "code",
   "execution_count": 6,
   "metadata": {
    "collapsed": false
   },
   "outputs": [
    {
     "name": "stdout",
     "output_type": "stream",
     "text": [
      "(5.0, 3.5)\n",
      "(0, 4)\n",
      "(4, 4)\n"
     ]
    }
   ],
   "source": [
    "#structures can be build and pass as a parameter using ctypes.Structure. Fields will be created just like in a C/C++ structure.\n",
    "\n",
    "import ctypes\n",
    "\n",
    "'''\n",
    "struct Point {\n",
    "    float x;\n",
    "    float y;\n",
    "}\n",
    "'''\n",
    "class Point(ctypes.Structure):\n",
    "    _fields_ = [(\"x\",ctypes.c_float),(\"y\",ctypes.c_float)]\n",
    "\n",
    "p = Point(1.5,3.5) # if y not given, will be set as 0\n",
    "\n",
    "p.x += p.y\n",
    "print(p.x,p.y)\n",
    "\n",
    "print(Point.x.offset,Point.x.size)\n",
    "print(Point.y.offset,Point.y.size)"
   ]
  },
  {
   "cell_type": "code",
   "execution_count": 8,
   "metadata": {
    "collapsed": false
   },
   "outputs": [
    {
     "name": "stdout",
     "output_type": "stream",
     "text": [
      "(10, 10)\n",
      "<Field type=c_long, ofs=0, size=4>\n",
      "<Field type=c_short, ofs=0, size=2>\n"
     ]
    }
   ],
   "source": [
    "# Union can be used to described a C/C++ union where all the fields start from the same address (occupy the same memory space).\n",
    "\n",
    "#In this case, as p.i and p.s are 0 from the initialization moment (no values provided to the constructor), \n",
    "#once p.s becomes 10, the value of p.i will be modified as well (in this case 10).\n",
    "\n",
    "import ctypes\n",
    "\n",
    "'''\n",
    "union CUnion {\n",
    "    long i;\n",
    "    short s;\n",
    "}\n",
    "'''\n",
    "class CUnion(ctypes.Union):\n",
    "    _fields_ = [(\"i\",ctypes.c_long),(\"s\",ctypes.c_short)]\n",
    "\n",
    "p = CUnion()\n",
    "\n",
    "p.s = 10\n",
    "print(p.i,p.s)\n",
    "\n",
    "print(CUnion.i)\n",
    "print(CUnion.s)"
   ]
  },
  {
   "cell_type": "code",
   "execution_count": 9,
   "metadata": {
    "collapsed": false
   },
   "outputs": [
    {
     "name": "stdout",
     "output_type": "stream",
     "text": [
      "([10, 20, 0, 0, 0, 0, 0, 0, 0, 0], 3)\n",
      "<Field type=c_long_Array_10, ofs=0, size=40>\n",
      "<Field type=c_long, ofs=40, size=4>\n"
     ]
    }
   ],
   "source": [
    "# In case of ctypes.Structure the operator * can be used to specify a 1-dimensional array of a specific type.\n",
    "\n",
    "import ctypes\n",
    "\n",
    "class Numbers(ctypes.Structure):\n",
    "    _fields_ = [(\"n\",ctypes.c_long * 10),(\"count\",ctypes.c_long)]\n",
    "\n",
    "p = Numbers()\n",
    "\n",
    "p.n[0] = 10\n",
    "p.n[1] = 20\n",
    "\n",
    "s = []\n",
    "for i in range(0,10):s += [p.n[i]]\n",
    "\n",
    "p.count = 3\n",
    "\n",
    "print(s,p.count)\n",
    "\n",
    "print(Numbers.n)\n",
    "print(Numbers.count)"
   ]
  },
  {
   "cell_type": "code",
   "execution_count": 10,
   "metadata": {
    "collapsed": false
   },
   "outputs": [
    {
     "name": "stdout",
     "output_type": "stream",
     "text": [
      "[1, 2, 3, 4, 5]\n"
     ]
    }
   ],
   "source": [
    "#Pointer can also be used in a structure (ctypes provide the POINTER member for this). The default value \n",
    "#will be NULL so they will have to be instantiated).\n",
    "\n",
    "import ctypes\n",
    "\n",
    "'''\n",
    "struct Numbers {\n",
    "    long *n;\n",
    "    long count;\n",
    "}\n",
    "'''\n",
    "class Numbers(ctypes.Structure):\n",
    "    _fields_ = [(\"n\", ctypes.POINTER(ctypes.c_long)), (\"count\",ctypes.c_long)]\n",
    "\n",
    "p = Numbers()\n",
    "\n",
    "p.n = (ctypes.c_long * 5)(1,2,3,4,5)\n",
    "p.count = 5\n",
    "\n",
    "s = []\n",
    "for i in range(0,p.count):\n",
    "    s += [p.n[i]]\n",
    "\n",
    "print(s)"
   ]
  },
  {
   "cell_type": "code",
   "execution_count": 11,
   "metadata": {
    "collapsed": false
   },
   "outputs": [
    {
     "name": "stdout",
     "output_type": "stream",
     "text": [
      "<Field type=Point_Array_3, ofs=0, size=24>\n"
     ]
    }
   ],
   "source": [
    "#A member in a structure can also be another structure previously defined. This way complex data structure can be created.\n",
    "\n",
    "import ctypes\n",
    "\n",
    "'''\n",
    "struct Point {\n",
    "    float x;\n",
    "    float y;\n",
    "};\n",
    "\n",
    "struct Triangle {\n",
    "    Point pct[3];\n",
    "};\n",
    "'''\n",
    "class Point(ctypes.Structure):\n",
    "    _fields_ = [(\"x\",ctypes.c_float), (\"y\",ctypes.c_float)]\n",
    "\n",
    "class Triangle(ctypes.Structure):\n",
    "    _fields_ = [(\"pct\",Point * 3)]\n",
    "\n",
    "t = Triangle()\n",
    "\n",
    "t.pct[0].x = 10\n",
    "t.pct[0].y = 20\n",
    "\n",
    "print (Triangle.pct)"
   ]
  },
  {
   "cell_type": "code",
   "execution_count": 13,
   "metadata": {
    "collapsed": false
   },
   "outputs": [
    {
     "name": "stdout",
     "output_type": "stream",
     "text": [
      "(<Field type=c_long, ofs=0:0, bits=1>, <Field type=c_long, ofs=0:1, bits=3>)\n"
     ]
    }
   ],
   "source": [
    "# Bit sets are also possible by adding the 3rd parameter to the tuple used to describer the _fields_ member.\n",
    "\n",
    "import ctypes\n",
    "\n",
    "class BitField(ctypes.Structure):\n",
    "    _fields_ = [(\"bit_0\", ctypes.c_int, 1), (\"next_3_bytes\", ctypes.c_int, 3)]\n",
    "\n",
    "b = BitField()\n",
    "\n",
    "b.bit_0 = 1\n",
    "b.next_3_bytes = 2;\n",
    "\n",
    "print ( BitField.bit_0, BitField.next_3_bytes )"
   ]
  },
  {
   "cell_type": "code",
   "execution_count": null,
   "metadata": {
    "collapsed": true
   },
   "outputs": [],
   "source": []
  },
  {
   "cell_type": "code",
   "execution_count": null,
   "metadata": {
    "collapsed": true
   },
   "outputs": [],
   "source": []
  },
  {
   "cell_type": "markdown",
   "metadata": {},
   "source": [
    "---"
   ]
  }
 ],
 "metadata": {
  "kernelspec": {
   "display_name": "Python 2",
   "language": "python",
   "name": "python2"
  },
  "language_info": {
   "codemirror_mode": {
    "name": "ipython",
    "version": 2
   },
   "file_extension": ".py",
   "mimetype": "text/x-python",
   "name": "python",
   "nbconvert_exporter": "python",
   "pygments_lexer": "ipython2",
   "version": "2.7.12"
  }
 },
 "nbformat": 4,
 "nbformat_minor": 1
}
