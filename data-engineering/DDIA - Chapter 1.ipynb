{
 "cells": [
  {
   "cell_type": "markdown",
   "metadata": {
    "heading_collapsed": true,
    "slideshow": {
     "slide_type": "slide"
    }
   },
   "source": [
    "# Designing Data-Intensive Applications <a class=\"tocSkip\">\n",
    "## Notes on Chapter 1 <a class=\"tocSkip\">"
   ]
  },
  {
   "cell_type": "markdown",
   "metadata": {
    "hidden": true,
    "slideshow": {
     "slide_type": "skip"
    }
   },
   "source": [
    "---"
   ]
  },
  {
   "cell_type": "markdown",
   "metadata": {
    "slideshow": {
     "slide_type": "slide"
    }
   },
   "source": [
    "# Issues posed by data intensive systems"
   ]
  },
  {
   "cell_type": "markdown",
   "metadata": {
    "slideshow": {
     "slide_type": "subslide"
    }
   },
   "source": [
    "\n",
    "> A data-intensive application is typically built from standard building blocks that provide commonly needed functionality. For example, many applications need to:\n",
    "\n",
    "> + **Store data** so that they, or another application, can find it again later (`databases`)\n",
    "> + Remember the **result of an expensive operation**, to speed up reads (`caches`)\n",
    "> + Allow users to **search data by keyword or filter it** in various ways (`search indexes`)\n",
    "> + Send a **message to another process, to be handled asynchronously** (`stream processing`)\n",
    ">+ Periodically **crunch a large amount of accumulated data** (`batch processing`)\n",
    "\n",
    "\n",
    "Quoted from the book"
   ]
  },
  {
   "cell_type": "markdown",
   "metadata": {
    "slideshow": {
     "slide_type": "skip"
    }
   },
   "source": [
    "---"
   ]
  },
  {
   "cell_type": "markdown",
   "metadata": {
    "slideshow": {
     "slide_type": "slide"
    }
   },
   "source": [
    "# The old vs the new conceptions"
   ]
  },
  {
   "cell_type": "markdown",
   "metadata": {
    "slideshow": {
     "slide_type": "subslide"
    }
   },
   "source": [
    "## CAP Theorem (1999)\n",
    "\n",
    "It is **impossible** for a distributed data store to simultaneously **provide more than two out of the following three guarantees**:\n",
    "\n",
    "+ **`Consistency`**: Every read receives the most recent write or an error\n",
    "+ **`Availability`**: Every request receives a (non-error) response – without the guarantee that it contains the most recent write\n",
    "+ **`Partition tolerance`**: The system continues to operate despite an arbitrary number of messages being dropped (or delayed) by the network between nodes"
   ]
  },
  {
   "cell_type": "markdown",
   "metadata": {
    "slideshow": {
     "slide_type": "subslide"
    }
   },
   "source": [
    "## CAP Theorem (contd.) <a class=\"tocSkip\">\n",
    "\n",
    "Review and add from this:\n",
    "+ [towardsdatascience.com/cap-theorem-and-distributed-database-management-systems-5c2be977950e](https://towardsdatascience.com/cap-theorem-and-distributed-database-management-systems-5c2be977950e)\n",
    "+ [faculty.washington.edu/wlloyd/courses/tcss562/papers/ChoosingTheRightNoSQLDatabaseForTheJob-AQualityAttributeEvaluation.pdf](http://faculty.washington.edu/wlloyd/courses/tcss562/papers/ChoosingTheRightNoSQLDatabaseForTheJob-AQualityAttributeEvaluation.pdf)\n",
    "+ [robertgreiner.com/2014/08/cap-theorem-revisited/](http://robertgreiner.com/2014/08/cap-theorem-revisited/)"
   ]
  },
  {
   "cell_type": "markdown",
   "metadata": {
    "slideshow": {
     "slide_type": "subslide"
    }
   },
   "source": [
    "## CAP Theorem (contd.) <a class=\"tocSkip\">\n",
    "\n",
    "![](https://www.researchgate.net/profile/Joao_Lourenco11/publication/282519669/figure/fig1/AS:281002732736529@1444007680733/CAP-theorem-with-databases-that-choose-CA-CP-and-AP.png)\n",
    "\n",
    "From the Lourenço article quoted previously"
   ]
  },
  {
   "cell_type": "markdown",
   "metadata": {
    "slideshow": {
     "slide_type": "subslide"
    }
   },
   "source": [
    "## Blurring of boundaries\n",
    "\n",
    "> They no longer neatly fit into traditional categories. For example:\n",
    "> + datastores that are also used as message queues (Redis)\n",
    "> + message queues with database-like durability guarantees (Apache Kafka)\n",
    "\n",
    "> The boundaries between the categories are becoming blurred.\n",
    "\n",
    "Quoted from the book"
   ]
  },
  {
   "cell_type": "markdown",
   "metadata": {
    "slideshow": {
     "slide_type": "subslide"
    }
   },
   "source": [
    "## There is no magic bullet\n",
    "\n",
    "Increasingly many applications now **have such demanding or wide-ranging\n",
    "requirements that a single tool can no longer meet all of its data processing and storage needs**.\n",
    "\n",
    "Instead, **the work is broken down into tasks** that can be performed efficiently on a single tool, and **those different tools are stitched together using application code**.\n"
   ]
  },
  {
   "cell_type": "markdown",
   "metadata": {
    "slideshow": {
     "slide_type": "subslide"
    }
   },
   "source": [
    "## There is no magic bullet (contd.) <a class=\"tocSkip\">\n",
    "\n",
    "![](assets/ddia-fig1-1.png)\n",
    "> Fig 1.1. One possible architecture for a data system that combines several components.\n",
    "\n",
    "Figure from the book."
   ]
  },
  {
   "cell_type": "markdown",
   "metadata": {
    "slideshow": {
     "slide_type": "subslide"
    }
   },
   "source": [
    "## There is no magic bullet (contd.) <a class=\"tocSkip\">\n",
    "\n",
    "As such, we are creating a:\n",
    "> new, **special-purpose data system** from **smaller, general-purpose components**.\n",
    "\n",
    "> Your composite data system **may provide certain guarantees**: e.g., that the **cache will be correctly invalidated or updated on writes** so that outside clients see consistent results.\n",
    "\n",
    "Quote from the book."
   ]
  },
  {
   "cell_type": "markdown",
   "metadata": {
    "slideshow": {
     "slide_type": "skip"
    }
   },
   "source": [
    "---"
   ]
  },
  {
   "cell_type": "markdown",
   "metadata": {
    "slideshow": {
     "slide_type": "slide"
    }
   },
   "source": [
    "# High-level concerns"
   ]
  },
  {
   "cell_type": "markdown",
   "metadata": {
    "slideshow": {
     "slide_type": "slide"
    }
   },
   "source": [
    "\n",
    ">**`Reliability`**\n",
    "The system should continue to work correctly (performing the correct function at the desired level of performance) even in the face of adversity (hardware or software faults, and even human error).\n",
    "\n",
    ">**`Scalability`**\n",
    "As the system grows (in data volume, traffic volume, or complexity), there should be reasonable ways of dealing with that growth.\n",
    "\n",
    ">**`Maintainability`**\n",
    "Over time, many different people will work on the system (engineering and operations, both maintaining current behavior and adapting the system to new use cases), and they should all be able to work on it productively.\n",
    "\n",
    "Quoted from the book."
   ]
  },
  {
   "cell_type": "markdown",
   "metadata": {
    "slideshow": {
     "slide_type": "skip"
    }
   },
   "source": [
    "---"
   ]
  },
  {
   "cell_type": "markdown",
   "metadata": {
    "slideshow": {
     "slide_type": "slide"
    }
   },
   "source": [
    "# Reliability"
   ]
  },
  {
   "cell_type": "markdown",
   "metadata": {
    "slideshow": {
     "slide_type": "subslide"
    }
   },
   "source": [
    "Expectation of reliability can take many forms:\n",
    "\n",
    "> + The application **performs the function that the user expected**.\n",
    "> + It can **tolerate the user making mistakes** or **using the software in unexpected ways**.\n",
    "> + Its **performance is good enough** for the required use case, under the expected load and data volume.\n",
    "> + The system **prevents any unauthorized access and abuse**.\n",
    "\n",
    "As such, reliability can be summed up as meaning **\"continuing to work correctly, even when this go wrong\"**.\n",
    "\n",
    "Quoted from the book"
   ]
  },
  {
   "cell_type": "markdown",
   "metadata": {
    "slideshow": {
     "slide_type": "subslide"
    }
   },
   "source": [
    "## Managing fault-tolerance, preventing failures\n",
    "\n",
    "Systems that anticipate faults and cope with them are called **fault-tolerant** or **resilient**.\n",
    "\n",
    "\n",
    "The is a distinction to be made:\n",
    "+ **`Faults`** are usually **one component of the system deviating** from its spec.\n",
    "+ **`Failures`** are **when the system as a whole stops** providing the required service to the user.\n",
    "\n",
    "\n",
    "\n",
    "Quoted from the book"
   ]
  },
  {
   "cell_type": "markdown",
   "metadata": {
    "slideshow": {
     "slide_type": "subslide"
    }
   },
   "source": [
    "### Faults\n",
    "\n",
    "#### Case Study: https://status.datacamp.com/ <a class=\"tocSkip\">\n",
    "\n",
    "\n",
    "\n"
   ]
  },
  {
   "cell_type": "markdown",
   "metadata": {
    "slideshow": {
     "slide_type": "subslide"
    }
   },
   "source": [
    "\n",
    "![](assets/ddia-statuspage-datacamp-outage.png)"
   ]
  },
  {
   "cell_type": "markdown",
   "metadata": {
    "slideshow": {
     "slide_type": "subslide"
    }
   },
   "source": [
    "\n",
    "![](assets/ddia-statuspage-datacamp-time.png)"
   ]
  },
  {
   "cell_type": "markdown",
   "metadata": {
    "slideshow": {
     "slide_type": "subslide"
    }
   },
   "source": [
    "#### Case Study: https://www.githubstatus.com/ <a class=\"tocSkip\">\n",
    "\n",
    "![](assets/ddia-statuspage-github.png)"
   ]
  },
  {
   "cell_type": "markdown",
   "metadata": {
    "slideshow": {
     "slide_type": "subslide"
    }
   },
   "source": [
    "#### Faults - Solutions <a class=\"tocSkip\">\n",
    "    \n",
    "Let users know:\n",
    "+ whether there is a fault or degraded performance, so they plan accordingly\n",
    "+ where is the problem, so they know if it affects them\n",
    "+ what is the status of the problem, to assure them of the eventual solution\n"
   ]
  },
  {
   "cell_type": "markdown",
   "metadata": {
    "slideshow": {
     "slide_type": "subslide"
    }
   },
   "source": [
    "### Failures\n"
   ]
  },
  {
   "cell_type": "markdown",
   "metadata": {
    "slideshow": {
     "slide_type": "subslide"
    }
   },
   "source": [
    "#### Send an encrypted stacktrace to be given to support <a class=\"tocSkip\">\n",
    "\n",
    "![](https://i.kym-cdn.com/photos/images/original/001/224/831/8ab.jpg)"
   ]
  },
  {
   "cell_type": "markdown",
   "metadata": {
    "slideshow": {
     "slide_type": "skip"
    }
   },
   "source": [
    "#### Service Workers ! <a class=\"tocSkip\">\n",
    "\n",
    "https://www.youtube.com/watch?v=ZiWnq7bYO5o\n",
    "\n",
    "![](https://kinsta.com/wp-content/uploads/2017/12/airbnb-500-internal-server-error-1024x503.png)"
   ]
  },
  {
   "cell_type": "markdown",
   "metadata": {
    "slideshow": {
     "slide_type": "skip"
    }
   },
   "source": [
    "#### Service Worker Lifecycle <a class=\"tocSkip\">\n",
    "\n",
    "![](https://scotch-res.cloudinary.com/image/upload/dpr_3,w_350,q_auto:good,f_auto/v1536590617/kxhshgxmbcl1aw7gncem.png)"
   ]
  },
  {
   "cell_type": "markdown",
   "metadata": {
    "slideshow": {
     "slide_type": "skip"
    }
   },
   "source": [
    "#### Service Worker Registration <a class=\"tocSkip\">\n",
    "\n",
    "![](assets/ddia-service-worker-register-fail.png)"
   ]
  },
  {
   "cell_type": "markdown",
   "metadata": {
    "slideshow": {
     "slide_type": "skip"
    }
   },
   "source": [
    "#### Service Worker Caching <a class=\"tocSkip\">\n",
    "\n",
    "![](https://cdn.netlify.com/9852865e142b6f8453d7c1ae083d2e342adc8c02/cbc3a/img/blog/service-worker-diagram.png)"
   ]
  },
  {
   "cell_type": "markdown",
   "metadata": {
    "slideshow": {
     "slide_type": "skip"
    }
   },
   "source": [
    "#### Luckily I found a demo in one of my repos\n",
    "\n",
    "[github.com/xR86/algo/tree/master/code-js](https://github.com/xR86/algo/tree/master/code-js)\n",
    "\n",
    "http://localhost:8000/service-workers/\n",
    "http://localhost:8000/workers/\n"
   ]
  },
  {
   "cell_type": "markdown",
   "metadata": {
    "slideshow": {
     "slide_type": "skip"
    }
   },
   "source": [
    "## Deliberately inducing faults\n",
    "\n",
    ">By deliberately inducing faults, you ensure \n",
    "\n",
    "> that the fault-tolerance machinery is continually exercised and tested,\n",
    "\n",
    "> which can increase your confidence that faults will be handled correctly when they occur naturally.\n",
    "\n",
    "Quote from the book."
   ]
  },
  {
   "cell_type": "markdown",
   "metadata": {
    "slideshow": {
     "slide_type": "skip"
    }
   },
   "source": [
    "### Principles of Chaos\n",
    "http://principlesofchaos.org/"
   ]
  },
  {
   "cell_type": "markdown",
   "metadata": {
    "slideshow": {
     "slide_type": "skip"
    }
   },
   "source": [
    "### Netflix - Chaos Monkey\n",
    "\n",
    "https://github.com/Netflix/chaosmonkey\n",
    "\n",
    "![](https://raw.githubusercontent.com/Netflix/chaosmonkey/master/docs/logo.png)"
   ]
  },
  {
   "cell_type": "markdown",
   "metadata": {
    "slideshow": {
     "slide_type": "skip"
    }
   },
   "source": [
    "### Agile Security Practices - GameDays\n",
    "\n",
    "https://books.google.ro/books?id=Jco0DwAAQBAJ&pg=PA272&lpg=PA272&dq=gamedays+security&source=bl&ots=Iq1cPTgg_c&sig=ACfU3U2w9PODvfuhFeNrlfPYlbs-ho8Qtg&hl=ro&sa=X&ved=2ahUKEwiHiOKtlYThAhWGDewKHdXVCIEQ6AEwCXoECAIQAQ#v=onepage&q&f=false\n",
    "\n",
    "So widespread in AWS, they also have introduced an event recently: https://aws.amazon.com/gameday/"
   ]
  },
  {
   "cell_type": "markdown",
   "metadata": {
    "slideshow": {
     "slide_type": "skip"
    }
   },
   "source": [
    "### So ... about faults"
   ]
  },
  {
   "cell_type": "markdown",
   "metadata": {
    "slideshow": {
     "slide_type": "skip"
    }
   },
   "source": [
    "> Another class of fault is a systematic error within the system [8]. \n",
    "\n",
    "> Such faults are harder to anticipate, and because they are correlated across nodes, they tend to cause many more system failures than uncorrelated hardware faults [5]. Examples include:\n",
    "\n",
    "> + A software bug that causes every instance of an application server to crash when given a particular bad input. For example, consider the leap second on June 30, 2012, that caused many applications to hang simultaneously due to a bug in the Linux kernel [9].\n",
    "> + A runaway process that uses up some shared resource—CPU time, memory, disk space, or network bandwidth.\n",
    "\n",
    "\n",
    "Quoted from the book."
   ]
  },
  {
   "cell_type": "markdown",
   "metadata": {
    "slideshow": {
     "slide_type": "skip"
    }
   },
   "source": [
    "### So ... solutions ?\n",
    "\n",
    "> + Lots of small things can help:\n",
    ">   + carefully thinking about assumptions and interactions in the system;\n",
    ">   + thorough testing;\n",
    ">   + process isolation;\n",
    ">   + allowing processes to crash and restart;\n",
    ">   + measuring, monitoring, and analyzing system behavior in production. \n",
    "  \n",
    "> + If a system is expected to provide some guarantee (for example, in a message queue, that the number of incoming messages equals the number of outgoing messages), it can constantly check itself while it is running and raise an alert if a discrepancy is found.\n",
    "\n",
    "Quoted from the book."
   ]
  },
  {
   "cell_type": "markdown",
   "metadata": {
    "slideshow": {
     "slide_type": "skip"
    }
   },
   "source": [
    "add monitoring screenshots from aws interface"
   ]
  },
  {
   "cell_type": "markdown",
   "metadata": {
    "slideshow": {
     "slide_type": "skip"
    }
   },
   "source": [
    "### Human errors\n",
    "\n",
    "> For example, one study of large internet services found that\n",
    "configuration errors by operators were the leading cause of outages, whereas hardware faults (servers or network) played a role in only 10–25% of outages.\n",
    "\n",
    "Quoted from the book."
   ]
  },
  {
   "cell_type": "markdown",
   "metadata": {
    "slideshow": {
     "slide_type": "skip"
    }
   },
   "source": [
    "#### Possible solutions <a class=\"tocSkip\">\n",
    "\n",
    "+ well-designed abstractions, APIs, and admin interfaces make it easy to do “the right thing” and discourage “the wrong thing.”\n",
    "  + However, if the interfaces are too restrictive people will work around them, negating their benefit, so this is a tricky balance to get right.\n",
    " \n",
    "+ Decouple the places where people make the most mistakes from the places where they can cause failures.\n",
    "  + In particular, provide fully featured non-production sandbox environments where people can explore and experiment safely, using real data, without affecting real users.\n",
    "\n",
    "\n"
   ]
  },
  {
   "cell_type": "markdown",
   "metadata": {
    "slideshow": {
     "slide_type": "skip"
    }
   },
   "source": []
  },
  {
   "cell_type": "markdown",
   "metadata": {
    "slideshow": {
     "slide_type": "skip"
    }
   },
   "source": []
  },
  {
   "cell_type": "markdown",
   "metadata": {
    "slideshow": {
     "slide_type": "skip"
    }
   },
   "source": []
  },
  {
   "cell_type": "markdown",
   "metadata": {
    "slideshow": {
     "slide_type": "skip"
    }
   },
   "source": [
    "---"
   ]
  },
  {
   "cell_type": "markdown",
   "metadata": {
    "slideshow": {
     "slide_type": "subslide"
    }
   },
   "source": [
    "# Scalability"
   ]
  },
  {
   "cell_type": "markdown",
   "metadata": {
    "slideshow": {
     "slide_type": "subslide"
    }
   },
   "source": []
  },
  {
   "cell_type": "markdown",
   "metadata": {
    "slideshow": {
     "slide_type": "skip"
    }
   },
   "source": []
  },
  {
   "cell_type": "markdown",
   "metadata": {
    "slideshow": {
     "slide_type": "skip"
    }
   },
   "source": []
  },
  {
   "cell_type": "markdown",
   "metadata": {
    "slideshow": {
     "slide_type": "slide"
    }
   },
   "source": [
    "---"
   ]
  },
  {
   "cell_type": "markdown",
   "metadata": {
    "slideshow": {
     "slide_type": "slide"
    }
   },
   "source": [
    "# Maintainability"
   ]
  },
  {
   "cell_type": "markdown",
   "metadata": {
    "slideshow": {
     "slide_type": "slide"
    }
   },
   "source": []
  },
  {
   "cell_type": "markdown",
   "metadata": {
    "slideshow": {
     "slide_type": "slide"
    }
   },
   "source": []
  },
  {
   "cell_type": "markdown",
   "metadata": {
    "slideshow": {
     "slide_type": "slide"
    }
   },
   "source": []
  },
  {
   "cell_type": "markdown",
   "metadata": {
    "slideshow": {
     "slide_type": "slide"
    }
   },
   "source": [
    "---"
   ]
  },
  {
   "cell_type": "markdown",
   "metadata": {
    "slideshow": {
     "slide_type": "slide"
    }
   },
   "source": [
    "# Bibliography"
   ]
  },
  {
   "cell_type": "markdown",
   "metadata": {
    "slideshow": {
     "slide_type": "subslide"
    }
   },
   "source": [
    "## The old vs the new conceptions\n",
    "\n",
    "+ [en.wikipedia.org/wiki/CAP_theorem](https://en.wikipedia.org/wiki/CAP_theorem)\n",
    "+ [towardsdatascience.com/cap-theorem-and-distributed-database-management-systems-5c2be977950e](https://towardsdatascience.com/cap-theorem-and-distributed-database-management-systems-5c2be977950e)\n",
    "+ [researchgate.net/publication/282519669_Choosing_the_right_NoSQL_database_for_the_job_a_quality_attribute_evaluation](https://www.researchgate.net/publication/282519669_Choosing_the_right_NoSQL_database_for_the_job_a_quality_attribute_evaluation)\n",
    "  + fulltext here : [faculty.washington.edu/wlloyd/courses/tcss562/papers/ChoosingTheRightNoSQLDatabaseForTheJob-AQualityAttributeEvaluation.pdf](http://faculty.washington.edu/wlloyd/courses/tcss562/papers/ChoosingTheRightNoSQLDatabaseForTheJob-AQualityAttributeEvaluation.pdf)\n",
    "\n"
   ]
  },
  {
   "cell_type": "markdown",
   "metadata": {
    "slideshow": {
     "slide_type": "skip"
    }
   },
   "source": []
  },
  {
   "cell_type": "markdown",
   "metadata": {
    "slideshow": {
     "slide_type": "skip"
    }
   },
   "source": [
    "---"
   ]
  }
 ],
 "metadata": {
  "celltoolbar": "Slideshow",
  "hide_input": false,
  "kernelspec": {
   "display_name": "Python 3",
   "language": "python",
   "name": "python3"
  },
  "language_info": {
   "codemirror_mode": {
    "name": "ipython",
    "version": 3
   },
   "file_extension": ".py",
   "mimetype": "text/x-python",
   "name": "python",
   "nbconvert_exporter": "python",
   "pygments_lexer": "ipython3",
   "version": "3.5.2"
  },
  "toc": {
   "base_numbering": 1,
   "nav_menu": {},
   "number_sections": true,
   "sideBar": true,
   "skip_h1_title": false,
   "title_cell": "Table of Contents",
   "title_sidebar": "Contents",
   "toc_cell": false,
   "toc_position": {
    "height": "calc(100% - 180px)",
    "left": "10px",
    "top": "150px",
    "width": "259px"
   },
   "toc_section_display": true,
   "toc_window_display": false
  },
  "varInspector": {
   "cols": {
    "lenName": 16,
    "lenType": 16,
    "lenVar": 40
   },
   "kernels_config": {
    "python": {
     "delete_cmd_postfix": "",
     "delete_cmd_prefix": "del ",
     "library": "var_list.py",
     "varRefreshCmd": "print(var_dic_list())"
    },
    "r": {
     "delete_cmd_postfix": ") ",
     "delete_cmd_prefix": "rm(",
     "library": "var_list.r",
     "varRefreshCmd": "cat(var_dic_list()) "
    }
   },
   "types_to_exclude": [
    "module",
    "function",
    "builtin_function_or_method",
    "instance",
    "_Feature"
   ],
   "window_display": false
  }
 },
 "nbformat": 4,
 "nbformat_minor": 2
}
