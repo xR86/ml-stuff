{
 "cells": [
  {
   "cell_type": "markdown",
   "metadata": {
    "dc": {
     "key": "3"
    },
    "slideshow": {
     "slide_type": "skip"
    },
    "tags": [
     "context"
    ]
   },
   "source": [
    "# Darwin's bibliography <a class=\"tocSkip\">\n",
    "<p><img src=\"https://assets.datacamp.com/production/project_607/img/CharlesDarwin.jpg\" alt=\"Charles Darwin\" width=\"300px\"></p>\n",
    "<p>Charles Darwin is one of the few universal figures of science. His most renowned work is without a doubt his \"<em>On the Origin of Species</em>\" published in 1859 which introduced the concept of natural selection. But Darwin wrote many other books on a wide range of topics, including geology, plants or his personal life. In this notebook, we will automatically detect how closely related his books are to each other.</p>\n",
    "<p>To this purpose, we will develop the bases of <strong>a content-based book recommendation system</strong>, which will determine which books are close to each other based on how similar the discussed topics are. The methods we will use are commonly used in text- or documents-heavy industries such as legal, tech or customer support to perform some common task such as text classification or handling search engine queries.</p>\n",
    "<p>Let's take a look at the books we'll use in our recommendation system.</p>"
   ]
  },
  {
   "cell_type": "markdown",
   "metadata": {
    "dc": {
     "key": "3"
    },
    "slideshow": {
     "slide_type": "skip"
    },
    "tags": [
     "sample_code"
    ]
   },
   "source": [
    "# Imports"
   ]
  },
  {
   "cell_type": "markdown",
   "metadata": {
    "dc": {
     "key": "3"
    },
    "slideshow": {
     "slide_type": "skip"
    },
    "tags": [
     "sample_code"
    ]
   },
   "source": [
    "## Dependencies"
   ]
  },
  {
   "cell_type": "code",
   "execution_count": 8,
   "metadata": {
    "dc": {
     "key": "3"
    },
    "slideshow": {
     "slide_type": "skip"
    },
    "tags": [
     "sample_code"
    ]
   },
   "outputs": [],
   "source": [
    "import glob\n",
    "import re, os\n",
    "\n",
    "from tqdm import tqdm_notebook\n",
    "\n",
    "import pickle\n",
    "import pandas as pd\n",
    "\n",
    "from nltk.stem import PorterStemmer\n",
    "from gensim import corpora\n",
    "\n",
    "from gensim.models import TfidfModel\n",
    "from gensim import similarities\n",
    "\n",
    "import matplotlib.pyplot as plt\n",
    "%matplotlib inline\n",
    "\n",
    "from scipy.cluster import hierarchy"
   ]
  },
  {
   "cell_type": "code",
   "execution_count": 7,
   "metadata": {
    "dc": {
     "key": "3"
    },
    "slideshow": {
     "slide_type": "skip"
    },
    "tags": [
     "sample_code"
    ]
   },
   "outputs": [],
   "source": [
    "ps = PorterStemmer()"
   ]
  },
  {
   "cell_type": "code",
   "execution_count": null,
   "metadata": {
    "dc": {
     "key": "3"
    },
    "slideshow": {
     "slide_type": "skip"
    },
    "tags": [
     "sample_code"
    ]
   },
   "outputs": [],
   "source": []
  },
  {
   "cell_type": "markdown",
   "metadata": {
    "dc": {
     "key": "3"
    },
    "slideshow": {
     "slide_type": "skip"
    },
    "tags": [
     "sample_code"
    ]
   },
   "source": [
    "## Data"
   ]
  },
  {
   "cell_type": "code",
   "execution_count": 2,
   "metadata": {
    "dc": {
     "key": "3"
    },
    "slideshow": {
     "slide_type": "skip"
    },
    "tags": [
     "sample_code"
    ]
   },
   "outputs": [],
   "source": [
    "folder = \"datasets/\"\n",
    "\n",
    "files = glob.glob(folder + '*.txt')\n",
    "files.sort()"
   ]
  },
  {
   "cell_type": "code",
   "execution_count": 3,
   "metadata": {
    "dc": {
     "key": "10"
    },
    "slideshow": {
     "slide_type": "skip"
    },
    "tags": [
     "sample_code"
    ]
   },
   "outputs": [
    {
     "data": {
      "text/html": [
       "<div>\n",
       "<style scoped>\n",
       "    .dataframe tbody tr th:only-of-type {\n",
       "        vertical-align: middle;\n",
       "    }\n",
       "\n",
       "    .dataframe tbody tr th {\n",
       "        vertical-align: top;\n",
       "    }\n",
       "\n",
       "    .dataframe thead th {\n",
       "        text-align: right;\n",
       "    }\n",
       "</style>\n",
       "<table border=\"1\" class=\"dataframe\">\n",
       "  <thead>\n",
       "    <tr style=\"text-align: right;\">\n",
       "      <th></th>\n",
       "      <th>Title</th>\n",
       "      <th>#characters</th>\n",
       "    </tr>\n",
       "  </thead>\n",
       "  <tbody>\n",
       "    <tr>\n",
       "      <th>2</th>\n",
       "      <td>DescentofMan</td>\n",
       "      <td>1776539</td>\n",
       "    </tr>\n",
       "    <tr>\n",
       "      <th>13</th>\n",
       "      <td>MonographCirripediaVol2</td>\n",
       "      <td>1660866</td>\n",
       "    </tr>\n",
       "    <tr>\n",
       "      <th>19</th>\n",
       "      <td>VoyageBeagle</td>\n",
       "      <td>1149574</td>\n",
       "    </tr>\n",
       "    <tr>\n",
       "      <th>16</th>\n",
       "      <td>PowerMovementPlants</td>\n",
       "      <td>1093567</td>\n",
       "    </tr>\n",
       "    <tr>\n",
       "      <th>10</th>\n",
       "      <td>LifeandLettersVol1</td>\n",
       "      <td>1047518</td>\n",
       "    </tr>\n",
       "    <tr>\n",
       "      <th>17</th>\n",
       "      <td>VariationPlantsAnimalsDomestication</td>\n",
       "      <td>1043499</td>\n",
       "    </tr>\n",
       "    <tr>\n",
       "      <th>11</th>\n",
       "      <td>LifeandLettersVol2</td>\n",
       "      <td>1010643</td>\n",
       "    </tr>\n",
       "    <tr>\n",
       "      <th>15</th>\n",
       "      <td>OriginofSpecies</td>\n",
       "      <td>916267</td>\n",
       "    </tr>\n",
       "    <tr>\n",
       "      <th>4</th>\n",
       "      <td>EffectsCrossSelfFertilization</td>\n",
       "      <td>913713</td>\n",
       "    </tr>\n",
       "    <tr>\n",
       "      <th>9</th>\n",
       "      <td>InsectivorousPlants</td>\n",
       "      <td>901406</td>\n",
       "    </tr>\n",
       "    <tr>\n",
       "      <th>8</th>\n",
       "      <td>GeologicalObservationsSouthAmerica</td>\n",
       "      <td>797401</td>\n",
       "    </tr>\n",
       "    <tr>\n",
       "      <th>12</th>\n",
       "      <td>MonographCirripedia</td>\n",
       "      <td>767492</td>\n",
       "    </tr>\n",
       "    <tr>\n",
       "      <th>5</th>\n",
       "      <td>ExpressionofEmotionManAnimals</td>\n",
       "      <td>624232</td>\n",
       "    </tr>\n",
       "    <tr>\n",
       "      <th>3</th>\n",
       "      <td>DifferentFormsofFlowers</td>\n",
       "      <td>617088</td>\n",
       "    </tr>\n",
       "    <tr>\n",
       "      <th>7</th>\n",
       "      <td>FoundationsOriginofSpecies</td>\n",
       "      <td>523021</td>\n",
       "    </tr>\n",
       "    <tr>\n",
       "      <th>1</th>\n",
       "      <td>CoralReefs</td>\n",
       "      <td>496068</td>\n",
       "    </tr>\n",
       "    <tr>\n",
       "      <th>18</th>\n",
       "      <td>VolcanicIslands</td>\n",
       "      <td>341447</td>\n",
       "    </tr>\n",
       "    <tr>\n",
       "      <th>6</th>\n",
       "      <td>FormationVegetableMould</td>\n",
       "      <td>335920</td>\n",
       "    </tr>\n",
       "    <tr>\n",
       "      <th>14</th>\n",
       "      <td>MovementClimbingPlants</td>\n",
       "      <td>298319</td>\n",
       "    </tr>\n",
       "    <tr>\n",
       "      <th>0</th>\n",
       "      <td>Autobiography</td>\n",
       "      <td>123231</td>\n",
       "    </tr>\n",
       "  </tbody>\n",
       "</table>\n",
       "</div>"
      ],
      "text/plain": [
       "                                  Title  #characters\n",
       "2                          DescentofMan      1776539\n",
       "13              MonographCirripediaVol2      1660866\n",
       "19                         VoyageBeagle      1149574\n",
       "16                  PowerMovementPlants      1093567\n",
       "10                   LifeandLettersVol1      1047518\n",
       "17  VariationPlantsAnimalsDomestication      1043499\n",
       "11                   LifeandLettersVol2      1010643\n",
       "15                      OriginofSpecies       916267\n",
       "4         EffectsCrossSelfFertilization       913713\n",
       "9                   InsectivorousPlants       901406\n",
       "8    GeologicalObservationsSouthAmerica       797401\n",
       "12                  MonographCirripedia       767492\n",
       "5         ExpressionofEmotionManAnimals       624232\n",
       "3               DifferentFormsofFlowers       617088\n",
       "7            FoundationsOriginofSpecies       523021\n",
       "1                            CoralReefs       496068\n",
       "18                      VolcanicIslands       341447\n",
       "6               FormationVegetableMould       335920\n",
       "14               MovementClimbingPlants       298319\n",
       "0                         Autobiography       123231"
      ]
     },
     "execution_count": 3,
     "metadata": {},
     "output_type": "execute_result"
    }
   ],
   "source": [
    "txts = []\n",
    "titles = []\n",
    "\n",
    "for n in files:\n",
    "    f = open(n, encoding='utf-8-sig')\n",
    "    # Remove all non-alpha-numeric characters\n",
    "    txts.append(re.sub('[\\W_]+', ' ', f.read()))\n",
    "    titles.append(os.path.basename(n).replace(\".txt\", \"\"))\n",
    "\n",
    "# ['{} - {:,}'.format(title, len(txt)) for title, txt in zip(titles, txts)]\n",
    "\n",
    "pd.DataFrame(data = [\n",
    "    (title, len(txt)) for title, txt in zip(titles, txts)\n",
    "], columns=['Title', '#characters']).sort_values('#characters', ascending=False)"
   ]
  },
  {
   "cell_type": "code",
   "execution_count": 4,
   "metadata": {
    "dc": {
     "key": "17"
    },
    "slideshow": {
     "slide_type": "skip"
    },
    "tags": [
     "sample_code"
    ]
   },
   "outputs": [
    {
     "data": {
      "text/plain": [
       "15"
      ]
     },
     "execution_count": 4,
     "metadata": {},
     "output_type": "execute_result"
    }
   ],
   "source": [
    "# for i in range(len(titles)):\n",
    "#     if titles[i] == 'OriginofSpecies':\n",
    "#         ori = i\n",
    "\n",
    "book_index = titles.index('OriginofSpecies')\n",
    "book_index"
   ]
  },
  {
   "cell_type": "markdown",
   "metadata": {
    "dc": {
     "key": "24"
    },
    "slideshow": {
     "slide_type": "skip"
    },
    "tags": [
     "context"
    ]
   },
   "source": [
    "## Tokenize"
   ]
  },
  {
   "cell_type": "code",
   "execution_count": 19,
   "metadata": {
    "dc": {
     "key": "24"
    },
    "slideshow": {
     "slide_type": "skip"
    },
    "tags": [
     "sample_code"
    ]
   },
   "outputs": [
    {
     "name": "stdout",
     "output_type": "stream",
     "text": [
      "['on', 'origin', 'species', 'but', 'with', 'regard', 'material', 'world', 'can', 'least', 'go', 'so', 'far', 'this', 'can', 'perceive', 'events', 'are', 'brought', 'about']\n",
      "CPU times: user 559 ms, sys: 71.8 ms, total: 631 ms\n",
      "Wall time: 639 ms\n"
     ]
    }
   ],
   "source": [
    "%%time\n",
    "\n",
    "# stop words\n",
    "stoplist = set('for a of the and to in to be which some is at that we i who whom show via may my our might as well'.split())\n",
    "\n",
    "txts_lower_case = [txt.lower() for txt in txts]\n",
    "txts_split = [txt.split() for txt in txts_lower_case]\n",
    "texts = [[word for word in txt if word not in stoplist] for txt in txts_split]\n",
    "\n",
    "print(texts[book_index][:20])"
   ]
  },
  {
   "cell_type": "markdown",
   "metadata": {
    "dc": {
     "key": "31"
    },
    "slideshow": {
     "slide_type": "skip"
    },
    "tags": [
     "context"
    ]
   },
   "source": [
    "## Stemming\n",
    "<p>As we are analysing 20 full books, the stemming algorithm can take several minutes to run and, in order to make the process faster, we will directly load the final results from a pickle file and review the method used to generate it.</p>"
   ]
  },
  {
   "cell_type": "code",
   "execution_count": 21,
   "metadata": {
    "dc": {
     "key": "31"
    },
    "slideshow": {
     "slide_type": "skip"
    },
    "tags": [
     "sample_code"
    ]
   },
   "outputs": [],
   "source": [
    "# # Load the stemmed tokens list from the pregenerated pickle file\n",
    "# texts_stem = pickle.load( open( 'datasets/texts_stem.p', 'rb' ) )"
   ]
  },
  {
   "cell_type": "code",
   "execution_count": 22,
   "metadata": {
    "slideshow": {
     "slide_type": "skip"
    }
   },
   "outputs": [
    {
     "name": "stderr",
     "output_type": "stream",
     "text": [
      "/usr/local/lib/python3.5/dist-packages/ipykernel_launcher.py:5: TqdmDeprecationWarning: This function will be removed in tqdm==5.0.0\n",
      "Please use `tqdm.notebook.tqdm` instead of `tqdm.tqdm_notebook`\n",
      "  \"\"\"\n"
     ]
    },
    {
     "data": {
      "application/vnd.jupyter.widget-view+json": {
       "model_id": "11b75b5dc9bb4fca852650351ca0eba7",
       "version_major": 2,
       "version_minor": 0
      },
      "text/plain": [
       "HBox(children=(FloatProgress(value=0.0, max=20.0), HTML(value='')))"
      ]
     },
     "metadata": {},
     "output_type": "display_data"
    },
    {
     "name": "stdout",
     "output_type": "stream",
     "text": [
      "\n",
      "['on', 'origin', 'speci', 'but', 'with', 'regard', 'materi', 'world', 'can', 'least', 'go', 'so', 'far', 'thi', 'can', 'perceiv', 'event', 'are', 'brought', 'about']\n",
      "CPU times: user 55.4 s, sys: 28.9 ms, total: 55.4 s\n",
      "Wall time: 55.6 s\n"
     ]
    }
   ],
   "source": [
    "%%time\n",
    "\n",
    "# texts_stem = [[ps.stem(word) for word in text] for text in texts]\n",
    "\n",
    "texts_stem = []\n",
    "for i in tqdm_notebook(range(len(texts))):\n",
    "    book_stemmed = []\n",
    "    \n",
    "    for word in texts[i]:\n",
    "        book_stemmed.append( ps.stem(word) )\n",
    "    \n",
    "    texts_stem.append(book_stemmed)\n",
    "\n",
    "print(texts_stem[book_index][:20])"
   ]
  },
  {
   "cell_type": "code",
   "execution_count": null,
   "metadata": {
    "slideshow": {
     "slide_type": "skip"
    }
   },
   "outputs": [],
   "source": []
  },
  {
   "cell_type": "markdown",
   "metadata": {
    "slideshow": {
     "slide_type": "skip"
    }
   },
   "source": [
    "# Modelling"
   ]
  },
  {
   "cell_type": "markdown",
   "metadata": {
    "dc": {
     "key": "38"
    },
    "slideshow": {
     "slide_type": "skip"
    },
    "tags": [
     "context"
    ]
   },
   "source": [
    "## Building a bag-of-words model\n",
    "<p>Now that we have transformed the texts into stemmed tokens, we need to build models that will be useable by downstream algorithms.</p>\n",
    "<p>First, we need to will create a universe of all words contained in our corpus of Charles Darwin's books, which we call <em>a dictionary</em>. Then, using the stemmed tokens and the dictionary, we will create <strong>bag-of-words models</strong> (BoW) of each of our texts. The BoW models will represent our books as a list of all uniques tokens they contain associated with their respective number of occurrences. </p>\n",
    "<p>To better understand the structure of such a model, we will print the five first elements of one of the \"<em>On the Origin of Species</em>\" BoW model.</p>"
   ]
  },
  {
   "cell_type": "code",
   "execution_count": 12,
   "metadata": {
    "dc": {
     "key": "38"
    },
    "slideshow": {
     "slide_type": "skip"
    },
    "tags": [
     "sample_code"
    ]
   },
   "outputs": [
    {
     "name": "stdout",
     "output_type": "stream",
     "text": [
      "[(0, 11), (5, 51), (6, 1), (8, 2), (21, 1)]\n"
     ]
    }
   ],
   "source": [
    "dictionary = corpora.Dictionary(texts_stem)\n",
    "\n",
    "# Create a bag-of-words model for each book, using the previously generated dictionary\n",
    "bows = [dictionary.doc2bow(txt) for txt in texts_stem]\n",
    "\n",
    "print(bows[book_index][:5])"
   ]
  },
  {
   "cell_type": "markdown",
   "metadata": {
    "dc": {
     "key": "45"
    },
    "slideshow": {
     "slide_type": "skip"
    },
    "tags": [
     "context"
    ]
   },
   "source": [
    "## The most common words of a given book\n",
    "<p>The results returned by the bag-of-words model is certainly easy to use for a computer but hard to interpret for a human. It is not straightforward to understand which stemmed tokens are present in a given book from Charles Darwin, and how many occurrences we can find.</p>\n",
    "<p>In order to better understand how the model has been generated and visualize its content, we will transform it into a DataFrame and display the 10 most common stems for the book \"<em>On the Origin of Species</em>\".</p>"
   ]
  },
  {
   "cell_type": "code",
   "execution_count": 13,
   "metadata": {
    "dc": {
     "key": "45"
    },
    "slideshow": {
     "slide_type": "skip"
    },
    "tags": [
     "sample_code"
    ]
   },
   "outputs": [
    {
     "data": {
      "text/html": [
       "<div>\n",
       "<style scoped>\n",
       "    .dataframe tbody tr th:only-of-type {\n",
       "        vertical-align: middle;\n",
       "    }\n",
       "\n",
       "    .dataframe tbody tr th {\n",
       "        vertical-align: top;\n",
       "    }\n",
       "\n",
       "    .dataframe thead th {\n",
       "        text-align: right;\n",
       "    }\n",
       "</style>\n",
       "<table border=\"1\" class=\"dataframe\">\n",
       "  <thead>\n",
       "    <tr style=\"text-align: right;\">\n",
       "      <th></th>\n",
       "      <th>index</th>\n",
       "      <th>occurrences</th>\n",
       "      <th>token</th>\n",
       "    </tr>\n",
       "  </thead>\n",
       "  <tbody>\n",
       "    <tr>\n",
       "      <th>748</th>\n",
       "      <td>1168</td>\n",
       "      <td>2023</td>\n",
       "      <td>histori</td>\n",
       "    </tr>\n",
       "    <tr>\n",
       "      <th>1119</th>\n",
       "      <td>1736</td>\n",
       "      <td>1558</td>\n",
       "      <td>by</td>\n",
       "    </tr>\n",
       "    <tr>\n",
       "      <th>1489</th>\n",
       "      <td>2288</td>\n",
       "      <td>1543</td>\n",
       "      <td>somewhat</td>\n",
       "    </tr>\n",
       "    <tr>\n",
       "      <th>892</th>\n",
       "      <td>1366</td>\n",
       "      <td>1480</td>\n",
       "      <td>have</td>\n",
       "    </tr>\n",
       "    <tr>\n",
       "      <th>239</th>\n",
       "      <td>393</td>\n",
       "      <td>1362</td>\n",
       "      <td>intercross</td>\n",
       "    </tr>\n",
       "    <tr>\n",
       "      <th>1128</th>\n",
       "      <td>1747</td>\n",
       "      <td>1201</td>\n",
       "      <td>speci</td>\n",
       "    </tr>\n",
       "    <tr>\n",
       "      <th>125</th>\n",
       "      <td>218</td>\n",
       "      <td>1140</td>\n",
       "      <td>domest</td>\n",
       "    </tr>\n",
       "    <tr>\n",
       "      <th>665</th>\n",
       "      <td>1043</td>\n",
       "      <td>1137</td>\n",
       "      <td>mysteri</td>\n",
       "    </tr>\n",
       "    <tr>\n",
       "      <th>1774</th>\n",
       "      <td>2703</td>\n",
       "      <td>1000</td>\n",
       "      <td>perfectli</td>\n",
       "    </tr>\n",
       "    <tr>\n",
       "      <th>1609</th>\n",
       "      <td>2452</td>\n",
       "      <td>962</td>\n",
       "      <td>effect</td>\n",
       "    </tr>\n",
       "  </tbody>\n",
       "</table>\n",
       "</div>"
      ],
      "text/plain": [
       "      index  occurrences       token\n",
       "748    1168         2023     histori\n",
       "1119   1736         1558          by\n",
       "1489   2288         1543    somewhat\n",
       "892    1366         1480        have\n",
       "239     393         1362  intercross\n",
       "1128   1747         1201       speci\n",
       "125     218         1140      domest\n",
       "665    1043         1137     mysteri\n",
       "1774   2703         1000   perfectli\n",
       "1609   2452          962      effect"
      ]
     },
     "execution_count": 13,
     "metadata": {},
     "output_type": "execute_result"
    }
   ],
   "source": [
    "# Convert the BoW model for \"On the Origin of Species\" into a DataFrame\n",
    "df_bow_origin = pd.DataFrame(bows[book_index], columns=['index', 'occurrences'])\n",
    "\n",
    "# Add a column containing the token corresponding to the dictionary index\n",
    "df_bow_origin['token'] = df_bow_origin['index'].apply(lambda i: texts_stem[book_index][i])\n",
    "\n",
    "df_bow_origin.sort_values('occurrences', ascending=False).head(10)"
   ]
  },
  {
   "cell_type": "markdown",
   "metadata": {
    "dc": {
     "key": "52"
    },
    "slideshow": {
     "slide_type": "skip"
    },
    "tags": [
     "context"
    ]
   },
   "source": [
    "## Build a tf-idf model\n",
    "<p>If it wasn't for the presence of the stem \"<em>speci</em>\", we would have a hard time to guess this BoW model comes from the <em>On the Origin of Species</em> book. The most recurring words are, apart from few exceptions, very common and unlikely to carry any information peculiar to the given book. We need to use an additional step in order to determine which tokens are the most specific to a book.</p>\n",
    "<p>To do so, we will use a <strong>tf-idf model</strong> (term frequency–inverse document frequency). This model defines the importance of each word depending on how frequent it is in this text and how infrequent it is in all the other documents. As a result, a high tf-idf score for a word will indicate that this word is specific to this text.</p>\n",
    "<p>After computing those scores, we will print the 10 words most specific to the \"<em>On the Origin of Species</em>\" book (i.e., the 10 words with the highest tf-idf score).</p>"
   ]
  },
  {
   "cell_type": "code",
   "execution_count": 20,
   "metadata": {
    "dc": {
     "key": "52"
    },
    "slideshow": {
     "slide_type": "skip"
    },
    "tags": [
     "sample_code"
    ]
   },
   "outputs": [
    {
     "name": "stdout",
     "output_type": "stream",
     "text": [
      "4405\n"
     ]
    }
   ],
   "source": [
    "model = TfidfModel(bows)\n",
    "\n",
    "# Print the model for \"On the Origin of Species\"\n",
    "print(len(model[bows[book_index]]))"
   ]
  },
  {
   "cell_type": "markdown",
   "metadata": {
    "dc": {
     "key": "59"
    },
    "slideshow": {
     "slide_type": "skip"
    },
    "tags": [
     "context"
    ]
   },
   "source": [
    "## The results of the tf-idf model\n",
    "<p>Once again, the format of those results is hard to interpret for a human. Therefore, we will transform it into a more readable version and display the 10 most specific words for the \"<em>On the Origin of Species</em>\" book.</p>"
   ]
  },
  {
   "cell_type": "code",
   "execution_count": 15,
   "metadata": {
    "dc": {
     "key": "59"
    },
    "slideshow": {
     "slide_type": "skip"
    },
    "tags": [
     "sample_code"
    ]
   },
   "outputs": [
    {
     "data": {
      "text/html": [
       "<div>\n",
       "<style scoped>\n",
       "    .dataframe tbody tr th:only-of-type {\n",
       "        vertical-align: middle;\n",
       "    }\n",
       "\n",
       "    .dataframe tbody tr th {\n",
       "        vertical-align: top;\n",
       "    }\n",
       "\n",
       "    .dataframe thead th {\n",
       "        text-align: right;\n",
       "    }\n",
       "</style>\n",
       "<table border=\"1\" class=\"dataframe\">\n",
       "  <thead>\n",
       "    <tr style=\"text-align: right;\">\n",
       "      <th></th>\n",
       "      <th>id</th>\n",
       "      <th>score</th>\n",
       "      <th>token</th>\n",
       "    </tr>\n",
       "  </thead>\n",
       "  <tbody>\n",
       "    <tr>\n",
       "      <th>880</th>\n",
       "      <td>2164</td>\n",
       "      <td>0.327823</td>\n",
       "      <td>variat</td>\n",
       "    </tr>\n",
       "    <tr>\n",
       "      <th>3103</th>\n",
       "      <td>10108</td>\n",
       "      <td>0.204162</td>\n",
       "      <td>alway</td>\n",
       "    </tr>\n",
       "    <tr>\n",
       "      <th>128</th>\n",
       "      <td>369</td>\n",
       "      <td>0.197968</td>\n",
       "      <td>it</td>\n",
       "    </tr>\n",
       "    <tr>\n",
       "      <th>2985</th>\n",
       "      <td>9395</td>\n",
       "      <td>0.167705</td>\n",
       "      <td>frequent</td>\n",
       "    </tr>\n",
       "    <tr>\n",
       "      <th>947</th>\n",
       "      <td>2325</td>\n",
       "      <td>0.148371</td>\n",
       "      <td>gener</td>\n",
       "    </tr>\n",
       "    <tr>\n",
       "      <th>285</th>\n",
       "      <td>752</td>\n",
       "      <td>0.146172</td>\n",
       "      <td>slow</td>\n",
       "    </tr>\n",
       "    <tr>\n",
       "      <th>504</th>\n",
       "      <td>1255</td>\n",
       "      <td>0.128433</td>\n",
       "      <td>reader</td>\n",
       "    </tr>\n",
       "    <tr>\n",
       "      <th>371</th>\n",
       "      <td>966</td>\n",
       "      <td>0.127694</td>\n",
       "      <td>458</td>\n",
       "    </tr>\n",
       "    <tr>\n",
       "      <th>3840</th>\n",
       "      <td>16046</td>\n",
       "      <td>0.124547</td>\n",
       "      <td>epidem</td>\n",
       "    </tr>\n",
       "    <tr>\n",
       "      <th>3536</th>\n",
       "      <td>12729</td>\n",
       "      <td>0.121348</td>\n",
       "      <td>are</td>\n",
       "    </tr>\n",
       "  </tbody>\n",
       "</table>\n",
       "</div>"
      ],
      "text/plain": [
       "         id     score     token\n",
       "880    2164  0.327823    variat\n",
       "3103  10108  0.204162     alway\n",
       "128     369  0.197968        it\n",
       "2985   9395  0.167705  frequent\n",
       "947    2325  0.148371     gener\n",
       "285     752  0.146172      slow\n",
       "504    1255  0.128433    reader\n",
       "371     966  0.127694       458\n",
       "3840  16046  0.124547    epidem\n",
       "3536  12729  0.121348       are"
      ]
     },
     "execution_count": 15,
     "metadata": {},
     "output_type": "execute_result"
    }
   ],
   "source": [
    "# Convert the tf-idf model for \"On the Origin of Species\" into a DataFrame\n",
    "df_tfidf = pd.DataFrame(model[bows[book_index]], columns=['id', 'score'])\n",
    "\n",
    "# Add the tokens corresponding to the numerical indices for better readability\n",
    "df_tfidf['token'] = df_tfidf['id'].apply(lambda i: texts_stem[book_index][i])\n",
    "\n",
    "df_tfidf.sort_values('score', ascending=False).head(10)"
   ]
  },
  {
   "cell_type": "markdown",
   "metadata": {
    "dc": {
     "key": "66"
    },
    "slideshow": {
     "slide_type": "skip"
    },
    "tags": [
     "context"
    ]
   },
   "source": [
    "## Compute distance between texts\n",
    "<p>The results of the tf-idf algorithm now return stemmed tokens which are specific to each book. We can, for example, see that topics such as selection, breeding or domestication are defining \"<em>On the Origin of Species</em>\" (and yes, in this book, Charles Darwin talks quite a lot about pigeons too). Now that we have a model associating tokens to how specific they are to each book, we can measure how related to books are between each other.</p>\n",
    "<p>To this purpose, we will use a measure of similarity called <strong>cosine similarity</strong> and we will visualize the results as a distance matrix, i.e., a matrix showing all pairwise distances between Darwin's books.</p>"
   ]
  },
  {
   "cell_type": "code",
   "execution_count": 16,
   "metadata": {
    "dc": {
     "key": "66"
    },
    "slideshow": {
     "slide_type": "skip"
    },
    "tags": [
     "sample_code"
    ]
   },
   "outputs": [
    {
     "name": "stderr",
     "output_type": "stream",
     "text": [
      "/usr/local/lib/python3.5/dist-packages/gensim/matutils.py:737: FutureWarning: Conversion of the second argument of issubdtype from `int` to `np.signedinteger` is deprecated. In future, it will be treated as `np.int64 == np.dtype(int).type`.\n",
      "  if np.issubdtype(vec.dtype, np.int):\n"
     ]
    },
    {
     "name": "stdout",
     "output_type": "stream",
     "text": [
      "                                     Autobiography  CoralReefs  DescentofMan  \\\n",
      "Autobiography                             1.000000    0.049722      0.080789   \n",
      "CoralReefs                                0.049722    1.000000      0.009516   \n",
      "DescentofMan                              0.080789    0.009516      1.000000   \n",
      "DifferentFormsofFlowers                   0.066615    0.001980      0.072792   \n",
      "EffectsCrossSelfFertilization             0.077006    0.001936      0.029997   \n",
      "ExpressionofEmotionManAnimals             0.089345    0.005062      0.148642   \n",
      "FormationVegetableMould                   0.041182    0.029445      0.027106   \n",
      "FoundationsOriginofSpecies                0.058990    0.022066      0.135001   \n",
      "GeologicalObservationsSouthAmerica        0.030679    0.060744      0.009628   \n",
      "InsectivorousPlants                       0.014945    0.002284      0.009468   \n",
      "LifeandLettersVol1                        0.399534    0.031211      0.060040   \n",
      "LifeandLettersVol2                        0.220023    0.017772      0.080569   \n",
      "MonographCirripedia                       0.005854    0.006321      0.053426   \n",
      "MonographCirripediaVol2                   0.008456    0.010497      0.042937   \n",
      "MovementClimbingPlants                    0.022999    0.001534      0.005157   \n",
      "OriginofSpecies                           0.101199    0.039200      0.267734   \n",
      "PowerMovementPlants                       0.016059    0.002686      0.011267   \n",
      "VariationPlantsAnimalsDomestication       0.048989    0.011383      0.228437   \n",
      "VolcanicIslands                           0.038630    0.057402      0.007885   \n",
      "VoyageBeagle                              0.184288    0.267414      0.123902   \n",
      "\n",
      "                                     DifferentFormsofFlowers  \\\n",
      "Autobiography                                       0.066615   \n",
      "CoralReefs                                          0.001980   \n",
      "DescentofMan                                        0.072792   \n",
      "DifferentFormsofFlowers                             1.000000   \n",
      "EffectsCrossSelfFertilization                       0.391788   \n",
      "ExpressionofEmotionManAnimals                       0.006545   \n",
      "FormationVegetableMould                             0.010621   \n",
      "FoundationsOriginofSpecies                          0.039993   \n",
      "GeologicalObservationsSouthAmerica                  0.002855   \n",
      "InsectivorousPlants                                 0.007487   \n",
      "LifeandLettersVol1                                  0.016188   \n",
      "LifeandLettersVol2                                  0.046692   \n",
      "MonographCirripedia                                 0.009403   \n",
      "MonographCirripediaVol2                             0.005451   \n",
      "MovementClimbingPlants                              0.008165   \n",
      "OriginofSpecies                                     0.129152   \n",
      "PowerMovementPlants                                 0.018831   \n",
      "VariationPlantsAnimalsDomestication                 0.049405   \n",
      "VolcanicIslands                                     0.002624   \n",
      "VoyageBeagle                                        0.013213   \n",
      "\n",
      "                                     EffectsCrossSelfFertilization  \\\n",
      "Autobiography                                             0.077006   \n",
      "CoralReefs                                                0.001936   \n",
      "DescentofMan                                              0.029997   \n",
      "DifferentFormsofFlowers                                   0.391788   \n",
      "EffectsCrossSelfFertilization                             1.000000   \n",
      "ExpressionofEmotionManAnimals                             0.006871   \n",
      "FormationVegetableMould                                   0.032270   \n",
      "FoundationsOriginofSpecies                                0.040248   \n",
      "GeologicalObservationsSouthAmerica                        0.002247   \n",
      "InsectivorousPlants                                       0.006763   \n",
      "LifeandLettersVol1                                        0.019609   \n",
      "LifeandLettersVol2                                        0.046567   \n",
      "MonographCirripedia                                       0.003218   \n",
      "MonographCirripediaVol2                                   0.002957   \n",
      "MovementClimbingPlants                                    0.014939   \n",
      "OriginofSpecies                                           0.146700   \n",
      "PowerMovementPlants                                       0.039520   \n",
      "VariationPlantsAnimalsDomestication                       0.054458   \n",
      "VolcanicIslands                                           0.002183   \n",
      "VoyageBeagle                                              0.017183   \n",
      "\n",
      "                                     ExpressionofEmotionManAnimals  \\\n",
      "Autobiography                                             0.089345   \n",
      "CoralReefs                                                0.005062   \n",
      "DescentofMan                                              0.148642   \n",
      "DifferentFormsofFlowers                                   0.006545   \n",
      "EffectsCrossSelfFertilization                             0.006871   \n",
      "ExpressionofEmotionManAnimals                             1.000000   \n",
      "FormationVegetableMould                                   0.021066   \n",
      "FoundationsOriginofSpecies                                0.047103   \n",
      "GeologicalObservationsSouthAmerica                        0.005246   \n",
      "InsectivorousPlants                                       0.011461   \n",
      "LifeandLettersVol1                                        0.065391   \n",
      "LifeandLettersVol2                                        0.049333   \n",
      "MonographCirripedia                                       0.016802   \n",
      "MonographCirripediaVol2                                   0.029644   \n",
      "MovementClimbingPlants                                    0.005942   \n",
      "OriginofSpecies                                           0.063242   \n",
      "PowerMovementPlants                                       0.011234   \n",
      "VariationPlantsAnimalsDomestication                       0.082567   \n",
      "VolcanicIslands                                           0.005595   \n",
      "VoyageBeagle                                              0.099124   \n",
      "\n",
      "                                     FormationVegetableMould  \\\n",
      "Autobiography                                       0.041182   \n",
      "CoralReefs                                          0.029445   \n",
      "DescentofMan                                        0.027106   \n",
      "DifferentFormsofFlowers                             0.010621   \n",
      "EffectsCrossSelfFertilization                       0.032270   \n",
      "ExpressionofEmotionManAnimals                       0.021066   \n",
      "FormationVegetableMould                             1.000000   \n",
      "FoundationsOriginofSpecies                          0.021468   \n",
      "GeologicalObservationsSouthAmerica                  0.067712   \n",
      "InsectivorousPlants                                 0.035498   \n",
      "LifeandLettersVol1                                  0.028357   \n",
      "LifeandLettersVol2                                  0.023943   \n",
      "MonographCirripedia                                 0.019864   \n",
      "MonographCirripediaVol2                             0.023915   \n",
      "MovementClimbingPlants                              0.038823   \n",
      "OriginofSpecies                                     0.049519   \n",
      "PowerMovementPlants                                 0.039911   \n",
      "VariationPlantsAnimalsDomestication                 0.032647   \n",
      "VolcanicIslands                                     0.059299   \n",
      "VoyageBeagle                                        0.098331   \n",
      "\n",
      "                                     FoundationsOriginofSpecies  \\\n",
      "Autobiography                                          0.058990   \n",
      "CoralReefs                                             0.022066   \n",
      "DescentofMan                                           0.135001   \n",
      "DifferentFormsofFlowers                                0.039993   \n",
      "EffectsCrossSelfFertilization                          0.040248   \n",
      "ExpressionofEmotionManAnimals                          0.047103   \n",
      "FormationVegetableMould                                0.021468   \n",
      "FoundationsOriginofSpecies                             1.000000   \n",
      "GeologicalObservationsSouthAmerica                     0.027300   \n",
      "InsectivorousPlants                                    0.005995   \n",
      "LifeandLettersVol1                                     0.057749   \n",
      "LifeandLettersVol2                                     0.054703   \n",
      "MonographCirripedia                                    0.007650   \n",
      "MonographCirripediaVol2                                0.010762   \n",
      "MovementClimbingPlants                                 0.003971   \n",
      "OriginofSpecies                                        0.322736   \n",
      "PowerMovementPlants                                    0.008712   \n",
      "VariationPlantsAnimalsDomestication                    0.196578   \n",
      "VolcanicIslands                                        0.017528   \n",
      "VoyageBeagle                                           0.089075   \n",
      "\n",
      "                                     GeologicalObservationsSouthAmerica  \\\n",
      "Autobiography                                                  0.030679   \n",
      "CoralReefs                                                     0.060744   \n",
      "DescentofMan                                                   0.009628   \n",
      "DifferentFormsofFlowers                                        0.002855   \n",
      "EffectsCrossSelfFertilization                                  0.002247   \n",
      "ExpressionofEmotionManAnimals                                  0.005246   \n",
      "FormationVegetableMould                                        0.067712   \n",
      "FoundationsOriginofSpecies                                     0.027300   \n",
      "GeologicalObservationsSouthAmerica                             1.000000   \n",
      "InsectivorousPlants                                            0.006844   \n",
      "LifeandLettersVol1                                             0.028691   \n",
      "LifeandLettersVol2                                             0.012241   \n",
      "MonographCirripedia                                            0.009260   \n",
      "MonographCirripediaVol2                                        0.023486   \n",
      "MovementClimbingPlants                                         0.002046   \n",
      "OriginofSpecies                                                0.052878   \n",
      "PowerMovementPlants                                            0.003450   \n",
      "VariationPlantsAnimalsDomestication                            0.013737   \n",
      "VolcanicIslands                                                0.372272   \n",
      "VoyageBeagle                                                   0.259514   \n",
      "\n",
      "                                     InsectivorousPlants  LifeandLettersVol1  \\\n",
      "Autobiography                                   0.014945            0.399534   \n",
      "CoralReefs                                      0.002284            0.031211   \n",
      "DescentofMan                                    0.009468            0.060040   \n",
      "DifferentFormsofFlowers                         0.007487            0.016188   \n",
      "EffectsCrossSelfFertilization                   0.006763            0.019609   \n",
      "ExpressionofEmotionManAnimals                   0.011461            0.065391   \n",
      "FormationVegetableMould                         0.035498            0.028357   \n",
      "FoundationsOriginofSpecies                      0.005995            0.057749   \n",
      "GeologicalObservationsSouthAmerica              0.006844            0.028691   \n",
      "InsectivorousPlants                             1.000001            0.006062   \n",
      "LifeandLettersVol1                              0.006062            1.000000   \n",
      "LifeandLettersVol2                              0.016549            0.885953   \n",
      "MonographCirripedia                             0.019091            0.005839   \n",
      "MonographCirripediaVol2                         0.019657            0.012716   \n",
      "MovementClimbingPlants                          0.249011            0.005533   \n",
      "OriginofSpecies                                 0.014982            0.098352   \n",
      "PowerMovementPlants                             0.022841            0.009439   \n",
      "VariationPlantsAnimalsDomestication             0.010321            0.054805   \n",
      "VolcanicIslands                                 0.008526            0.026517   \n",
      "VoyageBeagle                                    0.014758            0.172502   \n",
      "\n",
      "                                     LifeandLettersVol2  MonographCirripedia  \\\n",
      "Autobiography                                  0.220023             0.005854   \n",
      "CoralReefs                                     0.017772             0.006321   \n",
      "DescentofMan                                   0.080569             0.053426   \n",
      "DifferentFormsofFlowers                        0.046692             0.009403   \n",
      "EffectsCrossSelfFertilization                  0.046567             0.003218   \n",
      "ExpressionofEmotionManAnimals                  0.049333             0.016802   \n",
      "FormationVegetableMould                        0.023943             0.019864   \n",
      "FoundationsOriginofSpecies                     0.054703             0.007650   \n",
      "GeologicalObservationsSouthAmerica             0.012241             0.009260   \n",
      "InsectivorousPlants                            0.016549             0.019091   \n",
      "LifeandLettersVol1                             0.885953             0.005839   \n",
      "LifeandLettersVol2                             1.000000             0.004961   \n",
      "MonographCirripedia                            0.004961             1.000000   \n",
      "MonographCirripediaVol2                        0.010570             0.516038   \n",
      "MovementClimbingPlants                         0.017673             0.012450   \n",
      "OriginofSpecies                                0.097736             0.031278   \n",
      "PowerMovementPlants                            0.012017             0.018565   \n",
      "VariationPlantsAnimalsDomestication            0.050260             0.022999   \n",
      "VolcanicIslands                                0.011930             0.010054   \n",
      "VoyageBeagle                                   0.090674             0.014269   \n",
      "\n",
      "                                     MonographCirripediaVol2  \\\n",
      "Autobiography                                       0.008456   \n",
      "CoralReefs                                          0.010497   \n",
      "DescentofMan                                        0.042937   \n",
      "DifferentFormsofFlowers                             0.005451   \n",
      "EffectsCrossSelfFertilization                       0.002957   \n",
      "ExpressionofEmotionManAnimals                       0.029644   \n",
      "FormationVegetableMould                             0.023915   \n",
      "FoundationsOriginofSpecies                          0.010762   \n",
      "GeologicalObservationsSouthAmerica                  0.023486   \n",
      "InsectivorousPlants                                 0.019657   \n",
      "LifeandLettersVol1                                  0.012716   \n",
      "LifeandLettersVol2                                  0.010570   \n",
      "MonographCirripedia                                 0.516038   \n",
      "MonographCirripediaVol2                             1.000000   \n",
      "MovementClimbingPlants                              0.006762   \n",
      "OriginofSpecies                                     0.037865   \n",
      "PowerMovementPlants                                 0.022154   \n",
      "VariationPlantsAnimalsDomestication                 0.029694   \n",
      "VolcanicIslands                                     0.016404   \n",
      "VoyageBeagle                                        0.024734   \n",
      "\n",
      "                                     MovementClimbingPlants  OriginofSpecies  \\\n",
      "Autobiography                                      0.022999         0.101199   \n",
      "CoralReefs                                         0.001534         0.039200   \n",
      "DescentofMan                                       0.005157         0.267734   \n",
      "DifferentFormsofFlowers                            0.008165         0.129152   \n",
      "EffectsCrossSelfFertilization                      0.014939         0.146700   \n",
      "ExpressionofEmotionManAnimals                      0.005942         0.063242   \n",
      "FormationVegetableMould                            0.038823         0.049519   \n",
      "FoundationsOriginofSpecies                         0.003971         0.322736   \n",
      "GeologicalObservationsSouthAmerica                 0.002046         0.052878   \n",
      "InsectivorousPlants                                0.249011         0.014982   \n",
      "LifeandLettersVol1                                 0.005533         0.098352   \n",
      "LifeandLettersVol2                                 0.017673         0.097736   \n",
      "MonographCirripedia                                0.012450         0.031278   \n",
      "MonographCirripediaVol2                            0.006762         0.037865   \n",
      "MovementClimbingPlants                             1.000000         0.008858   \n",
      "OriginofSpecies                                    0.008858         1.000000   \n",
      "PowerMovementPlants                                0.104310         0.018170   \n",
      "VariationPlantsAnimalsDomestication                0.011361         0.404093   \n",
      "VolcanicIslands                                    0.002842         0.035924   \n",
      "VoyageBeagle                                       0.012328         0.165247   \n",
      "\n",
      "                                     PowerMovementPlants  \\\n",
      "Autobiography                                   0.016059   \n",
      "CoralReefs                                      0.002686   \n",
      "DescentofMan                                    0.011267   \n",
      "DifferentFormsofFlowers                         0.018831   \n",
      "EffectsCrossSelfFertilization                   0.039520   \n",
      "ExpressionofEmotionManAnimals                   0.011234   \n",
      "FormationVegetableMould                         0.039911   \n",
      "FoundationsOriginofSpecies                      0.008712   \n",
      "GeologicalObservationsSouthAmerica              0.003450   \n",
      "InsectivorousPlants                             0.022841   \n",
      "LifeandLettersVol1                              0.009439   \n",
      "LifeandLettersVol2                              0.012017   \n",
      "MonographCirripedia                             0.018565   \n",
      "MonographCirripediaVol2                         0.022154   \n",
      "MovementClimbingPlants                          0.104310   \n",
      "OriginofSpecies                                 0.018170   \n",
      "PowerMovementPlants                             1.000000   \n",
      "VariationPlantsAnimalsDomestication             0.020184   \n",
      "VolcanicIslands                                 0.003787   \n",
      "VoyageBeagle                                    0.023967   \n",
      "\n",
      "                                     VariationPlantsAnimalsDomestication  \\\n",
      "Autobiography                                                   0.048989   \n",
      "CoralReefs                                                      0.011383   \n",
      "DescentofMan                                                    0.228437   \n",
      "DifferentFormsofFlowers                                         0.049405   \n",
      "EffectsCrossSelfFertilization                                   0.054458   \n",
      "ExpressionofEmotionManAnimals                                   0.082567   \n",
      "FormationVegetableMould                                         0.032647   \n",
      "FoundationsOriginofSpecies                                      0.196578   \n",
      "GeologicalObservationsSouthAmerica                              0.013737   \n",
      "InsectivorousPlants                                             0.010321   \n",
      "LifeandLettersVol1                                              0.054805   \n",
      "LifeandLettersVol2                                              0.050260   \n",
      "MonographCirripedia                                             0.022999   \n",
      "MonographCirripediaVol2                                         0.029694   \n",
      "MovementClimbingPlants                                          0.011361   \n",
      "OriginofSpecies                                                 0.404093   \n",
      "PowerMovementPlants                                             0.020184   \n",
      "VariationPlantsAnimalsDomestication                             1.000000   \n",
      "VolcanicIslands                                                 0.012210   \n",
      "VoyageBeagle                                                    0.112421   \n",
      "\n",
      "                                     VolcanicIslands  VoyageBeagle  \n",
      "Autobiography                               0.038630      0.184288  \n",
      "CoralReefs                                  0.057402      0.267414  \n",
      "DescentofMan                                0.007885      0.123902  \n",
      "DifferentFormsofFlowers                     0.002624      0.013213  \n",
      "EffectsCrossSelfFertilization               0.002183      0.017183  \n",
      "ExpressionofEmotionManAnimals               0.005595      0.099124  \n",
      "FormationVegetableMould                     0.059299      0.098331  \n",
      "FoundationsOriginofSpecies                  0.017528      0.089075  \n",
      "GeologicalObservationsSouthAmerica          0.372272      0.259514  \n",
      "InsectivorousPlants                         0.008526      0.014758  \n",
      "LifeandLettersVol1                          0.026517      0.172502  \n",
      "LifeandLettersVol2                          0.011930      0.090674  \n",
      "MonographCirripedia                         0.010054      0.014269  \n",
      "MonographCirripediaVol2                     0.016404      0.024734  \n",
      "MovementClimbingPlants                      0.002842      0.012328  \n",
      "OriginofSpecies                             0.035924      0.165247  \n",
      "PowerMovementPlants                         0.003787      0.023967  \n",
      "VariationPlantsAnimalsDomestication         0.012210      0.112421  \n",
      "VolcanicIslands                             1.000000      0.138034  \n",
      "VoyageBeagle                                0.138034      1.000000  \n"
     ]
    }
   ],
   "source": [
    "sims = similarities.MatrixSimilarity(model[bows])\n",
    "\n",
    "sim_df = pd.DataFrame(list(sims))\n",
    "sim_df.columns = titles\n",
    "sim_df.index = titles\n",
    "\n",
    "print(sim_df)"
   ]
  },
  {
   "cell_type": "markdown",
   "metadata": {
    "dc": {
     "key": "73"
    },
    "slideshow": {
     "slide_type": "skip"
    },
    "tags": [
     "context"
    ]
   },
   "source": [
    "## The book most similar to \"On the Origin of Species\"\n",
    "<p>We now have a matrix containing all the similarity measures between any pair of books from Charles Darwin! We can now use this matrix to quickly extract the information we need, i.e., the distance between one book and one or several others. </p>\n",
    "<p>As a first step, we will display which books are the most similar to \"<em>On the Origin of Species</em>,\" more specifically we will produce a bar chart showing all books ranked by how similar they are to Darwin's landmark work.</p>"
   ]
  },
  {
   "cell_type": "code",
   "execution_count": 17,
   "metadata": {
    "dc": {
     "key": "73"
    },
    "slideshow": {
     "slide_type": "skip"
    },
    "tags": [
     "sample_code"
    ]
   },
   "outputs": [
    {
     "data": {
      "image/png": "[encoded data removed]",
      "text/plain": [
       "<Figure size 432x288 with 1 Axes>"
      ]
     },
     "metadata": {},
     "output_type": "display_data"
    }
   ],
   "source": [
    "v = sim_df.OriginofSpecies\n",
    "v_sorted = v.sort_values()\n",
    "# v_sorted = v_sorted[:-1]\n",
    "\n",
    "plt.barh(range(len(v_sorted)), v_sorted.values)\n",
    "\n",
    "plt.xlabel('Similarity')\n",
    "plt.ylabel('Books')\n",
    "plt.yticks(range(len(v_sorted)), v_sorted.index)\n",
    "plt.xlim((0, 1))\n",
    "plt.title('Books most similar to the \"Origin of Species\"')\n",
    "\n",
    "plt.show()"
   ]
  },
  {
   "cell_type": "markdown",
   "metadata": {
    "dc": {
     "key": "80"
    },
    "slideshow": {
     "slide_type": "skip"
    },
    "tags": [
     "context"
    ]
   },
   "source": [
    "## Which books have similar content?\n",
    "<p>This turns out to be extremely useful if we want to determine a given book's most similar work. For example, we have just seen that if you enjoyed \"<em>On the Origin of Species</em>,\" you can read books discussing similar concepts such as \"<em>The Variation of Animals and Plants under Domestication</em>\" or \"<em>The Descent of Man, and Selection in Relation to Sex</em>.\" If you are familiar with Darwin's work, these suggestions will likely seem natural to you. Indeed, <em>On the Origin of Species</em> has a whole chapter about domestication and <em>The Descent of Man, and Selection in Relation to Sex</em> applies the theory of natural selection to human evolution. Hence, the results make sense.</p>\n",
    "<p>However, we now want to have a better understanding of the big picture and see how Darwin's books are generally related to each other (in terms of topics discussed). To this purpose, we will represent the whole similarity matrix as a dendrogram, which is a standard tool to display such data. <strong>This last approach will display all the information about book similarities at once.</strong> For example, we can find a book's closest relative but, also, we can visualize which groups of books have similar topics (e.g., the cluster about Charles Darwin personal life with his autobiography and letters). If you are familiar with Darwin's bibliography, the results should not surprise you too much, which indicates the method gives good results. Otherwise, next time you read one of the author's book, you will know which other books to read next in order to learn more about the topics it addressed.</p>"
   ]
  },
  {
   "cell_type": "code",
   "execution_count": 18,
   "metadata": {
    "dc": {
     "key": "80"
    },
    "slideshow": {
     "slide_type": "skip"
    },
    "tags": [
     "sample_code"
    ]
   },
   "outputs": [
    {
     "data": {
      "image/png": "[encoded data removed]",
      "text/plain": [
       "<Figure size 432x288 with 1 Axes>"
      ]
     },
     "metadata": {},
     "output_type": "display_data"
    }
   ],
   "source": [
    "Z = hierarchy.linkage(sim_df, method='ward')\n",
    "\n",
    "a = hierarchy.dendrogram(\n",
    "    Z,\n",
    "    leaf_font_size=8,\n",
    "    labels=sim_df.index,\n",
    "    orientation=\"left\"\n",
    ")"
   ]
  },
  {
   "cell_type": "markdown",
   "metadata": {
    "slideshow": {
     "slide_type": "skip"
    }
   },
   "source": [
    "---"
   ]
  }
 ],
 "metadata": {
  "celltoolbar": "Slideshow",
  "hide_input": false,
  "kernelspec": {
   "display_name": "Python 3",
   "language": "python",
   "name": "python3"
  },
  "language_info": {
   "codemirror_mode": {
    "name": "ipython",
    "version": 3
   },
   "file_extension": ".py",
   "mimetype": "text/x-python",
   "name": "python",
   "nbconvert_exporter": "python",
   "pygments_lexer": "ipython3",
   "version": "3.5.2"
  },
  "toc": {
   "base_numbering": 1,
   "nav_menu": {},
   "number_sections": true,
   "sideBar": true,
   "skip_h1_title": false,
   "title_cell": "Table of Contents",
   "title_sidebar": "Contents",
   "toc_cell": false,
   "toc_position": {
    "height": "calc(100% - 180px)",
    "left": "10px",
    "top": "150px",
    "width": "247px"
   },
   "toc_section_display": true,
   "toc_window_display": true
  },
  "varInspector": {
   "cols": {
    "lenName": 16,
    "lenType": 16,
    "lenVar": 40
   },
   "kernels_config": {
    "python": {
     "delete_cmd_postfix": "",
     "delete_cmd_prefix": "del ",
     "library": "var_list.py",
     "varRefreshCmd": "print(var_dic_list())"
    },
    "r": {
     "delete_cmd_postfix": ") ",
     "delete_cmd_prefix": "rm(",
     "library": "var_list.r",
     "varRefreshCmd": "cat(var_dic_list()) "
    }
   },
   "types_to_exclude": [
    "module",
    "function",
    "builtin_function_or_method",
    "instance",
    "_Feature"
   ],
   "window_display": false
  }
 },
 "nbformat": 4,
 "nbformat_minor": 2
}
