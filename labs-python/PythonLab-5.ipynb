{
 "cells": [
  {
   "cell_type": "markdown",
   "metadata": {},
   "source": [
    "### Lab 5\n",
    "\n"
   ]
  },
  {
   "cell_type": "markdown",
   "metadata": {},
   "source": [
    "1) Cel mai mare divizor comun a mai multor numere (definiti o functie cu numar variabil de parametri care sa rezolve acest lucru)"
   ]
  },
  {
   "cell_type": "code",
   "execution_count": 1,
   "metadata": {
    "collapsed": false
   },
   "outputs": [
    {
     "data": {
      "text/plain": [
       "1"
      ]
     },
     "execution_count": 1,
     "metadata": {},
     "output_type": "execute_result"
    }
   ],
   "source": [
    "def gcd(a,b):\n",
    "    while b:\n",
    "        a,b =  b,a%b\n",
    "    return a\n",
    "\n",
    "def gcdMultiple(*args):\n",
    "    #print(len(args))\n",
    "    #for i in args:\n",
    "        #print(i)\n",
    "    if len(args) < 2:\n",
    "        return -1\n",
    "    for i in range(2,len(args)+1,2):\n",
    "        res = gcd(args[i-2],args[i-1])\n",
    "        fin = gcd(res,args[i-2])\n",
    "    return fin\n",
    "\n",
    "'''\n",
    "def all_cmmdc(*args):\n",
    "    if len(args) == 0:\n",
    "        return -1\n",
    "    cm = cmmdc(args[0],args[1])\n",
    "    for i in args[2:]:\n",
    "        cm = cmmdc(cm,1)\n",
    "    return cm\n",
    "print(all_cmmdc(2,8,6))\n",
    "'''\n",
    "\n",
    "#easier with functools reduce\n",
    "#gcd(6,9) #is good\n",
    "gcdMultiple(3,7,8,9)"
   ]
  },
  {
   "cell_type": "markdown",
   "metadata": {},
   "source": [
    "---"
   ]
  },
  {
   "cell_type": "code",
   "execution_count": null,
   "metadata": {
    "collapsed": true
   },
   "outputs": [],
   "source": []
  },
  {
   "cell_type": "code",
   "execution_count": null,
   "metadata": {
    "collapsed": true
   },
   "outputs": [],
   "source": []
  },
  {
   "cell_type": "markdown",
   "metadata": {},
   "source": [
    "8) Sa se scrie un script care primeste urmatoarele argumente: path, tree_depth, filesize , filecount, dircount si care creeaza o structura de directoare de adancime depth astfel: incepand din radacina path vor fi create dircount directoare si filecount fisiere cu continut de filesize octeti (doar caracterul \"a\" de exemplu\") iar acest proces va fi repetat recursiv pentru fiecare director creat pana cand se obtine adancimea dorita (in directoarele aflate la adacimea maxima nu se vor crea alte directoare)\n",
    "\n",
    "**separat, in `lab5/`**"
   ]
  },
  {
   "cell_type": "markdown",
   "metadata": {},
   "source": [
    "**9) Sa se creeze un script care afiseaza urmatoarele informatii despre sistem: **\n",
    "  \n",
    "```versiunea de python folosita. Daca se foloseste Python 2 va afisa in plus mesajul \"=== Python 2 ===\" iar daca se foloseste Python 3 va afisa in plus mesajul \"Running under Py3\" (hint: sys.version_info)\n",
    "numele user-ului care a executat scriptul, \n",
    "path-ul complet al scriptului.\n",
    "path-ul directorului in care se afla scriptul, \n",
    "tipul sistemului de operare, \n",
    "numarul de core-uri, \n",
    "directoarele din PATH-ul procesului cate unul pe linie, ```"
   ]
  },
  {
   "cell_type": "code",
   "execution_count": 39,
   "metadata": {
    "collapsed": false
   },
   "outputs": [
    {
     "name": "stdout",
     "output_type": "stream",
     "text": [
      "sys.version_info(major=2, minor=7, micro=12, releaselevel='final', serial=0)\n",
      "=== Python 2 ===\n",
      "c:\\python27\\lib\\site-packages\\ipykernel\\__main__.py\n",
      "c:\\python27\\lib\\site-packages\\ipykernel\n",
      "win32\n",
      "4\n"
     ]
    }
   ],
   "source": [
    "import sys\n",
    "import psutil\n",
    "\n",
    "print sys.version_info\n",
    "if sys.version_info.major == 2:\n",
    "    print '=== Python 2 ==='\n",
    "elif sys.version_info.major == 3:\n",
    "    print 'Running under Py3'\n",
    "\n",
    "print sys.argv[0]\n",
    "print os.path.dirname(sys.argv[0])\n",
    "print sys.platform\n",
    "print psutil.cpu_count() #non-standard #logical=False\n"
   ]
  },
  {
   "cell_type": "markdown",
   "metadata": {},
   "source": [
    "10) Sa se scrie o functie search_by_content care primeste ca parametru doua siruri de caractere target si to_search si returneaza o lista de fisiere care contin to_search. Fisierele se vor cauta astfel: daca target este un fisier, se cauta doar in fisierul respectiv iar daca este un director se va cauta recursiv in toate fisierele din acel director. Daca target nu este nici fisier nici director, se va arunca o exceptie de tipul ValueError cu un mesaj corespunzator.\n"
   ]
  },
  {
   "cell_type": "code",
   "execution_count": null,
   "metadata": {
    "collapsed": true
   },
   "outputs": [],
   "source": []
  },
  {
   "cell_type": "markdown",
   "metadata": {
    "collapsed": true
   },
   "source": [
    "11) Sa se scrie o functie get_file_info care primeste ca parametru un sir de caractere care reprezinta calea catre un fisier si returneaza un dictionar cu urmatoarele campuri: \n",
    "\n",
    "```full_path = calea absoluta catre fisier,\n",
    "file_size = dimensiunea fisierului in octeti,\n",
    "file_extension = extensia fisierului (daca are) sau \"\",\n",
    "can_read si can_write = True/False daca se poate citi din/scrie in fisier.```"
   ]
  },
  {
   "cell_type": "code",
   "execution_count": 26,
   "metadata": {
    "collapsed": false
   },
   "outputs": [
    {
     "name": "stdout",
     "output_type": "stream",
     "text": [
      "Result:\n",
      "E:\\github\\ml-stuff\\labs-python\\plot.py\n",
      "[('can_read', '?'), ('can_write', '?'), ('file_extension', '.py'), ('file_size', 153L), ('full-path', 'E:\\\\github\\\\ml-stuff\\\\labs-python\\\\plot.py')]\n"
     ]
    }
   ],
   "source": [
    "import os\n",
    "import collections\n",
    "\n",
    "\"\"\"\n",
    "    full_path = calea absoluta catre fisier, \n",
    "    file_size = dimensiunea fisierului in octeti, \n",
    "    file_extension = extensia fisierului (daca are) sau \"\", \n",
    "    can_read si can_write = True/False daca se poate citi din/scrie in fisier.\n",
    "\"\"\"\n",
    "def get_file_info(file_path):\n",
    "    file_dict = {}\n",
    "    file_path = os.path.realpath(file_path)\n",
    "    if os.path.isfile(file_path):\n",
    "        print file_path\n",
    "        file_dict[\"full-path\"] = file_path\n",
    "        file_dict[\"file_size\"] = os.path.getsize(file_path)\n",
    "        filename, file_extension = os.path.splitext(file_path)\n",
    "        file_dict[\"file_extension\"] = file_extension\n",
    "        file_dict[\"can_read\"] = \"?\"\n",
    "        file_dict[\"can_write\"] = \"?\"\n",
    "    \n",
    "    #return collections.OrderedDict(sorted(file_dict.items()))\n",
    "    return sorted(file_dict.items())\n",
    "    \n",
    "\n",
    "\n",
    "print 'Result:\\n', get_file_info(\"./plot.py\")"
   ]
  },
  {
   "cell_type": "markdown",
   "metadata": {},
   "source": [
    "---"
   ]
  }
 ],
 "metadata": {
  "kernelspec": {
   "display_name": "Python 2",
   "language": "python",
   "name": "python2"
  },
  "language_info": {
   "codemirror_mode": {
    "name": "ipython",
    "version": 2
   },
   "file_extension": ".py",
   "mimetype": "text/x-python",
   "name": "python",
   "nbconvert_exporter": "python",
   "pygments_lexer": "ipython2",
   "version": "2.7.12"
  }
 },
 "nbformat": 4,
 "nbformat_minor": 1
}
