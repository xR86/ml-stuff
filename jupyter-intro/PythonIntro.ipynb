{
 "cells": [
  {
   "cell_type": "markdown",
   "metadata": {},
   "source": [
    "# Learning\n",
    "\n",
    "A **Python** and **Jupyter** primer.\n",
    "\n",
    "**Shortcuts**:\n",
    "- Shift+Enter - run cell, select new cell (if no cell after, inserts)\n",
    "- more [here](https://sowingseasons.com/blog/reference/2016/01/jupyter-keyboard-shortcuts/23298516)"
   ]
  },
  {
   "cell_type": "markdown",
   "metadata": {},
   "source": [
    "#### Example 1"
   ]
  },
  {
   "cell_type": "code",
   "execution_count": 5,
   "metadata": {
    "collapsed": false
   },
   "outputs": [
    {
     "name": "stdout",
     "output_type": "stream",
     "text": [
      "Hello, Python ! \n",
      "\n",
      "\n"
     ]
    }
   ],
   "source": [
    "language = \"Python\"\n",
    "helloStatement = \"Hello, \" + language + \" !\"\n",
    "print(helloStatement, \"\\n\\n\")"
   ]
  },
  {
   "cell_type": "markdown",
   "metadata": {},
   "source": [
    "- - -"
   ]
  },
  {
   "cell_type": "markdown",
   "metadata": {},
   "source": [
    "# Machine learning\n",
    "\n",
    "Machine learning types:\n",
    "![title](img/machine-learning-types.png)\n",
    "\n",
    "### Machine learning steps\n",
    "\n",
    "> Asking the right question => Preparing Data => Selecting the algorithm => Training the model\n",
    "  \n",
    "The process may require to return to a previous point, such as:\n",
    "- changing the question\n",
    "- sanitizing, extending the data\n",
    "- changing the algorithm\n",
    "- (supervised) extending the test data\n"
   ]
  },
  {
   "cell_type": "markdown",
   "metadata": {},
   "source": [
    "Links:\n",
    "- [unsupervised vs supervised ML](https://stats.stackexchange.com/questions/110395/what-are-basic-differences-between-kernel-approaches-to-unsupervised-and-supervi)"
   ]
  },
  {
   "cell_type": "code",
   "execution_count": null,
   "metadata": {
    "collapsed": true
   },
   "outputs": [],
   "source": []
  }
 ],
 "metadata": {
  "kernelspec": {
   "display_name": "Python 3",
   "language": "python",
   "name": "python3"
  },
  "language_info": {
   "codemirror_mode": {
    "name": "ipython",
    "version": 3
   },
   "file_extension": ".py",
   "mimetype": "text/x-python",
   "name": "python",
   "nbconvert_exporter": "python",
   "pygments_lexer": "ipython3",
   "version": "3.5.2"
  }
 },
 "nbformat": 4,
 "nbformat_minor": 0
}
