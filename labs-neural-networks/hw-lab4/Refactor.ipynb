{
 "cells": [
  {
   "cell_type": "markdown",
   "metadata": {
    "slideshow": {
     "slide_type": "slide"
    }
   },
   "source": [
    "# Pure implementation refactor"
   ]
  },
  {
   "cell_type": "markdown",
   "metadata": {},
   "source": [
    "## Importing dependencies and data"
   ]
  },
  {
   "cell_type": "code",
   "execution_count": 152,
   "metadata": {},
   "outputs": [],
   "source": [
    "import pickle, gzip, numpy as np\n",
    "import matplotlib.pyplot as plt\n",
    "import matplotlib.style as style\n",
    "style.use('fivethirtyeight')\n",
    "\n",
    "from matplotlib.animation import FuncAnimation\n",
    "from IPython.core.display import display, HTML"
   ]
  },
  {
   "cell_type": "code",
   "execution_count": 118,
   "metadata": {},
   "outputs": [],
   "source": [
    "invert_l = lambda x: 100 - x\n",
    "discretize_l = lambda x: x / 100"
   ]
  },
  {
   "cell_type": "code",
   "execution_count": 119,
   "metadata": {},
   "outputs": [
    {
     "name": "stdout",
     "output_type": "stream",
     "text": [
      "CPU times: user 618 ms, sys: 188 ms, total: 806 ms\n",
      "Wall time: 808 ms\n"
     ]
    }
   ],
   "source": [
    "%%time\n",
    "\n",
    "f1 = open('matplot-text.txt', 'w+')\n",
    "f2 = gzip.open('mnist.pkl.gz', 'rb')\n",
    "\n",
    "u = pickle._Unpickler(f2)\n",
    "u.encoding = 'latin1'\n",
    "\n",
    "train_set, valid_set, test_set = u.load()\n",
    "\n",
    "f1.close()\n",
    "f2.close()"
   ]
  },
  {
   "cell_type": "code",
   "execution_count": 120,
   "metadata": {},
   "outputs": [
    {
     "name": "stdout",
     "output_type": "stream",
     "text": [
      "train_set length: 50000\n",
      "valid_set length: 10000\n",
      "test_set length: 10000\n"
     ]
    }
   ],
   "source": [
    "print('train_set length: %s' % len(train_set[0]))\n",
    "print('valid_set length: %s' % len(valid_set[0]))\n",
    "print('test_set length: %s' % len(test_set[0]))"
   ]
  },
  {
   "cell_type": "markdown",
   "metadata": {},
   "source": [
    "## Building the perceptron units"
   ]
  },
  {
   "cell_type": "code",
   "execution_count": 121,
   "metadata": {},
   "outputs": [],
   "source": [
    "perceptron_layer = []\n",
    "\n",
    "epochs = 1\n",
    "learning_rate = 0.1"
   ]
  },
  {
   "cell_type": "code",
   "execution_count": 122,
   "metadata": {},
   "outputs": [],
   "source": [
    "class Perceptron_Net(object):\n",
    "    def __init__(self, weight, bias):\n",
    "        self.weight = weight\n",
    "        self.bias = bias\n",
    "        self.layer = []\n",
    "        \n",
    "        self.ok_rate = 0\n",
    "        self.error_rate = 0\n",
    "        \n",
    "        self.clock_vec = []\n",
    "        self.error_vec = []\n",
    "\n",
    "    def init_layer(self):\n",
    "        for i in range(10):\n",
    "            self.layer.append(Perceptron(i))\n",
    "\n",
    "        for perceptron in self.layer:\n",
    "            print(perceptron, perceptron.digit)  # , i.weight, i.bias\n",
    "\n",
    "    def train_network(self):\n",
    "        for perceptron in self.layer:\n",
    "            print('queued train: ', perceptron.digit)\n",
    "            perceptron.train()\n",
    "\n",
    "    def test(self):\n",
    "        self.train_network()\n",
    "        \n",
    "        ok = 0\n",
    "        clock_counter = 0\n",
    "        \n",
    "        for i in range(len(test_set[0])):\n",
    "            maximum = -1\n",
    "            digitmax = -1\n",
    "            \n",
    "            for digit in range(10):\n",
    "                z = np.dot(test_set[0][i], self.weight[digit]) + self.bias[digit]\n",
    "                if z > maximum:\n",
    "                    maximum = z\n",
    "                    digitmax = digit\n",
    "            \n",
    "            if digitmax == test_set[1][i]:\n",
    "                ok += 1\n",
    "            \n",
    "            self.ok_rate = ok * 1.0 / len(test_set[0]) * 100\n",
    "            self.error_rate = 100 - self.ok_rate\n",
    "\n",
    "            # string = \"%d, %f\" % (clock_counter, self.error_rate)\n",
    "            # print(\"clock, error: %s, %s\" % (clock_counter, self.error_rate))\n",
    "            # f2.write(string + \"\\n\")\n",
    "            \n",
    "            self.clock_vec.append(clock_counter)\n",
    "            self.error_vec.append(self.error_rate)\n",
    "            \n",
    "            \n",
    "            clock_counter += 1 # 10\n",
    "\n",
    "        #self.error_rate = 100 - self.ok_rate\n",
    "        self.error_rate = 100 - (ok * 1.0 / len(test_set[0]) * 100)\n",
    "        self.ok_rate = ok * 1.0 / len(test_set[0]) * 100\n",
    "        \n",
    "        assert self.error_rate == 100 - self.ok_rate, 'your ok_rate or error_rate is F-ed up'\n",
    "        \n",
    "        print(\"Final result: %s%%\" % self.ok_rate)\n",
    "        print(\"Error rate: %s%%\" % self.error_rate)\n"
   ]
  },
  {
   "cell_type": "code",
   "execution_count": 123,
   "metadata": {
    "slideshow": {
     "slide_type": "skip"
    }
   },
   "outputs": [],
   "source": [
    "class Perceptron(object):\n",
    "\n",
    "    # error = 1\n",
    "    # errorRate = 100 - perceptron_net.ok_cnt\n",
    "\n",
    "    def __init__(self, digit):\n",
    "        self.digit = digit\n",
    "\n",
    "    def description(self):\n",
    "        print(\"This is a perceptron object\")\n",
    "\n",
    "    def activation(self, input):\n",
    "        # Function used for activation of the neuron\n",
    "        if (input > 0): return 1\n",
    "        return 0\n",
    "\n",
    "    def expected(self, value):\n",
    "        if self.digit == value:\n",
    "            return 1\n",
    "        return 0\n",
    "\n",
    "\n",
    "    def train(self):\n",
    "        '''\n",
    "        global epochs\n",
    "        allClassified = False\n",
    "\n",
    "        timeCounter = 0\n",
    "        while not allClassified and epochs > 0:\n",
    "            allClassified = True\n",
    "            # for x, t in train_set:\n",
    "            x = train_set[0]\n",
    "            t = train_set[1]\n",
    "            for i in range(len(train_set[0])):\n",
    "                # compute net input\n",
    "                z = np.sum(np.dot(self.weight[i], x[i]), self.bias[self.digit])\n",
    "                # classify the sample\n",
    "                output = self.activation(z)\n",
    "                # adjust the weights\n",
    "                self.weight[self.digit] = np.sum(self.weight[i], (self.expected(t[i]) - output) * x[i] * learning_rate)  #* a[i] * learning_rate, for j in x[i])# adjust the weights\n",
    "                # adjust the bias\n",
    "                self.bias[self.digit] = self.bias[self.digit] + (t[i]-output) * learning_rate\n",
    "                if output != t[i]:\n",
    "                    allClassified = False\n",
    "\n",
    "                self.error = self.expected(t[i]) - output\n",
    "                if self.digit == 0:\n",
    "                    str = \"%d,%d\" % (timeCounter, self.error)\n",
    "                    print str\n",
    "                    #f2.write(str + \"\\n\")\n",
    "                timeCounter += 10\n",
    "        epochs = epochs - 1\n",
    "        #f2.close\n",
    "        '''\n",
    "\n",
    "        print(\"###Train digit: \" + str(self.digit))\n",
    "        for i in range(len(train_set[0])):\n",
    "            z = np.dot(\n",
    "                    train_set[0][i],\n",
    "                    perceptron_net.weight[self.digit]\n",
    "                ) + perceptron_net.bias[self.digit]\n",
    "            \n",
    "            output = self.activation(z)\n",
    "            x = np.array(\n",
    "                train_set[0][i]\n",
    "            ).dot(\n",
    "                (self.expected(train_set[1][i]) - output)\n",
    "                * learning_rate\n",
    "            )\n",
    "            perceptron_net.weight[self.digit] = np.add(perceptron_net.weight[self.digit], x)\n",
    "            perceptron_net.bias[self.digit] += (\n",
    "                (self.expected(train_set[1][i]) - output) \\\n",
    "                * learning_rate)\n",
    "        print(\"---Digit trained: \" + str(self.digit))\n"
   ]
  },
  {
   "cell_type": "code",
   "execution_count": null,
   "metadata": {},
   "outputs": [],
   "source": []
  },
  {
   "cell_type": "code",
   "execution_count": 124,
   "metadata": {
    "scrolled": true,
    "slideshow": {
     "slide_type": "slide"
    }
   },
   "outputs": [
    {
     "name": "stdout",
     "output_type": "stream",
     "text": [
      "<__main__.Perceptron object at 0x7fb94b0a4f98> 0\n",
      "<__main__.Perceptron object at 0x7fb94b0a4400> 1\n",
      "<__main__.Perceptron object at 0x7fb94b0a4908> 2\n",
      "<__main__.Perceptron object at 0x7fb94b0a4668> 3\n",
      "<__main__.Perceptron object at 0x7fb94b0cd9e8> 4\n",
      "<__main__.Perceptron object at 0x7fb94b0cd0f0> 5\n",
      "<__main__.Perceptron object at 0x7fb94b0cde48> 6\n",
      "<__main__.Perceptron object at 0x7fb94b0cde80> 7\n",
      "<__main__.Perceptron object at 0x7fb94b0cda90> 8\n",
      "<__main__.Perceptron object at 0x7fb94b0cde10> 9\n",
      "queued train:  0\n",
      "###Train digit: 0\n",
      "---Digit trained: 0\n",
      "queued train:  1\n",
      "###Train digit: 1\n",
      "---Digit trained: 1\n",
      "queued train:  2\n",
      "###Train digit: 2\n",
      "---Digit trained: 2\n",
      "queued train:  3\n",
      "###Train digit: 3\n",
      "---Digit trained: 3\n",
      "queued train:  4\n",
      "###Train digit: 4\n",
      "---Digit trained: 4\n",
      "queued train:  5\n",
      "###Train digit: 5\n",
      "---Digit trained: 5\n",
      "queued train:  6\n",
      "###Train digit: 6\n",
      "---Digit trained: 6\n",
      "queued train:  7\n",
      "###Train digit: 7\n",
      "---Digit trained: 7\n",
      "queued train:  8\n",
      "###Train digit: 8\n",
      "---Digit trained: 8\n",
      "queued train:  9\n",
      "###Train digit: 9\n",
      "---Digit trained: 9\n",
      "queued train:  0\n",
      "###Train digit: 0\n",
      "---Digit trained: 0\n",
      "queued train:  1\n",
      "###Train digit: 1\n",
      "---Digit trained: 1\n",
      "queued train:  2\n",
      "###Train digit: 2\n",
      "---Digit trained: 2\n",
      "queued train:  3\n",
      "###Train digit: 3\n",
      "---Digit trained: 3\n",
      "queued train:  4\n",
      "###Train digit: 4\n",
      "---Digit trained: 4\n",
      "queued train:  5\n",
      "###Train digit: 5\n",
      "---Digit trained: 5\n",
      "queued train:  6\n",
      "###Train digit: 6\n",
      "---Digit trained: 6\n",
      "queued train:  7\n",
      "###Train digit: 7\n",
      "---Digit trained: 7\n",
      "queued train:  8\n",
      "###Train digit: 8\n",
      "---Digit trained: 8\n",
      "queued train:  9\n",
      "###Train digit: 9\n",
      "---Digit trained: 9\n",
      "Final result: 82.33%\n",
      "Error rate: 17.67%\n"
     ]
    }
   ],
   "source": [
    "perceptron_net = Perceptron_Net([np.random.uniform(0, 1, size=784) for i in range(10)], np.zeros(10))\n",
    "\n",
    "perceptron_net.init_layer()\n",
    "perceptron_net.train_network()\n",
    "perceptron_net.test()\n",
    "\n",
    "# plt.line()"
   ]
  },
  {
   "cell_type": "code",
   "execution_count": 125,
   "metadata": {},
   "outputs": [
    {
     "data": {
      "text/html": [
       "<h1>Accuracy: 82.33%</h1><h2>- Error rate: 17.67%</h2>"
      ],
      "text/plain": [
       "<IPython.core.display.HTML object>"
      ]
     },
     "execution_count": 125,
     "metadata": {},
     "output_type": "execute_result"
    }
   ],
   "source": [
    "HTML('<h1>Accuracy: %s%%</h1>' % perceptron_net.ok_rate +\n",
    "     '<h2>- Error rate: %.2f%%</h2>' % perceptron_net.error_rate\n",
    ")"
   ]
  },
  {
   "cell_type": "code",
   "execution_count": 153,
   "metadata": {},
   "outputs": [
    {
     "data": {
      "image/png": "[encoded data removed]",
      "text/plain": [
       "<matplotlib.figure.Figure at 0x7fb94ea89f28>"
      ]
     },
     "metadata": {},
     "output_type": "display_data"
    }
   ],
   "source": [
    "plt.figure(figsize=(9,5))\n",
    "\n",
    "x = list(map(discretize_l, perceptron_net.clock_vec))\n",
    "y = list(map(invert_l, perceptron_net.error_vec))\n",
    "\n",
    "plt.plot(x, y)\n",
    "\n",
    "plt.vlines(x[-1], 0, y[-1], lw=2, color='C3', linestyle=\"dashed\")\n",
    "plt.hlines(y[-1], 0, x[-1], lw=2, color='C3', linestyle=\"dashed\")\n",
    "\n",
    "plt.ylim((0, 100))\n",
    "plt.xlabel('Training process %')\n",
    "plt.ylabel('Accuracy %')\n",
    "\n",
    "plt.show()"
   ]
  },
  {
   "cell_type": "code",
   "execution_count": 163,
   "metadata": {},
   "outputs": [
    {
     "name": "stderr",
     "output_type": "stream",
     "text": [
      "/usr/local/lib/python3.5/dist-packages/matplotlib/animation.py:1021: UserWarning: MovieWriter imagemagick unavailable\n",
      "  warnings.warn(\"MovieWriter %s unavailable\" % writer)\n"
     ]
    },
    {
     "ename": "ValueError",
     "evalue": "Cannot save animation: no writers are available. Please install ffmpeg to save animations.",
     "output_type": "error",
     "traceback": [
      "\u001b[0;31m---------------------------------------------------------------------------\u001b[0m",
      "\u001b[0;31mIndexError\u001b[0m                                Traceback (most recent call last)",
      "\u001b[0;32m/usr/local/lib/python3.5/dist-packages/matplotlib/animation.py\u001b[0m in \u001b[0;36msave\u001b[0;34m(self, filename, writer, fps, dpi, codec, bitrate, extra_args, metadata, extra_anim, savefig_kwargs)\u001b[0m\n\u001b[1;32m   1023\u001b[0m                 \u001b[0;32mtry\u001b[0m\u001b[0;34m:\u001b[0m\u001b[0;34m\u001b[0m\u001b[0m\n\u001b[0;32m-> 1024\u001b[0;31m                     writer = writers[writers.list()[0]](fps, codec, bitrate,\n\u001b[0m\u001b[1;32m   1025\u001b[0m                                                         \u001b[0mextra_args\u001b[0m\u001b[0;34m=\u001b[0m\u001b[0mextra_args\u001b[0m\u001b[0;34m,\u001b[0m\u001b[0;34m\u001b[0m\u001b[0m\n",
      "\u001b[0;31mIndexError\u001b[0m: list index out of range",
      "\nDuring handling of the above exception, another exception occurred:\n",
      "\u001b[0;31mValueError\u001b[0m                                Traceback (most recent call last)",
      "\u001b[0;32m<ipython-input-163-3ac43d0286a8>\u001b[0m in \u001b[0;36m<module>\u001b[0;34m()\u001b[0m\n\u001b[1;32m     34\u001b[0m \u001b[0;34m\u001b[0m\u001b[0m\n\u001b[1;32m     35\u001b[0m \u001b[0;34m\u001b[0m\u001b[0m\n\u001b[0;32m---> 36\u001b[0;31m \u001b[0manim\u001b[0m\u001b[0;34m.\u001b[0m\u001b[0msave\u001b[0m\u001b[0;34m(\u001b[0m\u001b[0;34m'line.gif'\u001b[0m\u001b[0;34m,\u001b[0m \u001b[0mdpi\u001b[0m\u001b[0;34m=\u001b[0m\u001b[0;36m80\u001b[0m\u001b[0;34m,\u001b[0m \u001b[0mwriter\u001b[0m\u001b[0;34m=\u001b[0m\u001b[0;34m'imagemagick'\u001b[0m\u001b[0;34m)\u001b[0m\u001b[0;34m\u001b[0m\u001b[0m\n\u001b[0m\u001b[1;32m     37\u001b[0m \u001b[0;34m\u001b[0m\u001b[0m\n\u001b[1;32m     38\u001b[0m \u001b[0mplt\u001b[0m\u001b[0;34m.\u001b[0m\u001b[0mshow\u001b[0m\u001b[0;34m(\u001b[0m\u001b[0;34m)\u001b[0m\u001b[0;34m\u001b[0m\u001b[0m\n",
      "\u001b[0;32m/usr/local/lib/python3.5/dist-packages/matplotlib/animation.py\u001b[0m in \u001b[0;36msave\u001b[0;34m(self, filename, writer, fps, dpi, codec, bitrate, extra_args, metadata, extra_anim, savefig_kwargs)\u001b[0m\n\u001b[1;32m   1026\u001b[0m                                                         metadata=metadata)\n\u001b[1;32m   1027\u001b[0m                 \u001b[0;32mexcept\u001b[0m \u001b[0mIndexError\u001b[0m\u001b[0;34m:\u001b[0m\u001b[0;34m\u001b[0m\u001b[0m\n\u001b[0;32m-> 1028\u001b[0;31m                     raise ValueError(\"Cannot save animation: no writers are \"\n\u001b[0m\u001b[1;32m   1029\u001b[0m                                      \u001b[0;34m\"available. Please install \"\u001b[0m\u001b[0;34m\u001b[0m\u001b[0m\n\u001b[1;32m   1030\u001b[0m                                      \"ffmpeg to save animations.\")\n",
      "\u001b[0;31mValueError\u001b[0m: Cannot save animation: no writers are available. Please install ffmpeg to save animations."
     ]
    },
    {
     "data": {
      "image/png": "[encoded data removed]",
      "text/plain": [
       "<matplotlib.figure.Figure at 0x7fb94f2894e0>"
      ]
     },
     "metadata": {},
     "output_type": "display_data"
    }
   ],
   "source": [
    "# plt.figure(figsize=(9,5))\n",
    "\n",
    "fig, ax = plt.subplots()\n",
    "\n",
    "x = list(map(discretize_l, perceptron_net.clock_vec))\n",
    "y = list(map(invert_l, perceptron_net.error_vec))\n",
    "\n",
    "\n",
    "# initialization function: plot the background of each frame\n",
    "def init():\n",
    "    line.set_data([], [])\n",
    "    return (line,)\n",
    "\n",
    "# animation function. This is called sequentially\n",
    "def animate(i):\n",
    "    x = np.linspace(0, 2, 1000)\n",
    "    y = np.sin(2 * np.pi * (x - 0.01 * i))\n",
    "    line.set_data(x, y)\n",
    "    return (line,)\n",
    "\n",
    "\n",
    "line, = ax.plot([], [], lw=2)\n",
    "ax.plot(x, y)\n",
    "\n",
    "plt.ylim((0, 100))\n",
    "plt.xlabel('Training process %')\n",
    "plt.ylabel('Accuracy %')\n",
    "\n",
    "\n",
    "\n",
    "# anim.save('line.gif', dpi=80, writer='imagemagick')\n",
    "anim = FuncAnimation(fig, animate, init_func=init,\n",
    "                               frames=100, interval=200) # frames=np.arange(0, 10), interval=200\n",
    "\n",
    "\n",
    "anim.save('line.gif', dpi=80, writer='imagemagick')\n",
    "\n",
    "plt.show()"
   ]
  },
  {
   "cell_type": "code",
   "execution_count": 165,
   "metadata": {},
   "outputs": [],
   "source": [
    "anim\n",
    "\n",
    "plt.show()"
   ]
  },
  {
   "cell_type": "code",
   "execution_count": 166,
   "metadata": {},
   "outputs": [
    {
     "data": {
      "text/plain": [
       "<matplotlib.animation.FuncAnimation at 0x7fb94f039128>"
      ]
     },
     "metadata": {},
     "output_type": "display_data"
    }
   ],
   "source": [
    "display(anim)"
   ]
  },
  {
   "cell_type": "code",
   "execution_count": null,
   "metadata": {},
   "outputs": [],
   "source": []
  },
  {
   "cell_type": "markdown",
   "metadata": {
    "slideshow": {
     "slide_type": "skip"
    }
   },
   "source": [
    "---"
   ]
  }
 ],
 "metadata": {
  "celltoolbar": "Slideshow",
  "hide_input": false,
  "kernelspec": {
   "display_name": "Python 3",
   "language": "python",
   "name": "python3"
  },
  "language_info": {
   "codemirror_mode": {
    "name": "ipython",
    "version": 3
   },
   "file_extension": ".py",
   "mimetype": "text/x-python",
   "name": "python",
   "nbconvert_exporter": "python",
   "pygments_lexer": "ipython3",
   "version": "3.5.2"
  },
  "toc": {
   "base_numbering": 1,
   "nav_menu": {},
   "number_sections": true,
   "sideBar": true,
   "skip_h1_title": false,
   "title_cell": "Table of Contents",
   "title_sidebar": "Contents",
   "toc_cell": false,
   "toc_position": {},
   "toc_section_display": true,
   "toc_window_display": false
  },
  "varInspector": {
   "cols": {
    "lenName": 16,
    "lenType": 16,
    "lenVar": 40
   },
   "kernels_config": {
    "python": {
     "delete_cmd_postfix": "",
     "delete_cmd_prefix": "del ",
     "library": "var_list.py",
     "varRefreshCmd": "print(var_dic_list())"
    },
    "r": {
     "delete_cmd_postfix": ") ",
     "delete_cmd_prefix": "rm(",
     "library": "var_list.r",
     "varRefreshCmd": "cat(var_dic_list()) "
    }
   },
   "types_to_exclude": [
    "module",
    "function",
    "builtin_function_or_method",
    "instance",
    "_Feature"
   ],
   "window_display": false
  }
 },
 "nbformat": 4,
 "nbformat_minor": 2
}
