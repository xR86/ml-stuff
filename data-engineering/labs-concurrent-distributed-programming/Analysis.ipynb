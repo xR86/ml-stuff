{
 "cells": [
  {
   "cell_type": "markdown",
   "metadata": {
    "slideshow": {
     "slide_type": "skip"
    }
   },
   "source": [
    "# Analysis <a class=\"tocSkip\">\n",
    "\n",
    "For homework: [profs.info.uaic.ro/~adria/teach/courses/pcd//homework/PCD_Homework1.pdf](https://profs.info.uaic.ro/~adria/teach/courses/pcd//homework/PCD_Homework1.pdf)  \n",
    "Used dataset: [kaggle.com/wcukierski/enron-email-dataset/home](https://www.kaggle.com/wcukierski/enron-email-dataset/home)\n",
    "\n",
    "\n",
    "[wiki.python.org/moin/UdpCommunication](https://wiki.python.org/moin/UdpCommunication)\n",
    "[stackoverflow.com/questions/22819214/udp-message-too-long\n",
    "](https://stackoverflow.com/questions/22819214/udp-message-too-long)\n",
    "\n"
   ]
  },
  {
   "cell_type": "markdown",
   "metadata": {
    "slideshow": {
     "slide_type": "skip"
    }
   },
   "source": [
    "## Background <a class=\"tocSkip\">\n",
    "    \n",
    "Solution architecture: <drawio fig>\n",
    "\n",
    "Perform the following scenarios like a battery of tests\n",
    "+ UDP - single-node\n",
    "+ UDP - single-node, multithread\n",
    "+ UDP - single-node, multicast\n",
    "+ UDP? streaming\n",
    "+ UDP? stop-and-wait (acknowledge is performed before the sending of the next message)\n",
    "\n",
    "+ TCP - single-node\n",
    "+ TCP - single-node, multithread\n",
    "\n",
    "+ use [RabbitMQ](https://www.rabbitmq.com/) or [ZeroMQ](http://zeromq.org/)\n",
    "  + https://github.com/booksbyus/zguide/tree/master/examples/Python\n",
    "\n",
    "https://stackoverflow.com/questions/39246259/tcp-threaded-python\n",
    "https://stackoverflow.com/questions/28840624/forking-server-in-python\n",
    "https://stackoverflow.com/questions/32654551/tcp-vs-udp-socket-latency-benchmark\n",
    "\n",
    "ml-stuff folder - data engineering\n",
    "ml-stuff folder - presentations ? (sau prezentari separate pe fiecare disciplina ?)\n",
    "\n",
    "Extrapolate to utils, scenario files\n",
    "#group below logic in separate test suites\n",
    "#client sends END, server switches to next case\n",
    "#utils-udp.py\n",
    "#utils-tcp.py\n",
    "\n",
    "\n",
    "udp-streaming - https://www.google.com/search?safe=off&ei=_051XO-aO42EmwW4i5mAAw&q=udp+streaming+python&oq=udp+streaming+python&gs_l=psy-ab.3..0i19j0i22i30i19l2.8985.10124..10325...0.0..0.164.1007.0j7......0....1..gws-wiz.......0i71j0i8i13i30i19.ITQZ5dy4ifs\n",
    "\n",
    "https://stackoverflow.com/questions/15909064/python-implementation-for-stop-and-wait-algorithm\n",
    "\n",
    "\n",
    "\n",
    "airflow\n",
    "https://stackoverflow.com/questions/43386003/airflow-inside-docker-running-a-docker-container\n",
    "http://localhost:8080/admin/\n",
    "http://michal.karzynski.pl/blog/2017/03/19/developing-workflows-with-apache-airflow/\n",
    "https://airflow.apache.org/tutorial.html\n",
    "http://www.golangbootcamp.com/book/concurrency\n",
    "\n"
   ]
  },
  {
   "cell_type": "markdown",
   "metadata": {
    "slideshow": {
     "slide_type": "skip"
    }
   },
   "source": [
    "# Imports"
   ]
  },
  {
   "cell_type": "code",
   "execution_count": 4,
   "metadata": {
    "slideshow": {
     "slide_type": "skip"
    }
   },
   "outputs": [],
   "source": [
    "import os\n",
    "import pandas as pd"
   ]
  },
  {
   "cell_type": "code",
   "execution_count": 3,
   "metadata": {
    "slideshow": {
     "slide_type": "skip"
    }
   },
   "outputs": [
    {
     "name": "stdout",
     "output_type": "stream",
     "text": [
      "-rw-r--r-- 1 1000 1000 1426122219 Jun 16  2016 emails.csv\n",
      "-rw-rw-r-- 1 1000 1000        112 Mar  5 15:41 metadata_client_UDP.csv\n",
      "-rw-rw-r-- 1 1000 1000        115 Mar  5 15:47 metadata_client_ZeroMQ.csv\n",
      "-rw-rw-r-- 1 1000 1000        112 Mar  5 15:41 metadata_server_UDP.csv\n",
      "-rw-rw-r-- 1 1000 1000        115 Mar  5 15:47 metadata_server_ZeroMQ.csv\n"
     ]
    }
   ],
   "source": [
    "%%bash\n",
    "ls -l data/ | grep csv"
   ]
  },
  {
   "cell_type": "code",
   "execution_count": 11,
   "metadata": {
    "slideshow": {
     "slide_type": "skip"
    }
   },
   "outputs": [
    {
     "name": "stdout",
     "output_type": "stream",
     "text": [
      "['metadata_client_ZeroMQ.csv', 'metadata_server_UDP.csv', 'metadata_client_UDP.csv', 'metadata_server_ZeroMQ.csv']\n"
     ]
    }
   ],
   "source": [
    "root, dirs, files = os.walk('data/').__next__()\n",
    "\n",
    "metadata_files = [file for file in files if file.startswith('metadata')]\n",
    "print(metadata_files)"
   ]
  },
  {
   "cell_type": "code",
   "execution_count": 4,
   "metadata": {
    "slideshow": {
     "slide_type": "skip"
    }
   },
   "outputs": [
    {
     "name": "stdout",
     "output_type": "stream",
     "text": [
      "<class 'pandas.core.frame.DataFrame'>\n",
      "RangeIndex: 1 entries, 0 to 0\n",
      "Data columns (total 5 columns):\n",
      "Protocol    1 non-null object\n",
      "Mode        1 non-null object\n",
      "Time        1 non-null object\n",
      "Size(MB)    1 non-null object\n",
      "Count       1 non-null int64\n",
      "dtypes: int64(1), object(4)\n",
      "memory usage: 120.0+ bytes\n"
     ]
    },
    {
     "data": {
      "text/html": [
       "<div>\n",
       "<style scoped>\n",
       "    .dataframe tbody tr th:only-of-type {\n",
       "        vertical-align: middle;\n",
       "    }\n",
       "\n",
       "    .dataframe tbody tr th {\n",
       "        vertical-align: top;\n",
       "    }\n",
       "\n",
       "    .dataframe thead th {\n",
       "        text-align: right;\n",
       "    }\n",
       "</style>\n",
       "<table border=\"1\" class=\"dataframe\">\n",
       "  <thead>\n",
       "    <tr style=\"text-align: right;\">\n",
       "      <th></th>\n",
       "      <th>Protocol</th>\n",
       "      <th>Mode</th>\n",
       "      <th>Time</th>\n",
       "      <th>Size(MB)</th>\n",
       "      <th>Count</th>\n",
       "    </tr>\n",
       "  </thead>\n",
       "  <tbody>\n",
       "    <tr>\n",
       "      <th>0</th>\n",
       "      <td>UDP</td>\n",
       "      <td>single node</td>\n",
       "      <td>0:00:07.957166</td>\n",
       "      <td>8.89 MB</td>\n",
       "      <td>254886</td>\n",
       "    </tr>\n",
       "  </tbody>\n",
       "</table>\n",
       "</div>"
      ],
      "text/plain": [
       "  Protocol         Mode            Time Size(MB)   Count\n",
       "0      UDP  single node  0:00:07.957166  8.89 MB  254886"
      ]
     },
     "execution_count": 4,
     "metadata": {},
     "output_type": "execute_result"
    }
   ],
   "source": [
    "# concatenate metadata files ...\n",
    "df = pd.read_csv('metadata.csv')\n",
    "\n",
    "df.info()\n",
    "df.head()"
   ]
  },
  {
   "cell_type": "code",
   "execution_count": null,
   "metadata": {
    "slideshow": {
     "slide_type": "skip"
    }
   },
   "outputs": [],
   "source": []
  },
  {
   "cell_type": "code",
   "execution_count": null,
   "metadata": {
    "slideshow": {
     "slide_type": "skip"
    }
   },
   "outputs": [],
   "source": []
  },
  {
   "cell_type": "code",
   "execution_count": null,
   "metadata": {
    "slideshow": {
     "slide_type": "skip"
    }
   },
   "outputs": [],
   "source": []
  },
  {
   "cell_type": "code",
   "execution_count": null,
   "metadata": {
    "slideshow": {
     "slide_type": "skip"
    }
   },
   "outputs": [],
   "source": []
  },
  {
   "cell_type": "markdown",
   "metadata": {
    "slideshow": {
     "slide_type": "skip"
    }
   },
   "source": [
    "---"
   ]
  }
 ],
 "metadata": {
  "celltoolbar": "Slideshow",
  "hide_input": false,
  "kernelspec": {
   "display_name": "Python 3",
   "language": "python",
   "name": "python3"
  },
  "language_info": {
   "codemirror_mode": {
    "name": "ipython",
    "version": 3
   },
   "file_extension": ".py",
   "mimetype": "text/x-python",
   "name": "python",
   "nbconvert_exporter": "python",
   "pygments_lexer": "ipython3",
   "version": "3.5.2"
  },
  "toc": {
   "base_numbering": 1,
   "nav_menu": {},
   "number_sections": true,
   "sideBar": true,
   "skip_h1_title": false,
   "title_cell": "Table of Contents",
   "title_sidebar": "Contents",
   "toc_cell": false,
   "toc_position": {},
   "toc_section_display": true,
   "toc_window_display": false
  },
  "varInspector": {
   "cols": {
    "lenName": 16,
    "lenType": 16,
    "lenVar": 40
   },
   "kernels_config": {
    "python": {
     "delete_cmd_postfix": "",
     "delete_cmd_prefix": "del ",
     "library": "var_list.py",
     "varRefreshCmd": "print(var_dic_list())"
    },
    "r": {
     "delete_cmd_postfix": ") ",
     "delete_cmd_prefix": "rm(",
     "library": "var_list.r",
     "varRefreshCmd": "cat(var_dic_list()) "
    }
   },
   "types_to_exclude": [
    "module",
    "function",
    "builtin_function_or_method",
    "instance",
    "_Feature"
   ],
   "window_display": false
  }
 },
 "nbformat": 4,
 "nbformat_minor": 2
}
