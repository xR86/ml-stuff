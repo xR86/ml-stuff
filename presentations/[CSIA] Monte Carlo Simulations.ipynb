{
 "cells": [
  {
   "cell_type": "markdown",
   "metadata": {
    "slideshow": {
     "slide_type": "slide"
    }
   },
   "source": [
    "# Monte Carlo Simulations <a class=\"tocSkip\">"
   ]
  },
  {
   "cell_type": "markdown",
   "metadata": {
    "slideshow": {
     "slide_type": "slide"
    }
   },
   "source": [
    "What is Monte Carlo (MC) method ? \n",
    "\n",
    "A collection of methods for statistical simulation which utilizes repeated random sampling to make numerical estimations of an unknown parameter."
   ]
  },
  {
   "cell_type": "markdown",
   "metadata": {
    "slideshow": {
     "slide_type": "slide"
    }
   },
   "source": [
    "<!--![](csia-mcsim-assets/mc_overview.jpeg)-->\n",
    "<img src=\"csia-mcsim-assets/mc_overview.jpeg\" style=\"width:50rem\"/>"
   ]
  },
  {
   "cell_type": "markdown",
   "metadata": {
    "slideshow": {
     "slide_type": "slide"
    }
   },
   "source": [
    "# Background"
   ]
  },
  {
   "cell_type": "markdown",
   "metadata": {
    "slideshow": {
     "slide_type": "skip"
    }
   },
   "source": [
    "## Buffon's needle problem\n",
    "\n",
    "“A **needle of length L** is **thrown** in a **random** fashion onto a smooth table ruled with **parallel lines separated by a distance of 2L**. An observer records whether or not the needle intersects a ruled line. From the experiment, it is deduced that **as the sample increases the probability of the needle crossing the line tends to 1/pi**.”(Schuster, 1974).\n",
    "\n",
    "![](csia-mcsim-assets/buffon_needle.png)"
   ]
  },
  {
   "cell_type": "markdown",
   "metadata": {
    "slideshow": {
     "slide_type": "skip"
    }
   },
   "source": [
    "After $N$ tosses, the estimate for pi is $(2N / X)$, where $X$ is the number of times the needle intersects a line \n",
    "<!--![](csia-mcsim-assets/buffon_needle_viz.jpg)-->\n",
    "\n",
    "<img src=\"csia-mcsim-assets/buffon_needle_viz.jpg\" style=\"width:45rem\" />"
   ]
  },
  {
   "cell_type": "markdown",
   "metadata": {
    "slideshow": {
     "slide_type": "skip"
    }
   },
   "source": [
    "This experiment served as a precursor of Ulam's initial description of the method <a id=\"cref-1\" href=\"#ref-1\">[1]</a>."
   ]
  },
  {
   "cell_type": "markdown",
   "metadata": {
    "slideshow": {
     "slide_type": "slide"
    }
   },
   "source": [
    "# MC\n",
    "\n",
    "Monte Carlo methods leverage the Law of Large Numbers:\n",
    "> \"As the number of identically distributed, randomly generated variables increases,<br/>\n",
    "their sample mean approaches their theoretical mean.”\n"
   ]
  },
  {
   "cell_type": "markdown",
   "metadata": {
    "slideshow": {
     "slide_type": "slide"
    }
   },
   "source": [
    "## Estimate of pi"
   ]
  },
  {
   "cell_type": "code",
   "execution_count": 1,
   "metadata": {
    "slideshow": {
     "slide_type": "skip"
    }
   },
   "outputs": [
    {
     "name": "stdout",
     "output_type": "stream",
     "text": [
      "Estimate of pi: 3.176\n"
     ]
    },
    {
     "data": {
      "image/png": "[encoded data removed]",
      "text/plain": [
       "<matplotlib.figure.Figure at 0x7fdf6c22c780>"
      ]
     },
     "metadata": {},
     "output_type": "display_data"
    }
   ],
   "source": [
    "import numpy as np\n",
    "import matplotlib.pyplot as plt\n",
    "%matplotlib inline\n",
    "\n",
    "n = 1000\n",
    "x = np.random.rand(n,2)\n",
    "\n",
    "inside = x[\n",
    "    np.sqrt(x[:,0]**2 + x[:,1]**2) \n",
    "    < 1]\n",
    "estimate = 4 * len(inside) / len(x)\n",
    "\n",
    "print('Estimate of pi: %s' % estimate)\n",
    "\n",
    "plt.figure(figsize=(8,8))\n",
    "plt.scatter(x[:,0], x[:,1], s=3, c='red')\n",
    "plt.scatter(inside[:,0],inside[:,1],s=3,c='blue')\n",
    "plt.show()"
   ]
  },
  {
   "cell_type": "markdown",
   "metadata": {
    "slideshow": {
     "slide_type": "skip"
    }
   },
   "source": [
    "## Estimate of pi using 1k, 10k, 100k, 1m points\n",
    "\n",
    "![](csia-mcsim-assets/pi_estimation.png)"
   ]
  },
  {
   "cell_type": "markdown",
   "metadata": {
    "slideshow": {
     "slide_type": "slide"
    }
   },
   "source": [
    "As we keep playing, and as $n\\rightarrow \\infty$ we approach this true value, according to the strong law of large numbers:\n",
    "\n",
    "> The probability that, as the number of trials n goes to infinity, the average of the observations converges to the expected value, is equal to one."
   ]
  },
  {
   "cell_type": "markdown",
   "metadata": {
    "slideshow": {
     "slide_type": "skip"
    }
   },
   "source": [
    "# Importance Sampling"
   ]
  },
  {
   "cell_type": "markdown",
   "metadata": {
    "slideshow": {
     "slide_type": "skip"
    }
   },
   "source": [
    "Importance sampling is **choosing a good distribution from which to simulate random variables** (Anderson E. C., 1999).\n",
    "\n",
    "It makes intuitive sense that we must obtain a sample from important regions so as to obtain accurate results. This is done by **overweighing important regions within the sample**, hence the name importance sampling.\n",
    "\n",
    "Contrary to its name importance sampling is not sampling per se but rather an approximation method.\n",
    "\n",
    "Importance sampling is a **variance reduction technique** that can be used in the Monte Carlo method."
   ]
  },
  {
   "cell_type": "markdown",
   "metadata": {
    "slideshow": {
     "slide_type": "skip"
    }
   },
   "source": [
    " If these \"important\" values are emphasized by sampling more frequently, then the estimator variance can be reduced.\n",
    " \n",
    "Hence, the basic methodology in importance sampling is to choose a distribution which \"encourages\" the important values.\n",
    "\n",
    "This use of \"biased\" distributions will result in a biased estimator if it is applied directly in the simulation.\n",
    "\n",
    "However, the simulation outputs are weighted to correct for the use of the biased distribution, and this ensures that the new importance sampling estimator is unbiased. The weight is given by the likelihood ratio, that is, the Radon–Nikodym derivative of the true underlying distribution with respect to the biased simulation distribution."
   ]
  },
  {
   "cell_type": "markdown",
   "metadata": {
    "slideshow": {
     "slide_type": "skip"
    }
   },
   "source": [
    "\n",
    "https://www.researchgate.net/publication/316270961_A_quantitative_approach_to_behavioural_analysis_of_drivers_in_highways_using_particle_filtering\n",
    "\n",
    "FIGURE 1: Illustration of the three stages of importance sampling, resampling, and sampling (prediction) in PF, figure from (15)\n",
    "![](csia-mcsim-assets/importance_sampling.jpg)\n",
    "\n",
    "FIGURE 2: The result for estimation of the parameter T. The blue shadow denotes the distribution of particles at each time instance while the red curve is the selected particle.\n",
    "![](csia-mcsim-assets/parameter_estimation.jpg)\n",
    "\n",
    "![](csia-mcsim-assets/bollinger_bands.png)"
   ]
  },
  {
   "cell_type": "markdown",
   "metadata": {
    "slideshow": {
     "slide_type": "skip"
    }
   },
   "source": [
    "https://www.researchgate.net/publication/323500193_Predictive_airframe_maintenance_strategies_using_model-based_prognostics\n",
    "\n",
    "Figure 1. Using Monte Carlo method to predict future degradation. \n",
    "![](csia-mcsim-assets/future_degradation.jpg)"
   ]
  },
  {
   "cell_type": "markdown",
   "metadata": {
    "slideshow": {
     "slide_type": "skip"
    }
   },
   "source": [
    "---"
   ]
  },
  {
   "cell_type": "markdown",
   "metadata": {
    "slideshow": {
     "slide_type": "skip"
    }
   },
   "source": [
    "# Bibliography"
   ]
  },
  {
   "cell_type": "markdown",
   "metadata": {
    "slideshow": {
     "slide_type": "skip"
    }
   },
   "source": [
    "<a id=\"ref-1\" href=\"#cref-1\">[1]</a>: http://people.bordeaux.inria.fr/pierre.delmoral/MetropolisUlam49.pdf\n",
    "\n",
    "+ https://www.wikiwand.com/en/Monte_Carlo_method\n",
    "+ https://blog.quantinsti.com/introduction-monte-carlo-analysis\n",
    "+ https://en.wikipedia.org/wiki/Buffon%27s_needle_problem\n",
    "+ https://towardsdatascience.com/an-overview-of-monte-carlo-methods-675384eb1694\n",
    "+ https://www.ncbi.nlm.nih.gov/pmc/articles/PMC2924739/\n",
    "+ https://en.wikipedia.org/wiki/Law_of_large_numbers\n",
    "+ \n",
    "+ https://github.com/aws-samples/ec2-spot-montecarlo-workshop/blob/master/src/monte-carlo-workshop.ipynb\n",
    "+ https://en.wikipedia.org/wiki/Monte_Carlo_integration#Recursive_stratified_sampling\n",
    "  + similar to https://en.wikipedia.org/wiki/Quadtree\n",
    "+ \n",
    "+ https://blog.josephmisiti.com/law-of-large-numbers-vs-central-limit-theorem\n",
    "+ https://github.com/pat-hanbury/MonteCarloTutorial/blob/master/MonteCarloExample.ipynb\n",
    "+ https://www.datacamp.com/community/tutorials/tutorial-monte-carlo\n",
    "+ https://campus.datacamp.com/courses/intro-to-portfolio-risk-management-in-python/value-at-risk?ex=12\n",
    "\n",
    "+ http://www.phys.ubbcluj.ro/~zneda/edu/mc/mcshort.pdf\n",
    "+ https://www.slideshare.net/gfbreaux/monte-carlo-simulations\n",
    "+ https://pbpython.com/monte-carlo.html\n",
    "+ https://www.rdatagen.net/post/importance-sampling-adds-a-little-excitement-to-monte-carlo-simulation/\n"
   ]
  },
  {
   "cell_type": "code",
   "execution_count": null,
   "metadata": {
    "slideshow": {
     "slide_type": "skip"
    }
   },
   "outputs": [],
   "source": []
  },
  {
   "cell_type": "markdown",
   "metadata": {
    "slideshow": {
     "slide_type": "skip"
    }
   },
   "source": [
    "---"
   ]
  }
 ],
 "metadata": {
  "hide_input": false,
  "kernelspec": {
   "display_name": "Python 3",
   "language": "python",
   "name": "python3"
  },
  "language_info": {
   "codemirror_mode": {
    "name": "ipython",
    "version": 3
   },
   "file_extension": ".py",
   "mimetype": "text/x-python",
   "name": "python",
   "nbconvert_exporter": "python",
   "pygments_lexer": "ipython3",
   "version": "3.5.2"
  },
  "toc": {
   "base_numbering": 1,
   "nav_menu": {},
   "number_sections": true,
   "sideBar": true,
   "skip_h1_title": false,
   "title_cell": "Table of Contents",
   "title_sidebar": "Contents",
   "toc_cell": false,
   "toc_position": {},
   "toc_section_display": true,
   "toc_window_display": false
  },
  "varInspector": {
   "cols": {
    "lenName": 16,
    "lenType": 16,
    "lenVar": 40
   },
   "kernels_config": {
    "python": {
     "delete_cmd_postfix": "",
     "delete_cmd_prefix": "del ",
     "library": "var_list.py",
     "varRefreshCmd": "print(var_dic_list())"
    },
    "r": {
     "delete_cmd_postfix": ") ",
     "delete_cmd_prefix": "rm(",
     "library": "var_list.r",
     "varRefreshCmd": "cat(var_dic_list()) "
    }
   },
   "types_to_exclude": [
    "module",
    "function",
    "builtin_function_or_method",
    "instance",
    "_Feature"
   ],
   "window_display": false
  }
 },
 "nbformat": 4,
 "nbformat_minor": 2
}
