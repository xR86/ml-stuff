{
 "cells": [
  {
   "cell_type": "markdown",
   "metadata": {},
   "source": [
    "# utils_os.py"
   ]
  },
  {
   "cell_type": "code",
   "execution_count": 1,
   "metadata": {},
   "outputs": [],
   "source": [
    "import os"
   ]
  },
  {
   "cell_type": "code",
   "execution_count": 2,
   "metadata": {},
   "outputs": [],
   "source": [
    "root, dirs, files = os.walk('../').__next__()"
   ]
  },
  {
   "cell_type": "code",
   "execution_count": 3,
   "metadata": {},
   "outputs": [
    {
     "name": "stdout",
     "output_type": "stream",
     "text": [
      "../\n",
      "---\n",
      "['labs-python', '.ipynb_checkpoints', 'labs-neural-networks', '.git', 'kaggle', '.idea', 'labs-AI', 'labs-machine-learning']\n",
      "---\n",
      "['start-jupyter.bat', 'README.md', 'LICENSE', '.gitignore']\n",
      "---\n"
     ]
    }
   ],
   "source": [
    "print(root, end='\\n---\\n')\n",
    "print(dirs, end='\\n---\\n')\n",
    "print(files, end='\\n---\\n')"
   ]
  },
  {
   "cell_type": "code",
   "execution_count": 4,
   "metadata": {},
   "outputs": [
    {
     "data": {
      "text/plain": [
       "['.gitignore']"
      ]
     },
     "execution_count": 4,
     "metadata": {},
     "output_type": "execute_result"
    }
   ],
   "source": [
    "lst = list(filter(None, map(lambda x: x if x.startswith('.') else None, files)))\n",
    "lst"
   ]
  },
  {
   "cell_type": "markdown",
   "metadata": {},
   "source": [
    "# utils_graph.py"
   ]
  },
  {
   "cell_type": "code",
   "execution_count": 28,
   "metadata": {},
   "outputs": [],
   "source": [
    "from utils_graph import * # jp_display_color_palette\n",
    "import utils_graph"
   ]
  },
  {
   "cell_type": "code",
   "execution_count": 29,
   "metadata": {
    "scrolled": true
   },
   "outputs": [
    {
     "data": {
      "text/html": [
       "<div style=\"background-color: rgb(0, 107, 164); display: inline-block; padding: 2rem; margin: 0.1rem; border-radius: 5%\">cb_blue_1</div><div style=\"background-color: rgb(95, 158, 209); display: inline-block; padding: 2rem; margin: 0.1rem; border-radius: 5%\">cb_blue_2</div><div style=\"background-color: rgb(162, 200, 236); display: inline-block; padding: 2rem; margin: 0.1rem; border-radius: 5%\">cb_blue_3</div><div style=\"background-color: rgb(89, 89, 89); display: inline-block; padding: 2rem; margin: 0.1rem; border-radius: 5%\">cb_grey_1</div><div style=\"background-color: rgb(137, 137, 137); display: inline-block; padding: 2rem; margin: 0.1rem; border-radius: 5%\">cb_grey_2</div><div style=\"background-color: rgb(171, 171, 171); display: inline-block; padding: 2rem; margin: 0.1rem; border-radius: 5%\">cb_grey_3</div><div style=\"background-color: rgb(207, 207, 207); display: inline-block; padding: 2rem; margin: 0.1rem; border-radius: 5%\">cb_grey_4</div><div style=\"background-color: rgb(200, 82, 0); display: inline-block; padding: 2rem; margin: 0.1rem; border-radius: 5%\">cb_orange_1</div><div style=\"background-color: rgb(255, 128, 14); display: inline-block; padding: 2rem; margin: 0.1rem; border-radius: 5%\">cb_orange_2</div><div style=\"background-color: rgb(255, 188, 121); display: inline-block; padding: 2rem; margin: 0.1rem; border-radius: 5%\">cb_orange_3</div>"
      ],
      "text/plain": [
       "<IPython.core.display.HTML object>"
      ]
     },
     "metadata": {},
     "output_type": "display_data"
    }
   ],
   "source": [
    "#dir(utils_graph)\n",
    "utils_graph.jp_display_color_pallete()"
   ]
  },
  {
   "cell_type": "markdown",
   "metadata": {},
   "source": [
    "# utils_pandas.py"
   ]
  },
  {
   "cell_type": "code",
   "execution_count": 34,
   "metadata": {},
   "outputs": [
    {
     "data": {
      "text/plain": [
       "['Feature 1', 'Feature 2']"
      ]
     },
     "execution_count": 34,
     "metadata": {},
     "output_type": "execute_result"
    }
   ],
   "source": [
    "\n",
    "keep_this = \"\"\"\n",
    "Feature 1\n",
    "Feature 2  \n",
    "\"\"\"\n",
    "\n",
    "\n",
    "def feature_lst(lst=keep_this):\n",
    "\treturn list(map(lambda x: x.strip(), filter(None, lst.split('\\n'))))\n",
    "feature_lst()"
   ]
  },
  {
   "cell_type": "code",
   "execution_count": null,
   "metadata": {},
   "outputs": [],
   "source": []
  }
 ],
 "metadata": {
  "kernelspec": {
   "display_name": "Python 3",
   "language": "python",
   "name": "python3"
  },
  "language_info": {
   "codemirror_mode": {
    "name": "ipython",
    "version": 3
   },
   "file_extension": ".py",
   "mimetype": "text/x-python",
   "name": "python",
   "nbconvert_exporter": "python",
   "pygments_lexer": "ipython3",
   "version": "3.5.2"
  }
 },
 "nbformat": 4,
 "nbformat_minor": 2
}
