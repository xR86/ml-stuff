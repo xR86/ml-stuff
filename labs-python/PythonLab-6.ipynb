{
 "cells": [
  {
   "cell_type": "markdown",
   "metadata": {},
   "source": [
    "### Lab 6"
   ]
  },
  {
   "cell_type": "markdown",
   "metadata": {},
   "source": [
    "1) Sa se scrie o functie care extrage cuvintele dintr-un text dat ca parametru. Un cuvant este definit ca o secventa de caractere alfa-numerice."
   ]
  },
  {
   "cell_type": "code",
   "execution_count": 7,
   "metadata": {
    "collapsed": false
   },
   "outputs": [
    {
     "data": {
      "text/plain": [
       "['Today', \"I'm\", 'having', 'a', 'python', 'course']"
      ]
     },
     "execution_count": 7,
     "metadata": {},
     "output_type": "execute_result"
    }
   ],
   "source": [
    "import re\n",
    "\n",
    "def extract_words(txt):\n",
    "    #equal expressions\n",
    "    #print (re.split(\"[^a-z']+\", txt, flags = re.IGNORECASE))\n",
    "    #print (re.split(\"[^a-z'A-Z]+\", txt))\n",
    "    return re.split(\"[^a-z'A-Z]+\", txt)\n",
    "\n",
    "extract_words(\"Today I'm having a python course\")"
   ]
  },
  {
   "cell_type": "markdown",
   "metadata": {},
   "source": [
    "2) Sa se scrie o functie care primeste ca parametru un sir de caractere regex, un sir de caractere text si un numar intreg x si returneaza acele substring-uri de lungime maxim x care fac match pe expresia regulata data."
   ]
  },
  {
   "cell_type": "code",
   "execution_count": 20,
   "metadata": {
    "collapsed": false
   },
   "outputs": [
    {
     "name": "stdout",
     "output_type": "stream",
     "text": [
      "['a', 'a', 'a']\n"
     ]
    },
    {
     "data": {
      "text/plain": [
       "[]"
      ]
     },
     "execution_count": 20,
     "metadata": {},
     "output_type": "execute_result"
    }
   ],
   "source": [
    "import re\n",
    "\n",
    "def match_substring(regexp, txt, length):\n",
    "    regexp = re.compile(regexp)\n",
    "    result = re.findall(regexp, txt)\n",
    "    if result:\n",
    "        print result\n",
    "        #copy = result[:] #slicing makes copy without reference\n",
    "        result = [x for x in result if len(x) == length]\n",
    "        return result\n",
    "                \n",
    "match_substring(r'a', \"Today I'm having a python course\", 4)\n"
   ]
  },
  {
   "cell_type": "markdown",
   "metadata": {},
   "source": [
    "3) Sa se scrie o functie care primeste ca parametru un sir de caractere text si o lista de expresii regulate si returneaza o lista de siruri de caractere care fac match pe cel putin o expresie regulata daca ca parametru."
   ]
  },
  {
   "cell_type": "code",
   "execution_count": 28,
   "metadata": {
    "collapsed": false
   },
   "outputs": [
    {
     "name": "stdout",
     "output_type": "stream",
     "text": [
      "['ay', 'on']\n",
      "[<_sre.SRE_Pattern object at 0x056661E0>, <_sre.SRE_Pattern object at 0x05666330>]\n"
     ]
    },
    {
     "data": {
      "text/plain": [
       "[['ay'], ['on']]"
      ]
     },
     "execution_count": 28,
     "metadata": {},
     "output_type": "execute_result"
    }
   ],
   "source": [
    "import re\n",
    "\n",
    "def match_regex_list(txt, regexp_list):\n",
    "    print regexp_list\n",
    "    for i in range(len(regexp_list)):\n",
    "        regexp_list[i] = re.compile(regexp_list[i])\n",
    "    print regexp_list\n",
    "    \n",
    "    result = []\n",
    "    for i in range(len(regexp_list)):\n",
    "        result.append(re.findall(regexp_list[i], txt))\n",
    "    if result:\n",
    "        return result\n",
    "                \n",
    "match_regex_list(\"Today I'm having a python course\", [r'ay', r'on'])\n"
   ]
  },
  {
   "cell_type": "markdown",
   "metadata": {},
   "source": [
    "**4) Sa se scrie o functie care primeste ca parametru path-ul catre un document xml si un dictionar attrs** si returneaza acele elemente care au ca atribute toate cheile din dictionar si ca valoare valorile corespunzatoare. De exemplu, pentru dictionarul {\"class\": \"url\", \"name\": \"url-form\", \"data-id\": \"item\"} se vor selecta elementele care au atributele: class=\"url\" si name=\"url-form\" si data-id=\"item\"."
   ]
  },
  {
   "cell_type": "code",
   "execution_count": 39,
   "metadata": {
    "collapsed": false
   },
   "outputs": [
    {
     "name": "stdout",
     "output_type": "stream",
     "text": [
      "<?xml version=\"1.0\" encoding=\"UTF-8\"?>\n",
      "<game>\n",
      "\t<title>Angry Profs</title>\n",
      "\t<platform>Android</platform>\n",
      "\t<platform min-version=\"8\">iOS</platform>\n",
      "\t<platform min-version=\"10\">Windows</platform>\n",
      "\t<url>...</url>\n",
      "\t<player>\n",
      "\t\t<identity>\n",
      "\t\t\t<first-name>Sabin</first-name>\n",
      "\t\t\t<last-name>Buraga</last-name>\n",
      "\t\t\t<!-- eventual, și alte informații -->\n",
      "\t\t</identity>\n",
      "\t\t<points>30374</points>\n",
      "\t</player>\n",
      "</game>\n",
      "---\n",
      "<xml.etree.ElementTree.ElementTree object at 0x05667610>\n",
      "game ::  {}\n",
      "title ::  {}\n",
      "platform ::  {}\n",
      "platform ::  {'min-version': '8'}\n",
      "platform ::  {'min-version': '10'}\n",
      "url ::  {}\n",
      "player ::  {}\n"
     ]
    }
   ],
   "source": [
    "import os\n",
    "import xml.etree.ElementTree as ET\n",
    "\n",
    "def match_XML(file_path):\n",
    "    file_path = os.path.realpath(file_path)\n",
    "    xml_file = open(file_path, 'r').read()\n",
    "    tree = ET.parse(file_path)\n",
    "    root = tree.getroot()\n",
    "    \n",
    "    print xml_file\n",
    "    print '---'\n",
    "    print tree\n",
    "    print root.tag, ':: ', root.attrib\n",
    "    \n",
    "    for child in root:\n",
    "        print child.tag, ':: ', child.attrib\n",
    "    \n",
    "\n",
    "match_XML(\"./lab5/game.xml\")"
   ]
  },
  {
   "cell_type": "markdown",
   "metadata": {},
   "source": [
    "5) Sa se scrie o alta varianta a functiei de la exercitiul anterior care returneaza acele elemente care au cel putin un atribut care corespunde cu o pereche cheie-valoare din dictionar."
   ]
  },
  {
   "cell_type": "code",
   "execution_count": null,
   "metadata": {
    "collapsed": true
   },
   "outputs": [],
   "source": []
  },
  {
   "cell_type": "markdown",
   "metadata": {},
   "source": [
    "6) Sa se scrie o functie care pentru un text dat ca parametru, cenzureaza cuvintele care incep si se termina cu vocale. Prin cenzurare se intelege inlocuirea caracterelor de pe pozitii impare cu caracterul * ."
   ]
  },
  {
   "cell_type": "code",
   "execution_count": 15,
   "metadata": {
    "collapsed": false
   },
   "outputs": [],
   "source": [
    "import re\n",
    "\n",
    "def censor(txt):\n",
    "    regexp = re.compile(r'^[aeiou]\\w+[aeiou]$')\n",
    "    result = re.findall(regexp, txt)\n",
    "    if result:\n",
    "        print result\n",
    "\n",
    "censor(\"Today I'm having a python course\")"
   ]
  },
  {
   "cell_type": "markdown",
   "metadata": {},
   "source": [
    "7) Sa se verifice, folosind o expresie regulata, daca un sir de caractere reprezinta un CNP valid."
   ]
  },
  {
   "cell_type": "code",
   "execution_count": 79,
   "metadata": {
    "collapsed": false
   },
   "outputs": [
    {
     "name": "stdout",
     "output_type": "stream",
     "text": [
      "2950730225780\n",
      "('2', '95', '07', '30', '225780')\n",
      "2\n",
      "95\n",
      "07\n",
      "30\n",
      "225780\n"
     ]
    },
    {
     "data": {
      "text/plain": [
       "True"
      ]
     },
     "execution_count": 79,
     "metadata": {},
     "output_type": "execute_result"
    }
   ],
   "source": [
    "import re\n",
    "\n",
    "def is_valid_CNP(txt):\n",
    "    #regexp = re.compile(\"[12]\\d{12}\") #brute form, with sex verification\n",
    "    regexp = re.compile(\"([1234])(\\d{2})(0[1-9]|1[0-2])(0[1-9]|1[0-9]|2[0-9]|3[0-1])(\\d{6})\") #almost complete form\n",
    "        #checks for sex, (year can be anything), valid month, valid day (without specific month days / leap year checks)\n",
    "        #special checks for last 6 characters ...\n",
    "    result = re.match(regexp, txt)\n",
    "    if result:\n",
    "        #print result\n",
    "        print result.group(0)\n",
    "        print result.groups()\n",
    "        for elem in result.groups():\n",
    "            print elem\n",
    "        return True\n",
    "    return False\n",
    "\n",
    "is_valid_CNP(\"2950730225780\")"
   ]
  },
  {
   "cell_type": "markdown",
   "metadata": {},
   "source": [
    "8) Sa se scrie o functie care parcurge recursiv un director si afiseaza acele fisiere a caror nume face match pe o expresie regulata data ca parametru sau contine un sir de caractere care face match pe aceeasi expresie. Fisierele care satisfac ambele conditii vor fi afisate prefixate cu \">>\" "
   ]
  },
  {
   "cell_type": "code",
   "execution_count": null,
   "metadata": {
    "collapsed": true
   },
   "outputs": [],
   "source": [
    "import os\n",
    "import re\n",
    "\n",
    "def find_regex(dir_path, regexp):\n",
    "    print os.path.realpath(dir_path)\n",
    "    regexp = re.compile(regexp)\n",
    "    #os.walk ...\n",
    "    #result = re.match(regexp, txt)\n",
    "\n",
    "find_regex('./lab5', r'exe\\d{1}.py')"
   ]
  },
  {
   "cell_type": "markdown",
   "metadata": {},
   "source": [
    "---"
   ]
  }
 ],
 "metadata": {
  "kernelspec": {
   "display_name": "Python 2",
   "language": "python",
   "name": "python2"
  },
  "language_info": {
   "codemirror_mode": {
    "name": "ipython",
    "version": 2
   },
   "file_extension": ".py",
   "mimetype": "text/x-python",
   "name": "python",
   "nbconvert_exporter": "python",
   "pygments_lexer": "ipython2",
   "version": "2.7.12"
  }
 },
 "nbformat": 4,
 "nbformat_minor": 1
}
