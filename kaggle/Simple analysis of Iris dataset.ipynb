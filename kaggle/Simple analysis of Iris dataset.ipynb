{
 "cells": [
  {
   "cell_type": "markdown",
   "metadata": {
    "_cell_guid": "a6f5e4ba-5d3b-47bf-8fef-0400af6e7d93",
    "_execution_state": "idle",
    "_uuid": "3c30ccab5dba1f70dcfd09ca58abda68be0dfdfb",
    "collapsed": false
   },
   "source": [
    "# Intros\n",
    "This is a starter kernel ..."
   ]
  },
  {
   "cell_type": "code",
   "execution_count": 1,
   "metadata": {
    "_cell_guid": "ca7f4cf5-a2e2-464c-bfc8-57a766dcb7d7",
    "_execution_state": "idle",
    "_uuid": "6f70489c23175d9374d9e14ac1fa72092f65da6f",
    "collapsed": false
   },
   "outputs": [
    {
     "name": "stdout",
     "output_type": "stream",
     "text": [
      "Iris.csv\n",
      "database.sqlite\n",
      "\n"
     ]
    }
   ],
   "source": [
    "# Scaffolding\n",
    "# This Python 3 environment comes with many helpful analytics libraries installed\n",
    "# It is defined by the kaggle/python docker image: https://github.com/kaggle/docker-python\n",
    "# For example, here's several helpful packages to load in \n",
    "import numpy as np # linear algebra\n",
    "import pandas as pd # data processing, CSV file I/O (e.g. pd.read_csv)\n",
    "\n",
    "# Input data files are available in the \"../input/\" directory.\n",
    "# For example, running this (by clicking run or pressing Shift+Enter) will list the files in the input directory\n",
    "from subprocess import check_output\n",
    "print(check_output([\"ls\", \"../input\"]).decode(\"utf8\"))\n",
    "# Any results you write to the current directory are saved as output."
   ]
  },
  {
   "cell_type": "code",
   "execution_count": 2,
   "metadata": {
    "_cell_guid": "6069a15c-95ce-4f7c-b3d2-daa8cf6f72d6",
    "_execution_state": "idle",
    "_uuid": "a48cde050b68c980f0e79a9f94b37a435af6ce04",
    "collapsed": false
   },
   "outputs": [],
   "source": [
    "import csv\n",
    "\n",
    "import pylab\n",
    "import seaborn as sns\n",
    "\n",
    "from IPython.core.display import display, HTML"
   ]
  },
  {
   "cell_type": "markdown",
   "metadata": {
    "_cell_guid": "ad66bd60-be2e-43d1-9b6b-3fc51311618f",
    "_execution_state": "idle",
    "_uuid": "e88f72bb9560508453edda607f86abbc31389c93",
    "collapsed": false
   },
   "source": [
    "# Data samples and traits"
   ]
  },
  {
   "cell_type": "code",
   "execution_count": 3,
   "metadata": {
    "_cell_guid": "e5b1e4a3-b5f6-4027-be9a-d68cfb89415b",
    "_execution_state": "idle",
    "_uuid": "f35d8dfcece95e8363a0df70262722b1974da274",
    "collapsed": false
   },
   "outputs": [
    {
     "data": {
      "text/html": [
       "<div>\n",
       "<style>\n",
       "    .dataframe thead tr:only-child th {\n",
       "        text-align: right;\n",
       "    }\n",
       "\n",
       "    .dataframe thead th {\n",
       "        text-align: left;\n",
       "    }\n",
       "\n",
       "    .dataframe tbody tr th {\n",
       "        vertical-align: top;\n",
       "    }\n",
       "</style>\n",
       "<table border=\"1\" class=\"dataframe\">\n",
       "  <thead>\n",
       "    <tr style=\"text-align: right;\">\n",
       "      <th></th>\n",
       "      <th>index</th>\n",
       "      <th>Id</th>\n",
       "      <th>SepalLengthCm</th>\n",
       "      <th>SepalWidthCm</th>\n",
       "      <th>PetalLengthCm</th>\n",
       "      <th>PetalWidthCm</th>\n",
       "      <th>Species</th>\n",
       "    </tr>\n",
       "  </thead>\n",
       "  <tbody>\n",
       "    <tr>\n",
       "      <th>0</th>\n",
       "      <td>0</td>\n",
       "      <td>1</td>\n",
       "      <td>5.1</td>\n",
       "      <td>3.5</td>\n",
       "      <td>1.4</td>\n",
       "      <td>0.2</td>\n",
       "      <td>Iris-setosa</td>\n",
       "    </tr>\n",
       "    <tr>\n",
       "      <th>1</th>\n",
       "      <td>1</td>\n",
       "      <td>2</td>\n",
       "      <td>4.9</td>\n",
       "      <td>3.0</td>\n",
       "      <td>1.4</td>\n",
       "      <td>0.2</td>\n",
       "      <td>Iris-setosa</td>\n",
       "    </tr>\n",
       "    <tr>\n",
       "      <th>2</th>\n",
       "      <td>2</td>\n",
       "      <td>3</td>\n",
       "      <td>4.7</td>\n",
       "      <td>3.2</td>\n",
       "      <td>1.3</td>\n",
       "      <td>0.2</td>\n",
       "      <td>Iris-setosa</td>\n",
       "    </tr>\n",
       "    <tr>\n",
       "      <th>3</th>\n",
       "      <td>3</td>\n",
       "      <td>4</td>\n",
       "      <td>4.6</td>\n",
       "      <td>3.1</td>\n",
       "      <td>1.5</td>\n",
       "      <td>0.2</td>\n",
       "      <td>Iris-setosa</td>\n",
       "    </tr>\n",
       "    <tr>\n",
       "      <th>4</th>\n",
       "      <td>4</td>\n",
       "      <td>5</td>\n",
       "      <td>5.0</td>\n",
       "      <td>3.6</td>\n",
       "      <td>1.4</td>\n",
       "      <td>0.2</td>\n",
       "      <td>Iris-setosa</td>\n",
       "    </tr>\n",
       "  </tbody>\n",
       "</table>\n",
       "</div>"
      ],
      "text/plain": [
       "   index  Id  SepalLengthCm  SepalWidthCm  PetalLengthCm  PetalWidthCm  \\\n",
       "0      0   1            5.1           3.5            1.4           0.2   \n",
       "1      1   2            4.9           3.0            1.4           0.2   \n",
       "2      2   3            4.7           3.2            1.3           0.2   \n",
       "3      3   4            4.6           3.1            1.5           0.2   \n",
       "4      4   5            5.0           3.6            1.4           0.2   \n",
       "\n",
       "       Species  \n",
       "0  Iris-setosa  \n",
       "1  Iris-setosa  \n",
       "2  Iris-setosa  \n",
       "3  Iris-setosa  \n",
       "4  Iris-setosa  "
      ]
     },
     "execution_count": 3,
     "metadata": {},
     "output_type": "execute_result"
    }
   ],
   "source": [
    "data = pd.read_csv(\"../input/Iris.csv\", header = 0)\n",
    "#reset index\n",
    "data = data.reset_index()\n",
    "data.head()"
   ]
  },
  {
   "cell_type": "code",
   "execution_count": 4,
   "metadata": {
    "_cell_guid": "01bf7bd5-5512-4da1-88f2-986d0d246405",
    "_execution_state": "idle",
    "_uuid": "05502ca33fc73e5bac0a26385d4f476f9953f444",
    "collapsed": false
   },
   "outputs": [
    {
     "name": "stdout",
     "output_type": "stream",
     "text": [
      "Types of species: ['Iris-setosa', 'Iris-versicolor', 'Iris-virginica']\n",
      "Dataset length: 150\n",
      "Sepal length range: [4.3, 7.9]\n",
      "Sepal width range: [2.0, 7.9]\n",
      "Petal length range: [1.0, 6.9]\n",
      "Petal width range: [0.1, 2.5]\n"
     ]
    }
   ],
   "source": [
    "species_list = list(data[\"Species\"].unique())\n",
    "print(\"Types of species: %s\" % species_list)\n",
    "print(\"Dataset length: %i\" % len(data))\n",
    "\n",
    "print(\"Sepal length range: [%s, %s]\" % (min(data[\"SepalLengthCm\"]), max(data[\"SepalLengthCm\"])))\n",
    "print(\"Sepal width range: [%s, %s]\" % (min(data[\"SepalWidthCm\"]), max(data[\"SepalLengthCm\"])))\n",
    "\n",
    "print(\"Petal length range: [%s, %s]\" % (min(data[\"PetalLengthCm\"]), max(data[\"PetalLengthCm\"])))\n",
    "print(\"Petal width range: [%s, %s]\" % (min(data[\"PetalWidthCm\"]), max(data[\"PetalWidthCm\"])))\n"
   ]
  },
  {
   "cell_type": "markdown",
   "metadata": {
    "_cell_guid": "b8b7811a-c99b-493d-9946-bfc6393a6c73",
    "_execution_state": "idle",
    "_uuid": "4de1b52a2776df8ea3353dfef5cd91f5d1140902",
    "collapsed": false
   },
   "source": [
    "**3 types of species**  \n",
    "Relatively small dataset\n"
   ]
  },
  {
   "cell_type": "markdown",
   "metadata": {
    "_cell_guid": "d5185617-f8a8-4686-91bd-394b46a8379d",
    "_execution_state": "idle",
    "_uuid": "468d441e72208d5407523dda4ef4e223b545e70b",
    "collapsed": false
   },
   "source": [
    "# Data analysis - distributions"
   ]
  },
  {
   "cell_type": "code",
   "execution_count": 5,
   "metadata": {
    "_cell_guid": "e72ff2b6-92b1-432c-b301-599d23337095",
    "_execution_state": "idle",
    "_uuid": "22143ae614690f31fae96e7c878e285df7775d24",
    "collapsed": false
   },
   "outputs": [
    {
     "data": {
      "text/plain": [
       "<matplotlib.text.Text at 0x7ffa63d3fcc0>"
      ]
     },
     "execution_count": 5,
     "metadata": {},
     "output_type": "execute_result"
    },
    {
     "data": {
      "image/png": "[encoded data removed]",
      "text/plain": [
       "<matplotlib.figure.Figure at 0x7ffa51e86518>"
      ]
     },
     "metadata": {},
     "output_type": "display_data",
     "transient": {}
    }
   ],
   "source": [
    "# data.hist calls data.plot\n",
    "# pandas.DataFrame.plot() returns a matplotlib axis\n",
    "data.hist(\n",
    "    column=[\"SepalLengthCm\", \"SepalWidthCm\", \"PetalLengthCm\", \"PetalWidthCm\", \"Species\"],\n",
    "    figsize=(10, 10)\n",
    "    #,sharey=True, sharex=True\n",
    ")\n",
    "pylab.suptitle(\"Analyzing distribution for the series\", fontsize=\"xx-large\")\n",
    "\n",
    "#alternative\n",
    "#plt.subplot(2,3,1)  # if using subplot\n",
    "#data.hist(...)\n",
    "#plt.title('your title')"
   ]
  },
  {
   "cell_type": "markdown",
   "metadata": {
    "_cell_guid": "6271a290-54c2-4bd7-9763-aecb75032a4d",
    "_execution_state": "idle",
    "_uuid": "7d859ecf6fa2e5a0633a6e569cfc6147eaa34246",
    "collapsed": false
   },
   "source": [
    "**Petal length** and **petal width** seem to diverge from the normal distribution."
   ]
  },
  {
   "cell_type": "markdown",
   "metadata": {
    "_cell_guid": "856e3750-62bf-4e85-9652-7abd2ab9d794",
    "_execution_state": "idle",
    "_uuid": "32067a7d4196d17e1404d48a0a6bd48bc01c1ce7",
    "collapsed": false
   },
   "source": [
    "# Data analysis - correlations"
   ]
  },
  {
   "cell_type": "code",
   "execution_count": 10,
   "metadata": {
    "_cell_guid": "78ed2093-c178-41fa-8df9-1a5ee015efcf",
    "_execution_state": "idle",
    "_uuid": "e78c7509a8fd3baf980a25e169e1bffa3345e44d",
    "collapsed": false
   },
   "outputs": [
    {
     "data": {
      "text/html": [
       "<h1>Analyzing the <a href=\"https://en.wikipedia.org/wiki/Pearson_correlation_coefficient\">Pearson correlation coefficient</a></h1>"
      ],
      "text/plain": [
       "<IPython.core.display.HTML object>"
      ]
     },
     "metadata": {},
     "output_type": "display_data",
     "transient": {}
    },
    {
     "data": {
      "text/html": [
       "<div>\n",
       "<style>\n",
       "    .dataframe thead tr:only-child th {\n",
       "        text-align: right;\n",
       "    }\n",
       "\n",
       "    .dataframe thead th {\n",
       "        text-align: left;\n",
       "    }\n",
       "\n",
       "    .dataframe tbody tr th {\n",
       "        vertical-align: top;\n",
       "    }\n",
       "</style>\n",
       "<table border=\"1\" class=\"dataframe\">\n",
       "  <thead>\n",
       "    <tr style=\"text-align: right;\">\n",
       "      <th></th>\n",
       "      <th>SepalLengthCm</th>\n",
       "      <th>SepalWidthCm</th>\n",
       "      <th>PetalLengthCm</th>\n",
       "      <th>PetalWidthCm</th>\n",
       "    </tr>\n",
       "  </thead>\n",
       "  <tbody>\n",
       "    <tr>\n",
       "      <th>SepalLengthCm</th>\n",
       "      <td>1.000000</td>\n",
       "      <td>-0.109369</td>\n",
       "      <td>0.871754</td>\n",
       "      <td>0.817954</td>\n",
       "    </tr>\n",
       "    <tr>\n",
       "      <th>SepalWidthCm</th>\n",
       "      <td>-0.109369</td>\n",
       "      <td>1.000000</td>\n",
       "      <td>-0.420516</td>\n",
       "      <td>-0.356544</td>\n",
       "    </tr>\n",
       "    <tr>\n",
       "      <th>PetalLengthCm</th>\n",
       "      <td>0.871754</td>\n",
       "      <td>-0.420516</td>\n",
       "      <td>1.000000</td>\n",
       "      <td>0.962757</td>\n",
       "    </tr>\n",
       "    <tr>\n",
       "      <th>PetalWidthCm</th>\n",
       "      <td>0.817954</td>\n",
       "      <td>-0.356544</td>\n",
       "      <td>0.962757</td>\n",
       "      <td>1.000000</td>\n",
       "    </tr>\n",
       "  </tbody>\n",
       "</table>\n",
       "</div>"
      ],
      "text/plain": [
       "               SepalLengthCm  SepalWidthCm  PetalLengthCm  PetalWidthCm\n",
       "SepalLengthCm       1.000000     -0.109369       0.871754      0.817954\n",
       "SepalWidthCm       -0.109369      1.000000      -0.420516     -0.356544\n",
       "PetalLengthCm       0.871754     -0.420516       1.000000      0.962757\n",
       "PetalWidthCm        0.817954     -0.356544       0.962757      1.000000"
      ]
     },
     "metadata": {},
     "output_type": "display_data",
     "transient": {}
    },
    {
     "data": {
      "text/plain": [
       "array([[ True, False, False, False],\n",
       "       [ True,  True, False, False],\n",
       "       [ True,  True,  True, False],\n",
       "       [ True,  True,  True,  True]], dtype=bool)"
      ]
     },
     "metadata": {},
     "output_type": "display_data",
     "transient": {}
    },
    {
     "name": "stdout",
     "output_type": "stream",
     "text": [
      "               SepalLengthCm  SepalWidthCm  PetalLengthCm  PetalWidthCm\n",
      "SepalLengthCm       1.000000           NaN            NaN           NaN\n",
      "SepalWidthCm       -0.109369      1.000000            NaN           NaN\n",
      "PetalLengthCm       0.871754     -0.420516       1.000000           NaN\n",
      "PetalWidthCm        0.817954     -0.356544       0.962757           1.0\n"
     ]
    },
    {
     "data": {
      "text/plain": [
       "<matplotlib.axes._subplots.AxesSubplot at 0x7ffa4e702358>"
      ]
     },
     "execution_count": 10,
     "metadata": {},
     "output_type": "execute_result"
    },
    {
     "data": {
      "image/png": "[encoded data removed]",
      "text/plain": [
       "<matplotlib.figure.Figure at 0x7ffa4e1ef630>"
      ]
     },
     "metadata": {},
     "output_type": "display_data",
     "transient": {}
    }
   ],
   "source": [
    "display(HTML('<h1>Analyzing the ' +\n",
    "             '<a href=\"https://en.wikipedia.org/wiki/Pearson_correlation_coefficient\">' +\n",
    "             'Pearson correlation coefficient</a></h1>'))\n",
    "\n",
    "# data without the indexes\n",
    "dt = data[data.columns[2:]]\n",
    "\n",
    "# method : {‘pearson’, ‘kendall’, ‘spearman’}\n",
    "corr = dt.corr(method=\"pearson\") #returns a dataframe, so it can be reused\n",
    "display(corr)\n",
    "\n",
    "bool_upper_matrix = np.tril(np.ones(corr.shape)).astype(np.bool)\n",
    "display(bool_upper_matrix)\n",
    "\n",
    "corr = corr.where(bool_upper_matrix)\n",
    "print(corr)\n",
    "\n",
    "# seaborn matrix here\n",
    "#sns.heatmap(corr, mask=np.zeros_like(corr, dtype=np.bool), cmap=sns.diverging_palette(220, 10, as_cmap=True),\n",
    "#            square=True, ax=ax)\n",
    "sns.heatmap(corr, cmap=sns.diverging_palette(220, 10, as_cmap=True),\n",
    "            xticklabels=corr.columns.values,\n",
    "            yticklabels=corr.columns.values)"
   ]
  },
  {
   "cell_type": "markdown",
   "metadata": {
    "_cell_guid": "7206ccec-7e23-4681-ab69-3f102f8a576e",
    "_execution_state": "idle",
    "_uuid": "d54fbabffdf61e3512c057dfcd6543951affdf2b",
    "collapsed": false
   },
   "source": [
    "### Interpretation\n",
    "Diagonal values and upper triangle are ignored (melted the upper triangle through **np.tril** and **df.where**).  \n",
    "Naturally, we find:\n",
    "\n",
    "+ a **high positive correlation** between PetalWidth and PetalLength (**0.96**)\n",
    "+ a **high positive correlation** between PetalLength and SepalLength (**0.87**)\n",
    "+ a **high positive correlation** between PetalWidth and SepalLength (**0.81**)\n",
    "\n",
    "\n",
    "### Theory\n",
    "PCC is:\n",
    "\n",
    "+ 1 is total positive linear correlation\n",
    "+ 0 is no linear correlation\n",
    "+ −1 is total negative linear correlation\n",
    "\n"
   ]
  },
  {
   "cell_type": "code",
   "execution_count": 6,
   "metadata": {
    "_cell_guid": "74420f78-b8ee-48b1-8fd2-638b81dc47ee",
    "_execution_state": "idle",
    "_uuid": "04b4b18aa1363a030993ac6338d7fc42f61ee6ca",
    "collapsed": false
   },
   "outputs": [],
   "source": []
  }
 ],
 "metadata": {
  "kernelspec": {
   "display_name": "Python 3",
   "language": "python",
   "name": "python3"
  },
  "language_info": {
   "codemirror_mode": {
    "name": "ipython",
    "version": 3
   },
   "file_extension": ".py",
   "mimetype": "text/x-python",
   "name": "python",
   "nbconvert_exporter": "python",
   "pygments_lexer": "ipython3",
   "version": "3.5.2"
  }
 },
 "nbformat": 4,
 "nbformat_minor": 0
}
