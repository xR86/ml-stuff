{
 "cells": [
  {
   "cell_type": "markdown",
   "metadata": {
    "slideshow": {
     "slide_type": "skip"
    }
   },
   "source": [
    "# Lab 5 - Unsupervised Learning <a class=\"tocSkip\">"
   ]
  },
  {
   "cell_type": "markdown",
   "metadata": {
    "slideshow": {
     "slide_type": "skip"
    }
   },
   "source": [
    "use elbow point for hierarchical and kmeans\n",
    "\n",
    "kmeans:\n",
    "+ interclass var (WSS within sum of squares) vs no of clusters => elbow\n",
    "\n",
    "hierarchical:\n",
    "+ use dendrogram height, last 2 clusters heights are relevant\n",
    "\n",
    "need Silhouette Width (https://en.wikipedia.org/wiki/Silhouette_(clustering))\n",
    "+ https://scikit-learn.org/stable/modules/generated/sklearn.metrics.silhouette_score.html\n",
    "+ https://scikit-learn.org/stable/auto_examples/cluster/plot_kmeans_silhouette_analysis.html\n",
    "+ https://plot.ly/scikit-learn/plot-kmeans-silhouette-analysis/\n",
    "\n",
    "...\n",
    "\n",
    "+ https://en.wikipedia.org/wiki/Rand_index#Adjusted_Rand_index\n",
    "+ https://scikit-learn.org/stable/modules/generated/sklearn.metrics.adjusted_rand_score.html\n",
    "+ https://www.scikit-yb.org/en/latest/api/cluster/elbow.html\n",
    "\n",
    "...\n",
    "\n",
    "+ https://scikit-learn.org/stable/auto_examples/cluster/plot_kmeans_silhouette_analysis.html\n",
    "+ https://plot.ly/scikit-learn/plot-cluster-iris/\n",
    "+ https://plot.ly/scikit-learn/plot-kmeans-digits/\n",
    "+ https://plot.ly/python/3d-point-clustering/\n",
    "+ https://community.plot.ly/t/what-colorscales-are-available-in-plotly-and-which-are-the-default/2079\n",
    "+ https://plot.ly/python/cmocean-colorscales/\n",
    "+ https://matplotlib.org/cmocean/\n",
    "+ \n"
   ]
  },
  {
   "cell_type": "markdown",
   "metadata": {
    "slideshow": {
     "slide_type": "skip"
    }
   },
   "source": [
    "http://cs.joensuu.fi/sipu/datasets/\n",
    "https://towardsdatascience.com/k-means-clustering-implementation-2018-ac5cd1e51d0a\n",
    "https://github.com/deric/clustering-benchmark/blob/master/README.md\n",
    "http://neupy.com/2017/12/09/sofm_applications.html\n",
    "https://wonikjang.github.io/deeplearning_unsupervised_som/2017/06/30/som.html\n",
    "https://www.kaggle.com/raghavrastogi75/fraud-detection-using-self-organising-maps\n",
    "https://medium.com/@navdeepsingh_2336/self-organizing-maps-for-machine-learning-algorithms-ad256a395fc5\n",
    "https://heartbeat.fritz.ai/introduction-to-self-organizing-maps-soms-98e88b568f5d\n"
   ]
  },
  {
   "cell_type": "markdown",
   "metadata": {
    "slideshow": {
     "slide_type": "skip"
    }
   },
   "source": [
    "# Imports"
   ]
  },
  {
   "cell_type": "markdown",
   "metadata": {
    "slideshow": {
     "slide_type": "skip"
    }
   },
   "source": [
    "## Import dependencies"
   ]
  },
  {
   "cell_type": "code",
   "execution_count": 1,
   "metadata": {
    "slideshow": {
     "slide_type": "skip"
    }
   },
   "outputs": [
    {
     "data": {
      "text/html": [
       "<script>requirejs.config({paths: { 'plotly': ['https://cdn.plot.ly/plotly-latest.min']},});if(!window.Plotly) {{require(['plotly'],function(plotly) {window.Plotly=plotly;});}}</script>"
      ],
      "text/vnd.plotly.v1+html": [
       "<script>requirejs.config({paths: { 'plotly': ['https://cdn.plot.ly/plotly-latest.min']},});if(!window.Plotly) {{require(['plotly'],function(plotly) {window.Plotly=plotly;});}}</script>"
      ]
     },
     "metadata": {},
     "output_type": "display_data"
    }
   ],
   "source": [
    "from datetime import datetime as dt\n",
    "\n",
    "import numpy as np\n",
    "import pandas as pd\n",
    "\n",
    "# viz libs\n",
    "import matplotlib.pyplot as plt\n",
    "%matplotlib inline\n",
    "\n",
    "import plotly.graph_objs as go\n",
    "import plotly.figure_factory as ff\n",
    "from plotly.offline import download_plotlyjs, init_notebook_mode, plot, iplot\n",
    "init_notebook_mode(connected=True)\n",
    "\n",
    "random_state=42\n",
    "nb_start = dt.now()"
   ]
  },
  {
   "cell_type": "code",
   "execution_count": null,
   "metadata": {
    "slideshow": {
     "slide_type": "skip"
    }
   },
   "outputs": [],
   "source": []
  },
  {
   "cell_type": "markdown",
   "metadata": {
    "slideshow": {
     "slide_type": "skip"
    }
   },
   "source": [
    "## Import data"
   ]
  },
  {
   "cell_type": "code",
   "execution_count": 2,
   "metadata": {
    "slideshow": {
     "slide_type": "skip"
    }
   },
   "outputs": [
    {
     "name": "stdout",
     "output_type": "stream",
     "text": [
      "  patient_id  heart_disease_present\n",
      "0     0z64un                      0\n",
      "1     ryoo3j                      0\n",
      "2     yt1s1x                      1\n",
      "3     l2xjde                      1\n",
      "4     oyt4ek                      0\n"
     ]
    },
    {
     "data": {
      "text/html": [
       "<div>\n",
       "<style scoped>\n",
       "    .dataframe tbody tr th:only-of-type {\n",
       "        vertical-align: middle;\n",
       "    }\n",
       "\n",
       "    .dataframe tbody tr th {\n",
       "        vertical-align: top;\n",
       "    }\n",
       "\n",
       "    .dataframe thead th {\n",
       "        text-align: right;\n",
       "    }\n",
       "</style>\n",
       "<table border=\"1\" class=\"dataframe\">\n",
       "  <thead>\n",
       "    <tr style=\"text-align: right;\">\n",
       "      <th></th>\n",
       "      <th>patient_id</th>\n",
       "      <th>slope_of_peak_exercise_st_segment</th>\n",
       "      <th>thal</th>\n",
       "      <th>resting_blood_pressure</th>\n",
       "      <th>chest_pain_type</th>\n",
       "      <th>num_major_vessels</th>\n",
       "      <th>fasting_blood_sugar_gt_120_mg_per_dl</th>\n",
       "      <th>resting_ekg_results</th>\n",
       "      <th>serum_cholesterol_mg_per_dl</th>\n",
       "      <th>oldpeak_eq_st_depression</th>\n",
       "      <th>sex</th>\n",
       "      <th>age</th>\n",
       "      <th>max_heart_rate_achieved</th>\n",
       "      <th>exercise_induced_angina</th>\n",
       "    </tr>\n",
       "  </thead>\n",
       "  <tbody>\n",
       "    <tr>\n",
       "      <th>0</th>\n",
       "      <td>0z64un</td>\n",
       "      <td>1</td>\n",
       "      <td>normal</td>\n",
       "      <td>128</td>\n",
       "      <td>2</td>\n",
       "      <td>0</td>\n",
       "      <td>0</td>\n",
       "      <td>2</td>\n",
       "      <td>308</td>\n",
       "      <td>0.0</td>\n",
       "      <td>1</td>\n",
       "      <td>45</td>\n",
       "      <td>170</td>\n",
       "      <td>0</td>\n",
       "    </tr>\n",
       "    <tr>\n",
       "      <th>1</th>\n",
       "      <td>ryoo3j</td>\n",
       "      <td>2</td>\n",
       "      <td>normal</td>\n",
       "      <td>110</td>\n",
       "      <td>3</td>\n",
       "      <td>0</td>\n",
       "      <td>0</td>\n",
       "      <td>0</td>\n",
       "      <td>214</td>\n",
       "      <td>1.6</td>\n",
       "      <td>0</td>\n",
       "      <td>54</td>\n",
       "      <td>158</td>\n",
       "      <td>0</td>\n",
       "    </tr>\n",
       "    <tr>\n",
       "      <th>2</th>\n",
       "      <td>yt1s1x</td>\n",
       "      <td>1</td>\n",
       "      <td>normal</td>\n",
       "      <td>125</td>\n",
       "      <td>4</td>\n",
       "      <td>3</td>\n",
       "      <td>0</td>\n",
       "      <td>2</td>\n",
       "      <td>304</td>\n",
       "      <td>0.0</td>\n",
       "      <td>1</td>\n",
       "      <td>77</td>\n",
       "      <td>162</td>\n",
       "      <td>1</td>\n",
       "    </tr>\n",
       "    <tr>\n",
       "      <th>3</th>\n",
       "      <td>l2xjde</td>\n",
       "      <td>1</td>\n",
       "      <td>reversible_defect</td>\n",
       "      <td>152</td>\n",
       "      <td>4</td>\n",
       "      <td>0</td>\n",
       "      <td>0</td>\n",
       "      <td>0</td>\n",
       "      <td>223</td>\n",
       "      <td>0.0</td>\n",
       "      <td>1</td>\n",
       "      <td>40</td>\n",
       "      <td>181</td>\n",
       "      <td>0</td>\n",
       "    </tr>\n",
       "    <tr>\n",
       "      <th>4</th>\n",
       "      <td>oyt4ek</td>\n",
       "      <td>3</td>\n",
       "      <td>reversible_defect</td>\n",
       "      <td>178</td>\n",
       "      <td>1</td>\n",
       "      <td>0</td>\n",
       "      <td>0</td>\n",
       "      <td>2</td>\n",
       "      <td>270</td>\n",
       "      <td>4.2</td>\n",
       "      <td>1</td>\n",
       "      <td>59</td>\n",
       "      <td>145</td>\n",
       "      <td>0</td>\n",
       "    </tr>\n",
       "  </tbody>\n",
       "</table>\n",
       "</div>"
      ],
      "text/plain": [
       "  patient_id  slope_of_peak_exercise_st_segment               thal  \\\n",
       "0     0z64un                                  1             normal   \n",
       "1     ryoo3j                                  2             normal   \n",
       "2     yt1s1x                                  1             normal   \n",
       "3     l2xjde                                  1  reversible_defect   \n",
       "4     oyt4ek                                  3  reversible_defect   \n",
       "\n",
       "   resting_blood_pressure  chest_pain_type  num_major_vessels  \\\n",
       "0                     128                2                  0   \n",
       "1                     110                3                  0   \n",
       "2                     125                4                  3   \n",
       "3                     152                4                  0   \n",
       "4                     178                1                  0   \n",
       "\n",
       "   fasting_blood_sugar_gt_120_mg_per_dl  resting_ekg_results  \\\n",
       "0                                     0                    2   \n",
       "1                                     0                    0   \n",
       "2                                     0                    2   \n",
       "3                                     0                    0   \n",
       "4                                     0                    2   \n",
       "\n",
       "   serum_cholesterol_mg_per_dl  oldpeak_eq_st_depression  sex  age  \\\n",
       "0                          308                       0.0    1   45   \n",
       "1                          214                       1.6    0   54   \n",
       "2                          304                       0.0    1   77   \n",
       "3                          223                       0.0    1   40   \n",
       "4                          270                       4.2    1   59   \n",
       "\n",
       "   max_heart_rate_achieved  exercise_induced_angina  \n",
       "0                      170                        0  \n",
       "1                      158                        0  \n",
       "2                      162                        1  \n",
       "3                      181                        0  \n",
       "4                      145                        0  "
      ]
     },
     "execution_count": 2,
     "metadata": {},
     "output_type": "execute_result"
    }
   ],
   "source": [
    "features = pd.read_csv('train_values.csv')\n",
    "labels = pd.read_csv('train_labels.csv')\n",
    "\n",
    "xlab = 'serum_cholesterol_mg_per_dl'\n",
    "ylab = 'resting_blood_pressure'\n",
    "\n",
    "print(labels.head())\n",
    "features.head()"
   ]
  },
  {
   "cell_type": "code",
   "execution_count": 3,
   "metadata": {
    "slideshow": {
     "slide_type": "skip"
    }
   },
   "outputs": [
    {
     "data": {
      "text/plain": [
       "array([[308, 128],\n",
       "       [214, 110],\n",
       "       [304, 125],\n",
       "       [223, 152],\n",
       "       [270, 178]])"
      ]
     },
     "execution_count": 3,
     "metadata": {},
     "output_type": "execute_result"
    }
   ],
   "source": [
    "cluster_arr = np.array(features[[xlab,ylab]]).reshape(-1,2)\n",
    "\n",
    "cluster_arr[:5]"
   ]
  },
  {
   "cell_type": "markdown",
   "metadata": {
    "slideshow": {
     "slide_type": "skip"
    }
   },
   "source": [
    "## Cluster subsample visualization"
   ]
  },
  {
   "cell_type": "code",
   "execution_count": 4,
   "metadata": {
    "slideshow": {
     "slide_type": "skip"
    }
   },
   "outputs": [
    {
     "data": {
      "application/vnd.plotly.v1+json": {
       "data": [
        {
         "hoverinfo": "text",
         "mode": "markers",
         "name": "data",
         "text": [
          "x: 308<br>y: 128",
          "x: 214<br>y: 110",
          "x: 304<br>y: 125",
          "x: 223<br>y: 152",
          "x: 270<br>y: 178",
          "x: 180<br>y: 130",
          "x: 258<br>y: 150",
          "x: 276<br>y: 150",
          "x: 326<br>y: 170",
          "x: 219<br>y: 120",
          "x: 302<br>y: 120",
          "x: 226<br>y: 140",
          "x: 335<br>y: 140",
          "x: 236<br>y: 138",
          "x: 231<br>y: 120",
          "x: 200<br>y: 144",
          "x: 234<br>y: 130",
          "x: 253<br>y: 130",
          "x: 204<br>y: 130",
          "x: 319<br>y: 136",
          "x: 302<br>y: 160",
          "x: 233<br>y: 108",
          "x: 223<br>y: 106",
          "x: 228<br>y: 160",
          "x: 245<br>y: 156",
          "x: 211<br>y: 120",
          "x: 303<br>y: 128",
          "x: 205<br>y: 128",
          "x: 185<br>y: 140",
          "x: 175<br>y: 110",
          "x: 214<br>y: 130",
          "x: 225<br>y: 150",
          "x: 203<br>y: 140",
          "x: 325<br>y: 180",
          "x: 230<br>y: 112",
          "x: 222<br>y: 122",
          "x: 126<br>y: 150",
          "x: 209<br>y: 124",
          "x: 269<br>y: 120",
          "x: 255<br>y: 128",
          "x: 243<br>y: 150",
          "x: 252<br>y: 135",
          "x: 265<br>y: 110",
          "x: 417<br>y: 140",
          "x: 267<br>y: 108",
          "x: 261<br>y: 124",
          "x: 245<br>y: 125",
          "x: 149<br>y: 112",
          "x: 281<br>y: 120",
          "x: 204<br>y: 105",
          "x: 311<br>y: 140",
          "x: 315<br>y: 130",
          "x: 330<br>y: 130",
          "x: 256<br>y: 130",
          "x: 330<br>y: 130",
          "x: 233<br>y: 130",
          "x: 239<br>y: 110",
          "x: 267<br>y: 120",
          "x: 295<br>y: 120",
          "x: 197<br>y: 110",
          "x: 564<br>y: 115",
          "x: 305<br>y: 130",
          "x: 283<br>y: 130",
          "x: 160<br>y: 112",
          "x: 254<br>y: 110",
          "x: 282<br>y: 126",
          "x: 322<br>y: 130",
          "x: 303<br>y: 115",
          "x: 250<br>y: 135",
          "x: 188<br>y: 120",
          "x: 220<br>y: 120",
          "x: 204<br>y: 112",
          "x: 199<br>y: 172",
          "x: 215<br>y: 120",
          "x: 218<br>y: 126",
          "x: 228<br>y: 178",
          "x: 196<br>y: 136",
          "x: 266<br>y: 124",
          "x: 282<br>y: 145",
          "x: 254<br>y: 130",
          "x: 197<br>y: 130",
          "x: 188<br>y: 120",
          "x: 229<br>y: 110",
          "x: 259<br>y: 128",
          "x: 256<br>y: 130",
          "x: 149<br>y: 118",
          "x: 268<br>y: 112",
          "x: 177<br>y: 140",
          "x: 168<br>y: 150",
          "x: 262<br>y: 130",
          "x: 271<br>y: 134",
          "x: 299<br>y: 100",
          "x: 304<br>y: 135",
          "x: 293<br>y: 140",
          "x: 141<br>y: 108",
          "x: 277<br>y: 118",
          "x: 212<br>y: 145",
          "x: 234<br>y: 160",
          "x: 269<br>y: 155",
          "x: 283<br>y: 150",
          "x: 321<br>y: 140",
          "x: 294<br>y: 140",
          "x: 239<br>y: 110",
          "x: 308<br>y: 140",
          "x: 313<br>y: 140",
          "x: 303<br>y: 130",
          "x: 232<br>y: 150",
          "x: 289<br>y: 160",
          "x: 213<br>y: 125",
          "x: 274<br>y: 124",
          "x: 263<br>y: 128",
          "x: 244<br>y: 120",
          "x: 298<br>y: 140",
          "x: 274<br>y: 180",
          "x: 250<br>y: 112",
          "x: 211<br>y: 140",
          "x: 203<br>y: 135",
          "x: 172<br>y: 110",
          "x: 353<br>y: 132",
          "x: 294<br>y: 138",
          "x: 282<br>y: 138",
          "x: 210<br>y: 118",
          "x: 192<br>y: 140",
          "x: 246<br>y: 130",
          "x: 286<br>y: 160",
          "x: 360<br>y: 160",
          "x: 265<br>y: 102",
          "x: 258<br>y: 120",
          "x: 174<br>y: 145",
          "x: 246<br>y: 120",
          "x: 227<br>y: 94",
          "x: 248<br>y: 100",
          "x: 204<br>y: 130",
          "x: 224<br>y: 132",
          "x: 300<br>y: 125",
          "x: 177<br>y: 120",
          "x: 256<br>y: 130",
          "x: 244<br>y: 150",
          "x: 235<br>y: 140",
          "x: 219<br>y: 130",
          "x: 217<br>y: 140",
          "x: 193<br>y: 120",
          "x: 263<br>y: 120",
          "x: 167<br>y: 110",
          "x: 216<br>y: 128",
          "x: 195<br>y: 140",
          "x: 199<br>y: 140",
          "x: 234<br>y: 134",
          "x: 243<br>y: 108",
          "x: 229<br>y: 128",
          "x: 309<br>y: 108",
          "x: 273<br>y: 125",
          "x: 198<br>y: 120",
          "x: 290<br>y: 112",
          "x: 263<br>y: 130",
          "x: 273<br>y: 160",
          "x: 239<br>y: 140",
          "x: 275<br>y: 130",
          "x: 226<br>y: 120",
          "x: 206<br>y: 130",
          "x: 266<br>y: 130",
          "x: 230<br>y: 117",
          "x: 164<br>y: 160",
          "x: 309<br>y: 142",
          "x: 226<br>y: 142",
          "x: 277<br>y: 152",
          "x: 207<br>y: 132",
          "x: 249<br>y: 120",
          "x: 233<br>y: 145",
          "x: 211<br>y: 110",
          "x: 270<br>y: 150",
          "x: 212<br>y: 112",
          "x: 219<br>y: 118",
          "x: 299<br>y: 140",
          "x: 239<br>y: 140",
          "x: 254<br>y: 125",
          "x: 327<br>y: 180",
          "x: 309<br>y: 125",
          "x: 255<br>y: 124",
          "x: 201<br>y: 160"
         ],
         "type": "scatter",
         "x": [
          308,
          214,
          304,
          223,
          270,
          180,
          258,
          276,
          326,
          219,
          302,
          226,
          335,
          236,
          231,
          200,
          234,
          253,
          204,
          319,
          302,
          233,
          223,
          228,
          245,
          211,
          303,
          205,
          185,
          175,
          214,
          225,
          203,
          325,
          230,
          222,
          126,
          209,
          269,
          255,
          243,
          252,
          265,
          417,
          267,
          261,
          245,
          149,
          281,
          204,
          311,
          315,
          330,
          256,
          330,
          233,
          239,
          267,
          295,
          197,
          564,
          305,
          283,
          160,
          254,
          282,
          322,
          303,
          250,
          188,
          220,
          204,
          199,
          215,
          218,
          228,
          196,
          266,
          282,
          254,
          197,
          188,
          229,
          259,
          256,
          149,
          268,
          177,
          168,
          262,
          271,
          299,
          304,
          293,
          141,
          277,
          212,
          234,
          269,
          283,
          321,
          294,
          239,
          308,
          313,
          303,
          232,
          289,
          213,
          274,
          263,
          244,
          298,
          274,
          250,
          211,
          203,
          172,
          353,
          294,
          282,
          210,
          192,
          246,
          286,
          360,
          265,
          258,
          174,
          246,
          227,
          248,
          204,
          224,
          300,
          177,
          256,
          244,
          235,
          219,
          217,
          193,
          263,
          167,
          216,
          195,
          199,
          234,
          243,
          229,
          309,
          273,
          198,
          290,
          263,
          273,
          239,
          275,
          226,
          206,
          266,
          230,
          164,
          309,
          226,
          277,
          207,
          249,
          233,
          211,
          270,
          212,
          219,
          299,
          239,
          254,
          327,
          309,
          255,
          201
         ],
         "y": [
          128,
          110,
          125,
          152,
          178,
          130,
          150,
          150,
          170,
          120,
          120,
          140,
          140,
          138,
          120,
          144,
          130,
          130,
          130,
          136,
          160,
          108,
          106,
          160,
          156,
          120,
          128,
          128,
          140,
          110,
          130,
          150,
          140,
          180,
          112,
          122,
          150,
          124,
          120,
          128,
          150,
          135,
          110,
          140,
          108,
          124,
          125,
          112,
          120,
          105,
          140,
          130,
          130,
          130,
          130,
          130,
          110,
          120,
          120,
          110,
          115,
          130,
          130,
          112,
          110,
          126,
          130,
          115,
          135,
          120,
          120,
          112,
          172,
          120,
          126,
          178,
          136,
          124,
          145,
          130,
          130,
          120,
          110,
          128,
          130,
          118,
          112,
          140,
          150,
          130,
          134,
          100,
          135,
          140,
          108,
          118,
          145,
          160,
          155,
          150,
          140,
          140,
          110,
          140,
          140,
          130,
          150,
          160,
          125,
          124,
          128,
          120,
          140,
          180,
          112,
          140,
          135,
          110,
          132,
          138,
          138,
          118,
          140,
          130,
          160,
          160,
          102,
          120,
          145,
          120,
          94,
          100,
          130,
          132,
          125,
          120,
          130,
          150,
          140,
          130,
          140,
          120,
          120,
          110,
          128,
          140,
          140,
          134,
          108,
          128,
          108,
          125,
          120,
          112,
          130,
          160,
          140,
          130,
          120,
          130,
          130,
          117,
          160,
          142,
          142,
          152,
          132,
          120,
          145,
          110,
          150,
          112,
          118,
          140,
          140,
          125,
          180,
          125,
          124,
          160
         ]
        }
       ],
       "layout": {
        "xaxis": {
         "title": "serum_cholesterol_mg_per_dl"
        },
        "yaxis": {
         "title": "resting_blood_pressure"
        }
       }
      },
      "text/html": [
       "<div id=\"cce71e86-630e-44c8-9e3c-12d3857c3d98\" style=\"height: 525px; width: 100%;\" class=\"plotly-graph-div\"></div><script type=\"text/javascript\">require([\"plotly\"], function(Plotly) { window.PLOTLYENV=window.PLOTLYENV || {};window.PLOTLYENV.BASE_URL=\"https://plot.ly\";Plotly.newPlot(\"cce71e86-630e-44c8-9e3c-12d3857c3d98\", [{\"x\": [308, 214, 304, 223, 270, 180, 258, 276, 326, 219, 302, 226, 335, 236, 231, 200, 234, 253, 204, 319, 302, 233, 223, 228, 245, 211, 303, 205, 185, 175, 214, 225, 203, 325, 230, 222, 126, 209, 269, 255, 243, 252, 265, 417, 267, 261, 245, 149, 281, 204, 311, 315, 330, 256, 330, 233, 239, 267, 295, 197, 564, 305, 283, 160, 254, 282, 322, 303, 250, 188, 220, 204, 199, 215, 218, 228, 196, 266, 282, 254, 197, 188, 229, 259, 256, 149, 268, 177, 168, 262, 271, 299, 304, 293, 141, 277, 212, 234, 269, 283, 321, 294, 239, 308, 313, 303, 232, 289, 213, 274, 263, 244, 298, 274, 250, 211, 203, 172, 353, 294, 282, 210, 192, 246, 286, 360, 265, 258, 174, 246, 227, 248, 204, 224, 300, 177, 256, 244, 235, 219, 217, 193, 263, 167, 216, 195, 199, 234, 243, 229, 309, 273, 198, 290, 263, 273, 239, 275, 226, 206, 266, 230, 164, 309, 226, 277, 207, 249, 233, 211, 270, 212, 219, 299, 239, 254, 327, 309, 255, 201], \"mode\": \"markers\", \"y\": [128, 110, 125, 152, 178, 130, 150, 150, 170, 120, 120, 140, 140, 138, 120, 144, 130, 130, 130, 136, 160, 108, 106, 160, 156, 120, 128, 128, 140, 110, 130, 150, 140, 180, 112, 122, 150, 124, 120, 128, 150, 135, 110, 140, 108, 124, 125, 112, 120, 105, 140, 130, 130, 130, 130, 130, 110, 120, 120, 110, 115, 130, 130, 112, 110, 126, 130, 115, 135, 120, 120, 112, 172, 120, 126, 178, 136, 124, 145, 130, 130, 120, 110, 128, 130, 118, 112, 140, 150, 130, 134, 100, 135, 140, 108, 118, 145, 160, 155, 150, 140, 140, 110, 140, 140, 130, 150, 160, 125, 124, 128, 120, 140, 180, 112, 140, 135, 110, 132, 138, 138, 118, 140, 130, 160, 160, 102, 120, 145, 120, 94, 100, 130, 132, 125, 120, 130, 150, 140, 130, 140, 120, 120, 110, 128, 140, 140, 134, 108, 128, 108, 125, 120, 112, 130, 160, 140, 130, 120, 130, 130, 117, 160, 142, 142, 152, 132, 120, 145, 110, 150, 112, 118, 140, 140, 125, 180, 125, 124, 160], \"text\": [\"x: 308<br>y: 128\", \"x: 214<br>y: 110\", \"x: 304<br>y: 125\", \"x: 223<br>y: 152\", \"x: 270<br>y: 178\", \"x: 180<br>y: 130\", \"x: 258<br>y: 150\", \"x: 276<br>y: 150\", \"x: 326<br>y: 170\", \"x: 219<br>y: 120\", \"x: 302<br>y: 120\", \"x: 226<br>y: 140\", \"x: 335<br>y: 140\", \"x: 236<br>y: 138\", \"x: 231<br>y: 120\", \"x: 200<br>y: 144\", \"x: 234<br>y: 130\", \"x: 253<br>y: 130\", \"x: 204<br>y: 130\", \"x: 319<br>y: 136\", \"x: 302<br>y: 160\", \"x: 233<br>y: 108\", \"x: 223<br>y: 106\", \"x: 228<br>y: 160\", \"x: 245<br>y: 156\", \"x: 211<br>y: 120\", \"x: 303<br>y: 128\", \"x: 205<br>y: 128\", \"x: 185<br>y: 140\", \"x: 175<br>y: 110\", \"x: 214<br>y: 130\", \"x: 225<br>y: 150\", \"x: 203<br>y: 140\", \"x: 325<br>y: 180\", \"x: 230<br>y: 112\", \"x: 222<br>y: 122\", \"x: 126<br>y: 150\", \"x: 209<br>y: 124\", \"x: 269<br>y: 120\", \"x: 255<br>y: 128\", \"x: 243<br>y: 150\", \"x: 252<br>y: 135\", \"x: 265<br>y: 110\", \"x: 417<br>y: 140\", \"x: 267<br>y: 108\", \"x: 261<br>y: 124\", \"x: 245<br>y: 125\", \"x: 149<br>y: 112\", \"x: 281<br>y: 120\", \"x: 204<br>y: 105\", \"x: 311<br>y: 140\", \"x: 315<br>y: 130\", \"x: 330<br>y: 130\", \"x: 256<br>y: 130\", \"x: 330<br>y: 130\", \"x: 233<br>y: 130\", \"x: 239<br>y: 110\", \"x: 267<br>y: 120\", \"x: 295<br>y: 120\", \"x: 197<br>y: 110\", \"x: 564<br>y: 115\", \"x: 305<br>y: 130\", \"x: 283<br>y: 130\", \"x: 160<br>y: 112\", \"x: 254<br>y: 110\", \"x: 282<br>y: 126\", \"x: 322<br>y: 130\", \"x: 303<br>y: 115\", \"x: 250<br>y: 135\", \"x: 188<br>y: 120\", \"x: 220<br>y: 120\", \"x: 204<br>y: 112\", \"x: 199<br>y: 172\", \"x: 215<br>y: 120\", \"x: 218<br>y: 126\", \"x: 228<br>y: 178\", \"x: 196<br>y: 136\", \"x: 266<br>y: 124\", \"x: 282<br>y: 145\", \"x: 254<br>y: 130\", \"x: 197<br>y: 130\", \"x: 188<br>y: 120\", \"x: 229<br>y: 110\", \"x: 259<br>y: 128\", \"x: 256<br>y: 130\", \"x: 149<br>y: 118\", \"x: 268<br>y: 112\", \"x: 177<br>y: 140\", \"x: 168<br>y: 150\", \"x: 262<br>y: 130\", \"x: 271<br>y: 134\", \"x: 299<br>y: 100\", \"x: 304<br>y: 135\", \"x: 293<br>y: 140\", \"x: 141<br>y: 108\", \"x: 277<br>y: 118\", \"x: 212<br>y: 145\", \"x: 234<br>y: 160\", \"x: 269<br>y: 155\", \"x: 283<br>y: 150\", \"x: 321<br>y: 140\", \"x: 294<br>y: 140\", \"x: 239<br>y: 110\", \"x: 308<br>y: 140\", \"x: 313<br>y: 140\", \"x: 303<br>y: 130\", \"x: 232<br>y: 150\", \"x: 289<br>y: 160\", \"x: 213<br>y: 125\", \"x: 274<br>y: 124\", \"x: 263<br>y: 128\", \"x: 244<br>y: 120\", \"x: 298<br>y: 140\", \"x: 274<br>y: 180\", \"x: 250<br>y: 112\", \"x: 211<br>y: 140\", \"x: 203<br>y: 135\", \"x: 172<br>y: 110\", \"x: 353<br>y: 132\", \"x: 294<br>y: 138\", \"x: 282<br>y: 138\", \"x: 210<br>y: 118\", \"x: 192<br>y: 140\", \"x: 246<br>y: 130\", \"x: 286<br>y: 160\", \"x: 360<br>y: 160\", \"x: 265<br>y: 102\", \"x: 258<br>y: 120\", \"x: 174<br>y: 145\", \"x: 246<br>y: 120\", \"x: 227<br>y: 94\", \"x: 248<br>y: 100\", \"x: 204<br>y: 130\", \"x: 224<br>y: 132\", \"x: 300<br>y: 125\", \"x: 177<br>y: 120\", \"x: 256<br>y: 130\", \"x: 244<br>y: 150\", \"x: 235<br>y: 140\", \"x: 219<br>y: 130\", \"x: 217<br>y: 140\", \"x: 193<br>y: 120\", \"x: 263<br>y: 120\", \"x: 167<br>y: 110\", \"x: 216<br>y: 128\", \"x: 195<br>y: 140\", \"x: 199<br>y: 140\", \"x: 234<br>y: 134\", \"x: 243<br>y: 108\", \"x: 229<br>y: 128\", \"x: 309<br>y: 108\", \"x: 273<br>y: 125\", \"x: 198<br>y: 120\", \"x: 290<br>y: 112\", \"x: 263<br>y: 130\", \"x: 273<br>y: 160\", \"x: 239<br>y: 140\", \"x: 275<br>y: 130\", \"x: 226<br>y: 120\", \"x: 206<br>y: 130\", \"x: 266<br>y: 130\", \"x: 230<br>y: 117\", \"x: 164<br>y: 160\", \"x: 309<br>y: 142\", \"x: 226<br>y: 142\", \"x: 277<br>y: 152\", \"x: 207<br>y: 132\", \"x: 249<br>y: 120\", \"x: 233<br>y: 145\", \"x: 211<br>y: 110\", \"x: 270<br>y: 150\", \"x: 212<br>y: 112\", \"x: 219<br>y: 118\", \"x: 299<br>y: 140\", \"x: 239<br>y: 140\", \"x: 254<br>y: 125\", \"x: 327<br>y: 180\", \"x: 309<br>y: 125\", \"x: 255<br>y: 124\", \"x: 201<br>y: 160\"], \"name\": \"data\", \"hoverinfo\": \"text\", \"type\": \"scatter\"}], {\"yaxis\": {\"title\": \"resting_blood_pressure\"}, \"xaxis\": {\"title\": \"serum_cholesterol_mg_per_dl\"}}, {\"linkText\": \"Export to plot.ly\", \"showLink\": {\"yaxis\": {\"title\": \"resting_blood_pressure\"}, \"xaxis\": {\"title\": \"serum_cholesterol_mg_per_dl\"}}})});</script>"
      ],
      "text/vnd.plotly.v1+html": [
       "<div id=\"cce71e86-630e-44c8-9e3c-12d3857c3d98\" style=\"height: 525px; width: 100%;\" class=\"plotly-graph-div\"></div><script type=\"text/javascript\">require([\"plotly\"], function(Plotly) { window.PLOTLYENV=window.PLOTLYENV || {};window.PLOTLYENV.BASE_URL=\"https://plot.ly\";Plotly.newPlot(\"cce71e86-630e-44c8-9e3c-12d3857c3d98\", [{\"x\": [308, 214, 304, 223, 270, 180, 258, 276, 326, 219, 302, 226, 335, 236, 231, 200, 234, 253, 204, 319, 302, 233, 223, 228, 245, 211, 303, 205, 185, 175, 214, 225, 203, 325, 230, 222, 126, 209, 269, 255, 243, 252, 265, 417, 267, 261, 245, 149, 281, 204, 311, 315, 330, 256, 330, 233, 239, 267, 295, 197, 564, 305, 283, 160, 254, 282, 322, 303, 250, 188, 220, 204, 199, 215, 218, 228, 196, 266, 282, 254, 197, 188, 229, 259, 256, 149, 268, 177, 168, 262, 271, 299, 304, 293, 141, 277, 212, 234, 269, 283, 321, 294, 239, 308, 313, 303, 232, 289, 213, 274, 263, 244, 298, 274, 250, 211, 203, 172, 353, 294, 282, 210, 192, 246, 286, 360, 265, 258, 174, 246, 227, 248, 204, 224, 300, 177, 256, 244, 235, 219, 217, 193, 263, 167, 216, 195, 199, 234, 243, 229, 309, 273, 198, 290, 263, 273, 239, 275, 226, 206, 266, 230, 164, 309, 226, 277, 207, 249, 233, 211, 270, 212, 219, 299, 239, 254, 327, 309, 255, 201], \"mode\": \"markers\", \"y\": [128, 110, 125, 152, 178, 130, 150, 150, 170, 120, 120, 140, 140, 138, 120, 144, 130, 130, 130, 136, 160, 108, 106, 160, 156, 120, 128, 128, 140, 110, 130, 150, 140, 180, 112, 122, 150, 124, 120, 128, 150, 135, 110, 140, 108, 124, 125, 112, 120, 105, 140, 130, 130, 130, 130, 130, 110, 120, 120, 110, 115, 130, 130, 112, 110, 126, 130, 115, 135, 120, 120, 112, 172, 120, 126, 178, 136, 124, 145, 130, 130, 120, 110, 128, 130, 118, 112, 140, 150, 130, 134, 100, 135, 140, 108, 118, 145, 160, 155, 150, 140, 140, 110, 140, 140, 130, 150, 160, 125, 124, 128, 120, 140, 180, 112, 140, 135, 110, 132, 138, 138, 118, 140, 130, 160, 160, 102, 120, 145, 120, 94, 100, 130, 132, 125, 120, 130, 150, 140, 130, 140, 120, 120, 110, 128, 140, 140, 134, 108, 128, 108, 125, 120, 112, 130, 160, 140, 130, 120, 130, 130, 117, 160, 142, 142, 152, 132, 120, 145, 110, 150, 112, 118, 140, 140, 125, 180, 125, 124, 160], \"text\": [\"x: 308<br>y: 128\", \"x: 214<br>y: 110\", \"x: 304<br>y: 125\", \"x: 223<br>y: 152\", \"x: 270<br>y: 178\", \"x: 180<br>y: 130\", \"x: 258<br>y: 150\", \"x: 276<br>y: 150\", \"x: 326<br>y: 170\", \"x: 219<br>y: 120\", \"x: 302<br>y: 120\", \"x: 226<br>y: 140\", \"x: 335<br>y: 140\", \"x: 236<br>y: 138\", \"x: 231<br>y: 120\", \"x: 200<br>y: 144\", \"x: 234<br>y: 130\", \"x: 253<br>y: 130\", \"x: 204<br>y: 130\", \"x: 319<br>y: 136\", \"x: 302<br>y: 160\", \"x: 233<br>y: 108\", \"x: 223<br>y: 106\", \"x: 228<br>y: 160\", \"x: 245<br>y: 156\", \"x: 211<br>y: 120\", \"x: 303<br>y: 128\", \"x: 205<br>y: 128\", \"x: 185<br>y: 140\", \"x: 175<br>y: 110\", \"x: 214<br>y: 130\", \"x: 225<br>y: 150\", \"x: 203<br>y: 140\", \"x: 325<br>y: 180\", \"x: 230<br>y: 112\", \"x: 222<br>y: 122\", \"x: 126<br>y: 150\", \"x: 209<br>y: 124\", \"x: 269<br>y: 120\", \"x: 255<br>y: 128\", \"x: 243<br>y: 150\", \"x: 252<br>y: 135\", \"x: 265<br>y: 110\", \"x: 417<br>y: 140\", \"x: 267<br>y: 108\", \"x: 261<br>y: 124\", \"x: 245<br>y: 125\", \"x: 149<br>y: 112\", \"x: 281<br>y: 120\", \"x: 204<br>y: 105\", \"x: 311<br>y: 140\", \"x: 315<br>y: 130\", \"x: 330<br>y: 130\", \"x: 256<br>y: 130\", \"x: 330<br>y: 130\", \"x: 233<br>y: 130\", \"x: 239<br>y: 110\", \"x: 267<br>y: 120\", \"x: 295<br>y: 120\", \"x: 197<br>y: 110\", \"x: 564<br>y: 115\", \"x: 305<br>y: 130\", \"x: 283<br>y: 130\", \"x: 160<br>y: 112\", \"x: 254<br>y: 110\", \"x: 282<br>y: 126\", \"x: 322<br>y: 130\", \"x: 303<br>y: 115\", \"x: 250<br>y: 135\", \"x: 188<br>y: 120\", \"x: 220<br>y: 120\", \"x: 204<br>y: 112\", \"x: 199<br>y: 172\", \"x: 215<br>y: 120\", \"x: 218<br>y: 126\", \"x: 228<br>y: 178\", \"x: 196<br>y: 136\", \"x: 266<br>y: 124\", \"x: 282<br>y: 145\", \"x: 254<br>y: 130\", \"x: 197<br>y: 130\", \"x: 188<br>y: 120\", \"x: 229<br>y: 110\", \"x: 259<br>y: 128\", \"x: 256<br>y: 130\", \"x: 149<br>y: 118\", \"x: 268<br>y: 112\", \"x: 177<br>y: 140\", \"x: 168<br>y: 150\", \"x: 262<br>y: 130\", \"x: 271<br>y: 134\", \"x: 299<br>y: 100\", \"x: 304<br>y: 135\", \"x: 293<br>y: 140\", \"x: 141<br>y: 108\", \"x: 277<br>y: 118\", \"x: 212<br>y: 145\", \"x: 234<br>y: 160\", \"x: 269<br>y: 155\", \"x: 283<br>y: 150\", \"x: 321<br>y: 140\", \"x: 294<br>y: 140\", \"x: 239<br>y: 110\", \"x: 308<br>y: 140\", \"x: 313<br>y: 140\", \"x: 303<br>y: 130\", \"x: 232<br>y: 150\", \"x: 289<br>y: 160\", \"x: 213<br>y: 125\", \"x: 274<br>y: 124\", \"x: 263<br>y: 128\", \"x: 244<br>y: 120\", \"x: 298<br>y: 140\", \"x: 274<br>y: 180\", \"x: 250<br>y: 112\", \"x: 211<br>y: 140\", \"x: 203<br>y: 135\", \"x: 172<br>y: 110\", \"x: 353<br>y: 132\", \"x: 294<br>y: 138\", \"x: 282<br>y: 138\", \"x: 210<br>y: 118\", \"x: 192<br>y: 140\", \"x: 246<br>y: 130\", \"x: 286<br>y: 160\", \"x: 360<br>y: 160\", \"x: 265<br>y: 102\", \"x: 258<br>y: 120\", \"x: 174<br>y: 145\", \"x: 246<br>y: 120\", \"x: 227<br>y: 94\", \"x: 248<br>y: 100\", \"x: 204<br>y: 130\", \"x: 224<br>y: 132\", \"x: 300<br>y: 125\", \"x: 177<br>y: 120\", \"x: 256<br>y: 130\", \"x: 244<br>y: 150\", \"x: 235<br>y: 140\", \"x: 219<br>y: 130\", \"x: 217<br>y: 140\", \"x: 193<br>y: 120\", \"x: 263<br>y: 120\", \"x: 167<br>y: 110\", \"x: 216<br>y: 128\", \"x: 195<br>y: 140\", \"x: 199<br>y: 140\", \"x: 234<br>y: 134\", \"x: 243<br>y: 108\", \"x: 229<br>y: 128\", \"x: 309<br>y: 108\", \"x: 273<br>y: 125\", \"x: 198<br>y: 120\", \"x: 290<br>y: 112\", \"x: 263<br>y: 130\", \"x: 273<br>y: 160\", \"x: 239<br>y: 140\", \"x: 275<br>y: 130\", \"x: 226<br>y: 120\", \"x: 206<br>y: 130\", \"x: 266<br>y: 130\", \"x: 230<br>y: 117\", \"x: 164<br>y: 160\", \"x: 309<br>y: 142\", \"x: 226<br>y: 142\", \"x: 277<br>y: 152\", \"x: 207<br>y: 132\", \"x: 249<br>y: 120\", \"x: 233<br>y: 145\", \"x: 211<br>y: 110\", \"x: 270<br>y: 150\", \"x: 212<br>y: 112\", \"x: 219<br>y: 118\", \"x: 299<br>y: 140\", \"x: 239<br>y: 140\", \"x: 254<br>y: 125\", \"x: 327<br>y: 180\", \"x: 309<br>y: 125\", \"x: 255<br>y: 124\", \"x: 201<br>y: 160\"], \"name\": \"data\", \"hoverinfo\": \"text\", \"type\": \"scatter\"}], {\"yaxis\": {\"title\": \"resting_blood_pressure\"}, \"xaxis\": {\"title\": \"serum_cholesterol_mg_per_dl\"}}, {\"linkText\": \"Export to plot.ly\", \"showLink\": {\"yaxis\": {\"title\": \"resting_blood_pressure\"}, \"xaxis\": {\"title\": \"serum_cholesterol_mg_per_dl\"}}})});</script>"
      ]
     },
     "metadata": {},
     "output_type": "display_data"
    }
   ],
   "source": [
    "x = features['serum_cholesterol_mg_per_dl']\n",
    "y = features['resting_blood_pressure']\n",
    "\n",
    "trace = [go.Scatter(\n",
    "    x = x,\n",
    "    y = y,\n",
    "    name = 'data',\n",
    "    mode = 'markers',\n",
    "    hoverinfo = 'text',\n",
    "    text = ['x: %s<br>y: %s' % (x_i, y_i) for x_i, y_i in zip(x, y)]\n",
    ")]\n",
    "\n",
    "layout = go.Layout(\n",
    "    xaxis = dict({'title': xlab}),\n",
    "    yaxis = dict({'title': ylab})\n",
    ")\n",
    "\n",
    "fig = go.Figure(data=trace, layout=layout)\n",
    "iplot(fig, layout)"
   ]
  },
  {
   "cell_type": "code",
   "execution_count": null,
   "metadata": {
    "slideshow": {
     "slide_type": "skip"
    }
   },
   "outputs": [],
   "source": []
  },
  {
   "cell_type": "markdown",
   "metadata": {
    "slideshow": {
     "slide_type": "skip"
    }
   },
   "source": [
    "# Hierarchical Clustering"
   ]
  },
  {
   "cell_type": "markdown",
   "metadata": {
    "slideshow": {
     "slide_type": "skip"
    }
   },
   "source": [
    "\n",
    "+ https://scikit-learn.org/stable/modules/clustering.html\n",
    "+ https://scikit-learn.org/stable/modules/classes.html#module-sklearn.cluster\n",
    "+ https://stackabuse.com/hierarchical-clustering-with-python-and-scikit-learn/\n",
    "\n"
   ]
  },
  {
   "cell_type": "code",
   "execution_count": 5,
   "metadata": {
    "slideshow": {
     "slide_type": "skip"
    }
   },
   "outputs": [],
   "source": [
    "from scipy.cluster.hierarchy import dendrogram, linkage"
   ]
  },
  {
   "cell_type": "code",
   "execution_count": null,
   "metadata": {
    "slideshow": {
     "slide_type": "skip"
    }
   },
   "outputs": [],
   "source": []
  },
  {
   "cell_type": "markdown",
   "metadata": {
    "slideshow": {
     "slide_type": "skip"
    }
   },
   "source": [
    "## Single Link"
   ]
  },
  {
   "cell_type": "code",
   "execution_count": 6,
   "metadata": {
    "slideshow": {
     "slide_type": "skip"
    }
   },
   "outputs": [
    {
     "data": {
      "image/png": "[encoded data removed]",
      "text/plain": [
       "<matplotlib.figure.Figure at 0x7f4e045d49b0>"
      ]
     },
     "metadata": {},
     "output_type": "display_data"
    }
   ],
   "source": [
    "plt.figure(figsize=(15, 7))\n",
    "\n",
    "linked = linkage(cluster_arr, 'single')\n",
    "\n",
    "# labelList = range(1, 11)\n",
    "dendrogram(linked,  \n",
    "            orientation='top',\n",
    "#             labels=labelList,\n",
    "            distance_sort='descending',\n",
    "            show_leaf_counts=True)\n",
    "plt.show()  "
   ]
  },
  {
   "cell_type": "code",
   "execution_count": null,
   "metadata": {
    "slideshow": {
     "slide_type": "skip"
    }
   },
   "outputs": [],
   "source": []
  },
  {
   "cell_type": "code",
   "execution_count": null,
   "metadata": {
    "slideshow": {
     "slide_type": "skip"
    }
   },
   "outputs": [],
   "source": []
  },
  {
   "cell_type": "markdown",
   "metadata": {
    "slideshow": {
     "slide_type": "skip"
    }
   },
   "source": [
    "## Complete Link"
   ]
  },
  {
   "cell_type": "code",
   "execution_count": 8,
   "metadata": {
    "slideshow": {
     "slide_type": "skip"
    }
   },
   "outputs": [
    {
     "data": {
      "image/png": "[encoded data removed]",
      "text/plain": [
       "<matplotlib.figure.Figure at 0x7f4dce2bd630>"
      ]
     },
     "metadata": {},
     "output_type": "display_data"
    }
   ],
   "source": [
    "plt.figure(figsize=(15, 7))\n",
    "\n",
    "linked = linkage(cluster_arr, 'complete')\n",
    "\n",
    "# labelList = range(1, 11)\n",
    "dendrogram(linked,  \n",
    "            orientation='top',\n",
    "#             labels=labelList,\n",
    "            distance_sort='descending',\n",
    "            show_leaf_counts=True)\n",
    "plt.show()  "
   ]
  },
  {
   "cell_type": "code",
   "execution_count": null,
   "metadata": {
    "slideshow": {
     "slide_type": "skip"
    }
   },
   "outputs": [],
   "source": []
  },
  {
   "cell_type": "code",
   "execution_count": null,
   "metadata": {
    "slideshow": {
     "slide_type": "skip"
    }
   },
   "outputs": [],
   "source": []
  },
  {
   "cell_type": "markdown",
   "metadata": {
    "slideshow": {
     "slide_type": "skip"
    }
   },
   "source": [
    "## Average Link"
   ]
  },
  {
   "cell_type": "code",
   "execution_count": 9,
   "metadata": {
    "slideshow": {
     "slide_type": "skip"
    }
   },
   "outputs": [
    {
     "data": {
      "image/png": "[encoded data removed]",
      "text/plain": [
       "<matplotlib.figure.Figure at 0x7f4dce06af60>"
      ]
     },
     "metadata": {},
     "output_type": "display_data"
    }
   ],
   "source": [
    "plt.figure(figsize=(15, 7))\n",
    "\n",
    "linked = linkage(cluster_arr, 'average')\n",
    "\n",
    "# labelList = range(1, 11)\n",
    "dendrogram(linked,  \n",
    "            orientation='top',\n",
    "#             labels=labelList,\n",
    "            distance_sort='descending',\n",
    "            show_leaf_counts=True)\n",
    "plt.show()  "
   ]
  },
  {
   "cell_type": "code",
   "execution_count": null,
   "metadata": {
    "slideshow": {
     "slide_type": "skip"
    }
   },
   "outputs": [],
   "source": []
  },
  {
   "cell_type": "code",
   "execution_count": null,
   "metadata": {
    "slideshow": {
     "slide_type": "skip"
    }
   },
   "outputs": [],
   "source": []
  },
  {
   "cell_type": "markdown",
   "metadata": {
    "slideshow": {
     "slide_type": "skip"
    }
   },
   "source": [
    "## Ward Variance"
   ]
  },
  {
   "cell_type": "code",
   "execution_count": 10,
   "metadata": {
    "slideshow": {
     "slide_type": "skip"
    }
   },
   "outputs": [
    {
     "data": {
      "image/png": "[encoded data removed]",
      "text/plain": [
       "<matplotlib.figure.Figure at 0x7f4dce0e43c8>"
      ]
     },
     "metadata": {},
     "output_type": "display_data"
    }
   ],
   "source": [
    "plt.figure(figsize=(15, 7))\n",
    "\n",
    "linked = linkage(cluster_arr, 'ward')\n",
    "\n",
    "# labelList = range(1, 11)\n",
    "dendrogram(linked,  \n",
    "            orientation='top',\n",
    "#             labels=labelList,\n",
    "            distance_sort='descending',\n",
    "            show_leaf_counts=True)\n",
    "plt.show()  "
   ]
  },
  {
   "cell_type": "code",
   "execution_count": null,
   "metadata": {
    "slideshow": {
     "slide_type": "skip"
    }
   },
   "outputs": [],
   "source": []
  },
  {
   "cell_type": "code",
   "execution_count": null,
   "metadata": {
    "slideshow": {
     "slide_type": "skip"
    }
   },
   "outputs": [],
   "source": []
  },
  {
   "cell_type": "markdown",
   "metadata": {
    "slideshow": {
     "slide_type": "skip"
    }
   },
   "source": [
    "# Density-based clustering"
   ]
  },
  {
   "cell_type": "markdown",
   "metadata": {
    "slideshow": {
     "slide_type": "skip"
    }
   },
   "source": [
    "## DBSCAN"
   ]
  },
  {
   "cell_type": "code",
   "execution_count": 11,
   "metadata": {
    "slideshow": {
     "slide_type": "skip"
    }
   },
   "outputs": [],
   "source": [
    "from sklearn.cluster import DBSCAN"
   ]
  },
  {
   "cell_type": "code",
   "execution_count": 12,
   "metadata": {
    "slideshow": {
     "slide_type": "skip"
    }
   },
   "outputs": [
    {
     "data": {
      "text/plain": [
       "DBSCAN(algorithm='auto', eps=3, leaf_size=30, metric='euclidean',\n",
       "    metric_params=None, min_samples=2, n_jobs=1, p=None)"
      ]
     },
     "execution_count": 12,
     "metadata": {},
     "output_type": "execute_result"
    }
   ],
   "source": [
    "clustering = DBSCAN(eps=3, min_samples=2).fit(cluster_arr)\n",
    "\n",
    "clustering"
   ]
  },
  {
   "cell_type": "code",
   "execution_count": 69,
   "metadata": {
    "slideshow": {
     "slide_type": "skip"
    }
   },
   "outputs": [
    {
     "data": {
      "text/plain": [
       "array([-1,  0, -1,  1, -1, -1, -1,  2, -1,  3, -1,  4, -1,  5, -1, -1,  6,\n",
       "        7,  8, -1, -1, -1, -1, -1, -1,  9, 10,  8, -1, 11, 12,  1, -1, 13,\n",
       "       14,  3, -1, -1, 15,  7, 16, 17, 18, -1, 18, -1, -1, -1, -1, -1, 19,\n",
       "       -1, 20,  7, 20,  6, 21, 15, -1, -1, -1, 10, -1, -1, -1, -1, -1, -1,\n",
       "       17, 22,  3, -1, -1, -1, 12, -1, -1, -1, -1,  7, -1, 22, 14, -1,  7,\n",
       "       -1, -1, -1, -1, 23, -1, -1, -1, 24, -1, -1, -1, -1, -1, -1, -1, 24,\n",
       "       21, 19, 19, 10, -1, 25, -1, 26, 23, 27, 28, -1, -1, -1, -1, 11, -1,\n",
       "       24, -1,  9, 29, -1, 25, -1, -1, -1, -1, 27, -1, -1,  8, -1, -1, -1,\n",
       "        7, 16,  5, -1, -1, -1, -1, -1, 12, 29, -1, -1, -1, -1, -1, 26, -1,\n",
       "       -1, 23, -1, 30, -1, -1,  8, 23, -1, -1, 19,  4,  2,  8, 27, -1,  0,\n",
       "       -1,  0,  3, 28, 30, 31, 13, -1, 31, -1])"
      ]
     },
     "execution_count": 69,
     "metadata": {},
     "output_type": "execute_result"
    }
   ],
   "source": [
    "y_pred = clustering.labels_\n",
    "\n",
    "y_pred"
   ]
  },
  {
   "cell_type": "code",
   "execution_count": 72,
   "metadata": {
    "slideshow": {
     "slide_type": "skip"
    }
   },
   "outputs": [
    {
     "data": {
      "application/vnd.plotly.v1+json": {
       "data": [
        {
         "hoverinfo": "text",
         "marker": {
          "color": [
           -1,
           0,
           -1,
           1,
           -1,
           -1,
           -1,
           2,
           -1,
           3,
           -1,
           4,
           -1,
           5,
           -1,
           -1,
           6,
           7,
           8,
           -1,
           -1,
           -1,
           -1,
           -1,
           -1,
           9,
           10,
           8,
           -1,
           11,
           12,
           1,
           -1,
           13,
           14,
           3,
           -1,
           -1,
           15,
           7,
           16,
           17,
           18,
           -1,
           18,
           -1,
           -1,
           -1,
           -1,
           -1,
           19,
           -1,
           20,
           7,
           20,
           6,
           21,
           15,
           -1,
           -1,
           -1,
           10,
           -1,
           -1,
           -1,
           -1,
           -1,
           -1,
           17,
           22,
           3,
           -1,
           -1,
           -1,
           12,
           -1,
           -1,
           -1,
           -1,
           7,
           -1,
           22,
           14,
           -1,
           7,
           -1,
           -1,
           -1,
           -1,
           23,
           -1,
           -1,
           -1,
           24,
           -1,
           -1,
           -1,
           -1,
           -1,
           -1,
           -1,
           24,
           21,
           19,
           19,
           10,
           -1,
           25,
           -1,
           26,
           23,
           27,
           28,
           -1,
           -1,
           -1,
           -1,
           11,
           -1,
           24,
           -1,
           9,
           29,
           -1,
           25,
           -1,
           -1,
           -1,
           -1,
           27,
           -1,
           -1,
           8,
           -1,
           -1,
           -1,
           7,
           16,
           5,
           -1,
           -1,
           -1,
           -1,
           -1,
           12,
           29,
           -1,
           -1,
           -1,
           -1,
           -1,
           26,
           -1,
           -1,
           23,
           -1,
           30,
           -1,
           -1,
           8,
           23,
           -1,
           -1,
           19,
           4,
           2,
           8,
           27,
           -1,
           0,
           -1,
           0,
           3,
           28,
           30,
           31,
           13,
           -1,
           31,
           -1
          ],
          "colorbar": {
           "title": "Colorbar"
          },
          "colorscale": "MAGMA"
         },
         "mode": "markers",
         "name": "data",
         "text": [
          "x: 308<br>y: 128",
          "x: 214<br>y: 110",
          "x: 304<br>y: 125",
          "x: 223<br>y: 152",
          "x: 270<br>y: 178",
          "x: 180<br>y: 130",
          "x: 258<br>y: 150",
          "x: 276<br>y: 150",
          "x: 326<br>y: 170",
          "x: 219<br>y: 120",
          "x: 302<br>y: 120",
          "x: 226<br>y: 140",
          "x: 335<br>y: 140",
          "x: 236<br>y: 138",
          "x: 231<br>y: 120",
          "x: 200<br>y: 144",
          "x: 234<br>y: 130",
          "x: 253<br>y: 130",
          "x: 204<br>y: 130",
          "x: 319<br>y: 136",
          "x: 302<br>y: 160",
          "x: 233<br>y: 108",
          "x: 223<br>y: 106",
          "x: 228<br>y: 160",
          "x: 245<br>y: 156",
          "x: 211<br>y: 120",
          "x: 303<br>y: 128",
          "x: 205<br>y: 128",
          "x: 185<br>y: 140",
          "x: 175<br>y: 110",
          "x: 214<br>y: 130",
          "x: 225<br>y: 150",
          "x: 203<br>y: 140",
          "x: 325<br>y: 180",
          "x: 230<br>y: 112",
          "x: 222<br>y: 122",
          "x: 126<br>y: 150",
          "x: 209<br>y: 124",
          "x: 269<br>y: 120",
          "x: 255<br>y: 128",
          "x: 243<br>y: 150",
          "x: 252<br>y: 135",
          "x: 265<br>y: 110",
          "x: 417<br>y: 140",
          "x: 267<br>y: 108",
          "x: 261<br>y: 124",
          "x: 245<br>y: 125",
          "x: 149<br>y: 112",
          "x: 281<br>y: 120",
          "x: 204<br>y: 105",
          "x: 311<br>y: 140",
          "x: 315<br>y: 130",
          "x: 330<br>y: 130",
          "x: 256<br>y: 130",
          "x: 330<br>y: 130",
          "x: 233<br>y: 130",
          "x: 239<br>y: 110",
          "x: 267<br>y: 120",
          "x: 295<br>y: 120",
          "x: 197<br>y: 110",
          "x: 564<br>y: 115",
          "x: 305<br>y: 130",
          "x: 283<br>y: 130",
          "x: 160<br>y: 112",
          "x: 254<br>y: 110",
          "x: 282<br>y: 126",
          "x: 322<br>y: 130",
          "x: 303<br>y: 115",
          "x: 250<br>y: 135",
          "x: 188<br>y: 120",
          "x: 220<br>y: 120",
          "x: 204<br>y: 112",
          "x: 199<br>y: 172",
          "x: 215<br>y: 120",
          "x: 218<br>y: 126",
          "x: 228<br>y: 178",
          "x: 196<br>y: 136",
          "x: 266<br>y: 124",
          "x: 282<br>y: 145",
          "x: 254<br>y: 130",
          "x: 197<br>y: 130",
          "x: 188<br>y: 120",
          "x: 229<br>y: 110",
          "x: 259<br>y: 128",
          "x: 256<br>y: 130",
          "x: 149<br>y: 118",
          "x: 268<br>y: 112",
          "x: 177<br>y: 140",
          "x: 168<br>y: 150",
          "x: 262<br>y: 130",
          "x: 271<br>y: 134",
          "x: 299<br>y: 100",
          "x: 304<br>y: 135",
          "x: 293<br>y: 140",
          "x: 141<br>y: 108",
          "x: 277<br>y: 118",
          "x: 212<br>y: 145",
          "x: 234<br>y: 160",
          "x: 269<br>y: 155",
          "x: 283<br>y: 150",
          "x: 321<br>y: 140",
          "x: 294<br>y: 140",
          "x: 239<br>y: 110",
          "x: 308<br>y: 140",
          "x: 313<br>y: 140",
          "x: 303<br>y: 130",
          "x: 232<br>y: 150",
          "x: 289<br>y: 160",
          "x: 213<br>y: 125",
          "x: 274<br>y: 124",
          "x: 263<br>y: 128",
          "x: 244<br>y: 120",
          "x: 298<br>y: 140",
          "x: 274<br>y: 180",
          "x: 250<br>y: 112",
          "x: 211<br>y: 140",
          "x: 203<br>y: 135",
          "x: 172<br>y: 110",
          "x: 353<br>y: 132",
          "x: 294<br>y: 138",
          "x: 282<br>y: 138",
          "x: 210<br>y: 118",
          "x: 192<br>y: 140",
          "x: 246<br>y: 130",
          "x: 286<br>y: 160",
          "x: 360<br>y: 160",
          "x: 265<br>y: 102",
          "x: 258<br>y: 120",
          "x: 174<br>y: 145",
          "x: 246<br>y: 120",
          "x: 227<br>y: 94",
          "x: 248<br>y: 100",
          "x: 204<br>y: 130",
          "x: 224<br>y: 132",
          "x: 300<br>y: 125",
          "x: 177<br>y: 120",
          "x: 256<br>y: 130",
          "x: 244<br>y: 150",
          "x: 235<br>y: 140",
          "x: 219<br>y: 130",
          "x: 217<br>y: 140",
          "x: 193<br>y: 120",
          "x: 263<br>y: 120",
          "x: 167<br>y: 110",
          "x: 216<br>y: 128",
          "x: 195<br>y: 140",
          "x: 199<br>y: 140",
          "x: 234<br>y: 134",
          "x: 243<br>y: 108",
          "x: 229<br>y: 128",
          "x: 309<br>y: 108",
          "x: 273<br>y: 125",
          "x: 198<br>y: 120",
          "x: 290<br>y: 112",
          "x: 263<br>y: 130",
          "x: 273<br>y: 160",
          "x: 239<br>y: 140",
          "x: 275<br>y: 130",
          "x: 226<br>y: 120",
          "x: 206<br>y: 130",
          "x: 266<br>y: 130",
          "x: 230<br>y: 117",
          "x: 164<br>y: 160",
          "x: 309<br>y: 142",
          "x: 226<br>y: 142",
          "x: 277<br>y: 152",
          "x: 207<br>y: 132",
          "x: 249<br>y: 120",
          "x: 233<br>y: 145",
          "x: 211<br>y: 110",
          "x: 270<br>y: 150",
          "x: 212<br>y: 112",
          "x: 219<br>y: 118",
          "x: 299<br>y: 140",
          "x: 239<br>y: 140",
          "x: 254<br>y: 125",
          "x: 327<br>y: 180",
          "x: 309<br>y: 125",
          "x: 255<br>y: 124",
          "x: 201<br>y: 160"
         ],
         "type": "scatter",
         "x": [
          308,
          214,
          304,
          223,
          270,
          180,
          258,
          276,
          326,
          219,
          302,
          226,
          335,
          236,
          231,
          200,
          234,
          253,
          204,
          319,
          302,
          233,
          223,
          228,
          245,
          211,
          303,
          205,
          185,
          175,
          214,
          225,
          203,
          325,
          230,
          222,
          126,
          209,
          269,
          255,
          243,
          252,
          265,
          417,
          267,
          261,
          245,
          149,
          281,
          204,
          311,
          315,
          330,
          256,
          330,
          233,
          239,
          267,
          295,
          197,
          564,
          305,
          283,
          160,
          254,
          282,
          322,
          303,
          250,
          188,
          220,
          204,
          199,
          215,
          218,
          228,
          196,
          266,
          282,
          254,
          197,
          188,
          229,
          259,
          256,
          149,
          268,
          177,
          168,
          262,
          271,
          299,
          304,
          293,
          141,
          277,
          212,
          234,
          269,
          283,
          321,
          294,
          239,
          308,
          313,
          303,
          232,
          289,
          213,
          274,
          263,
          244,
          298,
          274,
          250,
          211,
          203,
          172,
          353,
          294,
          282,
          210,
          192,
          246,
          286,
          360,
          265,
          258,
          174,
          246,
          227,
          248,
          204,
          224,
          300,
          177,
          256,
          244,
          235,
          219,
          217,
          193,
          263,
          167,
          216,
          195,
          199,
          234,
          243,
          229,
          309,
          273,
          198,
          290,
          263,
          273,
          239,
          275,
          226,
          206,
          266,
          230,
          164,
          309,
          226,
          277,
          207,
          249,
          233,
          211,
          270,
          212,
          219,
          299,
          239,
          254,
          327,
          309,
          255,
          201
         ],
         "y": [
          128,
          110,
          125,
          152,
          178,
          130,
          150,
          150,
          170,
          120,
          120,
          140,
          140,
          138,
          120,
          144,
          130,
          130,
          130,
          136,
          160,
          108,
          106,
          160,
          156,
          120,
          128,
          128,
          140,
          110,
          130,
          150,
          140,
          180,
          112,
          122,
          150,
          124,
          120,
          128,
          150,
          135,
          110,
          140,
          108,
          124,
          125,
          112,
          120,
          105,
          140,
          130,
          130,
          130,
          130,
          130,
          110,
          120,
          120,
          110,
          115,
          130,
          130,
          112,
          110,
          126,
          130,
          115,
          135,
          120,
          120,
          112,
          172,
          120,
          126,
          178,
          136,
          124,
          145,
          130,
          130,
          120,
          110,
          128,
          130,
          118,
          112,
          140,
          150,
          130,
          134,
          100,
          135,
          140,
          108,
          118,
          145,
          160,
          155,
          150,
          140,
          140,
          110,
          140,
          140,
          130,
          150,
          160,
          125,
          124,
          128,
          120,
          140,
          180,
          112,
          140,
          135,
          110,
          132,
          138,
          138,
          118,
          140,
          130,
          160,
          160,
          102,
          120,
          145,
          120,
          94,
          100,
          130,
          132,
          125,
          120,
          130,
          150,
          140,
          130,
          140,
          120,
          120,
          110,
          128,
          140,
          140,
          134,
          108,
          128,
          108,
          125,
          120,
          112,
          130,
          160,
          140,
          130,
          120,
          130,
          130,
          117,
          160,
          142,
          142,
          152,
          132,
          120,
          145,
          110,
          150,
          112,
          118,
          140,
          140,
          125,
          180,
          125,
          124,
          160
         ]
        }
       ],
       "layout": {
        "xaxis": {
         "title": "serum_cholesterol_mg_per_dl"
        },
        "yaxis": {
         "title": "resting_blood_pressure"
        }
       }
      },
      "text/html": [
       "<div id=\"ea731485-da7b-41f1-b94a-2ec24e4e6aa7\" style=\"height: 525px; width: 100%;\" class=\"plotly-graph-div\"></div><script type=\"text/javascript\">require([\"plotly\"], function(Plotly) { window.PLOTLYENV=window.PLOTLYENV || {};window.PLOTLYENV.BASE_URL=\"https://plot.ly\";Plotly.newPlot(\"ea731485-da7b-41f1-b94a-2ec24e4e6aa7\", [{\"x\": [308, 214, 304, 223, 270, 180, 258, 276, 326, 219, 302, 226, 335, 236, 231, 200, 234, 253, 204, 319, 302, 233, 223, 228, 245, 211, 303, 205, 185, 175, 214, 225, 203, 325, 230, 222, 126, 209, 269, 255, 243, 252, 265, 417, 267, 261, 245, 149, 281, 204, 311, 315, 330, 256, 330, 233, 239, 267, 295, 197, 564, 305, 283, 160, 254, 282, 322, 303, 250, 188, 220, 204, 199, 215, 218, 228, 196, 266, 282, 254, 197, 188, 229, 259, 256, 149, 268, 177, 168, 262, 271, 299, 304, 293, 141, 277, 212, 234, 269, 283, 321, 294, 239, 308, 313, 303, 232, 289, 213, 274, 263, 244, 298, 274, 250, 211, 203, 172, 353, 294, 282, 210, 192, 246, 286, 360, 265, 258, 174, 246, 227, 248, 204, 224, 300, 177, 256, 244, 235, 219, 217, 193, 263, 167, 216, 195, 199, 234, 243, 229, 309, 273, 198, 290, 263, 273, 239, 275, 226, 206, 266, 230, 164, 309, 226, 277, 207, 249, 233, 211, 270, 212, 219, 299, 239, 254, 327, 309, 255, 201], \"mode\": \"markers\", \"y\": [128, 110, 125, 152, 178, 130, 150, 150, 170, 120, 120, 140, 140, 138, 120, 144, 130, 130, 130, 136, 160, 108, 106, 160, 156, 120, 128, 128, 140, 110, 130, 150, 140, 180, 112, 122, 150, 124, 120, 128, 150, 135, 110, 140, 108, 124, 125, 112, 120, 105, 140, 130, 130, 130, 130, 130, 110, 120, 120, 110, 115, 130, 130, 112, 110, 126, 130, 115, 135, 120, 120, 112, 172, 120, 126, 178, 136, 124, 145, 130, 130, 120, 110, 128, 130, 118, 112, 140, 150, 130, 134, 100, 135, 140, 108, 118, 145, 160, 155, 150, 140, 140, 110, 140, 140, 130, 150, 160, 125, 124, 128, 120, 140, 180, 112, 140, 135, 110, 132, 138, 138, 118, 140, 130, 160, 160, 102, 120, 145, 120, 94, 100, 130, 132, 125, 120, 130, 150, 140, 130, 140, 120, 120, 110, 128, 140, 140, 134, 108, 128, 108, 125, 120, 112, 130, 160, 140, 130, 120, 130, 130, 117, 160, 142, 142, 152, 132, 120, 145, 110, 150, 112, 118, 140, 140, 125, 180, 125, 124, 160], \"text\": [\"x: 308<br>y: 128\", \"x: 214<br>y: 110\", \"x: 304<br>y: 125\", \"x: 223<br>y: 152\", \"x: 270<br>y: 178\", \"x: 180<br>y: 130\", \"x: 258<br>y: 150\", \"x: 276<br>y: 150\", \"x: 326<br>y: 170\", \"x: 219<br>y: 120\", \"x: 302<br>y: 120\", \"x: 226<br>y: 140\", \"x: 335<br>y: 140\", \"x: 236<br>y: 138\", \"x: 231<br>y: 120\", \"x: 200<br>y: 144\", \"x: 234<br>y: 130\", \"x: 253<br>y: 130\", \"x: 204<br>y: 130\", \"x: 319<br>y: 136\", \"x: 302<br>y: 160\", \"x: 233<br>y: 108\", \"x: 223<br>y: 106\", \"x: 228<br>y: 160\", \"x: 245<br>y: 156\", \"x: 211<br>y: 120\", \"x: 303<br>y: 128\", \"x: 205<br>y: 128\", \"x: 185<br>y: 140\", \"x: 175<br>y: 110\", \"x: 214<br>y: 130\", \"x: 225<br>y: 150\", \"x: 203<br>y: 140\", \"x: 325<br>y: 180\", \"x: 230<br>y: 112\", \"x: 222<br>y: 122\", \"x: 126<br>y: 150\", \"x: 209<br>y: 124\", \"x: 269<br>y: 120\", \"x: 255<br>y: 128\", \"x: 243<br>y: 150\", \"x: 252<br>y: 135\", \"x: 265<br>y: 110\", \"x: 417<br>y: 140\", \"x: 267<br>y: 108\", \"x: 261<br>y: 124\", \"x: 245<br>y: 125\", \"x: 149<br>y: 112\", \"x: 281<br>y: 120\", \"x: 204<br>y: 105\", \"x: 311<br>y: 140\", \"x: 315<br>y: 130\", \"x: 330<br>y: 130\", \"x: 256<br>y: 130\", \"x: 330<br>y: 130\", \"x: 233<br>y: 130\", \"x: 239<br>y: 110\", \"x: 267<br>y: 120\", \"x: 295<br>y: 120\", \"x: 197<br>y: 110\", \"x: 564<br>y: 115\", \"x: 305<br>y: 130\", \"x: 283<br>y: 130\", \"x: 160<br>y: 112\", \"x: 254<br>y: 110\", \"x: 282<br>y: 126\", \"x: 322<br>y: 130\", \"x: 303<br>y: 115\", \"x: 250<br>y: 135\", \"x: 188<br>y: 120\", \"x: 220<br>y: 120\", \"x: 204<br>y: 112\", \"x: 199<br>y: 172\", \"x: 215<br>y: 120\", \"x: 218<br>y: 126\", \"x: 228<br>y: 178\", \"x: 196<br>y: 136\", \"x: 266<br>y: 124\", \"x: 282<br>y: 145\", \"x: 254<br>y: 130\", \"x: 197<br>y: 130\", \"x: 188<br>y: 120\", \"x: 229<br>y: 110\", \"x: 259<br>y: 128\", \"x: 256<br>y: 130\", \"x: 149<br>y: 118\", \"x: 268<br>y: 112\", \"x: 177<br>y: 140\", \"x: 168<br>y: 150\", \"x: 262<br>y: 130\", \"x: 271<br>y: 134\", \"x: 299<br>y: 100\", \"x: 304<br>y: 135\", \"x: 293<br>y: 140\", \"x: 141<br>y: 108\", \"x: 277<br>y: 118\", \"x: 212<br>y: 145\", \"x: 234<br>y: 160\", \"x: 269<br>y: 155\", \"x: 283<br>y: 150\", \"x: 321<br>y: 140\", \"x: 294<br>y: 140\", \"x: 239<br>y: 110\", \"x: 308<br>y: 140\", \"x: 313<br>y: 140\", \"x: 303<br>y: 130\", \"x: 232<br>y: 150\", \"x: 289<br>y: 160\", \"x: 213<br>y: 125\", \"x: 274<br>y: 124\", \"x: 263<br>y: 128\", \"x: 244<br>y: 120\", \"x: 298<br>y: 140\", \"x: 274<br>y: 180\", \"x: 250<br>y: 112\", \"x: 211<br>y: 140\", \"x: 203<br>y: 135\", \"x: 172<br>y: 110\", \"x: 353<br>y: 132\", \"x: 294<br>y: 138\", \"x: 282<br>y: 138\", \"x: 210<br>y: 118\", \"x: 192<br>y: 140\", \"x: 246<br>y: 130\", \"x: 286<br>y: 160\", \"x: 360<br>y: 160\", \"x: 265<br>y: 102\", \"x: 258<br>y: 120\", \"x: 174<br>y: 145\", \"x: 246<br>y: 120\", \"x: 227<br>y: 94\", \"x: 248<br>y: 100\", \"x: 204<br>y: 130\", \"x: 224<br>y: 132\", \"x: 300<br>y: 125\", \"x: 177<br>y: 120\", \"x: 256<br>y: 130\", \"x: 244<br>y: 150\", \"x: 235<br>y: 140\", \"x: 219<br>y: 130\", \"x: 217<br>y: 140\", \"x: 193<br>y: 120\", \"x: 263<br>y: 120\", \"x: 167<br>y: 110\", \"x: 216<br>y: 128\", \"x: 195<br>y: 140\", \"x: 199<br>y: 140\", \"x: 234<br>y: 134\", \"x: 243<br>y: 108\", \"x: 229<br>y: 128\", \"x: 309<br>y: 108\", \"x: 273<br>y: 125\", \"x: 198<br>y: 120\", \"x: 290<br>y: 112\", \"x: 263<br>y: 130\", \"x: 273<br>y: 160\", \"x: 239<br>y: 140\", \"x: 275<br>y: 130\", \"x: 226<br>y: 120\", \"x: 206<br>y: 130\", \"x: 266<br>y: 130\", \"x: 230<br>y: 117\", \"x: 164<br>y: 160\", \"x: 309<br>y: 142\", \"x: 226<br>y: 142\", \"x: 277<br>y: 152\", \"x: 207<br>y: 132\", \"x: 249<br>y: 120\", \"x: 233<br>y: 145\", \"x: 211<br>y: 110\", \"x: 270<br>y: 150\", \"x: 212<br>y: 112\", \"x: 219<br>y: 118\", \"x: 299<br>y: 140\", \"x: 239<br>y: 140\", \"x: 254<br>y: 125\", \"x: 327<br>y: 180\", \"x: 309<br>y: 125\", \"x: 255<br>y: 124\", \"x: 201<br>y: 160\"], \"marker\": {\"colorbar\": {\"title\": \"Colorbar\"}, \"color\": [-1, 0, -1, 1, -1, -1, -1, 2, -1, 3, -1, 4, -1, 5, -1, -1, 6, 7, 8, -1, -1, -1, -1, -1, -1, 9, 10, 8, -1, 11, 12, 1, -1, 13, 14, 3, -1, -1, 15, 7, 16, 17, 18, -1, 18, -1, -1, -1, -1, -1, 19, -1, 20, 7, 20, 6, 21, 15, -1, -1, -1, 10, -1, -1, -1, -1, -1, -1, 17, 22, 3, -1, -1, -1, 12, -1, -1, -1, -1, 7, -1, 22, 14, -1, 7, -1, -1, -1, -1, 23, -1, -1, -1, 24, -1, -1, -1, -1, -1, -1, -1, 24, 21, 19, 19, 10, -1, 25, -1, 26, 23, 27, 28, -1, -1, -1, -1, 11, -1, 24, -1, 9, 29, -1, 25, -1, -1, -1, -1, 27, -1, -1, 8, -1, -1, -1, 7, 16, 5, -1, -1, -1, -1, -1, 12, 29, -1, -1, -1, -1, -1, 26, -1, -1, 23, -1, 30, -1, -1, 8, 23, -1, -1, 19, 4, 2, 8, 27, -1, 0, -1, 0, 3, 28, 30, 31, 13, -1, 31, -1], \"colorscale\": \"MAGMA\"}, \"name\": \"data\", \"hoverinfo\": \"text\", \"type\": \"scatter\"}], {\"yaxis\": {\"title\": \"resting_blood_pressure\"}, \"xaxis\": {\"title\": \"serum_cholesterol_mg_per_dl\"}}, {\"linkText\": \"Export to plot.ly\", \"showLink\": {\"yaxis\": {\"title\": \"resting_blood_pressure\"}, \"xaxis\": {\"title\": \"serum_cholesterol_mg_per_dl\"}}})});</script>"
      ],
      "text/vnd.plotly.v1+html": [
       "<div id=\"ea731485-da7b-41f1-b94a-2ec24e4e6aa7\" style=\"height: 525px; width: 100%;\" class=\"plotly-graph-div\"></div><script type=\"text/javascript\">require([\"plotly\"], function(Plotly) { window.PLOTLYENV=window.PLOTLYENV || {};window.PLOTLYENV.BASE_URL=\"https://plot.ly\";Plotly.newPlot(\"ea731485-da7b-41f1-b94a-2ec24e4e6aa7\", [{\"x\": [308, 214, 304, 223, 270, 180, 258, 276, 326, 219, 302, 226, 335, 236, 231, 200, 234, 253, 204, 319, 302, 233, 223, 228, 245, 211, 303, 205, 185, 175, 214, 225, 203, 325, 230, 222, 126, 209, 269, 255, 243, 252, 265, 417, 267, 261, 245, 149, 281, 204, 311, 315, 330, 256, 330, 233, 239, 267, 295, 197, 564, 305, 283, 160, 254, 282, 322, 303, 250, 188, 220, 204, 199, 215, 218, 228, 196, 266, 282, 254, 197, 188, 229, 259, 256, 149, 268, 177, 168, 262, 271, 299, 304, 293, 141, 277, 212, 234, 269, 283, 321, 294, 239, 308, 313, 303, 232, 289, 213, 274, 263, 244, 298, 274, 250, 211, 203, 172, 353, 294, 282, 210, 192, 246, 286, 360, 265, 258, 174, 246, 227, 248, 204, 224, 300, 177, 256, 244, 235, 219, 217, 193, 263, 167, 216, 195, 199, 234, 243, 229, 309, 273, 198, 290, 263, 273, 239, 275, 226, 206, 266, 230, 164, 309, 226, 277, 207, 249, 233, 211, 270, 212, 219, 299, 239, 254, 327, 309, 255, 201], \"mode\": \"markers\", \"y\": [128, 110, 125, 152, 178, 130, 150, 150, 170, 120, 120, 140, 140, 138, 120, 144, 130, 130, 130, 136, 160, 108, 106, 160, 156, 120, 128, 128, 140, 110, 130, 150, 140, 180, 112, 122, 150, 124, 120, 128, 150, 135, 110, 140, 108, 124, 125, 112, 120, 105, 140, 130, 130, 130, 130, 130, 110, 120, 120, 110, 115, 130, 130, 112, 110, 126, 130, 115, 135, 120, 120, 112, 172, 120, 126, 178, 136, 124, 145, 130, 130, 120, 110, 128, 130, 118, 112, 140, 150, 130, 134, 100, 135, 140, 108, 118, 145, 160, 155, 150, 140, 140, 110, 140, 140, 130, 150, 160, 125, 124, 128, 120, 140, 180, 112, 140, 135, 110, 132, 138, 138, 118, 140, 130, 160, 160, 102, 120, 145, 120, 94, 100, 130, 132, 125, 120, 130, 150, 140, 130, 140, 120, 120, 110, 128, 140, 140, 134, 108, 128, 108, 125, 120, 112, 130, 160, 140, 130, 120, 130, 130, 117, 160, 142, 142, 152, 132, 120, 145, 110, 150, 112, 118, 140, 140, 125, 180, 125, 124, 160], \"text\": [\"x: 308<br>y: 128\", \"x: 214<br>y: 110\", \"x: 304<br>y: 125\", \"x: 223<br>y: 152\", \"x: 270<br>y: 178\", \"x: 180<br>y: 130\", \"x: 258<br>y: 150\", \"x: 276<br>y: 150\", \"x: 326<br>y: 170\", \"x: 219<br>y: 120\", \"x: 302<br>y: 120\", \"x: 226<br>y: 140\", \"x: 335<br>y: 140\", \"x: 236<br>y: 138\", \"x: 231<br>y: 120\", \"x: 200<br>y: 144\", \"x: 234<br>y: 130\", \"x: 253<br>y: 130\", \"x: 204<br>y: 130\", \"x: 319<br>y: 136\", \"x: 302<br>y: 160\", \"x: 233<br>y: 108\", \"x: 223<br>y: 106\", \"x: 228<br>y: 160\", \"x: 245<br>y: 156\", \"x: 211<br>y: 120\", \"x: 303<br>y: 128\", \"x: 205<br>y: 128\", \"x: 185<br>y: 140\", \"x: 175<br>y: 110\", \"x: 214<br>y: 130\", \"x: 225<br>y: 150\", \"x: 203<br>y: 140\", \"x: 325<br>y: 180\", \"x: 230<br>y: 112\", \"x: 222<br>y: 122\", \"x: 126<br>y: 150\", \"x: 209<br>y: 124\", \"x: 269<br>y: 120\", \"x: 255<br>y: 128\", \"x: 243<br>y: 150\", \"x: 252<br>y: 135\", \"x: 265<br>y: 110\", \"x: 417<br>y: 140\", \"x: 267<br>y: 108\", \"x: 261<br>y: 124\", \"x: 245<br>y: 125\", \"x: 149<br>y: 112\", \"x: 281<br>y: 120\", \"x: 204<br>y: 105\", \"x: 311<br>y: 140\", \"x: 315<br>y: 130\", \"x: 330<br>y: 130\", \"x: 256<br>y: 130\", \"x: 330<br>y: 130\", \"x: 233<br>y: 130\", \"x: 239<br>y: 110\", \"x: 267<br>y: 120\", \"x: 295<br>y: 120\", \"x: 197<br>y: 110\", \"x: 564<br>y: 115\", \"x: 305<br>y: 130\", \"x: 283<br>y: 130\", \"x: 160<br>y: 112\", \"x: 254<br>y: 110\", \"x: 282<br>y: 126\", \"x: 322<br>y: 130\", \"x: 303<br>y: 115\", \"x: 250<br>y: 135\", \"x: 188<br>y: 120\", \"x: 220<br>y: 120\", \"x: 204<br>y: 112\", \"x: 199<br>y: 172\", \"x: 215<br>y: 120\", \"x: 218<br>y: 126\", \"x: 228<br>y: 178\", \"x: 196<br>y: 136\", \"x: 266<br>y: 124\", \"x: 282<br>y: 145\", \"x: 254<br>y: 130\", \"x: 197<br>y: 130\", \"x: 188<br>y: 120\", \"x: 229<br>y: 110\", \"x: 259<br>y: 128\", \"x: 256<br>y: 130\", \"x: 149<br>y: 118\", \"x: 268<br>y: 112\", \"x: 177<br>y: 140\", \"x: 168<br>y: 150\", \"x: 262<br>y: 130\", \"x: 271<br>y: 134\", \"x: 299<br>y: 100\", \"x: 304<br>y: 135\", \"x: 293<br>y: 140\", \"x: 141<br>y: 108\", \"x: 277<br>y: 118\", \"x: 212<br>y: 145\", \"x: 234<br>y: 160\", \"x: 269<br>y: 155\", \"x: 283<br>y: 150\", \"x: 321<br>y: 140\", \"x: 294<br>y: 140\", \"x: 239<br>y: 110\", \"x: 308<br>y: 140\", \"x: 313<br>y: 140\", \"x: 303<br>y: 130\", \"x: 232<br>y: 150\", \"x: 289<br>y: 160\", \"x: 213<br>y: 125\", \"x: 274<br>y: 124\", \"x: 263<br>y: 128\", \"x: 244<br>y: 120\", \"x: 298<br>y: 140\", \"x: 274<br>y: 180\", \"x: 250<br>y: 112\", \"x: 211<br>y: 140\", \"x: 203<br>y: 135\", \"x: 172<br>y: 110\", \"x: 353<br>y: 132\", \"x: 294<br>y: 138\", \"x: 282<br>y: 138\", \"x: 210<br>y: 118\", \"x: 192<br>y: 140\", \"x: 246<br>y: 130\", \"x: 286<br>y: 160\", \"x: 360<br>y: 160\", \"x: 265<br>y: 102\", \"x: 258<br>y: 120\", \"x: 174<br>y: 145\", \"x: 246<br>y: 120\", \"x: 227<br>y: 94\", \"x: 248<br>y: 100\", \"x: 204<br>y: 130\", \"x: 224<br>y: 132\", \"x: 300<br>y: 125\", \"x: 177<br>y: 120\", \"x: 256<br>y: 130\", \"x: 244<br>y: 150\", \"x: 235<br>y: 140\", \"x: 219<br>y: 130\", \"x: 217<br>y: 140\", \"x: 193<br>y: 120\", \"x: 263<br>y: 120\", \"x: 167<br>y: 110\", \"x: 216<br>y: 128\", \"x: 195<br>y: 140\", \"x: 199<br>y: 140\", \"x: 234<br>y: 134\", \"x: 243<br>y: 108\", \"x: 229<br>y: 128\", \"x: 309<br>y: 108\", \"x: 273<br>y: 125\", \"x: 198<br>y: 120\", \"x: 290<br>y: 112\", \"x: 263<br>y: 130\", \"x: 273<br>y: 160\", \"x: 239<br>y: 140\", \"x: 275<br>y: 130\", \"x: 226<br>y: 120\", \"x: 206<br>y: 130\", \"x: 266<br>y: 130\", \"x: 230<br>y: 117\", \"x: 164<br>y: 160\", \"x: 309<br>y: 142\", \"x: 226<br>y: 142\", \"x: 277<br>y: 152\", \"x: 207<br>y: 132\", \"x: 249<br>y: 120\", \"x: 233<br>y: 145\", \"x: 211<br>y: 110\", \"x: 270<br>y: 150\", \"x: 212<br>y: 112\", \"x: 219<br>y: 118\", \"x: 299<br>y: 140\", \"x: 239<br>y: 140\", \"x: 254<br>y: 125\", \"x: 327<br>y: 180\", \"x: 309<br>y: 125\", \"x: 255<br>y: 124\", \"x: 201<br>y: 160\"], \"marker\": {\"colorbar\": {\"title\": \"Colorbar\"}, \"color\": [-1, 0, -1, 1, -1, -1, -1, 2, -1, 3, -1, 4, -1, 5, -1, -1, 6, 7, 8, -1, -1, -1, -1, -1, -1, 9, 10, 8, -1, 11, 12, 1, -1, 13, 14, 3, -1, -1, 15, 7, 16, 17, 18, -1, 18, -1, -1, -1, -1, -1, 19, -1, 20, 7, 20, 6, 21, 15, -1, -1, -1, 10, -1, -1, -1, -1, -1, -1, 17, 22, 3, -1, -1, -1, 12, -1, -1, -1, -1, 7, -1, 22, 14, -1, 7, -1, -1, -1, -1, 23, -1, -1, -1, 24, -1, -1, -1, -1, -1, -1, -1, 24, 21, 19, 19, 10, -1, 25, -1, 26, 23, 27, 28, -1, -1, -1, -1, 11, -1, 24, -1, 9, 29, -1, 25, -1, -1, -1, -1, 27, -1, -1, 8, -1, -1, -1, 7, 16, 5, -1, -1, -1, -1, -1, 12, 29, -1, -1, -1, -1, -1, 26, -1, -1, 23, -1, 30, -1, -1, 8, 23, -1, -1, 19, 4, 2, 8, 27, -1, 0, -1, 0, 3, 28, 30, 31, 13, -1, 31, -1], \"colorscale\": \"MAGMA\"}, \"name\": \"data\", \"hoverinfo\": \"text\", \"type\": \"scatter\"}], {\"yaxis\": {\"title\": \"resting_blood_pressure\"}, \"xaxis\": {\"title\": \"serum_cholesterol_mg_per_dl\"}}, {\"linkText\": \"Export to plot.ly\", \"showLink\": {\"yaxis\": {\"title\": \"resting_blood_pressure\"}, \"xaxis\": {\"title\": \"serum_cholesterol_mg_per_dl\"}}})});</script>"
      ]
     },
     "metadata": {},
     "output_type": "display_data"
    }
   ],
   "source": [
    "x = cluster_arr[:, 0]\n",
    "y = cluster_arr[:, 1]\n",
    "\n",
    "# col = ['#F33' if i == 1 else '#33F' for i in y_pred]\n",
    "\n",
    "trace = [go.Scatter(\n",
    "    x = x,\n",
    "    y = y,\n",
    "    marker = dict(\n",
    "        # color = col,\n",
    "        color = y_pred,\n",
    "        colorscale='MAGMA',\n",
    "        colorbar=dict(\n",
    "            title='Labels'\n",
    "        ),\n",
    "    ),\n",
    "    name = 'data',\n",
    "    mode = 'markers',\n",
    "    hoverinfo = 'text',\n",
    "    text = ['x: %s<br>y: %s' % (x_i, y_i) for x_i, y_i in zip(x, y)]\n",
    ")]\n",
    "\n",
    "layout = go.Layout(\n",
    "    xaxis = dict({'title': xlab}),\n",
    "    yaxis = dict({'title': ylab})\n",
    ")\n",
    "\n",
    "fig = go.Figure(data=trace, layout=layout)\n",
    "iplot(fig, layout)"
   ]
  },
  {
   "cell_type": "code",
   "execution_count": null,
   "metadata": {
    "slideshow": {
     "slide_type": "skip"
    }
   },
   "outputs": [],
   "source": []
  },
  {
   "cell_type": "code",
   "execution_count": null,
   "metadata": {
    "slideshow": {
     "slide_type": "skip"
    }
   },
   "outputs": [],
   "source": []
  },
  {
   "cell_type": "markdown",
   "metadata": {
    "slideshow": {
     "slide_type": "skip"
    }
   },
   "source": [
    "## Other based on DBSCAN"
   ]
  },
  {
   "cell_type": "code",
   "execution_count": null,
   "metadata": {
    "slideshow": {
     "slide_type": "skip"
    }
   },
   "outputs": [],
   "source": []
  },
  {
   "cell_type": "code",
   "execution_count": null,
   "metadata": {
    "slideshow": {
     "slide_type": "skip"
    }
   },
   "outputs": [],
   "source": []
  },
  {
   "cell_type": "markdown",
   "metadata": {
    "slideshow": {
     "slide_type": "skip"
    }
   },
   "source": [
    "# K-Means"
   ]
  },
  {
   "cell_type": "code",
   "execution_count": 14,
   "metadata": {
    "slideshow": {
     "slide_type": "skip"
    }
   },
   "outputs": [],
   "source": [
    "from sklearn.cluster import KMeans"
   ]
  },
  {
   "cell_type": "code",
   "execution_count": 30,
   "metadata": {
    "slideshow": {
     "slide_type": "skip"
    }
   },
   "outputs": [
    {
     "data": {
      "text/plain": [
       "array([1, 0, 1, 0, 1, 0, 1, 1, 1, 0, 1, 0, 1, 0, 0, 0, 0, 1, 0, 1, 1, 0,\n",
       "       0, 0, 0, 0, 1, 0, 0, 0, 0, 0, 0, 1, 0, 0, 0, 0, 1, 1, 0, 1, 1, 1,\n",
       "       1, 1, 0, 0, 1, 0, 1, 1, 1, 1, 1, 0, 0, 1, 1, 0, 1, 1, 1, 0, 1, 1,\n",
       "       1, 1, 0, 0, 0, 0, 0, 0, 0, 0, 0, 1, 1, 1, 0, 0, 0, 1, 1, 0, 1, 0,\n",
       "       0, 1, 1, 1, 1, 1, 0, 1, 0, 0, 1, 1, 1, 1, 0, 1, 1, 1, 0, 1, 0, 1,\n",
       "       1, 0, 1, 1, 0, 0, 0, 0, 1, 1, 1, 0, 0, 0, 1, 1, 1, 1, 0, 0, 0, 0,\n",
       "       0, 0, 1, 0, 1, 0, 0, 0, 0, 0, 1, 0, 0, 0, 0, 0, 0, 0, 1, 1, 0, 1,\n",
       "       1, 1, 0, 1, 0, 0, 1, 0, 0, 1, 0, 1, 0, 0, 0, 0, 1, 0, 0, 1, 0, 1,\n",
       "       1, 1, 1, 0], dtype=int32)"
      ]
     },
     "execution_count": 30,
     "metadata": {},
     "output_type": "execute_result"
    }
   ],
   "source": [
    "y_pred = KMeans(n_clusters=2, random_state=random_state).fit_predict(cluster_arr)\n",
    "\n",
    "y_pred"
   ]
  },
  {
   "cell_type": "code",
   "execution_count": 73,
   "metadata": {
    "slideshow": {
     "slide_type": "skip"
    }
   },
   "outputs": [
    {
     "data": {
      "application/vnd.plotly.v1+json": {
       "data": [
        {
         "hoverinfo": "text",
         "marker": {
          "color": [
           -1,
           0,
           -1,
           1,
           -1,
           -1,
           -1,
           2,
           -1,
           3,
           -1,
           4,
           -1,
           5,
           -1,
           -1,
           6,
           7,
           8,
           -1,
           -1,
           -1,
           -1,
           -1,
           -1,
           9,
           10,
           8,
           -1,
           11,
           12,
           1,
           -1,
           13,
           14,
           3,
           -1,
           -1,
           15,
           7,
           16,
           17,
           18,
           -1,
           18,
           -1,
           -1,
           -1,
           -1,
           -1,
           19,
           -1,
           20,
           7,
           20,
           6,
           21,
           15,
           -1,
           -1,
           -1,
           10,
           -1,
           -1,
           -1,
           -1,
           -1,
           -1,
           17,
           22,
           3,
           -1,
           -1,
           -1,
           12,
           -1,
           -1,
           -1,
           -1,
           7,
           -1,
           22,
           14,
           -1,
           7,
           -1,
           -1,
           -1,
           -1,
           23,
           -1,
           -1,
           -1,
           24,
           -1,
           -1,
           -1,
           -1,
           -1,
           -1,
           -1,
           24,
           21,
           19,
           19,
           10,
           -1,
           25,
           -1,
           26,
           23,
           27,
           28,
           -1,
           -1,
           -1,
           -1,
           11,
           -1,
           24,
           -1,
           9,
           29,
           -1,
           25,
           -1,
           -1,
           -1,
           -1,
           27,
           -1,
           -1,
           8,
           -1,
           -1,
           -1,
           7,
           16,
           5,
           -1,
           -1,
           -1,
           -1,
           -1,
           12,
           29,
           -1,
           -1,
           -1,
           -1,
           -1,
           26,
           -1,
           -1,
           23,
           -1,
           30,
           -1,
           -1,
           8,
           23,
           -1,
           -1,
           19,
           4,
           2,
           8,
           27,
           -1,
           0,
           -1,
           0,
           3,
           28,
           30,
           31,
           13,
           -1,
           31,
           -1
          ],
          "colorbar": {
           "title": "Labels"
          },
          "colorscale": "YlOrRd"
         },
         "mode": "markers",
         "name": "data",
         "text": [
          "x: 308<br>y: 128",
          "x: 214<br>y: 110",
          "x: 304<br>y: 125",
          "x: 223<br>y: 152",
          "x: 270<br>y: 178",
          "x: 180<br>y: 130",
          "x: 258<br>y: 150",
          "x: 276<br>y: 150",
          "x: 326<br>y: 170",
          "x: 219<br>y: 120",
          "x: 302<br>y: 120",
          "x: 226<br>y: 140",
          "x: 335<br>y: 140",
          "x: 236<br>y: 138",
          "x: 231<br>y: 120",
          "x: 200<br>y: 144",
          "x: 234<br>y: 130",
          "x: 253<br>y: 130",
          "x: 204<br>y: 130",
          "x: 319<br>y: 136",
          "x: 302<br>y: 160",
          "x: 233<br>y: 108",
          "x: 223<br>y: 106",
          "x: 228<br>y: 160",
          "x: 245<br>y: 156",
          "x: 211<br>y: 120",
          "x: 303<br>y: 128",
          "x: 205<br>y: 128",
          "x: 185<br>y: 140",
          "x: 175<br>y: 110",
          "x: 214<br>y: 130",
          "x: 225<br>y: 150",
          "x: 203<br>y: 140",
          "x: 325<br>y: 180",
          "x: 230<br>y: 112",
          "x: 222<br>y: 122",
          "x: 126<br>y: 150",
          "x: 209<br>y: 124",
          "x: 269<br>y: 120",
          "x: 255<br>y: 128",
          "x: 243<br>y: 150",
          "x: 252<br>y: 135",
          "x: 265<br>y: 110",
          "x: 417<br>y: 140",
          "x: 267<br>y: 108",
          "x: 261<br>y: 124",
          "x: 245<br>y: 125",
          "x: 149<br>y: 112",
          "x: 281<br>y: 120",
          "x: 204<br>y: 105",
          "x: 311<br>y: 140",
          "x: 315<br>y: 130",
          "x: 330<br>y: 130",
          "x: 256<br>y: 130",
          "x: 330<br>y: 130",
          "x: 233<br>y: 130",
          "x: 239<br>y: 110",
          "x: 267<br>y: 120",
          "x: 295<br>y: 120",
          "x: 197<br>y: 110",
          "x: 564<br>y: 115",
          "x: 305<br>y: 130",
          "x: 283<br>y: 130",
          "x: 160<br>y: 112",
          "x: 254<br>y: 110",
          "x: 282<br>y: 126",
          "x: 322<br>y: 130",
          "x: 303<br>y: 115",
          "x: 250<br>y: 135",
          "x: 188<br>y: 120",
          "x: 220<br>y: 120",
          "x: 204<br>y: 112",
          "x: 199<br>y: 172",
          "x: 215<br>y: 120",
          "x: 218<br>y: 126",
          "x: 228<br>y: 178",
          "x: 196<br>y: 136",
          "x: 266<br>y: 124",
          "x: 282<br>y: 145",
          "x: 254<br>y: 130",
          "x: 197<br>y: 130",
          "x: 188<br>y: 120",
          "x: 229<br>y: 110",
          "x: 259<br>y: 128",
          "x: 256<br>y: 130",
          "x: 149<br>y: 118",
          "x: 268<br>y: 112",
          "x: 177<br>y: 140",
          "x: 168<br>y: 150",
          "x: 262<br>y: 130",
          "x: 271<br>y: 134",
          "x: 299<br>y: 100",
          "x: 304<br>y: 135",
          "x: 293<br>y: 140",
          "x: 141<br>y: 108",
          "x: 277<br>y: 118",
          "x: 212<br>y: 145",
          "x: 234<br>y: 160",
          "x: 269<br>y: 155",
          "x: 283<br>y: 150",
          "x: 321<br>y: 140",
          "x: 294<br>y: 140",
          "x: 239<br>y: 110",
          "x: 308<br>y: 140",
          "x: 313<br>y: 140",
          "x: 303<br>y: 130",
          "x: 232<br>y: 150",
          "x: 289<br>y: 160",
          "x: 213<br>y: 125",
          "x: 274<br>y: 124",
          "x: 263<br>y: 128",
          "x: 244<br>y: 120",
          "x: 298<br>y: 140",
          "x: 274<br>y: 180",
          "x: 250<br>y: 112",
          "x: 211<br>y: 140",
          "x: 203<br>y: 135",
          "x: 172<br>y: 110",
          "x: 353<br>y: 132",
          "x: 294<br>y: 138",
          "x: 282<br>y: 138",
          "x: 210<br>y: 118",
          "x: 192<br>y: 140",
          "x: 246<br>y: 130",
          "x: 286<br>y: 160",
          "x: 360<br>y: 160",
          "x: 265<br>y: 102",
          "x: 258<br>y: 120",
          "x: 174<br>y: 145",
          "x: 246<br>y: 120",
          "x: 227<br>y: 94",
          "x: 248<br>y: 100",
          "x: 204<br>y: 130",
          "x: 224<br>y: 132",
          "x: 300<br>y: 125",
          "x: 177<br>y: 120",
          "x: 256<br>y: 130",
          "x: 244<br>y: 150",
          "x: 235<br>y: 140",
          "x: 219<br>y: 130",
          "x: 217<br>y: 140",
          "x: 193<br>y: 120",
          "x: 263<br>y: 120",
          "x: 167<br>y: 110",
          "x: 216<br>y: 128",
          "x: 195<br>y: 140",
          "x: 199<br>y: 140",
          "x: 234<br>y: 134",
          "x: 243<br>y: 108",
          "x: 229<br>y: 128",
          "x: 309<br>y: 108",
          "x: 273<br>y: 125",
          "x: 198<br>y: 120",
          "x: 290<br>y: 112",
          "x: 263<br>y: 130",
          "x: 273<br>y: 160",
          "x: 239<br>y: 140",
          "x: 275<br>y: 130",
          "x: 226<br>y: 120",
          "x: 206<br>y: 130",
          "x: 266<br>y: 130",
          "x: 230<br>y: 117",
          "x: 164<br>y: 160",
          "x: 309<br>y: 142",
          "x: 226<br>y: 142",
          "x: 277<br>y: 152",
          "x: 207<br>y: 132",
          "x: 249<br>y: 120",
          "x: 233<br>y: 145",
          "x: 211<br>y: 110",
          "x: 270<br>y: 150",
          "x: 212<br>y: 112",
          "x: 219<br>y: 118",
          "x: 299<br>y: 140",
          "x: 239<br>y: 140",
          "x: 254<br>y: 125",
          "x: 327<br>y: 180",
          "x: 309<br>y: 125",
          "x: 255<br>y: 124",
          "x: 201<br>y: 160"
         ],
         "type": "scatter",
         "x": [
          308,
          214,
          304,
          223,
          270,
          180,
          258,
          276,
          326,
          219,
          302,
          226,
          335,
          236,
          231,
          200,
          234,
          253,
          204,
          319,
          302,
          233,
          223,
          228,
          245,
          211,
          303,
          205,
          185,
          175,
          214,
          225,
          203,
          325,
          230,
          222,
          126,
          209,
          269,
          255,
          243,
          252,
          265,
          417,
          267,
          261,
          245,
          149,
          281,
          204,
          311,
          315,
          330,
          256,
          330,
          233,
          239,
          267,
          295,
          197,
          564,
          305,
          283,
          160,
          254,
          282,
          322,
          303,
          250,
          188,
          220,
          204,
          199,
          215,
          218,
          228,
          196,
          266,
          282,
          254,
          197,
          188,
          229,
          259,
          256,
          149,
          268,
          177,
          168,
          262,
          271,
          299,
          304,
          293,
          141,
          277,
          212,
          234,
          269,
          283,
          321,
          294,
          239,
          308,
          313,
          303,
          232,
          289,
          213,
          274,
          263,
          244,
          298,
          274,
          250,
          211,
          203,
          172,
          353,
          294,
          282,
          210,
          192,
          246,
          286,
          360,
          265,
          258,
          174,
          246,
          227,
          248,
          204,
          224,
          300,
          177,
          256,
          244,
          235,
          219,
          217,
          193,
          263,
          167,
          216,
          195,
          199,
          234,
          243,
          229,
          309,
          273,
          198,
          290,
          263,
          273,
          239,
          275,
          226,
          206,
          266,
          230,
          164,
          309,
          226,
          277,
          207,
          249,
          233,
          211,
          270,
          212,
          219,
          299,
          239,
          254,
          327,
          309,
          255,
          201
         ],
         "y": [
          128,
          110,
          125,
          152,
          178,
          130,
          150,
          150,
          170,
          120,
          120,
          140,
          140,
          138,
          120,
          144,
          130,
          130,
          130,
          136,
          160,
          108,
          106,
          160,
          156,
          120,
          128,
          128,
          140,
          110,
          130,
          150,
          140,
          180,
          112,
          122,
          150,
          124,
          120,
          128,
          150,
          135,
          110,
          140,
          108,
          124,
          125,
          112,
          120,
          105,
          140,
          130,
          130,
          130,
          130,
          130,
          110,
          120,
          120,
          110,
          115,
          130,
          130,
          112,
          110,
          126,
          130,
          115,
          135,
          120,
          120,
          112,
          172,
          120,
          126,
          178,
          136,
          124,
          145,
          130,
          130,
          120,
          110,
          128,
          130,
          118,
          112,
          140,
          150,
          130,
          134,
          100,
          135,
          140,
          108,
          118,
          145,
          160,
          155,
          150,
          140,
          140,
          110,
          140,
          140,
          130,
          150,
          160,
          125,
          124,
          128,
          120,
          140,
          180,
          112,
          140,
          135,
          110,
          132,
          138,
          138,
          118,
          140,
          130,
          160,
          160,
          102,
          120,
          145,
          120,
          94,
          100,
          130,
          132,
          125,
          120,
          130,
          150,
          140,
          130,
          140,
          120,
          120,
          110,
          128,
          140,
          140,
          134,
          108,
          128,
          108,
          125,
          120,
          112,
          130,
          160,
          140,
          130,
          120,
          130,
          130,
          117,
          160,
          142,
          142,
          152,
          132,
          120,
          145,
          110,
          150,
          112,
          118,
          140,
          140,
          125,
          180,
          125,
          124,
          160
         ]
        }
       ],
       "layout": {
        "xaxis": {
         "title": "serum_cholesterol_mg_per_dl"
        },
        "yaxis": {
         "title": "resting_blood_pressure"
        }
       }
      },
      "text/html": [
       "<div id=\"216e1a94-4ef0-41a8-adb9-576b468384cc\" style=\"height: 525px; width: 100%;\" class=\"plotly-graph-div\"></div><script type=\"text/javascript\">require([\"plotly\"], function(Plotly) { window.PLOTLYENV=window.PLOTLYENV || {};window.PLOTLYENV.BASE_URL=\"https://plot.ly\";Plotly.newPlot(\"216e1a94-4ef0-41a8-adb9-576b468384cc\", [{\"x\": [308, 214, 304, 223, 270, 180, 258, 276, 326, 219, 302, 226, 335, 236, 231, 200, 234, 253, 204, 319, 302, 233, 223, 228, 245, 211, 303, 205, 185, 175, 214, 225, 203, 325, 230, 222, 126, 209, 269, 255, 243, 252, 265, 417, 267, 261, 245, 149, 281, 204, 311, 315, 330, 256, 330, 233, 239, 267, 295, 197, 564, 305, 283, 160, 254, 282, 322, 303, 250, 188, 220, 204, 199, 215, 218, 228, 196, 266, 282, 254, 197, 188, 229, 259, 256, 149, 268, 177, 168, 262, 271, 299, 304, 293, 141, 277, 212, 234, 269, 283, 321, 294, 239, 308, 313, 303, 232, 289, 213, 274, 263, 244, 298, 274, 250, 211, 203, 172, 353, 294, 282, 210, 192, 246, 286, 360, 265, 258, 174, 246, 227, 248, 204, 224, 300, 177, 256, 244, 235, 219, 217, 193, 263, 167, 216, 195, 199, 234, 243, 229, 309, 273, 198, 290, 263, 273, 239, 275, 226, 206, 266, 230, 164, 309, 226, 277, 207, 249, 233, 211, 270, 212, 219, 299, 239, 254, 327, 309, 255, 201], \"mode\": \"markers\", \"y\": [128, 110, 125, 152, 178, 130, 150, 150, 170, 120, 120, 140, 140, 138, 120, 144, 130, 130, 130, 136, 160, 108, 106, 160, 156, 120, 128, 128, 140, 110, 130, 150, 140, 180, 112, 122, 150, 124, 120, 128, 150, 135, 110, 140, 108, 124, 125, 112, 120, 105, 140, 130, 130, 130, 130, 130, 110, 120, 120, 110, 115, 130, 130, 112, 110, 126, 130, 115, 135, 120, 120, 112, 172, 120, 126, 178, 136, 124, 145, 130, 130, 120, 110, 128, 130, 118, 112, 140, 150, 130, 134, 100, 135, 140, 108, 118, 145, 160, 155, 150, 140, 140, 110, 140, 140, 130, 150, 160, 125, 124, 128, 120, 140, 180, 112, 140, 135, 110, 132, 138, 138, 118, 140, 130, 160, 160, 102, 120, 145, 120, 94, 100, 130, 132, 125, 120, 130, 150, 140, 130, 140, 120, 120, 110, 128, 140, 140, 134, 108, 128, 108, 125, 120, 112, 130, 160, 140, 130, 120, 130, 130, 117, 160, 142, 142, 152, 132, 120, 145, 110, 150, 112, 118, 140, 140, 125, 180, 125, 124, 160], \"text\": [\"x: 308<br>y: 128\", \"x: 214<br>y: 110\", \"x: 304<br>y: 125\", \"x: 223<br>y: 152\", \"x: 270<br>y: 178\", \"x: 180<br>y: 130\", \"x: 258<br>y: 150\", \"x: 276<br>y: 150\", \"x: 326<br>y: 170\", \"x: 219<br>y: 120\", \"x: 302<br>y: 120\", \"x: 226<br>y: 140\", \"x: 335<br>y: 140\", \"x: 236<br>y: 138\", \"x: 231<br>y: 120\", \"x: 200<br>y: 144\", \"x: 234<br>y: 130\", \"x: 253<br>y: 130\", \"x: 204<br>y: 130\", \"x: 319<br>y: 136\", \"x: 302<br>y: 160\", \"x: 233<br>y: 108\", \"x: 223<br>y: 106\", \"x: 228<br>y: 160\", \"x: 245<br>y: 156\", \"x: 211<br>y: 120\", \"x: 303<br>y: 128\", \"x: 205<br>y: 128\", \"x: 185<br>y: 140\", \"x: 175<br>y: 110\", \"x: 214<br>y: 130\", \"x: 225<br>y: 150\", \"x: 203<br>y: 140\", \"x: 325<br>y: 180\", \"x: 230<br>y: 112\", \"x: 222<br>y: 122\", \"x: 126<br>y: 150\", \"x: 209<br>y: 124\", \"x: 269<br>y: 120\", \"x: 255<br>y: 128\", \"x: 243<br>y: 150\", \"x: 252<br>y: 135\", \"x: 265<br>y: 110\", \"x: 417<br>y: 140\", \"x: 267<br>y: 108\", \"x: 261<br>y: 124\", \"x: 245<br>y: 125\", \"x: 149<br>y: 112\", \"x: 281<br>y: 120\", \"x: 204<br>y: 105\", \"x: 311<br>y: 140\", \"x: 315<br>y: 130\", \"x: 330<br>y: 130\", \"x: 256<br>y: 130\", \"x: 330<br>y: 130\", \"x: 233<br>y: 130\", \"x: 239<br>y: 110\", \"x: 267<br>y: 120\", \"x: 295<br>y: 120\", \"x: 197<br>y: 110\", \"x: 564<br>y: 115\", \"x: 305<br>y: 130\", \"x: 283<br>y: 130\", \"x: 160<br>y: 112\", \"x: 254<br>y: 110\", \"x: 282<br>y: 126\", \"x: 322<br>y: 130\", \"x: 303<br>y: 115\", \"x: 250<br>y: 135\", \"x: 188<br>y: 120\", \"x: 220<br>y: 120\", \"x: 204<br>y: 112\", \"x: 199<br>y: 172\", \"x: 215<br>y: 120\", \"x: 218<br>y: 126\", \"x: 228<br>y: 178\", \"x: 196<br>y: 136\", \"x: 266<br>y: 124\", \"x: 282<br>y: 145\", \"x: 254<br>y: 130\", \"x: 197<br>y: 130\", \"x: 188<br>y: 120\", \"x: 229<br>y: 110\", \"x: 259<br>y: 128\", \"x: 256<br>y: 130\", \"x: 149<br>y: 118\", \"x: 268<br>y: 112\", \"x: 177<br>y: 140\", \"x: 168<br>y: 150\", \"x: 262<br>y: 130\", \"x: 271<br>y: 134\", \"x: 299<br>y: 100\", \"x: 304<br>y: 135\", \"x: 293<br>y: 140\", \"x: 141<br>y: 108\", \"x: 277<br>y: 118\", \"x: 212<br>y: 145\", \"x: 234<br>y: 160\", \"x: 269<br>y: 155\", \"x: 283<br>y: 150\", \"x: 321<br>y: 140\", \"x: 294<br>y: 140\", \"x: 239<br>y: 110\", \"x: 308<br>y: 140\", \"x: 313<br>y: 140\", \"x: 303<br>y: 130\", \"x: 232<br>y: 150\", \"x: 289<br>y: 160\", \"x: 213<br>y: 125\", \"x: 274<br>y: 124\", \"x: 263<br>y: 128\", \"x: 244<br>y: 120\", \"x: 298<br>y: 140\", \"x: 274<br>y: 180\", \"x: 250<br>y: 112\", \"x: 211<br>y: 140\", \"x: 203<br>y: 135\", \"x: 172<br>y: 110\", \"x: 353<br>y: 132\", \"x: 294<br>y: 138\", \"x: 282<br>y: 138\", \"x: 210<br>y: 118\", \"x: 192<br>y: 140\", \"x: 246<br>y: 130\", \"x: 286<br>y: 160\", \"x: 360<br>y: 160\", \"x: 265<br>y: 102\", \"x: 258<br>y: 120\", \"x: 174<br>y: 145\", \"x: 246<br>y: 120\", \"x: 227<br>y: 94\", \"x: 248<br>y: 100\", \"x: 204<br>y: 130\", \"x: 224<br>y: 132\", \"x: 300<br>y: 125\", \"x: 177<br>y: 120\", \"x: 256<br>y: 130\", \"x: 244<br>y: 150\", \"x: 235<br>y: 140\", \"x: 219<br>y: 130\", \"x: 217<br>y: 140\", \"x: 193<br>y: 120\", \"x: 263<br>y: 120\", \"x: 167<br>y: 110\", \"x: 216<br>y: 128\", \"x: 195<br>y: 140\", \"x: 199<br>y: 140\", \"x: 234<br>y: 134\", \"x: 243<br>y: 108\", \"x: 229<br>y: 128\", \"x: 309<br>y: 108\", \"x: 273<br>y: 125\", \"x: 198<br>y: 120\", \"x: 290<br>y: 112\", \"x: 263<br>y: 130\", \"x: 273<br>y: 160\", \"x: 239<br>y: 140\", \"x: 275<br>y: 130\", \"x: 226<br>y: 120\", \"x: 206<br>y: 130\", \"x: 266<br>y: 130\", \"x: 230<br>y: 117\", \"x: 164<br>y: 160\", \"x: 309<br>y: 142\", \"x: 226<br>y: 142\", \"x: 277<br>y: 152\", \"x: 207<br>y: 132\", \"x: 249<br>y: 120\", \"x: 233<br>y: 145\", \"x: 211<br>y: 110\", \"x: 270<br>y: 150\", \"x: 212<br>y: 112\", \"x: 219<br>y: 118\", \"x: 299<br>y: 140\", \"x: 239<br>y: 140\", \"x: 254<br>y: 125\", \"x: 327<br>y: 180\", \"x: 309<br>y: 125\", \"x: 255<br>y: 124\", \"x: 201<br>y: 160\"], \"marker\": {\"colorbar\": {\"title\": \"Labels\"}, \"color\": [-1, 0, -1, 1, -1, -1, -1, 2, -1, 3, -1, 4, -1, 5, -1, -1, 6, 7, 8, -1, -1, -1, -1, -1, -1, 9, 10, 8, -1, 11, 12, 1, -1, 13, 14, 3, -1, -1, 15, 7, 16, 17, 18, -1, 18, -1, -1, -1, -1, -1, 19, -1, 20, 7, 20, 6, 21, 15, -1, -1, -1, 10, -1, -1, -1, -1, -1, -1, 17, 22, 3, -1, -1, -1, 12, -1, -1, -1, -1, 7, -1, 22, 14, -1, 7, -1, -1, -1, -1, 23, -1, -1, -1, 24, -1, -1, -1, -1, -1, -1, -1, 24, 21, 19, 19, 10, -1, 25, -1, 26, 23, 27, 28, -1, -1, -1, -1, 11, -1, 24, -1, 9, 29, -1, 25, -1, -1, -1, -1, 27, -1, -1, 8, -1, -1, -1, 7, 16, 5, -1, -1, -1, -1, -1, 12, 29, -1, -1, -1, -1, -1, 26, -1, -1, 23, -1, 30, -1, -1, 8, 23, -1, -1, 19, 4, 2, 8, 27, -1, 0, -1, 0, 3, 28, 30, 31, 13, -1, 31, -1], \"colorscale\": \"YlOrRd\"}, \"name\": \"data\", \"hoverinfo\": \"text\", \"type\": \"scatter\"}], {\"yaxis\": {\"title\": \"resting_blood_pressure\"}, \"xaxis\": {\"title\": \"serum_cholesterol_mg_per_dl\"}}, {\"linkText\": \"Export to plot.ly\", \"showLink\": {\"yaxis\": {\"title\": \"resting_blood_pressure\"}, \"xaxis\": {\"title\": \"serum_cholesterol_mg_per_dl\"}}})});</script>"
      ],
      "text/vnd.plotly.v1+html": [
       "<div id=\"216e1a94-4ef0-41a8-adb9-576b468384cc\" style=\"height: 525px; width: 100%;\" class=\"plotly-graph-div\"></div><script type=\"text/javascript\">require([\"plotly\"], function(Plotly) { window.PLOTLYENV=window.PLOTLYENV || {};window.PLOTLYENV.BASE_URL=\"https://plot.ly\";Plotly.newPlot(\"216e1a94-4ef0-41a8-adb9-576b468384cc\", [{\"x\": [308, 214, 304, 223, 270, 180, 258, 276, 326, 219, 302, 226, 335, 236, 231, 200, 234, 253, 204, 319, 302, 233, 223, 228, 245, 211, 303, 205, 185, 175, 214, 225, 203, 325, 230, 222, 126, 209, 269, 255, 243, 252, 265, 417, 267, 261, 245, 149, 281, 204, 311, 315, 330, 256, 330, 233, 239, 267, 295, 197, 564, 305, 283, 160, 254, 282, 322, 303, 250, 188, 220, 204, 199, 215, 218, 228, 196, 266, 282, 254, 197, 188, 229, 259, 256, 149, 268, 177, 168, 262, 271, 299, 304, 293, 141, 277, 212, 234, 269, 283, 321, 294, 239, 308, 313, 303, 232, 289, 213, 274, 263, 244, 298, 274, 250, 211, 203, 172, 353, 294, 282, 210, 192, 246, 286, 360, 265, 258, 174, 246, 227, 248, 204, 224, 300, 177, 256, 244, 235, 219, 217, 193, 263, 167, 216, 195, 199, 234, 243, 229, 309, 273, 198, 290, 263, 273, 239, 275, 226, 206, 266, 230, 164, 309, 226, 277, 207, 249, 233, 211, 270, 212, 219, 299, 239, 254, 327, 309, 255, 201], \"mode\": \"markers\", \"y\": [128, 110, 125, 152, 178, 130, 150, 150, 170, 120, 120, 140, 140, 138, 120, 144, 130, 130, 130, 136, 160, 108, 106, 160, 156, 120, 128, 128, 140, 110, 130, 150, 140, 180, 112, 122, 150, 124, 120, 128, 150, 135, 110, 140, 108, 124, 125, 112, 120, 105, 140, 130, 130, 130, 130, 130, 110, 120, 120, 110, 115, 130, 130, 112, 110, 126, 130, 115, 135, 120, 120, 112, 172, 120, 126, 178, 136, 124, 145, 130, 130, 120, 110, 128, 130, 118, 112, 140, 150, 130, 134, 100, 135, 140, 108, 118, 145, 160, 155, 150, 140, 140, 110, 140, 140, 130, 150, 160, 125, 124, 128, 120, 140, 180, 112, 140, 135, 110, 132, 138, 138, 118, 140, 130, 160, 160, 102, 120, 145, 120, 94, 100, 130, 132, 125, 120, 130, 150, 140, 130, 140, 120, 120, 110, 128, 140, 140, 134, 108, 128, 108, 125, 120, 112, 130, 160, 140, 130, 120, 130, 130, 117, 160, 142, 142, 152, 132, 120, 145, 110, 150, 112, 118, 140, 140, 125, 180, 125, 124, 160], \"text\": [\"x: 308<br>y: 128\", \"x: 214<br>y: 110\", \"x: 304<br>y: 125\", \"x: 223<br>y: 152\", \"x: 270<br>y: 178\", \"x: 180<br>y: 130\", \"x: 258<br>y: 150\", \"x: 276<br>y: 150\", \"x: 326<br>y: 170\", \"x: 219<br>y: 120\", \"x: 302<br>y: 120\", \"x: 226<br>y: 140\", \"x: 335<br>y: 140\", \"x: 236<br>y: 138\", \"x: 231<br>y: 120\", \"x: 200<br>y: 144\", \"x: 234<br>y: 130\", \"x: 253<br>y: 130\", \"x: 204<br>y: 130\", \"x: 319<br>y: 136\", \"x: 302<br>y: 160\", \"x: 233<br>y: 108\", \"x: 223<br>y: 106\", \"x: 228<br>y: 160\", \"x: 245<br>y: 156\", \"x: 211<br>y: 120\", \"x: 303<br>y: 128\", \"x: 205<br>y: 128\", \"x: 185<br>y: 140\", \"x: 175<br>y: 110\", \"x: 214<br>y: 130\", \"x: 225<br>y: 150\", \"x: 203<br>y: 140\", \"x: 325<br>y: 180\", \"x: 230<br>y: 112\", \"x: 222<br>y: 122\", \"x: 126<br>y: 150\", \"x: 209<br>y: 124\", \"x: 269<br>y: 120\", \"x: 255<br>y: 128\", \"x: 243<br>y: 150\", \"x: 252<br>y: 135\", \"x: 265<br>y: 110\", \"x: 417<br>y: 140\", \"x: 267<br>y: 108\", \"x: 261<br>y: 124\", \"x: 245<br>y: 125\", \"x: 149<br>y: 112\", \"x: 281<br>y: 120\", \"x: 204<br>y: 105\", \"x: 311<br>y: 140\", \"x: 315<br>y: 130\", \"x: 330<br>y: 130\", \"x: 256<br>y: 130\", \"x: 330<br>y: 130\", \"x: 233<br>y: 130\", \"x: 239<br>y: 110\", \"x: 267<br>y: 120\", \"x: 295<br>y: 120\", \"x: 197<br>y: 110\", \"x: 564<br>y: 115\", \"x: 305<br>y: 130\", \"x: 283<br>y: 130\", \"x: 160<br>y: 112\", \"x: 254<br>y: 110\", \"x: 282<br>y: 126\", \"x: 322<br>y: 130\", \"x: 303<br>y: 115\", \"x: 250<br>y: 135\", \"x: 188<br>y: 120\", \"x: 220<br>y: 120\", \"x: 204<br>y: 112\", \"x: 199<br>y: 172\", \"x: 215<br>y: 120\", \"x: 218<br>y: 126\", \"x: 228<br>y: 178\", \"x: 196<br>y: 136\", \"x: 266<br>y: 124\", \"x: 282<br>y: 145\", \"x: 254<br>y: 130\", \"x: 197<br>y: 130\", \"x: 188<br>y: 120\", \"x: 229<br>y: 110\", \"x: 259<br>y: 128\", \"x: 256<br>y: 130\", \"x: 149<br>y: 118\", \"x: 268<br>y: 112\", \"x: 177<br>y: 140\", \"x: 168<br>y: 150\", \"x: 262<br>y: 130\", \"x: 271<br>y: 134\", \"x: 299<br>y: 100\", \"x: 304<br>y: 135\", \"x: 293<br>y: 140\", \"x: 141<br>y: 108\", \"x: 277<br>y: 118\", \"x: 212<br>y: 145\", \"x: 234<br>y: 160\", \"x: 269<br>y: 155\", \"x: 283<br>y: 150\", \"x: 321<br>y: 140\", \"x: 294<br>y: 140\", \"x: 239<br>y: 110\", \"x: 308<br>y: 140\", \"x: 313<br>y: 140\", \"x: 303<br>y: 130\", \"x: 232<br>y: 150\", \"x: 289<br>y: 160\", \"x: 213<br>y: 125\", \"x: 274<br>y: 124\", \"x: 263<br>y: 128\", \"x: 244<br>y: 120\", \"x: 298<br>y: 140\", \"x: 274<br>y: 180\", \"x: 250<br>y: 112\", \"x: 211<br>y: 140\", \"x: 203<br>y: 135\", \"x: 172<br>y: 110\", \"x: 353<br>y: 132\", \"x: 294<br>y: 138\", \"x: 282<br>y: 138\", \"x: 210<br>y: 118\", \"x: 192<br>y: 140\", \"x: 246<br>y: 130\", \"x: 286<br>y: 160\", \"x: 360<br>y: 160\", \"x: 265<br>y: 102\", \"x: 258<br>y: 120\", \"x: 174<br>y: 145\", \"x: 246<br>y: 120\", \"x: 227<br>y: 94\", \"x: 248<br>y: 100\", \"x: 204<br>y: 130\", \"x: 224<br>y: 132\", \"x: 300<br>y: 125\", \"x: 177<br>y: 120\", \"x: 256<br>y: 130\", \"x: 244<br>y: 150\", \"x: 235<br>y: 140\", \"x: 219<br>y: 130\", \"x: 217<br>y: 140\", \"x: 193<br>y: 120\", \"x: 263<br>y: 120\", \"x: 167<br>y: 110\", \"x: 216<br>y: 128\", \"x: 195<br>y: 140\", \"x: 199<br>y: 140\", \"x: 234<br>y: 134\", \"x: 243<br>y: 108\", \"x: 229<br>y: 128\", \"x: 309<br>y: 108\", \"x: 273<br>y: 125\", \"x: 198<br>y: 120\", \"x: 290<br>y: 112\", \"x: 263<br>y: 130\", \"x: 273<br>y: 160\", \"x: 239<br>y: 140\", \"x: 275<br>y: 130\", \"x: 226<br>y: 120\", \"x: 206<br>y: 130\", \"x: 266<br>y: 130\", \"x: 230<br>y: 117\", \"x: 164<br>y: 160\", \"x: 309<br>y: 142\", \"x: 226<br>y: 142\", \"x: 277<br>y: 152\", \"x: 207<br>y: 132\", \"x: 249<br>y: 120\", \"x: 233<br>y: 145\", \"x: 211<br>y: 110\", \"x: 270<br>y: 150\", \"x: 212<br>y: 112\", \"x: 219<br>y: 118\", \"x: 299<br>y: 140\", \"x: 239<br>y: 140\", \"x: 254<br>y: 125\", \"x: 327<br>y: 180\", \"x: 309<br>y: 125\", \"x: 255<br>y: 124\", \"x: 201<br>y: 160\"], \"marker\": {\"colorbar\": {\"title\": \"Labels\"}, \"color\": [-1, 0, -1, 1, -1, -1, -1, 2, -1, 3, -1, 4, -1, 5, -1, -1, 6, 7, 8, -1, -1, -1, -1, -1, -1, 9, 10, 8, -1, 11, 12, 1, -1, 13, 14, 3, -1, -1, 15, 7, 16, 17, 18, -1, 18, -1, -1, -1, -1, -1, 19, -1, 20, 7, 20, 6, 21, 15, -1, -1, -1, 10, -1, -1, -1, -1, -1, -1, 17, 22, 3, -1, -1, -1, 12, -1, -1, -1, -1, 7, -1, 22, 14, -1, 7, -1, -1, -1, -1, 23, -1, -1, -1, 24, -1, -1, -1, -1, -1, -1, -1, 24, 21, 19, 19, 10, -1, 25, -1, 26, 23, 27, 28, -1, -1, -1, -1, 11, -1, 24, -1, 9, 29, -1, 25, -1, -1, -1, -1, 27, -1, -1, 8, -1, -1, -1, 7, 16, 5, -1, -1, -1, -1, -1, 12, 29, -1, -1, -1, -1, -1, 26, -1, -1, 23, -1, 30, -1, -1, 8, 23, -1, -1, 19, 4, 2, 8, 27, -1, 0, -1, 0, 3, 28, 30, 31, 13, -1, 31, -1], \"colorscale\": \"YlOrRd\"}, \"name\": \"data\", \"hoverinfo\": \"text\", \"type\": \"scatter\"}], {\"yaxis\": {\"title\": \"resting_blood_pressure\"}, \"xaxis\": {\"title\": \"serum_cholesterol_mg_per_dl\"}}, {\"linkText\": \"Export to plot.ly\", \"showLink\": {\"yaxis\": {\"title\": \"resting_blood_pressure\"}, \"xaxis\": {\"title\": \"serum_cholesterol_mg_per_dl\"}}})});</script>"
      ]
     },
     "metadata": {},
     "output_type": "display_data"
    }
   ],
   "source": [
    "x = cluster_arr[:, 0]\n",
    "y = cluster_arr[:, 1]\n",
    "\n",
    "# col = ['#F33' if i == 1 else '#33F' for i in y_pred]\n",
    "\n",
    "trace = [go.Scatter(\n",
    "    x = x,\n",
    "    y = y,\n",
    "    marker = dict(\n",
    "        # color = col,\n",
    "        color = y_pred,\n",
    "        colorscale='YlOrRd',\n",
    "        colorbar=dict(\n",
    "            title='Labels'\n",
    "        ),\n",
    "    ),\n",
    "    name = 'data',\n",
    "    mode = 'markers',\n",
    "    hoverinfo = 'text',\n",
    "    text = ['x: %s<br>y: %s' % (x_i, y_i) for x_i, y_i in zip(x, y)]\n",
    ")]\n",
    "\n",
    "layout = go.Layout(\n",
    "    xaxis = dict({'title': xlab}),\n",
    "    yaxis = dict({'title': ylab})\n",
    ")\n",
    "\n",
    "fig = go.Figure(data=trace, layout=layout)\n",
    "iplot(fig, layout)"
   ]
  },
  {
   "cell_type": "code",
   "execution_count": 66,
   "metadata": {
    "slideshow": {
     "slide_type": "skip"
    }
   },
   "outputs": [
    {
     "name": "stdout",
     "output_type": "stream",
     "text": [
      "[KMeans(algorithm='auto', copy_x=True, init='k-means++', max_iter=300,\n",
      "    n_clusters=2, n_init=10, n_jobs=1, precompute_distances='auto',\n",
      "    random_state=None, tol=0.0001, verbose=0)]\n",
      "[-262575.0744047605]\n",
      "[262575.0744047619]\n",
      "[262575.0744047619, 81100.12702968283, 57975.37985665155, 27262.66869955197, 15665.637483075843, 12691.7579821244, 12641.931973544371, 7095.630279691366, 5617.9081140419075]\n"
     ]
    }
   ],
   "source": [
    "Ks = range(2, 11)\n",
    "km = [KMeans(n_clusters=i) for i in Ks] # , verbose=True\n",
    "# score   = [km[i].fit(cluster_arr).score(cluster_arr) for i in range(len(km))]\n",
    "\n",
    "fitted = [km[i].fit(cluster_arr) for i in range(len(km))]\n",
    "score  = [fitted[i].score(cluster_arr) for i in range(len(km))]\n",
    "inertia  = [fitted[i].inertia_ for i in range(len(km))]\n",
    "\n",
    "relative_diff = [inertia[0]]\n",
    "relative_diff.extend([inertia[i-1] - inertia[i] for i in range(1, len(inertia))])\n",
    "\n",
    "print(fitted[:1])\n",
    "print(score[:1])\n",
    "print(inertia[:1])\n",
    "print(relative_diff)"
   ]
  },
  {
   "cell_type": "code",
   "execution_count": 37,
   "metadata": {},
   "outputs": [
    {
     "data": {
      "text/plain": [
       "KMeans(algorithm='auto', copy_x=True, init='k-means++', max_iter=300,\n",
       "    n_clusters=1, n_init=10, n_jobs=1, precompute_distances='auto',\n",
       "    random_state=None, tol=0.0001, verbose=0)"
      ]
     },
     "execution_count": 37,
     "metadata": {},
     "output_type": "execute_result"
    }
   ],
   "source": [
    "fitted[0]"
   ]
  },
  {
   "cell_type": "code",
   "execution_count": 44,
   "metadata": {},
   "outputs": [
    {
     "data": {
      "text/plain": [
       "['__class__', '__delattr__', '__dict__', '__dir__', '__doc__']"
      ]
     },
     "execution_count": 44,
     "metadata": {},
     "output_type": "execute_result"
    }
   ],
   "source": [
    "dir(fitted[0])[:5]"
   ]
  },
  {
   "cell_type": "code",
   "execution_count": 65,
   "metadata": {
    "slideshow": {
     "slide_type": "skip"
    }
   },
   "outputs": [
    {
     "data": {
      "application/vnd.plotly.v1+json": {
       "data": [
        {
         "text": [
          "Diff is: 262575.0744047619",
          "Diff is: 81100.12702968283",
          "Diff is: 59553.870877059715",
          "Diff is: 25677.731015723868",
          "Diff is: 15553.986083799246",
          "Diff is: 12630.893218842553",
          "Diff is: 12447.081450589641",
          "Diff is: 8008.061319383705",
          "Diff is: 5101.8431872247165"
         ],
         "type": "bar",
         "x": [
          2,
          3,
          4,
          5,
          6,
          7,
          8,
          9,
          10
         ],
         "y": [
          262575.0744047619,
          181474.94737507906,
          121921.07649801935,
          96243.34548229548,
          80689.35939849624,
          68058.46617965368,
          55611.38472906404,
          47603.323409680335,
          42501.48022245562
         ]
        },
        {
         "type": "scatter",
         "x": [
          2,
          3,
          4,
          5,
          6,
          7,
          8,
          9,
          10
         ],
         "y": [
          262575.0744047619,
          181474.94737507906,
          121921.07649801935,
          96243.34548229548,
          80689.35939849624,
          68058.46617965368,
          55611.38472906404,
          47603.323409680335,
          42501.48022245562
         ]
        }
       ],
       "layout": {
        "xaxis": {
         "title": "No of Clusters [2-10]"
        },
        "yaxis": {
         "title": "Sklearn score / inertia"
        }
       }
      },
      "text/html": [
       "<div id=\"60063a22-048d-414b-8dd2-b0b29bac102e\" style=\"height: 525px; width: 100%;\" class=\"plotly-graph-div\"></div><script type=\"text/javascript\">require([\"plotly\"], function(Plotly) { window.PLOTLYENV=window.PLOTLYENV || {};window.PLOTLYENV.BASE_URL=\"https://plot.ly\";Plotly.newPlot(\"60063a22-048d-414b-8dd2-b0b29bac102e\", [{\"text\": [\"Diff is: 262575.0744047619\", \"Diff is: 81100.12702968283\", \"Diff is: 59553.870877059715\", \"Diff is: 25677.731015723868\", \"Diff is: 15553.986083799246\", \"Diff is: 12630.893218842553\", \"Diff is: 12447.081450589641\", \"Diff is: 8008.061319383705\", \"Diff is: 5101.8431872247165\"], \"x\": [2, 3, 4, 5, 6, 7, 8, 9, 10], \"type\": \"bar\", \"y\": [262575.0744047619, 181474.94737507906, 121921.07649801935, 96243.34548229548, 80689.35939849624, 68058.46617965368, 55611.38472906404, 47603.323409680335, 42501.48022245562]}, {\"x\": [2, 3, 4, 5, 6, 7, 8, 9, 10], \"type\": \"scatter\", \"y\": [262575.0744047619, 181474.94737507906, 121921.07649801935, 96243.34548229548, 80689.35939849624, 68058.46617965368, 55611.38472906404, 47603.323409680335, 42501.48022245562]}], {\"yaxis\": {\"title\": \"Sklearn score / inertia\"}, \"xaxis\": {\"title\": \"No of Clusters [2-10]\"}}, {\"linkText\": \"Export to plot.ly\", \"showLink\": true})});</script>"
      ],
      "text/vnd.plotly.v1+html": [
       "<div id=\"60063a22-048d-414b-8dd2-b0b29bac102e\" style=\"height: 525px; width: 100%;\" class=\"plotly-graph-div\"></div><script type=\"text/javascript\">require([\"plotly\"], function(Plotly) { window.PLOTLYENV=window.PLOTLYENV || {};window.PLOTLYENV.BASE_URL=\"https://plot.ly\";Plotly.newPlot(\"60063a22-048d-414b-8dd2-b0b29bac102e\", [{\"text\": [\"Diff is: 262575.0744047619\", \"Diff is: 81100.12702968283\", \"Diff is: 59553.870877059715\", \"Diff is: 25677.731015723868\", \"Diff is: 15553.986083799246\", \"Diff is: 12630.893218842553\", \"Diff is: 12447.081450589641\", \"Diff is: 8008.061319383705\", \"Diff is: 5101.8431872247165\"], \"x\": [2, 3, 4, 5, 6, 7, 8, 9, 10], \"type\": \"bar\", \"y\": [262575.0744047619, 181474.94737507906, 121921.07649801935, 96243.34548229548, 80689.35939849624, 68058.46617965368, 55611.38472906404, 47603.323409680335, 42501.48022245562]}, {\"x\": [2, 3, 4, 5, 6, 7, 8, 9, 10], \"type\": \"scatter\", \"y\": [262575.0744047619, 181474.94737507906, 121921.07649801935, 96243.34548229548, 80689.35939849624, 68058.46617965368, 55611.38472906404, 47603.323409680335, 42501.48022245562]}], {\"yaxis\": {\"title\": \"Sklearn score / inertia\"}, \"xaxis\": {\"title\": \"No of Clusters [2-10]\"}}, {\"linkText\": \"Export to plot.ly\", \"showLink\": true})});</script>"
      ]
     },
     "metadata": {},
     "output_type": "display_data"
    }
   ],
   "source": [
    "data = [\n",
    "#     go.Bar(\n",
    "#         x = list(Ks),\n",
    "#         y = score\n",
    "#     ),\n",
    "    go.Bar(\n",
    "        x = list(Ks),\n",
    "        y = inertia,\n",
    "        text = ['Diff is: %s' % diff for diff in relative_diff]\n",
    "    ),\n",
    "    go.Scatter(\n",
    "        x = list(Ks),\n",
    "        y = inertia\n",
    "    ),\n",
    "]\n",
    "\n",
    "\n",
    "layout = go.Layout(\n",
    "    xaxis = dict(\n",
    "        title = 'No of Clusters [%s-%s]' % (min(Ks), max(Ks))\n",
    "    ),\n",
    "    yaxis = dict(\n",
    "        title = 'Sklearn score / inertia'\n",
    "    ),\n",
    "    # barmode='stack'\n",
    ")\n",
    "\n",
    "fig = go.Figure(data=data, layout=layout)\n",
    "iplot(fig)"
   ]
  },
  {
   "cell_type": "code",
   "execution_count": 68,
   "metadata": {
    "slideshow": {
     "slide_type": "skip"
    }
   },
   "outputs": [
    {
     "data": {
      "application/vnd.plotly.v1+json": {
       "data": [
        {
         "type": "bar",
         "x": [
          2,
          3,
          4,
          5,
          6,
          7,
          8,
          9,
          10
         ],
         "y": [
          262575.0744047619,
          81100.12702968283,
          57975.37985665155,
          27262.66869955197,
          15665.637483075843,
          12691.7579821244,
          12641.931973544371,
          7095.630279691366,
          5617.9081140419075
         ]
        },
        {
         "type": "scatter",
         "x": [
          2,
          3,
          4,
          5,
          6,
          7,
          8,
          9,
          10
         ],
         "y": [
          262575.0744047619,
          81100.12702968283,
          57975.37985665155,
          27262.66869955197,
          15665.637483075843,
          12691.7579821244,
          12641.931973544371,
          7095.630279691366,
          5617.9081140419075
         ]
        }
       ],
       "layout": {
        "xaxis": {
         "title": "No of Clusters [2-10]"
        },
        "yaxis": {
         "title": "Pairwise difference"
        }
       }
      },
      "text/html": [
       "<div id=\"e5b2d320-1451-4d7f-9c14-a4011c154640\" style=\"height: 525px; width: 100%;\" class=\"plotly-graph-div\"></div><script type=\"text/javascript\">require([\"plotly\"], function(Plotly) { window.PLOTLYENV=window.PLOTLYENV || {};window.PLOTLYENV.BASE_URL=\"https://plot.ly\";Plotly.newPlot(\"e5b2d320-1451-4d7f-9c14-a4011c154640\", [{\"x\": [2, 3, 4, 5, 6, 7, 8, 9, 10], \"type\": \"bar\", \"y\": [262575.0744047619, 81100.12702968283, 57975.37985665155, 27262.66869955197, 15665.637483075843, 12691.7579821244, 12641.931973544371, 7095.630279691366, 5617.9081140419075]}, {\"x\": [2, 3, 4, 5, 6, 7, 8, 9, 10], \"type\": \"scatter\", \"y\": [262575.0744047619, 81100.12702968283, 57975.37985665155, 27262.66869955197, 15665.637483075843, 12691.7579821244, 12641.931973544371, 7095.630279691366, 5617.9081140419075]}], {\"yaxis\": {\"title\": \"Pairwise difference\"}, \"xaxis\": {\"title\": \"No of Clusters [2-10]\"}}, {\"linkText\": \"Export to plot.ly\", \"showLink\": true})});</script>"
      ],
      "text/vnd.plotly.v1+html": [
       "<div id=\"e5b2d320-1451-4d7f-9c14-a4011c154640\" style=\"height: 525px; width: 100%;\" class=\"plotly-graph-div\"></div><script type=\"text/javascript\">require([\"plotly\"], function(Plotly) { window.PLOTLYENV=window.PLOTLYENV || {};window.PLOTLYENV.BASE_URL=\"https://plot.ly\";Plotly.newPlot(\"e5b2d320-1451-4d7f-9c14-a4011c154640\", [{\"x\": [2, 3, 4, 5, 6, 7, 8, 9, 10], \"type\": \"bar\", \"y\": [262575.0744047619, 81100.12702968283, 57975.37985665155, 27262.66869955197, 15665.637483075843, 12691.7579821244, 12641.931973544371, 7095.630279691366, 5617.9081140419075]}, {\"x\": [2, 3, 4, 5, 6, 7, 8, 9, 10], \"type\": \"scatter\", \"y\": [262575.0744047619, 81100.12702968283, 57975.37985665155, 27262.66869955197, 15665.637483075843, 12691.7579821244, 12641.931973544371, 7095.630279691366, 5617.9081140419075]}], {\"yaxis\": {\"title\": \"Pairwise difference\"}, \"xaxis\": {\"title\": \"No of Clusters [2-10]\"}}, {\"linkText\": \"Export to plot.ly\", \"showLink\": true})});</script>"
      ]
     },
     "metadata": {},
     "output_type": "display_data"
    }
   ],
   "source": [
    "data = [\n",
    "    go.Bar(\n",
    "        x = list(Ks),\n",
    "        y = relative_diff\n",
    "    ),\n",
    "    go.Scatter(\n",
    "        x = list(Ks),\n",
    "        y = relative_diff\n",
    "    ),\n",
    "]\n",
    "\n",
    "\n",
    "layout = go.Layout(\n",
    "    xaxis = dict(\n",
    "        title = 'No of Clusters [%s-%s]' % (min(Ks), max(Ks))\n",
    "    ),\n",
    "    yaxis = dict(\n",
    "        title = 'Pairwise difference'\n",
    "    ),\n",
    "    # barmode='stack'\n",
    ")\n",
    "\n",
    "fig = go.Figure(data=data, layout=layout)\n",
    "iplot(fig)"
   ]
  },
  {
   "cell_type": "code",
   "execution_count": null,
   "metadata": {
    "slideshow": {
     "slide_type": "skip"
    }
   },
   "outputs": [],
   "source": []
  },
  {
   "cell_type": "code",
   "execution_count": null,
   "metadata": {
    "slideshow": {
     "slide_type": "skip"
    }
   },
   "outputs": [],
   "source": []
  },
  {
   "cell_type": "code",
   "execution_count": null,
   "metadata": {
    "slideshow": {
     "slide_type": "skip"
    }
   },
   "outputs": [],
   "source": []
  },
  {
   "cell_type": "code",
   "execution_count": 16,
   "metadata": {
    "slideshow": {
     "slide_type": "skip"
    }
   },
   "outputs": [
    {
     "data": {
      "text/plain": [
       "'Time elapsed: 0:00:06.224316'"
      ]
     },
     "execution_count": 16,
     "metadata": {},
     "output_type": "execute_result"
    }
   ],
   "source": [
    "nb_end = dt.now()\n",
    "\n",
    "'Time elapsed: %s' % (nb_end - nb_start)"
   ]
  },
  {
   "cell_type": "markdown",
   "metadata": {
    "slideshow": {
     "slide_type": "skip"
    }
   },
   "source": [
    "---"
   ]
  },
  {
   "cell_type": "markdown",
   "metadata": {
    "slideshow": {
     "slide_type": "skip"
    }
   },
   "source": [
    "# Bibliography"
   ]
  },
  {
   "cell_type": "code",
   "execution_count": null,
   "metadata": {
    "slideshow": {
     "slide_type": "skip"
    }
   },
   "outputs": [],
   "source": []
  },
  {
   "cell_type": "code",
   "execution_count": null,
   "metadata": {
    "slideshow": {
     "slide_type": "skip"
    }
   },
   "outputs": [],
   "source": []
  },
  {
   "cell_type": "markdown",
   "metadata": {
    "slideshow": {
     "slide_type": "skip"
    }
   },
   "source": []
  }
 ],
 "metadata": {
  "celltoolbar": "Slideshow",
  "hide_input": false,
  "kernelspec": {
   "display_name": "Python 3",
   "language": "python",
   "name": "python3"
  },
  "language_info": {
   "codemirror_mode": {
    "name": "ipython",
    "version": 3
   },
   "file_extension": ".py",
   "mimetype": "text/x-python",
   "name": "python",
   "nbconvert_exporter": "python",
   "pygments_lexer": "ipython3",
   "version": "3.5.2"
  },
  "toc": {
   "base_numbering": 1,
   "nav_menu": {},
   "number_sections": true,
   "sideBar": true,
   "skip_h1_title": false,
   "title_cell": "Table of Contents",
   "title_sidebar": "Contents",
   "toc_cell": false,
   "toc_position": {
    "height": "calc(100% - 180px)",
    "left": "10px",
    "top": "150px",
    "width": "247px"
   },
   "toc_section_display": true,
   "toc_window_display": true
  },
  "varInspector": {
   "cols": {
    "lenName": 16,
    "lenType": 16,
    "lenVar": 40
   },
   "kernels_config": {
    "python": {
     "delete_cmd_postfix": "",
     "delete_cmd_prefix": "del ",
     "library": "var_list.py",
     "varRefreshCmd": "print(var_dic_list())"
    },
    "r": {
     "delete_cmd_postfix": ") ",
     "delete_cmd_prefix": "rm(",
     "library": "var_list.r",
     "varRefreshCmd": "cat(var_dic_list()) "
    }
   },
   "types_to_exclude": [
    "module",
    "function",
    "builtin_function_or_method",
    "instance",
    "_Feature"
   ],
   "window_display": false
  }
 },
 "nbformat": 4,
 "nbformat_minor": 2
}
