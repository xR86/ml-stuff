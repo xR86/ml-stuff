{
 "cells": [
  {
   "cell_type": "markdown",
   "metadata": {},
   "source": [
    "# Exam <a class=\"tocSkip\">"
   ]
  },
  {
   "cell_type": "markdown",
   "metadata": {},
   "source": [
    "# Subject 1"
   ]
  },
  {
   "cell_type": "markdown",
   "metadata": {},
   "source": [
    "### 10p | 1. Care este avantajul utilizarii fct softmax pe ultimul strat al RN fata de utilizarea functiei sigmoid (logistic) ? In ce situatie acest avantaj se pierde ?"
   ]
  },
  {
   "cell_type": "markdown",
   "metadata": {},
   "source": [
    "$$\\begin{align}softmax(L_n) = \\frac{e^{L_n}}{||e^L||} \\quad vs \\quad  & sigmoid(z) = \\frac{1}{1 + e^{-z}} \\\\ \n",
    "& z = \\sum_{i}{}{w_i x_i + b} \\end{align} $$\n",
    "\n",
    "```\n",
    "`` Softmax is kind of Multi Class Sigmoid, but if you see the function of Softmax, the sum of all softmax units are supposed to be 1. In sigmoid it’s not really necessary.\n",
    "\n",
    "As told earlier, in the case of softmax, increasing the output value of one class makes the the others go down (sigma=1). So, sigmoids can probably be preferred over softmax when your outputs are independent of one another. To put it more simple, if there are multiple classes and each input can belong to exactly one class, then it absolutely makes sense to use softmax, in the other cases, sigmoid seems better.\n",
    "\n",
    "```\n",
    "source: https://www.quora.com/Why-is-it-better-to-use-Softmax-function-than-sigmoid-function\n",
    "\n",
    "```\n",
    "Sigmoid - It squashes all values between 0 and 1 and when you do so repeatedly, neuron outputs and their gradients can vanish entirely\n",
    "```\n",
    "source: https://codelabs.developers.google.com/codelabs/cloud-tensorflow-mnist/#7\n",
    "\n",
    "**Softmax** takes a 2-step approach to the activation:\n",
    "+ **max** - takes the largest element, that will approach 1\n",
    "+ **soft** - the other elements will be divided by large numbers, so will be normalized (usually, euclidean norm) to 0 => the \"soft\" part maintains relative order\n",
    "\n",
    "source: https://codelabs.developers.google.com/codelabs/cloud-tensorflow-mnist/#3"
   ]
  },
  {
   "cell_type": "markdown",
   "metadata": {},
   "source": [
    "### 10p | 2. Regularizarea L1 si L2 (weight decay) au un efect diferit asupra ponderilor (weight-urilor) din retea. Explicati ce efect are L1 si ce efect are L2."
   ]
  },
  {
   "cell_type": "markdown",
   "metadata": {},
   "source": [
    "```\n",
    " L1 penalties are great for recovering sparse data, as they are computationally tractable but still capable of recovering the exact sparse solution. \n",
    " \n",
    " L2 penalization is preferable for data that is not at all sparse.\n",
    "```\n",
    "source: https://www.quora.com/What-is-the-difference-between-L1-and-L2-regularization"
   ]
  },
  {
   "cell_type": "markdown",
   "metadata": {},
   "source": [
    "### 10p | 3. Algoritmul Adagrad reprezinta o imbunatatire al algoritmului SGD. Explicati in ce consta acest avantaj si explicati si dezavantajul pe care Adagrad il are (obs: este rezolvat acest dezavantaj in RMSProp)"
   ]
  },
  {
   "cell_type": "markdown",
   "metadata": {},
   "source": [
    "```\n",
    "One of the main disadvantages of Adagrad is that it can become\n",
    "blocked on local minimum.\n",
    "+ This happens since the L2 norm can only increase\n",
    "\n",
    "```\n",
    "\n",
    "source: http://profs.info.uaic.ro/~rbenchea/rn/curs6.pdf - pg 25/40"
   ]
  },
  {
   "cell_type": "markdown",
   "metadata": {},
   "source": [
    "### 10p | 4. Dati 2 dezavantaje pe care functia sigmoid (logistic) o are fata de functia tangenta hiperbolica (tanh)."
   ]
  },
  {
   "cell_type": "markdown",
   "metadata": {},
   "source": [
    "```\n",
    "1. The output is always positive\n",
    "2. They can output 0 when they saturate\n",
    "\n",
    "```\n",
    "source: http://profs.info.uaic.ro/~rbenchea/rn/curs7.pdf - pg 4/46\n",
    "```\n",
    "smaller derivatives (since > 0) -> weaker gradients\n",
    "\n",
    "```\n",
    "source: https://stats.stackexchange.com/questions/101560/tanh-activation-function-vs-sigmoid-activation-function"
   ]
  },
  {
   "cell_type": "markdown",
   "metadata": {},
   "source": [
    "### 10p | 5. In algoritmul de Q-learning folosind RN este de preferat ca arhitectura retelei sa aiba la input starea agentului, iar la output cate o iesire pentru fiecare actiune. Argumentati de ce este preferata aceasta arhitectura in defavoarea celei care primeste ca input starea si actiujnea si returneaza valoarea Q(s,a)."
   ]
  },
  {
   "cell_type": "markdown",
   "metadata": {},
   "source": [
    "```\n",
    "smth\n",
    "```"
   ]
  },
  {
   "cell_type": "markdown",
   "metadata": {},
   "source": [
    "### 10p | 6. Explicati de ce la o retea restrictionata Boltzmann se ajunge in echilibru termic (distributie stationara) intr-un singur pas in faza pozitiva a antrenamentului."
   ]
  },
  {
   "cell_type": "markdown",
   "metadata": {},
   "source": [
    "```\n",
    "smth\n",
    "```"
   ]
  },
  {
   "cell_type": "markdown",
   "metadata": {},
   "source": [
    "### 15p | 7. Date urmatoarele date de intrare: $$v^1 = (1, -1, 1, -1, 1) \\ , \\ v^2 = (1, 1, 1, -1, -1)$$ exemplificati care sunt ponderile intermediare si care sunt cele finale obtinute in urma antrenarii unei retele Hopfield folosind invatarea Hebbiana."
   ]
  },
  {
   "cell_type": "markdown",
   "metadata": {},
   "source": [
    "```\n",
    "smth\n",
    "```"
   ]
  },
  {
   "cell_type": "markdown",
   "metadata": {},
   "source": [
    "### 25p | 8. Data reteaua din imagine, stabiliti care ar trebui sa fie ponderile (weight-urile) noi dupa rularea algoritmului de backprop intr-o singura iteratie, folosind inputul (2,6) ce are clasa (target) 0 si reteaua din imaginea alaturata.\n",
    "+ toate functiile de activare sunt sigmoid\n",
    "+ functia de eroare - cross-entropia\n",
    "+ neuronii nu au bias\n",
    "+ rata de invatare este: $\\lambda = 0.5$\n",
    "\n",
    "Formule utile:\n",
    "+ $w_{ij}^{l} = w_{ij}^l - \\eta * \\frac{ \\partial{c_l} }{ \\partial{w_{ij}} }$\n",
    "+ $\\delta_i^L = y_i^L - t_i^L$, $\\delta_i^L = y_i^l (1-y_i^l) * \\sum_k{\\delta_k^{l+1} } * w_{ik}^{l+1}$\n",
    "+ $\\sigma(z) = \\frac{1}{1+e^{-z}}$\n",
    "+ $\\frac{\\delta C}{\\delta w_{ij}^l} = \\delta_i^l * y^{l-1}$\n",
    "\n",
    "<!--$$y = x^2 \\hbox{ when $x > 2$}$$ -->\n"
   ]
  },
  {
   "cell_type": "markdown",
   "metadata": {},
   "source": [
    "Example MathJax graph\n",
    "<!--\n",
    "$$ \\require{enclose}\n",
    "\\def\\uline#1#2{\\enclose{updiagonalstrike}{\\phantom{\\Rule{#1em}{#2em}{0em}}}}\n",
    "\\def\\dline#1#2{\\enclose{downdiagonalstrike}{\\phantom{\\Rule{#1em}{#2em}{0em}}}}\n",
    "%\n",
    "\\def\\place#1#2#3{\\smash{\\rlap{\\hskip{#1em}\\raise{#2em}{#3}}}}\n",
    "%\n",
    "\\hskip 1em\n",
    "%\n",
    "\\place{0}{12}{\\bullet}\n",
    "\\place{2}{0}{\\bullet}\n",
    "\\place{4}{4}{\\bullet}\n",
    "\\place{6}{0}{\\bullet}\n",
    "\\place{8}{8}{\\bullet}\n",
    "\\place{10}{0}{\\bullet}\n",
    "\\place{12}{4}{\\bullet}\n",
    "\\place{14}{0}{\\bullet}\n",
    "\\place{16}{12}{\\bullet}\n",
    "%\n",
    "\\place{.3}{4.4}{\\dline{3.6}{7.6}}\n",
    "\\place{2.3}{.5}{\\uline{1.6}{3.6}}\n",
    "\\place{4.3}{.4}{\\dline{1.6}{3.6}}\n",
    "\\place{4.3}{4.4}{\\uline{3.6}{3.7}}\n",
    "\\place{8.3}{4.4}{\\dline{3.6}{3.6}}\n",
    "\\place{10.3}{.5}{\\uline{1.6}{3.6}}\n",
    "\\place{12.3}{.4}{\\dline{1.6}{3.6}}\n",
    "\\place{12.2}{4.4}{\\uline{3.7}{7.6}}\n",
    "%\n",
    "\\place{-1}{12.5}{\\frac01}\n",
    "\\place{1}{-.5}{\\frac13}\n",
    "\\place{2.75}{4}{\\frac12}\n",
    "\\place{6.5}{-.5}{\\frac23}\n",
    "\\place{7.75}{9.5}{\\frac11}\n",
    "\\place{9}{-.5}{\\frac32}\n",
    "\\place{12.75}{4}{\\frac21}\n",
    "\\place{14.5}{-.5}{\\frac31}\n",
    "\\place{16.5}{12.5}{\\frac10}\n",
    "%\n",
    "\\hskip18em\\Rule{0em}{14em}{1.5em} $$\n",
    "-->\n",
    "  \n",
    "**Source**: [meta.math.stackexchange.com/questions/23055/how-can-i-draw-a-tree-like-this](http://meta.math.stackexchange.com/questions/23055/how-can-i-draw-a-tree-like-this/23066#23066)\n",
    "+ Apparently, MathJax (used by Jupyter) doesn't support many LaTeX features (eg: [reddit source](https://www.reddit.com/r/IPython/comments/4lxy1l/creating_a_latex_data_table_in_jupyter/) )"
   ]
  },
  {
   "cell_type": "markdown",
   "metadata": {},
   "source": [
    "```\n",
    "smth\n",
    "```"
   ]
  },
  {
   "cell_type": "markdown",
   "metadata": {
    "collapsed": true
   },
   "source": [
    "---"
   ]
  },
  {
   "cell_type": "markdown",
   "metadata": {
    "collapsed": true
   },
   "source": [
    "# Subject 2"
   ]
  },
  {
   "cell_type": "markdown",
   "metadata": {
    "collapsed": true
   },
   "source": [
    "\n",
    "1. (10p) Why is the sigmoid activation preffered over BTU (binary threshold unit) ?\n",
    "2. (10p) What problem does 0-initialization generate in an MLP ? What if it was a constant ?\n",
    "3. (10p) What is minibatch. Why would you use minibatch. List 1 advantage over fullbatch.\n",
    "4. (10p) Explain what dropout is. Show how would you apply 0.2 dropout over 2nd layer.\n",
    "5. (10p) Why choose Adam optimizer over Adagrad optimizer ?\n",
    "6. (10p) Describe the vanishing gradient problem. How does relu help ?\n"
   ]
  },
  {
   "cell_type": "markdown",
   "metadata": {
    "collapsed": true
   },
   "source": [
    "7. (15p) Given an input image `I` and a filter `F`, apply convolutionally `F` over `I`, given the formula `F(I) = I(x-i, x-j)`.\n",
    "\n",
    "$$\n",
    "I = \\begin{bmatrix}\n",
    "    0 & 3 & 1 & 1 & 4 \\\\\n",
    "    2 & 1 & 0 & 0 & 0 \\\\\n",
    "    0 & 2 & 5 & 2 & 3 \\\\\n",
    "    1 & 1 & 3 & 0 & 2 \\\\\n",
    "    0 & 0 & 1 & 1 & 0\n",
    "\\end{bmatrix},\n",
    "F = \\begin{bmatrix}\n",
    "    0 & 1 & 2 \\\\\n",
    "    2 & 2 & 0 \\\\\n",
    "    0 & 2 & 1 \\\\\n",
    "\\end{bmatrix}\n",
    "$$\n",
    "\n",
    "+ 9 convolutions to be calculated given the above I, F.\n"
   ]
  },
  {
   "cell_type": "markdown",
   "metadata": {
    "collapsed": true
   },
   "source": [
    "8. (25p) backprop problem"
   ]
  },
  {
   "cell_type": "markdown",
   "metadata": {
    "collapsed": true
   },
   "source": [
    "---"
   ]
  }
 ],
 "metadata": {
  "hide_input": false,
  "kernelspec": {
   "display_name": "Python 3",
   "language": "python",
   "name": "python3"
  },
  "language_info": {
   "codemirror_mode": {
    "name": "ipython",
    "version": 3
   },
   "file_extension": ".py",
   "mimetype": "text/x-python",
   "name": "python",
   "nbconvert_exporter": "python",
   "pygments_lexer": "ipython3",
   "version": "3.5.2"
  },
  "toc": {
   "base_numbering": 1,
   "nav_menu": {},
   "number_sections": true,
   "sideBar": true,
   "skip_h1_title": false,
   "title_cell": "Table of Contents",
   "title_sidebar": "Contents",
   "toc_cell": false,
   "toc_position": {},
   "toc_section_display": true,
   "toc_window_display": false
  },
  "varInspector": {
   "cols": {
    "lenName": 16,
    "lenType": 16,
    "lenVar": 40
   },
   "kernels_config": {
    "python": {
     "delete_cmd_postfix": "",
     "delete_cmd_prefix": "del ",
     "library": "var_list.py",
     "varRefreshCmd": "print(var_dic_list())"
    },
    "r": {
     "delete_cmd_postfix": ") ",
     "delete_cmd_prefix": "rm(",
     "library": "var_list.r",
     "varRefreshCmd": "cat(var_dic_list()) "
    }
   },
   "types_to_exclude": [
    "module",
    "function",
    "builtin_function_or_method",
    "instance",
    "_Feature"
   ],
   "window_display": false
  }
 },
 "nbformat": 4,
 "nbformat_minor": 1
}
