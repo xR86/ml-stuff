{
 "cells": [
  {
   "cell_type": "markdown",
   "metadata": {
    "slideshow": {
     "slide_type": "slide"
    }
   },
   "source": [
    "# Data Science Training `#02`\n",
    "## Workflows"
   ]
  },
  {
   "cell_type": "markdown",
   "metadata": {
    "slideshow": {
     "slide_type": "slide"
    }
   },
   "source": [
    "# Simplified: Exploration vs Exploitation"
   ]
  },
  {
   "cell_type": "markdown",
   "metadata": {
    "slideshow": {
     "slide_type": "subslide"
    }
   },
   "source": [
    "\n",
    "![](http://www.turingfinance.com/wp-content/uploads/2014/03/Simulated-Annealing-Triangular-Two.png)\n"
   ]
  },
  {
   "cell_type": "markdown",
   "metadata": {
    "slideshow": {
     "slide_type": "subslide"
    }
   },
   "source": [
    "# Simulated Annealing\n",
    "\n",
    "![](https://upload.wikimedia.org/wikipedia/commons/d/d5/Hill_Climbing_with_Simulated_Annealing.gif)"
   ]
  },
  {
   "cell_type": "markdown",
   "metadata": {
    "slideshow": {
     "slide_type": "slide"
    }
   },
   "source": [
    "# Part 1: Exploration\n",
    "\n",
    "`pre-clean` / `scrape` &amp; `transform` to csv >> `clean` >> `EDA` (Exploratory Data Analysis)\n"
   ]
  },
  {
   "cell_type": "markdown",
   "metadata": {
    "slideshow": {
     "slide_type": "slide"
    }
   },
   "source": [
    "# Part 2: Exploitation\n",
    "\n",
    "+ segmentation: `clusterization`\n",
    "   + result: groups of datapoints - eg: high-prescribing doctors, new prescribers, all-round low prescribers\n",
    "+ classification: `labels from existing features` ? `supervised` : `clusterization` >> `supervised`\n",
    "   + result: categorical classification\n",
    "+ forecasting: `classic statistical methods (ARIMA)` / `regression` / `interpolation`\n"
   ]
  },
  {
   "cell_type": "markdown",
   "metadata": {
    "slideshow": {
     "slide_type": "slide"
    }
   },
   "source": [
    "### General advice, keep backups:\n",
    "\n",
    "+ save notebooks\n",
    "+ save data from notebooks (especially data that comes from endpoints) - eg: geocoding should be saved as binary in `.pkl` or serialized in some form such as `.yaml` or `.json` - [some utilities here](https://github.com/xR86/ml-stuff/blob/master/kaggle/utils.py)\n",
    "+ save sklearn models in `.pkl`\n",
    "+ depending on the dataframe's memory consumption, try to keep in one notebook different dataframes during the process and refine usage when not needed ([garbage collection might be tricky](https://stackoverflow.com/questions/32247643/how-to-delete-multiple-pandas-python-dataframes-from-memory-to-save-ram), but the easiest way is to close the jupyter kernel)\n"
   ]
  },
  {
   "cell_type": "markdown",
   "metadata": {
    "slideshow": {
     "slide_type": "slide"
    }
   },
   "source": [
    "# Pre-cleaning / scraping\n"
   ]
  },
  {
   "cell_type": "markdown",
   "metadata": {
    "slideshow": {
     "slide_type": "slide"
    }
   },
   "source": [
    "# Cleaning\n"
   ]
  },
  {
   "cell_type": "markdown",
   "metadata": {
    "slideshow": {
     "slide_type": "subslide"
    }
   },
   "source": [
    "Examples from: [NYC Taxi Trip Duration EDA](https://github.com/xR86/ml-stuff/blob/master/kaggle/nyc-taxi-trip-duration/PrimerStatistics.ipynb)\n"
   ]
  },
  {
   "cell_type": "markdown",
   "metadata": {
    "slideshow": {
     "slide_type": "subslide"
    }
   },
   "source": [
    "## Cleaning: Types\n",
    "\n",
    "Usually, you will check what types have been read by Pandas:\n",
    "```python\n",
    "data = pd.read_csv(\"train.csv\", header = 0)\n",
    "data[\"store_and_fwd_flag\"].dtypes\n",
    "```\n",
    "\n",
    "Usually, they will be read by default as: `float64`, `int64` and `object`.  \n",
    "You will often need to change types where suitable:\n",
    "\n",
    "```python\n",
    "data_clean = data\n",
    "data_clean[\"pickup_datetime\"]  = data_clean[\"pickup_datetime\"].astype(\"datetime64\")\n",
    "```"
   ]
  },
  {
   "cell_type": "markdown",
   "metadata": {
    "slideshow": {
     "slide_type": "subslide"
    }
   },
   "source": [
    "## Cleaning: Outliers\n",
    "\n",
    "Usually it's good to keep outliers at least for EDA to give insights. A lot of [talk](http://www.theanalysisfactor.com/outliers-to-drop-or-not-to-drop/) is made around `keeping outliers` vs `normalizing outliers` vs `changing the model to fit the outliers`.\n",
    "\n",
    "In this case, since we want to focus our analysis on New York specifically, we empirically set limits for our map.\n",
    "\n",
    "```python\n",
    "xlim = [-74.2, -73.7]\n",
    "ylim = [40.55, 40.95]\n",
    "\n",
    "data_normalized = data_clean\n",
    "data_normalized = data_normalized[(data_normalized.dropoff_latitude < ylim[1]) & (data_normalized.pickup_latitude < ylim[1])]\n",
    "```\n"
   ]
  },
  {
   "cell_type": "markdown",
   "metadata": {
    "slideshow": {
     "slide_type": "slide"
    }
   },
   "source": [
    "# EDA\n"
   ]
  },
  {
   "cell_type": "markdown",
   "metadata": {
    "slideshow": {
     "slide_type": "slide"
    }
   },
   "source": [
    "# Clusterization\n"
   ]
  },
  {
   "cell_type": "markdown",
   "metadata": {
    "slideshow": {
     "slide_type": "slide"
    }
   },
   "source": [
    "# Supervised methods\n"
   ]
  },
  {
   "cell_type": "markdown",
   "metadata": {
    "slideshow": {
     "slide_type": "slide"
    }
   },
   "source": [
    "<center>\n",
    "    **Next Lesson:** <br/><br/>\n",
    "    Part 2 of this lesson &amp; EDA\n",
    "</center>"
   ]
  },
  {
   "cell_type": "markdown",
   "metadata": {
    "slideshow": {
     "slide_type": "skip"
    }
   },
   "source": [
    "<center>\n",
    "    <h3> Future lessons: </h3>\n",
    "    ![](assets/DS_2/ds_training_map.png)\n",
    "    <!-- https://codepen.io/search/pens?q=venn+diagram&limit=all&type=type-pens -->\n",
    "</center>"
   ]
  },
  {
   "cell_type": "markdown",
   "metadata": {
    "slideshow": {
     "slide_type": "slide"
    }
   },
   "source": [
    "---"
   ]
  }
 ],
 "metadata": {
  "celltoolbar": "Slideshow",
  "kernelspec": {
   "display_name": "Python 3",
   "language": "python",
   "name": "python3"
  },
  "language_info": {
   "codemirror_mode": {
    "name": "ipython",
    "version": 3
   },
   "file_extension": ".py",
   "mimetype": "text/x-python",
   "name": "python",
   "nbconvert_exporter": "python",
   "pygments_lexer": "ipython3",
   "version": "3.5.2"
  }
 },
 "nbformat": 4,
 "nbformat_minor": 1
}
