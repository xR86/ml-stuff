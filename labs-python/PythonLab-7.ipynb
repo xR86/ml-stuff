{
 "cells": [
  {
   "cell_type": "markdown",
   "metadata": {},
   "source": [
    "### Lab 6"
   ]
  },
  {
   "cell_type": "markdown",
   "metadata": {},
   "source": [
    "1) Scrieti un program care la fiecare x secunde unde x va fi aleator ales la fiecare iteratie (din intervalul [a, b] , unde a, b sunt date ca argumente) afiseaza de cate minute ruleaza programul (in minute, cu doua zecimale). Programul va rula la infinit."
   ]
  },
  {
   "cell_type": "code",
   "execution_count": 21,
   "metadata": {
    "collapsed": false
   },
   "outputs": [
    {
     "name": "stdout",
     "output_type": "stream",
     "text": [
      "0.205032037726 seconds process time\n",
      "0.195999860764 seconds wall time\n"
     ]
    }
   ],
   "source": [
    "import time\n",
    "import random\n",
    "\n",
    "#import sys\n",
    "#a = sys.argv[1]\n",
    "#b = sys.argv[2]\n",
    "\n",
    "def wait(x):\n",
    "    time.sleep(x)\n",
    "\n",
    "def time_cron(a,b):\n",
    "    time_interval = random.uniform(a,b)\n",
    "    # while(1):\n",
    "    # measure process time\n",
    "    t0 = time.clock()\n",
    "    wait(time_interval)\n",
    "    print time.clock() - t0, \"seconds process time\"\n",
    "    \n",
    "    # measure wall time\n",
    "    t0 = time.time()\n",
    "    wait(time_interval)\n",
    "    print time.time() - t0, \"seconds wall time\"\n",
    "\n",
    "time_cron(0,2)"
   ]
  },
  {
   "cell_type": "markdown",
   "metadata": {},
   "source": [
    "2) Scrieti doua functii de verificare daca un numar este prim, si verificati care dintre ele este mai eficienta din punct de vedere al timpului."
   ]
  },
  {
   "cell_type": "code",
   "execution_count": null,
   "metadata": {
    "collapsed": true
   },
   "outputs": [],
   "source": []
  },
  {
   "cell_type": "markdown",
   "metadata": {},
   "source": [
    "3) Gasiti toate fisierele duplicate dintr-un director dat ca argument si afisati timpul de rulare. Calea grupurilor de fisiere duplicate vor fi scrise intr-un fisier output.txt. "
   ]
  },
  {
   "cell_type": "code",
   "execution_count": null,
   "metadata": {
    "collapsed": true
   },
   "outputs": [],
   "source": []
  },
  {
   "cell_type": "markdown",
   "metadata": {},
   "source": [
    "4) Sa se scrie un script care primeste ca argument un director si creeaza un fisier JSON cu date despre toate fisierele din acel director. Pentru fiecare fisier vor fi afisate urmatoarele informatii: nume_fisier, md5_fisier, sha256_fisier, size_fisier (in bytes), cand a fost creat fisierul (in format human-readable) si calea absoluta catre fisier."
   ]
  },
  {
   "cell_type": "code",
   "execution_count": 1,
   "metadata": {
    "collapsed": false
   },
   "outputs": [
    {
     "name": "stdout",
     "output_type": "stream",
     "text": [
      "['data.json', 'labs-python.json', 'plot.py', 'py-extra-del.ipynb', 'PythonLab-5.ipynb', 'PythonLab-6.ipynb', 'PythonLab-7.ipynb', 'PythonLabs.ipynb']\n"
     ]
    }
   ],
   "source": [
    "import os\n",
    "import json\n",
    "import hashlib\n",
    "import time\n",
    "\n",
    "def get_file_md5(filePath):\n",
    "    m = hashlib.md5()\n",
    "    m.update(open(filePath,\"rb\").read())\n",
    "    return m.hexdigest()\n",
    "\n",
    "def get_file_sha256(filePath):\n",
    "    m = hashlib.sha256()\n",
    "    m.update(open(filePath,\"rb\").read())\n",
    "    return m.hexdigest()\n",
    "\n",
    "\n",
    "def get_dir_data(dir_path):\n",
    "    json_data = {}\n",
    "    dir_path = os.path.realpath(dir_path)\n",
    "    \n",
    "    json_file = open(os.path.basename(dir_path) + '.json', 'w')\n",
    "    \n",
    "    print next(os.walk(dir_path))[2]\n",
    "    #print os.path.basename(dir_path)\n",
    "    \n",
    "    for dir_file in next(os.walk(dir_path))[2]:\n",
    "        file_data = {}\n",
    "        \n",
    "        #file_data[\"file_name\"] = dir_file\n",
    "        file_data[dir_file] = {}\n",
    "        file_data[dir_file][\"file_md5\"] = get_file_md5(dir_file)\n",
    "        file_data[dir_file][\"file_sha256\"] = get_file_sha256(dir_file)\n",
    "        file_data[dir_file][\"file_size\"] = os.path.getsize(dir_file)\n",
    "        \n",
    "        file_time = time.gmtime(os.path.getctime(dir_file))\n",
    "        file_data[dir_file][\"file_time\"] = time.strftime(\"%Y-%m-%d %I:%M:%S %p\", file_time)\n",
    "        file_data[dir_file][\"file_path\"] = os.path.realpath(dir_file)\n",
    "        \n",
    "        #print file_data\n",
    "        json_data.update(file_data)\n",
    "        #print json_data\n",
    "    \n",
    "    #print json_data\n",
    "    json_data = json.dumps(json_data, sort_keys = True, indent=4, separators=(',', ': '))\n",
    "    json_file.write( json_data )\n",
    "    \n",
    "    json_file.close()\n",
    "    \n",
    "get_dir_data('./')"
   ]
  },
  {
   "cell_type": "markdown",
   "metadata": {},
   "source": [
    "5) Sa se creeze doua scripturi care sa comunice intre ele prin date serializate. Primul script va salva periodic o lista cu toate fisierele dintr-un director iar al doilea script va adauga intr-o arhiva toate fisierele cu size mai mic de 100kb si modificate cu cel mult 5 minute in urma (nu va fi adaugat acelasi fisier de 2 ori)."
   ]
  },
  {
   "cell_type": "code",
   "execution_count": null,
   "metadata": {
    "collapsed": true
   },
   "outputs": [],
   "source": []
  },
  {
   "cell_type": "markdown",
   "metadata": {},
   "source": [
    "6) Sa se scrie un script care afiseaza in ce zi a saptamanii este anul nou, pentru ultimii x ani (x este dat ca argument)."
   ]
  },
  {
   "cell_type": "code",
   "execution_count": 13,
   "metadata": {
    "collapsed": false
   },
   "outputs": [
    {
     "name": "stdout",
     "output_type": "stream",
     "text": [
      "2016 :  Sunday\n",
      "2015 :  Saturday\n",
      "2014 :  Friday\n",
      "2013 :  Thursday\n",
      "2012 :  Tuesday\n"
     ]
    }
   ],
   "source": [
    "import datetime as dt\n",
    "\n",
    "def weekday_new_year(x):\n",
    "    today = dt.datetime.today()\n",
    "    current_year = today.year\n",
    "    #print today, '::', current_year\n",
    "    \n",
    "    for i in range(0, x):\n",
    "        print current_year-i, ': ', dt.date(current_year-i, 1, 31).strftime(\"%A\") #.weekday() shows only no\n",
    "    \n",
    "\n",
    "weekday_new_year(5)\n"
   ]
  },
  {
   "cell_type": "markdown",
   "metadata": {},
   "source": [
    "7) Sa se simuleze extragerea 6/49. "
   ]
  },
  {
   "cell_type": "code",
   "execution_count": null,
   "metadata": {
    "collapsed": true
   },
   "outputs": [],
   "source": []
  },
  {
   "cell_type": "markdown",
   "metadata": {},
   "source": [
    "---"
   ]
  }
 ],
 "metadata": {
  "kernelspec": {
   "display_name": "Python 2",
   "language": "python",
   "name": "python2"
  },
  "language_info": {
   "codemirror_mode": {
    "name": "ipython",
    "version": 2
   },
   "file_extension": ".py",
   "mimetype": "text/x-python",
   "name": "python",
   "nbconvert_exporter": "python",
   "pygments_lexer": "ipython2",
   "version": "2.7.12"
  }
 },
 "nbformat": 4,
 "nbformat_minor": 1
}
