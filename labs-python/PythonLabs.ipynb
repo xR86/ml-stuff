{
 "cells": [
  {
   "cell_type": "markdown",
   "metadata": {},
   "source": [
    "### Lab 3\n",
    "\n"
   ]
  },
  {
   "cell_type": "markdown",
   "metadata": {},
   "source": [
    "\n",
    "1) Sa se scrie o functie care primeste ca parametri doua liste a si b si returneaza un tuplu de seturi care sa contina: (a intersectat cu b, a reunit cu b, a - b, b - a)\n",
    "  "
   ]
  },
  {
   "cell_type": "code",
   "execution_count": 5,
   "metadata": {
    "collapsed": false
   },
   "outputs": [
    {
     "name": "stdout",
     "output_type": "stream",
     "text": [
      "join:  {1, 2, 3, 4, 5, 6}\n",
      "intersection:  {3, 4}\n",
      "a-b:  {1, 2}\n",
      "b-a:  {5, 6}\n"
     ]
    },
    {
     "data": {
      "text/plain": [
       "({1, 2, 3, 4, 5, 6}, {3, 4}, {1, 2}, {5, 6})"
      ]
     },
     "execution_count": 5,
     "metadata": {},
     "output_type": "execute_result"
    }
   ],
   "source": [
    "def makeOperations(a,b):\n",
    "    operations = []\n",
    "    join = a | b\n",
    "    print('join: ', join)\n",
    "    operations.append(join)\n",
    "    \n",
    "    intersection = a & b\n",
    "    print('intersection: ', intersection)\n",
    "    operations.append(intersection)\n",
    "    \n",
    "    diffA = a - b\n",
    "    diffB = b - a\n",
    "    print('a-b: ', diffA)\n",
    "    print('b-a: ', diffB)\n",
    "    operations.append(diffA)\n",
    "    operations.append(diffB)\n",
    "    \n",
    "    return tuple(operations)\n",
    "    \n",
    "    \n",
    "    \n",
    "a = set([1,2,3,4])\n",
    "b = set([3,4,5,6])\n",
    "\n",
    "makeOperations(a,b)"
   ]
  },
  {
   "cell_type": "markdown",
   "metadata": {},
   "source": [
    "2) Scrieti o functie care primeste ca parametru un sir de caractere si returneaza un dictionar in care cheile sunt caracterele dn componenta sirului de caractere iar valorile sunt reprezentate de numarul de aparitii ale caracterului respectiv in textul dat.\n",
    "Exemplu: Pentru sirul \"Ana are mere.\" dat ca parametru functia va returna dictionarul: {'A': 1, ' ': 2, 'n': 1, 'a': 2, 'r': 2, 'e': 3, 'm': 1, '.': 1}."
   ]
  },
  {
   "cell_type": "code",
   "execution_count": 16,
   "metadata": {
    "collapsed": false
   },
   "outputs": [
    {
     "name": "stdout",
     "output_type": "stream",
     "text": [
      "{'a': 0, 'n': 0, 'A': 0, ' ': 0, 'r': 0, 'e': 0, 'm': 0}\n",
      "{'a': 2, 'n': 1, 'A': 1, ' ': 2, 'r': 2, 'e': 3, 'm': 1}\n"
     ]
    }
   ],
   "source": [
    "def createFreqDict(phrase):\n",
    "    #chList = phrase.split(' ')\n",
    "    #print(dict(chList))\n",
    "    \n",
    "    freqDict = {}\n",
    "    for i in phrase:\n",
    "        freqDict[i] = 0\n",
    "    print(freqDict)\n",
    "    \n",
    "    for i in phrase:\n",
    "        freqDict[i] += 1\n",
    "    print(freqDict)\n",
    "    \n",
    "createFreqDict('Ana are mere')"
   ]
  },
  {
   "cell_type": "markdown",
   "metadata": {},
   "source": [
    "3) Sa se compare doua dictionare fara a folosi operatorul \"==\" si sa se returneze un tuplu de liste de diferente astfel: (cheile_comune_dar_cu_valori_diferite, cheile_care_se_gasesc_doar_in_primul_dict, cheile_care_se_gasesc_doar_in_al_doilea_dict). (Atentie, dictionarele trebuiesc parcurse recursiv deoarece la randul lor pot contine alte containere, cum ar fi dictionare, liste, set-uri, etc)\n"
   ]
  },
  {
   "cell_type": "code",
   "execution_count": 18,
   "metadata": {
    "collapsed": true
   },
   "outputs": [],
   "source": []
  },
  {
   "cell_type": "code",
   "execution_count": null,
   "metadata": {
    "collapsed": true
   },
   "outputs": [],
   "source": []
  }
 ],
 "metadata": {
  "kernelspec": {
   "display_name": "Python 3",
   "language": "python",
   "name": "python3"
  },
  "language_info": {
   "codemirror_mode": {
    "name": "ipython",
    "version": 3
   },
   "file_extension": ".py",
   "mimetype": "text/x-python",
   "name": "python",
   "nbconvert_exporter": "python",
   "pygments_lexer": "ipython3",
   "version": "3.5.2"
  }
 },
 "nbformat": 4,
 "nbformat_minor": 1
}
