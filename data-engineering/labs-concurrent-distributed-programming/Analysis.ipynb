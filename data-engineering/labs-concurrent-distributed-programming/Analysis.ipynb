{
 "cells": [
  {
   "cell_type": "markdown",
   "metadata": {
    "slideshow": {
     "slide_type": "skip"
    }
   },
   "source": [
    "# Analysis <a class=\"tocSkip\">\n",
    "\n",
    "For homework: [profs.info.uaic.ro/~adria/teach/courses/pcd//homework/PCD_Homework1.pdf](https://profs.info.uaic.ro/~adria/teach/courses/pcd//homework/PCD_Homework1.pdf)  \n",
    "Used dataset: [kaggle.com/wcukierski/enron-email-dataset/home](https://www.kaggle.com/wcukierski/enron-email-dataset/home)\n",
    "\n",
    "\n",
    "[wiki.python.org/moin/UdpCommunication](https://wiki.python.org/moin/UdpCommunication)\n",
    "[stackoverflow.com/questions/22819214/udp-message-too-long\n",
    "](https://stackoverflow.com/questions/22819214/udp-message-too-long)\n",
    "\n"
   ]
  },
  {
   "cell_type": "markdown",
   "metadata": {
    "slideshow": {
     "slide_type": "skip"
    }
   },
   "source": [
    "## Background <a class=\"tocSkip\">\n",
    "    \n",
    "Solution architecture: <drawio fig>\n",
    "\n",
    "Perform the following scenarios like a battery of tests\n",
    "+ UDP - single-node\n",
    "+ UDP - single-node, multithread\n",
    "+ UDP - single-node, multicast\n",
    "\n",
    "+ TCP - single-node\n",
    "+ TCP - single-node, multithread\n",
    "\n",
    "+ use [RabbitMQ](https://www.rabbitmq.com/) or [ZeroMQ](http://zeromq.org/)\n",
    "  + https://github.com/booksbyus/zguide/tree/master/examples/Python\n",
    "\n",
    "https://stackoverflow.com/questions/39246259/tcp-threaded-python\n",
    "https://stackoverflow.com/questions/28840624/forking-server-in-python\n",
    "https://stackoverflow.com/questions/32654551/tcp-vs-udp-socket-latency-benchmark\n",
    "\n",
    "\n",
    "Extrapolate to utils, scenario files\n",
    "#client sends END, server switches to next case\n",
    "\n",
    "\n",
    "udp-streaming - https://www.google.com/search?safe=off&ei=_051XO-aO42EmwW4i5mAAw&q=udp+streaming+python&oq=udp+streaming+python&gs_l=psy-ab.3..0i19j0i22i30i19l2.8985.10124..10325...0.0..0.164.1007.0j7......0....1..gws-wiz.......0i71j0i8i13i30i19.ITQZ5dy4ifs\n",
    "\n",
    "https://stackoverflow.com/questions/15909064/python-implementation-for-stop-and-wait-algorithm\n",
    "\n",
    "\n",
    "\n",
    "airflow\n",
    "https://stackoverflow.com/questions/43386003/airflow-inside-docker-running-a-docker-container\n",
    "http://localhost:8080/admin/\n",
    "http://michal.karzynski.pl/blog/2017/03/19/developing-workflows-with-apache-airflow/\n",
    "https://airflow.apache.org/tutorial.html\n",
    "http://www.golangbootcamp.com/book/concurrency\n",
    "\n"
   ]
  },
  {
   "cell_type": "markdown",
   "metadata": {
    "slideshow": {
     "slide_type": "skip"
    }
   },
   "source": [
    "# Imports"
   ]
  },
  {
   "cell_type": "markdown",
   "metadata": {
    "slideshow": {
     "slide_type": "skip"
    }
   },
   "source": [
    "## Import deps"
   ]
  },
  {
   "cell_type": "code",
   "execution_count": 1,
   "metadata": {
    "slideshow": {
     "slide_type": "skip"
    }
   },
   "outputs": [
    {
     "data": {
      "text/html": [
       "<script>requirejs.config({paths: { 'plotly': ['https://cdn.plot.ly/plotly-latest.min']},});if(!window.Plotly) {{require(['plotly'],function(plotly) {window.Plotly=plotly;});}}</script>"
      ],
      "text/vnd.plotly.v1+html": [
       "<script>requirejs.config({paths: { 'plotly': ['https://cdn.plot.ly/plotly-latest.min']},});if(!window.Plotly) {{require(['plotly'],function(plotly) {window.Plotly=plotly;});}}</script>"
      ]
     },
     "metadata": {},
     "output_type": "display_data"
    }
   ],
   "source": [
    "import os\n",
    "import pandas as pd\n",
    "\n",
    "import utils\n",
    "\n",
    "import plotly.graph_objs as go\n",
    "import plotly.figure_factory as ff\n",
    "from plotly.offline import download_plotlyjs, init_notebook_mode, plot, iplot\n",
    "init_notebook_mode(connected=True)"
   ]
  },
  {
   "cell_type": "markdown",
   "metadata": {
    "slideshow": {
     "slide_type": "skip"
    }
   },
   "source": [
    "## Import data"
   ]
  },
  {
   "cell_type": "code",
   "execution_count": 2,
   "metadata": {
    "slideshow": {
     "slide_type": "skip"
    }
   },
   "outputs": [
    {
     "name": "stdout",
     "output_type": "stream",
     "text": [
      "-rw-r--r-- 1 1000 1000 1426122219 Jun 16  2016 emails.csv\n",
      "-rw-rw-r-- 1 1000 1000        133 Mar 12 17:13 metadata_client_UDP_r1.csv\n",
      "-rw-rw-r-- 1 1000 1000        133 Mar 12 17:13 metadata_client_UDP_r2.csv\n",
      "-rw-rw-r-- 1 1000 1000        133 Mar 12 17:13 metadata_client_UDP_r3.csv\n",
      "-rw-rw-r-- 1 1000 1000        136 Mar 12 17:18 metadata_client_ZeroMQ_r1.csv\n",
      "-rw-rw-r-- 1 1000 1000        136 Mar 12 17:18 metadata_client_ZeroMQ_r2.csv\n",
      "-rw-rw-r-- 1 1000 1000        136 Mar 12 17:18 metadata_client_ZeroMQ_r3.csv\n",
      "-rw-rw-r-- 1 1000 1000        133 Mar 12 17:13 metadata_server_UDP_r1.csv\n",
      "-rw-rw-r-- 1 1000 1000        133 Mar 12 17:13 metadata_server_UDP_r2.csv\n",
      "-rw-rw-r-- 1 1000 1000        133 Mar 12 17:13 metadata_server_UDP_r3.csv\n",
      "-rw-rw-r-- 1 1000 1000        136 Mar 12 17:18 metadata_server_ZeroMQ_r1.csv\n",
      "-rw-rw-r-- 1 1000 1000        136 Mar 12 17:18 metadata_server_ZeroMQ_r2.csv\n",
      "-rw-rw-r-- 1 1000 1000        136 Mar 12 17:18 metadata_server_ZeroMQ_r3.csv\n"
     ]
    }
   ],
   "source": [
    "%%bash\n",
    "ls -l data/ | grep csv"
   ]
  },
  {
   "cell_type": "code",
   "execution_count": 3,
   "metadata": {
    "slideshow": {
     "slide_type": "skip"
    }
   },
   "outputs": [
    {
     "name": "stdout",
     "output_type": "stream",
     "text": [
      "['metadata_client_UDP_r2.csv', 'metadata_server_UDP_r2.csv', 'metadata_client_ZeroMQ_r2.csv', 'metadata_client_UDP_r1.csv', 'metadata_client_ZeroMQ_r1.csv', 'metadata_client_ZeroMQ_r3.csv', 'metadata_server_ZeroMQ_r1.csv', 'metadata_client_UDP_r3.csv', 'metadata_server_UDP_r3.csv', 'metadata_server_ZeroMQ_r2.csv', 'metadata_server_ZeroMQ_r3.csv', 'metadata_server_UDP_r1.csv']\n"
     ]
    }
   ],
   "source": [
    "root, dirs, files = os.walk('data/').__next__()\n",
    "\n",
    "metadata_files = [file for file in files if file.startswith('metadata')]\n",
    "print(metadata_files)"
   ]
  },
  {
   "cell_type": "code",
   "execution_count": 4,
   "metadata": {
    "slideshow": {
     "slide_type": "skip"
    }
   },
   "outputs": [
    {
     "name": "stdout",
     "output_type": "stream",
     "text": [
      "<class 'pandas.core.frame.DataFrame'>\n",
      "RangeIndex: 12 entries, 0 to 11\n",
      "Data columns (total 10 columns):\n",
      "Protocol     12 non-null object\n",
      "Type         12 non-null object\n",
      "Location     12 non-null object\n",
      "Setup        12 non-null object\n",
      "Mode         12 non-null object\n",
      "Rounds       12 non-null int64\n",
      "Time         12 non-null timedelta64[ns]\n",
      "Count        12 non-null int64\n",
      "SizeBytes    12 non-null int64\n",
      "Size(MB)     12 non-null object\n",
      "dtypes: int64(3), object(6), timedelta64[ns](1)\n",
      "memory usage: 1.0+ KB\n"
     ]
    },
    {
     "data": {
      "text/html": [
       "<div>\n",
       "<style scoped>\n",
       "    .dataframe tbody tr th:only-of-type {\n",
       "        vertical-align: middle;\n",
       "    }\n",
       "\n",
       "    .dataframe tbody tr th {\n",
       "        vertical-align: top;\n",
       "    }\n",
       "\n",
       "    .dataframe thead th {\n",
       "        text-align: right;\n",
       "    }\n",
       "</style>\n",
       "<table border=\"1\" class=\"dataframe\">\n",
       "  <thead>\n",
       "    <tr style=\"text-align: right;\">\n",
       "      <th></th>\n",
       "      <th>Protocol</th>\n",
       "      <th>Type</th>\n",
       "      <th>Location</th>\n",
       "      <th>Setup</th>\n",
       "      <th>Mode</th>\n",
       "      <th>Rounds</th>\n",
       "      <th>Time</th>\n",
       "      <th>Count</th>\n",
       "      <th>SizeBytes</th>\n",
       "      <th>Size(MB)</th>\n",
       "    </tr>\n",
       "  </thead>\n",
       "  <tbody>\n",
       "    <tr>\n",
       "      <th>0</th>\n",
       "      <td>UDP</td>\n",
       "      <td>client</td>\n",
       "      <td>localhost</td>\n",
       "      <td>single</td>\n",
       "      <td>single node</td>\n",
       "      <td>1</td>\n",
       "      <td>00:00:07.183246</td>\n",
       "      <td>273151</td>\n",
       "      <td>9540000</td>\n",
       "      <td>9.54 MB</td>\n",
       "    </tr>\n",
       "    <tr>\n",
       "      <th>1</th>\n",
       "      <td>UDP</td>\n",
       "      <td>server</td>\n",
       "      <td>localhost</td>\n",
       "      <td>single</td>\n",
       "      <td>single node</td>\n",
       "      <td>1</td>\n",
       "      <td>00:00:12.844457</td>\n",
       "      <td>235536</td>\n",
       "      <td>8220000</td>\n",
       "      <td>8.22 MB</td>\n",
       "    </tr>\n",
       "    <tr>\n",
       "      <th>2</th>\n",
       "      <td>UDP</td>\n",
       "      <td>client</td>\n",
       "      <td>localhost</td>\n",
       "      <td>single</td>\n",
       "      <td>single node</td>\n",
       "      <td>2</td>\n",
       "      <td>00:00:07.008885</td>\n",
       "      <td>273151</td>\n",
       "      <td>9540000</td>\n",
       "      <td>9.54 MB</td>\n",
       "    </tr>\n",
       "    <tr>\n",
       "      <th>3</th>\n",
       "      <td>UDP</td>\n",
       "      <td>server</td>\n",
       "      <td>localhost</td>\n",
       "      <td>single</td>\n",
       "      <td>single node</td>\n",
       "      <td>2</td>\n",
       "      <td>00:00:07.009099</td>\n",
       "      <td>232755</td>\n",
       "      <td>8130000</td>\n",
       "      <td>8.13 MB</td>\n",
       "    </tr>\n",
       "    <tr>\n",
       "      <th>4</th>\n",
       "      <td>UDP</td>\n",
       "      <td>client</td>\n",
       "      <td>localhost</td>\n",
       "      <td>single</td>\n",
       "      <td>single node</td>\n",
       "      <td>3</td>\n",
       "      <td>00:00:07.137223</td>\n",
       "      <td>273151</td>\n",
       "      <td>9540000</td>\n",
       "      <td>9.54 MB</td>\n",
       "    </tr>\n",
       "    <tr>\n",
       "      <th>5</th>\n",
       "      <td>UDP</td>\n",
       "      <td>server</td>\n",
       "      <td>localhost</td>\n",
       "      <td>single</td>\n",
       "      <td>single node</td>\n",
       "      <td>3</td>\n",
       "      <td>00:00:07.136707</td>\n",
       "      <td>233548</td>\n",
       "      <td>8170000</td>\n",
       "      <td>8.17 MB</td>\n",
       "    </tr>\n",
       "    <tr>\n",
       "      <th>6</th>\n",
       "      <td>ZeroMQ</td>\n",
       "      <td>client</td>\n",
       "      <td>localhost</td>\n",
       "      <td>single</td>\n",
       "      <td>single node</td>\n",
       "      <td>1</td>\n",
       "      <td>00:00:09.543791</td>\n",
       "      <td>273151</td>\n",
       "      <td>9540000</td>\n",
       "      <td>9.54 MB</td>\n",
       "    </tr>\n",
       "    <tr>\n",
       "      <th>7</th>\n",
       "      <td>ZeroMQ</td>\n",
       "      <td>server</td>\n",
       "      <td>localhost</td>\n",
       "      <td>single</td>\n",
       "      <td>single node</td>\n",
       "      <td>1</td>\n",
       "      <td>00:00:11.574812</td>\n",
       "      <td>271364</td>\n",
       "      <td>9480000</td>\n",
       "      <td>9.48 MB</td>\n",
       "    </tr>\n",
       "    <tr>\n",
       "      <th>8</th>\n",
       "      <td>ZeroMQ</td>\n",
       "      <td>client</td>\n",
       "      <td>localhost</td>\n",
       "      <td>single</td>\n",
       "      <td>single node</td>\n",
       "      <td>2</td>\n",
       "      <td>00:00:09.478591</td>\n",
       "      <td>273151</td>\n",
       "      <td>9540000</td>\n",
       "      <td>9.54 MB</td>\n",
       "    </tr>\n",
       "    <tr>\n",
       "      <th>9</th>\n",
       "      <td>ZeroMQ</td>\n",
       "      <td>server</td>\n",
       "      <td>localhost</td>\n",
       "      <td>single</td>\n",
       "      <td>single node</td>\n",
       "      <td>2</td>\n",
       "      <td>00:00:09.477659</td>\n",
       "      <td>273067</td>\n",
       "      <td>9530000</td>\n",
       "      <td>9.53 MB</td>\n",
       "    </tr>\n",
       "    <tr>\n",
       "      <th>10</th>\n",
       "      <td>ZeroMQ</td>\n",
       "      <td>client</td>\n",
       "      <td>localhost</td>\n",
       "      <td>single</td>\n",
       "      <td>single node</td>\n",
       "      <td>3</td>\n",
       "      <td>00:00:09.367065</td>\n",
       "      <td>273151</td>\n",
       "      <td>9540000</td>\n",
       "      <td>9.54 MB</td>\n",
       "    </tr>\n",
       "    <tr>\n",
       "      <th>11</th>\n",
       "      <td>ZeroMQ</td>\n",
       "      <td>server</td>\n",
       "      <td>localhost</td>\n",
       "      <td>single</td>\n",
       "      <td>single node</td>\n",
       "      <td>3</td>\n",
       "      <td>00:00:09.366702</td>\n",
       "      <td>273113</td>\n",
       "      <td>9540000</td>\n",
       "      <td>9.54 MB</td>\n",
       "    </tr>\n",
       "  </tbody>\n",
       "</table>\n",
       "</div>"
      ],
      "text/plain": [
       "   Protocol    Type   Location   Setup         Mode  Rounds            Time  \\\n",
       "0       UDP  client  localhost  single  single node       1 00:00:07.183246   \n",
       "1       UDP  server  localhost  single  single node       1 00:00:12.844457   \n",
       "2       UDP  client  localhost  single  single node       2 00:00:07.008885   \n",
       "3       UDP  server  localhost  single  single node       2 00:00:07.009099   \n",
       "4       UDP  client  localhost  single  single node       3 00:00:07.137223   \n",
       "5       UDP  server  localhost  single  single node       3 00:00:07.136707   \n",
       "6    ZeroMQ  client  localhost  single  single node       1 00:00:09.543791   \n",
       "7    ZeroMQ  server  localhost  single  single node       1 00:00:11.574812   \n",
       "8    ZeroMQ  client  localhost  single  single node       2 00:00:09.478591   \n",
       "9    ZeroMQ  server  localhost  single  single node       2 00:00:09.477659   \n",
       "10   ZeroMQ  client  localhost  single  single node       3 00:00:09.367065   \n",
       "11   ZeroMQ  server  localhost  single  single node       3 00:00:09.366702   \n",
       "\n",
       "     Count  SizeBytes Size(MB)  \n",
       "0   273151    9540000  9.54 MB  \n",
       "1   235536    8220000  8.22 MB  \n",
       "2   273151    9540000  9.54 MB  \n",
       "3   232755    8130000  8.13 MB  \n",
       "4   273151    9540000  9.54 MB  \n",
       "5   233548    8170000  8.17 MB  \n",
       "6   273151    9540000  9.54 MB  \n",
       "7   271364    9480000  9.48 MB  \n",
       "8   273151    9540000  9.54 MB  \n",
       "9   273067    9530000  9.53 MB  \n",
       "10  273151    9540000  9.54 MB  \n",
       "11  273113    9540000  9.54 MB  "
      ]
     },
     "execution_count": 4,
     "metadata": {},
     "output_type": "execute_result"
    }
   ],
   "source": [
    "lst_df = []\n",
    "\n",
    "for file in metadata_files:\n",
    "    lst_df.append(pd.read_csv(root + file))\n",
    "\n",
    "df = pd.concat(lst_df)\n",
    "df.reset_index(inplace=True)\n",
    "\n",
    "df.Time = pd.to_timedelta(df.Time)\n",
    "df['SizeBytes'] = df['Size(MB)'].apply(utils.parseSize)\n",
    "\n",
    "df = df[['Protocol', 'Type', 'Location',\n",
    "         'Setup', 'Mode', 'Rounds', 'Time',\n",
    "         'Count', 'SizeBytes', 'Size(MB)']]\n",
    "\n",
    "df = df.sort_values('Rounds').sort_values('Protocol')\n",
    "df.reset_index(inplace=True, drop=True)\n",
    "\n",
    "df.info()\n",
    "df.head(df.shape[0])"
   ]
  },
  {
   "cell_type": "markdown",
   "metadata": {
    "slideshow": {
     "slide_type": "skip"
    }
   },
   "source": [
    "# Deltas"
   ]
  },
  {
   "cell_type": "markdown",
   "metadata": {},
   "source": [
    "## Delta UDP"
   ]
  },
  {
   "cell_type": "code",
   "execution_count": 5,
   "metadata": {},
   "outputs": [],
   "source": [
    "delta_udp_time = []\n",
    "delta_udp_count = []\n",
    "delta_udp_bytes = []\n",
    "delta_udp_mb = []"
   ]
  },
  {
   "cell_type": "code",
   "execution_count": 6,
   "metadata": {
    "slideshow": {
     "slide_type": "skip"
    }
   },
   "outputs": [
    {
     "data": {
      "text/html": [
       "<div>\n",
       "<style scoped>\n",
       "    .dataframe tbody tr th:only-of-type {\n",
       "        vertical-align: middle;\n",
       "    }\n",
       "\n",
       "    .dataframe tbody tr th {\n",
       "        vertical-align: top;\n",
       "    }\n",
       "\n",
       "    .dataframe thead th {\n",
       "        text-align: right;\n",
       "    }\n",
       "</style>\n",
       "<table border=\"1\" class=\"dataframe\">\n",
       "  <thead>\n",
       "    <tr style=\"text-align: right;\">\n",
       "      <th></th>\n",
       "      <th>Protocol</th>\n",
       "      <th>Type</th>\n",
       "      <th>Location</th>\n",
       "      <th>Setup</th>\n",
       "      <th>Mode</th>\n",
       "      <th>Rounds</th>\n",
       "      <th>Time</th>\n",
       "      <th>Count</th>\n",
       "      <th>SizeBytes</th>\n",
       "      <th>Size(MB)</th>\n",
       "    </tr>\n",
       "  </thead>\n",
       "  <tbody>\n",
       "    <tr>\n",
       "      <th>0</th>\n",
       "      <td>UDP</td>\n",
       "      <td>client</td>\n",
       "      <td>localhost</td>\n",
       "      <td>single</td>\n",
       "      <td>single node</td>\n",
       "      <td>1</td>\n",
       "      <td>00:00:07.183246</td>\n",
       "      <td>273151</td>\n",
       "      <td>9540000</td>\n",
       "      <td>9.54 MB</td>\n",
       "    </tr>\n",
       "    <tr>\n",
       "      <th>1</th>\n",
       "      <td>UDP</td>\n",
       "      <td>server</td>\n",
       "      <td>localhost</td>\n",
       "      <td>single</td>\n",
       "      <td>single node</td>\n",
       "      <td>1</td>\n",
       "      <td>00:00:12.844457</td>\n",
       "      <td>235536</td>\n",
       "      <td>8220000</td>\n",
       "      <td>8.22 MB</td>\n",
       "    </tr>\n",
       "    <tr>\n",
       "      <th>2</th>\n",
       "      <td>UDP</td>\n",
       "      <td>client</td>\n",
       "      <td>localhost</td>\n",
       "      <td>single</td>\n",
       "      <td>single node</td>\n",
       "      <td>2</td>\n",
       "      <td>00:00:07.008885</td>\n",
       "      <td>273151</td>\n",
       "      <td>9540000</td>\n",
       "      <td>9.54 MB</td>\n",
       "    </tr>\n",
       "    <tr>\n",
       "      <th>3</th>\n",
       "      <td>UDP</td>\n",
       "      <td>server</td>\n",
       "      <td>localhost</td>\n",
       "      <td>single</td>\n",
       "      <td>single node</td>\n",
       "      <td>2</td>\n",
       "      <td>00:00:07.009099</td>\n",
       "      <td>232755</td>\n",
       "      <td>8130000</td>\n",
       "      <td>8.13 MB</td>\n",
       "    </tr>\n",
       "    <tr>\n",
       "      <th>4</th>\n",
       "      <td>UDP</td>\n",
       "      <td>client</td>\n",
       "      <td>localhost</td>\n",
       "      <td>single</td>\n",
       "      <td>single node</td>\n",
       "      <td>3</td>\n",
       "      <td>00:00:07.137223</td>\n",
       "      <td>273151</td>\n",
       "      <td>9540000</td>\n",
       "      <td>9.54 MB</td>\n",
       "    </tr>\n",
       "    <tr>\n",
       "      <th>5</th>\n",
       "      <td>UDP</td>\n",
       "      <td>server</td>\n",
       "      <td>localhost</td>\n",
       "      <td>single</td>\n",
       "      <td>single node</td>\n",
       "      <td>3</td>\n",
       "      <td>00:00:07.136707</td>\n",
       "      <td>233548</td>\n",
       "      <td>8170000</td>\n",
       "      <td>8.17 MB</td>\n",
       "    </tr>\n",
       "  </tbody>\n",
       "</table>\n",
       "</div>"
      ],
      "text/plain": [
       "  Protocol    Type   Location   Setup         Mode  Rounds            Time  \\\n",
       "0      UDP  client  localhost  single  single node       1 00:00:07.183246   \n",
       "1      UDP  server  localhost  single  single node       1 00:00:12.844457   \n",
       "2      UDP  client  localhost  single  single node       2 00:00:07.008885   \n",
       "3      UDP  server  localhost  single  single node       2 00:00:07.009099   \n",
       "4      UDP  client  localhost  single  single node       3 00:00:07.137223   \n",
       "5      UDP  server  localhost  single  single node       3 00:00:07.136707   \n",
       "\n",
       "    Count  SizeBytes Size(MB)  \n",
       "0  273151    9540000  9.54 MB  \n",
       "1  235536    8220000  8.22 MB  \n",
       "2  273151    9540000  9.54 MB  \n",
       "3  232755    8130000  8.13 MB  \n",
       "4  273151    9540000  9.54 MB  \n",
       "5  233548    8170000  8.17 MB  "
      ]
     },
     "execution_count": 6,
     "metadata": {},
     "output_type": "execute_result"
    }
   ],
   "source": [
    "delta_udp = df[df.Protocol == 'UDP']\n",
    "\n",
    "delta_udp"
   ]
  },
  {
   "cell_type": "code",
   "execution_count": 7,
   "metadata": {},
   "outputs": [
    {
     "data": {
      "text/plain": [
       "Timedelta('0 days 00:00:05.661211')"
      ]
     },
     "execution_count": 7,
     "metadata": {},
     "output_type": "execute_result"
    }
   ],
   "source": [
    "(delta_udp.iloc[1].Time - delta_udp.iloc[0].Time)# .seconds"
   ]
  },
  {
   "cell_type": "code",
   "execution_count": 8,
   "metadata": {
    "slideshow": {
     "slide_type": "skip"
    }
   },
   "outputs": [
    {
     "data": {
      "text/plain": [
       "[Timedelta('0 days 00:00:05.661211'),\n",
       " Timedelta('0 days 00:00:00.000214'),\n",
       " Timedelta('0 days 00:00:00.000516')]"
      ]
     },
     "execution_count": 8,
     "metadata": {},
     "output_type": "execute_result"
    }
   ],
   "source": [
    "# delta_udp_time = delta_udp[delta_udp.Type == 'server'].Time - delta_udp[delta_udp.Type == 'client'].Time\n",
    "\n",
    "delta_udp_time.append((delta_udp.iloc[1].Time - delta_udp.iloc[0].Time))\n",
    "delta_udp_time.append((delta_udp.iloc[3].Time - delta_udp.iloc[2].Time))\n",
    "delta_udp_time.append((delta_udp.iloc[4].Time - delta_udp.iloc[5].Time)) # diff\n",
    "\n",
    "delta_udp_time"
   ]
  },
  {
   "cell_type": "code",
   "execution_count": 9,
   "metadata": {},
   "outputs": [
    {
     "data": {
      "application/vnd.plotly.v1+json": {
       "data": [
        {
         "boxpoints": "suspectedoutliers",
         "jitter": 0.3,
         "marker": {
          "color": "rgb(8,81,156)",
          "line": {
           "outliercolor": "rgba(219, 64, 82, 0.6)",
           "outlierwidth": 2
          },
          "outliercolor": "rgba(219, 64, 82, 0.6)"
         },
         "pointpos": -1.8,
         "type": "box",
         "y": [
          "P0D 0H0M5.661211S",
          "P0D 0H0M0.000214S",
          "P0D 0H0M0.000516S"
         ]
        }
       ],
       "layout": {}
      },
      "text/html": [
       "<div id=\"5b2e6b77-1f89-4a3b-ba3f-63fe846588d0\" style=\"height: 525px; width: 100%;\" class=\"plotly-graph-div\"></div><script type=\"text/javascript\">require([\"plotly\"], function(Plotly) { window.PLOTLYENV=window.PLOTLYENV || {};window.PLOTLYENV.BASE_URL=\"https://plot.ly\";Plotly.newPlot(\"5b2e6b77-1f89-4a3b-ba3f-63fe846588d0\", [{\"boxpoints\": \"suspectedoutliers\", \"marker\": {\"line\": {\"outlierwidth\": 2, \"outliercolor\": \"rgba(219, 64, 82, 0.6)\"}, \"outliercolor\": \"rgba(219, 64, 82, 0.6)\", \"color\": \"rgb(8,81,156)\"}, \"type\": \"box\", \"y\": [\"P0D 0H0M5.661211S\", \"P0D 0H0M0.000214S\", \"P0D 0H0M0.000516S\"], \"jitter\": 0.3, \"pointpos\": -1.8}], {}, {\"linkText\": \"Export to plot.ly\", \"showLink\": true})});</script>"
      ],
      "text/vnd.plotly.v1+html": [
       "<div id=\"5b2e6b77-1f89-4a3b-ba3f-63fe846588d0\" style=\"height: 525px; width: 100%;\" class=\"plotly-graph-div\"></div><script type=\"text/javascript\">require([\"plotly\"], function(Plotly) { window.PLOTLYENV=window.PLOTLYENV || {};window.PLOTLYENV.BASE_URL=\"https://plot.ly\";Plotly.newPlot(\"5b2e6b77-1f89-4a3b-ba3f-63fe846588d0\", [{\"boxpoints\": \"suspectedoutliers\", \"marker\": {\"line\": {\"outlierwidth\": 2, \"outliercolor\": \"rgba(219, 64, 82, 0.6)\"}, \"outliercolor\": \"rgba(219, 64, 82, 0.6)\", \"color\": \"rgb(8,81,156)\"}, \"type\": \"box\", \"y\": [\"P0D 0H0M5.661211S\", \"P0D 0H0M0.000214S\", \"P0D 0H0M0.000516S\"], \"jitter\": 0.3, \"pointpos\": -1.8}], {}, {\"linkText\": \"Export to plot.ly\", \"showLink\": true})});</script>"
      ]
     },
     "metadata": {},
     "output_type": "display_data"
    }
   ],
   "source": [
    "y = delta_udp_time\n",
    "\n",
    "trace = [go.Box(\n",
    "    y=y,\n",
    "    jitter=0.3,\n",
    "    pointpos=-1.8,\n",
    "    boxpoints = 'suspectedoutliers',\n",
    "    marker = dict(\n",
    "        color = 'rgb(8,81,156)',\n",
    "        outliercolor = 'rgba(219, 64, 82, 0.6)',\n",
    "        line = dict(\n",
    "            outliercolor = 'rgba(219, 64, 82, 0.6)',\n",
    "            outlierwidth = 2)\n",
    "    ),\n",
    "#     name = name + ' - suspected outliers'\n",
    ")]\n",
    "\n",
    "iplot(trace)"
   ]
  },
  {
   "cell_type": "code",
   "execution_count": 10,
   "metadata": {
    "slideshow": {
     "slide_type": "skip"
    }
   },
   "outputs": [
    {
     "name": "stdout",
     "output_type": "stream",
     "text": [
      "[1320000, 1410000, 1370000]\n",
      "['1.26 MB', '1.34 MB', '1.31 MB']\n"
     ]
    }
   ],
   "source": [
    "# delta_udp_size = delta_udp[delta_udp.Type == 'client'].SizeBytes - delta_udp[delta_udp.Type == 'server'].SizeBytes\n",
    "\n",
    "delta_udp_bytes.append((delta_udp.iloc[0].SizeBytes - delta_udp.iloc[1].SizeBytes))\n",
    "delta_udp_bytes.append((delta_udp.iloc[2].SizeBytes - delta_udp.iloc[3].SizeBytes))\n",
    "delta_udp_bytes.append((delta_udp.iloc[4].SizeBytes - delta_udp.iloc[5].SizeBytes))\n",
    "\n",
    "print(delta_udp_bytes)\n",
    "\n",
    "delta_udp_mb.append(utils.convert_size(delta_udp_bytes[0]))\n",
    "delta_udp_mb.append(utils.convert_size(delta_udp_bytes[1]))\n",
    "delta_udp_mb.append(utils.convert_size(delta_udp_bytes[2]))\n",
    "\n",
    "print(delta_udp_mb)"
   ]
  },
  {
   "cell_type": "code",
   "execution_count": 11,
   "metadata": {},
   "outputs": [
    {
     "data": {
      "application/vnd.plotly.v1+json": {
       "data": [
        {
         "boxpoints": "suspectedoutliers",
         "jitter": 0.3,
         "marker": {
          "color": "rgb(8,81,156)",
          "line": {
           "outliercolor": "rgba(219, 64, 82, 0.6)",
           "outlierwidth": 2
          },
          "outliercolor": "rgba(219, 64, 82, 0.6)"
         },
         "pointpos": -1.8,
         "type": "box",
         "y": [
          1320000,
          1410000,
          1370000
         ]
        }
       ],
       "layout": {}
      },
      "text/html": [
       "<div id=\"d2e2001a-c4c6-47aa-bab9-d01324b7dd97\" style=\"height: 525px; width: 100%;\" class=\"plotly-graph-div\"></div><script type=\"text/javascript\">require([\"plotly\"], function(Plotly) { window.PLOTLYENV=window.PLOTLYENV || {};window.PLOTLYENV.BASE_URL=\"https://plot.ly\";Plotly.newPlot(\"d2e2001a-c4c6-47aa-bab9-d01324b7dd97\", [{\"boxpoints\": \"suspectedoutliers\", \"marker\": {\"line\": {\"outlierwidth\": 2, \"outliercolor\": \"rgba(219, 64, 82, 0.6)\"}, \"outliercolor\": \"rgba(219, 64, 82, 0.6)\", \"color\": \"rgb(8,81,156)\"}, \"type\": \"box\", \"y\": [1320000, 1410000, 1370000], \"jitter\": 0.3, \"pointpos\": -1.8}], {}, {\"linkText\": \"Export to plot.ly\", \"showLink\": true})});</script>"
      ],
      "text/vnd.plotly.v1+html": [
       "<div id=\"d2e2001a-c4c6-47aa-bab9-d01324b7dd97\" style=\"height: 525px; width: 100%;\" class=\"plotly-graph-div\"></div><script type=\"text/javascript\">require([\"plotly\"], function(Plotly) { window.PLOTLYENV=window.PLOTLYENV || {};window.PLOTLYENV.BASE_URL=\"https://plot.ly\";Plotly.newPlot(\"d2e2001a-c4c6-47aa-bab9-d01324b7dd97\", [{\"boxpoints\": \"suspectedoutliers\", \"marker\": {\"line\": {\"outlierwidth\": 2, \"outliercolor\": \"rgba(219, 64, 82, 0.6)\"}, \"outliercolor\": \"rgba(219, 64, 82, 0.6)\", \"color\": \"rgb(8,81,156)\"}, \"type\": \"box\", \"y\": [1320000, 1410000, 1370000], \"jitter\": 0.3, \"pointpos\": -1.8}], {}, {\"linkText\": \"Export to plot.ly\", \"showLink\": true})});</script>"
      ]
     },
     "metadata": {},
     "output_type": "display_data"
    }
   ],
   "source": [
    "y = delta_udp_bytes\n",
    "\n",
    "trace = [go.Box(\n",
    "    y=y,\n",
    "    jitter=0.3,\n",
    "    pointpos=-1.8,\n",
    "    boxpoints = 'suspectedoutliers',\n",
    "    marker = dict(\n",
    "        color = 'rgb(8,81,156)',\n",
    "        outliercolor = 'rgba(219, 64, 82, 0.6)',\n",
    "        line = dict(\n",
    "            outliercolor = 'rgba(219, 64, 82, 0.6)',\n",
    "            outlierwidth = 2)\n",
    "    ),\n",
    "#     name = name + ' - suspected outliers'\n",
    ")]\n",
    "\n",
    "iplot(trace)"
   ]
  },
  {
   "cell_type": "code",
   "execution_count": 12,
   "metadata": {
    "slideshow": {
     "slide_type": "skip"
    }
   },
   "outputs": [
    {
     "name": "stdout",
     "output_type": "stream",
     "text": [
      "[37615, 40396, 39603]\n"
     ]
    }
   ],
   "source": [
    "\n",
    "delta_udp_count.append((delta_udp.iloc[0].Count - delta_udp.iloc[1].Count))\n",
    "delta_udp_count.append((delta_udp.iloc[2].Count - delta_udp.iloc[3].Count))\n",
    "delta_udp_count.append((delta_udp.iloc[4].Count - delta_udp.iloc[5].Count))\n",
    "\n",
    "print(delta_udp_count)"
   ]
  },
  {
   "cell_type": "code",
   "execution_count": 13,
   "metadata": {},
   "outputs": [
    {
     "data": {
      "application/vnd.plotly.v1+json": {
       "data": [
        {
         "boxpoints": "suspectedoutliers",
         "jitter": 0.3,
         "marker": {
          "color": "rgb(8,81,156)",
          "line": {
           "outliercolor": "rgba(219, 64, 82, 0.6)",
           "outlierwidth": 2
          },
          "outliercolor": "rgba(219, 64, 82, 0.6)"
         },
         "pointpos": -1.8,
         "type": "box",
         "y": [
          37615,
          40396,
          39603
         ]
        }
       ],
       "layout": {}
      },
      "text/html": [
       "<div id=\"9d105abc-4027-4fec-9d84-0ceec9e4a8bb\" style=\"height: 525px; width: 100%;\" class=\"plotly-graph-div\"></div><script type=\"text/javascript\">require([\"plotly\"], function(Plotly) { window.PLOTLYENV=window.PLOTLYENV || {};window.PLOTLYENV.BASE_URL=\"https://plot.ly\";Plotly.newPlot(\"9d105abc-4027-4fec-9d84-0ceec9e4a8bb\", [{\"boxpoints\": \"suspectedoutliers\", \"marker\": {\"line\": {\"outlierwidth\": 2, \"outliercolor\": \"rgba(219, 64, 82, 0.6)\"}, \"outliercolor\": \"rgba(219, 64, 82, 0.6)\", \"color\": \"rgb(8,81,156)\"}, \"type\": \"box\", \"y\": [37615, 40396, 39603], \"jitter\": 0.3, \"pointpos\": -1.8}], {}, {\"linkText\": \"Export to plot.ly\", \"showLink\": true})});</script>"
      ],
      "text/vnd.plotly.v1+html": [
       "<div id=\"9d105abc-4027-4fec-9d84-0ceec9e4a8bb\" style=\"height: 525px; width: 100%;\" class=\"plotly-graph-div\"></div><script type=\"text/javascript\">require([\"plotly\"], function(Plotly) { window.PLOTLYENV=window.PLOTLYENV || {};window.PLOTLYENV.BASE_URL=\"https://plot.ly\";Plotly.newPlot(\"9d105abc-4027-4fec-9d84-0ceec9e4a8bb\", [{\"boxpoints\": \"suspectedoutliers\", \"marker\": {\"line\": {\"outlierwidth\": 2, \"outliercolor\": \"rgba(219, 64, 82, 0.6)\"}, \"outliercolor\": \"rgba(219, 64, 82, 0.6)\", \"color\": \"rgb(8,81,156)\"}, \"type\": \"box\", \"y\": [37615, 40396, 39603], \"jitter\": 0.3, \"pointpos\": -1.8}], {}, {\"linkText\": \"Export to plot.ly\", \"showLink\": true})});</script>"
      ]
     },
     "metadata": {},
     "output_type": "display_data"
    }
   ],
   "source": [
    "y = delta_udp_count\n",
    "\n",
    "trace = [go.Box(\n",
    "    y=y,\n",
    "    jitter=0.3,\n",
    "    pointpos=-1.8,\n",
    "    boxpoints = 'suspectedoutliers',\n",
    "    marker = dict(\n",
    "        color = 'rgb(8,81,156)',\n",
    "        outliercolor = 'rgba(219, 64, 82, 0.6)',\n",
    "        line = dict(\n",
    "            outliercolor = 'rgba(219, 64, 82, 0.6)',\n",
    "            outlierwidth = 2)\n",
    "    ),\n",
    "#     name = name + ' - suspected outliers'\n",
    ")]\n",
    "\n",
    "iplot(trace)"
   ]
  },
  {
   "cell_type": "markdown",
   "metadata": {
    "slideshow": {
     "slide_type": "skip"
    }
   },
   "source": [
    "## Delta ZeroMQ"
   ]
  },
  {
   "cell_type": "code",
   "execution_count": 14,
   "metadata": {},
   "outputs": [],
   "source": [
    "delta_zmq_time = []\n",
    "delta_zmq_count = []\n",
    "delta_zmq_bytes = []\n",
    "delta_zmq_mb = []"
   ]
  },
  {
   "cell_type": "code",
   "execution_count": 15,
   "metadata": {
    "slideshow": {
     "slide_type": "skip"
    }
   },
   "outputs": [
    {
     "data": {
      "text/html": [
       "<div>\n",
       "<style scoped>\n",
       "    .dataframe tbody tr th:only-of-type {\n",
       "        vertical-align: middle;\n",
       "    }\n",
       "\n",
       "    .dataframe tbody tr th {\n",
       "        vertical-align: top;\n",
       "    }\n",
       "\n",
       "    .dataframe thead th {\n",
       "        text-align: right;\n",
       "    }\n",
       "</style>\n",
       "<table border=\"1\" class=\"dataframe\">\n",
       "  <thead>\n",
       "    <tr style=\"text-align: right;\">\n",
       "      <th></th>\n",
       "      <th>Protocol</th>\n",
       "      <th>Type</th>\n",
       "      <th>Location</th>\n",
       "      <th>Setup</th>\n",
       "      <th>Mode</th>\n",
       "      <th>Rounds</th>\n",
       "      <th>Time</th>\n",
       "      <th>Count</th>\n",
       "      <th>SizeBytes</th>\n",
       "      <th>Size(MB)</th>\n",
       "    </tr>\n",
       "  </thead>\n",
       "  <tbody>\n",
       "    <tr>\n",
       "      <th>6</th>\n",
       "      <td>ZeroMQ</td>\n",
       "      <td>client</td>\n",
       "      <td>localhost</td>\n",
       "      <td>single</td>\n",
       "      <td>single node</td>\n",
       "      <td>1</td>\n",
       "      <td>00:00:09.543791</td>\n",
       "      <td>273151</td>\n",
       "      <td>9540000</td>\n",
       "      <td>9.54 MB</td>\n",
       "    </tr>\n",
       "    <tr>\n",
       "      <th>7</th>\n",
       "      <td>ZeroMQ</td>\n",
       "      <td>server</td>\n",
       "      <td>localhost</td>\n",
       "      <td>single</td>\n",
       "      <td>single node</td>\n",
       "      <td>1</td>\n",
       "      <td>00:00:11.574812</td>\n",
       "      <td>271364</td>\n",
       "      <td>9480000</td>\n",
       "      <td>9.48 MB</td>\n",
       "    </tr>\n",
       "    <tr>\n",
       "      <th>8</th>\n",
       "      <td>ZeroMQ</td>\n",
       "      <td>client</td>\n",
       "      <td>localhost</td>\n",
       "      <td>single</td>\n",
       "      <td>single node</td>\n",
       "      <td>2</td>\n",
       "      <td>00:00:09.478591</td>\n",
       "      <td>273151</td>\n",
       "      <td>9540000</td>\n",
       "      <td>9.54 MB</td>\n",
       "    </tr>\n",
       "    <tr>\n",
       "      <th>9</th>\n",
       "      <td>ZeroMQ</td>\n",
       "      <td>server</td>\n",
       "      <td>localhost</td>\n",
       "      <td>single</td>\n",
       "      <td>single node</td>\n",
       "      <td>2</td>\n",
       "      <td>00:00:09.477659</td>\n",
       "      <td>273067</td>\n",
       "      <td>9530000</td>\n",
       "      <td>9.53 MB</td>\n",
       "    </tr>\n",
       "    <tr>\n",
       "      <th>10</th>\n",
       "      <td>ZeroMQ</td>\n",
       "      <td>client</td>\n",
       "      <td>localhost</td>\n",
       "      <td>single</td>\n",
       "      <td>single node</td>\n",
       "      <td>3</td>\n",
       "      <td>00:00:09.367065</td>\n",
       "      <td>273151</td>\n",
       "      <td>9540000</td>\n",
       "      <td>9.54 MB</td>\n",
       "    </tr>\n",
       "    <tr>\n",
       "      <th>11</th>\n",
       "      <td>ZeroMQ</td>\n",
       "      <td>server</td>\n",
       "      <td>localhost</td>\n",
       "      <td>single</td>\n",
       "      <td>single node</td>\n",
       "      <td>3</td>\n",
       "      <td>00:00:09.366702</td>\n",
       "      <td>273113</td>\n",
       "      <td>9540000</td>\n",
       "      <td>9.54 MB</td>\n",
       "    </tr>\n",
       "  </tbody>\n",
       "</table>\n",
       "</div>"
      ],
      "text/plain": [
       "   Protocol    Type   Location   Setup         Mode  Rounds            Time  \\\n",
       "6    ZeroMQ  client  localhost  single  single node       1 00:00:09.543791   \n",
       "7    ZeroMQ  server  localhost  single  single node       1 00:00:11.574812   \n",
       "8    ZeroMQ  client  localhost  single  single node       2 00:00:09.478591   \n",
       "9    ZeroMQ  server  localhost  single  single node       2 00:00:09.477659   \n",
       "10   ZeroMQ  client  localhost  single  single node       3 00:00:09.367065   \n",
       "11   ZeroMQ  server  localhost  single  single node       3 00:00:09.366702   \n",
       "\n",
       "     Count  SizeBytes Size(MB)  \n",
       "6   273151    9540000  9.54 MB  \n",
       "7   271364    9480000  9.48 MB  \n",
       "8   273151    9540000  9.54 MB  \n",
       "9   273067    9530000  9.53 MB  \n",
       "10  273151    9540000  9.54 MB  \n",
       "11  273113    9540000  9.54 MB  "
      ]
     },
     "execution_count": 15,
     "metadata": {},
     "output_type": "execute_result"
    }
   ],
   "source": [
    "delta_zmq = df[df.Protocol == 'ZeroMQ']\n",
    "\n",
    "delta_zmq"
   ]
  },
  {
   "cell_type": "code",
   "execution_count": 16,
   "metadata": {
    "slideshow": {
     "slide_type": "skip"
    }
   },
   "outputs": [
    {
     "data": {
      "text/plain": [
       "[Timedelta('0 days 00:00:02.031021'),\n",
       " Timedelta('0 days 00:00:00.000932'),\n",
       " Timedelta('0 days 00:00:00.000363')]"
      ]
     },
     "execution_count": 16,
     "metadata": {},
     "output_type": "execute_result"
    }
   ],
   "source": [
    "# delta_zmq_time = delta_zmq[delta_zmq.Type == 'server'].Time - delta_zmq[delta_zmq.Type == 'client'].Time\n",
    "\n",
    "delta_zmq_time.append((delta_zmq.iloc[1].Time - delta_zmq.iloc[0].Time))\n",
    "delta_zmq_time.append((delta_zmq.iloc[2].Time - delta_zmq.iloc[3].Time)) # diff\n",
    "delta_zmq_time.append((delta_zmq.iloc[4].Time - delta_zmq.iloc[5].Time))\n",
    "\n",
    "delta_zmq_time"
   ]
  },
  {
   "cell_type": "code",
   "execution_count": 17,
   "metadata": {
    "slideshow": {
     "slide_type": "skip"
    }
   },
   "outputs": [
    {
     "name": "stdout",
     "output_type": "stream",
     "text": [
      "[60000, 10000, 0]\n",
      "['1.26 MB', '1.34 MB', '1.31 MB']\n"
     ]
    }
   ],
   "source": [
    "# delta_zmq_size = delta_udp[delta_udp.Type == 'client'].SizeBytes - delta_udp[delta_udp.Type == 'server'].SizeBytes\n",
    "\n",
    "delta_zmq_bytes.append((delta_zmq.iloc[0].SizeBytes - delta_zmq.iloc[1].SizeBytes))\n",
    "delta_zmq_bytes.append((delta_zmq.iloc[2].SizeBytes - delta_zmq.iloc[3].SizeBytes))\n",
    "delta_zmq_bytes.append((delta_zmq.iloc[4].SizeBytes - delta_zmq.iloc[5].SizeBytes))\n",
    "\n",
    "print(delta_zmq_bytes)\n",
    "\n",
    "delta_zmq_mb.append(utils.convert_size(delta_zmq_bytes[0]))\n",
    "delta_zmq_mb.append(utils.convert_size(delta_zmq_bytes[1]))\n",
    "delta_zmq_mb.append(utils.convert_size(delta_zmq_bytes[2]))\n",
    "\n",
    "print(delta_udp_mb)"
   ]
  },
  {
   "cell_type": "code",
   "execution_count": 18,
   "metadata": {
    "slideshow": {
     "slide_type": "skip"
    }
   },
   "outputs": [
    {
     "name": "stdout",
     "output_type": "stream",
     "text": [
      "[37615, 40396, 39603]\n"
     ]
    }
   ],
   "source": [
    "\n",
    "delta_zmq_count.append((delta_zmq.iloc[0].Count - delta_zmq.iloc[1].Count))\n",
    "delta_zmq_count.append((delta_zmq.iloc[2].Count - delta_zmq.iloc[3].Count))\n",
    "delta_zmq_count.append((delta_zmq.iloc[4].Count - delta_zmq.iloc[5].Count))\n",
    "\n",
    "print(delta_udp_count)"
   ]
  },
  {
   "cell_type": "code",
   "execution_count": null,
   "metadata": {
    "slideshow": {
     "slide_type": "skip"
    }
   },
   "outputs": [],
   "source": []
  },
  {
   "cell_type": "code",
   "execution_count": null,
   "metadata": {
    "slideshow": {
     "slide_type": "skip"
    }
   },
   "outputs": [],
   "source": []
  },
  {
   "cell_type": "code",
   "execution_count": null,
   "metadata": {
    "slideshow": {
     "slide_type": "skip"
    }
   },
   "outputs": [],
   "source": []
  },
  {
   "cell_type": "markdown",
   "metadata": {
    "slideshow": {
     "slide_type": "skip"
    }
   },
   "source": [
    "---"
   ]
  }
 ],
 "metadata": {
  "celltoolbar": "Slideshow",
  "hide_input": false,
  "kernelspec": {
   "display_name": "Python 3",
   "language": "python",
   "name": "python3"
  },
  "language_info": {
   "codemirror_mode": {
    "name": "ipython",
    "version": 3
   },
   "file_extension": ".py",
   "mimetype": "text/x-python",
   "name": "python",
   "nbconvert_exporter": "python",
   "pygments_lexer": "ipython3",
   "version": "3.5.2"
  },
  "toc": {
   "base_numbering": 1,
   "nav_menu": {},
   "number_sections": true,
   "sideBar": true,
   "skip_h1_title": false,
   "title_cell": "Table of Contents",
   "title_sidebar": "Contents",
   "toc_cell": false,
   "toc_position": {},
   "toc_section_display": true,
   "toc_window_display": false
  },
  "varInspector": {
   "cols": {
    "lenName": 16,
    "lenType": 16,
    "lenVar": 40
   },
   "kernels_config": {
    "python": {
     "delete_cmd_postfix": "",
     "delete_cmd_prefix": "del ",
     "library": "var_list.py",
     "varRefreshCmd": "print(var_dic_list())"
    },
    "r": {
     "delete_cmd_postfix": ") ",
     "delete_cmd_prefix": "rm(",
     "library": "var_list.r",
     "varRefreshCmd": "cat(var_dic_list()) "
    }
   },
   "types_to_exclude": [
    "module",
    "function",
    "builtin_function_or_method",
    "instance",
    "_Feature"
   ],
   "window_display": false
  }
 },
 "nbformat": 4,
 "nbformat_minor": 2
}
