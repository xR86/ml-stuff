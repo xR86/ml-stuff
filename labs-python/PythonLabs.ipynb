{
 "cells": [
  {
   "cell_type": "markdown",
   "metadata": {},
   "source": [
    "### Lab 1\n",
    "\n"
   ]
  },
  {
   "cell_type": "markdown",
   "metadata": {},
   "source": [
    "1) Cel mai mare divizor comun a mai multor numere (definiti o functie cu numar variabil de parametri care sa rezolve acest lucru)"
   ]
  },
  {
   "cell_type": "code",
   "execution_count": 1,
   "metadata": {
    "collapsed": false
   },
   "outputs": [
    {
     "data": {
      "text/plain": [
       "1"
      ]
     },
     "execution_count": 1,
     "metadata": {},
     "output_type": "execute_result"
    }
   ],
   "source": [
    "def gcd(a,b):\n",
    "    while b:\n",
    "        a,b =  b,a%b\n",
    "    return a\n",
    "\n",
    "def gcdMultiple(*args):\n",
    "    #print(len(args))\n",
    "    #for i in args:\n",
    "        #print(i)\n",
    "    if len(args) < 2:\n",
    "        return -1\n",
    "    for i in range(2,len(args)+1,2):\n",
    "        res = gcd(args[i-2],args[i-1])\n",
    "        fin = gcd(res,args[i-2])\n",
    "    return fin\n",
    "\n",
    "'''\n",
    "def all_cmmdc(*args):\n",
    "    if len(args) == 0:\n",
    "        return -1\n",
    "    cm = cmmdc(args[0],args[1])\n",
    "    for i in args[2:]:\n",
    "        cm = cmmdc(cm,1)\n",
    "    return cm\n",
    "print(all_cmmdc(2,8,6))\n",
    "'''\n",
    "\n",
    "#easier with functools reduce\n",
    "#gcd(6,9) #is good\n",
    "gcdMultiple(3,7,8,9)"
   ]
  },
  {
   "cell_type": "markdown",
   "metadata": {},
   "source": [
    "2) Scrieti o functie care calculeaza cate vocale sunt intr-un sir de caractere."
   ]
  },
  {
   "cell_type": "code",
   "execution_count": 9,
   "metadata": {
    "collapsed": false
   },
   "outputs": [
    {
     "name": "stdout",
     "output_type": "stream",
     "text": [
      "6\n"
     ]
    }
   ],
   "source": [
    "def count_vowels(string):\n",
    "    num_vowels=0\n",
    "    for char in string:\n",
    "        if char in \"aeiouAEIOU\":\n",
    "           num_vowels = num_vowels+1\n",
    "    return num_vowels\n",
    "\n",
    "print count_vowels(\"This is a sentence.\") #6"
   ]
  },
  {
   "cell_type": "markdown",
   "metadata": {},
   "source": [
    "3) Scrieti o functie care returneaza numarul de cuvinte care exista intr-un string. Cuvintele sunt separate de spatii, semne de punctuatie (, ;, ? ! . )"
   ]
  },
  {
   "cell_type": "code",
   "execution_count": 73,
   "metadata": {
    "collapsed": false
   },
   "outputs": [
    {
     "name": "stdout",
     "output_type": "stream",
     "text": [
      "3\n"
     ]
    }
   ],
   "source": [
    "def countWords(text):\n",
    "    #you should take into account various separators\n",
    "    # oneliner example:\n",
    "    wordList = ''.join(ch if ch.isalnum() else ' ' for ch in text).split()\n",
    "    #wordList = text.split(' ')\n",
    "    return len(wordList)\n",
    "\n",
    "print countWords(\"Hello, hello; gigi ?\") #3\n"
   ]
  },
  {
   "cell_type": "markdown",
   "metadata": {},
   "source": [
    "# 4) Scrieti o functie care primeste ca parametri doua siruri de caractere si care returneaza numarul de aparitii ale primului sir de caractere in al doilea."
   ]
  },
  {
   "cell_type": "code",
   "execution_count": null,
   "metadata": {
    "collapsed": true
   },
   "outputs": [],
   "source": []
  },
  {
   "cell_type": "markdown",
   "metadata": {},
   "source": [
    "# 5) Scrieti o functie care verifica daca un sir de caractere contine caractere speciale (\\r, \\t, \\n, \\a, \\b, \\f, \\v)"
   ]
  },
  {
   "cell_type": "code",
   "execution_count": 80,
   "metadata": {
    "collapsed": false
   },
   "outputs": [
    {
     "name": "stdout",
     "output_type": "stream",
     "text": [
      "0\n"
     ]
    }
   ],
   "source": [
    "def special_chars_str(special_str):\n",
    "    print special_str.find('\\t')\n",
    "\n",
    "special_str = \"\\t Ceva si inca ceva\\n\"\n",
    "special_chars_str(special_str)"
   ]
  },
  {
   "cell_type": "markdown",
   "metadata": {},
   "source": [
    "# 6) Scrieti o functie care converteste in sir de caractere scris UpperCamelCase in lowercase_with_underscores."
   ]
  },
  {
   "cell_type": "code",
   "execution_count": 2,
   "metadata": {
    "collapsed": false
   },
   "outputs": [
    {
     "name": "stdout",
     "output_type": "stream",
     "text": [
      "['U', 'p', 'p', 'e', 'r', 'C', 'a', 'm', 'e', 'l', 'C', 'a', 's', 'e']\n",
      "[0, 1, 2, 3, 4, 5, 6, 7, 8, 9, 10, 11, 12, 13]\n",
      "['_', '_', '_', '_', '_', '_', '_', '_', '_', '_', '_', '_', '_', '_', 'U', 'p', 'p', 'e', 'r', 'C', 'a', 'm', 'e', 'l', 'C', 'a', 's', 'e']\n",
      "______________UpperCamelCase\n"
     ]
    },
    {
     "data": {
      "text/plain": [
       "'______________UpperCamelCase'"
      ]
     },
     "execution_count": 2,
     "metadata": {},
     "output_type": "execute_result"
    }
   ],
   "source": [
    "def camelcase_to_underscores(code):\n",
    "    code = list(code)\n",
    "    print code\n",
    "    print range(len(code))\n",
    "    for i in range(len(code)):\n",
    "        if code[i].isupper():\n",
    "            code.insert(i, '_')\n",
    "    \n",
    "    print code\n",
    "    code = ''.join(code)\n",
    "    code.lower()\n",
    "    print code\n",
    "    return code\n",
    "    '''for ch in code:\n",
    "        if ch.isupper():\n",
    "            code.insert(counter, '_')\n",
    "        counter += 1'''\n",
    "\n",
    "\n",
    "camelcase_to_underscores('UpperCamelCase') #upper_camel_case"
   ]
  },
  {
   "cell_type": "markdown",
   "metadata": {},
   "source": [
    "# 7) Scrieti o functie care primeste un integer char_len si un numar variabil de parametri (siruri de caractere) si verifica daca fiecare doua string-uri vecine respecta urmatoarea regula: al doilea string incepe cu ultimile char_len caractere a primului string (ca la fazan)."
   ]
  },
  {
   "cell_type": "code",
   "execution_count": null,
   "metadata": {
    "collapsed": true
   },
   "outputs": [],
   "source": []
  },
  {
   "cell_type": "markdown",
   "metadata": {},
   "source": [
    "8) Se da un sir de caractere care reprezinta un polinom (Ex: \"3x^3 + 5x^2 - 2x - 5\") si un numar (intreg sau float). Sa se evalueze polinomul respectiv pentru valoarea data."
   ]
  },
  {
   "cell_type": "code",
   "execution_count": null,
   "metadata": {
    "collapsed": true
   },
   "outputs": [],
   "source": []
  },
  {
   "cell_type": "markdown",
   "metadata": {},
   "source": [
    "# 9) Scrieti o functie care sa returneze cel mai mare numar prim dintr-un sir de caractere dat ca parametru sau -1 daca sirul de caractere nu contine nici un numar prim. Ex: input: 'ahsfaisd35biaishai23isisvdshcbsi271cidsbfsd97sidsda'; output: 271"
   ]
  },
  {
   "cell_type": "code",
   "execution_count": 4,
   "metadata": {
    "collapsed": false
   },
   "outputs": [
    {
     "name": "stdout",
     "output_type": "stream",
     "text": [
      "number ready:  []\n",
      "number ready:  []\n",
      "number ready:  []\n",
      "number ready:  []\n",
      "['', '', '', '']\n"
     ]
    }
   ],
   "source": [
    "def bigPrime(string):\n",
    "    #cifre = ['0', '1', '2']\n",
    "    number = []\n",
    "    numbers = []\n",
    "    for i in range(0, len(string)):\n",
    "        if string[i].isdigit():\n",
    "            number.append(string[i])\n",
    "        elif not number:\n",
    "            print 'number ready: ', number\n",
    "            numbers.append(''.join(number))\n",
    "\n",
    "    return numbers\n",
    "\n",
    "print bigPrime('Ceva01ceffa212kjsda1') #01, 212, 1"
   ]
  },
  {
   "cell_type": "markdown",
   "metadata": {},
   "source": [
    "---"
   ]
  },
  {
   "cell_type": "markdown",
   "metadata": {},
   "source": [
    "### Lab 2\n",
    "\n"
   ]
  },
  {
   "cell_type": "markdown",
   "metadata": {},
   "source": [
    "1) Sa se scrie o functie care sa returneze o lista cu primele n numere din sirul lui Fibonacci."
   ]
  },
  {
   "cell_type": "code",
   "execution_count": 14,
   "metadata": {
    "collapsed": false
   },
   "outputs": [
    {
     "name": "stdout",
     "output_type": "stream",
     "text": [
      "[0, 1, 1, 2, 3, 5] , length = 6\n"
     ]
    }
   ],
   "source": [
    "def fibonacci(n):\n",
    "    fibo_list = [0, 1]\n",
    "    \n",
    "    for i in range(2, n):\n",
    "        fibo_list.append(fibo_list[i-1] + fibo_list[i-2])\n",
    "    \n",
    "    return fibo_list\n",
    "\n",
    "fibo_list = fibonacci(6)\n",
    "print fibo_list, \", length =\", len(fibo_list)"
   ]
  },
  {
   "cell_type": "markdown",
   "metadata": {},
   "source": [
    "2) Sa se scrie o functie care primeste o lista de numere si returneaza o lista cu numerele prime care se gasesc in ea."
   ]
  },
  {
   "cell_type": "code",
   "execution_count": 84,
   "metadata": {
    "collapsed": false
   },
   "outputs": [
    {
     "data": {
      "text/plain": [
       "[2, 3, 5]"
      ]
     },
     "execution_count": 84,
     "metadata": {},
     "output_type": "execute_result"
    }
   ],
   "source": [
    "def isPrime(n):\n",
    "    if n==2 or n==3: return True\n",
    "    if n%2==0 or n<2: return False\n",
    "    for i in range(3,int(n**0.5)+1,2):   # only odd numbers\n",
    "        if n%i==0:\n",
    "            return False    \n",
    "    return True\n",
    "\n",
    "\n",
    "def prime_sublist(numbers):\n",
    "    sublist = []\n",
    "    for i in numbers:\n",
    "        if isPrime(i):\n",
    "            sublist.append(i)\n",
    "    return sublist\n",
    "\n",
    "prime_sublist([0, 1, 2, 3, 4, 5])"
   ]
  },
  {
   "cell_type": "markdown",
   "metadata": {},
   "source": [
    "# 3) Fie un tuplu (x,y) reprezentarea unui punct intr-un sistem cartezian. Sa se scrie o functie care primeste ca parametru o lista de puncte si returneaza o lista de tuple (a,b,c) unice care reprezinta dreptele unice determinate de acele puncte ( (a,b,c) corespunde dreptei ax + by + c = 0)."
   ]
  },
  {
   "cell_type": "code",
   "execution_count": 15,
   "metadata": {
    "collapsed": true
   },
   "outputs": [],
   "source": [
    "def lines():\n",
    "    pass\n",
    "\n",
    "points = [(1,2), (0,1), (3,1)]\n",
    "\n"
   ]
  },
  {
   "cell_type": "markdown",
   "metadata": {},
   "source": [
    "# 4) Sa se scrie o functie care primeste ca parametri doua liste a si b si returneaza: (a intersectat cu b, a reunit cu b, a - b, b - a)"
   ]
  },
  {
   "cell_type": "code",
   "execution_count": null,
   "metadata": {
    "collapsed": true
   },
   "outputs": [],
   "source": []
  },
  {
   "cell_type": "markdown",
   "metadata": {},
   "source": [
    "5) Sa se scrie o functie care primeste ca parametru o lista x, si un numar k. Sa se returneze o lista cu tuple care sa reprezinte combinari de len(x) luate cate k din lista x. Exemplu: pentru lista x = [1,2,3,4] si k = 3 se va returna [(1, 2, 3), (1, 2, 4), (1, 3, 4), (2, 3, 4)]."
   ]
  },
  {
   "cell_type": "code",
   "execution_count": 88,
   "metadata": {
    "collapsed": false
   },
   "outputs": [
    {
     "name": "stdout",
     "output_type": "stream",
     "text": [
      "[(1, 2, 3), (1, 2, 4), (1, 3, 4), (2, 3, 4)]\n"
     ]
    }
   ],
   "source": [
    "import itertools\n",
    "\n",
    "def combinations(x,k):\n",
    "    return list(itertools.combinations(x,k))\n",
    "\n",
    "x = [1, 2, 3, 4]\n",
    "k = 3\n",
    "print combinations(x,k)"
   ]
  },
  {
   "cell_type": "markdown",
   "metadata": {},
   "source": [
    "# 6) Sa se scrie o functie care primeste ca parametru un numar variabil de liste si un numar intreg x. Sa se returneze o lista care sa contina elementele care apar de exact x ori in listele primite. Exemplu: pentru listele [1,2,3], [2,3,4], [4,5,6], [4, 1, \"test\"] si x = 2 se va returna [1, 2, 3, 4] # 1 se afla in lista 1 si 4, 2 se afla in lista 1 si 2, 3 se afla in listele 1 si 2, 4 se afla in listele 2 si 3."
   ]
  },
  {
   "cell_type": "code",
   "execution_count": null,
   "metadata": {
    "collapsed": true
   },
   "outputs": [],
   "source": []
  },
  {
   "cell_type": "markdown",
   "metadata": {},
   "source": [
    "# 7) Sa se scrie o functie care primeste ca parametri un numar x default egal cu 1, un numar variabil de siruri de caractere si un flag boolean setat default pe True. Pentru fiecare sir de caractere, sa se genereze o lista care sa contina caracterele care au codul ASCII divizibil cu x in caz ca flag-ul este setat pe True, in caz contrar sa contina caracterele care au codul ASCII nedivizibil cu x. Exemplu: x=2, \"test\", \"hello\", \"lab002\", flag=False va returna ([\"e\", \"s\"], [\"e\", \"o\"], [\"a\"]). Atentie: functia trebuie sa returneze un numar variabil de liste care sa corespunda cu numarul de siruri de caractere primite ca input."
   ]
  },
  {
   "cell_type": "code",
   "execution_count": null,
   "metadata": {
    "collapsed": true
   },
   "outputs": [],
   "source": []
  },
  {
   "cell_type": "markdown",
   "metadata": {},
   "source": [
    "# 8) Sa se scrie o functie care primeste un numar variabil de liste si returneaza o lista de tuple astfel: primul tuplu sa contina primele elemente din liste, al doilea element sa contina elementele de pe pozitia 2 din liste, etc. Ex: pentru listele [1,2,3], [5,6,7], [\"a\", \"b\", \"c\"] se va returna: [(1,5,\"a\"), (2,6,\"b\"), (3,7,\"c\")]. Observatie: In cazul in care listele primite ca input nu au acelasi numar de elemente, elementele lipsa vor fi inlocuite cu None pentru a putea fi generate max([len(x) for x in input_lists]) tuple."
   ]
  },
  {
   "cell_type": "code",
   "execution_count": null,
   "metadata": {
    "collapsed": true
   },
   "outputs": [],
   "source": []
  },
  {
   "cell_type": "markdown",
   "metadata": {},
   "source": [
    "9) Să se scrie o funție ce va ordona o listă de tuple de string-uri în funcție de al 3-lea caracter al celui de-al 2-lea element din tuplă. Exemplu: [('abc', 'bcd'), ('abc', 'zza')] ==> [('abc', 'zza'), ('abc', 'bcd')]"
   ]
  },
  {
   "cell_type": "code",
   "execution_count": 66,
   "metadata": {
    "collapsed": true
   },
   "outputs": [],
   "source": [
    "def sort_special(tpl):\n",
    "    pass\n",
    "sort_special([('abc', 'bcd'), ('abc', 'zza')])"
   ]
  },
  {
   "cell_type": "markdown",
   "metadata": {},
   "source": [
    "---"
   ]
  },
  {
   "cell_type": "markdown",
   "metadata": {},
   "source": [
    "### Lab 3\n",
    "\n"
   ]
  },
  {
   "cell_type": "markdown",
   "metadata": {},
   "source": [
    "\n",
    "1) Sa se scrie o functie care primeste ca parametri doua liste a si b si returneaza un tuplu de seturi care sa contina: (a intersectat cu b, a reunit cu b, a - b, b - a)\n",
    "  "
   ]
  },
  {
   "cell_type": "code",
   "execution_count": 1,
   "metadata": {
    "collapsed": false
   },
   "outputs": [
    {
     "name": "stdout",
     "output_type": "stream",
     "text": [
      "('join: ', set([1, 2, 3, 4, 5, 6]))\n",
      "('intersection: ', set([3, 4]))\n",
      "('a-b: ', set([1, 2]))\n",
      "('b-a: ', set([5, 6]))\n"
     ]
    },
    {
     "data": {
      "text/plain": [
       "({1, 2, 3, 4, 5, 6}, {3, 4}, {1, 2}, {5, 6})"
      ]
     },
     "execution_count": 1,
     "metadata": {},
     "output_type": "execute_result"
    }
   ],
   "source": [
    "def makeOperations(a,b):\n",
    "    operations = []\n",
    "    join = a | b\n",
    "    print('join: ', join)\n",
    "    operations.append(join)\n",
    "    \n",
    "    intersection = a & b\n",
    "    print('intersection: ', intersection)\n",
    "    operations.append(intersection)\n",
    "    \n",
    "    diffA = a - b\n",
    "    diffB = b - a\n",
    "    print('a-b: ', diffA)\n",
    "    print('b-a: ', diffB)\n",
    "    operations.append(diffA)\n",
    "    operations.append(diffB)\n",
    "    \n",
    "    return tuple(operations)\n",
    "    \n",
    "\n",
    "a = set([1,2,3,4])\n",
    "b = set([3,4,5,6])\n",
    "\n",
    "makeOperations(a,b)"
   ]
  },
  {
   "cell_type": "markdown",
   "metadata": {},
   "source": [
    "2) Scrieti o functie care primeste ca parametru un sir de caractere si returneaza un dictionar in care cheile sunt caracterele dn componenta sirului de caractere iar valorile sunt reprezentate de numarul de aparitii ale caracterului respectiv in textul dat.\n",
    "Exemplu: Pentru sirul \"Ana are mere.\" dat ca parametru functia va returna dictionarul: {'A': 1, ' ': 2, 'n': 1, 'a': 2, 'r': 2, 'e': 3, 'm': 1, '.': 1}."
   ]
  },
  {
   "cell_type": "code",
   "execution_count": 16,
   "metadata": {
    "collapsed": false
   },
   "outputs": [
    {
     "name": "stdout",
     "output_type": "stream",
     "text": [
      "{'a': 0, 'n': 0, 'A': 0, ' ': 0, 'r': 0, 'e': 0, 'm': 0}\n",
      "{'a': 2, 'n': 1, 'A': 1, ' ': 2, 'r': 2, 'e': 3, 'm': 1}\n"
     ]
    }
   ],
   "source": [
    "def createFreqDict(phrase):\n",
    "    #chList = phrase.split(' ')\n",
    "    #print(dict(chList))\n",
    "    \n",
    "    freqDict = {}\n",
    "    for i in phrase:\n",
    "        freqDict[i] = 0\n",
    "    print(freqDict)\n",
    "    \n",
    "    for i in phrase:\n",
    "        freqDict[i] += 1\n",
    "    print(freqDict)\n",
    "    \n",
    "createFreqDict('Ana are mere')"
   ]
  },
  {
   "cell_type": "markdown",
   "metadata": {},
   "source": [
    "# 3) Sa se compare doua dictionare fara a folosi operatorul \"==\" si sa se returneze un tuplu de liste de diferente astfel: (cheile_comune_dar_cu_valori_diferite, cheile_care_se_gasesc_doar_in_primul_dict, cheile_care_se_gasesc_doar_in_al_doilea_dict). (Atentie, dictionarele trebuiesc parcurse recursiv deoarece la randul lor pot contine alte containere, cum ar fi dictionare, liste, set-uri, etc)\n"
   ]
  },
  {
   "cell_type": "code",
   "execution_count": 8,
   "metadata": {
    "collapsed": false
   },
   "outputs": [
    {
     "name": "stdout",
     "output_type": "stream",
     "text": [
      "set(['c', 'd'])\n"
     ]
    }
   ],
   "source": [
    "dict1 = {'a': 1, 'b': 2, 'c': 3, 'd': 4}\n",
    "dict2 = {'c': 3, 'd': 5, 'e': 5}\n",
    "\n",
    "dict1Keys = set(dict1.keys())\n",
    "dict2Keys = set(dict2.keys())\n",
    "\n",
    "intersection = dict1Keys & dict2Keys\n",
    "print intersection\n",
    "    "
   ]
  },
  {
   "cell_type": "markdown",
   "metadata": {
    "collapsed": true
   },
   "source": [
    "# 4) Fie functia build_xml_element care primeste urmatorii parametri: tag, content si elemente cheie-valoare date ca parametri cu nume. Sa se construiasca si sa se returneze un string care reprezinta elementul XML aferent. Exemplu: \n",
    "  \n",
    "`build_xml_element(\"a\", \"Hello there\", href=\"http://python.org\", _class=\"my-link\", id=\"someid\") => \"<a href=\\\"http://python.org\\\" _class=\\\"my-link\\\" id=\\\"someid\\\">Hello there</a>\"`"
   ]
  },
  {
   "cell_type": "code",
   "execution_count": 11,
   "metadata": {
    "collapsed": false
   },
   "outputs": [],
   "source": [
    "def build_xml_element(tag, content, **Kwargs):\n",
    "    string = []\n",
    "    \n",
    "    #return string.join()\n",
    "\n",
    "\n",
    "\n",
    "build_xml_element(\"a\", \"Hello there\", href=\"http://python.org\", _class=\"my-link\", id=\"someid\")\n"
   ]
  },
  {
   "cell_type": "markdown",
   "metadata": {
    "collapsed": true
   },
   "source": [
    "# 5) Fie functia validate_dict care primeste ca parametru un set de tuple care reprezinta reguli de validare pentru un dictionar cu chei de tipul string si valori tot de tipul string si un dictionare. O regula este definita astfel: (cheie, \"prefix\", \"middle\", \"sufix\"). O valoare este considerata valida daca incepe cu \"prefix\", \"middle\" se gaseste in interiorul valorii (nu la inceput sau sfarsit) si se sfarsete cu \"sufix\". Functia va returna True daca dictionarul dat ca parametru respecta toate regulile, False in caz contrar. \n",
    "Exemplu: regulile [(\"key1\", \"\", \"inside\", \"\"), (\"key2\", \"start\", \"middle\", \"winter\")] si dictionarul {\"key2\": \"starting the engine in the middle of the winter\", \"key1\": \"come inside, it's too cold outside\", \"key3\": \"this is not valid\"} => False deoarece desi regulile sunt respectate pentru \"key1\" si \"key2\", apare \"key3\" care nu apare in reguli."
   ]
  },
  {
   "cell_type": "code",
   "execution_count": null,
   "metadata": {
    "collapsed": true
   },
   "outputs": [],
   "source": []
  },
  {
   "cell_type": "markdown",
   "metadata": {},
   "source": [
    "6) Fie un dictionar global\n",
    "```python\n",
    "{    \n",
    "    \"+\": lambda a, b: a + b,     \n",
    "    \"*\": lambda a, b: a * b,\n",
    "    \"/\": lambda a, b: a / b,\n",
    "    \"%\": lambda a, b: a % b\n",
    "}```\n",
    " Sa se construiasca o functie `apply_operator(operator, a, b)` care va aplica peste a si b regula specificata de dictionarul global. Sa se implementeze astfel incat, in cazul adaugarii unui operator nou, sa nu fie necesara modificarea functiei. "
   ]
  },
  {
   "cell_type": "code",
   "execution_count": 65,
   "metadata": {
    "collapsed": false
   },
   "outputs": [
    {
     "data": {
      "text/plain": [
       "5"
      ]
     },
     "execution_count": 65,
     "metadata": {},
     "output_type": "execute_result"
    }
   ],
   "source": [
    "rules = {    \n",
    "    \"+\": lambda a, b: a + b,     \n",
    "    \"*\": lambda a, b: a * b,\n",
    "    \"/\": lambda a, b: a / b,\n",
    "    \"%\": lambda a, b: a % b\n",
    "}\n",
    "\n",
    "def apply_operator(operator, a, b):\n",
    "    return rules[operator](a,b)\n",
    "    \n",
    "apply_operator(\"+\", 2, 3)"
   ]
  },
  {
   "cell_type": "markdown",
   "metadata": {},
   "source": [
    "# 7) Fie un dictionar global definit asemanator cu cel de mai sus, cu deosebirea ca functiile date ca valori ale dictionarului poate primi orice combinatie de parametri. Sa se scrie o functie apply_function care primeste ca parametru numele unei operatii si aplica functia corespunzatoare peste argumentele primite. Sa se implementeze astfel incat, in cazul adaugarii unei functii noi, sa nu fie necesara modificarea functiei apply_function.\n",
    "\n",
    "Un exemplu de dictionar global ar putea fi urmatorul:\n",
    "```python\n",
    "{\n",
    "    \"print_all\": lambda *a, **k: print(a, k),\n",
    "    \"print_args_commas\": lambda *a, **k: print(a, k, sep=\", \"),\n",
    "    \"print_only_args\": lambda *a, **k: print(a),\n",
    "    \"print_only_kwargs\": lambda *a, **k: print(k)\n",
    "}```"
   ]
  },
  {
   "cell_type": "code",
   "execution_count": null,
   "metadata": {
    "collapsed": true
   },
   "outputs": [],
   "source": []
  },
  {
   "cell_type": "markdown",
   "metadata": {},
   "source": [
    "8) Sa se scrie o functie care primeste ca parametru un set si returneaza un tuplu (a, b), a reprezentand numarul de elemente unice din set iar b reprezentand numarul de elemente duplicate din set.\n",
    "\n",
    "obs: Elementele din set-uri sunt in mod implicit unice. De exemplu, daca declar setul my_set = {1,1,2,2,3,3,4,5,5}, atunci cand il voi afisa imi va aparea doar {1,2,3,4,5}."
   ]
  },
  {
   "cell_type": "code",
   "execution_count": 2,
   "metadata": {
    "collapsed": false
   },
   "outputs": [
    {
     "name": "stdout",
     "output_type": "stream",
     "text": [
      "(5, 0)\n"
     ]
    }
   ],
   "source": [
    "def tuple_unique(my_set):\n",
    "    return (len(my_set),0)\n",
    "\n",
    "my_set = {1,1,2,2,3,3,4,5,5}\n",
    "print tuple_unique(my_set)\n"
   ]
  },
  {
   "cell_type": "markdown",
   "metadata": {},
   "source": [
    "9) Sa se scrie o functie care primeste un numar variabil de seturi si returneaza un dictionar cu urmatoarele operatii dintre toate seturile doua cate doua: reuniune, intersectie, a-b, b-a. Cheia va avea urmatoarea forma: \"a op b\", unde a si b sunt doua seturi, iar op este operatorul aplicat: |, &, -. \n",
    "Ex: {1,2}, {2, 3} =>\n",
    "```python\n",
    "{\n",
    "    \"{1, 2} | {2, 3}\": 3,\n",
    "    \"{1, 2} & {2, 3}\": 1,\n",
    "    \"{1, 2} - {2, 3}\": 1,\n",
    "    ...\n",
    "}```"
   ]
  },
  {
   "cell_type": "code",
   "execution_count": 56,
   "metadata": {
    "collapsed": false
   },
   "outputs": [
    {
     "name": "stdout",
     "output_type": "stream",
     "text": [
      "join:  set([1, 2, 3])\n",
      "intersection:  set([2])\n",
      "a-b:  set([1])\n",
      "b-a:  set([3])\n",
      "{'{1, 2} | {2, 3}': [1, 2, 3], '{2, 3} - {1, 2}': [3], '{1, 2} & {2, 3}': [2], '{1, 2} - {2, 3}': [1]} <type 'dict'>\n"
     ]
    }
   ],
   "source": [
    "import json\n",
    "\n",
    "def set_operations_serialize(*args):\n",
    "    if len(args) < 2:\n",
    "        print 'You need at least 2 operands'\n",
    "        return\n",
    "    \n",
    "    operations = {}\n",
    "    a = args[0]\n",
    "    b = args[1]\n",
    "    str_a = \"{\" + \", \".join(str(elem) for elem in a) + \"}\"\n",
    "    str_b = \"{\" + \", \".join(str(elem) for elem in b) + \"}\"\n",
    "    \n",
    "    join = a | b\n",
    "    operations[str_a + \" | \" + str_b] = list(join)\n",
    "    print 'join: ', join\n",
    "    \n",
    "    intersection = a & b\n",
    "    operations[str_a + \" & \" + str_b] = list(intersection)\n",
    "    print 'intersection: ', intersection\n",
    "    \n",
    "    diffA = a - b\n",
    "    diffB = b - a\n",
    "    operations[str_a + \" - \" + str_b] = list(diffA)\n",
    "    operations[str_b + \" - \" + str_a] = list(diffB)\n",
    "    print 'a-b: ', diffA\n",
    "    print 'b-a: ', diffB\n",
    "    \n",
    "    return operations\n",
    "\n",
    "\n",
    "result = set_operations_serialize({1,2}, {2,3})\n",
    "print result, type(result)\n",
    "\n",
    "with open('data.json', 'w+') as fp:\n",
    "    json.dump(result, fp, sort_keys=True, indent=4)"
   ]
  },
  {
   "cell_type": "markdown",
   "metadata": {},
   "source": [
    "---"
   ]
  },
  {
   "cell_type": "code",
   "execution_count": null,
   "metadata": {
    "collapsed": true
   },
   "outputs": [],
   "source": []
  }
 ],
 "metadata": {
  "kernelspec": {
   "display_name": "Python 2",
   "language": "python",
   "name": "python2"
  },
  "language_info": {
   "codemirror_mode": {
    "name": "ipython",
    "version": 2
   },
   "file_extension": ".py",
   "mimetype": "text/x-python",
   "name": "python",
   "nbconvert_exporter": "python",
   "pygments_lexer": "ipython2",
   "version": "2.7.12"
  }
 },
 "nbformat": 4,
 "nbformat_minor": 1
}
