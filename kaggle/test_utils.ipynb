{
 "cells": [
  {
   "cell_type": "markdown",
   "metadata": {},
   "source": [
    "# utils_os.py"
   ]
  },
  {
   "cell_type": "code",
   "execution_count": 1,
   "metadata": {},
   "outputs": [],
   "source": [
    "import os"
   ]
  },
  {
   "cell_type": "code",
   "execution_count": 2,
   "metadata": {},
   "outputs": [],
   "source": [
    "root, dirs, files = os.walk('../').__next__()"
   ]
  },
  {
   "cell_type": "code",
   "execution_count": 3,
   "metadata": {},
   "outputs": [
    {
     "name": "stdout",
     "output_type": "stream",
     "text": [
      "../\n",
      "---\n",
      "['labs-python', '.ipynb_checkpoints', 'labs-neural-networks', '.git', 'kaggle', '.idea', 'labs-AI', 'labs-machine-learning']\n",
      "---\n",
      "['start-jupyter.bat', 'README.md', 'LICENSE', '.gitignore']\n",
      "---\n"
     ]
    }
   ],
   "source": [
    "print(root, end='\\n---\\n')\n",
    "print(dirs, end='\\n---\\n')\n",
    "print(files, end='\\n---\\n')"
   ]
  },
  {
   "cell_type": "code",
   "execution_count": 4,
   "metadata": {},
   "outputs": [
    {
     "data": {
      "text/plain": [
       "['.gitignore']"
      ]
     },
     "execution_count": 4,
     "metadata": {},
     "output_type": "execute_result"
    }
   ],
   "source": [
    "lst = list(filter(None, map(lambda x: x if x.startswith('.') else None, files)))\n",
    "lst"
   ]
  },
  {
   "cell_type": "markdown",
   "metadata": {},
   "source": [
    "# utils_graph.py"
   ]
  },
  {
   "cell_type": "code",
   "execution_count": 28,
   "metadata": {},
   "outputs": [],
   "source": [
    "from utils_graph import * # jp_display_color_palette\n",
    "import utils_graph"
   ]
  },
  {
   "cell_type": "code",
   "execution_count": 29,
   "metadata": {
    "scrolled": true
   },
   "outputs": [
    {
     "data": {
      "text/html": [
       "<div style=\"background-color: rgb(0, 107, 164); display: inline-block; padding: 2rem; margin: 0.1rem; border-radius: 5%\">cb_blue_1</div><div style=\"background-color: rgb(95, 158, 209); display: inline-block; padding: 2rem; margin: 0.1rem; border-radius: 5%\">cb_blue_2</div><div style=\"background-color: rgb(162, 200, 236); display: inline-block; padding: 2rem; margin: 0.1rem; border-radius: 5%\">cb_blue_3</div><div style=\"background-color: rgb(89, 89, 89); display: inline-block; padding: 2rem; margin: 0.1rem; border-radius: 5%\">cb_grey_1</div><div style=\"background-color: rgb(137, 137, 137); display: inline-block; padding: 2rem; margin: 0.1rem; border-radius: 5%\">cb_grey_2</div><div style=\"background-color: rgb(171, 171, 171); display: inline-block; padding: 2rem; margin: 0.1rem; border-radius: 5%\">cb_grey_3</div><div style=\"background-color: rgb(207, 207, 207); display: inline-block; padding: 2rem; margin: 0.1rem; border-radius: 5%\">cb_grey_4</div><div style=\"background-color: rgb(200, 82, 0); display: inline-block; padding: 2rem; margin: 0.1rem; border-radius: 5%\">cb_orange_1</div><div style=\"background-color: rgb(255, 128, 14); display: inline-block; padding: 2rem; margin: 0.1rem; border-radius: 5%\">cb_orange_2</div><div style=\"background-color: rgb(255, 188, 121); display: inline-block; padding: 2rem; margin: 0.1rem; border-radius: 5%\">cb_orange_3</div>"
      ],
      "text/plain": [
       "<IPython.core.display.HTML object>"
      ]
     },
     "metadata": {},
     "output_type": "display_data"
    }
   ],
   "source": [
    "#dir(utils_graph)\n",
    "utils_graph.jp_display_color_pallete()"
   ]
  },
  {
   "cell_type": "markdown",
   "metadata": {},
   "source": [
    "# utils_pandas.py"
   ]
  },
  {
   "cell_type": "code",
   "execution_count": 34,
   "metadata": {},
   "outputs": [
    {
     "data": {
      "text/plain": [
       "['Feature 1', 'Feature 2']"
      ]
     },
     "execution_count": 34,
     "metadata": {},
     "output_type": "execute_result"
    }
   ],
   "source": [
    "\n",
    "keep_this = \"\"\"\n",
    "Feature 1\n",
    "Feature 2  \n",
    "\"\"\"\n",
    "\n",
    "\n",
    "def feature_lst(lst=keep_this):\n",
    "\treturn list(map(lambda x: x.strip(), filter(None, lst.split('\\n'))))\n",
    "feature_lst()"
   ]
  },
  {
   "cell_type": "markdown",
   "metadata": {},
   "source": [
    "# utils_plotly.py"
   ]
  },
  {
   "cell_type": "code",
   "execution_count": 1,
   "metadata": {},
   "outputs": [],
   "source": [
    "import numpy as np\n",
    "import matplotlib.pyplot as plt\n",
    "%matplotlib inline\n",
    "import pandas as pd"
   ]
  },
  {
   "cell_type": "code",
   "execution_count": 2,
   "metadata": {},
   "outputs": [
    {
     "data": {
      "text/html": [
       "<script>requirejs.config({paths: { 'plotly': ['https://cdn.plot.ly/plotly-latest.min']},});if(!window.Plotly) {{require(['plotly'],function(plotly) {window.Plotly=plotly;});}}</script>"
      ],
      "text/vnd.plotly.v1+html": [
       "<script>requirejs.config({paths: { 'plotly': ['https://cdn.plot.ly/plotly-latest.min']},});if(!window.Plotly) {{require(['plotly'],function(plotly) {window.Plotly=plotly;});}}</script>"
      ]
     },
     "metadata": {},
     "output_type": "display_data"
    }
   ],
   "source": [
    "import plotly.offline as py\n",
    "import plotly.graph_objs as go\n",
    "\n",
    "import plotly.figure_factory as ff\n",
    "import plotly.tools as tls\n",
    "\n",
    "from plotly.offline import download_plotlyjs, init_notebook_mode, plot, iplot\n",
    "init_notebook_mode(connected=True)"
   ]
  },
  {
   "cell_type": "code",
   "execution_count": 3,
   "metadata": {},
   "outputs": [],
   "source": [
    "from utils_graph import color_blind_10"
   ]
  },
  {
   "cell_type": "code",
   "execution_count": 4,
   "metadata": {},
   "outputs": [
    {
     "name": "stdout",
     "output_type": "stream",
     "text": [
      "<class 'pandas.core.frame.DataFrame'>\n",
      "RangeIndex: 10 entries, 0 to 9\n",
      "Data columns (total 1 columns):\n",
      "A    10 non-null int64\n",
      "dtypes: int64(1)\n",
      "memory usage: 160.0 bytes\n"
     ]
    }
   ],
   "source": [
    "df = pd.DataFrame(data={\n",
    "    'A': [1, 3, 5, 6, 7, 3, 3, 5, 1, 3]\n",
    "})\n",
    "\n",
    "df.info()"
   ]
  },
  {
   "cell_type": "code",
   "execution_count": 5,
   "metadata": {},
   "outputs": [
    {
     "data": {
      "image/png": "[encoded data removed]",
      "text/plain": [
       "<matplotlib.figure.Figure at 0x7f08e5b8f588>"
      ]
     },
     "metadata": {},
     "output_type": "display_data"
    }
   ],
   "source": [
    "fig = plt.figure()\n",
    "ax = fig.add_subplot(111)\n",
    "\n",
    "vc_subset = df.A.value_counts().head(5)\n",
    "explode = np.arange(0, 1, 1/len(vc_subset))[::-1]\n",
    "explode = [x / 8 for x in explode]\n",
    "ax.pie(vc_subset, labels=vc_subset.index, radius=1, explode=explode, colors=color_blind_10.values(), startangle=80)\n",
    "\n",
    "ax.axis('equal')\n",
    "ax.margins(0)\n",
    "# fig.rcParams.update({'font.size': 10})\n",
    "\n",
    "ax.set_title('Breakdown', fontsize='xx-large')\n",
    "\n",
    "plt.show()"
   ]
  },
  {
   "cell_type": "code",
   "execution_count": 6,
   "metadata": {},
   "outputs": [
    {
     "name": "stderr",
     "output_type": "stream",
     "text": [
      "/usr/local/lib/python3.5/dist-packages/plotly/matplotlylib/renderer.py:481: UserWarning:\n",
      "\n",
      "I found a path object that I don't think is part of a bar chart. Ignoring.\n",
      "\n"
     ]
    },
    {
     "ename": "PlotlyEmptyDataError",
     "evalue": "Empty data list found. Make sure that you populated the list of data objects you're sending and try again.\nQuestions? Visit support.plot.ly",
     "output_type": "error",
     "traceback": [
      "\u001b[0;31m---------------------------------------------------------------------------\u001b[0m",
      "\u001b[0;31mPlotlyEmptyDataError\u001b[0m                      Traceback (most recent call last)",
      "\u001b[0;32m<ipython-input-6-1c5a3d996e6c>\u001b[0m in \u001b[0;36m<module>\u001b[0;34m()\u001b[0m\n\u001b[1;32m      5\u001b[0m \u001b[0;31m# pp.pprint(plotly_fig['layout'])\u001b[0m\u001b[0;34m\u001b[0m\u001b[0;34m\u001b[0m\u001b[0m\n\u001b[1;32m      6\u001b[0m \u001b[0;34m\u001b[0m\u001b[0m\n\u001b[0;32m----> 7\u001b[0;31m \u001b[0mpy\u001b[0m\u001b[0;34m.\u001b[0m\u001b[0miplot\u001b[0m\u001b[0;34m(\u001b[0m\u001b[0mplotly_fig\u001b[0m\u001b[0;34m)\u001b[0m\u001b[0;34m\u001b[0m\u001b[0m\n\u001b[0m",
      "\u001b[0;32m/usr/local/lib/python3.5/dist-packages/plotly/offline/offline.py\u001b[0m in \u001b[0;36miplot\u001b[0;34m(figure_or_data, show_link, link_text, validate, image, filename, image_width, image_height, config)\u001b[0m\n\u001b[1;32m    330\u001b[0m     \u001b[0mconfig\u001b[0m\u001b[0;34m.\u001b[0m\u001b[0msetdefault\u001b[0m\u001b[0;34m(\u001b[0m\u001b[0;34m'linkText'\u001b[0m\u001b[0;34m,\u001b[0m \u001b[0mlink_text\u001b[0m\u001b[0;34m)\u001b[0m\u001b[0;34m\u001b[0m\u001b[0m\n\u001b[1;32m    331\u001b[0m \u001b[0;34m\u001b[0m\u001b[0m\n\u001b[0;32m--> 332\u001b[0;31m     \u001b[0mfigure\u001b[0m \u001b[0;34m=\u001b[0m \u001b[0mtools\u001b[0m\u001b[0;34m.\u001b[0m\u001b[0mreturn_figure_from_figure_or_data\u001b[0m\u001b[0;34m(\u001b[0m\u001b[0mfigure_or_data\u001b[0m\u001b[0;34m,\u001b[0m \u001b[0mvalidate\u001b[0m\u001b[0;34m)\u001b[0m\u001b[0;34m\u001b[0m\u001b[0m\n\u001b[0m\u001b[1;32m    333\u001b[0m \u001b[0;34m\u001b[0m\u001b[0m\n\u001b[1;32m    334\u001b[0m     \u001b[0;31m# Though it can add quite a bit to the display-bundle size, we include\u001b[0m\u001b[0;34m\u001b[0m\u001b[0;34m\u001b[0m\u001b[0m\n",
      "\u001b[0;32m/usr/local/lib/python3.5/dist-packages/plotly/tools.py\u001b[0m in \u001b[0;36mreturn_figure_from_figure_or_data\u001b[0;34m(figure_or_data, validate_figure)\u001b[0m\n\u001b[1;32m   1396\u001b[0m         \u001b[0;32mif\u001b[0m \u001b[0;32mnot\u001b[0m \u001b[0mfigure\u001b[0m\u001b[0;34m[\u001b[0m\u001b[0;34m'data'\u001b[0m\u001b[0;34m]\u001b[0m\u001b[0;34m:\u001b[0m\u001b[0;34m\u001b[0m\u001b[0m\n\u001b[1;32m   1397\u001b[0m             raise exceptions.PlotlyEmptyDataError(\n\u001b[0;32m-> 1398\u001b[0;31m                 \u001b[0;34m\"Empty data list found. Make sure that you populated the \"\u001b[0m\u001b[0;34m\u001b[0m\u001b[0m\n\u001b[0m\u001b[1;32m   1399\u001b[0m                 \u001b[0;34m\"list of data objects you're sending and try again.\\n\"\u001b[0m\u001b[0;34m\u001b[0m\u001b[0m\n\u001b[1;32m   1400\u001b[0m                 \u001b[0;34m\"Questions? Visit support.plot.ly\"\u001b[0m\u001b[0;34m\u001b[0m\u001b[0m\n",
      "\u001b[0;31mPlotlyEmptyDataError\u001b[0m: Empty data list found. Make sure that you populated the list of data objects you're sending and try again.\nQuestions? Visit support.plot.ly"
     ]
    }
   ],
   "source": [
    "# converting to plotly figure object not possible for piecharts because of wedges objects\n",
    "plotly_fig = tls.mpl_to_plotly(fig)\n",
    "\n",
    "# pp = pprint.PrettyPrinter(indent=4)\n",
    "# pp.pprint(plotly_fig['layout'])\n",
    "\n",
    "py.iplot(plotly_fig)"
   ]
  },
  {
   "cell_type": "code",
   "execution_count": 7,
   "metadata": {},
   "outputs": [
    {
     "data": {
      "image/png": "[encoded data removed]",
      "text/plain": [
       "<matplotlib.figure.Figure at 0x7f08e3a0f080>"
      ]
     },
     "metadata": {},
     "output_type": "display_data"
    }
   ],
   "source": [
    "fig = plt.figure(figsize=(10,5))\n",
    "ax = fig.add_subplot(111)\n",
    "\n",
    "ax.barh(\n",
    "\trange(1, len(vc_subset) + 1),\n",
    "\tvc_subset.values,\n",
    "\ttick_label=vc_subset.index,\n",
    "\tcolor=color_blind_10['cb_blue_1'],\n",
    "\t# width=2,\n",
    "\t# align='edge'\n",
    ")\n",
    "\n",
    "# ax.axis('equal')\n",
    "ax.margins(0)\n",
    "# fig.rcParams.update({'font.size': 10})\n",
    "\n",
    "ax.set_title('Breakdown')\n",
    "\n",
    "# plt.xlim(0,9)\n",
    "plt.show()"
   ]
  },
  {
   "cell_type": "code",
   "execution_count": 8,
   "metadata": {},
   "outputs": [
    {
     "data": {
      "application/vnd.plotly.v1+json": {
       "data": [
        {
         "marker": {
          "color": "#006BA4",
          "line": {
           "width": 1
          }
         },
         "opacity": 1,
         "orientation": "h",
         "type": "bar",
         "x": [
          4,
          2,
          2,
          1,
          1
         ],
         "xaxis": "x1",
         "y": [
          1,
          2,
          3,
          4,
          5
         ],
         "yaxis": "y1"
        }
       ],
       "layout": {
        "autosize": false,
        "bargap": 0.20000000000000018,
        "height": 360,
        "hovermode": "closest",
        "margin": {
         "b": 30,
         "l": 90,
         "pad": 0,
         "r": 71,
         "t": 43
        },
        "showlegend": false,
        "title": "Breakdown",
        "titlefont": {
         "color": "#000000",
         "size": 12
        },
        "width": 720,
        "xaxis1": {
         "anchor": "y1",
         "domain": [
          0,
          1
         ],
         "mirror": "ticks",
         "nticks": 9,
         "range": [
          0,
          4
         ],
         "showgrid": false,
         "showline": true,
         "side": "bottom",
         "tickfont": {
          "size": 10
         },
         "ticks": "inside",
         "type": "linear",
         "zeroline": false
        },
        "yaxis1": {
         "anchor": "x1",
         "domain": [
          0,
          1
         ],
         "dtick": 1,
         "mirror": "ticks",
         "range": [
          0.6,
          5.3999999999999995
         ],
         "showgrid": false,
         "showline": true,
         "side": "left",
         "tick0": 1,
         "tickfont": {
          "size": 10
         },
         "tickmode": false,
         "ticks": "inside",
         "ticktext": [
          3,
          5,
          1,
          7,
          6
         ],
         "tickvals": [
          1,
          2,
          3,
          4,
          5
         ],
         "type": "linear",
         "zeroline": false
        }
       }
      },
      "text/html": [
       "<div id=\"d2deb56f-5532-44b6-8f70-bee3b79faaab\" style=\"height: 360px; width: 720px;\" class=\"plotly-graph-div\"></div><script type=\"text/javascript\">require([\"plotly\"], function(Plotly) { window.PLOTLYENV=window.PLOTLYENV || {};window.PLOTLYENV.BASE_URL=\"https://plot.ly\";Plotly.newPlot(\"d2deb56f-5532-44b6-8f70-bee3b79faaab\", [{\"yaxis\": \"y1\", \"xaxis\": \"x1\", \"type\": \"bar\", \"marker\": {\"line\": {\"width\": 1.0}, \"color\": \"#006BA4\"}, \"opacity\": 1, \"orientation\": \"h\", \"x\": [4.0, 2.0, 2.0, 1.0, 1.0], \"y\": [1.0, 2.0, 3.0, 4.0, 5.0]}], {\"hovermode\": \"closest\", \"margin\": {\"r\": 71, \"b\": 30, \"t\": 43, \"pad\": 0, \"l\": 90}, \"yaxis1\": {\"zeroline\": false, \"range\": [0.6, 5.3999999999999995], \"tickmode\": false, \"tick0\": 1, \"showgrid\": false, \"side\": \"left\", \"type\": \"linear\", \"anchor\": \"x1\", \"domain\": [0.0, 1.0], \"dtick\": 1, \"showline\": true, \"mirror\": \"ticks\", \"tickfont\": {\"size\": 10.0}, \"tickvals\": [1, 2, 3, 4, 5], \"ticks\": \"inside\", \"ticktext\": [3, 5, 1, 7, 6]}, \"width\": 720, \"title\": \"Breakdown\", \"autosize\": false, \"xaxis1\": {\"zeroline\": false, \"range\": [0, 4], \"showline\": true, \"showgrid\": false, \"side\": \"bottom\", \"type\": \"linear\", \"anchor\": \"y1\", \"domain\": [0.0, 1.0], \"nticks\": 9, \"mirror\": \"ticks\", \"tickfont\": {\"size\": 10.0}, \"ticks\": \"inside\"}, \"titlefont\": {\"color\": \"#000000\", \"size\": 12.0}, \"bargap\": 0.20000000000000018, \"height\": 360, \"showlegend\": false}, {\"linkText\": \"Export to plot.ly\", \"showLink\": true})});</script>"
      ],
      "text/vnd.plotly.v1+html": [
       "<div id=\"d2deb56f-5532-44b6-8f70-bee3b79faaab\" style=\"height: 360px; width: 720px;\" class=\"plotly-graph-div\"></div><script type=\"text/javascript\">require([\"plotly\"], function(Plotly) { window.PLOTLYENV=window.PLOTLYENV || {};window.PLOTLYENV.BASE_URL=\"https://plot.ly\";Plotly.newPlot(\"d2deb56f-5532-44b6-8f70-bee3b79faaab\", [{\"yaxis\": \"y1\", \"xaxis\": \"x1\", \"type\": \"bar\", \"marker\": {\"line\": {\"width\": 1.0}, \"color\": \"#006BA4\"}, \"opacity\": 1, \"orientation\": \"h\", \"x\": [4.0, 2.0, 2.0, 1.0, 1.0], \"y\": [1.0, 2.0, 3.0, 4.0, 5.0]}], {\"hovermode\": \"closest\", \"margin\": {\"r\": 71, \"b\": 30, \"t\": 43, \"pad\": 0, \"l\": 90}, \"yaxis1\": {\"zeroline\": false, \"range\": [0.6, 5.3999999999999995], \"tickmode\": false, \"tick0\": 1, \"showgrid\": false, \"side\": \"left\", \"type\": \"linear\", \"anchor\": \"x1\", \"domain\": [0.0, 1.0], \"dtick\": 1, \"showline\": true, \"mirror\": \"ticks\", \"tickfont\": {\"size\": 10.0}, \"tickvals\": [1, 2, 3, 4, 5], \"ticks\": \"inside\", \"ticktext\": [3, 5, 1, 7, 6]}, \"width\": 720, \"title\": \"Breakdown\", \"autosize\": false, \"xaxis1\": {\"zeroline\": false, \"range\": [0, 4], \"showline\": true, \"showgrid\": false, \"side\": \"bottom\", \"type\": \"linear\", \"anchor\": \"y1\", \"domain\": [0.0, 1.0], \"nticks\": 9, \"mirror\": \"ticks\", \"tickfont\": {\"size\": 10.0}, \"ticks\": \"inside\"}, \"titlefont\": {\"color\": \"#000000\", \"size\": 12.0}, \"bargap\": 0.20000000000000018, \"height\": 360, \"showlegend\": false}, {\"linkText\": \"Export to plot.ly\", \"showLink\": true})});</script>"
      ]
     },
     "metadata": {},
     "output_type": "display_data"
    }
   ],
   "source": [
    "\n",
    "plotly_fig = tls.mpl_to_plotly(fig)\n",
    "plotly_fig['layout']['margin']['b'] = 30\n",
    "plotly_fig['layout']['xaxis1']['range'] = [0, 4]\n",
    "plotly_fig['layout']['yaxis1']['ticktext'] = vc_subset.index\n",
    "plotly_fig['layout']['yaxis1']['tickvals'] = list(range(1, len(vc_subset) + 1))\n",
    "\n",
    "py.iplot(plotly_fig)\n"
   ]
  },
  {
   "cell_type": "code",
   "execution_count": null,
   "metadata": {},
   "outputs": [],
   "source": []
  }
 ],
 "metadata": {
  "hide_input": false,
  "kernelspec": {
   "display_name": "Python 3",
   "language": "python",
   "name": "python3"
  },
  "language_info": {
   "codemirror_mode": {
    "name": "ipython",
    "version": 3
   },
   "file_extension": ".py",
   "mimetype": "text/x-python",
   "name": "python",
   "nbconvert_exporter": "python",
   "pygments_lexer": "ipython3",
   "version": "3.5.2"
  },
  "toc": {
   "base_numbering": 1,
   "nav_menu": {},
   "number_sections": true,
   "sideBar": true,
   "skip_h1_title": false,
   "title_cell": "Table of Contents",
   "title_sidebar": "Contents",
   "toc_cell": false,
   "toc_position": {},
   "toc_section_display": true,
   "toc_window_display": false
  },
  "varInspector": {
   "cols": {
    "lenName": 16,
    "lenType": 16,
    "lenVar": 40
   },
   "kernels_config": {
    "python": {
     "delete_cmd_postfix": "",
     "delete_cmd_prefix": "del ",
     "library": "var_list.py",
     "varRefreshCmd": "print(var_dic_list())"
    },
    "r": {
     "delete_cmd_postfix": ") ",
     "delete_cmd_prefix": "rm(",
     "library": "var_list.r",
     "varRefreshCmd": "cat(var_dic_list()) "
    }
   },
   "types_to_exclude": [
    "module",
    "function",
    "builtin_function_or_method",
    "instance",
    "_Feature"
   ],
   "window_display": false
  }
 },
 "nbformat": 4,
 "nbformat_minor": 2
}
