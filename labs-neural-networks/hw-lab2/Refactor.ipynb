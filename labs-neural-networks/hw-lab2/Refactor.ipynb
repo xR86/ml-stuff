{
 "cells": [
  {
   "cell_type": "markdown",
   "metadata": {
    "slideshow": {
     "slide_type": "slide"
    }
   },
   "source": [
    "# Solution of a linear system <a class=\"tocSkip\">\n"
   ]
  },
  {
   "cell_type": "markdown",
   "metadata": {
    "slideshow": {
     "slide_type": "slide"
    }
   },
   "source": [
    "https://drive.google.com/file/d/1hBZ4tsoCt9P2v3SLft-Cn9_dhTQ9ULbz/view\n"
   ]
  },
  {
   "cell_type": "code",
   "execution_count": 1,
   "metadata": {
    "slideshow": {
     "slide_type": "slide"
    }
   },
   "outputs": [],
   "source": [
    "import sys\n",
    "import re\n",
    "import numpy as np\n",
    "#import parser as ps"
   ]
  },
  {
   "cell_type": "code",
   "execution_count": 2,
   "metadata": {
    "slideshow": {
     "slide_type": "slide"
    }
   },
   "outputs": [
    {
     "name": "stdout",
     "output_type": "stream",
     "text": [
      "total 16\n",
      "-rw-r--r-- 1 root root 7419 Oct  8 16:28 Refactor.ipynb\n",
      "drwxrwxrwx 2 1000 1000 4096 Jun 11 17:20 \u001b[0m\u001b[34;42minput\u001b[0m/\n",
      "-rwxrwxrwx 1 1000 1000   49 Jun  7 19:23 \u001b[01;32minput.txt\u001b[0m*\n",
      "\n",
      "total 40\n",
      "-rwxrwxrwx 1 1000 1000 51 Jun  7 19:23 \u001b[0m\u001b[01;32meqs0\u001b[0m*\n",
      "-rwxrwxrwx 1 1000 1000 50 Jun  7 19:23 \u001b[01;32meqs1\u001b[0m*\n",
      "-rwxrwxrwx 1 1000 1000 52 Jun  7 19:23 \u001b[01;32meqs2\u001b[0m*\n",
      "-rwxrwxrwx 1 1000 1000 56 Jun  7 19:23 \u001b[01;32meqs3\u001b[0m*\n",
      "-rwxrwxrwx 1 1000 1000 56 Jun  7 19:23 \u001b[01;32meqs4\u001b[0m*\n",
      "-rwxrwxrwx 1 1000 1000 56 Jun  7 19:23 \u001b[01;32meqs5\u001b[0m*\n",
      "-rwxrwxrwx 1 1000 1000 56 Jun  7 19:23 \u001b[01;32meqs6\u001b[0m*\n",
      "-rwxrwxrwx 1 1000 1000 56 Jun  7 19:23 \u001b[01;32meqs7\u001b[0m*\n",
      "-rwxrwxrwx 1 1000 1000 51 Jun  7 19:23 \u001b[01;32meqs8\u001b[0m*\n",
      "-rwxrwxrwx 1 1000 1000 56 Jun  7 19:23 \u001b[01;32meqs9\u001b[0m*\n"
     ]
    }
   ],
   "source": [
    "%ls -l\n",
    "print()\n",
    "%ls -l input/"
   ]
  },
  {
   "cell_type": "code",
   "execution_count": 3,
   "metadata": {
    "slideshow": {
     "slide_type": "slide"
    }
   },
   "outputs": [],
   "source": [
    "# if len(sys.argv) > 1:\n",
    "#     #print sys.argv[1]\n",
    "#     f = open('input/'+sys.argv[1], 'r')\n",
    "# else:\n",
    "#     f = open('input.txt', 'r')\n",
    "\n",
    "f = open('input.txt', 'r')"
   ]
  },
  {
   "cell_type": "code",
   "execution_count": 4,
   "metadata": {
    "slideshow": {
     "slide_type": "slide"
    }
   },
   "outputs": [],
   "source": [
    "# pattern = re.compile(r'(?P<a>(-?\\d+/))x(?P<b>([+-]\\d+/))y(?P<c>([+-]\\d+/))(\\=)(?P<r>[0-9]+)')\n",
    "\n",
    "pattern = re.compile(r'(?P<a>(-?\\d+))x(?P<b>([+-]\\d+))y(?P<c>([+-]\\d+))(\\=)(?P<r>[0-9]+)')"
   ]
  },
  {
   "cell_type": "code",
   "execution_count": 5,
   "metadata": {
    "slideshow": {
     "slide_type": "skip"
    }
   },
   "outputs": [],
   "source": [
    "_ = \"\"\"\n",
    "matrixA = np.array([])\n",
    "matrixB = np.array([])\n",
    "\n",
    "for line in f:\n",
    "    #line = f.readline()\n",
    "    #newLine = ps.expr(line).compile()\n",
    "    #match = pattern.match(line) #or findall\n",
    "    match = re.search(pattern, line)#.groups()\n",
    "    print match, type(match)\n",
    "    print pattern, type(pattern)\n",
    "    \n",
    "    if match:\n",
    "        a = int(match.group('a'))\n",
    "        b = int(match.group('b'))\n",
    "        c = int(match.group('c'))\n",
    "        newRow = [a, b, c]\n",
    "        matrixA = np.concatenate(matrixA, newRow)    \n",
    "    \n",
    "        r = int(match.group('r'))\n",
    "        newRow = [r]\n",
    "        matrixB = np.concatenate(matrixB, newRow)\n",
    "    else:\n",
    "        raise Exception('Pattern not matched')\n",
    "\"\"\""
   ]
  },
  {
   "cell_type": "code",
   "execution_count": 6,
   "metadata": {
    "slideshow": {
     "slide_type": "skip"
    }
   },
   "outputs": [
    {
     "name": "stdout",
     "output_type": "stream",
     "text": [
      "matrixA:\n",
      " [[2 3 6]\n",
      " [0 4 2]\n",
      " [1 3 5]]\n",
      "\n",
      "matrixB:\n",
      " [[2]\n",
      " [3]\n",
      " [1]]\n"
     ]
    }
   ],
   "source": [
    "matrixA = np.array([[2, 3, 6], [0, 4, 2], [1, 3, 5]])\n",
    "matrixB = np.array([[2], [3], [1]])\n",
    "\n",
    "print('matrixA:\\n %s\\n' % matrixA)\n",
    "print('matrixB:\\n %s' % matrixB)"
   ]
  },
  {
   "cell_type": "code",
   "execution_count": 7,
   "metadata": {
    "slideshow": {
     "slide_type": "slide"
    }
   },
   "outputs": [
    {
     "name": "stdout",
     "output_type": "stream",
     "text": [
      "CPU times: user 3.86 ms, sys: 33.9 ms, total: 37.7 ms\n",
      "Wall time: 44.3 ms\n"
     ]
    }
   ],
   "source": [
    "%%time\n",
    "detA = np.linalg.det(matrixA)\n",
    "\n",
    "if detA == 0:\n",
    "    print('Determinant is 0. Program will stop')\n",
    "    quit()\n",
    "\n",
    "matrixAinv = np.linalg.inv(matrixA)"
   ]
  },
  {
   "cell_type": "code",
   "execution_count": 8,
   "metadata": {
    "slideshow": {
     "slide_type": "slide"
    }
   },
   "outputs": [
    {
     "name": "stdout",
     "output_type": "stream",
     "text": [
      "--- Inverse matrix is: \n",
      "[[ 1.4  0.3 -1.8]\n",
      " [ 0.2  0.4 -0.4]\n",
      " [-0.4 -0.3  0.8]]\n",
      "\n",
      "Is matrixAinv ok ? True\n"
     ]
    }
   ],
   "source": [
    "print('---', 'Inverse matrix is: ')\n",
    "print(matrixAinv)\n",
    "checkInv = np.allclose(np.dot(matrixA, matrixAinv), np.eye(3))\n",
    "\n",
    "print(\"\\nIs matrixAinv ok ?\", checkInv)\n",
    "\n",
    "#x = np.linalg.solve(a, b, c)\n",
    "\n",
    "#Check that the solution is correct:\n",
    "#np.allclose(np.dot(a, x), b)"
   ]
  },
  {
   "cell_type": "markdown",
   "metadata": {
    "slideshow": {
     "slide_type": "skip"
    }
   },
   "source": [
    "---\n"
   ]
  }
 ],
 "metadata": {
  "celltoolbar": "Slideshow",
  "hide_input": false,
  "kernelspec": {
   "display_name": "Python 3",
   "language": "python",
   "name": "python3"
  },
  "language_info": {
   "codemirror_mode": {
    "name": "ipython",
    "version": 3
   },
   "file_extension": ".py",
   "mimetype": "text/x-python",
   "name": "python",
   "nbconvert_exporter": "python",
   "pygments_lexer": "ipython3",
   "version": "3.5.2"
  },
  "toc": {
   "base_numbering": 1,
   "nav_menu": {},
   "number_sections": true,
   "sideBar": true,
   "skip_h1_title": false,
   "title_cell": "Table of Contents",
   "title_sidebar": "Contents",
   "toc_cell": false,
   "toc_position": {},
   "toc_section_display": true,
   "toc_window_display": false
  },
  "varInspector": {
   "cols": {
    "lenName": 16,
    "lenType": 16,
    "lenVar": 40
   },
   "kernels_config": {
    "python": {
     "delete_cmd_postfix": "",
     "delete_cmd_prefix": "del ",
     "library": "var_list.py",
     "varRefreshCmd": "print(var_dic_list())"
    },
    "r": {
     "delete_cmd_postfix": ") ",
     "delete_cmd_prefix": "rm(",
     "library": "var_list.r",
     "varRefreshCmd": "cat(var_dic_list()) "
    }
   },
   "types_to_exclude": [
    "module",
    "function",
    "builtin_function_or_method",
    "instance",
    "_Feature"
   ],
   "window_display": false
  }
 },
 "nbformat": 4,
 "nbformat_minor": 2
}
