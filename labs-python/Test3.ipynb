{
 "cells": [
  {
   "cell_type": "markdown",
   "metadata": {},
   "source": [
    "# Za enunt"
   ]
  },
  {
   "cell_type": "markdown",
   "metadata": {},
   "source": [
    "use this ! https://inloop.github.io/sqlite-viewer/\n",
    "\n"
   ]
  },
  {
   "cell_type": "code",
   "execution_count": null,
   "metadata": {
    "collapsed": true
   },
   "outputs": [],
   "source": []
  },
  {
   "cell_type": "markdown",
   "metadata": {},
   "source": [
    "---"
   ]
  },
  {
   "cell_type": "markdown",
   "metadata": {},
   "source": [
    "## Za recapitulare"
   ]
  },
  {
   "cell_type": "markdown",
   "metadata": {},
   "source": [
    "SOCKETS"
   ]
  },
  {
   "cell_type": "code",
   "execution_count": null,
   "metadata": {
    "collapsed": false,
    "scrolled": true
   },
   "outputs": [
    {
     "name": "stdout",
     "output_type": "stream",
     "text": [
      "looping\n"
     ]
    }
   ],
   "source": [
    "#!/usr/bin/python           # This is server.py file\n",
    "\n",
    "import socket               # Import socket module\n",
    "\n",
    "s = socket.socket()         # Create a socket object\n",
    "host = socket.gethostname() # Get local machine name\n",
    "port = 12345                # Reserve a port for your service.\n",
    "s.bind((host, port))        # Bind to the port\n",
    "\n",
    "s.listen(5)                 # Now wait for client connection.\n",
    "while True:\n",
    "   print 'looping'\n",
    "   c, addr = s.accept()     # Establish connection with client.\n",
    "   print 'Got connection from', addr\n",
    "   c.send('Thank you for connecting')\n",
    "   c.close()                # Close the connection\n",
    "   break"
   ]
  },
  {
   "cell_type": "code",
   "execution_count": null,
   "metadata": {
    "collapsed": true
   },
   "outputs": [],
   "source": [
    "#!/usr/bin/python           # This is client.py file\n",
    "\n",
    "import socket               # Import socket module\n",
    "\n",
    "s = socket.socket()         # Create a socket object\n",
    "host = socket.gethostname() # Get local machine name\n",
    "port = 12345                # Reserve a port for your service.\n",
    "\n",
    "print 'connecting'\n",
    "\n",
    "s.connect((host, port))\n",
    "print s.recv(1024)\n",
    "s.close                     # Close the socket when done"
   ]
  },
  {
   "cell_type": "markdown",
   "metadata": {},
   "source": [
    "`setup_db.py`"
   ]
  },
  {
   "cell_type": "code",
   "execution_count": 1,
   "metadata": {
    "collapsed": true
   },
   "outputs": [],
   "source": [
    "import sqlite3\n",
    "conn = sqlite3.connect('example.db')\n",
    "\n",
    "c = conn.cursor()\n",
    "\n",
    "# Create table\n",
    "c.execute('''CREATE TABLE location\n",
    "             (id_location text, location text)''')\n",
    "\n",
    "c.execute('''CREATE TABLE files\n",
    "             (id_location text, id_file text)''')\n",
    "\n",
    "c.execute('''CREATE TABLE file_info\n",
    "             (id_file text, file_name text, file_size text, creation_time text, file_md5 text)''')\n",
    "\n",
    "# Save (commit) the changes\n",
    "conn.commit()\n",
    "\n",
    "# Close the connection\n",
    "# => any change that has not been commited will be lost\n",
    "conn.close()"
   ]
  },
  {
   "cell_type": "markdown",
   "metadata": {},
   "source": [
    "`add_files.py`"
   ]
  },
  {
   "cell_type": "code",
   "execution_count": 2,
   "metadata": {
    "collapsed": true
   },
   "outputs": [],
   "source": [
    "import sqlite3\n",
    "conn = sqlite3.connect('example.db')\n",
    "\n",
    "c = conn.cursor()\n",
    "\n",
    "\n",
    "import os\n",
    "import hashlib\n",
    "import time\n",
    "\n",
    "def get_file_md5(filePath):\n",
    "\th = hashlib.md5()\n",
    "\th.update(open(filePath,\"rb\").read())\n",
    "\treturn h.hexdigest()\n",
    "\n",
    "def get_file_sha256(filePath):\n",
    "\th = hashlib.sha256()\n",
    "\th.update(open(filePath,\"rb\").read())\n",
    "\treturn h.hexdigest()\n",
    "\n",
    "\n",
    "def get_dir_data(dir_path):\n",
    "\tdir_path = os.path.realpath(dir_path)\n",
    "\t\n",
    "\t#print next(os.walk(dir_path))[2]\n",
    "\t#print os.path.basename(dir_path)\n",
    "\t\n",
    "\tid_location = 0\n",
    "\tid_file = 0\n",
    "\tfor dir_file in next(os.walk(dir_path))[2]:\n",
    "\t\tfile_name = dir_file\n",
    "\t\tfile_md5 = get_file_md5(dir_file)\n",
    "\t\tfile_sha256 = get_file_sha256(dir_file)\n",
    "\t\tfile_size = os.path.getsize(dir_file)\n",
    "\t\t\n",
    "\t\tfile_time = time.gmtime(os.path.getctime(dir_file))\n",
    "\t\tfile_formatted_time = time.strftime(\"%Y-%m-%d %I:%M:%S %p\", file_time)\n",
    "\t\tfile_path = os.path.realpath(dir_file)\n",
    "\t\t\n",
    "\n",
    "\t\tlocation_values = (id_location, file_path)\n",
    "\t\tc.execute(\"INSERT INTO location VALUES (?, ?)\", location_values)\n",
    "\n",
    "\t\tfiles_values = (id_location, id_file)\n",
    "\t\tc.execute(\"INSERT INTO files VALUES (?, ?)\", files_values)\n",
    "\n",
    "\t\tfile_info_values = (id_file, file_name, file_size, file_formatted_time, file_md5)\n",
    "\t\tc.execute(\"INSERT INTO file_info VALUES (?, ?, ?, ?, ?)\", file_info_values)\n",
    "\n",
    "\t\tid_location += 1\n",
    "\t\tid_file += 1\n",
    "\n",
    "\n",
    "get_dir_data('./')\n",
    "\n",
    "# Save (commit) the changes\n",
    "conn.commit()\n",
    "\n",
    "conn.close()"
   ]
  },
  {
   "cell_type": "markdown",
   "metadata": {},
   "source": [
    "`query_db.py`"
   ]
  },
  {
   "cell_type": "code",
   "execution_count": 3,
   "metadata": {
    "collapsed": false
   },
   "outputs": [
    {
     "name": "stdout",
     "output_type": "stream",
     "text": [
      "\n",
      "\n",
      "*****location table****\n",
      "\n",
      "(u'0', u'E:\\\\github\\\\ml-stuff\\\\labs-python\\\\data.json')\n",
      "(u'1', u'E:\\\\github\\\\ml-stuff\\\\labs-python\\\\example.db')\n",
      "(u'2', u'E:\\\\github\\\\ml-stuff\\\\labs-python\\\\labs-python.json')\n",
      "(u'3', u'E:\\\\github\\\\ml-stuff\\\\labs-python\\\\net-client.py')\n",
      "(u'4', u'E:\\\\github\\\\ml-stuff\\\\labs-python\\\\net-server.py')\n",
      "(u'5', u'E:\\\\github\\\\ml-stuff\\\\labs-python\\\\py-extra-del.ipynb')\n",
      "(u'6', u'E:\\\\github\\\\ml-stuff\\\\labs-python\\\\PythonLab-5.ipynb')\n",
      "(u'7', u'E:\\\\github\\\\ml-stuff\\\\labs-python\\\\PythonLab-6.ipynb')\n",
      "(u'8', u'E:\\\\github\\\\ml-stuff\\\\labs-python\\\\PythonLab-7.ipynb')\n",
      "(u'9', u'E:\\\\github\\\\ml-stuff\\\\labs-python\\\\PythonLabs.ipynb')\n",
      "(u'10', u'E:\\\\github\\\\ml-stuff\\\\labs-python\\\\README.md')\n",
      "(u'11', u'E:\\\\github\\\\ml-stuff\\\\labs-python\\\\Test3.ipynb')\n",
      "\n",
      "\n",
      "*****files table****\n",
      "\n",
      "(u'0', u'0')\n",
      "(u'1', u'1')\n",
      "(u'2', u'2')\n",
      "(u'3', u'3')\n",
      "(u'4', u'4')\n",
      "(u'5', u'5')\n",
      "(u'6', u'6')\n",
      "(u'7', u'7')\n",
      "(u'8', u'8')\n",
      "(u'9', u'9')\n",
      "(u'10', u'10')\n",
      "(u'11', u'11')\n",
      "\n",
      "\n",
      "*****file_info table****\n",
      "\n",
      "(u'0', u'data.json', u'212', u'2016-10-25 09:53:20 PM', u'1d0ff2468e8841c491b7bddbe305633e')\n",
      "(u'1', u'example.db', u'4096', u'2017-01-24 10:16:53 PM', u'2df7c31889f1e0858eaddee895774d86')\n",
      "(u'2', u'labs-python.json', u'2665', u'2016-11-15 01:46:10 PM', u'21a613c94c46eaae6924052aca0deab1')\n",
      "(u'3', u'net-client.py', u'434', u'2016-11-26 11:08:06 AM', u'169bd912ecae9cf402791308fcd2f3c3')\n",
      "(u'4', u'net-server.py', u'1561', u'2016-11-26 11:07:01 AM', u'4c11006c69d969fa3adabcc681252045')\n",
      "(u'5', u'py-extra-del.ipynb', u'2044', u'2016-10-25 11:23:46 PM', u'dd1a719843faa3e134b287a13a90b0e0')\n",
      "(u'6', u'PythonLab-5.ipynb', u'6165', u'2016-11-14 10:47:44 PM', u'308dbb376621834d935220de8d20a0b0')\n",
      "(u'7', u'PythonLab-6.ipynb', u'9852', u'2016-11-15 07:19:41 AM', u'23e04ab85ed174d94907f843b018d2cb')\n",
      "(u'8', u'PythonLab-7.ipynb', u'7255', u'2016-11-15 12:43:25 PM', u'b27ae18d6c897bc6edea4d6b9cad3738')\n",
      "(u'9', u'PythonLabs.ipynb', u'26695', u'2016-10-19 05:08:43 AM', u'113d76e20cec5e2811a8169ac350a6c6')\n",
      "(u'10', u'README.md', u'405', u'2016-12-14 06:48:26 AM', u'd6242f10d2277560ca5da395abcbee69')\n",
      "(u'11', u'Test3.ipynb', u'2310', u'2017-01-24 10:05:23 PM', u'7a62ce67cd4707ca9362358e6467c4cd')\n"
     ]
    }
   ],
   "source": [
    "import sqlite3\n",
    "conn = sqlite3.connect('example.db')\n",
    "\n",
    "c = conn.cursor()\n",
    "\n",
    "print('\\n\\n*****location table****\\n')\n",
    "'''\n",
    "for row in c.execute('SELECT * FROM location'):\n",
    "\t# print(c.fetchall())\n",
    "\tprint(row)\n",
    "'''\n",
    "'''\n",
    "c.execute('SELECT * FROM location')\n",
    "print(c.fetchall())\n",
    "'''\n",
    "c.execute('SELECT * FROM location')\n",
    "copy = c.fetchall()\n",
    "for row in copy:\n",
    "\tprint row\n",
    "\n",
    "\n",
    "print('\\n\\n*****files table****\\n')\n",
    "c.execute('SELECT * FROM files')\n",
    "copy = c.fetchall()\n",
    "for row in copy:\n",
    "\tprint row\n",
    "\n",
    "print('\\n\\n*****file_info table****\\n')\n",
    "c.execute('SELECT * FROM file_info')\n",
    "copy = c.fetchall()\n",
    "for row in copy:\n",
    "\tprint row\n",
    "\n",
    "conn.close()"
   ]
  },
  {
   "cell_type": "markdown",
   "metadata": {},
   "source": [
    "urllib - https://docs.python.org/2/library/urllib.html\n"
   ]
  },
  {
   "cell_type": "code",
   "execution_count": 13,
   "metadata": {
    "collapsed": false
   },
   "outputs": [
    {
     "name": "stdout",
     "output_type": "stream",
     "text": [
      "Sign In\n",
      "All\n",
      "Go\n",
      "Music\n",
      "Posters\n",
      "Photography\n"
     ]
    }
   ],
   "source": [
    "import urllib\n",
    "import re\n",
    "\n",
    "params = urllib.urlencode({'spam': 1, 'eggs': 2, 'bacon': 0})\n",
    "f = urllib.urlopen(\"http://www.musi-cal.com/cgi-bin/query?%s\" % params)\n",
    "respData = f.read()\n",
    "\n",
    "#print respData\n",
    "\n",
    "count = 0\n",
    "paragraphs = re.findall(r'<a .*>(.*)</a>',str(respData))\n",
    "for eachP in paragraphs:\n",
    "    print(eachP)\n",
    "    if count == 5:\n",
    "        break\n",
    "    count += 1\n"
   ]
  },
  {
   "cell_type": "code",
   "execution_count": null,
   "metadata": {
    "collapsed": true
   },
   "outputs": [],
   "source": []
  }
 ],
 "metadata": {
  "kernelspec": {
   "display_name": "Python 2",
   "language": "python",
   "name": "python2"
  },
  "language_info": {
   "codemirror_mode": {
    "name": "ipython",
    "version": 2
   },
   "file_extension": ".py",
   "mimetype": "text/x-python",
   "name": "python",
   "nbconvert_exporter": "python",
   "pygments_lexer": "ipython2",
   "version": "2.7.12"
  }
 },
 "nbformat": 4,
 "nbformat_minor": 1
}
