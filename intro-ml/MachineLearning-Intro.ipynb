{
 "cells": [
  {
   "cell_type": "markdown",
   "metadata": {},
   "source": [
    "# Machine learning\n",
    "\n",
    "Machine learning types:\n",
    "![title](img/machine-learning-types.png)\n",
    "\n",
    "### Machine learning steps\n",
    "\n",
    "> Asking the right question => Preparing Data => Selecting the algorithm => Training the model\n",
    "  \n",
    "The process may require to return to a previous point, such as:\n",
    "- changing the question\n",
    "- sanitizing, extending the data\n",
    "- changing the algorithm\n",
    "- (supervised) extending the test data\n"
   ]
  },
  {
   "cell_type": "markdown",
   "metadata": {},
   "source": [
    "Links:\n",
    "- [unsupervised vs supervised ML](https://stats.stackexchange.com/questions/110395/what-are-basic-differences-between-kernel-approaches-to-unsupervised-and-supervi)\n"
   ]
  },
  {
   "cell_type": "code",
   "execution_count": null,
   "metadata": {
    "collapsed": true
   },
   "outputs": [],
   "source": []
  },
  {
   "cell_type": "markdown",
   "metadata": {
    "collapsed": true
   },
   "source": [
    "## Predicting\n",
    "\n",
    "Predicting diabetes\n",
    "\n",
    "**Question**: \"Predict if a person will develop diabetes.\"\n",
    "\n",
    "Solution statement goals:\n",
    " - Define scope (including data sources)\n",
    "  - understanding the features in data\n",
    "  - identify critical features\n",
    "  - focus on at risk population\n",
    "  - select data source\n",
    " - Define target performance\n",
    "  - binary result (True or False)\n",
    "  - 70% accuracy is common target\n",
    " - Define context for usage\n",
    " - Define how solution will be created"
   ]
  },
  {
   "cell_type": "code",
   "execution_count": null,
   "metadata": {
    "collapsed": true
   },
   "outputs": [],
   "source": []
  }
 ],
 "metadata": {
  "kernelspec": {
   "display_name": "Python 3",
   "language": "python",
   "name": "python3"
  },
  "language_info": {
   "codemirror_mode": {
    "name": "ipython",
    "version": 3
   },
   "file_extension": ".py",
   "mimetype": "text/x-python",
   "name": "python",
   "nbconvert_exporter": "python",
   "pygments_lexer": "ipython3",
   "version": "3.5.2"
  }
 },
 "nbformat": 4,
 "nbformat_minor": 0
}
