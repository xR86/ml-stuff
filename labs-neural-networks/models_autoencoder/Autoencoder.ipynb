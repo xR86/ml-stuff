{
 "cells": [
  {
   "cell_type": "markdown",
   "metadata": {
    "colab_type": "text",
    "id": "h0ZOJee9bb7H"
   },
   "source": [
    "# Autoencoder"
   ]
  },
  {
   "cell_type": "markdown",
   "metadata": {
    "colab_type": "text",
    "id": "2MpPNs5pNePQ"
   },
   "source": [
    "Building an autoencoder using Keras."
   ]
  },
  {
   "cell_type": "markdown",
   "metadata": {
    "colab_type": "text",
    "id": "IBDI_KagbkwH"
   },
   "source": [
    "## Update environment"
   ]
  },
  {
   "cell_type": "code",
   "execution_count": 1,
   "metadata": {
    "colab": {
     "autoexec": {
      "startup": false,
      "wait_interval": 0
     }
    },
    "colab_type": "code",
    "id": "kijKdPmUgjTu"
   },
   "outputs": [],
   "source": [
    "!apt-get install graphviz -qq\n",
    "!pip install graphviz -q\n",
    "!pip install pydot -q\n",
    "# restart runtime"
   ]
  },
  {
   "cell_type": "code",
   "execution_count": 2,
   "metadata": {
    "colab": {
     "autoexec": {
      "startup": false,
      "wait_interval": 0
     },
     "base_uri": "https://localhost:8080/",
     "height": 34
    },
    "colab_type": "code",
    "executionInfo": {
     "elapsed": 1588,
     "status": "ok",
     "timestamp": 1528403265933,
     "user": {
      "displayName": "Dan Alexandru",
      "photoUrl": "https://lh3.googleusercontent.com/a/default-user=s128",
      "userId": "117050348341679035753"
     },
     "user_tz": -180
    },
    "id": "ixDk78w2OQ-a",
    "outputId": "bbb9787b-8567-4388-dcda-e690d29d93ce"
   },
   "outputs": [
    {
     "name": "stderr",
     "output_type": "stream",
     "text": [
      "Using TensorFlow backend.\n"
     ]
    }
   ],
   "source": [
    "import numpy as np\n",
    "import matplotlib.pyplot as plt\n",
    "%matplotlib inline\n",
    "\n",
    "from keras.layers import Input, Dense\n",
    "from keras.models import Model\n",
    "from keras.datasets import mnist"
   ]
  },
  {
   "cell_type": "code",
   "execution_count": 3,
   "metadata": {
    "colab": {
     "autoexec": {
      "startup": false,
      "wait_interval": 0
     }
    },
    "colab_type": "code",
    "id": "G6atqN0ObAUb"
   },
   "outputs": [],
   "source": [
    "# copy-paste from ml-stuff/kaggle/utils_keras.py\n",
    "# delete before saving for brevity\n",
    "# ...\n"
   ]
  },
  {
   "cell_type": "markdown",
   "metadata": {
    "colab_type": "text",
    "id": "nZplYyKwbvsm"
   },
   "source": [
    "## Creating the model"
   ]
  },
  {
   "cell_type": "code",
   "execution_count": 4,
   "metadata": {
    "colab": {
     "autoexec": {
      "startup": false,
      "wait_interval": 0
     }
    },
    "colab_type": "code",
    "id": "-uzKI0GaaFEi"
   },
   "outputs": [],
   "source": [
    "# this is the size of our encoded representations\n",
    "encoding_dim = 32  # 32 floats -> compression of factor 24.5, assuming the input is 784 floats\n",
    "\n",
    "# this is our input placeholder\n",
    "input_img = Input(shape=(784,))\n",
    "\n",
    "# encoded representation of the input\n",
    "encoded = Dense(encoding_dim, activation='relu')(input_img)\n",
    "# lossy reconstruction of the input\n",
    "decoded = Dense(784, activation='sigmoid')(encoded)\n",
    "\n",
    "# maps an input to its reconstruction\n",
    "autoencoder = Model(input_img, decoded)\n",
    "\n",
    "# maps an input to its encoded representation\n",
    "encoder = Model(input_img, encoded)\n",
    "\n",
    "\n",
    "# placeholder for an encoded (32-dimensional) input\n",
    "encoded_input = Input(shape=(encoding_dim,))\n",
    "\n",
    "# retrieve the last layer of the autoencoder model\n",
    "decoder_layer = autoencoder.layers[-1]\n",
    "\n",
    "# decoder model\n",
    "decoder = Model(encoded_input, decoder_layer(encoded_input))"
   ]
  },
  {
   "cell_type": "code",
   "execution_count": 5,
   "metadata": {
    "colab": {
     "autoexec": {
      "startup": false,
      "wait_interval": 0
     }
    },
    "colab_type": "code",
    "id": "EoBIq0t0arAT"
   },
   "outputs": [],
   "source": [
    "autoencoder.compile(optimizer='adadelta', loss='binary_crossentropy')"
   ]
  },
  {
   "cell_type": "markdown",
   "metadata": {
    "colab_type": "text",
    "id": "xQ_O0WDtcFCV"
   },
   "source": [
    "## Training the model"
   ]
  },
  {
   "cell_type": "code",
   "execution_count": 6,
   "metadata": {
    "colab": {
     "autoexec": {
      "startup": false,
      "wait_interval": 0
     }
    },
    "colab_type": "code",
    "id": "Ysjg8DMuarJy"
   },
   "outputs": [],
   "source": [
    "(x_train, _), (x_test, _) = mnist.load_data()"
   ]
  },
  {
   "cell_type": "code",
   "execution_count": 7,
   "metadata": {
    "colab": {
     "autoexec": {
      "startup": false,
      "wait_interval": 0
     },
     "base_uri": "https://localhost:8080/",
     "height": 51
    },
    "colab_type": "code",
    "executionInfo": {
     "elapsed": 2932,
     "status": "ok",
     "timestamp": 1528403287353,
     "user": {
      "displayName": "Dan Alexandru",
      "photoUrl": "https://lh3.googleusercontent.com/a/default-user=s128",
      "userId": "117050348341679035753"
     },
     "user_tz": -180
    },
    "id": "FoZCW9v4arMZ",
    "outputId": "e738289e-cd47-45a2-9ad7-cc2a09129615"
   },
   "outputs": [
    {
     "name": "stdout",
     "output_type": "stream",
     "text": [
      "(60000, 784)\n",
      "(10000, 784)\n"
     ]
    }
   ],
   "source": [
    "x_train = x_train.astype('float32') / 255.\n",
    "x_test = x_test.astype('float32') / 255.\n",
    "\n",
    "x_train = x_train.reshape((len(x_train), np.prod(x_train.shape[1:])))\n",
    "x_test = x_test.reshape((len(x_test), np.prod(x_test.shape[1:])))\n",
    "\n",
    "print(x_train.shape)\n",
    "print(x_test.shape)"
   ]
  },
  {
   "cell_type": "code",
   "execution_count": 8,
   "metadata": {
    "colab": {
     "autoexec": {
      "startup": false,
      "wait_interval": 0
     },
     "base_uri": "https://localhost:8080/",
     "height": 751
    },
    "colab_type": "code",
    "executionInfo": {
     "elapsed": 45732,
     "status": "ok",
     "timestamp": 1528403333119,
     "user": {
      "displayName": "Dan Alexandru",
      "photoUrl": "https://lh3.googleusercontent.com/a/default-user=s128",
      "userId": "117050348341679035753"
     },
     "user_tz": -180
    },
    "id": "ipws2HIoarO8",
    "outputId": "2f295fd4-fcde-45a6-d224-c8c092581bc0"
   },
   "outputs": [
    {
     "name": "stdout",
     "output_type": "stream",
     "text": [
      "Train on 60000 samples, validate on 10000 samples\n",
      "Epoch 1/20\n",
      "60000/60000 [==============================] - 3s 55us/step - loss: 0.3571 - val_loss: 0.2705\n",
      "Epoch 2/20\n",
      "60000/60000 [==============================] - 2s 36us/step - loss: 0.2631 - val_loss: 0.2515\n",
      "Epoch 3/20\n",
      "60000/60000 [==============================] - 2s 35us/step - loss: 0.2401 - val_loss: 0.2265\n",
      "Epoch 4/20\n",
      "60000/60000 [==============================] - 2s 35us/step - loss: 0.2186 - val_loss: 0.2089\n",
      "Epoch 5/20\n",
      "60000/60000 [==============================] - 2s 35us/step - loss: 0.2043 - val_loss: 0.1972\n",
      "Epoch 6/20\n",
      "60000/60000 [==============================] - 2s 35us/step - loss: 0.1940 - val_loss: 0.1882\n",
      "Epoch 7/20\n",
      "14336/60000 [======>.......................] - ETA: 1s - loss: 0.188360000/60000 [==============================] - 2s 35us/step - loss: 0.1858 - val_loss: 0.1807\n",
      "Epoch 8/20\n",
      "60000/60000 [==============================] - 2s 35us/step - loss: 0.1789 - val_loss: 0.1745\n",
      "Epoch 9/20\n",
      "60000/60000 [==============================] - 2s 36us/step - loss: 0.1731 - val_loss: 0.1691\n",
      "Epoch 10/20\n",
      "60000/60000 [==============================] - 2s 36us/step - loss: 0.1679 - val_loss: 0.1643\n",
      "Epoch 11/20\n",
      "60000/60000 [==============================] - 2s 35us/step - loss: 0.1632 - val_loss: 0.1596\n",
      "Epoch 12/20\n",
      "60000/60000 [==============================] - 2s 36us/step - loss: 0.1590 - val_loss: 0.1555\n",
      "Epoch 13/20\n",
      "49664/60000 [=======================>......] - ETA: 0s - loss: 0.155360000/60000 [==============================] - 2s 35us/step - loss: 0.1550 - val_loss: 0.1517\n",
      "Epoch 14/20\n",
      "60000/60000 [==============================] - 2s 36us/step - loss: 0.1513 - val_loss: 0.1482\n",
      "Epoch 15/20\n",
      "60000/60000 [==============================] - 2s 35us/step - loss: 0.1479 - val_loss: 0.1450\n",
      "Epoch 16/20\n",
      "60000/60000 [==============================] - 2s 36us/step - loss: 0.1448 - val_loss: 0.1418\n",
      "Epoch 17/20\n",
      "60000/60000 [==============================] - 2s 35us/step - loss: 0.1419 - val_loss: 0.1391\n",
      "Epoch 18/20\n",
      "60000/60000 [==============================] - 2s 36us/step - loss: 0.1392 - val_loss: 0.1365\n",
      "Epoch 19/20\n",
      "53760/60000 [=========================>....] - ETA: 0s - loss: 0.136860000/60000 [==============================] - 2s 36us/step - loss: 0.1367 - val_loss: 0.1340\n",
      "Epoch 20/20\n",
      "60000/60000 [==============================] - 2s 37us/step - loss: 0.1344 - val_loss: 0.1318\n"
     ]
    },
    {
     "data": {
      "text/plain": [
       "<keras.callbacks.History at 0x7f094de029b0>"
      ]
     },
     "execution_count": 8,
     "metadata": {
      "tags": []
     },
     "output_type": "execute_result"
    }
   ],
   "source": [
    "autoencoder.fit(x_train, x_train,\n",
    "                epochs=20,\n",
    "                batch_size=256,\n",
    "                shuffle=True,\n",
    "                validation_data=(x_test, x_test))\n"
   ]
  },
  {
   "cell_type": "markdown",
   "metadata": {
    "colab_type": "text",
    "id": "-DZZabRxcI27"
   },
   "source": [
    "## Testing the model"
   ]
  },
  {
   "cell_type": "code",
   "execution_count": 9,
   "metadata": {
    "colab": {
     "autoexec": {
      "startup": false,
      "wait_interval": 0
     }
    },
    "colab_type": "code",
    "id": "ZVyoYe47arRn"
   },
   "outputs": [],
   "source": [
    "# encode and decode some digits\n",
    "encoded_imgs = encoder.predict(x_test)\n",
    "decoded_imgs = decoder.predict(encoded_imgs)"
   ]
  },
  {
   "cell_type": "code",
   "execution_count": 10,
   "metadata": {
    "colab": {
     "autoexec": {
      "startup": false,
      "wait_interval": 0
     },
     "base_uri": "https://localhost:8080/",
     "height": 244
    },
    "colab_type": "code",
    "executionInfo": {
     "elapsed": 1785,
     "status": "ok",
     "timestamp": 1528403336985,
     "user": {
      "displayName": "Dan Alexandru",
      "photoUrl": "https://lh3.googleusercontent.com/a/default-user=s128",
      "userId": "117050348341679035753"
     },
     "user_tz": -180
    },
    "id": "KJB_EeaAa1u8",
    "outputId": "c25274dc-bd67-4f9f-9435-c1c263785c57"
   },
   "outputs": [
    {
     "data": {
      "image/png": "[encoded data removed]",
      "text/plain": [
       "<matplotlib.figure.Figure at 0x7f092dd3b4a8>"
      ]
     },
     "metadata": {
      "tags": []
     },
     "output_type": "display_data"
    }
   ],
   "source": [
    "plt.figure(figsize=(20, 4))\n",
    "\n",
    "n = 10  # no of digits to display\n",
    "\n",
    "for i in range(n):\n",
    "    # display original\n",
    "    ax = plt.subplot(2, n, i + 1)\n",
    "    plt.imshow(x_test[i].reshape(28, 28))\n",
    "    plt.gray()\n",
    "    ax.get_xaxis().set_visible(False)\n",
    "    ax.get_yaxis().set_visible(False)\n",
    "\n",
    "    # display reconstruction\n",
    "    ax = plt.subplot(2, n, i + 1 + n)\n",
    "    plt.imshow(decoded_imgs[i].reshape(28, 28))\n",
    "    plt.gray()\n",
    "    ax.get_xaxis().set_visible(False)\n",
    "    ax.get_yaxis().set_visible(False)\n",
    "\n",
    "plt.savefig('plot_predict_vs_reconstructed.png')\n",
    "plt.show()"
   ]
  },
  {
   "cell_type": "markdown",
   "metadata": {
    "colab_type": "text",
    "id": "eepdp8hibRxq"
   },
   "source": [
    "## Save model"
   ]
  },
  {
   "cell_type": "code",
   "execution_count": 11,
   "metadata": {
    "colab": {
     "autoexec": {
      "startup": false,
      "wait_interval": 0
     },
     "base_uri": "https://localhost:8080/",
     "height": 68
    },
    "colab_type": "code",
    "executionInfo": {
     "elapsed": 2336,
     "status": "ok",
     "timestamp": 1528403339355,
     "user": {
      "displayName": "Dan Alexandru",
      "photoUrl": "https://lh3.googleusercontent.com/a/default-user=s128",
      "userId": "117050348341679035753"
     },
     "user_tz": -180
    },
    "id": "SGlIUtd7Pw6C",
    "outputId": "d0b94503-badf-4ab7-9205-73f1b79f37ff"
   },
   "outputs": [
    {
     "name": "stdout",
     "output_type": "stream",
     "text": [
      "Saved autoencoder to disk\n",
      "Saved encoder to disk\n",
      "Saved decoder to disk\n"
     ]
    }
   ],
   "source": [
    "models = {\n",
    "\t'autoencoder': autoencoder,\n",
    "\t'encoder': encoder,\n",
    "\t'decoder': decoder\n",
    "}\n",
    "\n",
    "model_save_mult(models)"
   ]
  },
  {
   "cell_type": "code",
   "execution_count": 12,
   "metadata": {
    "colab": {
     "autoexec": {
      "startup": false,
      "wait_interval": 0
     },
     "base_uri": "https://localhost:8080/",
     "height": 782
    },
    "colab_type": "code",
    "executionInfo": {
     "elapsed": 1116,
     "status": "ok",
     "timestamp": 1528403340567,
     "user": {
      "displayName": "Dan Alexandru",
      "photoUrl": "https://lh3.googleusercontent.com/a/default-user=s128",
      "userId": "117050348341679035753"
     },
     "user_tz": -180
    },
    "id": "blvwo5r0Z551",
    "outputId": "d07a28b2-2430-404c-80f8-5aef20c7bca3"
   },
   "outputs": [
    {
     "name": "stdout",
     "output_type": "stream",
     "text": [
      "## Autoencoder ##\n",
      "_________________________________________________________________\n",
      "Layer (type)                 Output Shape              Param #   \n",
      "=================================================================\n",
      "input_1 (InputLayer)         (None, 784)               0         \n",
      "_________________________________________________________________\n",
      "dense_1 (Dense)              (None, 32)                25120     \n",
      "_________________________________________________________________\n",
      "dense_2 (Dense)              (None, 784)               25872     \n",
      "=================================================================\n",
      "Total params: 50,992\n",
      "Trainable params: 50,992\n",
      "Non-trainable params: 0\n",
      "_________________________________________________________________\n",
      "************************************************************\n",
      "\n",
      "## Encoder ##\n",
      "_________________________________________________________________\n",
      "Layer (type)                 Output Shape              Param #   \n",
      "=================================================================\n",
      "input_1 (InputLayer)         (None, 784)               0         \n",
      "_________________________________________________________________\n",
      "dense_1 (Dense)              (None, 32)                25120     \n",
      "=================================================================\n",
      "Total params: 25,120\n",
      "Trainable params: 25,120\n",
      "Non-trainable params: 0\n",
      "_________________________________________________________________\n",
      "************************************************************\n",
      "\n",
      "## Decoder ##\n",
      "_________________________________________________________________\n",
      "Layer (type)                 Output Shape              Param #   \n",
      "=================================================================\n",
      "input_2 (InputLayer)         (None, 32)                0         \n",
      "_________________________________________________________________\n",
      "dense_2 (Dense)              (None, 784)               25872     \n",
      "=================================================================\n",
      "Total params: 25,872\n",
      "Trainable params: 25,872\n",
      "Non-trainable params: 0\n",
      "_________________________________________________________________\n",
      "************************************************************\n",
      "\n",
      "\n"
     ]
    }
   ],
   "source": [
    "spool = model_summary_spool_mult(models)\n",
    "print(spool)"
   ]
  },
  {
   "cell_type": "code",
   "execution_count": 13,
   "metadata": {
    "colab": {
     "autoexec": {
      "startup": false,
      "wait_interval": 0
     },
     "base_uri": "https://localhost:8080/",
     "height": 323
    },
    "colab_type": "code",
    "executionInfo": {
     "elapsed": 2704,
     "status": "ok",
     "timestamp": 1528403343358,
     "user": {
      "displayName": "Dan Alexandru",
      "photoUrl": "https://lh3.googleusercontent.com/a/default-user=s128",
      "userId": "117050348341679035753"
     },
     "user_tz": -180
    },
    "id": "NC4cnSTIcxYm",
    "outputId": "c7f46697-1386-46b7-afd5-3f3ade2a6b3d"
   },
   "outputs": [
    {
     "data": {
      "image/png": "[encoded data removed]",
      "text/plain": [
       "<matplotlib.figure.Figure at 0x7f092b0fefd0>"
      ]
     },
     "metadata": {
      "tags": []
     },
     "output_type": "display_data"
    }
   ],
   "source": [
    "model_plot_save_mult(models)\n",
    "model_display('autoencoder')"
   ]
  },
  {
   "cell_type": "code",
   "execution_count": 14,
   "metadata": {
    "colab": {
     "autoexec": {
      "startup": false,
      "wait_interval": 0
     },
     "base_uri": "https://localhost:8080/",
     "height": 238
    },
    "colab_type": "code",
    "executionInfo": {
     "elapsed": 2613,
     "status": "ok",
     "timestamp": 1528403346361,
     "user": {
      "displayName": "Dan Alexandru",
      "photoUrl": "https://lh3.googleusercontent.com/a/default-user=s128",
      "userId": "117050348341679035753"
     },
     "user_tz": -180
    },
    "id": "n2-dXjZl64rd",
    "outputId": "35d3462a-2bbf-4d89-e43c-374b80a9a90a"
   },
   "outputs": [
    {
     "name": "stdout",
     "output_type": "stream",
     "text": [
      "total 504\r\n",
      "-rw-r--r-- 1 root root   1426 Jun  7 19:18 autoencoder.json\r\n",
      "-rw-r--r-- 1 root root   6849 Jun  7 19:18 autoencoder_plot.png\r\n",
      "-rw-r--r-- 1 root root 218832 Jun  7 19:18 autoencoder_weights.h5\r\n",
      "drwxr-xr-x 1 root root   4096 May 21 17:02 datalab\r\n",
      "-rw-r--r-- 1 root root    896 Jun  7 19:18 decoder.json\r\n",
      "-rw-r--r-- 1 root root   4380 Jun  7 19:18 decoder_plot.png\r\n",
      "-rw-r--r-- 1 root root 114384 Jun  7 19:18 decoder_weights.h5\r\n",
      "-rw-r--r-- 1 root root    893 Jun  7 19:18 encoder.json\r\n",
      "-rw-r--r-- 1 root root   4028 Jun  7 19:18 encoder_plot.png\r\n",
      "-rw-r--r-- 1 root root 111376 Jun  7 19:18 encoder_weights.h5\r\n",
      "-rw-r--r-- 1 root root  21468 Jun  7 19:18 plot_predict_vs_reconstructed.png\r\n",
      "-rw-r--r-- 1 root root   2159 Jun  7 19:18 spool_summaries.txt\r\n"
     ]
    }
   ],
   "source": [
    "!ls -l"
   ]
  },
  {
   "cell_type": "code",
   "execution_count": 15,
   "metadata": {
    "colab": {
     "autoexec": {
      "startup": false,
      "wait_interval": 0
     },
     "base_uri": "https://localhost:8080/",
     "height": 204
    },
    "colab_type": "code",
    "executionInfo": {
     "elapsed": 2874,
     "status": "ok",
     "timestamp": 1528403349335,
     "user": {
      "displayName": "Dan Alexandru",
      "photoUrl": "https://lh3.googleusercontent.com/a/default-user=s128",
      "userId": "117050348341679035753"
     },
     "user_tz": -180
    },
    "id": "MIqK-T-ac7Sb",
    "outputId": "6429e0bf-25ec-411d-cb67-d982d3e42eed"
   },
   "outputs": [
    {
     "name": "stdout",
     "output_type": "stream",
     "text": [
      "  adding: encoder_plot.png (deflated 7%)\r\n",
      "  adding: encoder_weights.h5 (deflated 16%)\r\n",
      "  adding: decoder_weights.h5 (deflated 15%)\r\n",
      "  adding: autoencoder_plot.png (deflated 13%)\r\n",
      "  adding: decoder_plot.png (deflated 7%)\r\n",
      "  adding: plot_predict_vs_reconstructed.png (deflated 15%)\r\n",
      "  adding: autoencoder_weights.h5 (deflated 13%)\r\n",
      "  adding: spool_summaries.txt (deflated 89%)\r\n",
      "  adding: decoder.json (deflated 58%)\r\n",
      "  adding: encoder.json (deflated 58%)\r\n",
      "  adding: autoencoder.json (deflated 72%)\r\n"
     ]
    }
   ],
   "source": [
    "!zip -r data.zip ./ -x \"datalab/*\" \"\\.*\""
   ]
  },
  {
   "cell_type": "code",
   "execution_count": 16,
   "metadata": {
    "colab": {
     "autoexec": {
      "startup": false,
      "wait_interval": 0
     }
    },
    "colab_type": "code",
    "id": "6rvEI-uga1x-"
   },
   "outputs": [],
   "source": [
    "from google.colab import files\n",
    "files.download('data.zip')"
   ]
  },
  {
   "cell_type": "code",
   "execution_count": null,
   "metadata": {},
   "outputs": [],
   "source": []
  }
 ],
 "metadata": {
  "accelerator": "GPU",
  "colab": {
   "collapsed_sections": [],
   "default_view": {},
   "name": "Autoencoder.ipynb",
   "provenance": [],
   "version": "0.3.2",
   "views": {}
  },
  "kernelspec": {
   "display_name": "Python 3",
   "language": "python",
   "name": "python3"
  },
  "language_info": {
   "codemirror_mode": {
    "name": "ipython",
    "version": 3
   },
   "file_extension": ".py",
   "mimetype": "text/x-python",
   "name": "python",
   "nbconvert_exporter": "python",
   "pygments_lexer": "ipython3",
   "version": "3.5.2"
  }
 },
 "nbformat": 4,
 "nbformat_minor": 1
}
