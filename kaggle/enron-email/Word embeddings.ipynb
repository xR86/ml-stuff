{
 "cells": [
  {
   "cell_type": "markdown",
   "metadata": {
    "slideshow": {
     "slide_type": "skip"
    }
   },
   "source": [
    "# Word embeddings <a class=\"tocSkip\">\n",
    "\n",
    "<!--[kaggle.com/emannueloc/using-word-embeddings-with-gensim/notebook](https://www.kaggle.com/emannueloc/using-word-embeddings-with-gensim/notebook)-->\n"
   ]
  },
  {
   "cell_type": "markdown",
   "metadata": {
    "slideshow": {
     "slide_type": "skip"
    }
   },
   "source": [
    "# Imports"
   ]
  },
  {
   "cell_type": "markdown",
   "metadata": {
    "slideshow": {
     "slide_type": "skip"
    }
   },
   "source": [
    "## Import dependencies"
   ]
  },
  {
   "cell_type": "code",
   "execution_count": 1,
   "metadata": {
    "slideshow": {
     "slide_type": "skip"
    }
   },
   "outputs": [
    {
     "name": "stdout",
     "output_type": "stream",
     "text": [
      "emails.csv\n",
      "emails.csv.zip\n"
     ]
    }
   ],
   "source": [
    "%%bash\n",
    "ls | grep .csv"
   ]
  },
  {
   "cell_type": "code",
   "execution_count": 2,
   "metadata": {
    "slideshow": {
     "slide_type": "skip"
    }
   },
   "outputs": [],
   "source": [
    "# %%bash\n",
    "# pip3 install bokeh"
   ]
  },
  {
   "cell_type": "code",
   "execution_count": 3,
   "metadata": {
    "slideshow": {
     "slide_type": "skip"
    }
   },
   "outputs": [],
   "source": [
    "# built-in libs\n",
    "import email\n",
    "\n",
    "# processing libs\n",
    "import pandas as pd\n",
    "\n",
    "# display libs\n",
    "from tqdm import tqdm_notebook"
   ]
  },
  {
   "cell_type": "markdown",
   "metadata": {
    "slideshow": {
     "slide_type": "skip"
    }
   },
   "source": [
    "## Import data"
   ]
  },
  {
   "cell_type": "code",
   "execution_count": 4,
   "metadata": {
    "slideshow": {
     "slide_type": "skip"
    }
   },
   "outputs": [],
   "source": [
    "emails_full_df = pd.read_csv('emails.csv', chunksize=10000)\n",
    "emails_df = next(emails_full_df)"
   ]
  },
  {
   "cell_type": "code",
   "execution_count": 5,
   "metadata": {
    "slideshow": {
     "slide_type": "skip"
    }
   },
   "outputs": [
    {
     "name": "stdout",
     "output_type": "stream",
     "text": [
      "(10000, 2)\n"
     ]
    },
    {
     "data": {
      "text/html": [
       "<div>\n",
       "<style scoped>\n",
       "    .dataframe tbody tr th:only-of-type {\n",
       "        vertical-align: middle;\n",
       "    }\n",
       "\n",
       "    .dataframe tbody tr th {\n",
       "        vertical-align: top;\n",
       "    }\n",
       "\n",
       "    .dataframe thead th {\n",
       "        text-align: right;\n",
       "    }\n",
       "</style>\n",
       "<table border=\"1\" class=\"dataframe\">\n",
       "  <thead>\n",
       "    <tr style=\"text-align: right;\">\n",
       "      <th></th>\n",
       "      <th>file</th>\n",
       "      <th>message</th>\n",
       "    </tr>\n",
       "  </thead>\n",
       "  <tbody>\n",
       "    <tr>\n",
       "      <th>0</th>\n",
       "      <td>allen-p/_sent_mail/1.</td>\n",
       "      <td>Message-ID: &lt;18782981.1075855378110.JavaMail.e...</td>\n",
       "    </tr>\n",
       "    <tr>\n",
       "      <th>1</th>\n",
       "      <td>allen-p/_sent_mail/10.</td>\n",
       "      <td>Message-ID: &lt;15464986.1075855378456.JavaMail.e...</td>\n",
       "    </tr>\n",
       "    <tr>\n",
       "      <th>2</th>\n",
       "      <td>allen-p/_sent_mail/100.</td>\n",
       "      <td>Message-ID: &lt;24216240.1075855687451.JavaMail.e...</td>\n",
       "    </tr>\n",
       "    <tr>\n",
       "      <th>3</th>\n",
       "      <td>allen-p/_sent_mail/1000.</td>\n",
       "      <td>Message-ID: &lt;13505866.1075863688222.JavaMail.e...</td>\n",
       "    </tr>\n",
       "    <tr>\n",
       "      <th>4</th>\n",
       "      <td>allen-p/_sent_mail/1001.</td>\n",
       "      <td>Message-ID: &lt;30922949.1075863688243.JavaMail.e...</td>\n",
       "    </tr>\n",
       "  </tbody>\n",
       "</table>\n",
       "</div>"
      ],
      "text/plain": [
       "                       file                                            message\n",
       "0     allen-p/_sent_mail/1.  Message-ID: <18782981.1075855378110.JavaMail.e...\n",
       "1    allen-p/_sent_mail/10.  Message-ID: <15464986.1075855378456.JavaMail.e...\n",
       "2   allen-p/_sent_mail/100.  Message-ID: <24216240.1075855687451.JavaMail.e...\n",
       "3  allen-p/_sent_mail/1000.  Message-ID: <13505866.1075863688222.JavaMail.e...\n",
       "4  allen-p/_sent_mail/1001.  Message-ID: <30922949.1075863688243.JavaMail.e..."
      ]
     },
     "execution_count": 5,
     "metadata": {},
     "output_type": "execute_result"
    }
   ],
   "source": [
    "print(emails_df.shape)\n",
    "emails_df.head()"
   ]
  },
  {
   "cell_type": "code",
   "execution_count": 6,
   "metadata": {
    "slideshow": {
     "slide_type": "skip"
    }
   },
   "outputs": [
    {
     "name": "stdout",
     "output_type": "stream",
     "text": [
      "<class 'pandas.core.frame.DataFrame'>\n",
      "RangeIndex: 10000 entries, 0 to 9999\n",
      "Data columns (total 2 columns):\n",
      "file       10000 non-null object\n",
      "message    10000 non-null object\n",
      "dtypes: object(2)\n",
      "memory usage: 156.3+ KB\n"
     ]
    }
   ],
   "source": [
    "emails_df.info()"
   ]
  },
  {
   "cell_type": "code",
   "execution_count": 7,
   "metadata": {
    "slideshow": {
     "slide_type": "skip"
    }
   },
   "outputs": [
    {
     "name": "stdout",
     "output_type": "stream",
     "text": [
      "CPU times: user 1 µs, sys: 0 ns, total: 1 µs\n",
      "Wall time: 4.53 µs\n"
     ]
    },
    {
     "data": {
      "application/vnd.jupyter.widget-view+json": {
       "model_id": "fdfc608d700942aaa021223479ad5eb4",
       "version_major": 2,
       "version_minor": 0
      },
      "text/plain": [
       "HBox(children=(IntProgress(value=0, max=10000), HTML(value='')))"
      ]
     },
     "metadata": {},
     "output_type": "display_data"
    },
    {
     "name": "stdout",
     "output_type": "stream",
     "text": [
      "\n",
      "messages_obj_lst size: 10000\n"
     ]
    }
   ],
   "source": [
    "%time\n",
    "messages_obj_lst = []\n",
    "messages_str_lst = []\n",
    "\n",
    "message_metadata = {}\n",
    "\n",
    "for i in tqdm_notebook(range(emails_df.shape[0])):\n",
    "    msg = email.message_from_string(emails_df.message[i])\n",
    "    \n",
    "    for msg_property in msg:\n",
    "        if msg_property in message_metadata:\n",
    "            message_metadata[msg_property][i] = msg[msg_property]\n",
    "        else:\n",
    "            message_metadata[msg_property] = ['N/A'] * emails_df.shape[0]\n",
    "    \n",
    "    payload = msg.get_payload() # decode=True\n",
    "    \n",
    "    messages_obj_lst.append(msg)\n",
    "    messages_str_lst.append(payload) #.encode('utf-8').decode('unicode_escape')\n",
    "    #except KeyboardInterrupt:\n",
    "    #    break\n",
    "\n",
    "print('messages_obj_lst size: %i' % len(messages_obj_lst))"
   ]
  },
  {
   "cell_type": "code",
   "execution_count": 8,
   "metadata": {
    "slideshow": {
     "slide_type": "skip"
    }
   },
   "outputs": [],
   "source": [
    "# update dataframe object\n",
    "# emails_df.rename(columns = {'message':'message_obj'}, inplace = True)\n",
    "emails_df = emails_df.assign(message_obj = pd.Series(messages_obj_lst).values)\n",
    "emails_df = emails_df.assign(payload     = pd.Series(messages_str_lst).values)\n",
    "\n",
    "# print(emails_df.payload.str.contains(r'\\\\'))\n",
    "emails_df['payload'] = emails_df.payload.str.replace(r'\\n', '')"
   ]
  },
  {
   "cell_type": "code",
   "execution_count": 9,
   "metadata": {
    "slideshow": {
     "slide_type": "skip"
    }
   },
   "outputs": [
    {
     "data": {
      "text/html": [
       "<div>\n",
       "<style scoped>\n",
       "    .dataframe tbody tr th:only-of-type {\n",
       "        vertical-align: middle;\n",
       "    }\n",
       "\n",
       "    .dataframe tbody tr th {\n",
       "        vertical-align: top;\n",
       "    }\n",
       "\n",
       "    .dataframe thead th {\n",
       "        text-align: right;\n",
       "    }\n",
       "</style>\n",
       "<table border=\"1\" class=\"dataframe\">\n",
       "  <thead>\n",
       "    <tr style=\"text-align: right;\">\n",
       "      <th></th>\n",
       "      <th>file</th>\n",
       "      <th>message</th>\n",
       "      <th>message_obj</th>\n",
       "      <th>payload</th>\n",
       "    </tr>\n",
       "  </thead>\n",
       "  <tbody>\n",
       "    <tr>\n",
       "      <th>0</th>\n",
       "      <td>allen-p/_sent_mail/1.</td>\n",
       "      <td>Message-ID: &lt;18782981.1075855378110.JavaMail.e...</td>\n",
       "      <td>[Message-ID, Date, From, To, Subject, Mime-Ver...</td>\n",
       "      <td>Here is our forecast</td>\n",
       "    </tr>\n",
       "    <tr>\n",
       "      <th>1</th>\n",
       "      <td>allen-p/_sent_mail/10.</td>\n",
       "      <td>Message-ID: &lt;15464986.1075855378456.JavaMail.e...</td>\n",
       "      <td>[Message-ID, Date, From, To, Subject, Mime-Ver...</td>\n",
       "      <td>Traveling to have a business meeting takes the...</td>\n",
       "    </tr>\n",
       "    <tr>\n",
       "      <th>2</th>\n",
       "      <td>allen-p/_sent_mail/100.</td>\n",
       "      <td>Message-ID: &lt;24216240.1075855687451.JavaMail.e...</td>\n",
       "      <td>[Message-ID, Date, From, To, Subject, Mime-Ver...</td>\n",
       "      <td>test successful.  way to go!!!</td>\n",
       "    </tr>\n",
       "    <tr>\n",
       "      <th>3</th>\n",
       "      <td>allen-p/_sent_mail/1000.</td>\n",
       "      <td>Message-ID: &lt;13505866.1075863688222.JavaMail.e...</td>\n",
       "      <td>[Message-ID, Date, From, To, Subject, Mime-Ver...</td>\n",
       "      <td>Randy, Can you send me a schedule of the salar...</td>\n",
       "    </tr>\n",
       "    <tr>\n",
       "      <th>4</th>\n",
       "      <td>allen-p/_sent_mail/1001.</td>\n",
       "      <td>Message-ID: &lt;30922949.1075863688243.JavaMail.e...</td>\n",
       "      <td>[Message-ID, Date, From, To, Subject, Mime-Ver...</td>\n",
       "      <td>Let's shoot for Tuesday at 11:45.</td>\n",
       "    </tr>\n",
       "  </tbody>\n",
       "</table>\n",
       "</div>"
      ],
      "text/plain": [
       "                       file  \\\n",
       "0     allen-p/_sent_mail/1.   \n",
       "1    allen-p/_sent_mail/10.   \n",
       "2   allen-p/_sent_mail/100.   \n",
       "3  allen-p/_sent_mail/1000.   \n",
       "4  allen-p/_sent_mail/1001.   \n",
       "\n",
       "                                             message  \\\n",
       "0  Message-ID: <18782981.1075855378110.JavaMail.e...   \n",
       "1  Message-ID: <15464986.1075855378456.JavaMail.e...   \n",
       "2  Message-ID: <24216240.1075855687451.JavaMail.e...   \n",
       "3  Message-ID: <13505866.1075863688222.JavaMail.e...   \n",
       "4  Message-ID: <30922949.1075863688243.JavaMail.e...   \n",
       "\n",
       "                                         message_obj  \\\n",
       "0  [Message-ID, Date, From, To, Subject, Mime-Ver...   \n",
       "1  [Message-ID, Date, From, To, Subject, Mime-Ver...   \n",
       "2  [Message-ID, Date, From, To, Subject, Mime-Ver...   \n",
       "3  [Message-ID, Date, From, To, Subject, Mime-Ver...   \n",
       "4  [Message-ID, Date, From, To, Subject, Mime-Ver...   \n",
       "\n",
       "                                             payload  \n",
       "0                              Here is our forecast   \n",
       "1  Traveling to have a business meeting takes the...  \n",
       "2                     test successful.  way to go!!!  \n",
       "3  Randy, Can you send me a schedule of the salar...  \n",
       "4                Let's shoot for Tuesday at 11:45.    "
      ]
     },
     "execution_count": 9,
     "metadata": {},
     "output_type": "execute_result"
    }
   ],
   "source": [
    "emails_df.head()"
   ]
  },
  {
   "cell_type": "code",
   "execution_count": 10,
   "metadata": {
    "slideshow": {
     "slide_type": "skip"
    }
   },
   "outputs": [],
   "source": [
    "# del messages_obj_lst\n",
    "# del messages_str_lst\n",
    "\n",
    "emails_df.drop('message', axis=1, inplace=True)"
   ]
  },
  {
   "cell_type": "code",
   "execution_count": null,
   "metadata": {
    "slideshow": {
     "slide_type": "skip"
    }
   },
   "outputs": [],
   "source": []
  },
  {
   "cell_type": "code",
   "execution_count": 11,
   "metadata": {
    "slideshow": {
     "slide_type": "skip"
    }
   },
   "outputs": [],
   "source": [
    "\n",
    "corpus_text = '\\n'.join(emails_df[:50000]['payload'])\n",
    "sentences = corpus_text.split('\\n')\n",
    "sentences = [line.lower().split(' ') for line in sentences]"
   ]
  },
  {
   "cell_type": "code",
   "execution_count": 12,
   "metadata": {
    "slideshow": {
     "slide_type": "skip"
    }
   },
   "outputs": [],
   "source": [
    "def clean(s):\n",
    "    return [w.strip(',.\"!?:;()\\'') for w in s]\n",
    "sentences = [clean(s) for s in sentences if len(s) > 0]"
   ]
  },
  {
   "cell_type": "code",
   "execution_count": null,
   "metadata": {
    "slideshow": {
     "slide_type": "skip"
    }
   },
   "outputs": [],
   "source": []
  },
  {
   "cell_type": "markdown",
   "metadata": {
    "slideshow": {
     "slide_type": "skip"
    }
   },
   "source": [
    "# Modelling"
   ]
  },
  {
   "cell_type": "code",
   "execution_count": 13,
   "metadata": {
    "slideshow": {
     "slide_type": "skip"
    }
   },
   "outputs": [],
   "source": [
    "from gensim.models import Word2Vec\n",
    "\n",
    "model = Word2Vec(sentences, size=100, window=5, min_count=3, workers=4)"
   ]
  },
  {
   "cell_type": "code",
   "execution_count": 14,
   "metadata": {
    "slideshow": {
     "slide_type": "skip"
    }
   },
   "outputs": [],
   "source": [
    "vectors = model.wv\n",
    "# del model"
   ]
  },
  {
   "cell_type": "code",
   "execution_count": 15,
   "metadata": {
    "slideshow": {
     "slide_type": "skip"
    }
   },
   "outputs": [
    {
     "data": {
      "text/plain": [
       "array([-0.270508  , -0.17306764,  1.6283128 ,  0.0789329 ,  0.31106964,\n",
       "        0.769532  ,  1.2730443 , -0.8092405 ,  0.7060038 ,  0.86828023,\n",
       "       -2.6277056 , -1.3929644 ,  0.6448156 , -0.7771182 , -1.6537852 ,\n",
       "       -0.4743401 , -1.1166382 ,  1.1569368 , -1.1398625 ,  0.80520093,\n",
       "       -1.7167239 , -1.5579057 ,  0.10402635,  3.0918787 , -0.0558991 ,\n",
       "       -0.43233722, -2.051206  , -0.66570055,  1.5504636 , -0.2648149 ,\n",
       "        0.11560618, -0.32946193, -0.372461  , -0.781641  ,  1.0626622 ,\n",
       "       -0.5553393 ,  0.5192849 ,  2.4005246 ,  0.05692073, -2.3076432 ,\n",
       "       -1.5484774 , -0.67129016,  1.7084714 ,  0.68807465, -0.2931756 ,\n",
       "        0.6166011 ,  1.0874461 , -0.32894936, -2.7945118 ,  0.0930008 ,\n",
       "       -0.46457678,  1.2848035 , -1.4603778 ,  0.22172059, -0.99450624,\n",
       "       -1.0969896 , -2.3467455 ,  0.4534696 ,  0.4488058 , -0.7499471 ,\n",
       "        1.3231988 ,  1.7316022 ,  0.3932503 ,  0.06664114,  0.47186232,\n",
       "        2.9767272 , -0.49195403,  2.0907822 ,  1.1899747 ,  1.2920406 ,\n",
       "        0.4943122 , -1.3712525 ,  0.35063776, -1.9195726 ,  1.0069174 ,\n",
       "       -2.0902    , -0.33823916, -1.9204639 , -0.7886482 ,  2.2157645 ,\n",
       "       -0.8052555 ,  0.6665139 , -1.1551962 , -0.8287558 ,  0.05057469,\n",
       "        2.554974  , -0.62844616,  1.7241517 , -0.09033989,  0.4090363 ,\n",
       "        0.8304872 , -0.9974313 ,  0.94597244, -0.65530026,  0.4551282 ,\n",
       "        0.7032987 , -0.13521333, -1.385317  , -0.15468638,  0.7746631 ],\n",
       "      dtype=float32)"
      ]
     },
     "execution_count": 15,
     "metadata": {},
     "output_type": "execute_result"
    }
   ],
   "source": [
    "vectors['good']"
   ]
  },
  {
   "cell_type": "code",
   "execution_count": 16,
   "metadata": {
    "slideshow": {
     "slide_type": "skip"
    }
   },
   "outputs": [
    {
     "name": "stdout",
     "output_type": "stream",
     "text": [
      "0.4465897\n",
      "0.33204436\n"
     ]
    },
    {
     "name": "stderr",
     "output_type": "stream",
     "text": [
      "/usr/local/lib/python3.5/dist-packages/gensim/matutils.py:737: FutureWarning: Conversion of the second argument of issubdtype from `int` to `np.signedinteger` is deprecated. In future, it will be treated as `np.int64 == np.dtype(int).type`.\n",
      "  if np.issubdtype(vec.dtype, np.int):\n"
     ]
    }
   ],
   "source": [
    "print(vectors.similarity('you', 'your'))\n",
    "print(vectors.similarity('you', 'internet'))"
   ]
  },
  {
   "cell_type": "code",
   "execution_count": 17,
   "metadata": {
    "slideshow": {
     "slide_type": "skip"
    }
   },
   "outputs": [
    {
     "name": "stderr",
     "output_type": "stream",
     "text": [
      "/usr/local/lib/python3.5/dist-packages/gensim/matutils.py:737: FutureWarning: Conversion of the second argument of issubdtype from `int` to `np.signedinteger` is deprecated. In future, it will be treated as `np.int64 == np.dtype(int).type`.\n",
      "  if np.issubdtype(vec.dtype, np.int):\n"
     ]
    },
    {
     "data": {
      "text/plain": [
       "[('correspondence', 0.7597194910049438),\n",
       " ('havestructured', 0.7563828825950623),\n",
       " ('throw', 0.7550570964813232),\n",
       " ('=with', 0.7486575841903687),\n",
       " ('refight', 0.7483857870101929),\n",
       " ('thinkof', 0.7468332648277283),\n",
       " ('do.>', 0.7420369386672974),\n",
       " ('visitors', 0.741276204586029),\n",
       " ('nik', 0.7395448684692383),\n",
       " ('pleaded', 0.7374611496925354)]"
      ]
     },
     "execution_count": 17,
     "metadata": {},
     "output_type": "execute_result"
    }
   ],
   "source": [
    "vectors.most_similar('kill')"
   ]
  },
  {
   "cell_type": "code",
   "execution_count": 18,
   "metadata": {
    "slideshow": {
     "slide_type": "skip"
    }
   },
   "outputs": [
    {
     "data": {
      "text/plain": [
       "52543"
      ]
     },
     "execution_count": 18,
     "metadata": {},
     "output_type": "execute_result"
    }
   ],
   "source": [
    "len(model.wv.vocab)"
   ]
  },
  {
   "cell_type": "code",
   "execution_count": 19,
   "metadata": {
    "slideshow": {
     "slide_type": "skip"
    }
   },
   "outputs": [
    {
     "name": "stderr",
     "output_type": "stream",
     "text": [
      "/usr/local/lib/python3.5/dist-packages/ipykernel_launcher.py:13: DeprecationWarning: Call to deprecated `syn0norm` (Attribute will be removed in 4.0.0, use self.wv.vectors_norm instead).\n",
      "  del sys.path[0]\n"
     ]
    },
    {
     "data": {
      "text/html": [
       "<div>\n",
       "<style scoped>\n",
       "    .dataframe tbody tr th:only-of-type {\n",
       "        vertical-align: middle;\n",
       "    }\n",
       "\n",
       "    .dataframe tbody tr th {\n",
       "        vertical-align: top;\n",
       "    }\n",
       "\n",
       "    .dataframe thead th {\n",
       "        text-align: right;\n",
       "    }\n",
       "</style>\n",
       "<table border=\"1\" class=\"dataframe\">\n",
       "  <thead>\n",
       "    <tr style=\"text-align: right;\">\n",
       "      <th></th>\n",
       "      <th>0</th>\n",
       "      <th>1</th>\n",
       "      <th>2</th>\n",
       "      <th>3</th>\n",
       "      <th>4</th>\n",
       "      <th>5</th>\n",
       "      <th>6</th>\n",
       "      <th>7</th>\n",
       "      <th>8</th>\n",
       "      <th>9</th>\n",
       "      <th>...</th>\n",
       "      <th>90</th>\n",
       "      <th>91</th>\n",
       "      <th>92</th>\n",
       "      <th>93</th>\n",
       "      <th>94</th>\n",
       "      <th>95</th>\n",
       "      <th>96</th>\n",
       "      <th>97</th>\n",
       "      <th>98</th>\n",
       "      <th>99</th>\n",
       "    </tr>\n",
       "  </thead>\n",
       "  <tbody>\n",
       "    <tr>\n",
       "      <th></th>\n",
       "      <td>0.103211</td>\n",
       "      <td>-0.001504</td>\n",
       "      <td>0.051223</td>\n",
       "      <td>0.082046</td>\n",
       "      <td>-0.015313</td>\n",
       "      <td>-0.031139</td>\n",
       "      <td>0.239088</td>\n",
       "      <td>-0.023072</td>\n",
       "      <td>0.260240</td>\n",
       "      <td>0.007476</td>\n",
       "      <td>...</td>\n",
       "      <td>-0.152058</td>\n",
       "      <td>-0.074253</td>\n",
       "      <td>-0.112685</td>\n",
       "      <td>-0.128899</td>\n",
       "      <td>-0.013398</td>\n",
       "      <td>-0.003880</td>\n",
       "      <td>0.017925</td>\n",
       "      <td>-0.033080</td>\n",
       "      <td>0.026232</td>\n",
       "      <td>0.085833</td>\n",
       "    </tr>\n",
       "    <tr>\n",
       "      <th>the</th>\n",
       "      <td>0.113068</td>\n",
       "      <td>0.025233</td>\n",
       "      <td>0.103621</td>\n",
       "      <td>0.153182</td>\n",
       "      <td>0.158703</td>\n",
       "      <td>-0.112839</td>\n",
       "      <td>0.170684</td>\n",
       "      <td>-0.030864</td>\n",
       "      <td>-0.080816</td>\n",
       "      <td>0.092015</td>\n",
       "      <td>...</td>\n",
       "      <td>0.139859</td>\n",
       "      <td>-0.013526</td>\n",
       "      <td>-0.067141</td>\n",
       "      <td>-0.132761</td>\n",
       "      <td>0.028204</td>\n",
       "      <td>0.078747</td>\n",
       "      <td>0.030681</td>\n",
       "      <td>-0.142466</td>\n",
       "      <td>0.065911</td>\n",
       "      <td>-0.094258</td>\n",
       "    </tr>\n",
       "    <tr>\n",
       "      <th>to</th>\n",
       "      <td>-0.170276</td>\n",
       "      <td>0.023519</td>\n",
       "      <td>-0.007925</td>\n",
       "      <td>0.020925</td>\n",
       "      <td>0.152509</td>\n",
       "      <td>-0.023285</td>\n",
       "      <td>0.163287</td>\n",
       "      <td>-0.003122</td>\n",
       "      <td>-0.051574</td>\n",
       "      <td>-0.069945</td>\n",
       "      <td>...</td>\n",
       "      <td>0.040197</td>\n",
       "      <td>0.071331</td>\n",
       "      <td>0.091307</td>\n",
       "      <td>-0.199199</td>\n",
       "      <td>-0.065438</td>\n",
       "      <td>0.018316</td>\n",
       "      <td>-0.014435</td>\n",
       "      <td>-0.107577</td>\n",
       "      <td>0.190768</td>\n",
       "      <td>-0.028655</td>\n",
       "    </tr>\n",
       "  </tbody>\n",
       "</table>\n",
       "<p>3 rows × 100 columns</p>\n",
       "</div>"
      ],
      "text/plain": [
       "           0         1         2         3         4         5         6   \\\n",
       "     0.103211 -0.001504  0.051223  0.082046 -0.015313 -0.031139  0.239088   \n",
       "the  0.113068  0.025233  0.103621  0.153182  0.158703 -0.112839  0.170684   \n",
       "to  -0.170276  0.023519 -0.007925  0.020925  0.152509 -0.023285  0.163287   \n",
       "\n",
       "           7         8         9     ...           90        91        92  \\\n",
       "    -0.023072  0.260240  0.007476    ...    -0.152058 -0.074253 -0.112685   \n",
       "the -0.030864 -0.080816  0.092015    ...     0.139859 -0.013526 -0.067141   \n",
       "to  -0.003122 -0.051574 -0.069945    ...     0.040197  0.071331  0.091307   \n",
       "\n",
       "           93        94        95        96        97        98        99  \n",
       "    -0.128899 -0.013398 -0.003880  0.017925 -0.033080  0.026232  0.085833  \n",
       "the -0.132761  0.028204  0.078747  0.030681 -0.142466  0.065911 -0.094258  \n",
       "to  -0.199199 -0.065438  0.018316 -0.014435 -0.107577  0.190768 -0.028655  \n",
       "\n",
       "[3 rows x 100 columns]"
      ]
     },
     "execution_count": 19,
     "metadata": {},
     "output_type": "execute_result"
    }
   ],
   "source": [
    "# build a list of the terms, integer indices,\n",
    "# and term counts from the food2vec model vocabulary\n",
    "ordered_vocab = [(term, voc.index, voc.count) for term, voc in model.wv.vocab.items()]\n",
    "\n",
    "# sort by the term counts, so the most common terms appear first\n",
    "ordered_vocab = sorted(ordered_vocab, key=lambda k: -k[2])\n",
    "\n",
    "# unzip the terms, integer indices, and counts into separate lists\n",
    "ordered_terms, term_indices, term_counts = zip(*ordered_vocab)\n",
    "# print(ordered_terms)\n",
    "# create a DataFrame with the food2vec vectors as data,\n",
    "# and the terms as row labels\n",
    "word_vectors = pd.DataFrame(model.wv.syn0norm[term_indices, :], index=ordered_terms)\n",
    "\n",
    "word_vectors.head(3)"
   ]
  },
  {
   "cell_type": "code",
   "execution_count": 20,
   "metadata": {
    "slideshow": {
     "slide_type": "skip"
    }
   },
   "outputs": [],
   "source": [
    "def get_related_terms(token, topn=10):\n",
    "    \"\"\"\n",
    "    look up the topn most similar terms to token\n",
    "    and print them as a formatted list\n",
    "    \"\"\"\n",
    "\n",
    "    for word, similarity in model.most_similar(positive=[token], topn=topn):\n",
    "        print (word, round(similarity, 3))"
   ]
  },
  {
   "cell_type": "code",
   "execution_count": 21,
   "metadata": {
    "slideshow": {
     "slide_type": "skip"
    }
   },
   "outputs": [
    {
     "name": "stdout",
     "output_type": "stream",
     "text": [
      "societe 0.8\n",
      "criminal 0.795\n",
      "prohibited.neither 0.785\n",
      "disclosureby> 0.784\n",
      "representations 0.779\n",
      "intensify 0.771\n",
      ">others 0.769\n",
      "asinformation 0.767\n",
      "unauthorized 0.767\n",
      "byothers 0.764\n"
     ]
    },
    {
     "name": "stderr",
     "output_type": "stream",
     "text": [
      "/usr/local/lib/python3.5/dist-packages/ipykernel_launcher.py:7: DeprecationWarning: Call to deprecated `most_similar` (Method will be removed in 4.0.0, use self.wv.most_similar() instead).\n",
      "  import sys\n",
      "/usr/local/lib/python3.5/dist-packages/gensim/matutils.py:737: FutureWarning: Conversion of the second argument of issubdtype from `int` to `np.signedinteger` is deprecated. In future, it will be treated as `np.int64 == np.dtype(int).type`.\n",
      "  if np.issubdtype(vec.dtype, np.int):\n"
     ]
    }
   ],
   "source": [
    "get_related_terms(u'illegal')"
   ]
  },
  {
   "cell_type": "code",
   "execution_count": 22,
   "metadata": {
    "slideshow": {
     "slide_type": "skip"
    }
   },
   "outputs": [
    {
     "name": "stdout",
     "output_type": "stream",
     "text": [
      "nero 0.861\n",
      "howthis 0.824\n",
      "al,i 0.824\n",
      "beleivehowthis 0.815\n",
      "rivera 0.813\n",
      "after-what 0.807\n",
      "disasterthanksgiving 0.797\n",
      "mullick 0.795\n",
      "asti 0.793\n",
      "$175.00 0.792\n"
     ]
    },
    {
     "name": "stderr",
     "output_type": "stream",
     "text": [
      "/usr/local/lib/python3.5/dist-packages/ipykernel_launcher.py:7: DeprecationWarning: Call to deprecated `most_similar` (Method will be removed in 4.0.0, use self.wv.most_similar() instead).\n",
      "  import sys\n",
      "/usr/local/lib/python3.5/dist-packages/gensim/matutils.py:737: FutureWarning: Conversion of the second argument of issubdtype from `int` to `np.signedinteger` is deprecated. In future, it will be treated as `np.int64 == np.dtype(int).type`.\n",
      "  if np.issubdtype(vec.dtype, np.int):\n"
     ]
    }
   ],
   "source": [
    "get_related_terms(u'killed')"
   ]
  },
  {
   "cell_type": "code",
   "execution_count": 23,
   "metadata": {
    "slideshow": {
     "slide_type": "skip"
    }
   },
   "outputs": [
    {
     "name": "stderr",
     "output_type": "stream",
     "text": [
      "/usr/local/lib/python3.5/dist-packages/ipykernel_launcher.py:7: DeprecationWarning: Call to deprecated `most_similar` (Method will be removed in 4.0.0, use self.wv.most_similar() instead).\n",
      "  import sys\n",
      "/usr/local/lib/python3.5/dist-packages/gensim/matutils.py:737: FutureWarning: Conversion of the second argument of issubdtype from `int` to `np.signedinteger` is deprecated. In future, it will be treated as `np.int64 == np.dtype(int).type`.\n",
      "  if np.issubdtype(vec.dtype, np.int):\n"
     ]
    },
    {
     "name": "stdout",
     "output_type": "stream",
     "text": [
      "bridge 0.751\n",
      "agreement 0.743\n",
      "transaction 0.737\n",
      "partnerwill 0.725\n",
      "unit 0.717\n",
      "dead 0.712\n",
      "maximum 0.709\n",
      "package 0.707\n",
      "fee 0.705\n",
      "bond 0.701\n"
     ]
    }
   ],
   "source": [
    "get_related_terms(u'contract')"
   ]
  },
  {
   "cell_type": "code",
   "execution_count": 24,
   "metadata": {
    "slideshow": {
     "slide_type": "skip"
    }
   },
   "outputs": [
    {
     "name": "stdout",
     "output_type": "stream",
     "text": [
      "nat 0.731\n",
      "natural 0.697\n",
      "swap 0.692\n",
      "disaster 0.669\n",
      "strip 0.661\n",
      "vpenanat 0.654\n",
      "curve.3 0.647\n",
      "emit 0.643\n",
      "year> 0.639\n",
      "projs 0.636\n"
     ]
    },
    {
     "name": "stderr",
     "output_type": "stream",
     "text": [
      "/usr/local/lib/python3.5/dist-packages/ipykernel_launcher.py:7: DeprecationWarning: Call to deprecated `most_similar` (Method will be removed in 4.0.0, use self.wv.most_similar() instead).\n",
      "  import sys\n",
      "/usr/local/lib/python3.5/dist-packages/gensim/matutils.py:737: FutureWarning: Conversion of the second argument of issubdtype from `int` to `np.signedinteger` is deprecated. In future, it will be treated as `np.int64 == np.dtype(int).type`.\n",
      "  if np.issubdtype(vec.dtype, np.int):\n"
     ]
    }
   ],
   "source": [
    "get_related_terms(u'fired')"
   ]
  },
  {
   "cell_type": "code",
   "execution_count": 25,
   "metadata": {
    "slideshow": {
     "slide_type": "skip"
    }
   },
   "outputs": [],
   "source": [
    "def word_algebra(add=[], subtract=[], topn=1):\n",
    "    \"\"\"\n",
    "    combine the vectors associated with the words provided\n",
    "    in add= and subtract=, look up the topn most similar\n",
    "    terms to the combined vector, and print the result(s)\n",
    "    \"\"\"\n",
    "    answers = model.most_similar(positive=add, negative=subtract, topn=topn)\n",
    "    \n",
    "    for term, similarity in answers:\n",
    "        print(term)"
   ]
  },
  {
   "cell_type": "code",
   "execution_count": 26,
   "metadata": {
    "slideshow": {
     "slide_type": "skip"
    }
   },
   "outputs": [
    {
     "name": "stdout",
     "output_type": "stream",
     "text": [
      "plans\n"
     ]
    },
    {
     "name": "stderr",
     "output_type": "stream",
     "text": [
      "/usr/local/lib/python3.5/dist-packages/ipykernel_launcher.py:7: DeprecationWarning: Call to deprecated `most_similar` (Method will be removed in 4.0.0, use self.wv.most_similar() instead).\n",
      "  import sys\n",
      "/usr/local/lib/python3.5/dist-packages/gensim/matutils.py:737: FutureWarning: Conversion of the second argument of issubdtype from `int` to `np.signedinteger` is deprecated. In future, it will be treated as `np.int64 == np.dtype(int).type`.\n",
      "  if np.issubdtype(vec.dtype, np.int):\n"
     ]
    }
   ],
   "source": [
    "word_algebra(add=[u'i', u'will'])"
   ]
  },
  {
   "cell_type": "code",
   "execution_count": 27,
   "metadata": {
    "slideshow": {
     "slide_type": "skip"
    }
   },
   "outputs": [
    {
     "name": "stdout",
     "output_type": "stream",
     "text": [
      "them\n"
     ]
    },
    {
     "name": "stderr",
     "output_type": "stream",
     "text": [
      "/usr/local/lib/python3.5/dist-packages/ipykernel_launcher.py:7: DeprecationWarning: Call to deprecated `most_similar` (Method will be removed in 4.0.0, use self.wv.most_similar() instead).\n",
      "  import sys\n",
      "/usr/local/lib/python3.5/dist-packages/gensim/matutils.py:737: FutureWarning: Conversion of the second argument of issubdtype from `int` to `np.signedinteger` is deprecated. In future, it will be treated as `np.int64 == np.dtype(int).type`.\n",
      "  if np.issubdtype(vec.dtype, np.int):\n"
     ]
    }
   ],
   "source": [
    "word_algebra(add=[u'you', u'will'])"
   ]
  },
  {
   "cell_type": "code",
   "execution_count": 28,
   "metadata": {
    "slideshow": {
     "slide_type": "skip"
    }
   },
   "outputs": [
    {
     "name": "stdout",
     "output_type": "stream",
     "text": [
      "i'm\n"
     ]
    },
    {
     "name": "stderr",
     "output_type": "stream",
     "text": [
      "/usr/local/lib/python3.5/dist-packages/ipykernel_launcher.py:7: DeprecationWarning: Call to deprecated `most_similar` (Method will be removed in 4.0.0, use self.wv.most_similar() instead).\n",
      "  import sys\n",
      "/usr/local/lib/python3.5/dist-packages/gensim/matutils.py:737: FutureWarning: Conversion of the second argument of issubdtype from `int` to `np.signedinteger` is deprecated. In future, it will be treated as `np.int64 == np.dtype(int).type`.\n",
      "  if np.issubdtype(vec.dtype, np.int):\n"
     ]
    }
   ],
   "source": [
    "word_algebra(add=[u'i', u'am'])"
   ]
  },
  {
   "cell_type": "code",
   "execution_count": 29,
   "metadata": {
    "slideshow": {
     "slide_type": "skip"
    }
   },
   "outputs": [
    {
     "name": "stdout",
     "output_type": "stream",
     "text": [
      "<jmcvey@exhibitworks.com>\n"
     ]
    },
    {
     "name": "stderr",
     "output_type": "stream",
     "text": [
      "/usr/local/lib/python3.5/dist-packages/ipykernel_launcher.py:7: DeprecationWarning: Call to deprecated `most_similar` (Method will be removed in 4.0.0, use self.wv.most_similar() instead).\n",
      "  import sys\n",
      "/usr/local/lib/python3.5/dist-packages/gensim/matutils.py:737: FutureWarning: Conversion of the second argument of issubdtype from `int` to `np.signedinteger` is deprecated. In future, it will be treated as `np.int64 == np.dtype(int).type`.\n",
      "  if np.issubdtype(vec.dtype, np.int):\n"
     ]
    }
   ],
   "source": [
    "word_algebra(add=[u'mother', u'fuck'])"
   ]
  },
  {
   "cell_type": "code",
   "execution_count": null,
   "metadata": {
    "slideshow": {
     "slide_type": "skip"
    }
   },
   "outputs": [],
   "source": []
  },
  {
   "cell_type": "code",
   "execution_count": 30,
   "metadata": {
    "slideshow": {
     "slide_type": "skip"
    }
   },
   "outputs": [],
   "source": [
    "from sklearn.manifold import TSNE"
   ]
  },
  {
   "cell_type": "code",
   "execution_count": 31,
   "metadata": {
    "slideshow": {
     "slide_type": "skip"
    }
   },
   "outputs": [],
   "source": [
    "tsne_input = word_vectors\n",
    "tsne_input = tsne_input.head(5000)"
   ]
  },
  {
   "cell_type": "code",
   "execution_count": 32,
   "metadata": {
    "slideshow": {
     "slide_type": "skip"
    }
   },
   "outputs": [
    {
     "data": {
      "text/html": [
       "<div>\n",
       "<style scoped>\n",
       "    .dataframe tbody tr th:only-of-type {\n",
       "        vertical-align: middle;\n",
       "    }\n",
       "\n",
       "    .dataframe tbody tr th {\n",
       "        vertical-align: top;\n",
       "    }\n",
       "\n",
       "    .dataframe thead th {\n",
       "        text-align: right;\n",
       "    }\n",
       "</style>\n",
       "<table border=\"1\" class=\"dataframe\">\n",
       "  <thead>\n",
       "    <tr style=\"text-align: right;\">\n",
       "      <th></th>\n",
       "      <th>0</th>\n",
       "      <th>1</th>\n",
       "      <th>2</th>\n",
       "      <th>3</th>\n",
       "      <th>4</th>\n",
       "      <th>5</th>\n",
       "      <th>6</th>\n",
       "      <th>7</th>\n",
       "      <th>8</th>\n",
       "      <th>9</th>\n",
       "      <th>...</th>\n",
       "      <th>90</th>\n",
       "      <th>91</th>\n",
       "      <th>92</th>\n",
       "      <th>93</th>\n",
       "      <th>94</th>\n",
       "      <th>95</th>\n",
       "      <th>96</th>\n",
       "      <th>97</th>\n",
       "      <th>98</th>\n",
       "      <th>99</th>\n",
       "    </tr>\n",
       "  </thead>\n",
       "  <tbody>\n",
       "    <tr>\n",
       "      <th></th>\n",
       "      <td>0.103211</td>\n",
       "      <td>-0.001504</td>\n",
       "      <td>0.051223</td>\n",
       "      <td>0.082046</td>\n",
       "      <td>-0.015313</td>\n",
       "      <td>-0.031139</td>\n",
       "      <td>0.239088</td>\n",
       "      <td>-0.023072</td>\n",
       "      <td>0.260240</td>\n",
       "      <td>0.007476</td>\n",
       "      <td>...</td>\n",
       "      <td>-0.152058</td>\n",
       "      <td>-0.074253</td>\n",
       "      <td>-0.112685</td>\n",
       "      <td>-0.128899</td>\n",
       "      <td>-0.013398</td>\n",
       "      <td>-0.003880</td>\n",
       "      <td>0.017925</td>\n",
       "      <td>-0.033080</td>\n",
       "      <td>0.026232</td>\n",
       "      <td>0.085833</td>\n",
       "    </tr>\n",
       "    <tr>\n",
       "      <th>the</th>\n",
       "      <td>0.113068</td>\n",
       "      <td>0.025233</td>\n",
       "      <td>0.103621</td>\n",
       "      <td>0.153182</td>\n",
       "      <td>0.158703</td>\n",
       "      <td>-0.112839</td>\n",
       "      <td>0.170684</td>\n",
       "      <td>-0.030864</td>\n",
       "      <td>-0.080816</td>\n",
       "      <td>0.092015</td>\n",
       "      <td>...</td>\n",
       "      <td>0.139859</td>\n",
       "      <td>-0.013526</td>\n",
       "      <td>-0.067141</td>\n",
       "      <td>-0.132761</td>\n",
       "      <td>0.028204</td>\n",
       "      <td>0.078747</td>\n",
       "      <td>0.030681</td>\n",
       "      <td>-0.142466</td>\n",
       "      <td>0.065911</td>\n",
       "      <td>-0.094258</td>\n",
       "    </tr>\n",
       "  </tbody>\n",
       "</table>\n",
       "<p>2 rows × 100 columns</p>\n",
       "</div>"
      ],
      "text/plain": [
       "           0         1         2         3         4         5         6   \\\n",
       "     0.103211 -0.001504  0.051223  0.082046 -0.015313 -0.031139  0.239088   \n",
       "the  0.113068  0.025233  0.103621  0.153182  0.158703 -0.112839  0.170684   \n",
       "\n",
       "           7         8         9     ...           90        91        92  \\\n",
       "    -0.023072  0.260240  0.007476    ...    -0.152058 -0.074253 -0.112685   \n",
       "the -0.030864 -0.080816  0.092015    ...     0.139859 -0.013526 -0.067141   \n",
       "\n",
       "           93        94        95        96        97        98        99  \n",
       "    -0.128899 -0.013398 -0.003880  0.017925 -0.033080  0.026232  0.085833  \n",
       "the -0.132761  0.028204  0.078747  0.030681 -0.142466  0.065911 -0.094258  \n",
       "\n",
       "[2 rows x 100 columns]"
      ]
     },
     "execution_count": 32,
     "metadata": {},
     "output_type": "execute_result"
    }
   ],
   "source": [
    "tsne_input[:2]"
   ]
  },
  {
   "cell_type": "code",
   "execution_count": 33,
   "metadata": {
    "slideshow": {
     "slide_type": "skip"
    }
   },
   "outputs": [
    {
     "name": "stdout",
     "output_type": "stream",
     "text": [
      "CPU times: user 1min 27s, sys: 6.4 s, total: 1min 33s\n",
      "Wall time: 1min 33s\n"
     ]
    }
   ],
   "source": [
    "%%time\n",
    "tsne = TSNE()\n",
    "tsne_vectors = tsne.fit_transform(tsne_input.values)"
   ]
  },
  {
   "cell_type": "code",
   "execution_count": 34,
   "metadata": {
    "slideshow": {
     "slide_type": "skip"
    }
   },
   "outputs": [
    {
     "data": {
      "text/html": [
       "<div>\n",
       "<style scoped>\n",
       "    .dataframe tbody tr th:only-of-type {\n",
       "        vertical-align: middle;\n",
       "    }\n",
       "\n",
       "    .dataframe tbody tr th {\n",
       "        vertical-align: top;\n",
       "    }\n",
       "\n",
       "    .dataframe thead th {\n",
       "        text-align: right;\n",
       "    }\n",
       "</style>\n",
       "<table border=\"1\" class=\"dataframe\">\n",
       "  <thead>\n",
       "    <tr style=\"text-align: right;\">\n",
       "      <th></th>\n",
       "      <th>x_coord</th>\n",
       "      <th>y_coord</th>\n",
       "    </tr>\n",
       "  </thead>\n",
       "  <tbody>\n",
       "    <tr>\n",
       "      <th></th>\n",
       "      <td>-43.682186</td>\n",
       "      <td>33.196354</td>\n",
       "    </tr>\n",
       "    <tr>\n",
       "      <th>the</th>\n",
       "      <td>60.936298</td>\n",
       "      <td>-31.871368</td>\n",
       "    </tr>\n",
       "    <tr>\n",
       "      <th>to</th>\n",
       "      <td>55.425861</td>\n",
       "      <td>-30.385191</td>\n",
       "    </tr>\n",
       "    <tr>\n",
       "      <th>and</th>\n",
       "      <td>33.788177</td>\n",
       "      <td>10.613073</td>\n",
       "    </tr>\n",
       "    <tr>\n",
       "      <th>of</th>\n",
       "      <td>35.482513</td>\n",
       "      <td>7.884809</td>\n",
       "    </tr>\n",
       "  </tbody>\n",
       "</table>\n",
       "</div>"
      ],
      "text/plain": [
       "       x_coord    y_coord\n",
       "    -43.682186  33.196354\n",
       "the  60.936298 -31.871368\n",
       "to   55.425861 -30.385191\n",
       "and  33.788177  10.613073\n",
       "of   35.482513   7.884809"
      ]
     },
     "execution_count": 34,
     "metadata": {},
     "output_type": "execute_result"
    }
   ],
   "source": [
    "tsne_vectors = pd.DataFrame(tsne_vectors,\n",
    "                            index=pd.Index(tsne_input.index),\n",
    "                            columns=[u'x_coord', u'y_coord'])\n",
    "\n",
    "tsne_vectors.head()"
   ]
  },
  {
   "cell_type": "code",
   "execution_count": 35,
   "metadata": {
    "slideshow": {
     "slide_type": "skip"
    }
   },
   "outputs": [],
   "source": [
    "tsne_vectors[u'word'] = tsne_vectors.index"
   ]
  },
  {
   "cell_type": "code",
   "execution_count": 36,
   "metadata": {
    "slideshow": {
     "slide_type": "skip"
    }
   },
   "outputs": [
    {
     "data": {
      "text/html": [
       "<div>\n",
       "<style scoped>\n",
       "    .dataframe tbody tr th:only-of-type {\n",
       "        vertical-align: middle;\n",
       "    }\n",
       "\n",
       "    .dataframe tbody tr th {\n",
       "        vertical-align: top;\n",
       "    }\n",
       "\n",
       "    .dataframe thead th {\n",
       "        text-align: right;\n",
       "    }\n",
       "</style>\n",
       "<table border=\"1\" class=\"dataframe\">\n",
       "  <thead>\n",
       "    <tr style=\"text-align: right;\">\n",
       "      <th></th>\n",
       "      <th>x_coord</th>\n",
       "      <th>y_coord</th>\n",
       "      <th>word</th>\n",
       "    </tr>\n",
       "  </thead>\n",
       "  <tbody>\n",
       "    <tr>\n",
       "      <th></th>\n",
       "      <td>-43.682186</td>\n",
       "      <td>33.196354</td>\n",
       "      <td></td>\n",
       "    </tr>\n",
       "    <tr>\n",
       "      <th>the</th>\n",
       "      <td>60.936298</td>\n",
       "      <td>-31.871368</td>\n",
       "      <td>the</td>\n",
       "    </tr>\n",
       "    <tr>\n",
       "      <th>to</th>\n",
       "      <td>55.425861</td>\n",
       "      <td>-30.385191</td>\n",
       "      <td>to</td>\n",
       "    </tr>\n",
       "    <tr>\n",
       "      <th>and</th>\n",
       "      <td>33.788177</td>\n",
       "      <td>10.613073</td>\n",
       "      <td>and</td>\n",
       "    </tr>\n",
       "    <tr>\n",
       "      <th>of</th>\n",
       "      <td>35.482513</td>\n",
       "      <td>7.884809</td>\n",
       "      <td>of</td>\n",
       "    </tr>\n",
       "  </tbody>\n",
       "</table>\n",
       "</div>"
      ],
      "text/plain": [
       "       x_coord    y_coord word\n",
       "    -43.682186  33.196354     \n",
       "the  60.936298 -31.871368  the\n",
       "to   55.425861 -30.385191   to\n",
       "and  33.788177  10.613073  and\n",
       "of   35.482513   7.884809   of"
      ]
     },
     "execution_count": 36,
     "metadata": {},
     "output_type": "execute_result"
    }
   ],
   "source": [
    "tsne_vectors.head()"
   ]
  },
  {
   "cell_type": "code",
   "execution_count": 37,
   "metadata": {
    "slideshow": {
     "slide_type": "skip"
    }
   },
   "outputs": [
    {
     "data": {
      "text/html": [
       "\n",
       "    <div class=\"bk-root\">\n",
       "        <a href=\"https://bokeh.pydata.org\" target=\"_blank\" class=\"bk-logo bk-logo-small bk-logo-notebook\"></a>\n",
       "        <span id=\"1001\">Loading BokehJS ...</span>\n",
       "    </div>"
      ]
     },
     "metadata": {},
     "output_type": "display_data"
    },
    {
     "data": {
      "application/javascript": [
       "\n",
       "(function(root) {\n",
       "  function now() {\n",
       "    return new Date();\n",
       "  }\n",
       "\n",
       "  var force = true;\n",
       "\n",
       "  if (typeof (root._bokeh_onload_callbacks) === \"undefined\" || force === true) {\n",
       "    root._bokeh_onload_callbacks = [];\n",
       "    root._bokeh_is_loading = undefined;\n",
       "  }\n",
       "\n",
       "  var JS_MIME_TYPE = 'application/javascript';\n",
       "  var HTML_MIME_TYPE = 'text/html';\n",
       "  var EXEC_MIME_TYPE = 'application/vnd.bokehjs_exec.v0+json';\n",
       "  var CLASS_NAME = 'output_bokeh rendered_html';\n",
       "\n",
       "  /**\n",
       "   * Render data to the DOM node\n",
       "   */\n",
       "  function render(props, node) {\n",
       "    var script = document.createElement(\"script\");\n",
       "    node.appendChild(script);\n",
       "  }\n",
       "\n",
       "  /**\n",
       "   * Handle when an output is cleared or removed\n",
       "   */\n",
       "  function handleClearOutput(event, handle) {\n",
       "    var cell = handle.cell;\n",
       "\n",
       "    var id = cell.output_area._bokeh_element_id;\n",
       "    var server_id = cell.output_area._bokeh_server_id;\n",
       "    // Clean up Bokeh references\n",
       "    if (id != null && id in Bokeh.index) {\n",
       "      Bokeh.index[id].model.document.clear();\n",
       "      delete Bokeh.index[id];\n",
       "    }\n",
       "\n",
       "    if (server_id !== undefined) {\n",
       "      // Clean up Bokeh references\n",
       "      var cmd = \"from bokeh.io.state import curstate; print(curstate().uuid_to_server['\" + server_id + \"'].get_sessions()[0].document.roots[0]._id)\";\n",
       "      cell.notebook.kernel.execute(cmd, {\n",
       "        iopub: {\n",
       "          output: function(msg) {\n",
       "            var id = msg.content.text.trim();\n",
       "            if (id in Bokeh.index) {\n",
       "              Bokeh.index[id].model.document.clear();\n",
       "              delete Bokeh.index[id];\n",
       "            }\n",
       "          }\n",
       "        }\n",
       "      });\n",
       "      // Destroy server and session\n",
       "      var cmd = \"import bokeh.io.notebook as ion; ion.destroy_server('\" + server_id + \"')\";\n",
       "      cell.notebook.kernel.execute(cmd);\n",
       "    }\n",
       "  }\n",
       "\n",
       "  /**\n",
       "   * Handle when a new output is added\n",
       "   */\n",
       "  function handleAddOutput(event, handle) {\n",
       "    var output_area = handle.output_area;\n",
       "    var output = handle.output;\n",
       "\n",
       "    // limit handleAddOutput to display_data with EXEC_MIME_TYPE content only\n",
       "    if ((output.output_type != \"display_data\") || (!output.data.hasOwnProperty(EXEC_MIME_TYPE))) {\n",
       "      return\n",
       "    }\n",
       "\n",
       "    var toinsert = output_area.element.find(\".\" + CLASS_NAME.split(' ')[0]);\n",
       "\n",
       "    if (output.metadata[EXEC_MIME_TYPE][\"id\"] !== undefined) {\n",
       "      toinsert[toinsert.length - 1].firstChild.textContent = output.data[JS_MIME_TYPE];\n",
       "      // store reference to embed id on output_area\n",
       "      output_area._bokeh_element_id = output.metadata[EXEC_MIME_TYPE][\"id\"];\n",
       "    }\n",
       "    if (output.metadata[EXEC_MIME_TYPE][\"server_id\"] !== undefined) {\n",
       "      var bk_div = document.createElement(\"div\");\n",
       "      bk_div.innerHTML = output.data[HTML_MIME_TYPE];\n",
       "      var script_attrs = bk_div.children[0].attributes;\n",
       "      for (var i = 0; i < script_attrs.length; i++) {\n",
       "        toinsert[toinsert.length - 1].firstChild.setAttribute(script_attrs[i].name, script_attrs[i].value);\n",
       "      }\n",
       "      // store reference to server id on output_area\n",
       "      output_area._bokeh_server_id = output.metadata[EXEC_MIME_TYPE][\"server_id\"];\n",
       "    }\n",
       "  }\n",
       "\n",
       "  function register_renderer(events, OutputArea) {\n",
       "\n",
       "    function append_mime(data, metadata, element) {\n",
       "      // create a DOM node to render to\n",
       "      var toinsert = this.create_output_subarea(\n",
       "        metadata,\n",
       "        CLASS_NAME,\n",
       "        EXEC_MIME_TYPE\n",
       "      );\n",
       "      this.keyboard_manager.register_events(toinsert);\n",
       "      // Render to node\n",
       "      var props = {data: data, metadata: metadata[EXEC_MIME_TYPE]};\n",
       "      render(props, toinsert[toinsert.length - 1]);\n",
       "      element.append(toinsert);\n",
       "      return toinsert\n",
       "    }\n",
       "\n",
       "    /* Handle when an output is cleared or removed */\n",
       "    events.on('clear_output.CodeCell', handleClearOutput);\n",
       "    events.on('delete.Cell', handleClearOutput);\n",
       "\n",
       "    /* Handle when a new output is added */\n",
       "    events.on('output_added.OutputArea', handleAddOutput);\n",
       "\n",
       "    /**\n",
       "     * Register the mime type and append_mime function with output_area\n",
       "     */\n",
       "    OutputArea.prototype.register_mime_type(EXEC_MIME_TYPE, append_mime, {\n",
       "      /* Is output safe? */\n",
       "      safe: true,\n",
       "      /* Index of renderer in `output_area.display_order` */\n",
       "      index: 0\n",
       "    });\n",
       "  }\n",
       "\n",
       "  // register the mime type if in Jupyter Notebook environment and previously unregistered\n",
       "  if (root.Jupyter !== undefined) {\n",
       "    var events = require('base/js/events');\n",
       "    var OutputArea = require('notebook/js/outputarea').OutputArea;\n",
       "\n",
       "    if (OutputArea.prototype.mime_types().indexOf(EXEC_MIME_TYPE) == -1) {\n",
       "      register_renderer(events, OutputArea);\n",
       "    }\n",
       "  }\n",
       "\n",
       "  \n",
       "  if (typeof (root._bokeh_timeout) === \"undefined\" || force === true) {\n",
       "    root._bokeh_timeout = Date.now() + 5000;\n",
       "    root._bokeh_failed_load = false;\n",
       "  }\n",
       "\n",
       "  var NB_LOAD_WARNING = {'data': {'text/html':\n",
       "     \"<div style='background-color: #fdd'>\\n\"+\n",
       "     \"<p>\\n\"+\n",
       "     \"BokehJS does not appear to have successfully loaded. If loading BokehJS from CDN, this \\n\"+\n",
       "     \"may be due to a slow or bad network connection. Possible fixes:\\n\"+\n",
       "     \"</p>\\n\"+\n",
       "     \"<ul>\\n\"+\n",
       "     \"<li>re-rerun `output_notebook()` to attempt to load from CDN again, or</li>\\n\"+\n",
       "     \"<li>use INLINE resources instead, as so:</li>\\n\"+\n",
       "     \"</ul>\\n\"+\n",
       "     \"<code>\\n\"+\n",
       "     \"from bokeh.resources import INLINE\\n\"+\n",
       "     \"output_notebook(resources=INLINE)\\n\"+\n",
       "     \"</code>\\n\"+\n",
       "     \"</div>\"}};\n",
       "\n",
       "  function display_loaded() {\n",
       "    var el = document.getElementById(\"1001\");\n",
       "    if (el != null) {\n",
       "      el.textContent = \"BokehJS is loading...\";\n",
       "    }\n",
       "    if (root.Bokeh !== undefined) {\n",
       "      if (el != null) {\n",
       "        el.textContent = \"BokehJS \" + root.Bokeh.version + \" successfully loaded.\";\n",
       "      }\n",
       "    } else if (Date.now() < root._bokeh_timeout) {\n",
       "      setTimeout(display_loaded, 100)\n",
       "    }\n",
       "  }\n",
       "\n",
       "\n",
       "  function run_callbacks() {\n",
       "    try {\n",
       "      root._bokeh_onload_callbacks.forEach(function(callback) { callback() });\n",
       "    }\n",
       "    finally {\n",
       "      delete root._bokeh_onload_callbacks\n",
       "    }\n",
       "    console.info(\"Bokeh: all callbacks have finished\");\n",
       "  }\n",
       "\n",
       "  function load_libs(js_urls, callback) {\n",
       "    root._bokeh_onload_callbacks.push(callback);\n",
       "    if (root._bokeh_is_loading > 0) {\n",
       "      console.log(\"Bokeh: BokehJS is being loaded, scheduling callback at\", now());\n",
       "      return null;\n",
       "    }\n",
       "    if (js_urls == null || js_urls.length === 0) {\n",
       "      run_callbacks();\n",
       "      return null;\n",
       "    }\n",
       "    console.log(\"Bokeh: BokehJS not loaded, scheduling load and callback at\", now());\n",
       "    root._bokeh_is_loading = js_urls.length;\n",
       "    for (var i = 0; i < js_urls.length; i++) {\n",
       "      var url = js_urls[i];\n",
       "      var s = document.createElement('script');\n",
       "      s.src = url;\n",
       "      s.async = false;\n",
       "      s.onreadystatechange = s.onload = function() {\n",
       "        root._bokeh_is_loading--;\n",
       "        if (root._bokeh_is_loading === 0) {\n",
       "          console.log(\"Bokeh: all BokehJS libraries loaded\");\n",
       "          run_callbacks()\n",
       "        }\n",
       "      };\n",
       "      s.onerror = function() {\n",
       "        console.warn(\"failed to load library \" + url);\n",
       "      };\n",
       "      console.log(\"Bokeh: injecting script tag for BokehJS library: \", url);\n",
       "      document.getElementsByTagName(\"head\")[0].appendChild(s);\n",
       "    }\n",
       "  };var element = document.getElementById(\"1001\");\n",
       "  if (element == null) {\n",
       "    console.log(\"Bokeh: ERROR: autoload.js configured with elementid '1001' but no matching script tag was found. \")\n",
       "    return false;\n",
       "  }\n",
       "\n",
       "  var js_urls = [\"https://cdn.pydata.org/bokeh/release/bokeh-1.0.4.min.js\", \"https://cdn.pydata.org/bokeh/release/bokeh-widgets-1.0.4.min.js\", \"https://cdn.pydata.org/bokeh/release/bokeh-tables-1.0.4.min.js\", \"https://cdn.pydata.org/bokeh/release/bokeh-gl-1.0.4.min.js\"];\n",
       "\n",
       "  var inline_js = [\n",
       "    function(Bokeh) {\n",
       "      Bokeh.set_log_level(\"info\");\n",
       "    },\n",
       "    \n",
       "    function(Bokeh) {\n",
       "      \n",
       "    },\n",
       "    function(Bokeh) {\n",
       "      console.log(\"Bokeh: injecting CSS: https://cdn.pydata.org/bokeh/release/bokeh-1.0.4.min.css\");\n",
       "      Bokeh.embed.inject_css(\"https://cdn.pydata.org/bokeh/release/bokeh-1.0.4.min.css\");\n",
       "      console.log(\"Bokeh: injecting CSS: https://cdn.pydata.org/bokeh/release/bokeh-widgets-1.0.4.min.css\");\n",
       "      Bokeh.embed.inject_css(\"https://cdn.pydata.org/bokeh/release/bokeh-widgets-1.0.4.min.css\");\n",
       "      console.log(\"Bokeh: injecting CSS: https://cdn.pydata.org/bokeh/release/bokeh-tables-1.0.4.min.css\");\n",
       "      Bokeh.embed.inject_css(\"https://cdn.pydata.org/bokeh/release/bokeh-tables-1.0.4.min.css\");\n",
       "    }\n",
       "  ];\n",
       "\n",
       "  function run_inline_js() {\n",
       "    \n",
       "    if ((root.Bokeh !== undefined) || (force === true)) {\n",
       "      for (var i = 0; i < inline_js.length; i++) {\n",
       "        inline_js[i].call(root, root.Bokeh);\n",
       "      }if (force === true) {\n",
       "        display_loaded();\n",
       "      }} else if (Date.now() < root._bokeh_timeout) {\n",
       "      setTimeout(run_inline_js, 100);\n",
       "    } else if (!root._bokeh_failed_load) {\n",
       "      console.log(\"Bokeh: BokehJS failed to load within specified timeout.\");\n",
       "      root._bokeh_failed_load = true;\n",
       "    } else if (force !== true) {\n",
       "      var cell = $(document.getElementById(\"1001\")).parents('.cell').data().cell;\n",
       "      cell.output_area.append_execute_result(NB_LOAD_WARNING)\n",
       "    }\n",
       "\n",
       "  }\n",
       "\n",
       "  if (root._bokeh_is_loading === 0) {\n",
       "    console.log(\"Bokeh: BokehJS loaded, going straight to plotting\");\n",
       "    run_inline_js();\n",
       "  } else {\n",
       "    load_libs(js_urls, function() {\n",
       "      console.log(\"Bokeh: BokehJS plotting callback run at\", now());\n",
       "      run_inline_js();\n",
       "    });\n",
       "  }\n",
       "}(window));"
      ],
      "application/vnd.bokehjs_load.v0+json": "\n(function(root) {\n  function now() {\n    return new Date();\n  }\n\n  var force = true;\n\n  if (typeof (root._bokeh_onload_callbacks) === \"undefined\" || force === true) {\n    root._bokeh_onload_callbacks = [];\n    root._bokeh_is_loading = undefined;\n  }\n\n  \n\n  \n  if (typeof (root._bokeh_timeout) === \"undefined\" || force === true) {\n    root._bokeh_timeout = Date.now() + 5000;\n    root._bokeh_failed_load = false;\n  }\n\n  var NB_LOAD_WARNING = {'data': {'text/html':\n     \"<div style='background-color: #fdd'>\\n\"+\n     \"<p>\\n\"+\n     \"BokehJS does not appear to have successfully loaded. If loading BokehJS from CDN, this \\n\"+\n     \"may be due to a slow or bad network connection. Possible fixes:\\n\"+\n     \"</p>\\n\"+\n     \"<ul>\\n\"+\n     \"<li>re-rerun `output_notebook()` to attempt to load from CDN again, or</li>\\n\"+\n     \"<li>use INLINE resources instead, as so:</li>\\n\"+\n     \"</ul>\\n\"+\n     \"<code>\\n\"+\n     \"from bokeh.resources import INLINE\\n\"+\n     \"output_notebook(resources=INLINE)\\n\"+\n     \"</code>\\n\"+\n     \"</div>\"}};\n\n  function display_loaded() {\n    var el = document.getElementById(\"1001\");\n    if (el != null) {\n      el.textContent = \"BokehJS is loading...\";\n    }\n    if (root.Bokeh !== undefined) {\n      if (el != null) {\n        el.textContent = \"BokehJS \" + root.Bokeh.version + \" successfully loaded.\";\n      }\n    } else if (Date.now() < root._bokeh_timeout) {\n      setTimeout(display_loaded, 100)\n    }\n  }\n\n\n  function run_callbacks() {\n    try {\n      root._bokeh_onload_callbacks.forEach(function(callback) { callback() });\n    }\n    finally {\n      delete root._bokeh_onload_callbacks\n    }\n    console.info(\"Bokeh: all callbacks have finished\");\n  }\n\n  function load_libs(js_urls, callback) {\n    root._bokeh_onload_callbacks.push(callback);\n    if (root._bokeh_is_loading > 0) {\n      console.log(\"Bokeh: BokehJS is being loaded, scheduling callback at\", now());\n      return null;\n    }\n    if (js_urls == null || js_urls.length === 0) {\n      run_callbacks();\n      return null;\n    }\n    console.log(\"Bokeh: BokehJS not loaded, scheduling load and callback at\", now());\n    root._bokeh_is_loading = js_urls.length;\n    for (var i = 0; i < js_urls.length; i++) {\n      var url = js_urls[i];\n      var s = document.createElement('script');\n      s.src = url;\n      s.async = false;\n      s.onreadystatechange = s.onload = function() {\n        root._bokeh_is_loading--;\n        if (root._bokeh_is_loading === 0) {\n          console.log(\"Bokeh: all BokehJS libraries loaded\");\n          run_callbacks()\n        }\n      };\n      s.onerror = function() {\n        console.warn(\"failed to load library \" + url);\n      };\n      console.log(\"Bokeh: injecting script tag for BokehJS library: \", url);\n      document.getElementsByTagName(\"head\")[0].appendChild(s);\n    }\n  };var element = document.getElementById(\"1001\");\n  if (element == null) {\n    console.log(\"Bokeh: ERROR: autoload.js configured with elementid '1001' but no matching script tag was found. \")\n    return false;\n  }\n\n  var js_urls = [\"https://cdn.pydata.org/bokeh/release/bokeh-1.0.4.min.js\", \"https://cdn.pydata.org/bokeh/release/bokeh-widgets-1.0.4.min.js\", \"https://cdn.pydata.org/bokeh/release/bokeh-tables-1.0.4.min.js\", \"https://cdn.pydata.org/bokeh/release/bokeh-gl-1.0.4.min.js\"];\n\n  var inline_js = [\n    function(Bokeh) {\n      Bokeh.set_log_level(\"info\");\n    },\n    \n    function(Bokeh) {\n      \n    },\n    function(Bokeh) {\n      console.log(\"Bokeh: injecting CSS: https://cdn.pydata.org/bokeh/release/bokeh-1.0.4.min.css\");\n      Bokeh.embed.inject_css(\"https://cdn.pydata.org/bokeh/release/bokeh-1.0.4.min.css\");\n      console.log(\"Bokeh: injecting CSS: https://cdn.pydata.org/bokeh/release/bokeh-widgets-1.0.4.min.css\");\n      Bokeh.embed.inject_css(\"https://cdn.pydata.org/bokeh/release/bokeh-widgets-1.0.4.min.css\");\n      console.log(\"Bokeh: injecting CSS: https://cdn.pydata.org/bokeh/release/bokeh-tables-1.0.4.min.css\");\n      Bokeh.embed.inject_css(\"https://cdn.pydata.org/bokeh/release/bokeh-tables-1.0.4.min.css\");\n    }\n  ];\n\n  function run_inline_js() {\n    \n    if ((root.Bokeh !== undefined) || (force === true)) {\n      for (var i = 0; i < inline_js.length; i++) {\n        inline_js[i].call(root, root.Bokeh);\n      }if (force === true) {\n        display_loaded();\n      }} else if (Date.now() < root._bokeh_timeout) {\n      setTimeout(run_inline_js, 100);\n    } else if (!root._bokeh_failed_load) {\n      console.log(\"Bokeh: BokehJS failed to load within specified timeout.\");\n      root._bokeh_failed_load = true;\n    } else if (force !== true) {\n      var cell = $(document.getElementById(\"1001\")).parents('.cell').data().cell;\n      cell.output_area.append_execute_result(NB_LOAD_WARNING)\n    }\n\n  }\n\n  if (root._bokeh_is_loading === 0) {\n    console.log(\"Bokeh: BokehJS loaded, going straight to plotting\");\n    run_inline_js();\n  } else {\n    load_libs(js_urls, function() {\n      console.log(\"Bokeh: BokehJS plotting callback run at\", now());\n      run_inline_js();\n    });\n  }\n}(window));"
     },
     "metadata": {},
     "output_type": "display_data"
    }
   ],
   "source": [
    "from bokeh.plotting import figure, show, output_notebook\n",
    "from bokeh.models import HoverTool, ColumnDataSource, value\n",
    "\n",
    "output_notebook()"
   ]
  },
  {
   "cell_type": "code",
   "execution_count": 38,
   "metadata": {
    "slideshow": {
     "slide_type": "skip"
    }
   },
   "outputs": [
    {
     "data": {
      "text/html": [
       "\n",
       "\n",
       "\n",
       "\n",
       "\n",
       "\n",
       "  <div class=\"bk-root\" id=\"d8c8aad9-97ef-4e4f-a299-213e8d119fbe\" data-root-id=\"1004\"></div>\n"
      ]
     },
     "metadata": {},
     "output_type": "display_data"
    },
    {
     "data": {
      "application/javascript": [
       "(function(root) {\n",
       "  function embed_document(root) {\n",
       "    \n",
       "  var docs_json = {\"2e3bd5ff-2001-4f9f-a470-0ca3154a9387\":{\"roots\":{\"references\":[{\"attributes\":{\"bottom_units\":\"screen\",\"fill_alpha\":{\"value\":0.5},\"fill_color\":{\"value\":\"lightgrey\"},\"left_units\":\"screen\",\"level\":\"overlay\",\"line_alpha\":{\"value\":1.0},\"line_color\":{\"value\":\"black\"},\"line_dash\":[4,4],\"line_width\":{\"value\":2},\"plot\":null,\"render_mode\":\"css\",\"right_units\":\"screen\",\"top_units\":\"screen\"},\"id\":\"1034\",\"type\":\"BoxAnnotation\"},{\"attributes\":{\"fill_alpha\":{\"value\":0.1},\"fill_color\":{\"value\":\"#1f77b4\"},\"line_alpha\":{\"value\":0.1},\"line_color\":{\"value\":\"#1f77b4\"},\"size\":{\"units\":\"screen\",\"value\":10},\"x\":{\"field\":\"x_coord\"},\"y\":{\"field\":\"y_coord\"}},\"id\":\"1043\",\"type\":\"Circle\"},{\"attributes\":{\"active_drag\":\"auto\",\"active_inspect\":\"auto\",\"active_multi\":null,\"active_scroll\":{\"id\":\"1025\",\"type\":\"WheelZoomTool\"},\"active_tap\":\"auto\",\"tools\":[{\"id\":\"1024\",\"type\":\"PanTool\"},{\"id\":\"1025\",\"type\":\"WheelZoomTool\"},{\"id\":\"1026\",\"type\":\"BoxZoomTool\"},{\"id\":\"1027\",\"type\":\"BoxSelectTool\"},{\"id\":\"1028\",\"type\":\"ResetTool\"},{\"id\":\"1039\",\"type\":\"HoverTool\"}]},\"id\":\"1029\",\"type\":\"Toolbar\"},{\"attributes\":{},\"id\":\"1010\",\"type\":\"LinearScale\"},{\"attributes\":{\"callback\":null,\"tooltips\":\"@word\"},\"id\":\"1039\",\"type\":\"HoverTool\"},{\"attributes\":{\"callback\":null},\"id\":\"1006\",\"type\":\"DataRange1d\"},{\"attributes\":{},\"id\":\"1020\",\"type\":\"BasicTicker\"},{\"attributes\":{},\"id\":\"1024\",\"type\":\"PanTool\"},{\"attributes\":{},\"id\":\"1053\",\"type\":\"UnionRenderers\"},{\"attributes\":{\"fill_alpha\":{\"value\":0.1},\"fill_color\":{\"value\":\"blue\"},\"line_alpha\":{\"value\":0.2},\"line_color\":{\"value\":\"blue\"},\"size\":{\"units\":\"screen\",\"value\":10},\"x\":{\"field\":\"x_coord\"},\"y\":{\"field\":\"y_coord\"}},\"id\":\"1042\",\"type\":\"Circle\"},{\"attributes\":{\"overlay\":{\"id\":\"1031\",\"type\":\"BoxAnnotation\"}},\"id\":\"1026\",\"type\":\"BoxZoomTool\"},{\"attributes\":{\"bottom_units\":\"screen\",\"fill_alpha\":{\"value\":0.5},\"fill_color\":{\"value\":\"lightgrey\"},\"left_units\":\"screen\",\"level\":\"overlay\",\"line_alpha\":{\"value\":1.0},\"line_color\":{\"value\":\"black\"},\"line_dash\":[4,4],\"line_width\":{\"value\":2},\"plot\":null,\"render_mode\":\"css\",\"right_units\":\"screen\",\"top_units\":\"screen\"},\"id\":\"1031\",\"type\":\"BoxAnnotation\"},{\"attributes\":{\"plot\":null,\"text\":\"t-SNE Word Embeddings\",\"text_font_size\":{\"value\":\"16pt\"}},\"id\":\"1003\",\"type\":\"Title\"},{\"attributes\":{},\"id\":\"1025\",\"type\":\"WheelZoomTool\"},{\"attributes\":{\"callback\":null},\"id\":\"1008\",\"type\":\"DataRange1d\"},{\"attributes\":{},\"id\":\"1028\",\"type\":\"ResetTool\"},{\"attributes\":{\"dimension\":1,\"grid_line_color\":{\"value\":null},\"plot\":{\"id\":\"1004\",\"subtype\":\"Figure\",\"type\":\"Plot\"},\"ticker\":{\"id\":\"1020\",\"type\":\"BasicTicker\"}},\"id\":\"1023\",\"type\":\"Grid\"},{\"attributes\":{},\"id\":\"1015\",\"type\":\"BasicTicker\"},{\"attributes\":{\"callback\":null,\"data\":{\"index\":[\"\",\"the\",\"to\",\"and\",\"of\",\"a\",\"in\",\"for\",\"on\",\"you\",\"is\",\"that\",\"i\",\"=\",\"this\",\"be\",\"with\",\"at\",\"are\",\"will\",\"have\",\"as\",\"by\",\"it\",\"or\",\"from\",\"we\",\"-\",\"your\",\"not\",\"enron\",\"if\",\"an\",\"has\",\"was\",\"would\",\"all\",\"subject\",\"gas\",\"please\",\"any\",\"but\",\"can\",\"john\",\"2001\",\"its\",\"me\",\"said\",\"new\",\"more\",\"company\",\"about\",\"power\",\"our\",\"they\",\"market\",\"up\",\"do\",\"am\",\"out\",\"he\",\"get\",\"energy\",\"which\",\"may\",\"been\",\"my\",\"&\",\"so\",\"what\",\"one\",\"time\",\"e-mail\",\"price\",\"their\",\"pm\",\"some\",\"message-----from\",\"other\",\"there\",\"know\",\"also\",\"no\",\"like\",\"information\",\"than\",\"forwarded\",\"these\",\"phillip\",\"[image]\",\"need\",\"-----original\",\"call\",\"email\",\"trading\",\"when\",\"were\",\"had\",\"last\",\"us\",\"2000\",\"business\",\"year\",\"who\",\"just\",\"pmto\",\"only\",\"should\",\"|\",\"now\",\"week\",\"re\",\"k\",\"could\",\"into\",\"see\",\"over\",\"meeting\",\"think\",\"after\",\"how\",\"message\",\"buy\",\"financial\",\"prices\",\">\",\"want\",\"here\",\"two\",\"make\",\"amto\",\"day\",\"inc\",\"them\",\"million\",\"sent\",\"per\",\"work\",\"next\",\"his\",\"iso\",\"deal\",\"back\",\"use\",\"enron's\",\"today\",\"october\",\"--\",\"going\",\"credit\",\"through\",\"corp\",\"first\",\"offer\",\"such\",\"go\",\"good\",\"take\",\"stock\",\"natural\",\"jones\",\"very\",\"questions\",\"contact\",\"billion\",\"project\",\"much\",\"california\",\"free\",\"down\",\"under\",\"still\",\"following\",\"1\",\"----------------------\",\"align=\\\"right\\\"><font\",\"let\",\"2\",\"those\",\"companies\",\"news\",\"then\",\"don't\",\"state\",\"available\",\"well\",\"trade\",\"click\",\"electricity\",\"sell\",\"demand\",\"houston\",\"management\",\"dow\",\"friday\",\"value\",\"each\",\"s\",\"help\",\"monday\",\"because\",\"most\",\"report\",\"service\",\"review\",\"off\",\"system\",\"november\",\"group\",\"before\",\"markets\",\"between\",\"file\",\"attached\",\"services\",\"list\",\"access\",\"3\",\"way\",\"receive\",\"it's\",\"rights\",\"data\",\"cost\",\"date\",\"since\",\"number\",\"plan\",\"forward\",\"arnold/hou/ect@ectcc\",\"j\",\"years\",\"did\",\"name\",\"both\",\"provide\",\"find\",\"cash\",\"order\",\"send\",\"people\",\"august\",\"many\",\"mark\",\"change\",\"address\",\"i'm\",\"made\",\"current\",\"jeff\",\"right\",\"daily\",\"below\",\"give\",\"being\",\"where\",\"u.s\",\"75pt\",\"shares\",\"look\",\"allen/hou/ect\",\"during\",\"oil\",\"office\",\"long\",\"products\",\"might\",\"days\",\"york\",\"month\",\"percent\",\"him\",\"even\",\"set\",\"until\",\"web\",\"does\",\"tuesday\",\"sure\",\"three\",\"\\t\\t\",\"thursday\",\"however\",\"high\",\"street\",\"times\",\"2002\",\"contract\",\"december\",\"received\",\"internet\",\"board\",\"while\",\"come\",\"phone\",\"north\",\"size=-1>\",\"jennifer\",\"mike\",\"investment\",\"believe\",\"must\",\"10\",\"risk\",\"regarding\",\"own\",\"due\",\"additional\",\"investors\",\"wednesday\",\"pay\",\"4\",\"5\",\"agreement\",\"arnold\",\"customers\",\"around\",\"based\",\"conference\",\"scheduled\",\"spread\",\"request\",\"interest\",\"basis\",\"online\",\"c\",\"options\",\"possible\",\"same\",\"reserved\",\"close\",\"issues\",\"best\",\"few\",\"put\",\"end\",\"position\",\"great\",\"keep\",\"share\",\"rates\",\"dynegy\",\"july\",\"team\",\"earnings\",\"exchange\",\"costs\",\"note\",\"september\",\"et\",\"m\",\"america\",\"able\",\"deals\",\"customer\",\"place\",\"money\",\"site\",\"chief\",\"equity\",\"thanks\",\"months\",\"utilities\",\"30\",\"global\",\"15\",\"total\",\"allen\",\"mr\",\"intended\",\"line\",\"san\",\"lot\",\"communications\",\"little\",\"past\",\"point\",\"industry\",\"short\",\"june\",\"smith\",\"move\",\"another\",\"president\",\">>\",\"working\",\"contracts\",\"too\",\"she\",\"future\",\"debt\",\"say\",\"support\",\"active\",\"part\",\"term\",\"program\",\"got\",\"713\",\"executive\",\"trades\",\"general\",\"march\",\"complete\",\"looking\",\"including\",\"bid\",\"sales\",\"really\",\"again\",\"big\",\"process\",\"above\",\"via\",\"steve\",\"include\",\"meet\",\"center\",\"transactions\",\"weather\",\"thru\",\"limited\",\"cc\",\"getting\",\"further\",\"david\",\"respond\",\"desk\",\"check\",\"herein\",\"less\",\"says\",\"january\",\"update\",\"w\",\"comments\",\"ebs\",\"weeks\",\"run\",\"purchase\",\"lower\",\"account\",\"traders\",\"book\",\"amount\",\"<td\",\"details\",\"things\",\"morning\",\"view\",\"hope\",\"production\",\"done\",\"several\",\"l\",\"either\",\"susan\",\"robert\",\"strong\",\"using\",\"align=\\\"left\\\"><font\",\"loan\",\"product\",\"terms\",\"quarter\",\"used\",\"better\",\"start\",\"asked\",\"already\",\"company's\",\"try\",\"west\",\"employees\",\"ferc\",\"sent:\\tmonday\",\"director\",\"her\",\"second\",\"rate\",\"why\",\"20\",\"every\",\"world\",\"commission\",\"open\",\"wall\",\"james\",\"unit\",\"against\",\"d\",\"t\",\"without\",\"higher\",\"tomorrow\",\"international\",\"thank\",\"soon\",\"analyst\",\"numbers\",\"utility\",\"arnold/hou/ect\",\"trying\",\"different\",\"third\",\"told\",\"recipient\",\"wine\",\"needs\",\"</td>\",\"city\",\"home\",\"storage\",\"discuss\",\"continue\",\"expected\",\"i'll\",\"texas\",\"michael\",\"firm\",\"development\",\"wholesale\",\"issue\",\"net\",\"11\",\"nymex\",\"bank\",\"lay\",\"13\",\"bill\",\"top\",\"assets\",\"changes\",\"co\",\"average\",\"full\",\"public\",\"generation\",\"whether\",\"level\",\"communications@enron\",\"yesterday\",\"scott\",\"impact\",\"---------------------------\",\"kim\",\"manager\",\"reports\",\"plans\",\"members\",\"and/or\",\"least\",\"area\",\"feel\",\"currently\",\"form\",\"points\",\"government\",\"real\",\"electric\",\"outlook\",\"period\",\"london\",\"create\",\"growth\",\"results\",\"fax\",\"confidential\",\"analysts\",\"special\",\"notice\",\"<p\",\"eol\",\"frank\",\"6\",\"futures\",\"supply\",\"securities\",\"capital\",\"buying\",\"research\",\"notes\",\"early\",\"problem\",\"richard\",\"75pt'>\",\"once\",\"yet\",\"reported\",\"floor\",\"cents\",\"problems\",\"far\",\"opportunity\",\"talk\",\"copy\",\"major\",\"marketing\",\"coming\",\"provided\",\"four\",\"probably\",\"game\",\"according\",\"operations\",\"schedule\",\"participants\",\"interested\",\"summer\",\"economic\",\"sources\",\"style='padding:.75pt\",\"recent\",\"trader\",\"cut\",\"jim\",\"de\",\"material\",\"within\",\"pipeline\",\"yes\",\"included\",\"plant\",\"broadband\",\"chairman\",\"distribution\",\"making\",\"25\",\"party\",\"type\",\"greg\",\"doing\",\"transaction\",\"american\",\"left\",\"oct\",\"index\",\"paid\",\"something\",\"id\",\"stocks\",\"looks\",\"case\",\"12\",\"that's\",\"/\",\"prior\",\"decision\",\"loss\",\"selling\",\"likely\",\"anything\",\"cap\",\"question\",\"<<\",\"transmission\",\"night\",\"reuters\",\"ago\",\"tim\",\"read\",\"response\",\"positions\",\"letter\",\"larry\",\"commercial\",\"later\",\"p.m\",\"meetings\",\"page\",\"construction\",\"sign\",\"press\",\"having\",\"building\",\"sale\",\"important\",\"weekend\",\"property\",\"plants\",\"discussed\",\"show\",\"anyone\",\"original\",\"approval\",\"low\",\"visit\",\"you're\",\"federal\",\"fall\",\"ena\",\"reason\",\"final\",\"fund\",\"sent:\\ttuesday\",\"1999\",\"related\",\"policy\",\"upon\",\"dec\",\"person\",\"sat\",\"though\",\"kevin\",\"increase\",\"hours\",\"link\",\"land\",\"operating\",\"bring\",\"bob\",\"worth\",\"job\",\"paul\",\"potential\",\"ask\",\"nov\",\"payment\",\"action\",\"e\",\"front\",\"corporate\",\"enough\",\"hot\",\"capacity\",\"add\",\"rating\",\"align=right\",\"option\",\"we're\",\"agreed\",\"technology\",\"@\",\"\\tarnold\",\"client\",\"direct\",\"private\",\"event\",\"independent\",\"save\",\"large\",\"winter\",\"held\",\"concerns\",\"+\",\"info\",\"physical\",\"partnerships\",\"thought\",\"hard\",\"small\",\"curve\",\"pm\\tto\",\"charge\",\"ng\",\"national\",\"document\",\"late\",\"margaret\",\"expressed\",\"play\",\"jan\",\"together\",\"r\",\"house\",\"sunday\",\"addition\",\"india\",\"room\",\"31\",\"required\",\"8\",\"tell\",\"allow\",\"never\",\"hold\",\"sold\",\"resources\",\"b\",\"april\",\"called\",\"units\",\"return\",\"*\",\"network\",\"7\",\"legal\",\"load\",\"arnold/hou/ect@ect\",\"didn't\",\"can't\",\"post\",\"personal\",\"14\",\"analysis\",\"wanted\",\"release\",\"taking\",\"offers\",\"funds\",\"economy\",\"allen/hou/ect@ect\",\"website\",\"jeffrey\",\"\\t\\t\\tfrom\",\"listed\",\"officer\",\"systems\",\"recently\",\"16\",\"standard\",\"feedback\",\"cent\",\"immediately\",\"paper\",\"everyone\",\"unsubscribe\",\"02\",\"earlier\",\"thing\",\"$\",\"opportunities\",\"calls\",\"chris\",\"software\",\"class=msonormal\",\"businesses\",\"reply\",\"states\",\"projects\",\"plus\",\"=09\",\"08\",\"wish\",\"broker\",\"section\",\"levels\",\"profit\",\"sun\",\"course\",\"works\",\"cannot\",\"volume\",\"maybe\",\"prohibited\",\"away\",\"member\",\"northwest\",\"among\",\"others\",\"attend\",\"\\tenron\",\"orders\",\"result\",\"class\",\"=01\",\"given\",\"f\",\"announced\",\"charges\",\"guys\",\"harry\",\"delete\",\"fell\",\"align=3d\\\"right\\\"><font\",\"largest\",\"h\",\"carr\",\"vice\",\"suite\",\"18\",\"found\",\"partnership\",\"ready\",\"tx\",\"responsible\",\"statement\",\"strategic\",\"includes\",\"john.arnold@enron.com\",\"seen\",\"extra\",\"water\",\"staff\",\"29\",\"completed\",\"expect\",\"<tr><td\",\"understand\",\"fw\",\"sent:\\twednesday\",\"fastow\",\"lost\",\"george\",\"investor\",\"seems\",\"white\",\"idea\",\"side\",\"pricing\",\"experience\",\"size=3d-1>\",\"relationship\",\"air\",\"portfolio\",\"hour\",\"26\",\"fees\",\"answer\",\"portland\",\"follow\",\"align='left\",\"old\",\"johnsubject:\\tre\",\"drop\",\"longer\",\"performance\",\"investments\",\"clear\",\"afternoon\",\"wants\",\"posted\",\"mw\",\"instructions\",\"fuel\",\"sector\",\"across\",\"contained\",\"industrial\",\"chance\",\"planning\",\"published\",\"brian\",\"five\",\"pmto:\\tarnold\",\"minutes\",\"sent:\\tthursday\",\"local\",\"necessary\",\"items\",\"21\",\"computer\",\"yahoo\",\"error\",\"davis\",\"#\",\"act\",\"regulatory\",\"mail\",\"balance\",\"always\",\"latest\",\"february\",\"therefore\",\"rather\",\"someone\",\"eric\",\"keith\",\"requested\",\"location\",\"along\",\"south\",\"behalf\",\"western\",\"build\",\"simply\",\"hunter\",\"half\",\"bloomberg\",\"monthly\",\"migration\",\"ahead\",\"tax\",\"size\",\"couple\",\"heads\",\"ene\",\"corp.\\t\\tfrom\",\"doesn't\",\"el\",\"tom\",\"nothing\",\"become\",\"allen/hou/ect@ectcc\",\"directors\",\"means\",\"taken\",\"charts\",\"starting\",\"security\",\"disclosure\",\"directly\",\"crude\",\"loans\",\"leave\",\"needed\",\"else\",\"alt=\",\"consumers\",\"password\",\"bonds\",\"lead\",\"initial\",\"added\",\"focus\",\"instead\",\"committee\",\"fact\",\"pretty\",\"server\",\"finance\",\"senior\",\"actual\",\"mary\",\"certain\",\"rent\",\"bmc\",\"corporation\",\"fixed\",\"ce\",\"almost\",\"took\",\"confirm\",\"communication\",\"near\",\"lines\",\"var\",\"executives\",\"class='emailtextblack\",\"went\",\"we'll\",\"quality\",\"heat\",\"beginning\",\"significant\",\"considered\",\"live\",\"happy\",\"peter\",\"structure\",\"financing\",\"downgraded\",\"actually\",\"user\",\"dinner\",\"lng\",\"delivery\",\"flow\",\"although\",\"training\",\"$1\",\"thomas\",\"closing\",\"unable\",\"ina\",\"offset\",\"agree\",\"design\",\"common\",\"version\",\"joe\",\"paso\",\"size=-1><b>\",\"comment\",\"socal\",\"approved\",\"miles\",\"williams\",\"enter\",\"comes\",\"swaps\",\"traded\",\"efforts\",\"i've\",\"spoke\",\"hear\",\"east\",\"appreciate\",\"dabhol\",\"normal\",\"discussions\",\"stay\",\"central\",\"code\",\"saturday\",\"500\",\"9\",\"everything\",\"solely\",\"firms\",\"six\",\"swap\",\"increased\",\"entity\",\"minimum\",\"biggest\",\"merger\",\"draft\",\"amto:\\tarnold\",\"24\",\"commodity\",\"range\",\"am\\tto\",\"status\",\"bad\",\"morgan\",\"spokesman\",\"story\",\"reduction\",\"coverage\",\"english\",\"technical\",\"core\",\"officials\",\"moving\",\"documents\",\"dollars\",\"control\",\"department\",\"example\",\"ceo\",\"interview\",\"stop\",\"23\",\"solutions\",\"associated\",\"tech\",\"express\",\"gary\",\"individual\",\"willing\",\"fee\",\"files\",\"notify\",\"proposal\",\"continental\",\"worked\",\"master\",\"former\",\"counterparties\",\"application\",\"g\",\"presentation\",\"estimates\",\"sender\",\"today's\",\"shall\",\"heard\",\"events\",\"foreign\",\"ct\",\"source\",\"appropriate\",\"hedging\",\"groups\",\"bids\",\"discussion\",\"card\",\"what's\",\"washington\",\"except\",\"income\",\"previous\",\"andrew\",\"remove\",\"shipping\",\"accurate\",\"vs\",\"rules\",\"life\",\"consider\",\"compaq\",\"won't\",\"car\",\"holiday\",\"generators\",\"session\",\"dates\",\"<br>\",\"model\",\"27\",\"dave\",\"vol\",\"makes\",\"cover\",\"changed\",\"employee\",\"effect\",\"john.arnold@enron.comcc\",\"mentioned\",\"strategy\",\"spreadsheet\",\"caiso\",\"country\",\"begin\",\"accounting\",\"requirements\",\"track\",\"clearing\",\"retail\",\"join\",\"cal\",\"came\",\"17\",\"sheet\",\"bills\",\"purpose\",\"field\",\"key\",\"andy\",\"fill\",\"force\",\"transfer\",\"various\",\"rose\",\"approximately\",\"ability\",\"existing\",\"conditions\",\"relations\",\"annual\",\"proposed\",\"test\",\"deregulation\",\"summary\",\"content\",\"saw\",\"pmplease\",\"\\t\",\"met\",\"grid\",\"role\",\"rest\",\"signed\",\"whole\",\"require\",\"input\",\"specific\",\"showtimes\",\"remember\",\"ideas\",\"pass\",\"hedge\",\"apply\",\"long-term\",\"leading\",\"[mailto:john.arnold@enron.com]sent\",\"nat\",\"copyright\",\"paribas\",\"managing\",\"double\",\"parties\",\"let's\",\"1998\",\"newswires\",\"united\",\"matt\",\"privacy\",\"continued\",\"university\",\"study\",\"effort\",\"19\",\"producers\",\"california's\",\"ever\",\"officers\",\"indian\",\"std\",\"video\",\"bond\",\"started\",\"losses\",\"light\",\"thus\",\"community\",\"specials\",\"28\",\"reserves\",\"stake\",\"attachments\",\"family\",\"facility\",\"william\",\"advance\",\"main\",\"the>\",\"huge\",\"filed\",\"px\",\"diego\",\"matter\",\"fri\",\"running\",\"a.m\",\"etc\",\"reduced\",\"reporting\",\"calendar\",\"love\",\"volumes\",\"partners\",\"asset\",\"sending\",\"continental.com\",\"concern\",\"pao\",\"forecast\",\"sent:\\tfriday\",\"internal\",\"metals\",\"confidence\",\"clients\",\"dear\",\"reduce\",\"season\",\"mean\",\"outside\",\"ca\",\"spreads\",\"x\",\"similar\",\"areas\",\"law\",\"contain\",\"activity\",\"europe\",\"stephanie\",\"turn\",\"sec\",\"50\",\"week's\",\"exposure\",\"il\",\"p\",\"receiving\",\"banks\",\"saying\",\"outstanding\",\"effective\",\"determine\",\"maximum\",\"applications\",\"message-----\",\"entire\",\"represent\",\"impacted\",\"table\",\"learn\",\"ken\",\"journal\",\"lots\",\"users\",\"care\",\"don\",\"admin\",\"volatility\",\"p&l\",\"ou\",\"southern\",\"especially\",\"canada\",\"talks\",\"target\",\"pt\",\"missed\",\"remain\",\"gets\",\"toute\",\"ensure\",\"buyer\",\"develop\",\"travel\",\"thinking\",\"bought\",\"guarantee\",\"filing\",\"derivatives\",\"accept\",\"dollar\",\"agreements\",\"talking\",\"=20<br>\",\"easy\",\"named\",\"%\",\"authority\",\"names\",\"pacific\",\"equipment\",\"provides\",\"aga\",\"reach\",\"pg&e\",\"stage\",\"ratings\",\"100\",\"initiated\",\"hp\",\"court\",\"issued\",\"$4\",\"sorry\",\"reserve\",\"hit\",\"weekly\",\"closed\",\"fraser\",\"y\",\"drive\",\"clicking\",\"space\",\"tickets\",\"emergency\",\"prepared\",\"package\",\"jobs\",\"red\",\"11/17/2001\",\"certainly\",\"tails\",\"stephen\",\"ny\",\"article\",\"estimated\",\"style='text-align:right'><span\",\"tonight\",\"rental\",\"region\",\"watch\",\"win\",\"instruments\",\"participation\",\"participate\",\"box\",\"alan\",\"head\",\"single\",\"confirmation\",\"sept\",\"investigation\",\"ok\",\"screen\",\"benefit\",\"sdg&e\",\"bullish\",\"overall\",\"22\",\"karen\",\"1997\",\"created\",\"newsletter\",\"peak\",\"declined\",\"dpc\",\"profits\",\"man\",\"unless\",\"mind\",\"manage\",\"handle\",\"maintenance\",\"compared\",\"sarah\",\"seem\",\"choose\",\"moved\",\"located\",\"updated\",\"helvetica\",\"liquidity\",\"revenue\",\"updates\",\"hotel\",\"appears\",\"third-quarter\",\"limit\",\"ltd\",\"picture\",\"recommendation\",\"written\",\"dr\",\"agenda\",\"select\",\"activities\",\"termination\",\"concerned\",\"revised\",\"---------------------------from\",\"enrononline\",\"copies\",\"microsoft\",\"isn't\",\"hotels\",\"he's\",\"916\",\"quote\",\"takes\",\"fun\",\"vacation\",\"haven't\",\"attorney\",\"speak\",\"features\",\"books\",\"wireless\",\"record\",\"ees\",\"considering\",\"steven\",\"state's\",\"kenneth\",\"base\",\"delivered\",\"n\",\"dissemination\",\"goes\",\"phase\",\"la\",\"margin\",\"1st\",\"organization\",\"advantage\",\"savings\",\"avoid\",\"regards\",\"i'd\",\"situation\",\"bottom\",\"strictly\",\"solution\",\"reached\",\"offered\",\"dont\",\"behind\",\"bnp\",\"statements\",\"extremely\",\"belden/hou/ect@ect\",\"trip\",\"led\",\"guess\",\"town\",\"<epao@mba2002.hbs.edu>\",\"paying\",\"rise\",\"they're\",\"0\",\"billing\",\"pick\",\"availability\",\"mseb\",\"participant\",\"50%\",\"jarnold@enron.com\",\"face=\\\"verdana\",\"records\",\"intercontinentalexchange\",\"counterparty\",\"political\",\"registered\",\"friend\",\"school\",\"word\",\"moody's\",\"log\",\"involved\",\"telephone\",\"failed\",\"expenses\",\"craig\",\"rob\",\"difficult\",\"arial\",\"settlement\",\"friends\",\"greater\",\"barry\",\"assistance\",\"yourself\",\"</font></td></tr>\",\"calif\",\"survey\",\"londonoutage\",\"fraser/enron@enronxgate\",\"official\",\"block\",\"pressure\",\"estate\",\"consumer\",\"valid\",\"calling\",\"testing\",\"dutch\",\"puc\",\"indices\",\"zdnet\",\"jason\",\"ice\",\"ways\",\"shareholders\",\"myself\",\"detailed\",\"border='0\",\"ed\",\"club\",\"significantly\",\"fine\",\"write\",\"fair\",\"crisis\",\"cell\",\"known\",\"preferred\",\"improve\",\"builders\",\"gave\",\"accounts\",\"often\",\"author\",\"joseph\",\"regulators\",\"administration\",\"quickly\",\"kind\",\"otherwise\",\"shareholder\",\"<jarnold@enron.com>cc\",\"$5\",\"history\",\"evening\",\"hub\",\"matthew\",\"bit\",\"nearly\",\"partner\",\"leaving\",\"pm\\t\\t\",\"growing\",\"platform\",\"throughout\",\"media\",\"talked\",\"assume\",\"dan\",\"</tr>\",\"acceptance\",\"eastern\",\"completely\",\"waiting\",\"switching\",\"messages\",\"previously\",\"venture\",\"definitely\",\"fully\",\"exclusive\",\"brad\",\"reasons\",\"=the\",\"quite\",\"present\",\"jay\",\"caps\",\"accepted\",\"complex\",\"hilton\",\"providing\",\"buyers\",\"competitive\",\"le\",\"pending\",\"spend\",\"houston-based\",\"llc\",\"there's\",\"nt\",\"buys\",\"trust\",\"finally\",\"est\",\"fast\",\"sellers\",\"choice\",\"raise\",\"40\",\"positive\",\"you'll\",\"offering\",\"pool\",\"indicated\",\"evidence\",\"world's\",\"barbara\",\"revenues\",\"ii\",\"confidentiality\",\"<a\",\"commitment\",\"differ\",\"formal\",\"hearing\",\"operator\",\"remains\",\"advise\",\"executing\",\"competition\",\"clearly\",\"<epao@mba2002.hbs.edu>to\",\"understanding\",\"touch\",\"sounds\",\"4:00\",\"managed\",\"lack\",\"asking\",\"kimberly\",\"payments\",\"taxes\",\"pr\",\"we've\",\"mkt\",\"offices\",\"began\",\"values\",\"prefer\",\"flat\",\"combined\",\"sans-serif\",\"seeing\",\"respects\",\"contacts\",\"skilling\",\"networks\",\"correct\",\"download\",\"residential\",\"77002phone\",\"relevant\",\"th=e\",\"european\",\"epao@mba2002.hbs.edusubject\",\"uk\",\"u\",\"barney\",\"t=he\",\"stuff\",\"bcf\",\"walk\",\"despite\",\"clean\",\"christopher\",\"acquisition\",\"whatever\",\"itself\",\"star\",\"alternative\",\"amid\",\"st\",\"wines\",\"putting\",\"martin\",\"you've\",\"maharashtra\",\"contains\",\"buy.com\",\"facilities\",\"edward\",\"pergher\",\"serif\",\"grant\",\"$50\",\"title\",\"shows\",\"patrick\",\"supposed\",\"round\",\"pmto:\\tallen\",\"advice\",\"oregon\",\"pull\",\"conversation\",\"transportation\",\"player\",\"guest\",\"decided\",\"seeking\",\"<tr>\",\"pira\",\"roll\",\"reviewed\",\"released\",\"attractive\",\"programs\",\"usd\",\"approve\",\"cold\",\"transport\",\"sole\",\"happen\",\"border=\\\"0\",\"purchases\",\"noon\",\"bush\",\"07\",\"digital\",\"insight\",\"resolution\",\"puts\",\"iso's\",\"joint\",\"sep\",\"the=\",\"authorized\",\"continuing\",\"approach\",\"owned\",\"reminder\",\"reference\",\"10%\",\"communications\\t\\t\",\"increases\",\"strip\",\"negative\",\"lisa\",\"young\",\"646-3490email\",\"face=\\\"verdana,geneva,arial,sans\",\"mailing\",\"stakeholder\",\"gift\",\"ufe\",\"3:00\",\"quotes\",\"feet\",\"decline\",\"true\",\"privileged\",\"locations\",\"developing\",\"rebecca\",\"11th\",\"<font\",\"owns\",\"institute\",\"couldn't\",\"shively/hou/ect@ect\",\"governor\",\"byon\",\"anyopinions\",\"$2\",\"oraffiliates\",\"futuresthe\",\"bereliable\",\"language\",\"theymay\",\"\\tallen\",\"solicitationof\",\"nothingcontained\",\"welcome\",\"quick\",\"seven\",\"lenders\",\"black\",\"finish\",\"simulation\",\"goldman\",\"3803ahouston\",\"crack\",\"853-4737fax\",\"break\",\"announcement\",\"setting\",\"sarah-joy\",\"attention\",\"interviews\",\"electronic\",\"proposals\",\"rule\",\"angeles\",\"expense\",\"continues\",\"hand\",\"michelle\",\"serve\",\"upgraded\",\"giant\",\"okay\",\"nine\",\"commodities\",\"planned\",\"12:00:00\",\"ses\",\"invite\",\"heating\",\"6:00:00\",\"$250\",\"2003\",\"sont\",\"lynch\",\"colleen\",\"perform\",\"budget\",\"size=-1><b>+</b>\",\"estimate\",\"chicago\",\"professional\",\"addressed\",\"---\",\"submit\",\"edison\",\"bearish\",\"proprietary\",\"sense\",\"respect\",\"thoughts\",\"usually\",\"follows\",\"resume\",\"corp.1400\",\"happened\",\"reasonable\",\"ofthe\",\"column\",\"im\",\"gain\",\"road\",\"wrong\",\"entities\",\"progress\",\"auction\",\"nice\",\"oh\",\"realize\",\"insurance\",\"environment\",\"noted\",\"restore\",\"dj\",\"henry\",\"simple\",\"developed\",\"allen@enron\",\"shut\",\"represents\",\"industries\",\"cancel\",\"60606\",\"affect\",\"format\",\"executed\",\"saudi\",\"ews\",\"thecharts\",\"link(s)contained\",\"enjoy\",\"randy\",\"allowed\",\"size=-1><b>-</b>\",\"environmental\",\"secretary\",\"implementation\",\"chartsto\",\"selected\",\"infrastructure\",\"associate\",\"success\",\"origination\",\"coal\",\"spot\",\"producer\",\"forum\",\"juan\",\"msn\",\"avaya\",\"discount\",\"face\",\"non\",\"maintain\",\"cases\",\"store\",\"sort\",\"wait\",\"sessions\",\"05/13/2001\",\"reform\",\"figure\",\"amplease\",\"links\",\"whose\",\"opening\",\"preliminary\",\"forced\",\"invest\",\"decisions\",\"deliver\",\"applicable\",\"amazon.com\",\"views\",\"rentroll\",\"10/20/2001\",\"francisco\",\"consolidated\",\"futures150\",\"placed\",\"sound\",\"1500chicago\",\"suggest\",\"purchased\",\"submitted\",\"seller\",\"cfo\",\"entry\",\"ward\",\"sandra\",\"appear\",\"materials\",\"01\",\"built\",\"amounts\",\"nj\",\"returns\",\"bandwidth\",\"expansion\",\"message----->\",\"dealbench\",\"improvement\",\"expert\",\"millions\",\"series\",\"procedures\",\"lavorato\",\"agency\",\"critical\",\"doug\",\"requirement\",\"seat\",\"representative\",\"arora\",\"<john.arnold@enron.com>cc\",\"attempt\",\"task\",\"fallen\",\"sheraton\",\"jr\",\"associates\",\"helped\",\"s&p\",\"fundamentals713-853-4759\",\"fraserenron\",\"aware\",\"salomon\",\"airport\",\"laura\",\"inquiry\",\"requests\",\"brown\",\"christi\",\"settlements\",\"grigsby\",\"weak\",\"aug\",\"remaining\",\"giving\",\"focused\",\"nation's\",\"stated\",\"membership\",\"mutual\",\"beyond\",\"complaint\",\"food\",\"congestion\",\"cuts\",\"cubic\",\"became\",\"subscription\",\"neutral\",\"fred\",\"voicemail\",\"monitor\",\"particular\",\"supplies\",\"step\",\"soccer\",\"inside\",\"obligations\",\"outage\",\"union\",\"regular\",\"ft\",\"portion\",\"leader\",\"successful\",\"council\",\"austin\",\"database\",\"gov\",\"restructuring\",\"tried\",\"disclosed\",\"types\",\"grade\",\"zone\",\"spent\",\"candidates\",\"bridge\",\"governing\",\"permission\",\"exploration\",\"sourcing\",\"cellspacing='0\",\"recommend\",\"immediate\",\"rally\",\"amto:\\tallen\",\"minute\",\"entered\",\"caroline\",\"lee\",\"wouldn't\",\"senate\",\"sce\",\"spec\",\"->\",\"i.e\",\"primary\",\"excel\",\"hi\",\"matters\",\"url\",\"designed\",\"purchasing\",\"cpuc\",\"fletcher\",\"middle\",\"players\",\"style='text-align:right'><b><span\",\"johnsubject\",\"brief\",\"topic\",\"park\",\"lunch\",\"windows\",\"processing\",\"scheduling\",\"invited\",\"julie\",\"exactly\",\"service(c\",\"item\",\"bay\",\"count\",\"benefits\",\"you'd\",\"bankruptcy\",\"desktop\",\"interests\",\"heavy\",\"width=\\\"1\",\"description\",\"guy\",\"designated\",\"premium\",\"adjustment\",\"sells\",\"anyway\",\"vp\",\"tools\",\"spending\",\"airlines\",\"busy\",\"expects\",\"ended\",\"valuable\",\"and>\",\"reservations\",\"specified\",\"removed\",\"subscribe\",\"serious\",\"1996\",\"sachs\",\"=20\",\"turned\",\"onepass\",\"amendment\",\"closer\",\"lose\",\"print\",\"raised\",\"goal\",\"trouble\",\"limits\",\"produce\",\"rich\",\"attacks\",\"applied\",\"upgrade\",\"distributed\",\"playing\",\"assessment\",\"affiliate\",\"bailey\",\"subsidiary\",\"managers\",\"poor's\",\"relative\",\"basic\",\"suggested\",\"worldwide\",\"$3\",\"persons\",\"operation\",\"india's\",\"pge\",\"feature\",\"passed\",\"brokers\",\"200\",\"nor\",\"generating\",\"path\",\"4:00:00\",\"grow\",\"conduct\",\"strike\",\"kept\",\"chase\",\"stadium\",\"explain\",\"petroleum\",\"miss\",\"themselves\",\"methodology\",\"resorts\",\"connection\",\"host\",\"settle\",\"confirmed\",\"speed\",\"src=\\\"http://www.economist.com/images/blocks/spacer.gif\",\"substantial\",\"coast\",\"mar\",\"participating\",\"attachment\",\"uses\",\"neal/hou/ect@ect\",\"03\",\"generate\",\"towards\",\"sap\",\"edwards\",\"scenario\",\"occurs\",\"wrote\",\"forecasts\",\"cabernet\",\"susan.bailey@enron.com\",\"useful\",\"mobile\",\"mcmahon\",\"regional\",\"to>\",\"separate\",\"marcos\",\"panel\",\"forms\",\"button\",\"rooms\",\"search\",\"cmr\",\"assuming\",\"interesting\",\"here's\",\"facilitate\",\"lycos\",\"push\",\"invoice\",\"expectations\",\"factors\",\"ann\",\"curves\",\"valued\",\"covering\",\"specialist\",\"perhaps\",\"tour\",\"inthe\",\"division\",\"served\",\"risks\",\"bear\",\"writing\",\"established\",\"gone\",\"vote\",\"consistent\",\"japan\",\"wire\",\"suit\",\"super\",\"extension\",\"failure\",\"direction\",\"12/13/2000\",\"azurix\",\"viewing\",\"arrangements\",\"excess\",\"background\",\"delay\",\"flip\",\"cst\",\"a>\",\"baileyenron\",\"reliability\",\"ten\",\"increasing\",\"$10\",\"owners\",\"replace\",\"leaders\",\"ted\",\"ms\",\"obligation\",\"deposit\",\"detail\",\"reflect\",\"directory\",\"10/27/2001\",\"disc\",\"mailbox\",\"request.request\",\"thinks\",\"announce\",\"receipt\",\"excellent\",\"lewter\",\"gray\",\"\\tfraser\",\"fruit\",\"bruce\",\"creating\",\"reject\",\"exit\",\"dated\",\"slightly\",\"gss\",\"toward\",\"concerning\",\"protect\",\"subsidiaries\",\"agencies\",\"disk\",\"upcoming\",\"duke\",\"rsvp\",\"war\",\"telecom\",\"05\",\"quarterly\",\"favor\",\"ver\",\"real-time\",\"publication\",\"fortune\",\"reservation\",\"association\",\"$100\",\"100%\",\"output\",\"confirms\",\"owa\",\"secure\",\"music\",\"gives\",\"experts\",\"domestic\",\"proforma\",\"melissa\",\"voice\",\"cause\",\"river\",\"megawatt-hour\",\"ljm\",\"hey\",\"shown\",\"versus\",\"10/19/2001\",\"decide\",\"badeer/hou/ect@ect\",\"taylor\",\"caused\",\"corner\",\"dropped\",\"words\",\"brought\",\"extend\",\"partial\",\"sponsored\",\"golden\",\"identified\",\"pc\",\"holding\",\"looked\",\"lawsuit\",\"everybody\",\"whom\",\"favorite\",\"procedure\",\"0.00\",\"o\",\"bonus\",\"destination\",\"09/26/2000\",\"attending\",\"identify\",\"$1.2\",\"presented\",\"transmitted\",\"tracy\",\"individuals\",\"feb\",\"gunther\",\"northern\",\"regard\",\"canadian\",\"trial\",\"initiatives\",\"district\",\"vanderbilt\",\"tariff\",\"maker\",\"completion\",\"fourth\",\"consulting\",\"larger\",\"fields...(id\",\"richards\",\"newswire\",\"zip\",\"percentage\",\"sports\",\"year's\",\"kinko's\",\"blue\",\"provider\",\"fit\",\"telling\",\"outcome\",\"cellpadding='0\",\"vehicles\",\"sauvignon\",\"stanley\",\"pro\",\"10,000\",\"stand\",\"difference\",\"downgrade\",\"browser\",\"merchant\",\"ct\\tsat\",\"lease\",\"opinion\",\"prepare\",\"aren't\",\"\\t\\t\\t\\t\",\"merrill\",\"function\",\"actions\",\"ward/enron@enronxgate\",\"carla\",\"efficient\",\"parking\",\"equal\",\"houston's\",\"unfortunately\",\"rick\",\"align=3d\\\"left\\\"><font\",\"wacker\",\"exercise\",\"align=3d\\\"right\\\"><b><font\",\"engineering\",\"fundamental\",\"=20<tr><td\",\"compliance\",\"boost\",\"functionality\",\"answers\",\"wells\",\"fix\",\"believes\",\"tasting\",\"boat\",\"gulf\",\"asia\",\"helpful\",\"obtain\",\"rolling\",\"seek\",\"brokerage\",\"corptime\",\"obviously\",\"spring\",\"specifically\",\"priority\",\"negotiated\",\"showing\",\"affiliates\",\"checking\",\"enron.messaging.administration@enron.com\",\"short-term\",\"\\tbailey\",\"folks\",\"developments\",\"faith\",\"hurt\",\"standards\",\"temperatures\",\"opinions\",\"highly\",\"ongoing\",\"none\",\"practices\",\"loads\",\"human\",\"poor\",\"blair\",\"2nd\",\"drinks\",\"integrity\",\"priced\",\"reliant\",\"si\",\"11/18/2001\",\"60\",\"proceeds\",\"emissions\",\"withthe\",\"knowledge\",\"respective\",\"proceed\",\"charles\",\"possibly\",\"extended\",\"gains\",\"megawatts\",\"explorer\",\"generally\",\"republicans\",\"calculation\",\"jean\",\"sectors\",\"enforceable\",\"traditional\",\"happens\",\"los\",\"=of\",\"jonathan\",\"accord\",\"bp\",\"assistant\",\"countries\",\"usage\",\"linda\",\"login\",\"edge\",\"class=msonormal><span\",\"health\",\"dennis\",\"safe\",\"hartsoe/corp/enron@enron\",\"prompt\",\"influence\",\"driving\",\"labor\",\"shared\",\"wasn't\",\"buyout\",\"particularly\",\"jersey\",\"domain\",\"hr\",\"louise\",\"mexico\",\"asap\",\"resulting\",\"wondering\",\"usatel\",\"width=\\\"125\",\"<span\",\"delayed\",\"florida\",\"steps\",\"subject:\\tre\",\"implied\",\"colspan='3'>cash\",\"disclose\",\"class='text2'>regular\",\"align='middle'><img\",\"size='1\",\"colspan='3\",\"lavorato/corp/enron@enron\",\"valley\",\"width='100%\",\"smaller\",\"green\",\"bringing\",\"checks\",\"color='green'></td></tr><tr><td\",\"-by\",\"falling\",\"amrequested\",\"donna\",\"intelligence\",\"familiar\",\"colspan='4'><hr\",\"pieces\",\"pt\\tsat\",\"chronicle\",\"delta\",\"factor\",\"edition\",\"09\",\"knows\",\"eventually\",\"mid\",\"pm>\",\"$20\",\"sa\",\"responsibility\",\"pm\\t\\t\\t\\t\",\"shorts\",\"t=o\",\"deadline\",\"businesswire\",\"sees\",\"british\",\"typically\",\"312-368-6149fax\",\"potentially\",\"lober\",\"easier\",\"300\",\"parker\",\"engineer\",\"reliance\",\"match\",\"dynegy's\",\"dallas\",\"consumption\",\"scale\",\"estoppel\",\"measures\",\"fiscal\",\"backup\",\"312-368-2281soblander@carrfut.comhttp://www.carrfut.com\",\"register\",\"lowered\",\"affected\",\"map\",\"soblander@carrfut.comcc\",\"fails\",\"assist\",\"cellspacing=\\\"0\",\"economist\",\"implement\",\"hands\",\"warning\",\"expensive\",\"glad\",\"stars\",\"college\",\"dealing\",\"90\",\"2:30\",\"citing\",\"england\",\"knew\",\"verdana\",\"architect\",\"leslie\",\"nasdaq\",\"automatically\",\"jane\",\"hereto\",\"elizabeth\",\"brenda\",\"ticket\",\"northeast\",\"05/08/2001\",\"legislature\",\"slow\",\"+1000\",\"length\",\"negotiations\",\"economics\",\"timing\",\"stack\",\"carrying\",\"\\tward\",\"selection\",\"helps\",\"---------------------------soblander@carrfut.com\",\"owner\",\"nature\",\"scope\",\"perfect\",\"unique\",\"exact\",\"to:subject\",\"informed\",\"pleased\",\"moves\",\"7:00:00\",\"margaretsubject:\\tre\",\"russell\",\"ext\",\"willbe\",\"telecommunications\",\"claims\",\"bcc\",\"periods\",\"demo\",\"you,phillip\",\"width=125\",\"q3\",\"takeover\",\"award\",\"leadership\",\"peace\",\"merlot\",\"am\\t\\t\",\"audit\",\"technologies\",\"smart\",\"football\",\"anytime\",\"2:00\",\"window\",\"roger\",\"ones\",\"numerous\",\"gdp\",\"showed\",\"clay\",\"multiple\",\"affairs\",\"centers\",\"cross\",\"natgas\",\"wanna\",\"blackouts\",\"lowest\",\"resigned\",\"suppliers\",\"emails\",\"resource\",\"hasn't\",\"ron\",\"supported\",\"fyi\",\"purposes\",\"synthetic\",\"ratio\",\"models\",\"louis\",\"steffes/na/enron@enron\",\"cindy\",\"updating\",\"lucy\",\"changing\",\"grigsby/hou/ect@ect\",\"jose\",\"ordered\",\"yield\",\"helping\",\"occur\",\"greatly\",\"alone\",\"<john.arnold@enron.com>cc:subject\",\"e-mails\",\"consensus\",\"roof\",\"750\",\"otc\",\"roberts\",\"dispute\",\"consent\",\"originally\",\"presto\",\"improved\",\"vendors\",\"04\",\"parts\",\"$25\",\"wide\",\"described\",\"representing\",\"ravi\",\"sometime\",\"bet\",\"creekside\",\"45\",\"presto/hou/ect@ect\",\"royal\",\"layout\",\"marketers\",\"kids\",\"sara\",\"ultimate\",\"ends\",\"fields\",\"messaging\",\"doesnt\",\"bryan\",\"adds\",\"kelly\",\"color\",\"listing\",\"shop\",\"to=\",\"allowing\",\"wade\",\"communicate\",\"basin\",\"degrees\",\"lehman\",\"scenarios\",\"1/2\",\"-(dow\",\"tony\",\"determined\",\"=09=09\",\"garage\",\"jones)-\",\"donald\",\"hello\",\"kaufman/pdx/ect@ect\",\"innovative\",\"banking\",\"treatment\",\"measure\",\"-----\",\"o=f\",\"downtown\",\"attachments.crude\",\"encourage\",\"invitation\",\"bcf/d\",\"sit\",\"vladimir\",\"=to\",\"diluted\",\"liable\",\"recruiting\",\"produced\",\"alert\",\"forest\",\"strength\",\"recommended\",\"timely\",\"frequently\",\"joined\",\"manufacturing\",\"cool\",\"anticipated\",\"turning\",\"border\",\"sw\",\"procurement\",\"palmer\",\"3:00:00\",\"recovery\",\"policies\",\"fleet\",\"living\",\"career\",\"kathy\",\"facing\",\"hopefully\",\"king\",\"stewart\",\"border=0\",\"shell\",\"mailings\",\"vehicle\",\"legislative\",\"representatives\",\"@@@\",\"beth\",\"---------------------------\\\"george\",\"sean\",\"science\",\"seeks\",\"edgar\",\"drew\",\"tool\",\"marlin\",\"suites\",\"11/25/2001\",\"hydro\",\"straight\",\"inform\",\"ship\",\"bigger\",\"of>\",\"70\",\"daniel\",\"douglas\",\"speaking\",\"rival\",\"patti\",\"possibility\",\"golf\",\"holds\",\"practice\",\"expand\",\"rebate\",\"eight\",\"lets\",\"pwr\",\"1000\",\"byron\",\"acquired\",\"relating\",\"hayden\",\"]\",\"enable\",\"seattle\",\"launch\",\"worse\",\"vince\",\"solicitation\",\"sagel\",\"learned\",\"flexible\",\"sr\",\"tough\",\"runs\",\"extent\",\"briefing\",\"bilateral\",\"inventory\",\"responses\",\"ho\",\"5%\",\"letters\",\"advisory\",\"pas\",\"highest\",\"litigation\",\"interval\",\"les\",\"40%\",\"registration\",\"places\",\"metal\",\"import\",\"valuation\",\"adding\",\"headed\",\"tahoma,arial;font-size\",\"installed\",\"mon\",\"valign=bottom\",\"defense\",\"comnes/pdx/ect@ect\",\"wind\",\"marketplace\",\"mention\",\"counsel\",\"indicates\",\"rogers\",\"pace\",\"skills\",\"7:00\",\"55\",\"fairly\",\"guarantees\",\"sites\",\"drink\",\"3:30\",\"fundamentals\",\"involving\",\"lists\",\"exports\",\"5:00\",\"keeping\",\"min\",\"style\",\"n/a\",\"asian\",\"steel\",\"</font>\",\"tenants\",\"ljm2\",\"notification\",\"pipelines\",\"depending\",\"inflation\",\"execution\",\"shankman/hou/ect@ect\",\"tix\",\"principal\",\"operate\",\"ray\",\"crazy\",\"aquila\",\"jack\",\"magazine\",\"america's\",\"properties\",\"draw\",\"hoping\",\"ownership\",\"beach\",\"dyn\",\"jarnold@enron.comcc\",\"ne\",\"shopping\",\"surprised\",\"asks\",\"additionally\",\"spokeswoman\",\"z\",\"pinot\",\"carry\",\"12/12/2000\",\"25%\",\"collateral\",\"and=\",\"cutting\",\"addressees\",\"bln\",\"resolve\",\"<pallen@enron.com>cc\",\"kaiser\",\"traveling\",\"door\",\"returned\",\"waste\",\"relationships\",\"losing\",\"tori\",\"dasovich/na/enron@enron\",\"pursuing\",\"enjoyed\",\"calpine\",\"09/27/2000\",\"massive\",\"par\",\"attendees\",\"robertson\",\"congress\",\"age\",\"currency\",\"jennifersubject\",\"ran\",\"95\",\"connected\",\"desire\",\"invested\",\"01/26/2001\",\"todd\",\"kitchen\",\"trigger\",\"gmt\",\"carl\",\"owe\",\"pct\",\"thanksgiving\",\"rto\",\"holdings\",\"sharply\",\"earn\",\"1,000\",\"intensity\",\"historical\",\"adjustments\",\"promotion\",\"consideration\",\"overview\",\"depends\",\"corp.'s\",\"mba\",\"audio\",\"legislation\",\"boston\",\"800\",\"handling\",\"discussing\",\"adjusted\",\"prevent\",\"dealings\",\"imagine\",\"default\",\"fedex\",\"33\",\"sponsor\",\"rabbi\",\"picked\",\"controls\",\"whats\",\"allows\",\"sc\",\"mostly\",\"35\",\"acknowledge\",\"floors\",\"suggestions\",\"48\",\"=20<th\",\"gen\",\"calger/pdx/ect@ect\",\"formula\",\"split\",\"closely\",\"05/10/2001\",\"utilisation\",\"departure\",\"lt\",\"sue\",\"exchanges\",\"luck\",\"shapiro/na/enron@enron\",\"reliable\",\"majority\",\"bar\",\"economists\",\"au\",\"unauthorized\",\"pounds\",\"meanwhile\",\"investing\",\"apartment\",\"terrorist\",\"instance\",\"ball\",\"ross\",\"avertir\",\"compensation\",\"presentations\",\"9:00:00\",\"vous\",\"nuclear\",\"transmit\",\"wood\",\"advised\",\"flavors\",\"relatively\",\"d'en\",\"advanced\",\"opened\",\"kristin\",\"errors\",\"refer\",\"v\",\"strategies\",\"drilling\",\"=and\",\"island\",\"holst\",\"merci\",\"composite\",\"reading\",\"partielle\",\"external\",\"janet\",\"p/l\",\"sufficient\",\"publicly\",\"miller\",\"hundreds\",\"preferences\",\"02:00\",\"<cbpres@austin.rr.com>\",\"w/\",\"meter\",\"dead\",\"tender\",\"diane\",\"apparently\",\"wed\",\"combination\",\"nicole\",\"sturm/hou/ect@ect\",\"jet\",\"ryan\",\"mom\",\"06\",\"channel\",\"starts\",\"operational\",\"flows\",\"=a\",\"20%\",\"5:00:00\",\"watson\",\"<cbpres@austin.rr.com>to\",\"solid\",\"denver\",\"judy\",\"hesitate\",\"moore\",\"tue\",\"chardonnay\",\"reviews\",\"cuz\",\"yea\",\"phillip.k.allen@enron.comcc\",\"dvd\",\"j.p\",\"provisions\",\"linked\",\"in>\",\"andersen\",\"width='125'><tr><td\",\"arrange\",\"14th\",\"$15,000\",\"unlikely\",\"forgot\",\"ngx\",\"implemented\",\"square\",\"1%\",\"1995\",\"10:00\",\"games\",\"newspaper\",\"dale\",\"prove\",\"loop\",\"largely\",\"overnight\",\"execute\",\"faces\",\"southwest\",\"enterprise\",\"llp\",\"components\",\"announces\",\"starwood\",\"diffusion\",\"woertz\",\"dial\",\"memo\",\"5th\",\"1990\",\"arrive\",\"eb\",\"confidentiels\",\"d'assurer\",\"criteria\",\"entering\",\"discounts\",\"stone\",\"restrictions\",\"permettant\",\"martin/hou/ect@ect\",\"cd\",\"quoted\",\"covered\",\"marty\",\"holidays\",\"sitara\",\"roughly\",\"destinataires\",\"ancillary\",\"conforme\",\"erreur\",\"l'hypothese\",\"detruire\",\"noticed\",\"reporter\",\"interdite\",\"l'expediteur.toute\",\"transition\",\"gasoline\",\"sender.any\",\"immediatement\",\"responsabilite\",\"decline(nt\",\"conservation\",\"l'integrite\",\"probe\",\"ci-apres\",\"approval.the\",\"expecting\",\"followed\",\"gas/heat\",\"dans\",\"avg\",\"properly\",\"thousands\",\"toutes\",\"junk\",\"chart\",\"l'intention\",\"overhead\",\"laws\",\"titre\",\"necessarily\",\"movie\",\"totale\",\"$9\",\"aurait\",\"recevez\",\"filiales\",\"moment\",\"shirley\",\"etablis\",\"porch\",\"expresse.l'internet\",\"autorisation\",\"sauf\",\"jointes\",\"schedules\",\"modified._____________________________________________________________________________________________________________________________________\",\"enron=01,s\",\"ete\",\"structured\",\"brothers\",\"dana\",\"excited\",\"aes\",\"80\",\"condition\",\"funny\",\"confirmations\",\"ben\",\"comfortable\",\"brent\",\"attempts\",\"deep\",\"monitoring\",\"citigroup\",\"stress\",\"day-ahead\",\"netting\",\"worried\",\"mara/na/enron@enron\",\"switch\",\"anywhere\",\"hubs\",\"sometimes\",\"nyse\",\"forget\",\"zd\",\"gonna\",\"assumptions\",\"boys\",\"ground\",\"happening\",\"databases\",\"workers\",\"mln\",\"70%\",\"appraisal\",\"collection\",\"committed\",\"shankman\",\"arrangement\",\"body\",\"alliance\",\"begun\",\"exceed\",\"antonio\",\"exxon\",\"advertising\",\"[image]=09\",\"severe\",\"wishes\",\"clarify\",\"easily\",\"surprise\",\"mix\",\"||\",\"supporting\",\"http://www.zdnetonebox.com\",\"11:00\",\"serving\",\"component\",\"forwards\",\"onebox\",\"minister\",\"chat\",\"suggestion\",\"kroner\",\"brother\",\"westgate\",\"rising\",\"\\tdowngraded\\tto\",\"distribute\",\"+.25\",\"tva\",\"10/21/2001\",\"decade\",\"#1\",\"issuance\",\"howard\",\"fax,all\",\"shift\",\"attendance\",\"alex\",\"usa\",\"tv\",\"$690\",\"cb\",\"universal\",\"issuing\",\"graduate\",\"kyle\",\"subscribed\",\"makers\",\"valign=top><table\",\"pilot\",\"absence\",\"adobe\",\"nortel\",\"painewebber\",\"troubled\",\"seemed\",\"give-up\",\"10:00:00\",\"heather\",\"rangel/hou/ect@ect\",\"kansas\",\"grand\",\"rs\",\"acquire\",\"primarily\",\"hain/hou/ect@ect\",\"30th\",\"felt\",\"1.5\",\"charged\",\"celebrate\",\"jordan\",\"bell\",\"kirk\",\"providers\",\"extraordinary\",\"rangel\",\"monique\",\"arnold/hou/ect@ectcc:\\t\",\"guide\",\"excluding\",\"station\",\"hoskins/enron\",\"camera\",\"[image][image]\",\"discounted\",\"evaluation\",\"lawyers\",\"requires\",\"paula\",\"mortgage\",\"sitting\",\"2-3\",\"abramo\",\"retain\",\"pmto:\\tward\",\"coordinate\",\"sally\",\"maria\",\"carol\",\"acrobat\",\"recognize\",\"wscc\",\"02/21/2001\",\"assure\",\"slide\",\"absolutely\",\"civil\",\"gotten\",\"03/15/2001\",\"=in\",\"luxury\",\"improvements\",\"faster\",\"150\",\"accommodate\",\"ventures\",\"hardware\",\"segment\",\"granted\",\"finished\",\"q\",\"80%\",\"05/04/2001\",\"breaking\",\"library.com\",\"functions\",\"arthur\",\"fears\",\"claudia\",\"agent\",\"plunged\",\"proper\",\"confirmation(s\",\"template\",\"payout\",\"000\",\"introduce\",\"fire\",\"achieve\",\"of=\",\"arena\",\"badeer\",\"8:00\",\"screens\",\"or>\",\"recommendations\",\"realized\",\"seasonal\",\"releases\",\"method\",\"promotional\",\"claim\",\"appendix\",\"premier\",\"bull\",\"spoken\",\"sides\",\"pulp\",\"professionals\",\"truly\",\"certificate\",\"thu\",\"candidate\",\"christian\",\"gerry\",\"<msagel@home.com>\",\"westin\",\"configured\",\"cant\",\"teams\",\"tight\",\"tamara\",\"neither\",\"topics\",\"shively\",\"hate\",\"becoming\",\"fresh\",\"flexibility\",\"newark\",\"retirement\",\"11:00:00\",\"cup\",\"11/22/2001\",\"an=d\",\"corporations\",\"flight\",\"substantially\",\"bias\",\"documentation\",\"sierra\",\"normally\",\"approx\",\"hopes\",\"natural-gas\",\"enhance\",\"interim\",\"6:00\",\"mona\",\"$499.00us[\",\"banc\",\"99\",\"permits\",\"replacement\",\"referred\",\"volunteer\",\"tata\",\"category\",\"recession\",\"preparing\",\"missing\",\"profitable\",\"rewards\",\"sempra\",\"=20<font\",\"5,000\",\"sheila\",\"played\",\"cycle\",\"mm\",\"palm\",\"johnson\",\"credits\",\"indeed\",\"settled\",\"212\",\"75%\",\"csfb\",\"s.subject\",\"=20</font>\",\"ending\",\"verify\",\"preference\",\"abu\",\"hill\",\"interactive\",\"structures\",\"connect\",\"maggi\",\"county\",\"terminal\",\"australia\",\"trim\",\"explains\",\"65\",\"tds\",\"prospects\",\"text\",\"sdg&e's\",\"email/calendar\",\"capabilities\",\"kaminski/hou/ect@ect\",\"<th\",\"proceedings\",\"multex\",\"mine\",\"for>\",\"<jenwhite7@zdnetonebox.com>\",\"quigley\",\"provision\",\"\\t\\timpact\",\"gordon\",\"tremendous\",\"commerce\",\"debbie\",\"shot\",\"defined\",\"mm/dd/yy\",\"momentum\",\"personnel\",\"outperform\",\"contributions\",\"typical\",\"xp\",\"confident\",\"injections\",\"sacramento\",\"woes\",\"preparation\",\"hall\",\"h/j\",\"occurred\",\"impossible\",\"fertilizer\",\"integrated\",\"sharp\",\"lafontaine/globalco@globalcocc:fax\",\"repay\",\"christmas\",\"nation\",\"jennifersubject:\\tre\",\"bid/offer\",\"broad\",\"himself\",\"afx\",\"yesterday's\",\"totally\",\"figures\",\"beer\",\"sea\",\"airline\",\"stakeholders\",\"cable\",\"pat\",\"till\",\"megawatt\",\"talent\",\"5.5\",\"seats\",\"12/07/2000\",\"transferred\",\"commercials\",\"$7\",\"exterior\",\"enhanced\",\"finding\",\"temporary\",\"ill\",\"$35\",\"traffic\",\"treasurer\",\"receivedthis\",\"guggenheim\",\"contributed\",\"critics\",\"reviewing\",\"trends\",\"width=\\\"600\",\"wayne\",\"lewis\",\"10/04/2000\",\"height=\\\"1\",\"pipe\",\"pursue\",\"pays\",\"10:30\",\"outsourcing\",\"santa\",\"totalfinaelf\",\"warburg\",\"electrical\",\"consultants\",\"essential\",\"a=\",\"relief\",\"efs\",\"directed\",\"dog\",\"qatar\",\"assignment\",\"compare\",\"install\",\"generated\",\"informal\",\"authorization\",\"youngflesh/na/enron\",\"existence\",\"1:00\",\"visiting\",\"invoices\",\"ride\",\"effectively\",\"organizations\",\"4000\",\"contacted\",\"prudential\",\"negotiating\",\"tips\",\"integration\",\"10:01\",\"china\",\"acceptable\",\"reflects\",\"a.g\",\"trader's\",\"brandon\",\"copying\",\"account(s\",\"chuck\",\"ap\",\"joining\",\"indicate\",\"signing\",\"structuring\",\"imports\",\"carolyn\",\"ubs\",\"twice\",\"alamo\",\"destruction\",\"kernen\",\"shortages\",\"experienced\",\"a=nd\",\"gained\",\"lloyd\",\"underlying\",\"menu\",\"handled\",\"differences\",\"institutions\",\"outages\",\"circumstances\",\"1:30\",\"adam\",\"commentary\",\"stories\",\"reducing\",\"popular\",\"2004\",\"blow\",\"plc\",\"bike\",\"neil\",\"competitors\",\"service(copyright\",\"bowl\",\"treasury\",\"define\",\"thecompany\",\"lake\",\"slides\",\"arbitration\",\"injection\",\"nicolay/hou/ect@ect\",\"07/11/2000\",\"powerful\",\"dlrs\",\"raymond\",\"reward\",\"storm\",\"cards\",\"aluminum\",\"in=\",\"paragraph\",\"adjust\",\"becomes\",\"jerry\",\"whereby\",\"fullerdirector\",\"sagewood\",\"japan's\",\"initiative\",\"400\",\"drug\",\"reimbursement\",\"establish\",\"am\\t\\t\\t\\t\",\"prime\",\"al\",\"08/08/2000\",\"max\",\"bentley\",\"promise\",\"30%\",\"booked\",\"missouri\",\"license\",\"off-line\",\"departments\",\"truth\",\"adams\",\"naked\",\"highlights\",\"dad\",\"rejected\",\"defazio\",\"]md2001\",\"3rd\",\"elements\",\"cp\",\"dozen\",\"beat\",\"migrate\",\"mirant\",\"11:30\",\"vols\",\"argue\",\"reflected\",\"bidding\",\"fitch\",\"comprehensive\",\"senator\",\"goals\",\"lumber\",\"suzanne\",\"97\",\"andrea\",\"wes\",\"kay\",\"row\",\"dolphin\",\"853\",\"recover\",\"everyday\",\"employment\",\"overseas\",\"terminated\",\"hell\",\"pallen@enron.com\",\"apologize\",\"shud\",\"mass\",\"04/04/2001\",\"warned\",\"failing\",\"market's\",\"griffith\",\"exciting\",\"affiliated\",\"besides\",\"sharing\",\"dwr\",\"hence\",\"men\",\"deutsche\",\"ip\",\"louisiana\",\"defend\",\"verde\",\"<table\",\"usual\",\"suspended\",\"ring\",\"quit\",\"unusual\",\"on-call\",\"articles\",\"7th\",\"stimulus\",\"they've\",\"75\",\"medium\",\"11/16/2001\",\"creative\",\"fox\",\"professor\",\"$1.01\",\"oversight\",\"reporters\",\"lme\",\"headquarters\",\"earned\",\"badeer/hou/ect\",\"assumption\",\"migrated\",\"leads\",\"social\",\"correlation\",\"2005\",\"replaced\",\"randall\",\"winning\",\"lp\",\"leopold\",\"junior\",\"contents\",\"fear\",\"heading\",\"shockwave.com\",\"believed\",\"airam\",\"entertainment\",\"ads\",\"stopped\",\"performing\",\"ie\",\"computers\",\"6600\",\"suggests\",\"explanation\",\"swerzbin/hou/ect@ect\",\"pcc\",\"ab\",\"faber\",\"forthe\",\"consolidate\",\"pallen@enron.comcc\",\"investment-grade\",\"stacey\",\"ordersand/or\",\"funding\",\"attack\",\"scs\",\"hunter/na/enron\",\"subscriptions\",\"women\",\"brazil\",\"desks\",\"euro\",\"-------\",\"sheri\",\"onto\",\"retransmission\",\"jeanne\",\"notices\",\"kent\",\"9:00\",\"watching\",\"spikes\",\"reportedly\",\"u.k\",\"style='font-size:10.0pt'>\",\"outlined\",\"gorny/hou/ect@ect\",\"finances\",\"eps\",\"obvious\",\"allen/corp/enron@enron\\t\\t\",\"meantime\",\"cstto\",\"anymore\",\"homes\",\"resumes\",\"remained\",\"directions\",\"students\",\"4:30\",\"gap\",\"``we\",\"credibility\",\"msa\",\"reader\",\"11:45\",\"parent\",\"inquiries\",\"5:00pm\",\"holst/hou/ect@ect\",\"instant\",\"export\",\"parquet/sf/ect@ect\",\"plastics\",\"amto:\\tbailey\",\"gas-fired\",\"governor's\",\"permanent\",\"sweet\",\"foot\",\"blame\",\"student\",\"initially\",\"afford\",\"reductions\",\"convenience\",\"efficiency\",\"americans\",\"privileges\",\"opposed\",\"apr\",\"liabilities\",\"offline\",\"maggi/corp/enron@enron\",\"pmto:\\tjohn\",\"collect\",\"forma\",\"producing\",\"matrices\",\"christine\",\"relied\",\"posting\",\"09:04\",\"conf\",\"pjm\",\"outline\",\"military\",\"gather\",\"group's\",\"optimistic\",\"ld\",\"symbol\",\"appointed\",\"violations\",\"11:15\",\"broken\",\"mile\",\"developmentglobal\",\"containprivileged\",\"32\",\"negotiate\",\"afraid\",\"ortaking\",\"del\",\"causes\",\"automated\",\"formerly\",\"sections\",\"expanding\",\"privilegedmaterial\",\"titles\",\"jv\",\"revealed\",\"<gunther.pergher@dowjones.com>\",\"arrived\",\"strongly\",\"10/13/2001\",\"intent\",\"messenger\",\"convenient\",\"basically\",\"involvement\",\"binding\",\"personally\",\"quarters\",\"skew\",\"degree\",\"e.g\",\"editor\",\"fed\",\"8th\",\"baby\",\"similarly\",\"regulated\",\"sharon\",\"answered\",\"ecs\",\"fantasy\",\"doubt\",\"corrected\",\"09/28/2000\",\"12:00\",\"orentities\",\"slower\",\"developers\",\"dark\",\"ml.</span><p><span\",\"$109\",\"raising\",\"---------------------------to\",\"faxed\",\"isda\",\"l.p\",\"pt\\tsun\",\"pdf\",\"miller/corp/enron@enron\",\"neal\",\"profile\",\"accordance\",\"bush's\",\"john.arnold@enron.comcc:subject\",\"newest\",\"1:00:00\",\"capture\",\"supports\",\"eligible\",\"incremental\",\"moreover\",\"anycomputer\",\"port\",\"qfs\",\"prompted\",\"workshop\",\"perspective\",\"unwind\",\"maintains\",\"indicative\",\"princeton\",\"pmto:\\tbailey\",\"cob\",\"tons\",\"reception\",\"proceeding\",\"firm's\",\"classic\",\"extensive\",\"driven\",\"ct\\tfri\",\"projected\",\"be>\",\"inc.tel\",\"clark\",\"friday's\",\"booking\",\"10/25/2000\",\"dealers\",\"aggressive\",\"baseload\",\"eob\",\"variety\",\"winmail.dat\",\"staying\",\"flipping\",\"bpa\",\"paste\",\"gross\",\"#2\",\"11/24/2001\",\"hp's\",\"$500\",\"towhich\",\"worry\",\"lighthouse\",\"berelied\",\"restricted\",\"game:you\",\"cashiola\",\"eye\",\"conducted\",\"gonzalez\",\"otherwise.thank\",\"alot\",\"theresa\",\"meteorologists\",\"refined\",\"auctions\",\"conflicts\",\"expires\",\"effects\",\"wife\",\"describe\",\"pushing\",\"equivalent\",\"administrative\",\"education\",\"$.5\",\"3.5\",\"choosing\",\"expertise\",\"nights\",\"i=n\",\"tycholiz\",\"addresses\",\"12,500\",\"orauthorized\",\"morris\",\"odds\",\"billions\",\"belief\",\"diana\",\"generates\",\"cancelled\",\"streaming\",\"refund\",\"piece\",\"size=3d-1><b>-</b>\",\"jun\",\"confusion\",\"compete\",\"logo\",\"thats\",\"quantities\",\"germany\",\"christina\",\"pcs\",\"bg\",\"deferral\",\"attended\",\"theintended\",\"dell\",\"coin\",\"protection\",\"rated\",\"pros\",\"=20subject\",\"conversion\",\"tholt/hou/ect@ect\",\"itsaffiliates\",\"09/06/2000\",\"creek\",\"remote\",\"cts\",\"colleagues\",\"retention\",\"astros\",\"meredith\",\"diligence\",\"anderson\",\"cheryl\",\"redeem\",\"warm\",\"chip\",\"slowdown\",\"explained\",\"guests\",\"id's\",\"guidance\",\"escrow\",\"bonneville\",\"slowed\",\"expenditures\",\"acquiring\",\"accenture\",\"609.452.3531the\",\"explore\",\"somewhat\",\"cramer\",\"listen\",\"visa\",\"12/11/2000\",\"climate\",\"10:37\",\"hu\",\"hoffman/pdx/ect\",\"operators\",\"buck\",\"nevada\",\"boyd\",\"cheap\",\"phantom\",\"squeeze\",\"entries\",\"jeanie\",\"worst\",\"byothers\",\"pulling\",\"victor\",\"coordinators\",\"covers\",\"cud\",\"oak\",\"20,000\",\"10/26/2001\",\"609.520.7067fax\",\"passes\",\"incg_nther\",\"monica\",\"virtually\",\"regions\",\"attorneys\",\"6th\",\"coordinator\",\"perghersenior\",\"abinding\",\"feels\",\"learning\",\"03/06/2001\",\"evaluate\",\"notintended\",\"intelligent\",\"freedom\",\"analystdow\",\"width=\\\"5\",\"4th\",\"ena's\",\"korea\",\"importance\",\"chosen\",\"drill\",\"suisse\",\"conflict\",\"wud\",\"cynthia\",\"jessica\",\"width=\\\"17\",\"renegotiate\",\"tothe\",\"am>\",\"</table>\",\"wti/brent\",\"fewer\",\"ermis\",\"distance\",\"targets\",\"generator\",\"yours\",\"$15\",\"iwon\",\"inc.)new\",\"livelink\",\"capability\",\"04/12/2001\",\"collins\",\"supplemental\",\"rock\",\"apart\",\"belden\",\"electronics\",\"volatile\",\"sam\",\"league\",\"2700\",\"accessible\",\"objectives\",\"eyes\",\"03/14/2001\",\"supplier\",\"uog\",\"06/26/2000\",\"=09[image]\",\"gold\",\"mobil\",\"elsewhere\",\"4:37\",\"bottle\",\"lately\",\"8:30\",\"10/03/2000\",\"responded\",\"cooperation\",\"$300\",\"5:30\",\"salary\",\"switched\",\"german\",\"lawsuits\",\"herndon/hou/ect@ect\",\"sensitive\",\"heart\",\"forth\",\"stephens\",\"amazing\",\"lows\",\"medical\",\"expiration\",\"investigate\",\"cathy\",\"=09[image]=09\",\"lewis/hou/ect@ect\",\"-----------------------------------------1\",\"film\",\"udc\",\"$6\",\"who's\",\"e-mail).vcf\",\"probability\",\"damage\",\"receives\",\"8:00:00\",\"investor's\",\"sq\",\"discs\",\"phillip.k.allen@enron.com\",\"anticipate\",\"impressive\",\"leg\",\"flores\",\"01:00\",\"restructure\",\"pocket\",\"buildings\",\"yr\",\"supreme\",\"cherry\",\"98\",\"launched\",\"ad\",\"tara\",\"filled\",\"hartford\",\"veronica\",\"urged\",\"shari\",\"contact(s\",\"e&p\",\"signs\",\"begins\",\"assembly\",\"skogsagarna\",\"comply\",\"drinking\",\"charter\",\"appraised\",\"dutch/shell\",\"iris\",\"04/24/2001\",\"mountain\",\"guaranteed\",\"hoskinsenron\",\"atthe\",\"nancy\",\"terri\",\"pain\",\"$1.5\",\"wearing\",\"reputation\",\"deleted\",\"services713-853-0380\",\"heavily\",\"recorded\",\"york)enron\",\"hoskins@enron\",\"soft\",\"mckinney\",\"transparency\",\"travis\",\"eliminate\",\"adequate\",\"motley/pdx/ect@ect\",\"unsecured\",\"mobile)713-646-5745\",\"bishops\",\"columns\",\"allocation\",\"bulletin\",\"medcalf\",\"[\",\"cantrell/hou/ect@ect\",\"apartments\",\"office)713-412-3667\",\"at&t\",\"bidweek\",\"pete\",\"edit\",\"fight\",\"dasovich\",\"fellow\",\"18th\",\"blackberry\",\"512\",\"chevrontexaco\",\"kipp\",\"neural\",\"$50/share\",\"creditrules\",\"qualified\",\"toronto\",\"``the\",\"calgary\",\"harder\",\"lucy,here\",\"follow-up\",\"discusses\",\"shed\",\"motion\",\"$30\",\"bedroom\",\"behavior\",\"mitigation\",\"you$1\",\"sprint\",\"prospect\",\"chaz\",\"repeats\",\"9.11a\",\"sanders/hou/ect@ect\",\"pmdescription\",\"foundation\",\"whalley\",\"election\",\"death\",\"shortage\",\"resulted\",\"dean\",\"photo\",\"threat\",\"cast\",\"03/29/2001\",\"yourmoney\",\"race\",\"encouraged\",\"speaker\",\"what'syou\",\"replyto\",\"on-line\",\"maintained\",\"out-of-state\",\"arizona\",\"$2?what\",\"t's\",\"ave\",\"mandatory\",\"questioned\",\"tracking\",\"unclear\",\"projections\",\"kathryn\",\"brings\",\"3-4\",\"shifted\",\"briefly\",\"enclosed\",\"reagan\",\"builder\",\"campaign\",\"courses\",\"10:30pm\",\"army\",\"weren't\",\"emerging\",\"phillips\",\"02/12/2001\",\"country's\",\"$0/share\",\"drops\",\"may/corp/enron@enron\",\"notified\",\"payable\",\"intend\",\"cleveland\",\"black/hou/ees@ees\",\"646-3490\",\"lawmakers\",\"hitting\",\"emission\",\"darren\",\"=========================\",\"84\",\"cabot\",\"upstream\",\"dependent\",\"refused\",\"thomson\",\"standing\",\"pollution\",\"<<gunther\",\"90%\",\"rare\",\"framework\",\"couldnt\",\"pleasedo\",\"subs\",\"600\",\"trademarks\",\"<fzerilli@powermerchants.com>\",\"nitrogen\",\"hoffman/pdx/ect)subject\",\"[image]more\",\"performed\",\"keeps\",\"marc\",\"aol\",\"e-mail).vcf>>\",\"bass\",\"spots\",\"johnny\",\"connections\",\"onthe\",\"ford\",\"inn\",\"stable\",\"02/06/2001\",\"weakness\",\"choices\",\"regulation\",\"carefully\",\"03/20/2001\",\"tied\",\"<<enron\",\"burn\",\"pda\",\"cooper\",\"bradford/hou/ect@ect\",\"marie\",\"mrha\",\"promised\",\"arbitrage\",\"=09=09=09\",\"child\",\"winners\",\"nowak\",\"saved\",\"presents\",\"campbell\",\"04/30/2001\",\"\\t[image]\",\"dividends\",\"latter\",\"vision\",\"hosting\",\"conversations\",\"rapidly\",\"woods\",\"troubles\",\"mills\",\"writes\",\"campus\",\"yo=u\",\"walking\",\"route\",\"4:00pm\",\"insights\",\"matson\",\"operates\",\"day's\",\"uncertainty\",\"ultimately\",\"spirit\",\"packages\",\"31st\",\"retired\",\"owed\",\"networking\",\"calendars\",\"10/28/2001\",\"instructionstransmitted\",\"fleischer\",\"$0\",\"trend\",\"marketer\",\"requesting\",\"bus\",\"categories\",\"dimensions\",\"000000000041547request\",\"saving\",\"declared\",\"studio\",\"famous\",\"sentiment\",\"alumni\",\"face=\\\"arial\",\"robinson\",\"ethics\",\"shit\",\"stick\",\"ridge\",\"processes\",\"$500,000\",\"savita\",\"russ\",\"tycholiz/na/enron@enron\",\"serves\",\"trillion\",\"stuart\",\"sought\",\"6/19/01\",\"checked\",\"allan\",\"stands\",\"reis\",\"palo\",\"baker\",\"jaime.gualy@enron.comresource\",\"pyle\",\"12th\",\"challenge\",\"\\t\\t\\t\\t\\t(713\",\"determining\",\"straddles\",\"mara\",\"zinfandel\",\"----------------------------------------------------------------------------------this\",\"interviewing\",\"lobby\",\"dhabi\",\"girl\",\"specifics\",\"mmbtu/d\",\"valves\",\"arabia\",\"not>\",\"owes\",\"penny\",\"after-tax\",\"http://itcapps.corp.enron.com/srrs/auth/emaillink.asp?id=000000000041547&page=approval\",\"juice\",\"colin\",\"math\",\"7:00pm\",\"---------------------------hunter\",\"chung\",\"midwest\",\"[read]resource\",\"promote\",\"cps\",\"7:50:30\",\"enron.com\",\"secured\",\"geneva\",\"debts\",\"holder\",\"principles\",\"interpretation\",\"lenhart/hou/ect@ect\",\"08/17/2000\",\"engaged\",\"upward\",\"bankers\",\"portfolios\",\"movies\",\"modifie\",\"wolfe/hou/ect@ect\",\"plaza\",\"dc\",\"arguments\",\"silicon\",\"finalize\",\"custom\",\"zero\",\"appreciation\",\"capitol\",\"delhi\",\"actively\",\"liked\",\"cruise\",\"joan\",\"ofall\",\"05/26/2000\",\"allegations\",\"6.3\",\"backed\",\"va\",\"channels\",\"vital\",\"photos\",\"proposing\",\"housing\",\"$8\",\"--------\",\"10th\",\"\\tmalcolm\",\"pointed\",\"blown\",\"slight\",\"subsequent\",\"reforms\",\"vicki\",\"rice\",\"nobody\",\"binder\",\"gifts\",\"antitrust\",\"offerings\",\"hire\",\"calculate\",\"accessing\",\"42\",\"jackson\",\"installation\",\"year-end\",\"hired\",\"fly\",\"10:35\",\"reversion\",\"pmto:\\tfraser\",\"at>\",\"amanda\",\"02:12\",\"upside\",\"conclusion\",\"seating\",\"terra\",\"lime\",\"newsletters\",\"zipper\",\"2:00:00\",\"4.00\",\"04/11/2001\",\"davis/hou/ect@ect\",\"philip\",\"wider\",\"cos\",\"liquid\",\"apx\",\"cars\",\"20th\",\"murphy/hou/ect@ect\",\"style='font-size:10.0pt'>+</span></b><span\",\"08/09/2000\",\"pts\",\"allcopies\",\"earth\",\"specialistenron\",\"terry\",\"administrator\",\"prabhu\",\"4.5\",\"marquez\",\"f/g\",\"alleges\",\"singapore\",\"da\",\"french\",\"cicchettistart\",\"decreased\",\"on>\",\"coale\",\"weekends\",\"downturn\",\"3000\",\"winner\",\"burchfieldsent\",\"straddle\",\"pre-sold\",\"inter-sc\",\"quantity\",\"affecting\",\"introducing\",\"size=-1>texas\",\"slafontaine@globalp.com\",\"denied\",\"lagrasta/hou/ect@ect\",\"-=\",\"viruses\",\"machine\",\"setup\",\"nw\",\"29th\",\"3:00pm\",\"ubspainewebber\",\"07:42\",\"mccubbin/na/enron@enron\",\"ge\",\"staffing\",\"---------------------------\\\"zerilli\",\"08/07/2000\",\"telecomm\",\"suffered\",\"36\",\"rmr\",\"33.9\",\"television\",\"15th\",\"cities\",\"disclosures\",\"letting\",\"invites\",\"identifying\",\"mou\",\"html\",\"**********************************************************************\",\"thur\",\"financially\",\"size=-1>&nbsp;&nbsp;&nbsp;&nbsp;<nobr>ngpl\",\"fiscals\",\"stating\",\"laptop\",\"mwa\",\"liability\",\"curt\",\"lock\",\"commissions\",\"cea\",\"reitmeyer\",\"bo\",\"creditors\",\"entergy\",\"fans\",\"2.5\",\"governors\",\"andpainewebber\",\"ermis/hou/ect@ect\",\"swing\",\"vegas\",\"avenue\",\"amy\",\"$10,000\",\"hawk\",\"85\",\"marks\",\"creation\",\"appreciated\",\"kean/na/enron@enron\",\"obtained\",\"exodus\",\"sb\",\"crocker\",\"delivers\",\"beautiful\",\"passcode\",\"advisors\",\"yourpainewebber\",\"confidentiality:painewebber\",\"mo\",\"conducting\",\"promotions\",\"src=\\\"http://www.economist.com/images/blocks/gray.gif\",\"rita\",\"population\",\"headlines\",\"thereby\",\"cordially\",\"curious\",\"gathering\",\"theme\",\"tomorrow's\",\"concept\",\"van\",\"sum\",\"ease\",\"03/21/2001\",\"bruno\",\"3,000\",\"culture\",\"pmend\",\"edf\",\"seminar\",\"citygate</font></td><td\",\"tracker\",\"peaker\",\"energy-trading\",\"panus\",\"fastow's\",\"size=-1>natural\",\"filings\",\"city's\",\"ripe\",\"ect\",\"arabia's\",\"alternatives\",\"duties\",\"57\",\"yields\",\"referring\",\"kuykendall/hou/ect@ect\",\"printing\",\"theoretical\",\"originators\",\"iii\",\"suffering\",\"feeling\",\"justin\",\"acres\",\"stays\",\"secondary\",\"temperature\",\"seriously\",\"denne\",\"desired\",\"won\",\"86\",\"assumed\",\"sen\",\"nick\",\"matrix\",\"anybody\",\"sullivan\",\"09/05/2000\",\"fwd\",\"fashion\",\"cancellation\",\"sky\",\"spectator\",\"{font-family\",\"[ima=ge]\",\"=09enron\",\"meyer\",\"one-time\",\"conoco\",\"+3\",\"amro\",\"worries\",\"resignation\",\"deferred\",\"fuck\",\"10/05/2000\",\"12/04/2000\",\"expiry\",\"naming\"],\"word\":[\"\",\"the\",\"to\",\"and\",\"of\",\"a\",\"in\",\"for\",\"on\",\"you\",\"is\",\"that\",\"i\",\"=\",\"this\",\"be\",\"with\",\"at\",\"are\",\"will\",\"have\",\"as\",\"by\",\"it\",\"or\",\"from\",\"we\",\"-\",\"your\",\"not\",\"enron\",\"if\",\"an\",\"has\",\"was\",\"would\",\"all\",\"subject\",\"gas\",\"please\",\"any\",\"but\",\"can\",\"john\",\"2001\",\"its\",\"me\",\"said\",\"new\",\"more\",\"company\",\"about\",\"power\",\"our\",\"they\",\"market\",\"up\",\"do\",\"am\",\"out\",\"he\",\"get\",\"energy\",\"which\",\"may\",\"been\",\"my\",\"&\",\"so\",\"what\",\"one\",\"time\",\"e-mail\",\"price\",\"their\",\"pm\",\"some\",\"message-----from\",\"other\",\"there\",\"know\",\"also\",\"no\",\"like\",\"information\",\"than\",\"forwarded\",\"these\",\"phillip\",\"[image]\",\"need\",\"-----original\",\"call\",\"email\",\"trading\",\"when\",\"were\",\"had\",\"last\",\"us\",\"2000\",\"business\",\"year\",\"who\",\"just\",\"pmto\",\"only\",\"should\",\"|\",\"now\",\"week\",\"re\",\"k\",\"could\",\"into\",\"see\",\"over\",\"meeting\",\"think\",\"after\",\"how\",\"message\",\"buy\",\"financial\",\"prices\",\">\",\"want\",\"here\",\"two\",\"make\",\"amto\",\"day\",\"inc\",\"them\",\"million\",\"sent\",\"per\",\"work\",\"next\",\"his\",\"iso\",\"deal\",\"back\",\"use\",\"enron's\",\"today\",\"october\",\"--\",\"going\",\"credit\",\"through\",\"corp\",\"first\",\"offer\",\"such\",\"go\",\"good\",\"take\",\"stock\",\"natural\",\"jones\",\"very\",\"questions\",\"contact\",\"billion\",\"project\",\"much\",\"california\",\"free\",\"down\",\"under\",\"still\",\"following\",\"1\",\"----------------------\",\"align=\\\"right\\\"><font\",\"let\",\"2\",\"those\",\"companies\",\"news\",\"then\",\"don't\",\"state\",\"available\",\"well\",\"trade\",\"click\",\"electricity\",\"sell\",\"demand\",\"houston\",\"management\",\"dow\",\"friday\",\"value\",\"each\",\"s\",\"help\",\"monday\",\"because\",\"most\",\"report\",\"service\",\"review\",\"off\",\"system\",\"november\",\"group\",\"before\",\"markets\",\"between\",\"file\",\"attached\",\"services\",\"list\",\"access\",\"3\",\"way\",\"receive\",\"it's\",\"rights\",\"data\",\"cost\",\"date\",\"since\",\"number\",\"plan\",\"forward\",\"arnold/hou/ect@ectcc\",\"j\",\"years\",\"did\",\"name\",\"both\",\"provide\",\"find\",\"cash\",\"order\",\"send\",\"people\",\"august\",\"many\",\"mark\",\"change\",\"address\",\"i'm\",\"made\",\"current\",\"jeff\",\"right\",\"daily\",\"below\",\"give\",\"being\",\"where\",\"u.s\",\"75pt\",\"shares\",\"look\",\"allen/hou/ect\",\"during\",\"oil\",\"office\",\"long\",\"products\",\"might\",\"days\",\"york\",\"month\",\"percent\",\"him\",\"even\",\"set\",\"until\",\"web\",\"does\",\"tuesday\",\"sure\",\"three\",\"\\t\\t\",\"thursday\",\"however\",\"high\",\"street\",\"times\",\"2002\",\"contract\",\"december\",\"received\",\"internet\",\"board\",\"while\",\"come\",\"phone\",\"north\",\"size=-1>\",\"jennifer\",\"mike\",\"investment\",\"believe\",\"must\",\"10\",\"risk\",\"regarding\",\"own\",\"due\",\"additional\",\"investors\",\"wednesday\",\"pay\",\"4\",\"5\",\"agreement\",\"arnold\",\"customers\",\"around\",\"based\",\"conference\",\"scheduled\",\"spread\",\"request\",\"interest\",\"basis\",\"online\",\"c\",\"options\",\"possible\",\"same\",\"reserved\",\"close\",\"issues\",\"best\",\"few\",\"put\",\"end\",\"position\",\"great\",\"keep\",\"share\",\"rates\",\"dynegy\",\"july\",\"team\",\"earnings\",\"exchange\",\"costs\",\"note\",\"september\",\"et\",\"m\",\"america\",\"able\",\"deals\",\"customer\",\"place\",\"money\",\"site\",\"chief\",\"equity\",\"thanks\",\"months\",\"utilities\",\"30\",\"global\",\"15\",\"total\",\"allen\",\"mr\",\"intended\",\"line\",\"san\",\"lot\",\"communications\",\"little\",\"past\",\"point\",\"industry\",\"short\",\"june\",\"smith\",\"move\",\"another\",\"president\",\">>\",\"working\",\"contracts\",\"too\",\"she\",\"future\",\"debt\",\"say\",\"support\",\"active\",\"part\",\"term\",\"program\",\"got\",\"713\",\"executive\",\"trades\",\"general\",\"march\",\"complete\",\"looking\",\"including\",\"bid\",\"sales\",\"really\",\"again\",\"big\",\"process\",\"above\",\"via\",\"steve\",\"include\",\"meet\",\"center\",\"transactions\",\"weather\",\"thru\",\"limited\",\"cc\",\"getting\",\"further\",\"david\",\"respond\",\"desk\",\"check\",\"herein\",\"less\",\"says\",\"january\",\"update\",\"w\",\"comments\",\"ebs\",\"weeks\",\"run\",\"purchase\",\"lower\",\"account\",\"traders\",\"book\",\"amount\",\"<td\",\"details\",\"things\",\"morning\",\"view\",\"hope\",\"production\",\"done\",\"several\",\"l\",\"either\",\"susan\",\"robert\",\"strong\",\"using\",\"align=\\\"left\\\"><font\",\"loan\",\"product\",\"terms\",\"quarter\",\"used\",\"better\",\"start\",\"asked\",\"already\",\"company's\",\"try\",\"west\",\"employees\",\"ferc\",\"sent:\\tmonday\",\"director\",\"her\",\"second\",\"rate\",\"why\",\"20\",\"every\",\"world\",\"commission\",\"open\",\"wall\",\"james\",\"unit\",\"against\",\"d\",\"t\",\"without\",\"higher\",\"tomorrow\",\"international\",\"thank\",\"soon\",\"analyst\",\"numbers\",\"utility\",\"arnold/hou/ect\",\"trying\",\"different\",\"third\",\"told\",\"recipient\",\"wine\",\"needs\",\"</td>\",\"city\",\"home\",\"storage\",\"discuss\",\"continue\",\"expected\",\"i'll\",\"texas\",\"michael\",\"firm\",\"development\",\"wholesale\",\"issue\",\"net\",\"11\",\"nymex\",\"bank\",\"lay\",\"13\",\"bill\",\"top\",\"assets\",\"changes\",\"co\",\"average\",\"full\",\"public\",\"generation\",\"whether\",\"level\",\"communications@enron\",\"yesterday\",\"scott\",\"impact\",\"---------------------------\",\"kim\",\"manager\",\"reports\",\"plans\",\"members\",\"and/or\",\"least\",\"area\",\"feel\",\"currently\",\"form\",\"points\",\"government\",\"real\",\"electric\",\"outlook\",\"period\",\"london\",\"create\",\"growth\",\"results\",\"fax\",\"confidential\",\"analysts\",\"special\",\"notice\",\"<p\",\"eol\",\"frank\",\"6\",\"futures\",\"supply\",\"securities\",\"capital\",\"buying\",\"research\",\"notes\",\"early\",\"problem\",\"richard\",\"75pt'>\",\"once\",\"yet\",\"reported\",\"floor\",\"cents\",\"problems\",\"far\",\"opportunity\",\"talk\",\"copy\",\"major\",\"marketing\",\"coming\",\"provided\",\"four\",\"probably\",\"game\",\"according\",\"operations\",\"schedule\",\"participants\",\"interested\",\"summer\",\"economic\",\"sources\",\"style='padding:.75pt\",\"recent\",\"trader\",\"cut\",\"jim\",\"de\",\"material\",\"within\",\"pipeline\",\"yes\",\"included\",\"plant\",\"broadband\",\"chairman\",\"distribution\",\"making\",\"25\",\"party\",\"type\",\"greg\",\"doing\",\"transaction\",\"american\",\"left\",\"oct\",\"index\",\"paid\",\"something\",\"id\",\"stocks\",\"looks\",\"case\",\"12\",\"that's\",\"/\",\"prior\",\"decision\",\"loss\",\"selling\",\"likely\",\"anything\",\"cap\",\"question\",\"<<\",\"transmission\",\"night\",\"reuters\",\"ago\",\"tim\",\"read\",\"response\",\"positions\",\"letter\",\"larry\",\"commercial\",\"later\",\"p.m\",\"meetings\",\"page\",\"construction\",\"sign\",\"press\",\"having\",\"building\",\"sale\",\"important\",\"weekend\",\"property\",\"plants\",\"discussed\",\"show\",\"anyone\",\"original\",\"approval\",\"low\",\"visit\",\"you're\",\"federal\",\"fall\",\"ena\",\"reason\",\"final\",\"fund\",\"sent:\\ttuesday\",\"1999\",\"related\",\"policy\",\"upon\",\"dec\",\"person\",\"sat\",\"though\",\"kevin\",\"increase\",\"hours\",\"link\",\"land\",\"operating\",\"bring\",\"bob\",\"worth\",\"job\",\"paul\",\"potential\",\"ask\",\"nov\",\"payment\",\"action\",\"e\",\"front\",\"corporate\",\"enough\",\"hot\",\"capacity\",\"add\",\"rating\",\"align=right\",\"option\",\"we're\",\"agreed\",\"technology\",\"@\",\"\\tarnold\",\"client\",\"direct\",\"private\",\"event\",\"independent\",\"save\",\"large\",\"winter\",\"held\",\"concerns\",\"+\",\"info\",\"physical\",\"partnerships\",\"thought\",\"hard\",\"small\",\"curve\",\"pm\\tto\",\"charge\",\"ng\",\"national\",\"document\",\"late\",\"margaret\",\"expressed\",\"play\",\"jan\",\"together\",\"r\",\"house\",\"sunday\",\"addition\",\"india\",\"room\",\"31\",\"required\",\"8\",\"tell\",\"allow\",\"never\",\"hold\",\"sold\",\"resources\",\"b\",\"april\",\"called\",\"units\",\"return\",\"*\",\"network\",\"7\",\"legal\",\"load\",\"arnold/hou/ect@ect\",\"didn't\",\"can't\",\"post\",\"personal\",\"14\",\"analysis\",\"wanted\",\"release\",\"taking\",\"offers\",\"funds\",\"economy\",\"allen/hou/ect@ect\",\"website\",\"jeffrey\",\"\\t\\t\\tfrom\",\"listed\",\"officer\",\"systems\",\"recently\",\"16\",\"standard\",\"feedback\",\"cent\",\"immediately\",\"paper\",\"everyone\",\"unsubscribe\",\"02\",\"earlier\",\"thing\",\"$\",\"opportunities\",\"calls\",\"chris\",\"software\",\"class=msonormal\",\"businesses\",\"reply\",\"states\",\"projects\",\"plus\",\"=09\",\"08\",\"wish\",\"broker\",\"section\",\"levels\",\"profit\",\"sun\",\"course\",\"works\",\"cannot\",\"volume\",\"maybe\",\"prohibited\",\"away\",\"member\",\"northwest\",\"among\",\"others\",\"attend\",\"\\tenron\",\"orders\",\"result\",\"class\",\"=01\",\"given\",\"f\",\"announced\",\"charges\",\"guys\",\"harry\",\"delete\",\"fell\",\"align=3d\\\"right\\\"><font\",\"largest\",\"h\",\"carr\",\"vice\",\"suite\",\"18\",\"found\",\"partnership\",\"ready\",\"tx\",\"responsible\",\"statement\",\"strategic\",\"includes\",\"john.arnold@enron.com\",\"seen\",\"extra\",\"water\",\"staff\",\"29\",\"completed\",\"expect\",\"<tr><td\",\"understand\",\"fw\",\"sent:\\twednesday\",\"fastow\",\"lost\",\"george\",\"investor\",\"seems\",\"white\",\"idea\",\"side\",\"pricing\",\"experience\",\"size=3d-1>\",\"relationship\",\"air\",\"portfolio\",\"hour\",\"26\",\"fees\",\"answer\",\"portland\",\"follow\",\"align='left\",\"old\",\"johnsubject:\\tre\",\"drop\",\"longer\",\"performance\",\"investments\",\"clear\",\"afternoon\",\"wants\",\"posted\",\"mw\",\"instructions\",\"fuel\",\"sector\",\"across\",\"contained\",\"industrial\",\"chance\",\"planning\",\"published\",\"brian\",\"five\",\"pmto:\\tarnold\",\"minutes\",\"sent:\\tthursday\",\"local\",\"necessary\",\"items\",\"21\",\"computer\",\"yahoo\",\"error\",\"davis\",\"#\",\"act\",\"regulatory\",\"mail\",\"balance\",\"always\",\"latest\",\"february\",\"therefore\",\"rather\",\"someone\",\"eric\",\"keith\",\"requested\",\"location\",\"along\",\"south\",\"behalf\",\"western\",\"build\",\"simply\",\"hunter\",\"half\",\"bloomberg\",\"monthly\",\"migration\",\"ahead\",\"tax\",\"size\",\"couple\",\"heads\",\"ene\",\"corp.\\t\\tfrom\",\"doesn't\",\"el\",\"tom\",\"nothing\",\"become\",\"allen/hou/ect@ectcc\",\"directors\",\"means\",\"taken\",\"charts\",\"starting\",\"security\",\"disclosure\",\"directly\",\"crude\",\"loans\",\"leave\",\"needed\",\"else\",\"alt=\",\"consumers\",\"password\",\"bonds\",\"lead\",\"initial\",\"added\",\"focus\",\"instead\",\"committee\",\"fact\",\"pretty\",\"server\",\"finance\",\"senior\",\"actual\",\"mary\",\"certain\",\"rent\",\"bmc\",\"corporation\",\"fixed\",\"ce\",\"almost\",\"took\",\"confirm\",\"communication\",\"near\",\"lines\",\"var\",\"executives\",\"class='emailtextblack\",\"went\",\"we'll\",\"quality\",\"heat\",\"beginning\",\"significant\",\"considered\",\"live\",\"happy\",\"peter\",\"structure\",\"financing\",\"downgraded\",\"actually\",\"user\",\"dinner\",\"lng\",\"delivery\",\"flow\",\"although\",\"training\",\"$1\",\"thomas\",\"closing\",\"unable\",\"ina\",\"offset\",\"agree\",\"design\",\"common\",\"version\",\"joe\",\"paso\",\"size=-1><b>\",\"comment\",\"socal\",\"approved\",\"miles\",\"williams\",\"enter\",\"comes\",\"swaps\",\"traded\",\"efforts\",\"i've\",\"spoke\",\"hear\",\"east\",\"appreciate\",\"dabhol\",\"normal\",\"discussions\",\"stay\",\"central\",\"code\",\"saturday\",\"500\",\"9\",\"everything\",\"solely\",\"firms\",\"six\",\"swap\",\"increased\",\"entity\",\"minimum\",\"biggest\",\"merger\",\"draft\",\"amto:\\tarnold\",\"24\",\"commodity\",\"range\",\"am\\tto\",\"status\",\"bad\",\"morgan\",\"spokesman\",\"story\",\"reduction\",\"coverage\",\"english\",\"technical\",\"core\",\"officials\",\"moving\",\"documents\",\"dollars\",\"control\",\"department\",\"example\",\"ceo\",\"interview\",\"stop\",\"23\",\"solutions\",\"associated\",\"tech\",\"express\",\"gary\",\"individual\",\"willing\",\"fee\",\"files\",\"notify\",\"proposal\",\"continental\",\"worked\",\"master\",\"former\",\"counterparties\",\"application\",\"g\",\"presentation\",\"estimates\",\"sender\",\"today's\",\"shall\",\"heard\",\"events\",\"foreign\",\"ct\",\"source\",\"appropriate\",\"hedging\",\"groups\",\"bids\",\"discussion\",\"card\",\"what's\",\"washington\",\"except\",\"income\",\"previous\",\"andrew\",\"remove\",\"shipping\",\"accurate\",\"vs\",\"rules\",\"life\",\"consider\",\"compaq\",\"won't\",\"car\",\"holiday\",\"generators\",\"session\",\"dates\",\"<br>\",\"model\",\"27\",\"dave\",\"vol\",\"makes\",\"cover\",\"changed\",\"employee\",\"effect\",\"john.arnold@enron.comcc\",\"mentioned\",\"strategy\",\"spreadsheet\",\"caiso\",\"country\",\"begin\",\"accounting\",\"requirements\",\"track\",\"clearing\",\"retail\",\"join\",\"cal\",\"came\",\"17\",\"sheet\",\"bills\",\"purpose\",\"field\",\"key\",\"andy\",\"fill\",\"force\",\"transfer\",\"various\",\"rose\",\"approximately\",\"ability\",\"existing\",\"conditions\",\"relations\",\"annual\",\"proposed\",\"test\",\"deregulation\",\"summary\",\"content\",\"saw\",\"pmplease\",\"\\t\",\"met\",\"grid\",\"role\",\"rest\",\"signed\",\"whole\",\"require\",\"input\",\"specific\",\"showtimes\",\"remember\",\"ideas\",\"pass\",\"hedge\",\"apply\",\"long-term\",\"leading\",\"[mailto:john.arnold@enron.com]sent\",\"nat\",\"copyright\",\"paribas\",\"managing\",\"double\",\"parties\",\"let's\",\"1998\",\"newswires\",\"united\",\"matt\",\"privacy\",\"continued\",\"university\",\"study\",\"effort\",\"19\",\"producers\",\"california's\",\"ever\",\"officers\",\"indian\",\"std\",\"video\",\"bond\",\"started\",\"losses\",\"light\",\"thus\",\"community\",\"specials\",\"28\",\"reserves\",\"stake\",\"attachments\",\"family\",\"facility\",\"william\",\"advance\",\"main\",\"the>\",\"huge\",\"filed\",\"px\",\"diego\",\"matter\",\"fri\",\"running\",\"a.m\",\"etc\",\"reduced\",\"reporting\",\"calendar\",\"love\",\"volumes\",\"partners\",\"asset\",\"sending\",\"continental.com\",\"concern\",\"pao\",\"forecast\",\"sent:\\tfriday\",\"internal\",\"metals\",\"confidence\",\"clients\",\"dear\",\"reduce\",\"season\",\"mean\",\"outside\",\"ca\",\"spreads\",\"x\",\"similar\",\"areas\",\"law\",\"contain\",\"activity\",\"europe\",\"stephanie\",\"turn\",\"sec\",\"50\",\"week's\",\"exposure\",\"il\",\"p\",\"receiving\",\"banks\",\"saying\",\"outstanding\",\"effective\",\"determine\",\"maximum\",\"applications\",\"message-----\",\"entire\",\"represent\",\"impacted\",\"table\",\"learn\",\"ken\",\"journal\",\"lots\",\"users\",\"care\",\"don\",\"admin\",\"volatility\",\"p&l\",\"ou\",\"southern\",\"especially\",\"canada\",\"talks\",\"target\",\"pt\",\"missed\",\"remain\",\"gets\",\"toute\",\"ensure\",\"buyer\",\"develop\",\"travel\",\"thinking\",\"bought\",\"guarantee\",\"filing\",\"derivatives\",\"accept\",\"dollar\",\"agreements\",\"talking\",\"=20<br>\",\"easy\",\"named\",\"%\",\"authority\",\"names\",\"pacific\",\"equipment\",\"provides\",\"aga\",\"reach\",\"pg&e\",\"stage\",\"ratings\",\"100\",\"initiated\",\"hp\",\"court\",\"issued\",\"$4\",\"sorry\",\"reserve\",\"hit\",\"weekly\",\"closed\",\"fraser\",\"y\",\"drive\",\"clicking\",\"space\",\"tickets\",\"emergency\",\"prepared\",\"package\",\"jobs\",\"red\",\"11/17/2001\",\"certainly\",\"tails\",\"stephen\",\"ny\",\"article\",\"estimated\",\"style='text-align:right'><span\",\"tonight\",\"rental\",\"region\",\"watch\",\"win\",\"instruments\",\"participation\",\"participate\",\"box\",\"alan\",\"head\",\"single\",\"confirmation\",\"sept\",\"investigation\",\"ok\",\"screen\",\"benefit\",\"sdg&e\",\"bullish\",\"overall\",\"22\",\"karen\",\"1997\",\"created\",\"newsletter\",\"peak\",\"declined\",\"dpc\",\"profits\",\"man\",\"unless\",\"mind\",\"manage\",\"handle\",\"maintenance\",\"compared\",\"sarah\",\"seem\",\"choose\",\"moved\",\"located\",\"updated\",\"helvetica\",\"liquidity\",\"revenue\",\"updates\",\"hotel\",\"appears\",\"third-quarter\",\"limit\",\"ltd\",\"picture\",\"recommendation\",\"written\",\"dr\",\"agenda\",\"select\",\"activities\",\"termination\",\"concerned\",\"revised\",\"---------------------------from\",\"enrononline\",\"copies\",\"microsoft\",\"isn't\",\"hotels\",\"he's\",\"916\",\"quote\",\"takes\",\"fun\",\"vacation\",\"haven't\",\"attorney\",\"speak\",\"features\",\"books\",\"wireless\",\"record\",\"ees\",\"considering\",\"steven\",\"state's\",\"kenneth\",\"base\",\"delivered\",\"n\",\"dissemination\",\"goes\",\"phase\",\"la\",\"margin\",\"1st\",\"organization\",\"advantage\",\"savings\",\"avoid\",\"regards\",\"i'd\",\"situation\",\"bottom\",\"strictly\",\"solution\",\"reached\",\"offered\",\"dont\",\"behind\",\"bnp\",\"statements\",\"extremely\",\"belden/hou/ect@ect\",\"trip\",\"led\",\"guess\",\"town\",\"<epao@mba2002.hbs.edu>\",\"paying\",\"rise\",\"they're\",\"0\",\"billing\",\"pick\",\"availability\",\"mseb\",\"participant\",\"50%\",\"jarnold@enron.com\",\"face=\\\"verdana\",\"records\",\"intercontinentalexchange\",\"counterparty\",\"political\",\"registered\",\"friend\",\"school\",\"word\",\"moody's\",\"log\",\"involved\",\"telephone\",\"failed\",\"expenses\",\"craig\",\"rob\",\"difficult\",\"arial\",\"settlement\",\"friends\",\"greater\",\"barry\",\"assistance\",\"yourself\",\"</font></td></tr>\",\"calif\",\"survey\",\"londonoutage\",\"fraser/enron@enronxgate\",\"official\",\"block\",\"pressure\",\"estate\",\"consumer\",\"valid\",\"calling\",\"testing\",\"dutch\",\"puc\",\"indices\",\"zdnet\",\"jason\",\"ice\",\"ways\",\"shareholders\",\"myself\",\"detailed\",\"border='0\",\"ed\",\"club\",\"significantly\",\"fine\",\"write\",\"fair\",\"crisis\",\"cell\",\"known\",\"preferred\",\"improve\",\"builders\",\"gave\",\"accounts\",\"often\",\"author\",\"joseph\",\"regulators\",\"administration\",\"quickly\",\"kind\",\"otherwise\",\"shareholder\",\"<jarnold@enron.com>cc\",\"$5\",\"history\",\"evening\",\"hub\",\"matthew\",\"bit\",\"nearly\",\"partner\",\"leaving\",\"pm\\t\\t\",\"growing\",\"platform\",\"throughout\",\"media\",\"talked\",\"assume\",\"dan\",\"</tr>\",\"acceptance\",\"eastern\",\"completely\",\"waiting\",\"switching\",\"messages\",\"previously\",\"venture\",\"definitely\",\"fully\",\"exclusive\",\"brad\",\"reasons\",\"=the\",\"quite\",\"present\",\"jay\",\"caps\",\"accepted\",\"complex\",\"hilton\",\"providing\",\"buyers\",\"competitive\",\"le\",\"pending\",\"spend\",\"houston-based\",\"llc\",\"there's\",\"nt\",\"buys\",\"trust\",\"finally\",\"est\",\"fast\",\"sellers\",\"choice\",\"raise\",\"40\",\"positive\",\"you'll\",\"offering\",\"pool\",\"indicated\",\"evidence\",\"world's\",\"barbara\",\"revenues\",\"ii\",\"confidentiality\",\"<a\",\"commitment\",\"differ\",\"formal\",\"hearing\",\"operator\",\"remains\",\"advise\",\"executing\",\"competition\",\"clearly\",\"<epao@mba2002.hbs.edu>to\",\"understanding\",\"touch\",\"sounds\",\"4:00\",\"managed\",\"lack\",\"asking\",\"kimberly\",\"payments\",\"taxes\",\"pr\",\"we've\",\"mkt\",\"offices\",\"began\",\"values\",\"prefer\",\"flat\",\"combined\",\"sans-serif\",\"seeing\",\"respects\",\"contacts\",\"skilling\",\"networks\",\"correct\",\"download\",\"residential\",\"77002phone\",\"relevant\",\"th=e\",\"european\",\"epao@mba2002.hbs.edusubject\",\"uk\",\"u\",\"barney\",\"t=he\",\"stuff\",\"bcf\",\"walk\",\"despite\",\"clean\",\"christopher\",\"acquisition\",\"whatever\",\"itself\",\"star\",\"alternative\",\"amid\",\"st\",\"wines\",\"putting\",\"martin\",\"you've\",\"maharashtra\",\"contains\",\"buy.com\",\"facilities\",\"edward\",\"pergher\",\"serif\",\"grant\",\"$50\",\"title\",\"shows\",\"patrick\",\"supposed\",\"round\",\"pmto:\\tallen\",\"advice\",\"oregon\",\"pull\",\"conversation\",\"transportation\",\"player\",\"guest\",\"decided\",\"seeking\",\"<tr>\",\"pira\",\"roll\",\"reviewed\",\"released\",\"attractive\",\"programs\",\"usd\",\"approve\",\"cold\",\"transport\",\"sole\",\"happen\",\"border=\\\"0\",\"purchases\",\"noon\",\"bush\",\"07\",\"digital\",\"insight\",\"resolution\",\"puts\",\"iso's\",\"joint\",\"sep\",\"the=\",\"authorized\",\"continuing\",\"approach\",\"owned\",\"reminder\",\"reference\",\"10%\",\"communications\\t\\t\",\"increases\",\"strip\",\"negative\",\"lisa\",\"young\",\"646-3490email\",\"face=\\\"verdana,geneva,arial,sans\",\"mailing\",\"stakeholder\",\"gift\",\"ufe\",\"3:00\",\"quotes\",\"feet\",\"decline\",\"true\",\"privileged\",\"locations\",\"developing\",\"rebecca\",\"11th\",\"<font\",\"owns\",\"institute\",\"couldn't\",\"shively/hou/ect@ect\",\"governor\",\"byon\",\"anyopinions\",\"$2\",\"oraffiliates\",\"futuresthe\",\"bereliable\",\"language\",\"theymay\",\"\\tallen\",\"solicitationof\",\"nothingcontained\",\"welcome\",\"quick\",\"seven\",\"lenders\",\"black\",\"finish\",\"simulation\",\"goldman\",\"3803ahouston\",\"crack\",\"853-4737fax\",\"break\",\"announcement\",\"setting\",\"sarah-joy\",\"attention\",\"interviews\",\"electronic\",\"proposals\",\"rule\",\"angeles\",\"expense\",\"continues\",\"hand\",\"michelle\",\"serve\",\"upgraded\",\"giant\",\"okay\",\"nine\",\"commodities\",\"planned\",\"12:00:00\",\"ses\",\"invite\",\"heating\",\"6:00:00\",\"$250\",\"2003\",\"sont\",\"lynch\",\"colleen\",\"perform\",\"budget\",\"size=-1><b>+</b>\",\"estimate\",\"chicago\",\"professional\",\"addressed\",\"---\",\"submit\",\"edison\",\"bearish\",\"proprietary\",\"sense\",\"respect\",\"thoughts\",\"usually\",\"follows\",\"resume\",\"corp.1400\",\"happened\",\"reasonable\",\"ofthe\",\"column\",\"im\",\"gain\",\"road\",\"wrong\",\"entities\",\"progress\",\"auction\",\"nice\",\"oh\",\"realize\",\"insurance\",\"environment\",\"noted\",\"restore\",\"dj\",\"henry\",\"simple\",\"developed\",\"allen@enron\",\"shut\",\"represents\",\"industries\",\"cancel\",\"60606\",\"affect\",\"format\",\"executed\",\"saudi\",\"ews\",\"thecharts\",\"link(s)contained\",\"enjoy\",\"randy\",\"allowed\",\"size=-1><b>-</b>\",\"environmental\",\"secretary\",\"implementation\",\"chartsto\",\"selected\",\"infrastructure\",\"associate\",\"success\",\"origination\",\"coal\",\"spot\",\"producer\",\"forum\",\"juan\",\"msn\",\"avaya\",\"discount\",\"face\",\"non\",\"maintain\",\"cases\",\"store\",\"sort\",\"wait\",\"sessions\",\"05/13/2001\",\"reform\",\"figure\",\"amplease\",\"links\",\"whose\",\"opening\",\"preliminary\",\"forced\",\"invest\",\"decisions\",\"deliver\",\"applicable\",\"amazon.com\",\"views\",\"rentroll\",\"10/20/2001\",\"francisco\",\"consolidated\",\"futures150\",\"placed\",\"sound\",\"1500chicago\",\"suggest\",\"purchased\",\"submitted\",\"seller\",\"cfo\",\"entry\",\"ward\",\"sandra\",\"appear\",\"materials\",\"01\",\"built\",\"amounts\",\"nj\",\"returns\",\"bandwidth\",\"expansion\",\"message----->\",\"dealbench\",\"improvement\",\"expert\",\"millions\",\"series\",\"procedures\",\"lavorato\",\"agency\",\"critical\",\"doug\",\"requirement\",\"seat\",\"representative\",\"arora\",\"<john.arnold@enron.com>cc\",\"attempt\",\"task\",\"fallen\",\"sheraton\",\"jr\",\"associates\",\"helped\",\"s&p\",\"fundamentals713-853-4759\",\"fraserenron\",\"aware\",\"salomon\",\"airport\",\"laura\",\"inquiry\",\"requests\",\"brown\",\"christi\",\"settlements\",\"grigsby\",\"weak\",\"aug\",\"remaining\",\"giving\",\"focused\",\"nation's\",\"stated\",\"membership\",\"mutual\",\"beyond\",\"complaint\",\"food\",\"congestion\",\"cuts\",\"cubic\",\"became\",\"subscription\",\"neutral\",\"fred\",\"voicemail\",\"monitor\",\"particular\",\"supplies\",\"step\",\"soccer\",\"inside\",\"obligations\",\"outage\",\"union\",\"regular\",\"ft\",\"portion\",\"leader\",\"successful\",\"council\",\"austin\",\"database\",\"gov\",\"restructuring\",\"tried\",\"disclosed\",\"types\",\"grade\",\"zone\",\"spent\",\"candidates\",\"bridge\",\"governing\",\"permission\",\"exploration\",\"sourcing\",\"cellspacing='0\",\"recommend\",\"immediate\",\"rally\",\"amto:\\tallen\",\"minute\",\"entered\",\"caroline\",\"lee\",\"wouldn't\",\"senate\",\"sce\",\"spec\",\"->\",\"i.e\",\"primary\",\"excel\",\"hi\",\"matters\",\"url\",\"designed\",\"purchasing\",\"cpuc\",\"fletcher\",\"middle\",\"players\",\"style='text-align:right'><b><span\",\"johnsubject\",\"brief\",\"topic\",\"park\",\"lunch\",\"windows\",\"processing\",\"scheduling\",\"invited\",\"julie\",\"exactly\",\"service(c\",\"item\",\"bay\",\"count\",\"benefits\",\"you'd\",\"bankruptcy\",\"desktop\",\"interests\",\"heavy\",\"width=\\\"1\",\"description\",\"guy\",\"designated\",\"premium\",\"adjustment\",\"sells\",\"anyway\",\"vp\",\"tools\",\"spending\",\"airlines\",\"busy\",\"expects\",\"ended\",\"valuable\",\"and>\",\"reservations\",\"specified\",\"removed\",\"subscribe\",\"serious\",\"1996\",\"sachs\",\"=20\",\"turned\",\"onepass\",\"amendment\",\"closer\",\"lose\",\"print\",\"raised\",\"goal\",\"trouble\",\"limits\",\"produce\",\"rich\",\"attacks\",\"applied\",\"upgrade\",\"distributed\",\"playing\",\"assessment\",\"affiliate\",\"bailey\",\"subsidiary\",\"managers\",\"poor's\",\"relative\",\"basic\",\"suggested\",\"worldwide\",\"$3\",\"persons\",\"operation\",\"india's\",\"pge\",\"feature\",\"passed\",\"brokers\",\"200\",\"nor\",\"generating\",\"path\",\"4:00:00\",\"grow\",\"conduct\",\"strike\",\"kept\",\"chase\",\"stadium\",\"explain\",\"petroleum\",\"miss\",\"themselves\",\"methodology\",\"resorts\",\"connection\",\"host\",\"settle\",\"confirmed\",\"speed\",\"src=\\\"http://www.economist.com/images/blocks/spacer.gif\",\"substantial\",\"coast\",\"mar\",\"participating\",\"attachment\",\"uses\",\"neal/hou/ect@ect\",\"03\",\"generate\",\"towards\",\"sap\",\"edwards\",\"scenario\",\"occurs\",\"wrote\",\"forecasts\",\"cabernet\",\"susan.bailey@enron.com\",\"useful\",\"mobile\",\"mcmahon\",\"regional\",\"to>\",\"separate\",\"marcos\",\"panel\",\"forms\",\"button\",\"rooms\",\"search\",\"cmr\",\"assuming\",\"interesting\",\"here's\",\"facilitate\",\"lycos\",\"push\",\"invoice\",\"expectations\",\"factors\",\"ann\",\"curves\",\"valued\",\"covering\",\"specialist\",\"perhaps\",\"tour\",\"inthe\",\"division\",\"served\",\"risks\",\"bear\",\"writing\",\"established\",\"gone\",\"vote\",\"consistent\",\"japan\",\"wire\",\"suit\",\"super\",\"extension\",\"failure\",\"direction\",\"12/13/2000\",\"azurix\",\"viewing\",\"arrangements\",\"excess\",\"background\",\"delay\",\"flip\",\"cst\",\"a>\",\"baileyenron\",\"reliability\",\"ten\",\"increasing\",\"$10\",\"owners\",\"replace\",\"leaders\",\"ted\",\"ms\",\"obligation\",\"deposit\",\"detail\",\"reflect\",\"directory\",\"10/27/2001\",\"disc\",\"mailbox\",\"request.request\",\"thinks\",\"announce\",\"receipt\",\"excellent\",\"lewter\",\"gray\",\"\\tfraser\",\"fruit\",\"bruce\",\"creating\",\"reject\",\"exit\",\"dated\",\"slightly\",\"gss\",\"toward\",\"concerning\",\"protect\",\"subsidiaries\",\"agencies\",\"disk\",\"upcoming\",\"duke\",\"rsvp\",\"war\",\"telecom\",\"05\",\"quarterly\",\"favor\",\"ver\",\"real-time\",\"publication\",\"fortune\",\"reservation\",\"association\",\"$100\",\"100%\",\"output\",\"confirms\",\"owa\",\"secure\",\"music\",\"gives\",\"experts\",\"domestic\",\"proforma\",\"melissa\",\"voice\",\"cause\",\"river\",\"megawatt-hour\",\"ljm\",\"hey\",\"shown\",\"versus\",\"10/19/2001\",\"decide\",\"badeer/hou/ect@ect\",\"taylor\",\"caused\",\"corner\",\"dropped\",\"words\",\"brought\",\"extend\",\"partial\",\"sponsored\",\"golden\",\"identified\",\"pc\",\"holding\",\"looked\",\"lawsuit\",\"everybody\",\"whom\",\"favorite\",\"procedure\",\"0.00\",\"o\",\"bonus\",\"destination\",\"09/26/2000\",\"attending\",\"identify\",\"$1.2\",\"presented\",\"transmitted\",\"tracy\",\"individuals\",\"feb\",\"gunther\",\"northern\",\"regard\",\"canadian\",\"trial\",\"initiatives\",\"district\",\"vanderbilt\",\"tariff\",\"maker\",\"completion\",\"fourth\",\"consulting\",\"larger\",\"fields...(id\",\"richards\",\"newswire\",\"zip\",\"percentage\",\"sports\",\"year's\",\"kinko's\",\"blue\",\"provider\",\"fit\",\"telling\",\"outcome\",\"cellpadding='0\",\"vehicles\",\"sauvignon\",\"stanley\",\"pro\",\"10,000\",\"stand\",\"difference\",\"downgrade\",\"browser\",\"merchant\",\"ct\\tsat\",\"lease\",\"opinion\",\"prepare\",\"aren't\",\"\\t\\t\\t\\t\",\"merrill\",\"function\",\"actions\",\"ward/enron@enronxgate\",\"carla\",\"efficient\",\"parking\",\"equal\",\"houston's\",\"unfortunately\",\"rick\",\"align=3d\\\"left\\\"><font\",\"wacker\",\"exercise\",\"align=3d\\\"right\\\"><b><font\",\"engineering\",\"fundamental\",\"=20<tr><td\",\"compliance\",\"boost\",\"functionality\",\"answers\",\"wells\",\"fix\",\"believes\",\"tasting\",\"boat\",\"gulf\",\"asia\",\"helpful\",\"obtain\",\"rolling\",\"seek\",\"brokerage\",\"corptime\",\"obviously\",\"spring\",\"specifically\",\"priority\",\"negotiated\",\"showing\",\"affiliates\",\"checking\",\"enron.messaging.administration@enron.com\",\"short-term\",\"\\tbailey\",\"folks\",\"developments\",\"faith\",\"hurt\",\"standards\",\"temperatures\",\"opinions\",\"highly\",\"ongoing\",\"none\",\"practices\",\"loads\",\"human\",\"poor\",\"blair\",\"2nd\",\"drinks\",\"integrity\",\"priced\",\"reliant\",\"si\",\"11/18/2001\",\"60\",\"proceeds\",\"emissions\",\"withthe\",\"knowledge\",\"respective\",\"proceed\",\"charles\",\"possibly\",\"extended\",\"gains\",\"megawatts\",\"explorer\",\"generally\",\"republicans\",\"calculation\",\"jean\",\"sectors\",\"enforceable\",\"traditional\",\"happens\",\"los\",\"=of\",\"jonathan\",\"accord\",\"bp\",\"assistant\",\"countries\",\"usage\",\"linda\",\"login\",\"edge\",\"class=msonormal><span\",\"health\",\"dennis\",\"safe\",\"hartsoe/corp/enron@enron\",\"prompt\",\"influence\",\"driving\",\"labor\",\"shared\",\"wasn't\",\"buyout\",\"particularly\",\"jersey\",\"domain\",\"hr\",\"louise\",\"mexico\",\"asap\",\"resulting\",\"wondering\",\"usatel\",\"width=\\\"125\",\"<span\",\"delayed\",\"florida\",\"steps\",\"subject:\\tre\",\"implied\",\"colspan='3'>cash\",\"disclose\",\"class='text2'>regular\",\"align='middle'><img\",\"size='1\",\"colspan='3\",\"lavorato/corp/enron@enron\",\"valley\",\"width='100%\",\"smaller\",\"green\",\"bringing\",\"checks\",\"color='green'></td></tr><tr><td\",\"-by\",\"falling\",\"amrequested\",\"donna\",\"intelligence\",\"familiar\",\"colspan='4'><hr\",\"pieces\",\"pt\\tsat\",\"chronicle\",\"delta\",\"factor\",\"edition\",\"09\",\"knows\",\"eventually\",\"mid\",\"pm>\",\"$20\",\"sa\",\"responsibility\",\"pm\\t\\t\\t\\t\",\"shorts\",\"t=o\",\"deadline\",\"businesswire\",\"sees\",\"british\",\"typically\",\"312-368-6149fax\",\"potentially\",\"lober\",\"easier\",\"300\",\"parker\",\"engineer\",\"reliance\",\"match\",\"dynegy's\",\"dallas\",\"consumption\",\"scale\",\"estoppel\",\"measures\",\"fiscal\",\"backup\",\"312-368-2281soblander@carrfut.comhttp://www.carrfut.com\",\"register\",\"lowered\",\"affected\",\"map\",\"soblander@carrfut.comcc\",\"fails\",\"assist\",\"cellspacing=\\\"0\",\"economist\",\"implement\",\"hands\",\"warning\",\"expensive\",\"glad\",\"stars\",\"college\",\"dealing\",\"90\",\"2:30\",\"citing\",\"england\",\"knew\",\"verdana\",\"architect\",\"leslie\",\"nasdaq\",\"automatically\",\"jane\",\"hereto\",\"elizabeth\",\"brenda\",\"ticket\",\"northeast\",\"05/08/2001\",\"legislature\",\"slow\",\"+1000\",\"length\",\"negotiations\",\"economics\",\"timing\",\"stack\",\"carrying\",\"\\tward\",\"selection\",\"helps\",\"---------------------------soblander@carrfut.com\",\"owner\",\"nature\",\"scope\",\"perfect\",\"unique\",\"exact\",\"to:subject\",\"informed\",\"pleased\",\"moves\",\"7:00:00\",\"margaretsubject:\\tre\",\"russell\",\"ext\",\"willbe\",\"telecommunications\",\"claims\",\"bcc\",\"periods\",\"demo\",\"you,phillip\",\"width=125\",\"q3\",\"takeover\",\"award\",\"leadership\",\"peace\",\"merlot\",\"am\\t\\t\",\"audit\",\"technologies\",\"smart\",\"football\",\"anytime\",\"2:00\",\"window\",\"roger\",\"ones\",\"numerous\",\"gdp\",\"showed\",\"clay\",\"multiple\",\"affairs\",\"centers\",\"cross\",\"natgas\",\"wanna\",\"blackouts\",\"lowest\",\"resigned\",\"suppliers\",\"emails\",\"resource\",\"hasn't\",\"ron\",\"supported\",\"fyi\",\"purposes\",\"synthetic\",\"ratio\",\"models\",\"louis\",\"steffes/na/enron@enron\",\"cindy\",\"updating\",\"lucy\",\"changing\",\"grigsby/hou/ect@ect\",\"jose\",\"ordered\",\"yield\",\"helping\",\"occur\",\"greatly\",\"alone\",\"<john.arnold@enron.com>cc:subject\",\"e-mails\",\"consensus\",\"roof\",\"750\",\"otc\",\"roberts\",\"dispute\",\"consent\",\"originally\",\"presto\",\"improved\",\"vendors\",\"04\",\"parts\",\"$25\",\"wide\",\"described\",\"representing\",\"ravi\",\"sometime\",\"bet\",\"creekside\",\"45\",\"presto/hou/ect@ect\",\"royal\",\"layout\",\"marketers\",\"kids\",\"sara\",\"ultimate\",\"ends\",\"fields\",\"messaging\",\"doesnt\",\"bryan\",\"adds\",\"kelly\",\"color\",\"listing\",\"shop\",\"to=\",\"allowing\",\"wade\",\"communicate\",\"basin\",\"degrees\",\"lehman\",\"scenarios\",\"1/2\",\"-(dow\",\"tony\",\"determined\",\"=09=09\",\"garage\",\"jones)-\",\"donald\",\"hello\",\"kaufman/pdx/ect@ect\",\"innovative\",\"banking\",\"treatment\",\"measure\",\"-----\",\"o=f\",\"downtown\",\"attachments.crude\",\"encourage\",\"invitation\",\"bcf/d\",\"sit\",\"vladimir\",\"=to\",\"diluted\",\"liable\",\"recruiting\",\"produced\",\"alert\",\"forest\",\"strength\",\"recommended\",\"timely\",\"frequently\",\"joined\",\"manufacturing\",\"cool\",\"anticipated\",\"turning\",\"border\",\"sw\",\"procurement\",\"palmer\",\"3:00:00\",\"recovery\",\"policies\",\"fleet\",\"living\",\"career\",\"kathy\",\"facing\",\"hopefully\",\"king\",\"stewart\",\"border=0\",\"shell\",\"mailings\",\"vehicle\",\"legislative\",\"representatives\",\"@@@\",\"beth\",\"---------------------------\\\"george\",\"sean\",\"science\",\"seeks\",\"edgar\",\"drew\",\"tool\",\"marlin\",\"suites\",\"11/25/2001\",\"hydro\",\"straight\",\"inform\",\"ship\",\"bigger\",\"of>\",\"70\",\"daniel\",\"douglas\",\"speaking\",\"rival\",\"patti\",\"possibility\",\"golf\",\"holds\",\"practice\",\"expand\",\"rebate\",\"eight\",\"lets\",\"pwr\",\"1000\",\"byron\",\"acquired\",\"relating\",\"hayden\",\"]\",\"enable\",\"seattle\",\"launch\",\"worse\",\"vince\",\"solicitation\",\"sagel\",\"learned\",\"flexible\",\"sr\",\"tough\",\"runs\",\"extent\",\"briefing\",\"bilateral\",\"inventory\",\"responses\",\"ho\",\"5%\",\"letters\",\"advisory\",\"pas\",\"highest\",\"litigation\",\"interval\",\"les\",\"40%\",\"registration\",\"places\",\"metal\",\"import\",\"valuation\",\"adding\",\"headed\",\"tahoma,arial;font-size\",\"installed\",\"mon\",\"valign=bottom\",\"defense\",\"comnes/pdx/ect@ect\",\"wind\",\"marketplace\",\"mention\",\"counsel\",\"indicates\",\"rogers\",\"pace\",\"skills\",\"7:00\",\"55\",\"fairly\",\"guarantees\",\"sites\",\"drink\",\"3:30\",\"fundamentals\",\"involving\",\"lists\",\"exports\",\"5:00\",\"keeping\",\"min\",\"style\",\"n/a\",\"asian\",\"steel\",\"</font>\",\"tenants\",\"ljm2\",\"notification\",\"pipelines\",\"depending\",\"inflation\",\"execution\",\"shankman/hou/ect@ect\",\"tix\",\"principal\",\"operate\",\"ray\",\"crazy\",\"aquila\",\"jack\",\"magazine\",\"america's\",\"properties\",\"draw\",\"hoping\",\"ownership\",\"beach\",\"dyn\",\"jarnold@enron.comcc\",\"ne\",\"shopping\",\"surprised\",\"asks\",\"additionally\",\"spokeswoman\",\"z\",\"pinot\",\"carry\",\"12/12/2000\",\"25%\",\"collateral\",\"and=\",\"cutting\",\"addressees\",\"bln\",\"resolve\",\"<pallen@enron.com>cc\",\"kaiser\",\"traveling\",\"door\",\"returned\",\"waste\",\"relationships\",\"losing\",\"tori\",\"dasovich/na/enron@enron\",\"pursuing\",\"enjoyed\",\"calpine\",\"09/27/2000\",\"massive\",\"par\",\"attendees\",\"robertson\",\"congress\",\"age\",\"currency\",\"jennifersubject\",\"ran\",\"95\",\"connected\",\"desire\",\"invested\",\"01/26/2001\",\"todd\",\"kitchen\",\"trigger\",\"gmt\",\"carl\",\"owe\",\"pct\",\"thanksgiving\",\"rto\",\"holdings\",\"sharply\",\"earn\",\"1,000\",\"intensity\",\"historical\",\"adjustments\",\"promotion\",\"consideration\",\"overview\",\"depends\",\"corp.'s\",\"mba\",\"audio\",\"legislation\",\"boston\",\"800\",\"handling\",\"discussing\",\"adjusted\",\"prevent\",\"dealings\",\"imagine\",\"default\",\"fedex\",\"33\",\"sponsor\",\"rabbi\",\"picked\",\"controls\",\"whats\",\"allows\",\"sc\",\"mostly\",\"35\",\"acknowledge\",\"floors\",\"suggestions\",\"48\",\"=20<th\",\"gen\",\"calger/pdx/ect@ect\",\"formula\",\"split\",\"closely\",\"05/10/2001\",\"utilisation\",\"departure\",\"lt\",\"sue\",\"exchanges\",\"luck\",\"shapiro/na/enron@enron\",\"reliable\",\"majority\",\"bar\",\"economists\",\"au\",\"unauthorized\",\"pounds\",\"meanwhile\",\"investing\",\"apartment\",\"terrorist\",\"instance\",\"ball\",\"ross\",\"avertir\",\"compensation\",\"presentations\",\"9:00:00\",\"vous\",\"nuclear\",\"transmit\",\"wood\",\"advised\",\"flavors\",\"relatively\",\"d'en\",\"advanced\",\"opened\",\"kristin\",\"errors\",\"refer\",\"v\",\"strategies\",\"drilling\",\"=and\",\"island\",\"holst\",\"merci\",\"composite\",\"reading\",\"partielle\",\"external\",\"janet\",\"p/l\",\"sufficient\",\"publicly\",\"miller\",\"hundreds\",\"preferences\",\"02:00\",\"<cbpres@austin.rr.com>\",\"w/\",\"meter\",\"dead\",\"tender\",\"diane\",\"apparently\",\"wed\",\"combination\",\"nicole\",\"sturm/hou/ect@ect\",\"jet\",\"ryan\",\"mom\",\"06\",\"channel\",\"starts\",\"operational\",\"flows\",\"=a\",\"20%\",\"5:00:00\",\"watson\",\"<cbpres@austin.rr.com>to\",\"solid\",\"denver\",\"judy\",\"hesitate\",\"moore\",\"tue\",\"chardonnay\",\"reviews\",\"cuz\",\"yea\",\"phillip.k.allen@enron.comcc\",\"dvd\",\"j.p\",\"provisions\",\"linked\",\"in>\",\"andersen\",\"width='125'><tr><td\",\"arrange\",\"14th\",\"$15,000\",\"unlikely\",\"forgot\",\"ngx\",\"implemented\",\"square\",\"1%\",\"1995\",\"10:00\",\"games\",\"newspaper\",\"dale\",\"prove\",\"loop\",\"largely\",\"overnight\",\"execute\",\"faces\",\"southwest\",\"enterprise\",\"llp\",\"components\",\"announces\",\"starwood\",\"diffusion\",\"woertz\",\"dial\",\"memo\",\"5th\",\"1990\",\"arrive\",\"eb\",\"confidentiels\",\"d'assurer\",\"criteria\",\"entering\",\"discounts\",\"stone\",\"restrictions\",\"permettant\",\"martin/hou/ect@ect\",\"cd\",\"quoted\",\"covered\",\"marty\",\"holidays\",\"sitara\",\"roughly\",\"destinataires\",\"ancillary\",\"conforme\",\"erreur\",\"l'hypothese\",\"detruire\",\"noticed\",\"reporter\",\"interdite\",\"l'expediteur.toute\",\"transition\",\"gasoline\",\"sender.any\",\"immediatement\",\"responsabilite\",\"decline(nt\",\"conservation\",\"l'integrite\",\"probe\",\"ci-apres\",\"approval.the\",\"expecting\",\"followed\",\"gas/heat\",\"dans\",\"avg\",\"properly\",\"thousands\",\"toutes\",\"junk\",\"chart\",\"l'intention\",\"overhead\",\"laws\",\"titre\",\"necessarily\",\"movie\",\"totale\",\"$9\",\"aurait\",\"recevez\",\"filiales\",\"moment\",\"shirley\",\"etablis\",\"porch\",\"expresse.l'internet\",\"autorisation\",\"sauf\",\"jointes\",\"schedules\",\"modified._____________________________________________________________________________________________________________________________________\",\"enron=01,s\",\"ete\",\"structured\",\"brothers\",\"dana\",\"excited\",\"aes\",\"80\",\"condition\",\"funny\",\"confirmations\",\"ben\",\"comfortable\",\"brent\",\"attempts\",\"deep\",\"monitoring\",\"citigroup\",\"stress\",\"day-ahead\",\"netting\",\"worried\",\"mara/na/enron@enron\",\"switch\",\"anywhere\",\"hubs\",\"sometimes\",\"nyse\",\"forget\",\"zd\",\"gonna\",\"assumptions\",\"boys\",\"ground\",\"happening\",\"databases\",\"workers\",\"mln\",\"70%\",\"appraisal\",\"collection\",\"committed\",\"shankman\",\"arrangement\",\"body\",\"alliance\",\"begun\",\"exceed\",\"antonio\",\"exxon\",\"advertising\",\"[image]=09\",\"severe\",\"wishes\",\"clarify\",\"easily\",\"surprise\",\"mix\",\"||\",\"supporting\",\"http://www.zdnetonebox.com\",\"11:00\",\"serving\",\"component\",\"forwards\",\"onebox\",\"minister\",\"chat\",\"suggestion\",\"kroner\",\"brother\",\"westgate\",\"rising\",\"\\tdowngraded\\tto\",\"distribute\",\"+.25\",\"tva\",\"10/21/2001\",\"decade\",\"#1\",\"issuance\",\"howard\",\"fax,all\",\"shift\",\"attendance\",\"alex\",\"usa\",\"tv\",\"$690\",\"cb\",\"universal\",\"issuing\",\"graduate\",\"kyle\",\"subscribed\",\"makers\",\"valign=top><table\",\"pilot\",\"absence\",\"adobe\",\"nortel\",\"painewebber\",\"troubled\",\"seemed\",\"give-up\",\"10:00:00\",\"heather\",\"rangel/hou/ect@ect\",\"kansas\",\"grand\",\"rs\",\"acquire\",\"primarily\",\"hain/hou/ect@ect\",\"30th\",\"felt\",\"1.5\",\"charged\",\"celebrate\",\"jordan\",\"bell\",\"kirk\",\"providers\",\"extraordinary\",\"rangel\",\"monique\",\"arnold/hou/ect@ectcc:\\t\",\"guide\",\"excluding\",\"station\",\"hoskins/enron\",\"camera\",\"[image][image]\",\"discounted\",\"evaluation\",\"lawyers\",\"requires\",\"paula\",\"mortgage\",\"sitting\",\"2-3\",\"abramo\",\"retain\",\"pmto:\\tward\",\"coordinate\",\"sally\",\"maria\",\"carol\",\"acrobat\",\"recognize\",\"wscc\",\"02/21/2001\",\"assure\",\"slide\",\"absolutely\",\"civil\",\"gotten\",\"03/15/2001\",\"=in\",\"luxury\",\"improvements\",\"faster\",\"150\",\"accommodate\",\"ventures\",\"hardware\",\"segment\",\"granted\",\"finished\",\"q\",\"80%\",\"05/04/2001\",\"breaking\",\"library.com\",\"functions\",\"arthur\",\"fears\",\"claudia\",\"agent\",\"plunged\",\"proper\",\"confirmation(s\",\"template\",\"payout\",\"000\",\"introduce\",\"fire\",\"achieve\",\"of=\",\"arena\",\"badeer\",\"8:00\",\"screens\",\"or>\",\"recommendations\",\"realized\",\"seasonal\",\"releases\",\"method\",\"promotional\",\"claim\",\"appendix\",\"premier\",\"bull\",\"spoken\",\"sides\",\"pulp\",\"professionals\",\"truly\",\"certificate\",\"thu\",\"candidate\",\"christian\",\"gerry\",\"<msagel@home.com>\",\"westin\",\"configured\",\"cant\",\"teams\",\"tight\",\"tamara\",\"neither\",\"topics\",\"shively\",\"hate\",\"becoming\",\"fresh\",\"flexibility\",\"newark\",\"retirement\",\"11:00:00\",\"cup\",\"11/22/2001\",\"an=d\",\"corporations\",\"flight\",\"substantially\",\"bias\",\"documentation\",\"sierra\",\"normally\",\"approx\",\"hopes\",\"natural-gas\",\"enhance\",\"interim\",\"6:00\",\"mona\",\"$499.00us[\",\"banc\",\"99\",\"permits\",\"replacement\",\"referred\",\"volunteer\",\"tata\",\"category\",\"recession\",\"preparing\",\"missing\",\"profitable\",\"rewards\",\"sempra\",\"=20<font\",\"5,000\",\"sheila\",\"played\",\"cycle\",\"mm\",\"palm\",\"johnson\",\"credits\",\"indeed\",\"settled\",\"212\",\"75%\",\"csfb\",\"s.subject\",\"=20</font>\",\"ending\",\"verify\",\"preference\",\"abu\",\"hill\",\"interactive\",\"structures\",\"connect\",\"maggi\",\"county\",\"terminal\",\"australia\",\"trim\",\"explains\",\"65\",\"tds\",\"prospects\",\"text\",\"sdg&e's\",\"email/calendar\",\"capabilities\",\"kaminski/hou/ect@ect\",\"<th\",\"proceedings\",\"multex\",\"mine\",\"for>\",\"<jenwhite7@zdnetonebox.com>\",\"quigley\",\"provision\",\"\\t\\timpact\",\"gordon\",\"tremendous\",\"commerce\",\"debbie\",\"shot\",\"defined\",\"mm/dd/yy\",\"momentum\",\"personnel\",\"outperform\",\"contributions\",\"typical\",\"xp\",\"confident\",\"injections\",\"sacramento\",\"woes\",\"preparation\",\"hall\",\"h/j\",\"occurred\",\"impossible\",\"fertilizer\",\"integrated\",\"sharp\",\"lafontaine/globalco@globalcocc:fax\",\"repay\",\"christmas\",\"nation\",\"jennifersubject:\\tre\",\"bid/offer\",\"broad\",\"himself\",\"afx\",\"yesterday's\",\"totally\",\"figures\",\"beer\",\"sea\",\"airline\",\"stakeholders\",\"cable\",\"pat\",\"till\",\"megawatt\",\"talent\",\"5.5\",\"seats\",\"12/07/2000\",\"transferred\",\"commercials\",\"$7\",\"exterior\",\"enhanced\",\"finding\",\"temporary\",\"ill\",\"$35\",\"traffic\",\"treasurer\",\"receivedthis\",\"guggenheim\",\"contributed\",\"critics\",\"reviewing\",\"trends\",\"width=\\\"600\",\"wayne\",\"lewis\",\"10/04/2000\",\"height=\\\"1\",\"pipe\",\"pursue\",\"pays\",\"10:30\",\"outsourcing\",\"santa\",\"totalfinaelf\",\"warburg\",\"electrical\",\"consultants\",\"essential\",\"a=\",\"relief\",\"efs\",\"directed\",\"dog\",\"qatar\",\"assignment\",\"compare\",\"install\",\"generated\",\"informal\",\"authorization\",\"youngflesh/na/enron\",\"existence\",\"1:00\",\"visiting\",\"invoices\",\"ride\",\"effectively\",\"organizations\",\"4000\",\"contacted\",\"prudential\",\"negotiating\",\"tips\",\"integration\",\"10:01\",\"china\",\"acceptable\",\"reflects\",\"a.g\",\"trader's\",\"brandon\",\"copying\",\"account(s\",\"chuck\",\"ap\",\"joining\",\"indicate\",\"signing\",\"structuring\",\"imports\",\"carolyn\",\"ubs\",\"twice\",\"alamo\",\"destruction\",\"kernen\",\"shortages\",\"experienced\",\"a=nd\",\"gained\",\"lloyd\",\"underlying\",\"menu\",\"handled\",\"differences\",\"institutions\",\"outages\",\"circumstances\",\"1:30\",\"adam\",\"commentary\",\"stories\",\"reducing\",\"popular\",\"2004\",\"blow\",\"plc\",\"bike\",\"neil\",\"competitors\",\"service(copyright\",\"bowl\",\"treasury\",\"define\",\"thecompany\",\"lake\",\"slides\",\"arbitration\",\"injection\",\"nicolay/hou/ect@ect\",\"07/11/2000\",\"powerful\",\"dlrs\",\"raymond\",\"reward\",\"storm\",\"cards\",\"aluminum\",\"in=\",\"paragraph\",\"adjust\",\"becomes\",\"jerry\",\"whereby\",\"fullerdirector\",\"sagewood\",\"japan's\",\"initiative\",\"400\",\"drug\",\"reimbursement\",\"establish\",\"am\\t\\t\\t\\t\",\"prime\",\"al\",\"08/08/2000\",\"max\",\"bentley\",\"promise\",\"30%\",\"booked\",\"missouri\",\"license\",\"off-line\",\"departments\",\"truth\",\"adams\",\"naked\",\"highlights\",\"dad\",\"rejected\",\"defazio\",\"]md2001\",\"3rd\",\"elements\",\"cp\",\"dozen\",\"beat\",\"migrate\",\"mirant\",\"11:30\",\"vols\",\"argue\",\"reflected\",\"bidding\",\"fitch\",\"comprehensive\",\"senator\",\"goals\",\"lumber\",\"suzanne\",\"97\",\"andrea\",\"wes\",\"kay\",\"row\",\"dolphin\",\"853\",\"recover\",\"everyday\",\"employment\",\"overseas\",\"terminated\",\"hell\",\"pallen@enron.com\",\"apologize\",\"shud\",\"mass\",\"04/04/2001\",\"warned\",\"failing\",\"market's\",\"griffith\",\"exciting\",\"affiliated\",\"besides\",\"sharing\",\"dwr\",\"hence\",\"men\",\"deutsche\",\"ip\",\"louisiana\",\"defend\",\"verde\",\"<table\",\"usual\",\"suspended\",\"ring\",\"quit\",\"unusual\",\"on-call\",\"articles\",\"7th\",\"stimulus\",\"they've\",\"75\",\"medium\",\"11/16/2001\",\"creative\",\"fox\",\"professor\",\"$1.01\",\"oversight\",\"reporters\",\"lme\",\"headquarters\",\"earned\",\"badeer/hou/ect\",\"assumption\",\"migrated\",\"leads\",\"social\",\"correlation\",\"2005\",\"replaced\",\"randall\",\"winning\",\"lp\",\"leopold\",\"junior\",\"contents\",\"fear\",\"heading\",\"shockwave.com\",\"believed\",\"airam\",\"entertainment\",\"ads\",\"stopped\",\"performing\",\"ie\",\"computers\",\"6600\",\"suggests\",\"explanation\",\"swerzbin/hou/ect@ect\",\"pcc\",\"ab\",\"faber\",\"forthe\",\"consolidate\",\"pallen@enron.comcc\",\"investment-grade\",\"stacey\",\"ordersand/or\",\"funding\",\"attack\",\"scs\",\"hunter/na/enron\",\"subscriptions\",\"women\",\"brazil\",\"desks\",\"euro\",\"-------\",\"sheri\",\"onto\",\"retransmission\",\"jeanne\",\"notices\",\"kent\",\"9:00\",\"watching\",\"spikes\",\"reportedly\",\"u.k\",\"style='font-size:10.0pt'>\",\"outlined\",\"gorny/hou/ect@ect\",\"finances\",\"eps\",\"obvious\",\"allen/corp/enron@enron\\t\\t\",\"meantime\",\"cstto\",\"anymore\",\"homes\",\"resumes\",\"remained\",\"directions\",\"students\",\"4:30\",\"gap\",\"``we\",\"credibility\",\"msa\",\"reader\",\"11:45\",\"parent\",\"inquiries\",\"5:00pm\",\"holst/hou/ect@ect\",\"instant\",\"export\",\"parquet/sf/ect@ect\",\"plastics\",\"amto:\\tbailey\",\"gas-fired\",\"governor's\",\"permanent\",\"sweet\",\"foot\",\"blame\",\"student\",\"initially\",\"afford\",\"reductions\",\"convenience\",\"efficiency\",\"americans\",\"privileges\",\"opposed\",\"apr\",\"liabilities\",\"offline\",\"maggi/corp/enron@enron\",\"pmto:\\tjohn\",\"collect\",\"forma\",\"producing\",\"matrices\",\"christine\",\"relied\",\"posting\",\"09:04\",\"conf\",\"pjm\",\"outline\",\"military\",\"gather\",\"group's\",\"optimistic\",\"ld\",\"symbol\",\"appointed\",\"violations\",\"11:15\",\"broken\",\"mile\",\"developmentglobal\",\"containprivileged\",\"32\",\"negotiate\",\"afraid\",\"ortaking\",\"del\",\"causes\",\"automated\",\"formerly\",\"sections\",\"expanding\",\"privilegedmaterial\",\"titles\",\"jv\",\"revealed\",\"<gunther.pergher@dowjones.com>\",\"arrived\",\"strongly\",\"10/13/2001\",\"intent\",\"messenger\",\"convenient\",\"basically\",\"involvement\",\"binding\",\"personally\",\"quarters\",\"skew\",\"degree\",\"e.g\",\"editor\",\"fed\",\"8th\",\"baby\",\"similarly\",\"regulated\",\"sharon\",\"answered\",\"ecs\",\"fantasy\",\"doubt\",\"corrected\",\"09/28/2000\",\"12:00\",\"orentities\",\"slower\",\"developers\",\"dark\",\"ml.</span><p><span\",\"$109\",\"raising\",\"---------------------------to\",\"faxed\",\"isda\",\"l.p\",\"pt\\tsun\",\"pdf\",\"miller/corp/enron@enron\",\"neal\",\"profile\",\"accordance\",\"bush's\",\"john.arnold@enron.comcc:subject\",\"newest\",\"1:00:00\",\"capture\",\"supports\",\"eligible\",\"incremental\",\"moreover\",\"anycomputer\",\"port\",\"qfs\",\"prompted\",\"workshop\",\"perspective\",\"unwind\",\"maintains\",\"indicative\",\"princeton\",\"pmto:\\tbailey\",\"cob\",\"tons\",\"reception\",\"proceeding\",\"firm's\",\"classic\",\"extensive\",\"driven\",\"ct\\tfri\",\"projected\",\"be>\",\"inc.tel\",\"clark\",\"friday's\",\"booking\",\"10/25/2000\",\"dealers\",\"aggressive\",\"baseload\",\"eob\",\"variety\",\"winmail.dat\",\"staying\",\"flipping\",\"bpa\",\"paste\",\"gross\",\"#2\",\"11/24/2001\",\"hp's\",\"$500\",\"towhich\",\"worry\",\"lighthouse\",\"berelied\",\"restricted\",\"game:you\",\"cashiola\",\"eye\",\"conducted\",\"gonzalez\",\"otherwise.thank\",\"alot\",\"theresa\",\"meteorologists\",\"refined\",\"auctions\",\"conflicts\",\"expires\",\"effects\",\"wife\",\"describe\",\"pushing\",\"equivalent\",\"administrative\",\"education\",\"$.5\",\"3.5\",\"choosing\",\"expertise\",\"nights\",\"i=n\",\"tycholiz\",\"addresses\",\"12,500\",\"orauthorized\",\"morris\",\"odds\",\"billions\",\"belief\",\"diana\",\"generates\",\"cancelled\",\"streaming\",\"refund\",\"piece\",\"size=3d-1><b>-</b>\",\"jun\",\"confusion\",\"compete\",\"logo\",\"thats\",\"quantities\",\"germany\",\"christina\",\"pcs\",\"bg\",\"deferral\",\"attended\",\"theintended\",\"dell\",\"coin\",\"protection\",\"rated\",\"pros\",\"=20subject\",\"conversion\",\"tholt/hou/ect@ect\",\"itsaffiliates\",\"09/06/2000\",\"creek\",\"remote\",\"cts\",\"colleagues\",\"retention\",\"astros\",\"meredith\",\"diligence\",\"anderson\",\"cheryl\",\"redeem\",\"warm\",\"chip\",\"slowdown\",\"explained\",\"guests\",\"id's\",\"guidance\",\"escrow\",\"bonneville\",\"slowed\",\"expenditures\",\"acquiring\",\"accenture\",\"609.452.3531the\",\"explore\",\"somewhat\",\"cramer\",\"listen\",\"visa\",\"12/11/2000\",\"climate\",\"10:37\",\"hu\",\"hoffman/pdx/ect\",\"operators\",\"buck\",\"nevada\",\"boyd\",\"cheap\",\"phantom\",\"squeeze\",\"entries\",\"jeanie\",\"worst\",\"byothers\",\"pulling\",\"victor\",\"coordinators\",\"covers\",\"cud\",\"oak\",\"20,000\",\"10/26/2001\",\"609.520.7067fax\",\"passes\",\"incg_nther\",\"monica\",\"virtually\",\"regions\",\"attorneys\",\"6th\",\"coordinator\",\"perghersenior\",\"abinding\",\"feels\",\"learning\",\"03/06/2001\",\"evaluate\",\"notintended\",\"intelligent\",\"freedom\",\"analystdow\",\"width=\\\"5\",\"4th\",\"ena's\",\"korea\",\"importance\",\"chosen\",\"drill\",\"suisse\",\"conflict\",\"wud\",\"cynthia\",\"jessica\",\"width=\\\"17\",\"renegotiate\",\"tothe\",\"am>\",\"</table>\",\"wti/brent\",\"fewer\",\"ermis\",\"distance\",\"targets\",\"generator\",\"yours\",\"$15\",\"iwon\",\"inc.)new\",\"livelink\",\"capability\",\"04/12/2001\",\"collins\",\"supplemental\",\"rock\",\"apart\",\"belden\",\"electronics\",\"volatile\",\"sam\",\"league\",\"2700\",\"accessible\",\"objectives\",\"eyes\",\"03/14/2001\",\"supplier\",\"uog\",\"06/26/2000\",\"=09[image]\",\"gold\",\"mobil\",\"elsewhere\",\"4:37\",\"bottle\",\"lately\",\"8:30\",\"10/03/2000\",\"responded\",\"cooperation\",\"$300\",\"5:30\",\"salary\",\"switched\",\"german\",\"lawsuits\",\"herndon/hou/ect@ect\",\"sensitive\",\"heart\",\"forth\",\"stephens\",\"amazing\",\"lows\",\"medical\",\"expiration\",\"investigate\",\"cathy\",\"=09[image]=09\",\"lewis/hou/ect@ect\",\"-----------------------------------------1\",\"film\",\"udc\",\"$6\",\"who's\",\"e-mail).vcf\",\"probability\",\"damage\",\"receives\",\"8:00:00\",\"investor's\",\"sq\",\"discs\",\"phillip.k.allen@enron.com\",\"anticipate\",\"impressive\",\"leg\",\"flores\",\"01:00\",\"restructure\",\"pocket\",\"buildings\",\"yr\",\"supreme\",\"cherry\",\"98\",\"launched\",\"ad\",\"tara\",\"filled\",\"hartford\",\"veronica\",\"urged\",\"shari\",\"contact(s\",\"e&p\",\"signs\",\"begins\",\"assembly\",\"skogsagarna\",\"comply\",\"drinking\",\"charter\",\"appraised\",\"dutch/shell\",\"iris\",\"04/24/2001\",\"mountain\",\"guaranteed\",\"hoskinsenron\",\"atthe\",\"nancy\",\"terri\",\"pain\",\"$1.5\",\"wearing\",\"reputation\",\"deleted\",\"services713-853-0380\",\"heavily\",\"recorded\",\"york)enron\",\"hoskins@enron\",\"soft\",\"mckinney\",\"transparency\",\"travis\",\"eliminate\",\"adequate\",\"motley/pdx/ect@ect\",\"unsecured\",\"mobile)713-646-5745\",\"bishops\",\"columns\",\"allocation\",\"bulletin\",\"medcalf\",\"[\",\"cantrell/hou/ect@ect\",\"apartments\",\"office)713-412-3667\",\"at&t\",\"bidweek\",\"pete\",\"edit\",\"fight\",\"dasovich\",\"fellow\",\"18th\",\"blackberry\",\"512\",\"chevrontexaco\",\"kipp\",\"neural\",\"$50/share\",\"creditrules\",\"qualified\",\"toronto\",\"``the\",\"calgary\",\"harder\",\"lucy,here\",\"follow-up\",\"discusses\",\"shed\",\"motion\",\"$30\",\"bedroom\",\"behavior\",\"mitigation\",\"you$1\",\"sprint\",\"prospect\",\"chaz\",\"repeats\",\"9.11a\",\"sanders/hou/ect@ect\",\"pmdescription\",\"foundation\",\"whalley\",\"election\",\"death\",\"shortage\",\"resulted\",\"dean\",\"photo\",\"threat\",\"cast\",\"03/29/2001\",\"yourmoney\",\"race\",\"encouraged\",\"speaker\",\"what'syou\",\"replyto\",\"on-line\",\"maintained\",\"out-of-state\",\"arizona\",\"$2?what\",\"t's\",\"ave\",\"mandatory\",\"questioned\",\"tracking\",\"unclear\",\"projections\",\"kathryn\",\"brings\",\"3-4\",\"shifted\",\"briefly\",\"enclosed\",\"reagan\",\"builder\",\"campaign\",\"courses\",\"10:30pm\",\"army\",\"weren't\",\"emerging\",\"phillips\",\"02/12/2001\",\"country's\",\"$0/share\",\"drops\",\"may/corp/enron@enron\",\"notified\",\"payable\",\"intend\",\"cleveland\",\"black/hou/ees@ees\",\"646-3490\",\"lawmakers\",\"hitting\",\"emission\",\"darren\",\"=========================\",\"84\",\"cabot\",\"upstream\",\"dependent\",\"refused\",\"thomson\",\"standing\",\"pollution\",\"<<gunther\",\"90%\",\"rare\",\"framework\",\"couldnt\",\"pleasedo\",\"subs\",\"600\",\"trademarks\",\"<fzerilli@powermerchants.com>\",\"nitrogen\",\"hoffman/pdx/ect)subject\",\"[image]more\",\"performed\",\"keeps\",\"marc\",\"aol\",\"e-mail).vcf>>\",\"bass\",\"spots\",\"johnny\",\"connections\",\"onthe\",\"ford\",\"inn\",\"stable\",\"02/06/2001\",\"weakness\",\"choices\",\"regulation\",\"carefully\",\"03/20/2001\",\"tied\",\"<<enron\",\"burn\",\"pda\",\"cooper\",\"bradford/hou/ect@ect\",\"marie\",\"mrha\",\"promised\",\"arbitrage\",\"=09=09=09\",\"child\",\"winners\",\"nowak\",\"saved\",\"presents\",\"campbell\",\"04/30/2001\",\"\\t[image]\",\"dividends\",\"latter\",\"vision\",\"hosting\",\"conversations\",\"rapidly\",\"woods\",\"troubles\",\"mills\",\"writes\",\"campus\",\"yo=u\",\"walking\",\"route\",\"4:00pm\",\"insights\",\"matson\",\"operates\",\"day's\",\"uncertainty\",\"ultimately\",\"spirit\",\"packages\",\"31st\",\"retired\",\"owed\",\"networking\",\"calendars\",\"10/28/2001\",\"instructionstransmitted\",\"fleischer\",\"$0\",\"trend\",\"marketer\",\"requesting\",\"bus\",\"categories\",\"dimensions\",\"000000000041547request\",\"saving\",\"declared\",\"studio\",\"famous\",\"sentiment\",\"alumni\",\"face=\\\"arial\",\"robinson\",\"ethics\",\"shit\",\"stick\",\"ridge\",\"processes\",\"$500,000\",\"savita\",\"russ\",\"tycholiz/na/enron@enron\",\"serves\",\"trillion\",\"stuart\",\"sought\",\"6/19/01\",\"checked\",\"allan\",\"stands\",\"reis\",\"palo\",\"baker\",\"jaime.gualy@enron.comresource\",\"pyle\",\"12th\",\"challenge\",\"\\t\\t\\t\\t\\t(713\",\"determining\",\"straddles\",\"mara\",\"zinfandel\",\"----------------------------------------------------------------------------------this\",\"interviewing\",\"lobby\",\"dhabi\",\"girl\",\"specifics\",\"mmbtu/d\",\"valves\",\"arabia\",\"not>\",\"owes\",\"penny\",\"after-tax\",\"http://itcapps.corp.enron.com/srrs/auth/emaillink.asp?id=000000000041547&page=approval\",\"juice\",\"colin\",\"math\",\"7:00pm\",\"---------------------------hunter\",\"chung\",\"midwest\",\"[read]resource\",\"promote\",\"cps\",\"7:50:30\",\"enron.com\",\"secured\",\"geneva\",\"debts\",\"holder\",\"principles\",\"interpretation\",\"lenhart/hou/ect@ect\",\"08/17/2000\",\"engaged\",\"upward\",\"bankers\",\"portfolios\",\"movies\",\"modifie\",\"wolfe/hou/ect@ect\",\"plaza\",\"dc\",\"arguments\",\"silicon\",\"finalize\",\"custom\",\"zero\",\"appreciation\",\"capitol\",\"delhi\",\"actively\",\"liked\",\"cruise\",\"joan\",\"ofall\",\"05/26/2000\",\"allegations\",\"6.3\",\"backed\",\"va\",\"channels\",\"vital\",\"photos\",\"proposing\",\"housing\",\"$8\",\"--------\",\"10th\",\"\\tmalcolm\",\"pointed\",\"blown\",\"slight\",\"subsequent\",\"reforms\",\"vicki\",\"rice\",\"nobody\",\"binder\",\"gifts\",\"antitrust\",\"offerings\",\"hire\",\"calculate\",\"accessing\",\"42\",\"jackson\",\"installation\",\"year-end\",\"hired\",\"fly\",\"10:35\",\"reversion\",\"pmto:\\tfraser\",\"at>\",\"amanda\",\"02:12\",\"upside\",\"conclusion\",\"seating\",\"terra\",\"lime\",\"newsletters\",\"zipper\",\"2:00:00\",\"4.00\",\"04/11/2001\",\"davis/hou/ect@ect\",\"philip\",\"wider\",\"cos\",\"liquid\",\"apx\",\"cars\",\"20th\",\"murphy/hou/ect@ect\",\"style='font-size:10.0pt'>+</span></b><span\",\"08/09/2000\",\"pts\",\"allcopies\",\"earth\",\"specialistenron\",\"terry\",\"administrator\",\"prabhu\",\"4.5\",\"marquez\",\"f/g\",\"alleges\",\"singapore\",\"da\",\"french\",\"cicchettistart\",\"decreased\",\"on>\",\"coale\",\"weekends\",\"downturn\",\"3000\",\"winner\",\"burchfieldsent\",\"straddle\",\"pre-sold\",\"inter-sc\",\"quantity\",\"affecting\",\"introducing\",\"size=-1>texas\",\"slafontaine@globalp.com\",\"denied\",\"lagrasta/hou/ect@ect\",\"-=\",\"viruses\",\"machine\",\"setup\",\"nw\",\"29th\",\"3:00pm\",\"ubspainewebber\",\"07:42\",\"mccubbin/na/enron@enron\",\"ge\",\"staffing\",\"---------------------------\\\"zerilli\",\"08/07/2000\",\"telecomm\",\"suffered\",\"36\",\"rmr\",\"33.9\",\"television\",\"15th\",\"cities\",\"disclosures\",\"letting\",\"invites\",\"identifying\",\"mou\",\"html\",\"**********************************************************************\",\"thur\",\"financially\",\"size=-1>&nbsp;&nbsp;&nbsp;&nbsp;<nobr>ngpl\",\"fiscals\",\"stating\",\"laptop\",\"mwa\",\"liability\",\"curt\",\"lock\",\"commissions\",\"cea\",\"reitmeyer\",\"bo\",\"creditors\",\"entergy\",\"fans\",\"2.5\",\"governors\",\"andpainewebber\",\"ermis/hou/ect@ect\",\"swing\",\"vegas\",\"avenue\",\"amy\",\"$10,000\",\"hawk\",\"85\",\"marks\",\"creation\",\"appreciated\",\"kean/na/enron@enron\",\"obtained\",\"exodus\",\"sb\",\"crocker\",\"delivers\",\"beautiful\",\"passcode\",\"advisors\",\"yourpainewebber\",\"confidentiality:painewebber\",\"mo\",\"conducting\",\"promotions\",\"src=\\\"http://www.economist.com/images/blocks/gray.gif\",\"rita\",\"population\",\"headlines\",\"thereby\",\"cordially\",\"curious\",\"gathering\",\"theme\",\"tomorrow's\",\"concept\",\"van\",\"sum\",\"ease\",\"03/21/2001\",\"bruno\",\"3,000\",\"culture\",\"pmend\",\"edf\",\"seminar\",\"citygate</font></td><td\",\"tracker\",\"peaker\",\"energy-trading\",\"panus\",\"fastow's\",\"size=-1>natural\",\"filings\",\"city's\",\"ripe\",\"ect\",\"arabia's\",\"alternatives\",\"duties\",\"57\",\"yields\",\"referring\",\"kuykendall/hou/ect@ect\",\"printing\",\"theoretical\",\"originators\",\"iii\",\"suffering\",\"feeling\",\"justin\",\"acres\",\"stays\",\"secondary\",\"temperature\",\"seriously\",\"denne\",\"desired\",\"won\",\"86\",\"assumed\",\"sen\",\"nick\",\"matrix\",\"anybody\",\"sullivan\",\"09/05/2000\",\"fwd\",\"fashion\",\"cancellation\",\"sky\",\"spectator\",\"{font-family\",\"[ima=ge]\",\"=09enron\",\"meyer\",\"one-time\",\"conoco\",\"+3\",\"amro\",\"worries\",\"resignation\",\"deferred\",\"fuck\",\"10/05/2000\",\"12/04/2000\",\"expiry\",\"naming\"],\"x_coord\":{\"__ndarray__\":\"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\",\"dtype\":\"float32\",\"shape\":[5000]},\"y_coord\":{\"__ndarray__\":\"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\",\"dtype\":\"float32\",\"shape\":[5000]}},\"selected\":{\"id\":\"1052\",\"type\":\"Selection\"},\"selection_policy\":{\"id\":\"1053\",\"type\":\"UnionRenderers\"}},\"id\":\"1002\",\"type\":\"ColumnDataSource\"},{\"attributes\":{},\"id\":\"1049\",\"type\":\"BasicTickFormatter\"},{\"attributes\":{\"grid_line_color\":{\"value\":null},\"plot\":{\"id\":\"1004\",\"subtype\":\"Figure\",\"type\":\"Plot\"},\"ticker\":{\"id\":\"1015\",\"type\":\"BasicTicker\"}},\"id\":\"1018\",\"type\":\"Grid\"},{\"attributes\":{\"callback\":null,\"overlay\":{\"id\":\"1034\",\"type\":\"BoxAnnotation\"}},\"id\":\"1027\",\"type\":\"BoxSelectTool\"},{\"attributes\":{\"formatter\":{\"id\":\"1051\",\"type\":\"BasicTickFormatter\"},\"plot\":{\"id\":\"1004\",\"subtype\":\"Figure\",\"type\":\"Plot\"},\"ticker\":{\"id\":\"1020\",\"type\":\"BasicTicker\"},\"visible\":false},\"id\":\"1019\",\"type\":\"LinearAxis\"},{\"attributes\":{},\"id\":\"1051\",\"type\":\"BasicTickFormatter\"},{\"attributes\":{},\"id\":\"1052\",\"type\":\"Selection\"},{\"attributes\":{},\"id\":\"1012\",\"type\":\"LinearScale\"},{\"attributes\":{\"source\":{\"id\":\"1002\",\"type\":\"ColumnDataSource\"}},\"id\":\"1046\",\"type\":\"CDSView\"},{\"attributes\":{\"below\":[{\"id\":\"1014\",\"type\":\"LinearAxis\"}],\"left\":[{\"id\":\"1019\",\"type\":\"LinearAxis\"}],\"outline_line_color\":{\"value\":null},\"plot_height\":800,\"plot_width\":800,\"renderers\":[{\"id\":\"1014\",\"type\":\"LinearAxis\"},{\"id\":\"1018\",\"type\":\"Grid\"},{\"id\":\"1019\",\"type\":\"LinearAxis\"},{\"id\":\"1023\",\"type\":\"Grid\"},{\"id\":\"1031\",\"type\":\"BoxAnnotation\"},{\"id\":\"1034\",\"type\":\"BoxAnnotation\"},{\"id\":\"1045\",\"type\":\"GlyphRenderer\"}],\"title\":{\"id\":\"1003\",\"type\":\"Title\"},\"toolbar\":{\"id\":\"1029\",\"type\":\"Toolbar\"},\"x_range\":{\"id\":\"1006\",\"type\":\"DataRange1d\"},\"x_scale\":{\"id\":\"1010\",\"type\":\"LinearScale\"},\"y_range\":{\"id\":\"1008\",\"type\":\"DataRange1d\"},\"y_scale\":{\"id\":\"1012\",\"type\":\"LinearScale\"}},\"id\":\"1004\",\"subtype\":\"Figure\",\"type\":\"Plot\"},{\"attributes\":{\"fill_color\":{\"value\":\"#1f77b4\"},\"size\":{\"units\":\"screen\",\"value\":10},\"x\":{\"field\":\"x_coord\"},\"y\":{\"field\":\"y_coord\"}},\"id\":\"1044\",\"type\":\"Circle\"},{\"attributes\":{\"data_source\":{\"id\":\"1002\",\"type\":\"ColumnDataSource\"},\"glyph\":{\"id\":\"1042\",\"type\":\"Circle\"},\"hover_glyph\":{\"id\":\"1044\",\"type\":\"Circle\"},\"muted_glyph\":null,\"nonselection_glyph\":{\"id\":\"1043\",\"type\":\"Circle\"},\"selection_glyph\":null,\"view\":{\"id\":\"1046\",\"type\":\"CDSView\"}},\"id\":\"1045\",\"type\":\"GlyphRenderer\"},{\"attributes\":{\"formatter\":{\"id\":\"1049\",\"type\":\"BasicTickFormatter\"},\"plot\":{\"id\":\"1004\",\"subtype\":\"Figure\",\"type\":\"Plot\"},\"ticker\":{\"id\":\"1015\",\"type\":\"BasicTicker\"},\"visible\":false},\"id\":\"1014\",\"type\":\"LinearAxis\"}],\"root_ids\":[\"1004\"]},\"title\":\"Bokeh Application\",\"version\":\"1.0.4\"}};\n",
       "  var render_items = [{\"docid\":\"2e3bd5ff-2001-4f9f-a470-0ca3154a9387\",\"roots\":{\"1004\":\"d8c8aad9-97ef-4e4f-a299-213e8d119fbe\"}}];\n",
       "  root.Bokeh.embed.embed_items_notebook(docs_json, render_items);\n",
       "\n",
       "  }\n",
       "  if (root.Bokeh !== undefined) {\n",
       "    embed_document(root);\n",
       "  } else {\n",
       "    var attempts = 0;\n",
       "    var timer = setInterval(function(root) {\n",
       "      if (root.Bokeh !== undefined) {\n",
       "        embed_document(root);\n",
       "        clearInterval(timer);\n",
       "      }\n",
       "      attempts++;\n",
       "      if (attempts > 100) {\n",
       "        console.log(\"Bokeh: ERROR: Unable to run BokehJS code because BokehJS library is missing\");\n",
       "        clearInterval(timer);\n",
       "      }\n",
       "    }, 10, root)\n",
       "  }\n",
       "})(window);"
      ],
      "application/vnd.bokehjs_exec.v0+json": ""
     },
     "metadata": {
      "application/vnd.bokehjs_exec.v0+json": {
       "id": "1004"
      }
     },
     "output_type": "display_data"
    }
   ],
   "source": [
    "# add our DataFrame as a ColumnDataSource for Bokeh\n",
    "plot_data = ColumnDataSource(tsne_vectors)\n",
    "\n",
    "# create the plot and configure the\n",
    "# title, dimensions, and tools\n",
    "tsne_plot = figure(title=u't-SNE Word Embeddings',\n",
    "                   plot_width = 800,\n",
    "                   plot_height = 800,\n",
    "                   tools= (u'pan, wheel_zoom, box_zoom,'\n",
    "                           u'box_select, reset'),\n",
    "                   active_scroll=u'wheel_zoom')\n",
    "\n",
    "# add a hover tool to display words on roll-over\n",
    "tsne_plot.add_tools( HoverTool(tooltips = u'@word') )\n",
    "\n",
    "# draw the words as circles on the plot\n",
    "tsne_plot.circle(u'x_coord', u'y_coord', source=plot_data,\n",
    "                 color=u'blue', line_alpha=0.2, fill_alpha=0.1,\n",
    "                 size=10, hover_line_color=u'black')\n",
    "\n",
    "# configure visual elements of the plot\n",
    "tsne_plot.title.text_font_size = value(u'16pt')\n",
    "tsne_plot.xaxis.visible = False\n",
    "tsne_plot.yaxis.visible = False\n",
    "tsne_plot.grid.grid_line_color = None\n",
    "tsne_plot.outline_line_color = None\n",
    "\n",
    "# engage!\n",
    "show(tsne_plot);"
   ]
  },
  {
   "cell_type": "code",
   "execution_count": null,
   "metadata": {
    "slideshow": {
     "slide_type": "skip"
    }
   },
   "outputs": [],
   "source": []
  },
  {
   "cell_type": "code",
   "execution_count": null,
   "metadata": {
    "slideshow": {
     "slide_type": "skip"
    }
   },
   "outputs": [],
   "source": []
  },
  {
   "cell_type": "markdown",
   "metadata": {
    "slideshow": {
     "slide_type": "skip"
    }
   },
   "source": [
    "---"
   ]
  },
  {
   "cell_type": "markdown",
   "metadata": {
    "slideshow": {
     "slide_type": "skip"
    }
   },
   "source": [
    "# Bibliography"
   ]
  },
  {
   "cell_type": "code",
   "execution_count": null,
   "metadata": {
    "slideshow": {
     "slide_type": "skip"
    }
   },
   "outputs": [],
   "source": []
  },
  {
   "cell_type": "markdown",
   "metadata": {
    "slideshow": {
     "slide_type": "skip"
    }
   },
   "source": [
    "---"
   ]
  }
 ],
 "metadata": {
  "celltoolbar": "Slideshow",
  "hide_input": false,
  "kernelspec": {
   "display_name": "Python 3",
   "language": "python",
   "name": "python3"
  },
  "language_info": {
   "codemirror_mode": {
    "name": "ipython",
    "version": 3
   },
   "file_extension": ".py",
   "mimetype": "text/x-python",
   "name": "python",
   "nbconvert_exporter": "python",
   "pygments_lexer": "ipython3",
   "version": "3.5.2"
  },
  "toc": {
   "base_numbering": 1,
   "nav_menu": {},
   "number_sections": true,
   "sideBar": true,
   "skip_h1_title": false,
   "title_cell": "Table of Contents",
   "title_sidebar": "Contents",
   "toc_cell": false,
   "toc_position": {},
   "toc_section_display": true,
   "toc_window_display": false
  },
  "varInspector": {
   "cols": {
    "lenName": 16,
    "lenType": 16,
    "lenVar": 40
   },
   "kernels_config": {
    "python": {
     "delete_cmd_postfix": "",
     "delete_cmd_prefix": "del ",
     "library": "var_list.py",
     "varRefreshCmd": "print(var_dic_list())"
    },
    "r": {
     "delete_cmd_postfix": ") ",
     "delete_cmd_prefix": "rm(",
     "library": "var_list.r",
     "varRefreshCmd": "cat(var_dic_list()) "
    }
   },
   "position": {
    "height": "340px",
    "left": "865.333px",
    "right": "20px",
    "top": "120px",
    "width": "337px"
   },
   "types_to_exclude": [
    "module",
    "function",
    "builtin_function_or_method",
    "instance",
    "_Feature"
   ],
   "window_display": false
  }
 },
 "nbformat": 4,
 "nbformat_minor": 2
}
