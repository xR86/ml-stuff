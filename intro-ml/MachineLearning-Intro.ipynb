{
 "cells": [
  {
   "cell_type": "markdown",
   "metadata": {},
   "source": [
    "# Machine learning\n",
    "\n",
    "Machine learning types:\n",
    "![title](img/machine-learning-types.png)\n",
    "\n",
    "### Machine learning steps\n",
    "\n",
    "> Asking the right question => Preparing Data => Selecting the algorithm => Training the model\n",
    "  \n",
    "The process may require to return to a previous point, such as:\n",
    "- changing the question\n",
    "- sanitizing, extending the data\n",
    "- changing the algorithm\n",
    "- (supervised) extending the test data\n"
   ]
  },
  {
   "cell_type": "markdown",
   "metadata": {},
   "source": [
    "Links:\n",
    "- [unsupervised vs supervised ML](https://stats.stackexchange.com/questions/110395/what-are-basic-differences-between-kernel-approaches-to-unsupervised-and-supervi)\n"
   ]
  },
  {
   "cell_type": "markdown",
   "metadata": {
    "collapsed": true
   },
   "source": [
    "--Commented\n",
    "\n",
    "<!-- ## Predicting\n",
    "\n",
    "Predicting diabetes\n",
    "\n",
    "**Question**: \"Predict if a person will develop diabetes.\"\n",
    "\n",
    "Solution statement goals:\n",
    " - Define scope (including data sources)\n",
    "  - understanding the features in data\n",
    "  - identify critical features\n",
    "  - focus on at risk population\n",
    "  - select data source\n",
    " - Define target performance\n",
    "  - binary result (True or False)\n",
    "  - 70% accuracy is common target\n",
    " - Define context for usage\n",
    " - Define how solution will be created -->"
   ]
  },
  {
   "cell_type": "markdown",
   "metadata": {
    "collapsed": true
   },
   "source": [
    "## Basic Stats"
   ]
  },
  {
   "cell_type": "markdown",
   "metadata": {},
   "source": [
    "### Mean, median, mode\n",
    "\n",
    "Sample data:\n",
    "```python\n",
    "IN:\n",
    "10\n",
    "64630 11735 14216 99233 14470 4978 73429 38120 51135 67060\n",
    "---\n",
    "OUT:\n",
    "43900.6\n",
    "44627.5\n",
    "4978\n",
    "```"
   ]
  },
  {
   "cell_type": "code",
   "execution_count": 2,
   "metadata": {
    "collapsed": false
   },
   "outputs": [
    {
     "name": "stdout",
     "output_type": "stream",
     "text": [
      "43900.6\n",
      "44627.5\n",
      "4978\n"
     ]
    }
   ],
   "source": [
    "n = 10 # int(input())\n",
    "arr = [64630, 11735, 14216, 99233, 14470, 4978, 73429, 38120, 51135, 67060] # map(int,input().strip().split(' '))\n",
    "\n",
    "# frameworks\n",
    "'''\n",
    "import numpy as np\n",
    "from scipy import stats\n",
    "\n",
    "print( round(np.mean(arr), 1) )\n",
    "print( round(np.median(arr), 1) )\n",
    "\n",
    "m = stats.mode( np.array(arr) )\n",
    "print( m[0][0] )\n",
    "'''\n",
    "# pure\n",
    "\n",
    "sum = 0.0\n",
    "for elem in arr:\n",
    "    sum += elem\n",
    "print( round(sum / n, 1) ) #mean\n",
    "\n",
    "\n",
    "sorted_arr = sorted(arr)\n",
    "sum_middle = sorted_arr[n/2] + sorted_arr[n/2-1]\n",
    "print( round(sum_middle / 2.0, 1) ) #median\n",
    "\n",
    "\n",
    "freq = {}\n",
    "for elem in arr:\n",
    "    if elem in freq:\n",
    "        freq[elem] += 1\n",
    "    else:\n",
    "        freq[elem] = 1\n",
    "\n",
    "freq_min = {k: v for k, v in freq.items() if v == max(freq.values())}\n",
    "print( min(freq_min.keys()) ) #mode, needs to be rewritten ?"
   ]
  },
  {
   "cell_type": "code",
   "execution_count": 1,
   "metadata": {
    "collapsed": false
   },
   "outputs": [
    {
     "name": "stdout",
     "output_type": "stream",
     "text": [
      "ceva\n"
     ]
    }
   ],
   "source": [
    "print 'ceva'"
   ]
  },
  {
   "cell_type": "code",
   "execution_count": null,
   "metadata": {
    "collapsed": true
   },
   "outputs": [],
   "source": []
  }
 ],
 "metadata": {
  "kernelspec": {
   "display_name": "Python 2",
   "language": "python",
   "name": "python2"
  },
  "language_info": {
   "codemirror_mode": {
    "name": "ipython",
    "version": 2
   },
   "file_extension": ".py",
   "mimetype": "text/x-python",
   "name": "python",
   "nbconvert_exporter": "python",
   "pygments_lexer": "ipython2",
   "version": "2.7.12"
  }
 },
 "nbformat": 4,
 "nbformat_minor": 0
}
