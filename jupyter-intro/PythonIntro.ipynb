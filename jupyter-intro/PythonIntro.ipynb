{
 "cells": [
  {
   "cell_type": "markdown",
   "metadata": {},
   "source": [
    "# Learning\n",
    "\n",
    "A **Python** and **Jupyter** primer.\n",
    "\n",
    "**Shortcuts**:\n",
    "- Shift+Enter - run cell, select new cell (if no cell after, inserts)\n",
    "- more [here](https://sowingseasons.com/blog/reference/2016/01/jupyter-keyboard-shortcuts/23298516)\n",
    "- also quick shortcuts [here](https://nbviewer.jupyter.org/github/jupyter/notebook/blob/master/docs/source/examples/Notebook/Notebook%20Basics.ipynb#Keyboard-Navigation):\n",
    "  - S - saving the notebook"
   ]
  },
  {
   "cell_type": "markdown",
   "metadata": {},
   "source": [
    "#### Example 1 : Hello World"
   ]
  },
  {
   "cell_type": "code",
   "execution_count": 1,
   "metadata": {
    "collapsed": false
   },
   "outputs": [
    {
     "name": "stdout",
     "output_type": "stream",
     "text": [
      "Type your name here: Dan\n",
      "Hello, Python ! Signed, Dan \n",
      "\n"
     ]
    }
   ],
   "source": [
    "language = 'Python'\n",
    "name = input('Type your name here: ')\n",
    "if name:\n",
    "    helloStatement = 'Hello, ' + language + ' !' + ' Signed, ' + name\n",
    "    print(helloStatement, '\\n')\n",
    "else:\n",
    "    print('No name was typed')"
   ]
  },
  {
   "cell_type": "markdown",
   "metadata": {},
   "source": [
    "**Obs**: Since it's a Python 3 notebook, `input()` is `raw_input()` from Python 2.x (so it takes the raw data, it doesn't evaluate the content; so, you don't need to use double quotation on entering a value for the input). [source](https://stackoverflow.com/questions/954834/how-do-i-use-raw-input-in-python-3)"
   ]
  },
  {
   "cell_type": "markdown",
   "metadata": {},
   "source": [
    "- - -"
   ]
  },
  {
   "cell_type": "markdown",
   "metadata": {
    "collapsed": true
   },
   "source": [
    "# Python\n",
    "\n",
    "#### Key points\n",
    "- being interpreted (high-level), Python is very flexible:\n",
    "  - you don't need to declare the data types\n",
    "- identation is very important in Python - the enclosing of various instructions are made by identation (eg: for, if ...)\n",
    "- there are curently 2 types of Python: 2.7.x and 3.x - first is legacy, second is the future of Python\n",
    "\n",
    "### Data types\n",
    "\n",
    "\n",
    "Reference:\n",
    " - [Python official reference](https://docs.python.org/2/library/datatypes.html)\n",
    "\n",
    "#### Example 2: Data types examples"
   ]
  },
  {
   "cell_type": "code",
   "execution_count": 2,
   "metadata": {
    "collapsed": false
   },
   "outputs": [
    {
     "name": "stdout",
     "output_type": "stream",
     "text": [
      "truth\t <class 'bool'>\n",
      "number\t <class 'int'>\n",
      "floatnum <class 'float'>\n",
      "message\t <class 'str'>\n",
      "array\t <class 'list'>\n",
      "parts\t <class 'list'>\n",
      "set_parts  <class 'set'>\n",
      "dictionary <class 'dict'>\n"
     ]
    }
   ],
   "source": [
    "#Data types\n",
    "truth = False\n",
    "number = 3\n",
    "floatnum = 3.14\n",
    "message = 'sth'\n",
    "#messageList = ['s','t','h'] #this is a list, not a string\n",
    "#print('is messageList a str ? : ', isinstance(messageList, str)) #check with this\n",
    "#print('is message a str ? : ', isinstance(message, str)) \n",
    "array = [2, 3, 4]\n",
    "\n",
    "#print()\n",
    "\n",
    "print('truth\\t'   , type(truth))\n",
    "print('number\\t'  , type(number))\n",
    "print('floatnum', type(floatnum))\n",
    "print('message\\t' , type(message))\n",
    "print('array\\t'   , type(array))\n",
    "\n",
    "\n",
    "#Data structures\n",
    "my_long_sentence = 'This is a very very very very long sentence'\n",
    "parts = my_long_sentence.split(' ')\n",
    "\n",
    "#print(parts)\n",
    "print('parts\\t', type(parts)) #, ',', len(parts)\n",
    "\n",
    "set_parts = set(parts) #unique contraint\n",
    "#print(set_parts)\n",
    "print('set_parts ', type(set_parts)) #, ',', len(set_parts)\n",
    "\n",
    "dictionary = {\n",
    "    'word': 'definition'\n",
    "}\n",
    "print('dictionary', type(dictionary)) #also called maps\n"
   ]
  },
  {
   "cell_type": "markdown",
   "metadata": {
    "collapsed": true
   },
   "source": [
    "#### Example 3 : Operators"
   ]
  },
  {
   "cell_type": "code",
   "execution_count": 3,
   "metadata": {
    "collapsed": false
   },
   "outputs": [
    {
     "name": "stdout",
     "output_type": "stream",
     "text": [
      "Consider a radius of 6\n",
      "  Circumference of circle 37.68\n",
      "  Area of circle 12.56\n"
     ]
    }
   ],
   "source": [
    "pi = 3.14\n",
    "\n",
    "radiusCircle = 2 + 2*2\n",
    "diameterCircle = 2 * radiusCircle\n",
    "message = \"Consider a radius of \" + str(radiusCircle) #str() - equivalent to JS toString()\n",
    "\n",
    "areaOfCircle = pi * (radiusCircle ^ 2)  #needs paranthesis\n",
    "circumferenceCircle = pi * diameterCircle\n",
    "\n",
    "print(message)\n",
    "print('  Circumference of circle', circumferenceCircle)\n",
    "print('  Area of circle', areaOfCircle)"
   ]
  },
  {
   "cell_type": "markdown",
   "metadata": {},
   "source": [
    "#### Example 4: List\n",
    "\n",
    "\"A string is a list of characters\"-like statement => [array vs list in Python](https://stackoverflow.com/questions/176011/python-list-vs-array-when-to-use)\n",
    "\n",
    "official docs - [here](https://docs.python.org/2/tutorial/datastructures.html)\n",
    "alternate docs (tutorialspoint) - [here](http://www.tutorialspoint.com/python/python_lists.htm)\n",
    "\n",
    "Obs: By default, strings in lists are single-quotation, but if they contain a single-quote character, that specific element will be double-quoted.\n"
   ]
  },
  {
   "cell_type": "code",
   "execution_count": 4,
   "metadata": {
    "collapsed": false
   },
   "outputs": [
    {
     "name": "stdout",
     "output_type": "stream",
     "text": [
      "False\n",
      "Hello\n",
      "\n",
      "slice1 =  [True, False, 3.14, 25]\n",
      "slice3 =  ['Hello', [2, 3, 4]]\n",
      "list1 = [ True <class 'bool'>, False <class 'bool'>, 3.14 <class 'float'>, 25 <class 'int'>, Hello <class 'str'>, [2, 3, 4] <class 'list'> ] "
     ]
    }
   ],
   "source": [
    "#Lists\n",
    "list1 = [False, 3.14, 25, \"Hello\"];\n",
    "#print(type(list1))\n",
    "#print(list1)\n",
    "\n",
    "print(list1[0]) #first element\n",
    "print(list1[-1]) #last element\n",
    "print()\n",
    "\n",
    "list1.append([2, 3, 4]) #add to the end of the list\n",
    "list1.insert(0, True) # add to specific position of the list (doesn't replace the pre-existing element ...)\n",
    "#list1.remove(True) #first matching value - O(n)\n",
    "#del list1[0] #removes element - O(1)\n",
    "#list1.pop(0) #remove and return - O(1)\n",
    "\n",
    "#slicing list\n",
    "slice1 = list1[0:4] #elements with index >= 0 && index < 4 => so 0, 1, 2, 3\n",
    "print(\"slice1 = \", slice1)\n",
    "\n",
    "slice2 = list1[:4] #slice2 === slice1 ; left limit is start of list\n",
    "#print(\"slice2 = \", slice1)\n",
    "\n",
    "slice3 = list1[4:] #elements with index >= 4 && index < len(list1) ; right limit is end of list\n",
    "print(\"slice3 = \", slice3)\n",
    "\n",
    "\n",
    "#for ... in iterator\n",
    "\n",
    "print(\"list1 = [\", end=\" \")\n",
    "for elem in list1:\n",
    "    #if i == len(list1) - 1: #classical approach, with counter\n",
    "    #if list1.index(elem) == len(list1) - 1: #similar, without counter\n",
    "    #if elem == list1[len(list1)-1]:\n",
    "    if elem == list1[-1]:\n",
    "        print(elem, type(elem), end=\" \")\n",
    "    else:\n",
    "        print(elem, type(elem), end=\", \")\n",
    "print(\"]\", end=\" \")\n"
   ]
  },
  {
   "cell_type": "markdown",
   "metadata": {},
   "source": [
    "#### Example 5 : Dictionary\n",
    "\n",
    "Data structure based on key-value (eg: \"age\" : \"21\")\n",
    "\n",
    "Obs: When you try any operation on a key that doesn't exist, you get a \"Key Error\". \n",
    "\n",
    "Obs: To access the last element in a dictionary - `dictionary.keys()[-1]` is ok in Python 2.7, but triggers an indexing error in Python 3.x:\n",
    "  + workaround seems to be => `sorted(dictionary.keys())[-1]`\n",
    "\n"
   ]
  },
  {
   "cell_type": "code",
   "execution_count": 5,
   "metadata": {
    "collapsed": false
   },
   "outputs": [
    {
     "name": "stdout",
     "output_type": "stream",
     "text": [
      "<class 'dict'>\n",
      "{'age': 21, 10: True, 'name': 'Dan'}\n",
      "  Deleted key 10\n",
      "{'age': 21, 'language': 'python', 'name': 'Dan'}\n",
      "\n",
      "No of tuples:  3\n",
      "dict_keys(['age', 'language', 'name'])\n",
      "dict_values([21, 'python', 'Dan'])\n",
      "\n",
      "dictionary keys: age, language, name "
     ]
    }
   ],
   "source": [
    "dictionary = {\n",
    "    \"age\"  : 21,\n",
    "    \"name\" : \"Dan\",\n",
    "    10     : True\n",
    "}\n",
    "print(type(dictionary))\n",
    "print(dictionary)\n",
    "\n",
    "dictionary[\"language\"] = \"python\" #insertion\n",
    "#lookup / find value - find a value for that key\n",
    "#del dictionary[10] #remove\n",
    "#dictionary.pop(10)\n",
    "\n",
    "#safe delete - if key doesn't exist, it won't trigger a Key Error\n",
    "keyToDelete = 10\n",
    "if keyToDelete in dictionary:\n",
    "    dictionary.pop(keyToDelete)\n",
    "    print(\"  Deleted key\", keyToDelete)\n",
    "\n",
    "print(dictionary)\n",
    "print()\n",
    "\n",
    "\n",
    "#special functions\n",
    "print(\"No of tuples: \", len(dictionary.keys())) #no(keys)==no(values), so you can use dictionary.values() just as well\n",
    "print(dictionary.keys()) #list of all the keys\n",
    "print(dictionary.values()) # --//-- values\n",
    "\n",
    "#iterate through dictionary\n",
    "print(\"\\ndictionary keys:\", end=\" \")\n",
    "for key in sorted(dictionary.keys()):\n",
    "    if key == sorted(dictionary.keys())[-1]:\n",
    "        # you can always take a \n",
    "        #break\n",
    "        print(key, end=\" \")\n",
    "    else:\n",
    "        print(key, end=\", \")"
   ]
  },
  {
   "cell_type": "code",
   "execution_count": null,
   "metadata": {
    "collapsed": true
   },
   "outputs": [],
   "source": []
  }
 ],
 "metadata": {
  "kernelspec": {
   "display_name": "Python 3",
   "language": "python",
   "name": "python3"
  },
  "language_info": {
   "codemirror_mode": {
    "name": "ipython",
    "version": 3
   },
   "file_extension": ".py",
   "mimetype": "text/x-python",
   "name": "python",
   "nbconvert_exporter": "python",
   "pygments_lexer": "ipython3",
   "version": "3.5.2"
  }
 },
 "nbformat": 4,
 "nbformat_minor": 0
}
